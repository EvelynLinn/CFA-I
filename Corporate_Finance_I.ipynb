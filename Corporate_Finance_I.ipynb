{
 "cells": [
  {
   "cell_type": "code",
   "execution_count": 1,
   "metadata": {},
   "outputs": [],
   "source": [
    "import pandas as pd"
   ]
  },
  {
   "cell_type": "markdown",
   "metadata": {},
   "source": [
    "# Introduction to Corporate Governance and Other ESG Considerations"
   ]
  },
  {
   "cell_type": "markdown",
   "metadata": {},
   "source": [
    "The term `corporate governance` encompasses the following features:\n",
    "- A system of internal controls and procedures for managing organizational business (Organizational infrastructure is a company's corporate governance procedures and internal systems and practices for managing stakeholder relationships.)\n",
    "- A framework for defining the rights and responsibilities of individuals and groups within the organization\n",
    "- An arrangement of checks, balances, and incentives to minimize and manage conflicts between the interests of insiders and external stakeholders\n",
    "\n",
    "Corporate governance practices vary by jurisdiction, but most companies have policies and procedures based on either shareholder theory or stakeholder theory. \n",
    "#### Shareholder Theory \n",
    "The paramount responsibility of corporate managers is to maximize returns for shareholders. This is the view of corporate governance that is adopted in the influential Cadbury Report, written in 1991.\n",
    "#### Stakeholder Theory\n",
    "Shareholders are just one of the stakeholder groups that should be considered. Other categories of corporate stakeholders (e.g., customers, employees) are covered in more detail in the next section. This broader interpretation of corporate governance can be seen in the Principles of Corporate Governance framework, which was developed by the Organization for Economic Cooperation and Development (OECD) in 1999.\n",
    "## Stakeholder Groups\n",
    "The primary stakeholder groups of a corporation consist of:<br> \n",
    "#### Shareholders\n",
    "In terms of capital structure, shareholders are the most junior class of capital providers; in case of a company bankruptcy, shareholders receive proceeds only after all creditors’ claims are paid. Shareholder interests are, therefore, typically focused on growth in corporate profitability that maximizes the value of a company’s equity.\n",
    "\n",
    "Shareholders maintain control over the company through their power to elect the board of directors and vote for specified resolutions. The board of directors is expected to represent shareholders—protecting their interests, appointing senior management, providing strategic direction, and monitoring company and management performance.\n",
    "- Controlling shareholders: A particular shareholder or block of shareholders holding a percentage of shares that gives them significant voting power.\n",
    "- Minority shareholders: A particular shareholder or block of shareholders holding a small proportion of a company’s outstanding shares, resulting in a limited ability to exercise control in voting activities.\n",
    "  - Straight voting \n",
    "  - Related-party transactions (Such a situation could occur when a controlling shareholder maintains a financial interest in a transaction between the company and a third party and that transaction conflicts with the company’s best interests.)\n",
    "  - An equity structure with multiple share classes in which one class is non-voting or has limited voting rights creates a divergence between the ownership and control rights of different classes of shareholders. \n",
    "\n",
    "#### Creditors\n",
    "Most commonly bondholders and banks. Creditors do not hold voting power (unlike common shareholders) and typically have limited influence over a company’s operations. Creditors may protect themselves and exert some control over a company by using covenants, which restrict activities of the borrower. \n",
    "\n",
    "Creditors may also find their interests jeopardized when the company attempts to increase its borrowings to a level that would increase default risk.\n",
    "\n",
    "The distribution of excessive dividends to shareholders might also conflict with creditors’ interests if it impairs the company’s ability to pay interest and principal.\n",
    "#### Managers (or Executives)\n",
    "A company may be presented with a takeover offer that is attractive to shareholders but would jeopardize the interests of managers in preserving their employment at the company.\n",
    "#### Other Employees\n",
    "#### Board of Directors\n",
    "Elected by shareholders to protect shareholders’ interests, provide strategic direction, and monitor company and management performance. A board is typically structured as either `one-tier` or `two-tier`. A one-tier structure consists of a single board of directors, composed of executive and non-executive directors. A two-tier structure consists of two separate boards: (1) a supervisory board, which is primarily composed of non-executive directors, and (2) a management (executive) board, which is composed of executive directors. Directors are also typically concerned with their exposure to liability for breach of duty. Directors can mitigate this exposure by exercising appropriate levels of control over the company’s operations and its management. \n",
    "#### Customers\n",
    "#### Suppliers\n",
    "#### Governments/Regulators (and, by extension, Affected Individuals and Community Groups)\n",
    "\n",
    "### Principal–Agent and Other Relationships in Corporate Governance\n",
    "A principal–agent relationship (also known as an agency relationship) is created when a principal hires an agent to perform a particular task or service.\n",
    "1. Shareholder and Manager/Director Relationships\n",
    "2. Controlling and Minority Shareholder Relationships\n",
    "3. Manager and Board Relationships\n",
    "4. Shareholder versus Creditor Interests\n",
    "5. Other Stakeholder Conflicts\n",
    "  - Conflict between customers and shareholders\n",
    "  - Conflict between customers and suppliers\n",
    "  - Conflict between shareholders and governments or regulators"
   ]
  },
  {
   "cell_type": "markdown",
   "metadata": {},
   "source": [
    "## Overview and Mechanisms of Stakeholder Management\n",
    "### Overview of Stakeholder Management\n",
    "The `legal infrastructure` defines the framework for rights established by law and the availability or ease of legal recourse for any violation of these rights. \n",
    "\n",
    "The `contractual infrastructure` is shaped by the contractual arrangements entered into by the company and its stakeholders that help define and secure the rights of both parties. The organizational infrastructure refers to internal systems, governance procedures, and practices adopted and controlled by the company in managing its stakeholder relationships. \n",
    "\n",
    "Lastly, the `governmental infrastructure` refers to regulations imposed on companies.\n",
    "#### General Meetings (General Assemblies)\n",
    "General meetings enable shareholders to participate in discussions and to vote on major corporate matters and transactions that are not delegated to the board of directors.\n",
    "\n",
    "Proxy voting is a process that enables shareholders who are unable to attend a meeting to authorize another individual (for example, another shareholder or director) to vote on their behalf. Proxy voting is the most common form of investor participation in general meetings.\n",
    "\n",
    "Cumulative voting (as opposed to straight voting) enables each shareholder to accumulate and vote all his or her shares for a single candidate in an election involving more than one director. This voting process raises the likelihood that minority shareholders are represented by at least one director on the board, but it may not be compatible with majority voting standards for director elections in which share ownership is widely dispersed. \n",
    "\n",
    "Sell-out rights: rights that allow minority shareholders who have voted against a merger offer to force a bidder with more than 90% of the target’s voting rights to buy their shares at a fair price upon the deal’s approval.\n",
    "#### Board of Director Mechanisms\n",
    "The board guides managers on the company’s strategic direction, oversees and monitors management’s actions in implementing the strategy, and evaluates and rewards or disciplines management performance. The board also supervises the company’s audit, control, and risk management functions and ensures the adoption of proper governance systems and compliance with all applicable laws and regulations. \n",
    "#### The Audit Function\n",
    "The audit function is an integral component of any governance structure. The function represents the systems, controls, and policies/procedures in place to examine the company’s operations and financial records. Internal audits are conducted by an independent internal audit function or department. External auditors are independent from the company and conduct an annual audit of the company’s financial records to provide reasonable and independent assurance of the accuracy of financial statements and their fair representation of the financial position of the company.\n",
    "#### Reporting and Transparency\n",
    "Such information is essential for shareholders to\n",
    "- reduce the extent of information asymmetry between shareholders and managers;\n",
    "- assess the performance of the company and of its directors and managers;\n",
    "- make informed decisions in valuing the company and deciding to purchase, sell, or transfer shares; and\n",
    "- vote on key corporate matters or changes.\n",
    "\n",
    "#### Policies on Related-Party Transactions\n",
    "Directors and managers are required to disclose any actual or potential, or direct or indirect, conflict of interest they have with the company, as well as any material interests in a transaction that may affect the company.\n",
    "#### Remuneration Policies\n",
    "#### Say on Pay\n",
    "Say on pay enables shareholders to vote on executive remuneration matters. "
   ]
  },
  {
   "cell_type": "markdown",
   "metadata": {},
   "source": [
    "### Mechanisms to Mitigate Associated Stakeholder Risks\n",
    "#### Contractual Agreements with Creditors\n",
    "`Indenture`, which is a legal contract that describes the structure of a bond, the obligations of the issuer, and the rights of the bondholders. To limit creditors’ risk during the term of a bond (or loan), debtholders may choose to impose `covenants` within indentures or contracts. `Collaterals` are another tool often used by creditors to guarantee repayment, representing assets or financial guarantees that are above and beyond an issuer’s promise to repay its obligations.\n",
    "#### Employee Laws and Contracts\n",
    "#### Contractual Agreements with Customers and Suppliers\n",
    "#### Laws and Regulations"
   ]
  },
  {
   "cell_type": "markdown",
   "metadata": {},
   "source": [
    "## Company Boards and Committees\n",
    "### Composition of the Board of Directors\n",
    "Independent director is a specific type of non-executive director that does not have a material relationship with the company with regard to employment, ownership, or remuneration. The appointment of a lead independent director is an alternative that is sometimes practiced by boards of companies without CEO duality. <br>\n",
    "In many countries, the chief executive officer (CEO) and chairperson roles are increasingly separated.\n",
    "\n",
    "Duty of care “requires board members to act on a fully informed basis, in good faith, with due diligence and care.” The OECD further notes that duty of loyalty “is the duty of the board member to act in the interest of the company and shareholders. \n",
    "#### Board of Directors Committees\n",
    "- Audit Committee\n",
    "- Governance Committee\n",
    "- Remuneration or Compensation Committee\n",
    "- Nomination Committee\n",
    "- Risk Committee\n",
    "- Investment Committee\n",
    "### Factors in Analyzing Corporate Governance and Stakeholder Management\n",
    "#### Market Factors\n",
    "- Shareholder Engagement\n",
    "- Shareholder Activism<br>\n",
    "Shareholder activism refers to strategies used by shareholders to attempt to compel a company to act in a desired manner. Although shareholder activism can focus on a range of issues, including those involving social or political considerations, the primary motivation of activist shareholders is to increase shareholder value.<br>\n",
    "- Competition and Takeovers\n",
    "One mechanism is the `proxy contest` (or proxy fight). In a proxy contest, shareholders are persuaded to vote for a group seeking a controlling position on a company’s board of directors. \n",
    "\n",
    "Managerial teams can also be displaced through a `tender offer`, which involves shareholders selling their interests directly to the group seeking to gain control. A contest for corporate control may attract arbitrageurs and takeover specialists, who facilitate transfers of control by accumulating long positions from existing shareholders in the target company and later selling the positions to the highest bidder. \n",
    "\n",
    "Finally, a `hostile takeover` is an attempt by one entity to acquire a company without the consent of the company’s management.\n",
    "#### Non-market Factors\n",
    "- Legal Environment\n",
    "Countries that have a common law system (such as the United Kingdom, the United States, India, and Canada) are generally considered to offer superior protection of the interests of shareholders and creditors relative to those that have adopted a civil law system (such as France, Germany, Italy, and Japan). The key difference between the two systems lies in the ability of a judge to create laws. In civil law systems, laws are created primarily through statutes and codes enacted by the legislature. The role of judges is generally limited to rigidly applying the statutes and codes to the specific case brought before the court. In contrast, in common law systems, laws are created both from statutes enacted by the legislature and by judges through judicial opinions. In common law systems, shareholders and creditors have the ability to appeal to a judge to rule against management actions and decisions that are not expressly forbidden by statute or code, whereas in civil law systems, this option is generally not possible.\n",
    "- The Media\n",
    "- The Corporate Governance Industry\n",
    "### Risks and Benefits of Corporate Governance and Stakeholder Management\n"
   ]
  },
  {
   "cell_type": "markdown",
   "metadata": {},
   "source": [
    "## Factors Relevant to Corporate Governance and Stakeholder Management Analysis\n",
    "The analysis of corporate governance, stakeholder management, and other non-financial (often termed “extra-financial”) considerations is inherently a subjective exercise. Governance practices that may raise the risk profile of one company may be perfectly acceptable in a different context, depending on geographic norms, mitigating circumstances, or the investor’s risk tolerance and investment thesis. \n",
    "\n",
    "Some key questions that analysts may consider when assessing a company’s corporate governance or stakeholder management system are as follows:\n",
    "- What is the company’s ownership and voting structure among shareholders?\n",
    "- Who represents shareholders on this company’s board?\n",
    "- What are the main drivers of the management team’s remuneration and incentive structure?\n",
    "- Who are the significant investors in the company?\n",
    "- How robust are the shareholder rights at the company, including relative to peers?\n",
    "- How effectively is the company managing long-term risks, such as securing access to necessary resources, managing human capital, exhibiting integrity and leadership, and strengthening the long-term sustainability of the enterprise?\n",
    "\n",
    "#### Economic Ownership and Voting Control\n",
    "#### Board of Directors Representation\n",
    "#### Remuneration and Company Performance\n",
    "#### Investors in the Company\n",
    "`Cross-shareholdings` are still prevalent in a number of markets. This situation occurs when a company, particularly a publicly listed one, holds a large, passive, minority stake in another company. Such holdings generally help to protect management from shareholder pressures because implicit in a cross-shareholding arrangement is the guarantee that the owner of the shares will support management on all voting issues. In effect, these shareholdings act as takeover defenses.\n",
    "\n",
    "The presence of a sizable `affiliated stockholder` (such as an individual, family trust, endowment, or private equity fund) can shield a company from the effects of voting by outside shareholders. In certain countries, the presence of such shareholders is common, viewed by local market participants as a means of enhancing stability, strengthening the relationship between companies and their business partners, and fostering a long-term perspective by protecting the company against hostile takeover bids.\n",
    "\n",
    "The presence of activist shareholders can meaningfully and rapidly change the investment thesis for a company. Experienced activists, together with short-term-oriented investors who follow their activities, can create substantial turnover in a company’s shareholder composition in a short amount of time. This is because an activist often serves as a catalyst for new strategic alternatives at a company and can attract new investors and/or arbitrageurs.\n",
    "#### Strength of Shareholders’ Rights\n",
    "#### Managing Long-Term Risks"
   ]
  },
  {
   "cell_type": "markdown",
   "metadata": {},
   "source": [
    "## ESG Considerations for Investors and Analysts\n",
    "### ESG Implementation Approaches\n",
    "Specific ESG investment styles include negative screening, positive screening, relative/best-in-class screening, full integration, overlay/portfolio tilt, risk factor/risk premium investing, thematic investment, and engagement/active ownership.\n",
    "#### Negative Screening\n",
    "#### Positive Screening\n",
    "Positive screening, typically implemented through an ESG ranking or scoring approach, is the inclusion of certain sectors, companies, or practices in a fund or portfolio on the basis of specific ESG criteria.\n",
    "#### Full integration \n",
    "Full integration into individual stock valuation is the explicit inclusion of ESG factors into traditional financial analysis of individual stocks (e.g., as inputs into cash flow forecasts and/or cost-of-capital estimates). The focus of full integration is to identify risks and opportunities arising from ESG factors and to determine whether a company is properly managing its environmental, social, and governance resources in accordance with a sustainable business model.\n",
    "#### Overlay/portfolio tilt\n",
    "#### Thematic investment\n",
    "#### Engagement/active ownership\n",
    "\n",
    "### Catalysts for ESG Growth\n",
    "\n",
    "### ESG Market Overview\n",
    "\n",
    "### ESG Factors in Investment Analysis\n",
    "An ESG factor is considered to be material when it is believed to have an impact on a company’s long-term business model.\n",
    "\n",
    "One area of debate has been whether the consideration of ESG factors is consistent with fiduciary duty—particularly when overseeing and managing pension fund assets. Accepting lower returns or assuming greater risk in a private pension plan to promote environmental, social, or public policy causes would violate fiduciary duty and is prohibited by ERISA."
   ]
  },
  {
   "cell_type": "markdown",
   "metadata": {},
   "source": [
    "# Capital Budgeting"
   ]
  },
  {
   "cell_type": "markdown",
   "metadata": {},
   "source": [
    "Capital budgeting is the process that companies use for decision making on capital projects—those projects with a life of a year or more.\n",
    "## The Capital Budgeting Process\n",
    "**Step One**: Generating good investment ideas to consider is the most important step in the process.\n",
    "\n",
    "**Step Two**: Analyzing Individual Proposals—This step involves gathering the information to forecast `cash flows` for each project and then evaluating the project’s `profitability`.\n",
    "\n",
    "**Step Three**: Planning the Capital Budget—The company must organize the profitable proposals into a coordinated whole that fits within the company’s overall strategies, and it also must consider the projects’ timing. \n",
    "\n",
    "**Step Four**: Monitoring and Post-auditing—In a post-audit, actual results are compared to planned or predicted results, and any differences must be explained. For example, how do the revenues, expenses, and cash flows realized from an investment compare to the predictions? \n",
    "\n",
    "Post-auditing capital projects is important for several reasons. First, it helps monitor the forecasts and analysis that underlie the capital budgeting process. Systematic errors, such as overly optimistic forecasts, become apparent. Second, it helps improve business operations. If sales or costs are out of line, it will focus attention on bringing performance closer to expectations if at all possible. Finally, monitoring and post-auditing recent capital investments will produce concrete ideas for future investments. Managers can decide to invest more heavily in profitable areas and scale down or cancel investments in areas that are disappointing.\n",
    "\n",
    "**Costs to finance the project are taken into account when the cash flows are discounted at the appropriate cost of capital; including interest costs in the cash flows would result in double-counting the cost of debt.**\n",
    "\n",
    "Categories of Capital Budgeting Projects:\n",
    "- Replacement projects\n",
    "- Expansion projects\n",
    "- New products and services\n",
    "- Regulatory, safety, and environmental projects\n",
    "- Other. The projects above are all susceptible to capital budgeting analysis, and they can be accepted or rejected using the net present value (NPV) or some other criterion. Some projects escape such analysis. These are either pet projects of someone in the company (such as the CEO buying a new aircraft) or so risky that they are difficult to analyze by the usual methods (such as some research and development decisions)."
   ]
  },
  {
   "cell_type": "markdown",
   "metadata": {},
   "source": [
    "## Basic Principles of Capital Budgeting\n",
    "### Assumptions\n",
    "1. Decisions are based on `cash flows`. The decisions are not based on accounting concepts, such as net income. Furthermore, intangible costs and benefits are often ignored because, if they are real, they should result in cash flows at some other time.\n",
    "2. `Timing of cash flows` is crucial. Analysts make an extraordinary effort to detail precisely when cash flows occur.\n",
    "3. `Cash flows are based on opportunity costs`. What are the incremental cash flows that occur with an investment compared to what they would have been without the investment?\n",
    "4. Cash flows are analyzed on an `after-tax basis`. Taxes must be fully reflected in all capital budgeting decisions.\n",
    "5. `Financing costs` are ignored. This may seem unrealistic, but it is not. Most of the time, analysts want to know the after-tax operating cash flows that result from a capital investment. Then, these after-tax cash flows and the investment outlays are discounted at the “`required rate of return`” (rate used in discounting the cash flows) to find the `net present value (NPV)`. Financing costs are reflected in the required rate of return. If we included financing costs in the cash flows and in the discount rate, we would be `double-counting` the financing costs. \n",
    "6. Capital budgeting cash flows are not `accounting net income`. Accounting net income is reduced by noncash charges such as accounting depreciation. Furthermore, to reflect the cost of debt financing, interest expenses are also subtracted from accounting net income. (No subtraction is made for the cost of equity financing in arriving at accounting net income.) Accounting net income also differs from `economic income`, which is the cash inflow plus the change in the market value of the company. Economic income does not subtract the cost of debt financing, and it is based on the changes in the market value of the company, not changes in its book value (accounting depreciation).\n",
    "\n",
    "The required rate of return is the discount rate that investors should require given the riskiness of the project. This discount rate is frequently called the “opportunity cost of funds” or the “cost of capital.” If the company can invest elsewhere and earn a return of r, or if the company can repay its sources of capital and save a cost of r, then r is the company’s opportunity cost of funds. If the company cannot earn more than its opportunity cost of funds on an investment, it should not undertake that investment. Unless an investment earns more than the cost of funds from its suppliers of capital, the investment should not be undertaken"
   ]
  },
  {
   "cell_type": "markdown",
   "metadata": {},
   "source": [
    "#### Important Concepts\n",
    "- A `sunk cost` is one that has already been incurred. \n",
    "- An `opportunity cost` is what a resource is worth in its next-best use. \n",
    "- An `incremental cash flow` is the cash flow that is realized because of a decision: the cash flow with a decision minus the cash flow without that decision. If opportunity costs are correctly assessed, the incremental cash flows provide a sound basis for capital budgeting.\n",
    "- An `externality` is the effect of an investment on other things besides the investment itself. Frequently, an investment affects the cash flows of other parts of the company. If possible, these should be part of the investment decision. Sometimes externalities occur outside of the company. Cannibalization occurs when an investment takes customers and sales away from another part of the company.\n",
    "- `Conventional versus nonconventional cash flows`—A conventional cash flow pattern is one with an initial outflow followed by a series of inflows. In a nonconventional cash flow pattern, the initial outflow is not followed by inflows only, but the cash flows can flip from positive to negative again (or even change signs several times). An investment that involved `outlays` (negative cash flows) for the first couple of years that were then followed by positive cash flows would be considered to have a conventional pattern. If cash flows change signs once, the pattern is conventional. If cash flows change signs two or more times, the pattern is nonconventional.\n",
    "\n",
    "#### Types of Project Interactions (that make the incremental cash flow analysis challenging)\n",
    "1. Independent projects versus mutually exclusive projects—Mutually exclusive projects compete directly with each other. For example, if Projects A and B are mutually exclusive, you can choose A or B, but you cannot choose both. \n",
    "2. Project `sequencing`—Many projects are sequenced through time, so that investing in a project creates the option to invest in future projects. \n",
    "3. Unlimited funds versus capital rationing—An unlimited funds environment assumes that the company can raise the funds it wants for all profitable projects simply by paying the required rate of return. Capital rationing exists when the company has a fixed amount of funds to invest. If the company has more profitable projects than it has funds for, it must allocate the funds to achieve the maximum shareholder value subject to the funding constraints."
   ]
  },
  {
   "cell_type": "markdown",
   "metadata": {},
   "source": [
    "## Investment Decision Criteria\n",
    "The two most comprehensive measures of whether a project is profitable or unprofitable are the net present value (NPV) and internal rate of return (IRR). In addition to these, four other criteria are frequently used: the payback period, discounted payback period, average accounting rate of return (AAR), and profitability index (PI).\n",
    "### Net Present Value (NPV)\n",
    "For a project with one investment outlay, made initially, the net present value (NPV) is the present value of the future after-tax cash flows minus the investment outlay, or\n",
    "$$NPV=\\sum_{t=1}^n{\\frac{CF_t}{(1+r)^t}}−Outlay$$\n",
    "<div style=\"text-align: right\"> Equation 1 </div>\n",
    "where\n",
    "$CF_t$\t=\tafter-tax cash flow at time $t$<br>\n",
    "$r$\t=\trequired rate of return for the investment<br>\n",
    "Outlay\t=\tinvestment cash flow at time zero\n",
    "\n",
    "Many investments have cash flow patterns in which outflows may occur not only at time zero, but also at future dates. It is useful to consider the NPV to be the present value of all cash flows:\n",
    "\n",
    "$$NPV=CF_0+\\frac{CF_1}{(1+r)^1}+\\frac{CF_2}{(1+r)^2}+⋯+\\frac{CF_n}{(1+r)^n}$$ or\n",
    "<div style=\"text-align: right\"> Equation 2 </div>\n",
    "$$NPV=\\sum_{t=0}^n{\\frac{CF_t}{(1+r)^t}}$$\n",
    "\n",
    "### Internal Rate of Return (IRR)\n",
    "For a project with one investment outlay, made initially, the IRR is the `discount rate` that makes the present value of the future after-tax cash flows equal that investment outlay. The internal rate of return method assumes that the cash flows from a project are `reinvested` at the project’s IRR; the net present value (NPV) method assumes that cash flows are reinvested at the `cost of capital`.\n",
    "$$\\sum_{t=1}^n{\\frac{CF_t}{(1+IRR)^t}}=Outlay$$\n",
    "\n",
    "$$\\sum_{t=1}^n{\\frac{CF_t}{(1+IRR)^t}}−Outlay=0$$\n",
    "<div style=\"text-align: right\"> Equation 3 </div>\n",
    "Algebraically, this equation would be very difficult to solve. We normally resort to trial and error, systematically choosing various discount rates until we find one, the IRR, that satisfies the equation. \n",
    "\n",
    "\n",
    "The decision rule for the IRR is to invest if the IRR exceeds the `required rate of return` for a project:\n",
    "\n",
    "Invest if\t$IRR > r$<br>\n",
    "Do not invest if\t$IRR < r$\n",
    "\n",
    "The required rate of return is often termed the `hurdle rate`, the rate that a project’s IRR must exceed for the project to be accepted. \n",
    "\n",
    "Many investments have cash flow patterns in which the outlays occur at time zero and at future dates. Thus, it is common to define the IRR as the discount rate that makes the present values of all cash flows sum to zero:\n",
    "$$\\sum_{t=0}^n{\\frac{CF_t}{(1+IRR)^t}}=0$$\n",
    "<div style=\"text-align: right\"> Equation 4 </div>\n",
    "\n",
    "### Profitability Index (PI)\n",
    "The profitability index (PI) is the present value of a project’s future cash flows divided by the initial investment. It can be expressed as\n",
    "$$PI=\\frac{PV\\ of\\ future\\ cash\\ flows}{Initial\\ investment}=1+\\frac{NPV}{Initial\\ investment}$$\n",
    "<div style=\"text-align: right\"> Equation 5</div>\n",
    "\n",
    "You can see that the PI is closely related to the NPV. The PI is the ratio of the PV of future cash flows to the initial investment, whereas an NPV is the difference between the PV of future cash flows and the initial investment. Whenever the NPV is positive, the PI will be greater than 1.0; conversely, whenever the NPV is negative, the PI will be less than 1.0. The investment decision rule for the PI is as follows:\n",
    "\n",
    "Invest if\t$PI > 1.0$<br>\n",
    "Do not invest if\t$PI < 1.0$\n",
    "### Payback Period\n",
    "Since the cash flows are not discounted at the project’s required rate of return, the payback period ignores the time value of money and the risk of the project. Additionally, the payback period ignores cash flows after the payback period is reached.\n",
    "\n",
    "The payback period may also be used as an indicator of project liquidity. A project with a two-year payback may be more liquid than another project with a longer payback.\n",
    "### Discounted Payback Period\n",
    "The discounted payback period relies on discounted cash flows, much as the NPV criterion does. If a project has a negative NPV, it will usually not have a discounted payback period since it never recovers the initial investment.\n",
    "\n",
    "The discounted payback does account for the time value of money and risk within the discounted payback period, but it ignores cash flows after the discounted payback period is reached. This drawback has two consequences. \n",
    "- First, the discounted payback period is not a good measure of profitability because it ignores these cash flows. \n",
    "- Second, another idiosyncrasy of the discounted payback period comes from the possibility of negative cash flows after the discounted payback period is reached. It is possible for a project to have a negative NPV but to have a positive cumulative discounted cash flow in the middle of its life and, thus, a reasonable discounted payback period. The NPV and IRR, which consider all of a project’s cash flows, do not suffer from this problem.\n",
    "\n",
    "### Average Accounting Rate of Return (AAR)\n",
    "The average accounting rate of return (AAR) can be defined as\n",
    "$$AAR=\\frac{Average\\ net\\ income}{Average\\ book\\ value}$$\n",
    "\n",
    "The AAR has some important disadvantages:\n",
    "- Unlike the other capital budgeting criteria discussed here, the AAR is based on accounting numbers and not based on cash flows. This is an important conceptual and practical limitation. \n",
    "- The AAR also does not account for the time value of money, and there is no conceptually sound cutoff for the AAR that distinguishes between profitable and unprofitable investments. \n",
    "- The AAR is frequently calculated in different ways, so the analyst should verify the formula behind any AAR numbers that are supplied by someone else."
   ]
  },
  {
   "cell_type": "markdown",
   "metadata": {},
   "source": [
    "### NPV Profile and Ranking Conflicts Between NPV and IRR\n",
    "#### NPV Profile\n",
    "Three interesting points on this NPV profile are where the profile goes through the vertical axis (the NPV when the discount rate is zero), where the profile goes through the horizontal axis (where the discount rate is the IRR), and the NPV for the required rate of return (NPV is €13.136 million when the discount rate is the 10 percent required rate of return).\n",
    "#### Ranking Conflicts between NPV and IRR\n",
    "For a single conventional project, the NPV and IRR will agree on whether to invest or to not invest. For independent, conventional projects, no conflict exists between the decision rules for the NPV and IRR. However, in the case of two mutually exclusive projects, the two criteria will sometimes disagree. \n",
    "\n",
    "Whenever the NPV and IRR rank two mutually exclusive projects differently, you should choose the project based on the NPV.\n",
    "\n",
    "`reinvestment assumption`. Mathematically, whenever you discount a cash flow at a particular discount rate, you are implicitly assuming that you can reinvest a cash flow at that same discount rate.\n",
    "\n",
    "Another circumstance that frequently causes mutually exclusive projects to be ranked differently by NPV and IRR criteria is project scale—the sizes of the projects. Would you rather have a small project with a higher rate of return or a large project with a lower rate of return? Sometimes, the larger, low rate of return project has the better NPV. \n",
    "\n",
    "##### Summary\n",
    "When the choice is between two mutually exclusive projects and the NPV and IRR rank the two projects differently, the NPV criterion is strongly preferred. There are good reasons for this preference. The NPV shows the amount of gain, or wealth increase, as a currency amount. The NPV assumes reinvestment of cash flows at the required rate of return, while the IRR assumes reinvestment at the IRR. The reinvestment assumption of the NPV is the more economically realistic. The IRR does give you a rate of return, but the IRR could be for a small investment or for only a short period of time. As a practical matter, once a corporation has the data to calculate the NPV, it is fairly trivial to go ahead and calculate the IRR and other capital budgeting criteria. However, the most appropriate and theoretically sound criterion is the NPV."
   ]
  },
  {
   "cell_type": "markdown",
   "metadata": {},
   "source": [
    "#### Multiple IRR and No IRR Problems\n",
    "For conventional projects that have outlays followed by inflows—negative cash flows followed by positive cash flows—the multiple IRR problem cannot occur. However, for nonconventional projects, as in the example above, the multiple IRR problem can occur. The IRR equation is essentially an $n^{th}$ degree polynomial. An $n^{th}$ degree polynomial can have up to $n$ solutions, although it will have no more real solutions than the number of cash flow sign changes. For example, a project with two sign changes could have zero, one, or two IRRs. Having two sign changes does not mean that you will have multiple IRRs; it just means that you might. Fortunately, most capital budgeting projects have only one IRR. Analysts should always be aware of the unusual cash flow patterns that can generate the multiple IRR problem."
   ]
  },
  {
   "cell_type": "markdown",
   "metadata": {},
   "source": [
    "## Usage of Capital Budgeting Methods\n",
    "Expected relations among an investment’s NPV, company value, and share price:\n",
    "\n",
    "The value of a company is the value of its existing investments plus the net present values of all of its future investments. If an analyst learns of an investment, the impact of that investment on the stock price will depend on whether the investment’s profitability is more or less than expected. For example, an analyst could learn of a positive NPV project, but if the project’s profitability is less than expectations, this stock might drop in price on the news. Alternatively, news of a particular capital project might be considered as a signal about other capital projects underway or in the future. A project that by itself might add, say, €0.25 to the value of the stock might signal the existence of other profitable projects. News of this project might increase the stock price by far more than €0.25."
   ]
  },
  {
   "cell_type": "markdown",
   "metadata": {},
   "source": [
    "Example: NPVs and Stock Prices\n",
    "\n",
    "Freitag Corporation is investing €600 million in distribution facilities. The present value of the future after-tax cash flows is estimated to be €850 million. Freitag has 200 million outstanding shares with a current market price of €32.00 per share. This investment is new information, and it is independent of other expectations about the company. What should be the effect of the project on the value of the company and the stock price?"
   ]
  },
  {
   "cell_type": "markdown",
   "metadata": {},
   "source": [
    "The NPV of the project is €850 million − €600 million = €250 million. The total market value of the company prior to the investment is €32.00 × 200 million shares = €6,400 million. The value of the company should increase by €250 million to €6,650 million. The price per share should increase by the NPV per share, or €250 million/200 million shares = €1.25 per share. The share price should increase from €32.00 to €33.25."
   ]
  },
  {
   "cell_type": "markdown",
   "metadata": {},
   "source": [
    "# Cost of Capital"
   ]
  }
 ],
 "metadata": {
  "kernelspec": {
   "display_name": "Python 3",
   "language": "python",
   "name": "python3"
  },
  "language_info": {
   "codemirror_mode": {
    "name": "ipython",
    "version": 3
   },
   "file_extension": ".py",
   "mimetype": "text/x-python",
   "name": "python",
   "nbconvert_exporter": "python",
   "pygments_lexer": "ipython3",
   "version": "3.7.3"
  }
 },
 "nbformat": 4,
 "nbformat_minor": 4
}
