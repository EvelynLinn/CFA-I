{
 "cells": [
  {
   "cell_type": "code",
   "execution_count": 1,
   "metadata": {},
   "outputs": [],
   "source": [
    "import pandas as pd"
   ]
  },
  {
   "cell_type": "markdown",
   "metadata": {},
   "source": [
    "# Introduction to Corporate Governance and Other ESG Considerations"
   ]
  },
  {
   "cell_type": "markdown",
   "metadata": {},
   "source": [
    "The term `corporate governance` encompasses the following features:\n",
    "- A system of internal controls and procedures for managing organizational business (Organizational infrastructure is a company's corporate governance procedures and internal systems and practices for managing stakeholder relationships.)\n",
    "- A framework for defining the rights and responsibilities of individuals and groups within the organization\n",
    "- An arrangement of checks, balances, and incentives to minimize and manage conflicts between the interests of insiders and external stakeholders\n",
    "\n",
    "Corporate governance practices vary by jurisdiction, but most companies have policies and procedures based on either shareholder theory or stakeholder theory. \n",
    "#### Shareholder Theory \n",
    "The paramount responsibility of corporate managers is to maximize returns for shareholders. This is the view of corporate governance that is adopted in the influential Cadbury Report, written in 1991.\n",
    "#### Stakeholder Theory\n",
    "Shareholders are just one of the stakeholder groups that should be considered. Other categories of corporate stakeholders (e.g., customers, employees) are covered in more detail in the next section. This broader interpretation of corporate governance can be seen in the Principles of Corporate Governance framework, which was developed by the Organization for Economic Cooperation and Development (OECD) in 1999.\n",
    "## Stakeholder Groups\n",
    "The primary stakeholder groups of a corporation consist of:<br> \n",
    "#### Shareholders\n",
    "In terms of capital structure, shareholders are the most junior class of capital providers; in case of a company bankruptcy, shareholders receive proceeds only after all creditors’ claims are paid. Shareholder interests are, therefore, typically focused on growth in corporate profitability that maximizes the value of a company’s equity.\n",
    "\n",
    "Shareholders maintain control over the company through their power to elect the board of directors and vote for specified resolutions. The board of directors is expected to represent shareholders—protecting their interests, appointing senior management, providing strategic direction, and monitoring company and management performance.\n",
    "- Controlling shareholders: A particular shareholder or block of shareholders holding a percentage of shares that gives them significant voting power.\n",
    "- Minority shareholders: A particular shareholder or block of shareholders holding a small proportion of a company’s outstanding shares, resulting in a limited ability to exercise control in voting activities.\n",
    "  - Straight voting \n",
    "  - Related-party transactions (Such a situation could occur when a controlling shareholder maintains a financial interest in a transaction between the company and a third party and that transaction conflicts with the company’s best interests.)\n",
    "  - An equity structure with multiple share classes in which one class is non-voting or has limited voting rights creates a divergence between the ownership and control rights of different classes of shareholders. \n",
    "\n",
    "#### Creditors\n",
    "Most commonly bondholders and banks. Creditors do not hold voting power (unlike common shareholders) and typically have limited influence over a company’s operations. Creditors may protect themselves and exert some control over a company by using covenants, which restrict activities of the borrower. \n",
    "\n",
    "Creditors may also find their interests jeopardized when the company attempts to increase its borrowings to a level that would increase default risk.\n",
    "\n",
    "The distribution of excessive dividends to shareholders might also conflict with creditors’ interests if it impairs the company’s ability to pay interest and principal.\n",
    "#### Managers (or Executives)\n",
    "A company may be presented with a takeover offer that is attractive to shareholders but would jeopardize the interests of managers in preserving their employment at the company.\n",
    "#### Other Employees\n",
    "#### Board of Directors\n",
    "Elected by shareholders to protect shareholders’ interests, provide strategic direction, and monitor company and management performance. A board is typically structured as either `one-tier` or `two-tier`. A one-tier structure consists of a single board of directors, composed of executive and non-executive directors. A two-tier structure consists of two separate boards: (1) a supervisory board, which is primarily composed of non-executive directors, and (2) a management (executive) board, which is composed of executive directors. Directors are also typically concerned with their exposure to liability for breach of duty. Directors can mitigate this exposure by exercising appropriate levels of control over the company’s operations and its management. \n",
    "#### Customers\n",
    "#### Suppliers\n",
    "#### Governments/Regulators (and, by extension, Affected Individuals and Community Groups)\n",
    "\n",
    "### Principal–Agent and Other Relationships in Corporate Governance\n",
    "A principal–agent relationship (also known as an agency relationship) is created when a principal hires an agent to perform a particular task or service.\n",
    "1. Shareholder and Manager/Director Relationships\n",
    "2. Controlling and Minority Shareholder Relationships\n",
    "3. Manager and Board Relationships\n",
    "4. Shareholder versus Creditor Interests\n",
    "5. Other Stakeholder Conflicts\n",
    "  - Conflict between customers and shareholders\n",
    "  - Conflict between customers and suppliers\n",
    "  - Conflict between shareholders and governments or regulators"
   ]
  },
  {
   "cell_type": "markdown",
   "metadata": {},
   "source": [
    "## Overview and Mechanisms of Stakeholder Management\n",
    "### Overview of Stakeholder Management\n",
    "The `legal infrastructure` defines the framework for rights established by law and the availability or ease of legal recourse for any violation of these rights. \n",
    "\n",
    "The `contractual infrastructure` is shaped by the contractual arrangements entered into by the company and its stakeholders that help define and secure the rights of both parties. The organizational infrastructure refers to internal systems, governance procedures, and practices adopted and controlled by the company in managing its stakeholder relationships. \n",
    "\n",
    "Lastly, the `governmental infrastructure` refers to regulations imposed on companies.\n",
    "#### General Meetings (General Assemblies)\n",
    "General meetings enable shareholders to participate in discussions and to vote on major corporate matters and transactions that are not delegated to the board of directors.\n",
    "\n",
    "Proxy voting is a process that enables shareholders who are unable to attend a meeting to authorize another individual (for example, another shareholder or director) to vote on their behalf. Proxy voting is the most common form of investor participation in general meetings.\n",
    "\n",
    "Cumulative voting (as opposed to straight voting) enables each shareholder to accumulate and vote all his or her shares for a single candidate in an election involving more than one director. This voting process raises the likelihood that minority shareholders are represented by at least one director on the board, but it may not be compatible with majority voting standards for director elections in which share ownership is widely dispersed. \n",
    "\n",
    "Sell-out rights: rights that allow minority shareholders who have voted against a merger offer to force a bidder with more than 90% of the target’s voting rights to buy their shares at a fair price upon the deal’s approval.\n",
    "#### Board of Director Mechanisms\n",
    "The board guides managers on the company’s strategic direction, oversees and monitors management’s actions in implementing the strategy, and evaluates and rewards or disciplines management performance. The board also supervises the company’s audit, control, and risk management functions and ensures the adoption of proper governance systems and compliance with all applicable laws and regulations. \n",
    "#### The Audit Function\n",
    "The audit function is an integral component of any governance structure. The function represents the systems, controls, and policies/procedures in place to examine the company’s operations and financial records. Internal audits are conducted by an independent internal audit function or department. External auditors are independent from the company and conduct an annual audit of the company’s financial records to provide reasonable and independent assurance of the accuracy of financial statements and their fair representation of the financial position of the company.\n",
    "#### Reporting and Transparency\n",
    "Such information is essential for shareholders to\n",
    "- reduce the extent of information asymmetry between shareholders and managers;\n",
    "- assess the performance of the company and of its directors and managers;\n",
    "- make informed decisions in valuing the company and deciding to purchase, sell, or transfer shares; and\n",
    "- vote on key corporate matters or changes.\n",
    "\n",
    "#### Policies on Related-Party Transactions\n",
    "Directors and managers are required to disclose any actual or potential, or direct or indirect, conflict of interest they have with the company, as well as any material interests in a transaction that may affect the company.\n",
    "#### Remuneration Policies\n",
    "#### Say on Pay\n",
    "Say on pay enables shareholders to vote on executive remuneration matters. "
   ]
  },
  {
   "cell_type": "markdown",
   "metadata": {},
   "source": [
    "### Mechanisms to Mitigate Associated Stakeholder Risks\n",
    "#### Contractual Agreements with Creditors\n",
    "`Indenture`, which is a legal contract that describes the structure of a bond, the obligations of the issuer, and the rights of the bondholders. To limit creditors’ risk during the term of a bond (or loan), debtholders may choose to impose `covenants` within indentures or contracts. `Collaterals` are another tool often used by creditors to guarantee repayment, representing assets or financial guarantees that are above and beyond an issuer’s promise to repay its obligations.\n",
    "#### Employee Laws and Contracts\n",
    "#### Contractual Agreements with Customers and Suppliers\n",
    "#### Laws and Regulations"
   ]
  },
  {
   "cell_type": "markdown",
   "metadata": {},
   "source": [
    "## Company Boards and Committees\n",
    "### Composition of the Board of Directors\n",
    "Independent director is a specific type of non-executive director that does not have a material relationship with the company with regard to employment, ownership, or remuneration. The appointment of a lead independent director is an alternative that is sometimes practiced by boards of companies without CEO duality. <br>\n",
    "In many countries, the chief executive officer (CEO) and chairperson roles are increasingly separated.\n",
    "\n",
    "Duty of care “requires board members to act on a fully informed basis, in good faith, with due diligence and care.” The OECD further notes that duty of loyalty “is the duty of the board member to act in the interest of the company and shareholders. \n",
    "#### Board of Directors Committees\n",
    "- Audit Committee\n",
    "- Governance Committee\n",
    "- Remuneration or Compensation Committee\n",
    "- Nomination Committee\n",
    "- Risk Committee\n",
    "- Investment Committee\n",
    "### Factors in Analyzing Corporate Governance and Stakeholder Management\n",
    "#### Market Factors\n",
    "- Shareholder Engagement\n",
    "- Shareholder Activism<br>\n",
    "Shareholder activism refers to strategies used by shareholders to attempt to compel a company to act in a desired manner. Although shareholder activism can focus on a range of issues, including those involving social or political considerations, the primary motivation of activist shareholders is to increase shareholder value.<br>\n",
    "- Competition and Takeovers\n",
    "One mechanism is the `proxy contest` (or proxy fight). In a proxy contest, shareholders are persuaded to vote for a group seeking a controlling position on a company’s board of directors. \n",
    "\n",
    "Managerial teams can also be displaced through a `tender offer`, which involves shareholders selling their interests directly to the group seeking to gain control. A contest for corporate control may attract arbitrageurs and takeover specialists, who facilitate transfers of control by accumulating long positions from existing shareholders in the target company and later selling the positions to the highest bidder. \n",
    "\n",
    "Finally, a `hostile takeover` is an attempt by one entity to acquire a company without the consent of the company’s management.\n",
    "#### Non-market Factors\n",
    "- Legal Environment\n",
    "Countries that have a common law system (such as the United Kingdom, the United States, India, and Canada) are generally considered to offer superior protection of the interests of shareholders and creditors relative to those that have adopted a civil law system (such as France, Germany, Italy, and Japan). The key difference between the two systems lies in the ability of a judge to create laws. In civil law systems, laws are created primarily through statutes and codes enacted by the legislature. The role of judges is generally limited to rigidly applying the statutes and codes to the specific case brought before the court. In contrast, in common law systems, laws are created both from statutes enacted by the legislature and by judges through judicial opinions. In common law systems, shareholders and creditors have the ability to appeal to a judge to rule against management actions and decisions that are not expressly forbidden by statute or code, whereas in civil law systems, this option is generally not possible.\n",
    "- The Media\n",
    "- The Corporate Governance Industry\n",
    "### Risks and Benefits of Corporate Governance and Stakeholder Management\n"
   ]
  },
  {
   "cell_type": "markdown",
   "metadata": {},
   "source": [
    "## Factors Relevant to Corporate Governance and Stakeholder Management Analysis\n",
    "The analysis of corporate governance, stakeholder management, and other non-financial (often termed “extra-financial”) considerations is inherently a subjective exercise. Governance practices that may raise the risk profile of one company may be perfectly acceptable in a different context, depending on geographic norms, mitigating circumstances, or the investor’s risk tolerance and investment thesis. \n",
    "\n",
    "Some key questions that analysts may consider when assessing a company’s corporate governance or stakeholder management system are as follows:\n",
    "- What is the company’s ownership and voting structure among shareholders?\n",
    "- Who represents shareholders on this company’s board?\n",
    "- What are the main drivers of the management team’s remuneration and incentive structure?\n",
    "- Who are the significant investors in the company?\n",
    "- How robust are the shareholder rights at the company, including relative to peers?\n",
    "- How effectively is the company managing long-term risks, such as securing access to necessary resources, managing human capital, exhibiting integrity and leadership, and strengthening the long-term sustainability of the enterprise?\n",
    "\n",
    "#### Economic Ownership and Voting Control\n",
    "#### Board of Directors Representation\n",
    "#### Remuneration and Company Performance\n",
    "#### Investors in the Company\n",
    "`Cross-shareholdings` are still prevalent in a number of markets. This situation occurs when a company, particularly a publicly listed one, holds a large, passive, minority stake in another company. Such holdings generally help to protect management from shareholder pressures because implicit in a cross-shareholding arrangement is the guarantee that the owner of the shares will support management on all voting issues. In effect, these shareholdings act as takeover defenses.\n",
    "\n",
    "The presence of a sizable `affiliated stockholder` (such as an individual, family trust, endowment, or private equity fund) can shield a company from the effects of voting by outside shareholders. In certain countries, the presence of such shareholders is common, viewed by local market participants as a means of enhancing stability, strengthening the relationship between companies and their business partners, and fostering a long-term perspective by protecting the company against hostile takeover bids.\n",
    "\n",
    "The presence of activist shareholders can meaningfully and rapidly change the investment thesis for a company. Experienced activists, together with short-term-oriented investors who follow their activities, can create substantial turnover in a company’s shareholder composition in a short amount of time. This is because an activist often serves as a catalyst for new strategic alternatives at a company and can attract new investors and/or arbitrageurs.\n",
    "#### Strength of Shareholders’ Rights\n",
    "#### Managing Long-Term Risks"
   ]
  },
  {
   "cell_type": "markdown",
   "metadata": {},
   "source": [
    "## ESG Considerations for Investors and Analysts\n",
    "### ESG Implementation Approaches\n",
    "Specific ESG investment styles include negative screening, positive screening, relative/best-in-class screening, full integration, overlay/portfolio tilt, risk factor/risk premium investing, thematic investment, and engagement/active ownership.\n",
    "#### Negative Screening\n",
    "#### Positive Screening\n",
    "Positive screening, typically implemented through an ESG ranking or scoring approach, is the inclusion of certain sectors, companies, or practices in a fund or portfolio on the basis of specific ESG criteria.\n",
    "#### Full integration \n",
    "Full integration into individual stock valuation is the explicit inclusion of ESG factors into traditional financial analysis of individual stocks (e.g., as inputs into cash flow forecasts and/or cost-of-capital estimates). The focus of full integration is to identify risks and opportunities arising from ESG factors and to determine whether a company is properly managing its environmental, social, and governance resources in accordance with a sustainable business model.\n",
    "#### Overlay/portfolio tilt\n",
    "#### Thematic investment\n",
    "#### Engagement/active ownership\n",
    "\n",
    "### Catalysts for ESG Growth\n",
    "\n",
    "### ESG Market Overview\n",
    "\n",
    "### ESG Factors in Investment Analysis\n",
    "An ESG factor is considered to be material when it is believed to have an impact on a company’s long-term business model.\n",
    "\n",
    "One area of debate has been whether the consideration of ESG factors is consistent with fiduciary duty—particularly when overseeing and managing pension fund assets. Accepting lower returns or assuming greater risk in a private pension plan to promote environmental, social, or public policy causes would violate fiduciary duty and is prohibited by ERISA."
   ]
  },
  {
   "cell_type": "markdown",
   "metadata": {},
   "source": [
    "# Capital Budgeting"
   ]
  },
  {
   "cell_type": "markdown",
   "metadata": {},
   "source": [
    "Capital budgeting is the process that companies use for decision making on capital projects—those projects with a life of a year or more.\n",
    "\n",
    "The five key principles of the capital budgeting process are:\n",
    "- Decisions are based on cash flows, not accounting income.\n",
    "- Cash flows are based on opportunity costs.\n",
    "- The timing of cash flows is important.\n",
    "- Cash flows are analyzed on an after-tax basis.\n",
    "- Financing costs are reflected in the project's required rate of return.\n",
    "\n",
    "## The Capital Budgeting Process\n",
    "**Step One**: Generating good investment ideas to consider is the most important step in the process.\n",
    "\n",
    "**Step Two**: Analyzing Individual Proposals—This step involves gathering the information to forecast `cash flows` for each project and then evaluating the project’s `profitability`.\n",
    "\n",
    "**Step Three**: Planning the Capital Budget—The company must organize the profitable proposals into a coordinated whole that fits within the company’s overall strategies, and it also must consider the projects’ timing. \n",
    "\n",
    "**Step Four**: Monitoring and Post-auditing—In a post-audit, actual results are compared to planned or predicted results, and any differences must be explained. For example, how do the revenues, expenses, and cash flows realized from an investment compare to the predictions? \n",
    "\n",
    "Post-auditing capital projects is important for several reasons. First, it helps monitor the forecasts and analysis that underlie the capital budgeting process. Systematic errors, such as overly optimistic forecasts, become apparent. Second, it helps improve business operations. If sales or costs are out of line, it will focus attention on bringing performance closer to expectations if at all possible. Finally, monitoring and post-auditing recent capital investments will produce concrete ideas for future investments. Managers can decide to invest more heavily in profitable areas and scale down or cancel investments in areas that are disappointing.\n",
    "\n",
    "**Costs to finance the project are taken into account when the cash flows are discounted at the appropriate cost of capital; including interest costs in the cash flows would result in double-counting the cost of debt.**\n",
    "\n",
    "Categories of Capital Budgeting Projects:\n",
    "- Replacement projects\n",
    "- Expansion projects\n",
    "- New products and services\n",
    "- Regulatory, safety, and environmental projects\n",
    "- Other. The projects above are all susceptible to capital budgeting analysis, and they can be accepted or rejected using the net present value (NPV) or some other criterion. Some projects escape such analysis. These are either pet projects of someone in the company (such as the CEO buying a new aircraft) or so risky that they are difficult to analyze by the usual methods (such as some research and development decisions)."
   ]
  },
  {
   "cell_type": "markdown",
   "metadata": {},
   "source": [
    "## Basic Principles of Capital Budgeting\n",
    "### Assumptions\n",
    "1. Decisions are based on `cash flows`. The decisions are not based on accounting concepts, such as net income. Furthermore, intangible costs and benefits are often ignored because, if they are real, they should result in cash flows at some other time.\n",
    "2. `Timing of cash flows` is crucial. Analysts make an extraordinary effort to detail precisely when cash flows occur.\n",
    "3. `Cash flows are based on opportunity costs`. What are the incremental cash flows that occur with an investment compared to what they would have been without the investment?\n",
    "4. Cash flows are analyzed on an `after-tax basis`. Taxes must be fully reflected in all capital budgeting decisions.\n",
    "5. `Financing costs` are ignored. This may seem unrealistic, but it is not. Most of the time, analysts want to know the after-tax operating cash flows that result from a capital investment. Then, these after-tax cash flows and the investment outlays are discounted at the “`required rate of return`” (rate used in discounting the cash flows) to find the `net present value (NPV)`. Financing costs are reflected in the required rate of return. If we included financing costs in the cash flows and in the discount rate, we would be `double-counting` the financing costs. \n",
    "6. Capital budgeting cash flows are not `accounting net income`. Accounting net income is reduced by noncash charges such as accounting depreciation. Furthermore, to reflect the cost of debt financing, interest expenses are also subtracted from accounting net income. (No subtraction is made for the cost of equity financing in arriving at accounting net income.) Accounting net income also differs from `economic income`, which is the cash inflow plus the change in the market value of the company. Economic income does not subtract the cost of debt financing, and it is based on the changes in the market value of the company, not changes in its book value (accounting depreciation).\n",
    "\n",
    "The required rate of return is the discount rate that investors should require given the riskiness of the project. This discount rate is frequently called the “opportunity cost of funds” or the “cost of capital.” If the company can invest elsewhere and earn a return of r, or if the company can repay its sources of capital and save a cost of r, then r is the company’s opportunity cost of funds. If the company cannot earn more than its opportunity cost of funds on an investment, it should not undertake that investment. Unless an investment earns more than the cost of funds from its suppliers of capital, the investment should not be undertaken"
   ]
  },
  {
   "cell_type": "markdown",
   "metadata": {},
   "source": [
    "#### Important Concepts\n",
    "- A `sunk cost` is one that has already been incurred. \n",
    "- An `opportunity cost` is what a resource is worth in its next-best use. \n",
    "- An `incremental cash flow` is the cash flow that is realized because of a decision: the cash flow with a decision minus the cash flow without that decision. If opportunity costs are correctly assessed, the incremental cash flows provide a sound basis for capital budgeting.\n",
    "- An `externality` is the effect of an investment on other things besides the investment itself. Frequently, an investment affects the cash flows of other parts of the company. If possible, these should be part of the investment decision. Sometimes externalities occur outside of the company. Cannibalization occurs when an investment takes customers and sales away from another part of the company.\n",
    "- `Conventional versus nonconventional cash flows`—A conventional cash flow pattern is one with an initial outflow followed by a series of inflows. In a nonconventional cash flow pattern, the initial outflow is not followed by inflows only, but the cash flows can flip from positive to negative again (or even change signs several times). An investment that involved `outlays` (negative cash flows) for the first couple of years that were then followed by positive cash flows would be considered to have a conventional pattern. If cash flows change signs once, the pattern is conventional. If cash flows change signs two or more times, the pattern is nonconventional.\n",
    "\n",
    "#### Types of Project Interactions (that make the incremental cash flow analysis challenging)\n",
    "1. Independent projects versus mutually exclusive projects—Mutually exclusive projects compete directly with each other. For example, if Projects A and B are mutually exclusive, you can choose A or B, but you cannot choose both. \n",
    "2. Project `sequencing`—Many projects are sequenced through time, so that investing in a project creates the option to invest in future projects. \n",
    "3. Unlimited funds versus capital rationing—An unlimited funds environment assumes that the company can raise the funds it wants for all profitable projects simply by paying the required rate of return. Capital rationing exists when the company has a fixed amount of funds to invest. If the company has more profitable projects than it has funds for, it must allocate the funds to achieve the maximum shareholder value subject to the funding constraints."
   ]
  },
  {
   "cell_type": "markdown",
   "metadata": {},
   "source": [
    "## Investment Decision Criteria\n",
    "The two most comprehensive measures of whether a project is profitable or unprofitable are the net present value (NPV) and internal rate of return (IRR). In addition to these, four other criteria are frequently used: the payback period, discounted payback period, average accounting rate of return (AAR), and profitability index (PI).\n",
    "### Net Present Value (NPV)\n",
    "For a project with one investment outlay, made initially, the net present value (NPV) is the present value of the future after-tax cash flows minus the investment outlay, or\n",
    "$$NPV=\\sum_{t=1}^n{\\frac{CF_t}{(1+r)^t}}−Outlay$$\n",
    "<div style=\"text-align: right\"> Equation 1 </div>\n",
    "where\n",
    "$CF_t$\t=\tafter-tax cash flow at time $t$<br>\n",
    "$r$\t=\trequired rate of return for the investment<br>\n",
    "Outlay\t=\tinvestment cash flow at time zero\n",
    "\n",
    "Many investments have cash flow patterns in which outflows may occur not only at time zero, but also at future dates. It is useful to consider the NPV to be the present value of all cash flows:\n",
    "\n",
    "$$NPV=CF_0+\\frac{CF_1}{(1+r)^1}+\\frac{CF_2}{(1+r)^2}+⋯+\\frac{CF_n}{(1+r)^n}$$ or\n",
    "<div style=\"text-align: right\"> Equation 2 </div>\n",
    "$$NPV=\\sum_{t=0}^n{\\frac{CF_t}{(1+r)^t}}$$\n",
    "\n",
    "### Internal Rate of Return (IRR)\n",
    "For a project with one investment outlay, made initially, the IRR is the `discount rate` that makes the present value of the future after-tax cash flows equal that investment outlay. The internal rate of return method assumes that the cash flows from a project are `reinvested` at the project’s IRR; the net present value (NPV) method assumes that cash flows are reinvested at the `cost of capital`.\n",
    "$$\\sum_{t=1}^n{\\frac{CF_t}{(1+IRR)^t}}=Outlay$$\n",
    "\n",
    "$$\\sum_{t=1}^n{\\frac{CF_t}{(1+IRR)^t}}−Outlay=0$$\n",
    "<div style=\"text-align: right\"> Equation 3 </div>\n",
    "Algebraically, this equation would be very difficult to solve. We normally resort to trial and error, systematically choosing various discount rates until we find one, the IRR, that satisfies the equation. \n",
    "\n",
    "\n",
    "The decision rule for the IRR is to invest if the IRR exceeds the `required rate of return` for a project:\n",
    "\n",
    "Invest if\t$IRR > r$<br>\n",
    "Do not invest if\t$IRR < r$\n",
    "\n",
    "The required rate of return is often termed the `hurdle rate`, the rate that a project’s IRR must exceed for the project to be accepted. \n",
    "\n",
    "Many investments have cash flow patterns in which the outlays occur at time zero and at future dates. Thus, it is common to define the IRR as the discount rate that makes the present values of all cash flows sum to zero:\n",
    "$$\\sum_{t=0}^n{\\frac{CF_t}{(1+IRR)^t}}=0$$\n",
    "<div style=\"text-align: right\"> Equation 4 </div>\n",
    "\n",
    "### Profitability Index (PI)\n",
    "The profitability index (PI) is the present value of a project’s future cash flows divided by the initial investment. It can be expressed as\n",
    "$$PI=\\frac{PV\\ of\\ future\\ cash\\ flows}{Initial\\ investment}=1+\\frac{NPV}{Initial\\ investment}$$\n",
    "<div style=\"text-align: right\"> Equation 5</div>\n",
    "\n",
    "You can see that the PI is closely related to the NPV. The PI is the ratio of the PV of future cash flows to the initial investment, whereas an NPV is the difference between the PV of future cash flows and the initial investment. Whenever the NPV is positive, the PI will be greater than 1.0; conversely, whenever the NPV is negative, the PI will be less than 1.0. The investment decision rule for the PI is as follows:\n",
    "\n",
    "Invest if\t$PI > 1.0$<br>\n",
    "Do not invest if\t$PI < 1.0$\n",
    "### Payback Period\n",
    "Since the cash flows are not discounted at the project’s required rate of return, the payback period ignores the time value of money and the risk of the project. Additionally, the payback period ignores cash flows after the payback period is reached.\n",
    "\n",
    "The payback period may also be used as an indicator of project liquidity. A project with a two-year payback may be more liquid than another project with a longer payback.\n",
    "### Discounted Payback Period\n",
    "The discounted payback period relies on discounted cash flows, much as the NPV criterion does. If a project has a negative NPV, it will usually not have a discounted payback period since it never recovers the initial investment.\n",
    "\n",
    "The discounted payback does account for the time value of money and risk within the discounted payback period, but it ignores cash flows after the discounted payback period is reached. This drawback has two consequences. \n",
    "- First, the discounted payback period is not a good measure of profitability because it ignores these cash flows. \n",
    "- Second, another idiosyncrasy of the discounted payback period comes from the possibility of negative cash flows after the discounted payback period is reached. It is possible for a project to have a negative NPV but to have a positive cumulative discounted cash flow in the middle of its life and, thus, a reasonable discounted payback period. The NPV and IRR, which consider all of a project’s cash flows, do not suffer from this problem.\n",
    "\n",
    "### Average Accounting Rate of Return (AAR)\n",
    "The average accounting rate of return (AAR) can be defined as\n",
    "$$AAR=\\frac{Average\\ net\\ income}{Average\\ book\\ value}$$\n",
    "\n",
    "The AAR has some important disadvantages:\n",
    "- Unlike the other capital budgeting criteria discussed here, the AAR is based on accounting numbers and not based on cash flows. This is an important conceptual and practical limitation. \n",
    "- The AAR also does not account for the time value of money, and there is no conceptually sound cutoff for the AAR that distinguishes between profitable and unprofitable investments. \n",
    "- The AAR is frequently calculated in different ways, so the analyst should verify the formula behind any AAR numbers that are supplied by someone else."
   ]
  },
  {
   "cell_type": "markdown",
   "metadata": {},
   "source": [
    "### NPV Profile and Ranking Conflicts Between NPV and IRR\n",
    "#### NPV Profile\n",
    "Three interesting points on this NPV profile are where the profile goes through the vertical axis (the NPV when the discount rate is zero), where the profile goes through the horizontal axis (where the discount rate is the IRR), and the NPV for the required rate of return (NPV is €13.136 million when the discount rate is the 10 percent required rate of return).\n",
    "#### Ranking Conflicts between NPV and IRR\n",
    "For a single conventional project, the NPV and IRR will agree on whether to invest or to not invest. For independent, conventional projects, no conflict exists between the decision rules for the NPV and IRR. However, in the case of two mutually exclusive projects, the two criteria will sometimes disagree. \n",
    "\n",
    "Whenever the NPV and IRR rank two mutually exclusive projects differently, you should choose the project based on the NPV.\n",
    "\n",
    "`reinvestment assumption`. Mathematically, whenever you discount a cash flow at a particular discount rate, you are implicitly assuming that you can reinvest a cash flow at that same discount rate.\n",
    "\n",
    "Another circumstance that frequently causes mutually exclusive projects to be ranked differently by NPV and IRR criteria is project scale—the sizes of the projects. Would you rather have a small project with a higher rate of return or a large project with a lower rate of return? Sometimes, the larger, low rate of return project has the better NPV. \n",
    "\n",
    "##### Summary\n",
    "When the choice is between two mutually exclusive projects and the NPV and IRR rank the two projects differently, the NPV criterion is strongly preferred. There are good reasons for this preference. The NPV shows the amount of gain, or wealth increase, as a currency amount. The NPV assumes reinvestment of cash flows at the required rate of return, while the IRR assumes reinvestment at the IRR. The reinvestment assumption of the NPV is the more economically realistic. The IRR does give you a rate of return, but the IRR could be for a small investment or for only a short period of time. As a practical matter, once a corporation has the data to calculate the NPV, it is fairly trivial to go ahead and calculate the IRR and other capital budgeting criteria. However, the most appropriate and theoretically sound criterion is the NPV."
   ]
  },
  {
   "cell_type": "markdown",
   "metadata": {},
   "source": [
    "#### Multiple IRR and No IRR Problems\n",
    "For conventional projects that have outlays followed by inflows—negative cash flows followed by positive cash flows—the multiple IRR problem cannot occur. However, for nonconventional projects, as in the example above, the multiple IRR problem can occur. The IRR equation is essentially an $n^{th}$ degree polynomial. An $n^{th}$ degree polynomial can have up to $n$ solutions, although it will have no more real solutions than the number of cash flow sign changes. For example, a project with two sign changes could have zero, one, or two IRRs. Having two sign changes does not mean that you will have multiple IRRs; it just means that you might. Fortunately, most capital budgeting projects have only one IRR. Analysts should always be aware of the unusual cash flow patterns that can generate the multiple IRR problem."
   ]
  },
  {
   "cell_type": "markdown",
   "metadata": {},
   "source": [
    "## Usage of Capital Budgeting Methods\n",
    "Expected relations among an investment’s NPV, company value, and share price:\n",
    "\n",
    "The value of a company is the value of its existing investments plus the net present values of all of its future investments. If an analyst learns of an investment, the impact of that investment on the stock price will depend on whether the investment’s profitability is more or less than expected. For example, an analyst could learn of a positive NPV project, but if the project’s profitability is less than expectations, this stock might drop in price on the news. Alternatively, news of a particular capital project might be considered as a signal about other capital projects underway or in the future. A project that by itself might add, say, €0.25 to the value of the stock might signal the existence of other profitable projects. News of this project might increase the stock price by far more than €0.25."
   ]
  },
  {
   "cell_type": "markdown",
   "metadata": {},
   "source": [
    "Example: NPVs and Stock Prices\n",
    "\n",
    "Freitag Corporation is investing €600 million in distribution facilities. The present value of the future after-tax cash flows is estimated to be €850 million. Freitag has 200 million outstanding shares with a current market price of €32.00 per share. This investment is new information, and it is independent of other expectations about the company. What should be the effect of the project on the value of the company and the stock price?"
   ]
  },
  {
   "cell_type": "markdown",
   "metadata": {},
   "source": [
    "The NPV of the project is €850 million − €600 million = €250 million. The total market value of the company prior to the investment is €32.00 × 200 million shares = €6,400 million. The value of the company should increase by €250 million to €6,650 million. The price per share should increase by the NPV per share, or €250 million/200 million shares = €1.25 per share. The share price should increase from €32.00 to €33.25."
   ]
  },
  {
   "cell_type": "markdown",
   "metadata": {},
   "source": [
    "# Cost of Capital"
   ]
  },
  {
   "cell_type": "markdown",
   "metadata": {},
   "source": [
    "## Introduction to Basic Computation\n",
    "In reality, a company must estimate project-specific costs of capital. What is often done, however, is to estimate the cost of capital for the company as a whole and then adjust this overall corporate cost of capital upward or downward to reflect the risk of the contemplated project relative to the company’s average project.\n",
    "### Cost of Capital\n",
    "The cost of capital is the rate of return that the suppliers of capital—bondholders and owners—require as compensation for their contribution of capital. Another way of looking at the cost of capital is that it is the opportunity cost of funds for the suppliers of capital: A potential supplier of capital will not voluntarily invest in a company unless its return meets or exceeds what the supplier could earn elsewhere in an investment of comparable risk.\n",
    "\n",
    "Each source selected becomes a component of the company’s funding and has a cost (required rate of return) that may be called a `component cost of capital`.\n",
    "\n",
    "Because we are using the cost of capital in the evaluation of investment opportunities, we are dealing with a marginal cost—what it would cost to raise additional funds for the potential investment project. Therefore, the cost of capital that the investment analyst is concerned with is a marginal cost.\n",
    "\n",
    "`Weighted average cost of capital (WACC)` is also referred to as the marginal cost of capital (MCC) because it is the cost that a company incurs for additional capital. The weights in this weighted average are the proportions of the various sources of capital that the company uses to support its investment program. Taking the sources of capital to be common stock, preferred stock, and debt and allowing for the fact that in some jurisdictions interest expense may be tax deductible, the expression for WACC is\n",
    "$$WACC = w_dr_d(1 – t) + w_pr_p + w_er_e$$ \n",
    "<div style=\"text-align: right\"> Equation 1</div>\n",
    "where\n",
    "\n",
    "$w_d$\t=\tthe proportion of debt that the company uses when it raises new funds<br>\n",
    "$r_d$\t=\tthe before-tax marginal cost of debt<br>\n",
    "$t$\t=\tthe company’s marginal tax rate<br>\n",
    "$w_p$\t=\tthe proportion of preferred stock the company uses when it raises new funds<br>\n",
    "$r_p$\t=\tthe marginal cost of preferred stock<br>\n",
    "$w_e$\t=\tthe proportion of equity that the company uses when it raises new funds<br>\n",
    "$r_e$\t=\tthe marginal cost of equity\n",
    "\n",
    "#### Taxes and the Cost of Capital\n",
    "The marginal cost of debt financing is the cost of debt after considering the allowable deduction for interest on debt based on the country’s tax law. If interest cannot be deducted for tax purposes, the tax rate applied is zero so that the effective marginal cost of debt is equal to $r_d$ in Equation 1. If interest can be deducted in full, the tax deductibility of debt reduces the effective marginal cost of debt to reflect the income shielded from taxation and the marginal cost of debt is $r_d(1 – t)$. \n",
    "#### Weights of the Weighted Average\n",
    "The `target capital structure` is the capital structure that a company is striving to obtain. Estimate it using one of several approaches:\n",
    "1. Assume the company’s current capital structure, at market value weights for the components, represents the company’s target capital structure.\n",
    "2. Examine trends in the company’s capital structure or statements by management regarding capital structure policy to infer the target capital structure.\n",
    "3. Use averages of comparable companies’ capital structures as the target capital structure.\n",
    "\n",
    "A simple way of transforming a debt-to-equity ratio D/E into a weight—that is, $\\frac{D}{(D + E)}$—is to divide D/E by 1 + D/E."
   ]
  },
  {
   "cell_type": "markdown",
   "metadata": {},
   "source": [
    "Example: Computing the Weighted Average Cost of Capital\n",
    "\n",
    "Assume that ABC Corporation has the following capital structure: 30 percent debt, 10 percent preferred stock, and 60 percent equity. Also assume that interest expense is tax deductible. ABC Corporation wishes to maintain these proportions as it raises new funds. Its before-tax cost of debt is 8 percent, its cost of preferred stock is 10 percent, and its cost of equity is 15 percent. If the company’s marginal tax rate is 40 percent, what is ABC’s weighted average cost of capital?"
   ]
  },
  {
   "cell_type": "code",
   "execution_count": 2,
   "metadata": {},
   "outputs": [
    {
     "data": {
      "text/plain": [
       "0.1144"
      ]
     },
     "execution_count": 2,
     "metadata": {},
     "output_type": "execute_result"
    }
   ],
   "source": [
    "# Computing known variables\n",
    "w_debt = 0.3\n",
    "w_stock = 0.1\n",
    "w_equity = 0.6\n",
    "cost_debt = 0.08 # before-tax cost of debt\n",
    "cost_stock = 0.10\n",
    "cost_equity = 0.15\n",
    "t = 0.4 # marginal tax rate \n",
    "\n",
    "wacc = w_debt * cost_debt * (1-t) + w_stock * cost_stock + w_equity * cost_equity \n",
    "wacc"
   ]
  },
  {
   "cell_type": "code",
   "execution_count": null,
   "metadata": {},
   "outputs": [],
   "source": [
    "# EXAMPLE 2\n"
   ]
  },
  {
   "cell_type": "markdown",
   "metadata": {},
   "source": [
    "## Capital-budgeting Decision Making\n",
    "### Applying the Cost of Capital to Capital Budgeting and Security Valuation\n",
    "A company’s `marginal cost of capital (MCC)` may increase as additional capital is raised, whereas returns to a company’s investment opportunities are generally believed to decrease as the company makes additional investments, as represented by the `investment opportunity schedule (IOS)`.\n",
    "\n",
    "In valuing an individual project or even a portion of a company, such as a division or product line: For an average-risk project, the opportunity cost of capital is the company’s WACC. If the systematic risk of the project is above or below average relative to the company’s current portfolio of projects, an upward or downward adjustment, respectively, is made to the company’s WACC. Companies may take an `ad hoc` or a `systematic approach` to making such adjustments. \n",
    "\n",
    "The WACC or MCC corresponding to the average risk of the company, adjusted appropriately for the risk of a given project, plays a role in capital-budgeting decision making based on the net present value (NPV) of that project. It is useful to think of it as the difference between the present value of the cash inflows, discounted at the opportunity cost of capital applicable to the specific project, and the present value of the cash outflows, discounted using that same opportunity cost of capital:\n",
    "$$NPV = Present\\ value\\ of\\ inflows − Present\\ value\\ of\\ outflows$$\n",
    "If an investment’s NPV is positive, the company should undertake the project. If we choose to use the company’s WACC in the calculation of the NPV of a project, we are assuming that the project:\n",
    "- has the same risk as the average-risk project of the company, and\n",
    "- will have a constant target capital structure throughout its useful life.\n",
    "\n",
    "These may not be realistic or appropriate assumptions and are potential drawbacks to using the company’s WACC in valuing projects. \n",
    "\n",
    "*(For the analyst, the second key use of the marginal cost of capital is in security valuation using any one of several discounted cash flow valuation models available. For a particular valuation model, if these cash flows are cash flows to the company’s suppliers of capital (that is, free cash flow to the firm), the analyst uses the weighted average cost of capital of the company in the valuation. If these cash flows are strictly those belonging to the company’s owners, such as the free cash flow to equity, or dividends, the analyst uses the cost of equity capital to find the present value of these flows.)*"
   ]
  },
  {
   "cell_type": "markdown",
   "metadata": {},
   "source": [
    "## Costs of the Different Sources of Capital\n",
    "### The Cost of Debt\n",
    "The cost of debt is the cost of debt financing to a company when it issues a bond or takes out a bank loan. We discuss two methods to estimate the before-tax cost of debt, rd: the yield-to-maturity approach and debt-rating approach.\n",
    "#### Yield-to-Maturity Approach\n",
    "The `yield to maturity (YTM)` is the annual return that an investor earns on a bond if the investor purchases the bond today and holds it until maturity. In other words, it is the yield, $r_d$, that equates the present value of the bond’s promised payments to its market price:\n",
    "$$P_0=\\frac{PMT_1}{(1+\\frac{r_d}{2})}+…+\\frac{PMT_n}{(1+\\frac{r_d}{2})^n}+\\frac{FV}{(1+\\frac{r_d}{2})^n}=\\Big(\\sum_{t=1}^n{\\frac{PMT_t}{(1+\\frac{r_d}{2})^t}}\\Big)+\\frac{FV}{(1+\\frac{r_d}{2})^n}$$\n",
    "<div style=\"text-align: right\"> Equation 2</div>\n",
    "where\n",
    "\n",
    "$P_0$\t=\tthe current market price of the bond<br>\n",
    "$PMT_t$\t=\tthe interest payment in period $t$<br>\n",
    "$r_d$\t=\tthe yield to maturity<br>\n",
    "$n$\t=\tthe number of periods remaining to maturity<br>\n",
    "$FV$\t=\tthe maturity value of the bond<br>\n",
    "\n",
    "This valuation equation assumes the bond pays semi-annual interest and that any intermediate cash flows (in this case the interest prior to maturity) are reinvested at the rate $\\frac{r_d}{2}$.\n",
    "#### Debt-Rating Approach\n",
    "When a reliable current market price for a company’s debt is not available, the debt-rating approach can be used to estimate the *before-tax* cost of debt. Based on a company’s debt rating, we estimate the before-tax cost of debt by using the yield on comparably rated bonds for maturities that closely match that of the company’s existing debt.\n",
    "\n",
    "A consideration when using this approach is that debt ratings are ratings of the debt issue itself, with the issuer being only one of the considerations. Other factors, such as debt seniority and security, also affect ratings and yields, so care must be taken to consider the likely type of debt to be issued by the company in determining the comparable debt rating and yield. \n",
    "\n",
    "The debt-rating approach is a simple example of pricing on the basis of valuation-relevant characteristics, which in bond markets has been known as `evaluated pricing` or `matrix pricing`.\n",
    "#### Issues in Estimating the Cost of Debt\n",
    "- FIXED-RATE DEBT VERSUS FLOATING-RATE DEBT: floating-rate debt interest rates are adjusted periodically according to a prescribed index, such as the prime rate or Libor, over the life of the instrument. (The analyst may use the current term structure of interest rates and term structure theory to assign an average cost to such instruments.)\n",
    "- DEBT WITH OPTIONLIKE FEATURES, such as call, conversion, or put provisions. (e.g.  the put feature of a bond, which provides the investor with an option to sell the bond back to the issuer at a predetermined price, has the effect of lowering the yield on a bond below that of a similar nonputable bond.)\n",
    "  - If the company already has debt outstanding incorporating optionlike features that the analyst believes are representative of the future debt issuance of the company, the analyst may simply use the yield to maturity on such debt in estimating the cost of debt.\n",
    "  - If the analyst believes that the company will add or remove option features in future debt issuance, the analyst can make market value adjustments to the current YTM to reflect the value of such additions and/or deletions. The technology for such adjustments is an advanced topic that is outside the scope of this reading.\n",
    "- NONRATED DEBT\n",
    "- LEASES: A lease is a contractual obligation that can substitute for other forms of borrowing. This is true whether the lease is an operating lease or a finance lease (capital lease). If the company uses leasing as a source of capital, the cost of these leases should be included in the cost of capital. The cost of this form of borrowing is similar to that of the company’s other long-term borrowing."
   ]
  },
  {
   "cell_type": "markdown",
   "metadata": {},
   "source": [
    "Example: Calculating the After-Tax Cost of Debt\n",
    "\n",
    "Valence Industries issues a bond to finance a new project. It offers a 10-year, \\\\$1,000 face value, 5 percent semi-annual coupon bond. Upon issue, the bond sells at \\\\$1,025. What is Valence’s before-tax cost of debt? If Valence’s marginal tax rate is 35 percent, what is Valence’s after-tax cost of debt?"
   ]
  },
  {
   "cell_type": "code",
   "execution_count": 17,
   "metadata": {},
   "outputs": [
    {
     "name": "stdout",
     "output_type": "stream",
     "text": [
      "12552.851121461907\n"
     ]
    }
   ],
   "source": [
    "# Before-tax cost of debt\n",
    "rate = 0.05 / 2\n",
    "n = 10 * 2\n",
    "issue_price = 1025 # P_0\n",
    "face_val = 1000\n",
    "pmt = rate * face_val / 2 # PMT (interest payment) is 5 percent of 1,000 ÷ 2 = $25\n",
    "\n",
    "# How to use Python to solve yield-to-maturity Rd, (i)?\n",
    "cost_of_debt = 0\n",
    "for m in range(n):\n",
    "    cost_of_debt += pmt/((1+rate)**(i+1))\n",
    "    cost_of_debt += (face_val+pmt)/((1+rate)**n)\n",
    "print(cost_of_debt)\n",
    "\n",
    "# After-tax cost of debt if marginal tax rate is at 0.35\n",
    "tax = 0.35\n",
    "cost_after_tax "
   ]
  },
  {
   "cell_type": "markdown",
   "metadata": {},
   "source": [
    "### Cost of Preferred Stock\n",
    "The cost of preferred stock is the cost that a company has committed to pay preferred stockholders as a preferred dividend when it issues preferred stock. In the case of nonconvertible, noncallable preferred stock that has a fixed dividend rate and no maturity date (`fixed rate perpetual preferred stock`), we can use the formula for the value of a preferred stock:\n",
    "$$P_p=\\frac{D_p}{r_p}$$\n",
    "where\n",
    "\n",
    "$P_p$ = the current preferred stock price per share\n",
    "\n",
    "$D_p$ = the preferred stock dividend per share\n",
    "\n",
    "$r_P$ = the cost of preferred stock (= yield?)\n",
    "\n",
    "We can rearrange this equation to solve for the cost of preferred stock:\n",
    "\n",
    "$$r_p=\\frac{D_p}{P_p}$$\n",
    "<div style=\"text-align: right\"> Equation 3</div>\n",
    "\n",
    "Therefore, the cost of preferred stock is the preferred stock’s dividend per share divided by the current preferred stock’s price per share. Unlike interest on debt, the dividend on preferred stock is *not tax-deductible* by the company; therefore, there is no adjustment to the cost for taxes.\n",
    "\n",
    "A preferred stock may have a number of features that affect the yield and hence the cost of preferred stock. These features include a call option, cumulative dividends, participating dividends, adjustable-rate dividends, or convertibility into common stock. When estimating a yield based on current yields of the company’s preferred stock, we must make appropriate adjustments for the effects of these features on the yield of an issue."
   ]
  },
  {
   "cell_type": "markdown",
   "metadata": {},
   "source": [
    "Example: Calculating the Cost of Preferred Equity\n",
    "\n",
    "Consider a company that has one issue of preferred stock outstanding with a \\\\$3.75 cumulative preferred stock, for which there are 600,000 shares outstanding. If the price of this stock is \\\\$80, what is the estimate of its cost of preferred equity?\n",
    "\n"
   ]
  },
  {
   "cell_type": "code",
   "execution_count": 19,
   "metadata": {},
   "outputs": [
    {
     "data": {
      "text/plain": [
       "0.046875"
      ]
     },
     "execution_count": 19,
     "metadata": {},
     "output_type": "execute_result"
    }
   ],
   "source": [
    "# Cost of preferred stock\n",
    "p = 80\n",
    "divident_per_share = 3.75\n",
    "cost = divident_per_share/p\n",
    "cost"
   ]
  },
  {
   "cell_type": "markdown",
   "metadata": {},
   "source": [
    "Example: Choosing the Best Estimate of the Cost of Preferred Equity\n",
    "\n",
    "Wim Vanistendael is finance director of De Gouden Tulip N.V., a leading Dutch flower producer and distributor. He has been asked by the CEO to calculate the cost of preferred equity and has recently obtained the following information:\n",
    "The issue price of preferred stock was €3.5 million and the preferred dividend is 5 percent.\n",
    "\n",
    "  - If the company issued new preferred stock today, the preferred coupon rate would be 6.5 percent.\n",
    "\n",
    "  - The company’s marginal tax rate is 30.5 percent.\n",
    "\n",
    "  - What is the cost of preferred equity for De Gouden Tulip N.V.?"
   ]
  },
  {
   "cell_type": "code",
   "execution_count": 22,
   "metadata": {},
   "outputs": [
    {
     "data": {
      "text/plain": [
       "0.065"
      ]
     },
     "execution_count": 22,
     "metadata": {},
     "output_type": "execute_result"
    }
   ],
   "source": [
    "# Know that:\n",
    "issue_price = 35000000\n",
    "dividend = issue_price*0.05\n",
    "coupon_rate = 0.065\n",
    "tax = 0.305 # Irrelevant\n",
    "\n",
    "# Current price is dividend / yield so 175,000/0.065=2,692,307.69. \n",
    "current_price = dividend / coupon_rate\n",
    "# Cost of preferred stock\n",
    "dividend / current_price"
   ]
  },
  {
   "cell_type": "markdown",
   "metadata": {},
   "source": [
    "Solution:\n",
    "\n",
    "If De Gouden Tulip were to issue new preferred stock today, the coupon rate would be close to 6.5 percent. The current terms thus prevail over the past terms when evaluating the actual cost of preferred stock. The cost of preferred stock for De Gouden Tulip is, therefore, 6.5 percent. Because preferred dividends offer no tax shield, there is no adjustment made based upon the marginal tax rate."
   ]
  },
  {
   "cell_type": "markdown",
   "metadata": {},
   "source": [
    "### Cost of Common Equity\n",
    "The cost of common equity, (re), usually referred to simply as the cost of equity, is the rate of return required by a company’s common shareholders. A company may increase common equity through the reinvestment of earnings—that is, `retained earnings`—or through the issuance of `new shares of stock`.\n",
    "#### Capital Asset Pricing Model Approach\n",
    "In the capital asset pricing model (CAPM) approach, we use the basic relationship from the capital asset pricing model theory that the expected return on a stock, $E(R_i)$, is the sum of the risk-free rate of interest, $R_F$, and a premium for bearing the stock’s market risk, $β_i(R_M − R_F)$:\n",
    "$$E(R_i)=R_F+β_i[E(R_M)−R_F]$$\n",
    "<div style=\"text-align: right\"> Equation 4</div>\n",
    "where\n",
    "\n",
    "$β_i$\t=\tthe return sensitivity of stock $i$ to changes in the market return<br>\n",
    "$E(R_M)$\t=\tthe expected return on the market<br>\n",
    "$E(R_M) − R_F$\t=\tthe expected market risk premium<br>\n",
    "\n",
    "A risk-free asset is defined here as an asset that has no default risk. A common proxy for the risk-free rate is the yield on a `default-free government debt instrument`. *(In general, the selection of the appropriate risk-free rate should be guided by the duration of projected cash flows. If we are evaluating a project with an estimated useful life of 10 years, we may want to use the rate on the 10-year Treasury bond.)*\n",
    "\n",
    "The expected market risk premium, or $E(R_M) − R_F$, is the premium that investors demand for investing in a market portfolio relative to the risk-free rate. When using the CAPM to estimate the cost of equity, in practice we typically estimate beta relative to an equity market index. In that case, the market premium estimate we are using is actually an estimate of the `equity risk premium (ERP)`.\n",
    "\n",
    "An alternative to the CAPM to accommodate risks that may not be captured by the market portfolio alone is a multifactor model that incorporates factors that may be other sources of priced risk (risk for which investors demand compensation for bearing), including macroeconomic factors and company-specific factors. In general\n",
    "$$E(R_i)=R_F+β_{i1}(Factor\\ risk\\ premium)_1+β_{i2}(Factor\\ risk\\ premium)_2+…β_{ij}(Factor\\ risk\\ premium)_j$$\n",
    "<div style=\"text-align: right\"> Equation 5</div>\n",
    "where\n",
    "\n",
    "$β_{ij}$ = stock $i$’s sensitivity to changes in the $j_{th}$ factor<br>\n",
    "(Factor risk premium)$j$ = expected risk premium for the $j_{th}$ factor\n",
    "\n",
    "\n",
    "Three common approaches for estimating the equity risk premium:\n",
    "##### Historical Equity Risk Premium Approach\n",
    "This approach requires compiling historical data to find the average rate of return of a country’s market portfolio and the average rate of return for the risk-free rate in that country. \n",
    "\n",
    "(Under the assumption of an unchanging distribution of returns through time, the arithmetic mean is the unbiased estimate of the expected single-period equity risk premium, but the geometric mean better reflects growth rate over multiple periods.)\n",
    "##### Dividend Discount Model Approach\n",
    "a.k.a. implied risk premium approach, which is implemented using the `Gordon growth model` (also known as the `constant-growth dividend discount model`). For developed markets, corporate earnings often meet, at least approximately, the model’s assumption of a long-run trend growth rate.\n",
    "\n",
    "Using the relationship between the value of an index and expected dividends, assuming a constant growth in dividends:\n",
    "$$P_0=\\frac{D_1}{r_e−g}$$\n",
    "where $P_0$ is the current market value of the equity market index, \n",
    "\n",
    "$D_1$ are the dividends expected next period on the index, \n",
    "\n",
    "$r_e$ is the required rate of return on the market, \n",
    "\n",
    "and $g$ is the expected growth rate of dividends. \n",
    "\n",
    "We solve for the required rate of return on the market as\n",
    "$$r_e=\\frac{D_1}{P_0}+g$$\n",
    "<div style=\"text-align: right\"> Equation 6</div>\n",
    "\n",
    "Therefore, the expected return on the market is the sum of the dividend yield and the growth rate in dividends. **The equity risk premium thus is the difference between the expected return on the equity market and the risk-free rate.**\n",
    "##### Survey Approach\n",
    "Once we have an estimate of the equity risk premium, we fine-tune this estimate for the particular company or project by adjusting it for the specific systematic risk of the project. We adjust for the specific systematic risk by multiplying the market risk premium by beta to arrive at the company’s or project’s risk premium, which we then add to the risk-free rate to determine the cost of equity within the framework of the CAPM."
   ]
  },
  {
   "cell_type": "markdown",
   "metadata": {},
   "source": [
    "#### Dividend Discount Model Approach\n",
    "We can also use the Gordon growth model directly to obtain an estimate of the cost of equity. To review, the dividend discount model in general states that the intrinsic value of a share of stock is the present value of the share’s expected future dividends:\n",
    "$$V_0=\\sum^∞_{t=1}{(\\frac{D_t}{(1+r_e)^t})}=\\frac{D_1}{(1+r_e)}+\\frac{D_2}{(1+r_e)^2}+…$$\n",
    "where\n",
    "\n",
    "$V_0$ = the intrinsic value of a share\n",
    "\n",
    "$D_t$ = the share’s dividend at the end of period $t$\n",
    "\n",
    "$r_e$ = the cost of equity\n",
    "\n",
    "Based on Gordon’s constant growth formulation, we assume dividends are expected to grow at a constant rate, $g$. Therefore, if we assume that price reflects intrinsic value ($V_0 = P_0$), we can rewrite the valuation of the stock as\n",
    "$$P_0=\\frac{D_1}{r_e−g}$$\n",
    "We can then rewrite the above equation and estimate the cost of equity as we did for Equation 6:\n",
    "$$r_e=\\frac{D_1}{P_0}+g$$\n",
    "Therefore, to estimate re, we need to estimate the dividend in the next period and the assumed constant dividend growth rate. The current stock price, $P_0$, is known, and the dividend of the next period, $D_1$, can be predicted if the company has a stable dividend policy. (The ratio $\\frac{D_1}{P_0}$ may be called the `forward annual dividend yield`.) The challenge is estimating the growth rate.\n",
    "\n",
    "There are at least two ways to estimate the growth rate. \n",
    "1. The first is to use a forecasted growth rate from a published source or vendor. \n",
    "2. The second is to use a relationship between the growth rate, the retention rate, and the return on equity. In this context, this is often referred to as the `sustainable growth rate` and is interpretable as the rate of dividend (and earnings) growth that can be sustained over time for a given level of return on equity, keeping the capital structure constant and without issuing additional common stock. The relationship is given in Equation 7:\n",
    "$$g = (1 – D/EPS)ROE$$\n",
    "<div style=\"text-align: right\"> Equation 7</div>\n",
    "\n",
    "where \n",
    "\n",
    "D/EPS represents the assumed stable dividend payout ratio, \n",
    "\n",
    "ROE is the historical return on equity,\n",
    "\n",
    "the term (1 – D/EPS) is the company’s earnings retention rate.\n",
    "\n",
    "#### Bond Yield plus Risk Premium Approach\n",
    "The bond yield plus risk premium approach is based on the fundamental tenet in financial theory that the cost of capital of riskier cash flows is higher than that of less risky cash flows. In this approach, we sum the `before-tax cost of debt`, $r_d$, and a risk premium that captures the additional yield on a company’s stock relative to its bonds. The estimate is, therefore,\n",
    "$$r_e = r_d + Risk\\ premium$$\n",
    "<div style=\"text-align: right\"> Equation 8</div>\n",
    "The risk premium compensates for the additional risk of equity compared with debt. Ideally, this risk premium is forward looking, representing the additional risk associated with the stock of the company as compared with the bonds of the same company. However, we often estimate this premium using historical spreads between bond yields and stock yields. In developed country markets, a typical risk premium added is in the range of 3 to 5 percent."
   ]
  },
  {
   "cell_type": "markdown",
   "metadata": {},
   "source": [
    "Example Q. Using the dividend discount model, what is the cost of equity capital for Zeller Mining if the company will pay a dividend of C\\\\$2.30 next year, has a payout ratio of 30 percent, a return on equity (ROE) of 15 percent, and a stock price of C\\\\$45?\n",
    "\n",
    "A. 9.61 percent.\n",
    "B. 10.50 percent.\n",
    "C. 15.61 percent."
   ]
  },
  {
   "cell_type": "code",
   "execution_count": 24,
   "metadata": {},
   "outputs": [
    {
     "name": "stdout",
     "output_type": "stream",
     "text": [
      "0.105\n",
      "0.1561111111111111\n"
     ]
    }
   ],
   "source": [
    "# Solution: C is correct. \n",
    "# First calculate the growth rate using the sustainable growth calculation\n",
    "dividend_payout_ratio = 0.30\n",
    "roe = 0.15\n",
    "g = (1 - dividend_payout_ratio)*(roe)\n",
    "print(g)\n",
    "# and then calculate the cost of equity using the rearranged dividend discount model:\n",
    "D_1 = 2.30\n",
    "P_0 = 45\n",
    "r_e = (D_1/P_0) + g \n",
    "print(r_e)"
   ]
  },
  {
   "cell_type": "markdown",
   "metadata": {},
   "source": [
    "## Topics in Cost of Capital Estimation\n",
    "When calculating a company’s weighted average cost of capital (WACC), it is essential to understand the risk factors that have been considered in determining the risk-free rate, the equity risk premium, and beta to ensure a consistent calculation of WACC and avoid the double counting or omission of pertinent risk factors.\n",
    "### Estimating Beta and Determining a Project Beta\n",
    "One common method of estimating the company’s stock beta is to use a market model regression of the company’s stock returns ($R_i$) against market returns ($R_m$) over $T$ periods:\n",
    "$$R_{it}=\\hat{a}+\\hat{b}R_{mt},  t=1,2,…T$$\n",
    "where \n",
    "\n",
    "$\\hat{a}$ is the estimated intercept and \n",
    "\n",
    "$\\hat{b}$ is the estimated slope of the regression that is used as an estimate of beta. However, beta estimates are sensitive to the method of estimation and data used.\n",
    "\n",
    "The challenge is to estimate a beta for a company that is not publicly traded or to estimate a beta for a project that is not the average or typical project of a publicly traded company. Estimating a beta in these cases requires proxying for the beta by using the information on the project or company combined with a beta of a publicly traded company.\n",
    "\n",
    "The `business risk` of a company or project is the risk related to the uncertainty of revenues, referred to as sales risk, and to operating risk, which is the risk attributed to the company’s operating cost structure.\n",
    "1. Sales risk is affected by \n",
    "  - the elasticity of the demand of the product, \n",
    "  - the cyclicality of the revenues, \n",
    "  - and the structure of competition in the industry. \n",
    "2. Operating risk is affected by the relative mix of fixed and variable operating costs: the greater the fixed operating costs, relative to variable operating costs, the greater the uncertainty of income and cash flows from operations.\n",
    "\n",
    "`Financial risk` is the uncertainty of net income and net cash flows attributed to the use of financing that has a fixed cost, such as debt and leases. The greater the use of fixed-financing sources of capital, relative to variable sources, the greater the financial risk. \n",
    "\n",
    "#### Estimating a Beta Using the Pure-Play Method\n",
    "Estimating a beta for a company or project that is not publicly traded: One common method is the `pure-play method`, which requires using a comparable publicly traded company’s beta and adjusting it for financial leverage differences. *(Note: A comparable company is a company that has similar business risk. This requires a process of “unlevering” and “levering” the beta.)*\n",
    "##### Step 1: Select the Comparable\n",
    "Select the comparable: Determine comparable company or companies. These are companies with similar business risk.\n",
    "##### Step 2: Estimate the Equity Beta of the Comparable(s) \n",
    "Estimate comparable’s beta: Estimate the equity beta of the comparable company or companies.\n",
    "##### Step 3: Unlevered Beta - Asset Beta\n",
    "Unlever the comparable’s beta: Unlever the beta of the comparable company or companies, removing the financial risk component of the equity beta, leaving the business risk component of the beta. (i.e. The beta of the comparable is first “`unlevered`” by removing the effects of its financial leverage.) **The unlevered beta is often referred to as the asset beta because it reflects the business risk of the assets.**\n",
    "\n",
    "For a given company, we can **unlever its equity beta to estimate its asset beta**. To do this, we must determine the relationship between a company’s asset beta and its equity beta. Because the company’s risk is shared between creditors and owners, we can represent the company’s risk, $β_{asset}$, as the weighted average of the company’s creditors’ market risk, $β_{debt}$, and the market risk of the owners, $β_{equity}$.\n",
    "$$β_{asset} = β_{debt}w_d + β_{equity}w_e$$\n",
    "or\n",
    "$$β_{asset}=β_{debt}\\big(\\frac{D}{D+E}\\big)+β_{equity}\\big(\\frac{E}{D+E}\\big)$$\n",
    "where\n",
    "\n",
    "$E$\t=\tmarket value of equity\n",
    "\n",
    "$D$\t=\tmarket value of debt\n",
    "\n",
    "$w_d$\t=\tproportion of debt = $\\frac{D}{(D + E)}$\n",
    "\n",
    "$w_e$\t=\tproportion of equity = $\\frac{E}{(D + E)}$\n",
    "\n",
    "But interest on debt is deducted by the company to arrive at taxable income, so the claim that creditors have on the company’s assets does not cost the company the full amount but, rather, the *after-tax claim*; the burden of debt financing is actually less due to interest deductibility. We can represent the asset beta of a company as the weighted average of the betas of debt and equity after considering the effects of the tax-deductibility of interest:\n",
    "\n",
    "$$β_{asset}=β_{debt}\\frac{(1−t)D}{(1−t)D+E}+β_{equity}\\frac{E}{(1−t)D+E}$$\n",
    "where $t$ is the marginal tax rate.\n",
    "\n",
    "We generally assume that a company’s debt does not have market risk, so $β_{debt} = 0$. This means that the returns on debt do not vary with the returns on the market, which we generally assume to be true for most large companies. If $β_{debt} = 0$, then\n",
    "$$β_{asset}=β_{equity}\\frac{1}{1+((1−t)\\frac{D}{E})}$$\n",
    "<div style=\"text-align: right\"> Equation 9</div>\n",
    "\n",
    "Therefore, the market risk of a company’s equity is affected by both the asset’s market risk, $β_{asset}$, and a factor representing the nondiversifiable portion of the company’s financial risk, $\\Big[1+\\big((1−t)\\frac{D}{E}\\big)\\Big]$:\n",
    "\n",
    "$$β_{equity}=β_{asset}\\Big[1+\\big((1−t)\\frac{D}{E}\\big)\\Big]$$\n",
    "<div style=\"text-align: right\"> Equation 10</div>\n",
    "\n",
    "##### Step 4: Levered Beta - Equity Beta \n",
    "*The unlevering calculation produces a measure of market risk for the assets of the company—ignoring the company’s capital structure. We use the levering calculation in Equation 10 to estimate the market risk of a company given a specific asset risk, marginal tax rate, and capital structure.*\n",
    "\n",
    "Lever the beta for the project’s financial risk: Lever the beta of the project by adjusting the asset beta for the financial risk of the project.\n",
    "\n",
    "Once we determine the unlevered beta, we adjust it for the capital structure of the company or project that is the focus of our analysis. In other words, we “`lever`” the asset beta to arrive at an estimate of the equity beta for the project or company of interest.\n",
    "\n",
    "#### Project Beta\n",
    "We can use the same unlevering and levering calculations to estimate the asset risk and equity risk for a project. \n",
    "\n",
    "We start with the `equity beta` of the comparable company, which is the levered beta, $β_{L,comparable}$. \n",
    "\n",
    "And then, converting it into the equivalent `asset beta` for the `unlevered company`, $β_{U,comparable}$. \n",
    "\n",
    "Once we have the estimate of the unlevered beta, which is the company’s `asset risk`, we then can use the project’s `capital structure` and `marginal tax rate` to convert this asset beta into an equity beta for the project, $β_{L,project}$.\n",
    "\n",
    "We begin by estimating the levered beta of the comparable company, $β_{L,comparable}$. Using the capital structure and tax rate of the levered company, we estimate the asset beta for the comparable company, $β_{U,comparable}$:\n",
    "$$β_{U,comparable}=\\frac{β_{L,comparable}}{\\Big[1+((1−t_{comparable})\\frac{D_{comparable}}{E_{comparable}})\\Big]}$$\n",
    "<div style=\"text-align: right\"> Equation 11</div>\n",
    "\n",
    "We then consider the financial leverage of the project or company and calculate its equity risk, βL,project:\n",
    "$$β_{L,project}=β_{U,comparable}\\Big[1+\\big((1−t_{project})\\frac{D_{project}}{E_{project}}\\big)\\Big]$$\n",
    "<div style=\"text-align: right\"> Equation 12</div>"
   ]
  },
  {
   "cell_type": "markdown",
   "metadata": {},
   "source": [
    "Example: Suppose a company has an equity beta of 1.5, a debt-to-equity ratio of 0.4, and a marginal tax rate of 30 percent. Using Equation 9, the company’s asset beta is 1.1719:"
   ]
  },
  {
   "cell_type": "code",
   "execution_count": 25,
   "metadata": {},
   "outputs": [
    {
     "data": {
      "text/plain": [
       "1.171875"
      ]
     },
     "execution_count": 25,
     "metadata": {},
     "output_type": "execute_result"
    }
   ],
   "source": [
    "# asset beta\n",
    "beta_equity = 1.5 \n",
    "d_to_e = 0.4 \n",
    "t = 0.3 \n",
    "beta_asset = beta_equity * 1 / (1 + d_to_e * (1-t))\n",
    "beta_asset"
   ]
  },
  {
   "cell_type": "markdown",
   "metadata": {},
   "source": [
    "In other words, if the company did not have any debt financing, its $β_{asset} = β_{equity} = 1.1719$; however, the use of debt financing increases its $β_{equity}$ from 1.1719 to 1.5. \n",
    "\n",
    "What would the company’s equity beta be if the company’s debt-to-equity ratio were 0.5 instead of 0.4? In this case, we apply Equation 10, using the debt-to-equity ratio of 0.5: "
   ]
  },
  {
   "cell_type": "code",
   "execution_count": 26,
   "metadata": {},
   "outputs": [
    {
     "data": {
      "text/plain": [
       "1.58203125"
      ]
     },
     "execution_count": 26,
     "metadata": {},
     "output_type": "execute_result"
    }
   ],
   "source": [
    "d_to_e = 0.5\n",
    "beta_equity = beta_asset * (1 + (1-t) * d_to_e)\n",
    "beta_equity"
   ]
  },
  {
   "cell_type": "markdown",
   "metadata": {},
   "source": [
    "Example: Inferring an Asset Beta\n",
    "\n",
    "Suppose that the beta of a publicly traded company’s stock is 1.3 and that the market value of equity and debt are, respectively, C\\\\$540 million and C\\\\$720 million. If the marginal tax rate of this company is 40 percent, what is the asset beta of this company?"
   ]
  },
  {
   "cell_type": "code",
   "execution_count": 29,
   "metadata": {},
   "outputs": [
    {
     "data": {
      "text/plain": [
       "0.7222222222222223"
      ]
     },
     "execution_count": 29,
     "metadata": {},
     "output_type": "execute_result"
    }
   ],
   "source": [
    "# know that\n",
    "beta_e = 1.3\n",
    "debt = 720\n",
    "equity = 540\n",
    "t = 0.4\n",
    "# asset beta \n",
    "beta_a = beta_e / (1 + debt/equity * (1-t))\n",
    "beta_a"
   ]
  },
  {
   "cell_type": "code",
   "execution_count": null,
   "metadata": {},
   "outputs": [],
   "source": [
    "# EXAMPLE 10\n"
   ]
  },
  {
   "cell_type": "code",
   "execution_count": null,
   "metadata": {},
   "outputs": [],
   "source": [
    "# EXAMPLE 11\n"
   ]
  },
  {
   "cell_type": "markdown",
   "metadata": {},
   "source": [
    "### Country Risk\n",
    "A common approach for dealing with this problem is to adjust the cost of equity estimated using the CAPM by adding a `country spread` (`country risk premium`) to the market risk premium. Below are some methods to estimate the country spread:\n",
    "##### Method 1\n",
    "Sovereign Yield Spread is the difference between the `government bond yield` in that country, **denominated in the currency of a developed country**, and the Treasury bond yield on a similar maturity bond in the developed country.\n",
    "\n",
    "$$SYS = Bond\\ Yield_{gov} - Treasury\\ Bond\\ Yield_{developed}$$\n",
    "\n",
    "*(sovereign yield spread is an estimate of the country spread (country equity premium) for a developing nation that is based on a comparison of bonds yields in country being analyzed and a developed country. The sovereign yield spread is the difference between a government bond yield in the country being analyzed, denominated in the currency of the developed country, and the Treasury bond yield on a similar maturity bond in the developed country.)*\n",
    "##### Method 2\n",
    "Country risk premium as the product of the `sovereign yield spread` and the ratio of the volatility of the developing country equity market to that of the sovereign bond market denominated in terms of the currency of a developed country:\n",
    "\n",
    "$$Country\\ equity\\ premium=Sovereign\\ yield\\ spread\\times\\frac{std_{equity\\ index}}{std_{sovereign\\ bond\\ market}}$$\n",
    "<div style=\"text-align: right\"> Equation 13</div>\n",
    "where\n",
    "\n",
    "$I$ = Annualized standard deviation of equity index\n",
    "\n",
    "$std$ = Annualized standard deviation of the sovereign bond market in terms of the developed market currency\n",
    "\n",
    "The logic of this calculation is that the sovereign yield spread captures the general risk of the country, which is then adjusted for the volatility of the stock market relative to the bond market. **This country risk premium is then used in addition to the equity premium estimated for a project in a developed country.** \n",
    "\n",
    "##### Method 3\n",
    "Another approach is to use country credit ratings to estimate the `expected rates of returns` for countries that have credit ratings but no equity markets. This method requires estimating reward to credit risk measures for a large sample of countries for which there are both credit ratings and equity markets and then applying this ratio to those countries without equity markets based on the country’s credit rating.\n",
    "### Marginal Cost of Capital Schedule\n",
    "The amount of capital at which the weighted average cost of capital changes—which means that the cost of one of the sources of capital changes—is referred to as a `break point`.\n",
    "\n",
    "These break points are determined from the amounts of capital at which the cost changes, calculated as\n",
    "$$Break\\ point=\\frac{Amount\\ of\\ capital\\ at\\ which\\ the\\ source's\\ cost\\ of\\ capital\\ changes}{Proportion\\ of\\ new\\ capital\\ raised\\ from\\ the\\ source}$$\n",
    "<div style=\"text-align: right\"> Equation 14</div>\n",
    "\n",
    "### Flotation Costs\n",
    "When a company raises new capital, it generally seeks the assistance of investment bankers. Investment bankers charge the company a fee based on the size and type of offering. This fee is referred to as the flotation cost. In the case of debt and preferred stock, we do not usually incorporate flotation costs in the estimated cost of capital because the amount of these costs is quite small, often less than 1 percent. However, with equity issuance, the flotation costs may be substantial. \n",
    "\n",
    "Flotation costs are an additional cost of the project and should be incorporated as an adjustment to the initial-period cash flows in the valuation computation.\n",
    "##### Approach 1\n",
    "we can specify flotation costs in monetary terms, as an amount per share or as a percentage of the share price. With flotation costs in monetary terms on a per share basis, F, the cost of external equity is\n",
    "$$r_e=\\big(\\frac{D_1}{P_0−F}\\big)+g$$\n",
    "<div style=\"text-align: right\"> Equation 15</div>\n",
    "As a percentage applied against the price per share, the cost of external equity is\n",
    "\n",
    "$$r_e=\\big(\\frac{D_1}{P_0(1−f)}\\big)+g$$\n",
    "<div style=\"text-align: right\"> Equation 16</div>\n",
    "\n",
    "where $f$ is the flotation cost as a percentage of the issue price.\n",
    "\n",
    "The problem with this approach is that the flotation costs are a cash flow at the initiation of the project and **affect the value of any project by reducing the initial cash flow**. Adjusting the cost of capital for flotation costs is incorrect because by doing so, we are adjusting the present value of the future cash flows by a fixed percentage.\n",
    "##### Approach 2\n",
    "The alternative and recommended approach is to make the adjustment to the cash flows in the valuation computation.\n",
    "\n",
    "**It is preferred to deduct the flotation costs as part of the net present value calculation**\n",
    "### What Do CFOs Do?\n",
    "- The most popular method for estimating the cost of equity is the `capital asset pricing model`.\n",
    "- Few companies use the dividend cash flow model to estimate a cost of equity.\n",
    "- Publicly traded companies are more likely to use the capital asset pricing model than are private companies.\n",
    "- In evaluating projects, the majority use a single company cost of capital, but a large portion apply some type of risk adjustment for individual projects."
   ]
  },
  {
   "cell_type": "markdown",
   "metadata": {},
   "source": [
    "Example: If the equity risk premium for a project in a developed country is 4.5 percent and the country risk premium is 3 percent, the total equity risk premium used in the CAPM estimation is 7.5 percent. If the appropriate beta is 1.2 and the risk-free rate of interest is 4 percent, the cost of equity is:"
   ]
  },
  {
   "cell_type": "code",
   "execution_count": 31,
   "metadata": {},
   "outputs": [
    {
     "data": {
      "text/plain": [
       "0.13"
      ]
     },
     "execution_count": 31,
     "metadata": {},
     "output_type": "execute_result"
    }
   ],
   "source": [
    "# know that \n",
    "risk_equity = 0.045\n",
    "country_spread = 0.03\n",
    "total_premium_equity = 0.075\n",
    "beta = 1.2\n",
    "risk_free_rate = 0.04\n",
    "# cost of equity \n",
    "risk_free_rate + beta * (country_spread + risk_equity)"
   ]
  },
  {
   "cell_type": "markdown",
   "metadata": {},
   "source": [
    "Example: If the company raises capital according to its target capital structure proportions of 40 percent debt and 60 percent equity, this company faces a marginal cost of capital schedule that is upward sloping, with break points at:"
   ]
  },
  {
   "cell_type": "markdown",
   "metadata": {},
   "source": [
    "the first break point for debt financing is reached with €2 million/0.4 = €5 million of new capital raised. The first break point attributed to a change in equity cost occurs at €6 million/0.6 = €10 million. "
   ]
  },
  {
   "cell_type": "code",
   "execution_count": 32,
   "metadata": {},
   "outputs": [
    {
     "data": {
      "text/html": [
       "<div>\n",
       "<style scoped>\n",
       "    .dataframe tbody tr th:only-of-type {\n",
       "        vertical-align: middle;\n",
       "    }\n",
       "\n",
       "    .dataframe tbody tr th {\n",
       "        vertical-align: top;\n",
       "    }\n",
       "\n",
       "    .dataframe thead th {\n",
       "        text-align: right;\n",
       "    }\n",
       "</style>\n",
       "<table border=\"1\" class=\"dataframe\">\n",
       "  <thead>\n",
       "    <tr style=\"text-align: right;\">\n",
       "      <th></th>\n",
       "      <th>DD+E</th>\n",
       "      <th>Spread (bps)</th>\n",
       "    </tr>\n",
       "  </thead>\n",
       "  <tbody>\n",
       "    <tr>\n",
       "      <th>0</th>\n",
       "      <td>Less than 0.40</td>\n",
       "      <td>200</td>\n",
       "    </tr>\n",
       "    <tr>\n",
       "      <th>1</th>\n",
       "      <td>0.40 to 0.49</td>\n",
       "      <td>300</td>\n",
       "    </tr>\n",
       "    <tr>\n",
       "      <th>2</th>\n",
       "      <td>0.50 to 0.59</td>\n",
       "      <td>400</td>\n",
       "    </tr>\n",
       "    <tr>\n",
       "      <th>3</th>\n",
       "      <td>0.60 to 0.69</td>\n",
       "      <td>600</td>\n",
       "    </tr>\n",
       "    <tr>\n",
       "      <th>4</th>\n",
       "      <td>0.70 to 0.79</td>\n",
       "      <td>800</td>\n",
       "    </tr>\n",
       "    <tr>\n",
       "      <th>5</th>\n",
       "      <td>0.80 to 0.89</td>\n",
       "      <td>1,000</td>\n",
       "    </tr>\n",
       "    <tr>\n",
       "      <th>6</th>\n",
       "      <td>0.90 or higher</td>\n",
       "      <td>1,200</td>\n",
       "    </tr>\n",
       "  </tbody>\n",
       "</table>\n",
       "</div>"
      ],
      "text/plain": [
       "             DD+E Spread (bps)\n",
       "0  Less than 0.40          200\n",
       "1    0.40 to 0.49          300\n",
       "2    0.50 to 0.59          400\n",
       "3    0.60 to 0.69          600\n",
       "4    0.70 to 0.79          800\n",
       "5    0.80 to 0.89        1,000\n",
       "6  0.90 or higher        1,200"
      ]
     },
     "execution_count": 32,
     "metadata": {},
     "output_type": "execute_result"
    }
   ],
   "source": [
    "# EXAMPLE 13\n",
    "df = pd.read_csv('cost_of_capital.csv', delimiter='\\t')\n",
    "df"
   ]
  },
  {
   "cell_type": "markdown",
   "metadata": {},
   "source": [
    "Marginal Cost of Capital Schedule\n",
    "Alan Conlon is the CFO of Allied Canadian Breweries Ltd. He wants to determine the capital structure that will result in the lowest cost of capital for Allied. He has access to the following information:\n",
    "\n",
    "The minimum rate at which the company can borrow is the 12-month Libor rate plus a premium that varies with the debt-to-capital ratio $[D/(D + E)]$ as given above. \n",
    "\n",
    "The current 12-month Libor is 2.8 percent.\n",
    "\n",
    "The market risk premium is 5 percent, and unleveraged beta is 0.9.\n",
    "\n",
    "The risk-free rate is 3 percent.\n",
    "\n",
    "The company’s tax rate is 36 percent.\n",
    "\n",
    "1. Determine the WACC for 10 percent intervals of the debt-to-capital ratio (i.e., 0.1, 0.2, etc.) based on the information given. \n",
    "2. Recommend a target capital structure based on 10 percent intervals of the debt-to-capital ratio, recommend a target capital structure."
   ]
  },
  {
   "cell_type": "code",
   "execution_count": null,
   "metadata": {},
   "outputs": [],
   "source": [
    "# "
   ]
  },
  {
   "cell_type": "markdown",
   "metadata": {},
   "source": []
  }
 ],
 "metadata": {
  "kernelspec": {
   "display_name": "Python 3",
   "language": "python",
   "name": "python3"
  },
  "language_info": {
   "codemirror_mode": {
    "name": "ipython",
    "version": 3
   },
   "file_extension": ".py",
   "mimetype": "text/x-python",
   "name": "python",
   "nbconvert_exporter": "python",
   "pygments_lexer": "ipython3",
   "version": "3.7.3"
  }
 },
 "nbformat": 4,
 "nbformat_minor": 4
}
