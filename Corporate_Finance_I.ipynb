{
 "cells": [
  {
   "cell_type": "code",
   "execution_count": 1,
   "metadata": {},
   "outputs": [],
   "source": [
    "import pandas as pd"
   ]
  },
  {
   "cell_type": "markdown",
   "metadata": {},
   "source": [
    "# Introduction to Corporate Governance and Other ESG Considerations"
   ]
  },
  {
   "cell_type": "markdown",
   "metadata": {},
   "source": [
    "The term `corporate governance` encompasses the following features:\n",
    "- A system of internal controls and procedures for managing organizational business\n",
    "- A framework for defining the rights and responsibilities of individuals and groups within the organization\n",
    "- An arrangement of checks, balances, and incentives to minimize and manage conflicts between the interests of insiders and external stakeholders\n",
    "\n",
    "Corporate governance practices vary by jurisdiction, but most companies have policies and procedures based on either shareholder theory or stakeholder theory. \n",
    "#### Shareholder Theory \n",
    "The paramount responsibility of corporate managers is to maximize returns for shareholders. This is the view of corporate governance that is adopted in the influential Cadbury Report, written in 1991.\n",
    "#### Stakeholder Theory\n",
    "Shareholders are just one of the stakeholder groups that should be considered. Other categories of corporate stakeholders (e.g., customers, employees) are covered in more detail in the next section. This broader interpretation of corporate governance can be seen in the Principles of Corporate Governance framework, which was developed by the Organization for Economic Cooperation and Development (OECD) in 1999.\n",
    "## Stakeholder Groups\n",
    "The primary stakeholder groups of a corporation consist of:<br> \n",
    "#### Shareholders\n",
    "In terms of capital structure, shareholders are the most junior class of capital providers; in case of a company bankruptcy, shareholders receive proceeds only after all creditors’ claims are paid. Shareholder interests are, therefore, typically focused on growth in corporate profitability that maximizes the value of a company’s equity.\n",
    "\n",
    "Shareholders maintain control over the company through their power to elect the board of directors and vote for specified resolutions. The board of directors is expected to represent shareholders—protecting their interests, appointing senior management, providing strategic direction, and monitoring company and management performance.\n",
    "- Controlling shareholders: A particular shareholder or block of shareholders holding a percentage of shares that gives them significant voting power.\n",
    "- Minority shareholders: A particular shareholder or block of shareholders holding a small proportion of a company’s outstanding shares, resulting in a limited ability to exercise control in voting activities.\n",
    "  - Straight voting \n",
    "  - Related-party transactions (Such a situation could occur when a controlling shareholder maintains a financial interest in a transaction between the company and a third party and that transaction conflicts with the company’s best interests.)\n",
    "  - An equity structure with multiple share classes in which one class is non-voting or has limited voting rights creates a divergence between the ownership and control rights of different classes of shareholders. \n",
    "\n",
    "#### Creditors\n",
    "Most commonly bondholders and banks. Creditors do not hold voting power (unlike common shareholders) and typically have limited influence over a company’s operations. Creditors may protect themselves and exert some control over a company by using covenants, which restrict activities of the borrower. \n",
    "\n",
    "Creditors may also find their interests jeopardized when the company attempts to increase its borrowings to a level that would increase default risk.\n",
    "\n",
    "The distribution of excessive dividends to shareholders might also conflict with creditors’ interests if it impairs the company’s ability to pay interest and principal.\n",
    "#### Managers (or Executives)\n",
    "A company may be presented with a takeover offer that is attractive to shareholders but would jeopardize the interests of managers in preserving their employment at the company.\n",
    "#### Other Employees\n",
    "#### Board of Directors\n",
    "Elected by shareholders to protect shareholders’ interests, provide strategic direction, and monitor company and management performance. A board is typically structured as either `one-tier` or `two-tier`. A one-tier structure consists of a single board of directors, composed of executive and non-executive directors. A two-tier structure consists of two separate boards: (1) a supervisory board, which is primarily composed of non-executive directors, and (2) a management (executive) board, which is composed of executive directors. Directors are also typically concerned with their exposure to liability for breach of duty. Directors can mitigate this exposure by exercising appropriate levels of control over the company’s operations and its management. \n",
    "#### Customers\n",
    "#### Suppliers\n",
    "#### Governments/Regulators (and, by extension, Affected Individuals and Community Groups)\n",
    "\n",
    "### Principal–Agent and Other Relationships in Corporate Governance\n",
    "A principal–agent relationship (also known as an agency relationship) is created when a principal hires an agent to perform a particular task or service.\n",
    "1. Shareholder and Manager/Director Relationships\n",
    "2. Controlling and Minority Shareholder Relationships\n",
    "3. Manager and Board Relationships\n",
    "4. Shareholder versus Creditor Interests\n",
    "5. Other Stakeholder Conflicts\n",
    "  - Conflict between customers and shareholders\n",
    "  - Conflict between customers and suppliers\n",
    "  - Conflict between shareholders and governments or regulators"
   ]
  },
  {
   "cell_type": "markdown",
   "metadata": {},
   "source": [
    "## Overview and Mechanisms of Stakeholder Management\n",
    "### Overview of Stakeholder Management\n",
    "The `legal infrastructure` defines the framework for rights established by law and the availability or ease of legal recourse for any violation of these rights. \n",
    "\n",
    "The `contractual infrastructure` is shaped by the contractual arrangements entered into by the company and its stakeholders that help define and secure the rights of both parties. The organizational infrastructure refers to internal systems, governance procedures, and practices adopted and controlled by the company in managing its stakeholder relationships. \n",
    "\n",
    "Lastly, the `governmental infrastructure` refers to regulations imposed on companies.\n",
    "#### General Meetings (General Assemblies)\n",
    "General meetings enable shareholders to participate in discussions and to vote on major corporate matters and transactions that are not delegated to the board of directors.\n",
    "\n",
    "Proxy voting is a process that enables shareholders who are unable to attend a meeting to authorize another individual (for example, another shareholder or director) to vote on their behalf. Proxy voting is the most common form of investor participation in general meetings.\n",
    "\n",
    "Cumulative voting (as opposed to straight voting) enables each shareholder to accumulate and vote all his or her shares for a single candidate in an election involving more than one director. This voting process raises the likelihood that minority shareholders are represented by at least one director on the board, but it may not be compatible with majority voting standards for director elections in which share ownership is widely dispersed. \n",
    "\n",
    "Sell-out rights: rights that allow minority shareholders who have voted against a merger offer to force a bidder with more than 90% of the target’s voting rights to buy their shares at a fair price upon the deal’s approval.\n",
    "#### Board of Director Mechanisms\n",
    "The board guides managers on the company’s strategic direction, oversees and monitors management’s actions in implementing the strategy, and evaluates and rewards or disciplines management performance. The board also supervises the company’s audit, control, and risk management functions and ensures the adoption of proper governance systems and compliance with all applicable laws and regulations. \n",
    "#### The Audit Function\n",
    "The audit function is an integral component of any governance structure. The function represents the systems, controls, and policies/procedures in place to examine the company’s operations and financial records. Internal audits are conducted by an independent internal audit function or department. External auditors are independent from the company and conduct an annual audit of the company’s financial records to provide reasonable and independent assurance of the accuracy of financial statements and their fair representation of the financial position of the company.\n",
    "#### Reporting and Transparency\n",
    "Such information is essential for shareholders to\n",
    "- reduce the extent of information asymmetry between shareholders and managers;\n",
    "- assess the performance of the company and of its directors and managers;\n",
    "- make informed decisions in valuing the company and deciding to purchase, sell, or transfer shares; and\n",
    "- vote on key corporate matters or changes.\n",
    "\n",
    "#### Policies on Related-Party Transactions\n",
    "Directors and managers are required to disclose any actual or potential, or direct or indirect, conflict of interest they have with the company, as well as any material interests in a transaction that may affect the company.\n",
    "#### Remuneration Policies\n",
    "#### Say on Pay\n",
    "Say on pay enables shareholders to vote on executive remuneration matters. "
   ]
  },
  {
   "cell_type": "markdown",
   "metadata": {},
   "source": [
    "### Mechanisms to Mitigate Associated Stakeholder Risks\n",
    "#### Contractual Agreements with Creditors\n",
    "`Indenture`, which is a legal contract that describes the structure of a bond, the obligations of the issuer, and the rights of the bondholders. To limit creditors’ risk during the term of a bond (or loan), debtholders may choose to impose `covenants` within indentures or contracts. `Collaterals` are another tool often used by creditors to guarantee repayment, representing assets or financial guarantees that are above and beyond an issuer’s promise to repay its obligations.\n",
    "#### Employee Laws and Contracts\n",
    "#### Contractual Agreements with Customers and Suppliers\n",
    "#### Laws and Regulations"
   ]
  },
  {
   "cell_type": "markdown",
   "metadata": {},
   "source": [
    "## Company Boards and Committees\n",
    "### Composition of the Board of Directors\n",
    "Independent director is a specific type of non-executive director that does not have a material relationship with the company with regard to employment, ownership, or remuneration. The appointment of a lead independent director is an alternative that is sometimes practiced by boards of companies without CEO duality. <br>\n",
    "In many countries, the chief executive officer (CEO) and chairperson roles are increasingly separated.\n",
    "\n",
    "Duty of care “requires board members to act on a fully informed basis, in good faith, with due diligence and care.” The OECD further notes that duty of loyalty “is the duty of the board member to act in the interest of the company and shareholders. \n",
    "#### Board of Directors Committees\n",
    "- Audit Committee\n",
    "- Governance Committee\n",
    "- Remuneration or Compensation Committee\n",
    "- Nomination Committee\n",
    "- Risk Committee\n",
    "- Investment Committee\n",
    "### Factors in Analyzing Corporate Governance and Stakeholder Management\n",
    "#### Market Factors\n",
    "- Shareholder Engagement\n",
    "- Shareholder Activism<br>\n",
    "Shareholder activism refers to strategies used by shareholders to attempt to compel a company to act in a desired manner. Although shareholder activism can focus on a range of issues, including those involving social or political considerations, the primary motivation of activist shareholders is to increase shareholder value.<br>\n",
    "- Competition and Takeovers\n",
    "One mechanism is the `proxy contest` (or proxy fight). In a proxy contest, shareholders are persuaded to vote for a group seeking a controlling position on a company’s board of directors. \n",
    "\n",
    "Managerial teams can also be displaced through a `tender offer`, which involves shareholders selling their interests directly to the group seeking to gain control. A contest for corporate control may attract arbitrageurs and takeover specialists, who facilitate transfers of control by accumulating long positions from existing shareholders in the target company and later selling the positions to the highest bidder. \n",
    "\n",
    "Finally, a `hostile takeover` is an attempt by one entity to acquire a company without the consent of the company’s management.\n",
    "#### Non-market Factors\n",
    "- Legal Environment\n",
    "Countries that have a common law system (such as the United Kingdom, the United States, India, and Canada) are generally considered to offer superior protection of the interests of shareholders and creditors relative to those that have adopted a civil law system (such as France, Germany, Italy, and Japan). The key difference between the two systems lies in the ability of a judge to create laws. In civil law systems, laws are created primarily through statutes and codes enacted by the legislature. The role of judges is generally limited to rigidly applying the statutes and codes to the specific case brought before the court. In contrast, in common law systems, laws are created both from statutes enacted by the legislature and by judges through judicial opinions. In common law systems, shareholders and creditors have the ability to appeal to a judge to rule against management actions and decisions that are not expressly forbidden by statute or code, whereas in civil law systems, this option is generally not possible.\n",
    "- The Media\n",
    "- The Corporate Governance Industry\n",
    "### Risks and Benefits of Corporate Governance and Stakeholder Management\n"
   ]
  },
  {
   "cell_type": "markdown",
   "metadata": {},
   "source": [
    "## Factors Relevant to Corporate Governance and Stakeholder Management Analysis\n",
    "The analysis of corporate governance, stakeholder management, and other non-financial (often termed “extra-financial”) considerations is inherently a subjective exercise. Governance practices that may raise the risk profile of one company may be perfectly acceptable in a different context, depending on geographic norms, mitigating circumstances, or the investor’s risk tolerance and investment thesis. \n",
    "\n",
    "Some key questions that analysts may consider when assessing a company’s corporate governance or stakeholder management system are as follows:\n",
    "- What is the company’s ownership and voting structure among shareholders?\n",
    "- Who represents shareholders on this company’s board?\n",
    "- What are the main drivers of the management team’s remuneration and incentive structure?\n",
    "- Who are the significant investors in the company?\n",
    "- How robust are the shareholder rights at the company, including relative to peers?\n",
    "- How effectively is the company managing long-term risks, such as securing access to necessary resources, managing human capital, exhibiting integrity and leadership, and strengthening the long-term sustainability of the enterprise?\n",
    "\n",
    "#### Economic Ownership and Voting Control\n",
    "#### Board of Directors Representation\n",
    "#### Remuneration and Company Performance\n",
    "#### Investors in the Company\n",
    "`Cross-shareholdings` are still prevalent in a number of markets. This situation occurs when a company, particularly a publicly listed one, holds a large, passive, minority stake in another company. Such holdings generally help to protect management from shareholder pressures because implicit in a cross-shareholding arrangement is the guarantee that the owner of the shares will support management on all voting issues. In effect, these shareholdings act as takeover defenses.\n",
    "\n",
    "The presence of a sizable `affiliated stockholder` (such as an individual, family trust, endowment, or private equity fund) can shield a company from the effects of voting by outside shareholders. In certain countries, the presence of such shareholders is common, viewed by local market participants as a means of enhancing stability, strengthening the relationship between companies and their business partners, and fostering a long-term perspective by protecting the company against hostile takeover bids.\n",
    "\n",
    "The presence of activist shareholders can meaningfully and rapidly change the investment thesis for a company. Experienced activists, together with short-term-oriented investors who follow their activities, can create substantial turnover in a company’s shareholder composition in a short amount of time. This is because an activist often serves as a catalyst for new strategic alternatives at a company and can attract new investors and/or arbitrageurs.\n",
    "#### Strength of Shareholders’ Rights\n",
    "#### Managing Long-Term Risks"
   ]
  },
  {
   "cell_type": "markdown",
   "metadata": {},
   "source": [
    "## ESG Considerations for Investors and Analysts\n",
    "### ESG Implementation Approaches\n",
    "Specific ESG investment styles include negative screening, positive screening, relative/best-in-class screening, full integration, overlay/portfolio tilt, risk factor/risk premium investing, thematic investment, and engagement/active ownership.\n",
    "#### Negative Screening\n",
    "#### Positive Screening\n",
    "Positive screening, typically implemented through an ESG ranking or scoring approach, is the inclusion of certain sectors, companies, or practices in a fund or portfolio on the basis of specific ESG criteria.\n",
    "#### Full integration \n",
    "Full integration into individual stock valuation is the explicit inclusion of ESG factors into traditional financial analysis of individual stocks (e.g., as inputs into cash flow forecasts and/or cost-of-capital estimates). The focus of full integration is to identify risks and opportunities arising from ESG factors and to determine whether a company is properly managing its environmental, social, and governance resources in accordance with a sustainable business model.\n",
    "#### Overlay/portfolio tilt\n",
    "#### Thematic investment\n",
    "#### Engagement/active ownership\n",
    "\n",
    "### Catalysts for ESG Growth\n",
    "\n",
    "### ESG Market Overview\n",
    "\n",
    "### ESG Factors in Investment Analysis\n",
    "An ESG factor is considered to be material when it is believed to have an impact on a company’s long-term business model.\n",
    "\n",
    "One area of debate has been whether the consideration of ESG factors is consistent with fiduciary duty—particularly when overseeing and managing pension fund assets. Accepting lower returns or assuming greater risk in a private pension plan to promote environmental, social, or public policy causes would violate fiduciary duty and is prohibited by ERISA."
   ]
  },
  {
   "cell_type": "markdown",
   "metadata": {},
   "source": [
    "# Capital Budgeting"
   ]
  },
  {
   "cell_type": "markdown",
   "metadata": {},
   "source": [
    "TBC"
   ]
  },
  {
   "cell_type": "markdown",
   "metadata": {},
   "source": [
    "# Cost of Capital"
   ]
  }
 ],
 "metadata": {
  "kernelspec": {
   "display_name": "Python 3",
   "language": "python",
   "name": "python3"
  },
  "language_info": {
   "codemirror_mode": {
    "name": "ipython",
    "version": 3
   },
   "file_extension": ".py",
   "mimetype": "text/x-python",
   "name": "python",
   "nbconvert_exporter": "python",
   "pygments_lexer": "ipython3",
   "version": "3.7.3"
  }
 },
 "nbformat": 4,
 "nbformat_minor": 4
}
