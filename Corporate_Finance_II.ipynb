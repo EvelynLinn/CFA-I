{
 "cells": [
  {
   "cell_type": "markdown",
   "metadata": {},
   "source": [
    "# Measures of Leverage"
   ]
  },
  {
   "cell_type": "markdown",
   "metadata": {},
   "source": [
    "## Leverage\n",
    "Leverage is the use of fixed costs in a company’s cost structure. Fixed costs that are operating costs (such as depreciation or rent) create operating leverage. Fixed costs that are financial costs (such as interest expense) create financial leverage.\n",
    "\n",
    "First, the degree of leverage is an important component in assessing a company’s risk and return characteristics. Second, analysts may be able to discern information about a company’s business and future prospects from management’s decisions about the use of operating and financial leverage. Knowing how to interpret these signals also helps the analyst evaluate the quality of management’s decisions. Third, the valuation of a company requires forecasting future cash flows and assessing the risk associated with those cash flows. Understanding a company’s use of leverage should help in forecasting cash flows and in selecting an appropriate discount rate for finding their present value.\n",
    "\n",
    "Leverage increases the volatility of a company’s earnings and cash flows and increases the risk of lending to or owning a company. Additionally, the valuation of a company and its equity is affected by the degree of leverage: The greater a company’s leverage, the greater its risk and, hence, the greater the discount rate that should be applied in its valuation. Further, highly leveraged (levered) companies have a greater chance of incurring significant losses during downturns, thus accelerating conditions that lead to financial distress and bankruptcy.\n",
    "\n",
    "The risk associated with future earnings and cash flows of a company are affected by the company’s cost structure. \n",
    "\n",
    "The cost structure of a company is the mix of variable and fixed costs. \n",
    "- Variable costs fluctuate with the level of production and sales.\n",
    "  - cost of goods purchased for resale, \n",
    "  - costs of materials or supplies, \n",
    "  - shipping charges, \n",
    "  - delivery charges, \n",
    "  - wages for hourly employees, \n",
    "  - sales commissions, and \n",
    "  - sales or production bonuses. \n",
    "- Fixed costs are expenses that are the same regardless of the production and sales of the company. \n",
    "  - depreciation, \n",
    "  - rent, \n",
    "  - interest on debt, \n",
    "  - insurance, and \n",
    "  - wages for salaried employees.\n",
    "  \n",
    "The greater leverage of Impulse Robotics is reflected in the greater slope of the line representing net income. Companies that have more fixed costs relative to variable costs in their cost structures have greater variation in net income as revenues fluctuate and, hence, more risk."
   ]
  },
  {
   "cell_type": "markdown",
   "metadata": {},
   "source": [
    "### Business and Sales Risks\n",
    "Business risk is the risk associated with operating earnings. Business risk is therefore the combination of sales risk and operating risk. Companies that operate in the same line of business generally have similar business risk.\n",
    "#### Sales Risk\n",
    "Sales risk is the uncertainty with respect to the price and quantity of goods and services.\n",
    "#### Operating Risk\n",
    "Operating risk is the risk attributed to the operating cost structure, in particular the use of fixed costs in operations. \n",
    "#### Degree of Operating Leverage\n",
    "Calculating the `operating income elasticity`, which we refer to as the `degree of operating leverage (DOL)`. DOL is a quantitative measure of operating risk.\n",
    "\n",
    "$$DOL=\\frac{Percentage\\ change\\ in\\ operating\\ income}{Percentage\\ change\\ in\\ units\\ sold}$$ \n",
    "\n",
    "<div style=\"text-align: right\"> Equation 1<div>\n",
    "    \n",
    "We can represent the degree of operating leverage as given in Equation 1 in terms of the basic elements of the `price per unit`, `variable cost per unit`, `number of units sold`, and `fixed operating costs`. Operating income is revenue minus total operating costs (with variable and fixed cost components): \n",
    "\n",
    "$$Operating\\ income=\\big[(Price\\ per\\ unit)(Number\\ of\\ units\\ sold)\\big]-\\big[(Variable\\ cost\\ per\\ unit)(Number\\ of\\ units\\ sold)\\big]−\\big[Fixed\\ operating\\ costs\\big]$$\n",
    " \n",
    "or\n",
    "\n",
    "$$Operating\\ income=(Number\\ of\\ units\\ sold)\\big[(Price\\ per\\ unit)−(Variable\\ cost\\ per\\ unit)\\big]−\\big[Fixed\\ operating\\ costs\\big]$$\n",
    "    \n",
    "The `per unit contribution margin` is the amount that each unit sold contributes to covering fixed costs—that is, the difference between the price per unit and the variable cost per unit. That difference multiplied by the quantity sold is the contribution margin, which equals revenue minus variable costs.\n",
    "    \n",
    "How much does operating income change when the number of units sold changes? Fixed costs do not change; therefore, **Operating income changes by the contribution margin**. The percentage change in operating income for a given change in units sold simplifies to\n",
    "$$DOL=\\frac{Q(P−V)}{Q(P−V)−F}$$\n",
    "<div style=\"text-align: right\"> Equation 2<div>\n",
    "\n",
    "where \n",
    "\n",
    "$Q$ is the number of units, \n",
    "\n",
    "$P$ is the price per unit, \n",
    "\n",
    "$V$ is the variable operating cost per unit, and \n",
    "\n",
    "$F$ is the fixed operating cost. \n",
    "\n",
    "Therefore, $P – V$ is the per unit contribution margin and $Q(P − V)$ is the contribution margin.\n",
    "\n",
    "\n",
    "Industries that tend to have high operating leverage are those that invest up front to produce a product but spend relatively little on making and distributing it. Software developers and pharmaceutical companies fit this description. Alternatively, retailers have low operating leverage because much of the cost of goods sold is variable.\n",
    "\n",
    "Because most companies produce more than one product, the ratio of variable to fixed costs is difficult to obtain. We can get an idea of the operating leverage of a company by looking at changes in operating income in relation to changes in sales for the entire company. This relation can be estimated by regressing changes in operating income (the variable to be explained) on changes in sales (the explanatory variable) over a recent time period."
   ]
  },
  {
   "cell_type": "markdown",
   "metadata": {},
   "source": [
    "Example: Calculating the Degree of Operating Leverage\n",
    "\n",
    "Arnaud Kenigswald is analyzing the potential impact of an improving economy on earnings at Global Auto, one of the world’s largest car manufacturers. Global is headquartered in Berlin. Global Auto manufactures passenger cars and produces revenues of €168 billion. Kenigswald projects that sales will improve by 10 percent due to increased demand for cars. He wants to see how Global’s earnings might respond given that level of increase in sales. He first looks at the degree of leverage at Global, starting with operating leverage.\n",
    "\n",
    "Global sold 6 million passenger cars in 2017. The average price per car was €28,000, fixed costs associated with passenger car production total €15 billion per year, and variable costs per car are €20,500. What is the degree of operating leverage of Global Auto?"
   ]
  },
  {
   "cell_type": "code",
   "execution_count": 11,
   "metadata": {},
   "outputs": [
    {
     "name": "stdout",
     "output_type": "stream",
     "text": [
      "1.5\n",
      "30000000000.0\n"
     ]
    },
    {
     "data": {
      "text/plain": [
       "0.15000000000000002"
      ]
     },
     "execution_count": 11,
     "metadata": {},
     "output_type": "execute_result"
    }
   ],
   "source": [
    "# know that \n",
    "revenue = 168e9\n",
    "sales_delta = 0.1\n",
    "sales = 6e6\n",
    "price = 28000\n",
    "fixed_cost = 15e9\n",
    "var_cost = 20500\n",
    "# DOL @6 million units\n",
    "DOL = sales * (price - var_cost) / (sales * (price - var_cost) - fixed_cost)\n",
    "print(DOL)\n",
    "# Operating income (current)\n",
    "op_income = sales * (price - var_cost) - fixed_cost\n",
    "print(op_income)\n",
    "# Operating income increase/decrease by (new)\n",
    "DOL*sales_delta"
   ]
  },
  {
   "cell_type": "markdown",
   "metadata": {},
   "source": [
    "### Financial Risk\n",
    "A security represents a claim on the income and assets of a business; therefore, the risk of the security goes beyond the variability of operating earnings to include how the cash flows from those earnings are distributed among the claimants—the creditors and owners of the business. The risk of a security is therefore affected by both business risk and financial risk.\n",
    "\n",
    "Financial risk is the risk associated with how a company finances its operations.\n",
    "#### Degree of Financial Leverage and the Leveraging Role of Debt\n",
    "We can quantify this risk in the same way we did for operating risk, looking at the `sensitivity of the cash flows available to owners` when operating income changes. This sensitivity, which we refer to as the degree of financial leverage (`DFL`), is\n",
    "\n",
    "$$DFL=\\frac{Percentage\\ change\\ in\\ net\\ income}{Percentage\\ change\\ in\\ operating\\ income}$$\n",
    "<div style=\"text-align: right\"> Equation 3 <div>\n",
    "\n",
    "A company’s DFL is dependent on the level of operating income being considered.\n",
    "    \n",
    "$Net\\ income = operating\\ income - (interest + taxes)$, If operating income changes, how does net income change?\n",
    "\n",
    "$$DFL=\\frac{[Q(P−V)−F](1−t)}{[Q(P−V)−F−C](1−t)}=\\frac{[Q(P−V)−F]}{[Q(P−V)−F−C]}$$\n",
    "<div style=\"text-align: right\"> Equation 4 <div>\n",
    "    \n",
    "where  $C$ = `fixed financial cost`\n",
    "    \n",
    "$t$ = tax rate\n",
    "    \n",
    "DFL is not affected by the tax rate.\n",
    "\n",
    "Again, we need to qualify our degree of leverage by the level of operating income because DFL is different at different levels of operating income.\n",
    "    \n",
    "Analyze the effect of financial leverage on a company’s net income and return on equity.\n",
    "    \n",
    "Using financial leverage generally increases the variability of return on equity (net income divided by shareholders’ equity). In addition, its use by a profitable company may increase the level of return on equity. "
   ]
  },
  {
   "cell_type": "code",
   "execution_count": null,
   "metadata": {},
   "outputs": [],
   "source": [
    "# EXAMPLE 2\n",
    "# EXAMPLE 3"
   ]
  },
  {
   "cell_type": "markdown",
   "metadata": {},
   "source": [
    "## Total Leverage and the Degree of Total Leverage\n",
    "The degree of operating leverage gives us an idea of the sensitivity of operating income to changes in revenues. And the degree of financial leverage gives us an idea of the sensitivity of net income to changes in operating income.\n",
    "\n",
    "Combining a company’s degree of operating leverage with its degree of financial leverage results in the `degree of total leverage (DTL)`, a measure of the sensitivity of net income to changes in the number of units produced and sold. We again make the simplifying assumption that a company sells all that it produces in the same period:\n",
    "\n",
    "$$DTL=\\frac{Percentage\\ change\\ in\\ net\\ income}{Percentage\\ change\\ in\\ the\\ number\\ of\\ units\\ sold}$$\n",
    "<div style=\"text-align: right\"> Equation 5 <div>\n",
    "    \n",
    "or\n",
    "\n",
    "$$DTL=\\frac{Q(P−V)}{Q(P−V)−F}\\times\\frac{[Q(P−V)−F]}{[Q(P−V)−F−C]}=\\frac{Q(P−V)}{Q(P−V)−F−C}$$\n",
    "<div style=\"text-align: right\"> Equation 6 <div>\n",
    "    \n",
    "where \n",
    "    \n",
    "Number of units sold\t=\t$Q$\n",
    "    \n",
    "Price per unit\t=\t$P$\n",
    "    \n",
    "Variable cost per unit\t=\t$V$\n",
    "    \n",
    "Fixed operating cost\t=\t$F$\n",
    "    \n",
    "Fixed financing cost\t=\t$C$\n",
    "\n",
    "**Because the DOL is relative to the base number of units produced and sold and the DFL is relative to the base level of operating earnings, DTL is different depending on the number of units produced and sold. **\n",
    "    \n",
    "In the case of operating leverage, the fixed operating costs act as a fulcrum. The greater the proportion of operating costs that are fixed, the more sensitive operating income is to changes in sales. In the case of financial leverage, the fixed financial costs, such as interest, act as a fulcrum. The greater the proportion of financing with fixed cost sources, such as debt, the more sensitive cash flows available to owners are to changes in operating income. Combining the effects of both types of leverage, we see that fixed operating and financial costs together increase the sensitivity of earnings to owners."
   ]
  },
  {
   "cell_type": "markdown",
   "metadata": {},
   "source": [
    "### Breakeven Points and Operating Breakeven Points\n",
    "The breakeven point, $Q_{BE}$, is the number of units produced and sold at which the company’s net income is zero—the point at which revenues are equal to costs.\n",
    "\n",
    "$$P\\times Q = V\\times Q + F + C$$\n",
    "where\n",
    "\n",
    "P\t=\tthe price per unit\n",
    "\n",
    "Q\t=\tthe number of units produced and sold\n",
    "\n",
    "V\t=\tthe variable cost per unit\n",
    "\n",
    "F\t=\tthe fixed operating costs\n",
    "\n",
    "C\t=\tthe fixed financial cost\n",
    "Therefore,\n",
    "\n",
    "$$PQ_{BE} = VQ_{BE} + F + C$$\n",
    "\n",
    "and the breakeven number of units, $Q_{BE}$, is\n",
    "\n",
    "$$Q_{BE}=\\frac{F+C}{P−V}$$\n",
    "<div style=\"text-align: right\"> Equation 7 <div>\n",
    "\n",
    "`Operating breakeven point`, $Q_{OBE}$:\n",
    "    \n",
    "Revenues at the operating breakeven point are set equal to operating costs at the operating breakeven point to solve for the operating breakeven number of units, $Q_{OBE}$. The expression shows $Q_{OBE}$ as equal to fixed operating costs divided by the difference between price per unit and variable cost per unit:\n",
    "    \n",
    "$$PQ_{OBE}=VQ_{OBE}+F$$\n",
    "    \n",
    "$$Q_{OBE}=\\frac{F}{P−V}$$\n"
   ]
  },
  {
   "cell_type": "markdown",
   "metadata": {},
   "source": [
    "### The Risks of Creditors and Owners\n",
    "Contractual payments to lenders must be made regardless of the profitability of the business. In contrast, equity providers claim whatever is left over after all expenses, including debt service, have been paid. In exchange for this risk, providers of equity capital exercise the decision-making power over the business, including the right to hire, guide, and if necessary, fire managers. \n",
    "\n",
    "The difference between a company that `reorganizes` and emerges from bankruptcy and one that is `liquidated` is often the difference between operating and financial leverage. Companies with high operating leverage have less flexibility in making changes, and bankruptcy protection does little to help reduce operating costs. Companies with high financial leverage use bankruptcy laws and protection to change their capital structure and, once the restructuring is complete, can emerge as ongoing concerns."
   ]
  },
  {
   "cell_type": "markdown",
   "metadata": {},
   "source": []
  },
  {
   "cell_type": "markdown",
   "metadata": {},
   "source": []
  },
  {
   "cell_type": "markdown",
   "metadata": {},
   "source": [
    "# Working Capital Management"
   ]
  },
  {
   "cell_type": "markdown",
   "metadata": {},
   "source": [
    "Managing Liquidity\n",
    "Measuring Liquidity\n",
    "Managing Cash\n",
    "Investing Short-Term Funds\n",
    "Short-Term Investment Strategies\n",
    "Managing Accounts Receivable\n",
    "Managing Inventory\n",
    "Managing Accounts Payable\n",
    "Managing Short-Term Financing"
   ]
  }
 ],
 "metadata": {
  "kernelspec": {
   "display_name": "Python 3",
   "language": "python",
   "name": "python3"
  },
  "language_info": {
   "codemirror_mode": {
    "name": "ipython",
    "version": 3
   },
   "file_extension": ".py",
   "mimetype": "text/x-python",
   "name": "python",
   "nbconvert_exporter": "python",
   "pygments_lexer": "ipython3",
   "version": "3.7.3"
  }
 },
 "nbformat": 4,
 "nbformat_minor": 4
}
