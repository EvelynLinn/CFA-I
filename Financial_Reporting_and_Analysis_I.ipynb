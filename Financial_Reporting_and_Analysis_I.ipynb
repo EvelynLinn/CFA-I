{
 "cells": [
  {
   "cell_type": "code",
   "execution_count": 1,
   "metadata": {},
   "outputs": [],
   "source": [
    "import pandas as pd\n",
    "import numpy as np\n",
    "from matplotlib import pyplot as plt\n",
    "%matplotlib inline\n",
    "from IPython.display import Image"
   ]
  },
  {
   "cell_type": "markdown",
   "metadata": {},
   "source": [
    "# Introduction to Financial Statement Analysis"
   ]
  },
  {
   "cell_type": "markdown",
   "metadata": {},
   "source": [
    "## Scope of Financial Statement Analysis\n",
    "Differentiate: \n",
    "- profit/cash flow\n",
    "- liquidity/solvency\n",
    "- assets (resources controlled by the company) in relation to liabilities and equity (the claims against assets). \n",
    "\n",
    "Financial position and capital structure are particularly important in credit analysis. The **financial position** can be measured by comparing assets and liabilities & equity. The combination of liabilities and equity used to finance its assets represents the **capital structure** of the company.\n",
    "\n",
    "Use cases:\n",
    "Value shares of a company by comparing its price-to-earnings ratio (P/E) to the P/Es of peer companies and/or may use forecasted future earnings as direct or indirect inputs into discounted cash flow models of valuation."
   ]
  },
  {
   "cell_type": "markdown",
   "metadata": {},
   "source": [
    "## Major Financial Statements \n",
    "Sources of information used in financial statement analysis, including the primary financial statements (statement of financial position or balance sheet, statement of comprehensive income, statement of changes in equity, and cash flow statement). "
   ]
  },
  {
   "cell_type": "markdown",
   "metadata": {},
   "source": [
    "### Statement of Financial Position/Condition - Balance Sheet\n",
    "Presents a company’s financial position by disclosing the resources the company controls (assets) and its obligations to lenders and other creditors (liabilities) at a specific point in time. \n",
    "\n",
    "**Owners’ equity** (sometimes called “net assets”): the excess of assets over liabilities (it's attributable to the company’s owners or shareholders). \n",
    "\n",
    "#### Accounting Equation (or Balance Sheet Equation)\n",
    "The relationship among the three parts of the balance sheet (assets, liabilities, and owners’ equity) can be expressed in the following equation form:\n",
    "\n",
    "$$Assets = Liabilities + Owners’\\ equity$$\n",
    "\n",
    "\n",
    "Using the balance sheet:\n",
    "- Has the company’s liquidity (ability to meet short-term obligations) improved?\n",
    "- Is the company solvent (does it have sufficient resources to cover its obligations)?\n",
    "- What is the company’s financial position relative to the industry?"
   ]
  },
  {
   "cell_type": "markdown",
   "metadata": {},
   "source": [
    "### Statement of Comprehensive Income\n",
    "Can be presented \n",
    "- as a single statement of comprehensive income or\n",
    "- as two statements: (1) an income statement and (2) a statement of comprehensive income (begins with profit or loss from the income statement)\n",
    "#### Income Statement (Statement of Operations or Profit and Loss (P&L) Statement)\n",
    "**revenue** and other income. (Revenue typically refers to amounts charged for the delivery of goods or services in the ordinary activities of a business.)\n",
    "\n",
    "\n",
    "**Expenses** reflect outflows, depletions of assets, and incurrences of liabilities that decrease equity. \n",
    "- cost of sales (cost of goods sold)\n",
    "- administrative expenses\n",
    "- income tax expenses \n",
    "- may be defined to include losses\n",
    "\n",
    "**Net income** (\"bottom line\") may also be referred to as “net earnings,” “net profit,” and “profit or loss.” In the event that expenses exceed revenues and other income, the result is referred to as “net loss.”\n",
    "\n",
    "**Operating profit** (earnings before interest and taxes (EBIT)) represents the results of the company’s usual business activities before deducting interest expense or taxes.\n",
    "\n",
    "The basic equation underlying the income statement is $$Revenue\\ +\\ Other\\ income\\ –\\ Expenses\\ =\\ Income\\ –\\ Expenses\\ =\\ Net\\ income$$\n",
    "\n",
    "Use cases: \n",
    "- Is the change in revenue related to an increase in units sold, an increase in prices, or some combination?\n",
    "- If the company has multiple business segments (for example, Volkswagen’s segments include passenger cars, light commercial vehicles, and financial services, among others), how are the segments’ revenue and profits changing?\n",
    "- How does the company compare with other companies in the industry?\n",
    "\n",
    "#### Other Comprehensive Income (OCI)\n",
    "Comprehensive income includes all items that impact owners’ equity but are not the result of transactions with shareowners. When comprehensive income is presented in two statements, the statement of comprehensive income begins with the profit or loss from the income statement and then presents the components of OCI.\n",
    "\n",
    "\n",
    "The items in OCI reflect changes in the company’s equity that are not considered to be profit or loss, some of which may be reclassified as such in the future such as unrealized currency translation gains and losses. \n",
    "\n",
    "(TBC)"
   ]
  },
  {
   "cell_type": "markdown",
   "metadata": {},
   "source": [
    "### Statement of Changes in (Owners' or Shareholders') Equity \n",
    "Serves to reports changes in the owners’ investment in the business over time. It is organized to present, for each component of equity, the beginning balance, any increases during the period, any decreases during the period, and the ending balance.\n",
    "\n",
    "Basic components:\n",
    "- Paid-in capital (an example of an increase is a new issuance of equity and an example of a decrease is a repurchase of previously issued stock)\n",
    "- Retained earnings (income is the most common increase and a dividend payment is the most common decrease)\n",
    "    - the cumulative amount of the company’s profits that have been retained in the company\n",
    "    - non-controlling or minority interests \n",
    "    - reserves that represent accumulated OCI items (may be shown separately or included in retained earnings) "
   ]
  },
  {
   "cell_type": "markdown",
   "metadata": {},
   "source": [
    "### Cash Flow Statement\n",
    "Financial flexibility is the ability of the company to react and adapt to financial adversity and opportunities.\n",
    "\n",
    "The cash flow statement classifies all cash flows of the company into three categories: operating, investing, and financing. The sum of the net cash flows from operating, investing, and financing activities and the effect of exchange rates on cash equals the net change in cash during the fiscal year.\n",
    "\n",
    "#### Cash Flows from Operating Activities \n",
    "Generally involve the cash effects of transactions involved in the determination of net income and, hence, comprise the day-to-day operations of the company. \n",
    "#### Cash Flows from Investing Activities \n",
    "Associated with the acquisition and disposal of long-term assets, such as property and equipment. \n",
    "#### Cash Flows from Financing Activities\n",
    "Relate to obtaining or repaying capital to be used in the business. \n",
    "\n",
    "*(Note: IFRS permit more flexibility than US GAAP in classifying dividend and interest receipts and payments within these categories.)*\n",
    "\n",
    "#### Direct and Indirect Methods \n",
    "The direct method of reporting cash flows from operating activities discloses major classes of gross cash receipts and gross cash payments. (Examples are cash received from customers and cash paid to suppliers and employees.)\n",
    "\n",
    "Reporting cash flow from operating activities is termed the indirect method.\n",
    "\n",
    "The indirect method emphasizes the different perspectives of the income statement and cash flow statement. On the income statement, income is reported when earned, not necessarily when cash is received, and expenses are reported when incurred, not necessarily when paid. The cash flow statement presents another aspect of performance: the ability of a company to generate cash flow from running its business. Ideally, for an established company, the analyst would like to see that the primary source of cash flow is from operating activities as opposed to investing or financing activities."
   ]
  },
  {
   "cell_type": "markdown",
   "metadata": {},
   "source": [
    "### Financial Notes, Supplementary Schedules, and Management Commentary\n",
    "The notes disclose the basis of preparation for the financial statements. The notes also disclose information about the accounting policies, methods, and estimates used to prepare the financial statements.\n",
    "\n",
    "Comparability of financial statements is a critical requirement for objective financial analysis.\n",
    "\n",
    "Use cases: such information as financial instrument risk, contingencies, and legal proceedings can alert an analyst to risks that can affect a company’s financial position and performance in the future and that require monitoring over time. \n",
    "\n",
    "#### Management Commentary\n",
    "1) the nature of the business; 2) management’s objectives and strategies; 3) the company’s significant resources, risks, and relationships; 4) results of operations; and 5) critical performance measures.\n",
    "\n",
    "\n",
    "Companies should disclose in management commentary any critical accounting policies that require management to make subjective judgements that may have a significant impact on reported financial results. These subjective judgements should be carefully reviewed because they may materially alter an analyst’s conclusions about the future performance or financial position of a company.\n"
   ]
  },
  {
   "cell_type": "markdown",
   "metadata": {},
   "source": [
    "### Auditor's Reports\n",
    "**Unqualified** audit opinion states that the financial statements give a “true and fair view” (international) or are “fairly presented” (international and US) in accordance with applicable accounting standards. This is also referred to as an “unmodified” or a “clean” opinion and is the one that analysts would like to see in a financial report. There are several other types of modified opinions. \n",
    "\n",
    "**Qualified** audit opinion is one in which there is some scope limitation or exception to accounting standards. Exceptions are described in the audit report with additional explanatory paragraphs so that the analyst can determine the importance of the exception. \n",
    "\n",
    "**Adverse** audit opinion is issued when an auditor determines that the financial statements materially depart from accounting standards and are not fairly presented. Finally, a disclaimer of opinion occurs when, for some reason, such as a scope limitation, the auditors are unable to issue an opinion."
   ]
  },
  {
   "cell_type": "markdown",
   "metadata": {},
   "source": [
    "### Other Sources of Information\n",
    "Information on management and director compensation, company stock performance, and any potential conflicts of interest that may exist between management, the board, and shareholders. \n",
    "\n",
    "This information may appear in the company’s annual report or other publicly available documents. Public companies often provide this information in **proxy statements**, which are distributed to shareholders about matters that are to be put to a vote at the annual (or special) meeting of shareholders. (Disclosure of management compensation is required in the proxy statement, and some aspects of management compensation are disclosed in the notes to the financial statements.)\n",
    "\n",
    "Interim reports provide updated information on a company’s performance and financial position since the last annual period.\n",
    "\n",
    "Companies also provide relevant current information on their websites, in press releases, and in conference calls with analysts and investors. One type of press release, which analysts often consider to be particularly important, is the **periodic earnings announcement**.\n",
    "\n",
    "Information on the economy, industry, and peer companies is useful in putting the company’s financial performance and position in perspective and in assessing the company’s future. \n",
    "\n",
    "Information from sources apart from the company is crucial "
   ]
  },
  {
   "cell_type": "markdown",
   "metadata": {},
   "source": [
    "## Financial Statement Analysis Framework\n",
    "Use cases:<br>\n",
    "Equity analysts: to evaluate potential investments in a company’s equity securities (i.e., the shares or stock it issues) as a basis for deciding whether a prospective investment is attractive and what an appropriate purchase price might be. <br>\n",
    "Credit analysts: to evaluate the credit-worthiness of a company to decide whether (and on what terms) a loan should be made or what credit rating should be assigned. <br>\n",
    "Other: to evaluate the performance of a subsidiary company, evaluating a private equity investment, or finding stocks that are overvalued for purposes of taking a short position.\n",
    "\n",
    "#### Articulate the Purpose and Context of Analysis\n",
    "1. The nature of the analyst’s function, such as evaluating an equity or debt investment or issuing a credit rating.\n",
    "2. Communication with client or supervisor on needs and concerns.\n",
    "3. Institutional guidelines related to developing specific work product.\n",
    "##### Output\n",
    "1. Statement of the purpose or objective of analysis.\n",
    "2. A list (written or unwritten) of specific questions to be answered by the analysis.\n",
    "3. Nature and content of report to be provided.\n",
    "4. Timetable and budgeted resources for completion.\n",
    "##### Key Questions\n",
    "- What is the purpose of the analysis? What questions will this analysis answer?\n",
    "- What level of detail will be needed to accomplish this purpose?\n",
    "- What data are available for the analysis?\n",
    "- What are the factors or relationships that will influence the analysis?\n",
    "- What are the analytical limitations, and will these limitations potentially impair the analysis?\n",
    "\n",
    "#### Collect Data\n",
    "##### Sources of Information\n",
    "1. Financial statements, other financial data, questionnaires, and industry/economic data.\n",
    "2. Discussions with management, suppliers, customers, and competitors.\n",
    "3. Company site visits (e.g., to production facilities or retail stores).\n",
    "##### Output\n",
    "1. Organized financial statements.\n",
    "2. Financial data tables.\n",
    "3. Completed questionnaires, if applicable.\n",
    "\n",
    "#### Process Data\n",
    "##### Sources of Information\n",
    "Data from the previous phase.\n",
    "##### Output\n",
    "1. Adjusted financial statements.\n",
    "2. Common-size statements.\n",
    "3. Ratios and graphs.\n",
    "4. Forecasts.\n",
    "\n",
    "#### Analyze/Interpret the Processed Data\n",
    "##### Sources of Information\n",
    "Input data as well as processed data.\n",
    "##### Output\n",
    "Analytical results.\n",
    "\n",
    "#### Develop and Communicate Conclusions/Recommendations\n",
    "##### Sources of Information\n",
    "1. Analytical results and previous reports.\n",
    "2. Institutional guidelines for published reports.\n",
    "##### Output\n",
    "1. Analytical report answering questions posed in Phase 1.\n",
    "2. Recommendation regarding the purpose of the analysis, such as whether to make an investment or grant credit.\n",
    "3. Discussion and presentation of inherent risks in an investment is appropriate in the develop and communicate conclusions/recommendations step.\n",
    "\n",
    "#### Follow-Up\n",
    "##### Sources of Information\n",
    "Information gathered by periodically repeating above steps as necessary to determine whether changes to holdings or recommendations are necessary.\n",
    "##### Output\n",
    "Updated reports and recommendations."
   ]
  },
  {
   "cell_type": "markdown",
   "metadata": {},
   "source": [
    "# Financial Reporting Standards"
   ]
  },
  {
   "cell_type": "markdown",
   "metadata": {},
   "source": [
    "## The Objective of Financial Reporting"
   ]
  },
  {
   "cell_type": "markdown",
   "metadata": {},
   "source": [
    "## Financial Reporting Standard-Setting Bodies and Regulatory Authorities\n",
    "### Accounting Standards Boards\n",
    "Standard-setting bodies, such as the IASB and FASB, are typically private sector, self-regulated organizations with board members who are experienced accountants, auditors, users of financial statements, and academics.<br>\n",
    "\n",
    "#### International Accounting Standards Board\n",
    "The IASB is the independent standard-setting body of the IFRS Foundation, an independent, not-for-profit private sector organization. \n",
    "\n",
    "Monitoring Board that oversees the IASB includes representatives from the European Commission, IOSCO, the Japan Financial Services Agency, and the US SEC.\n",
    "#### Financial Accounting Standards Board\n",
    "US GAAP, as established by the FASB, is officially recognized as authoritative by the SEC, however the SEC retains the authority to establish standards. Although it has rarely overruled the FASB, the SEC does issue authoritative financial reporting guidance including Staff Accounting Bulletins."
   ]
  },
  {
   "cell_type": "markdown",
   "metadata": {},
   "source": [
    "### Regulatory Authorities\n",
    "Regulators often retain the legal authority to establish financial reporting standards in their jurisdiction and can overrule the private sector standard-setting bodies.\n",
    "\n",
    "The requirement to prepare financial reports in accordance with specified accounting standards is the **responsibility** of regulatory authorities.\n",
    "#### International Organization of Securities Commissions (IOSCO)\n",
    "Consists of ordinary members, associate members, and affiliate members. \n",
    "- Ordinary members are the securities commission or similar governmental regulatory authority with primary responsibility for securities regulation in the member country.\n",
    "\n",
    "Objectives\n",
    "1. protecting investors;\n",
    "2. ensuring that markets are fair, efficient, and transparent; and\n",
    "3. reducing systemic risk.\n",
    "\n",
    "IOSCO assists in attaining the goal of uniform regulation as well as cross-border co-operation in combating violations of securities and derivatives laws.\n",
    "#### The Securities and Exchange Commission (US) (US SEC)\n",
    "Companies comply with these acts principally through the completion and submission (i.e., filing) of standardized forms issued by the SEC. There are more than 50 different types of SEC forms that are used to satisfy reporting requirements. The SEC is responsible for overseeing the PCAOB (Public Companies Accounting Oversight Board) under the Sarbanes–Oxley Act of 2002.\n",
    "\n",
    "##### Common information sources used by analysts:\n",
    "- Securities Offerings Registration Statement: typically includes \n",
    "    - 1) disclosures about the securities being offered for sale\n",
    "    - 2) the relationship of these new securities to the issuer’s other capital securities\n",
    "    - 3) the information typically provided in the annual filings\n",
    "    - 4) recent audited financial statements, and \n",
    "    - 5) risk factors involved in the business\n",
    "- (Annual) Forms 10-K (for US registrants), 20-F (all other non-US registrants), and 40-F(for certain Canadian registrants): The financial disclosures include a historical summary of financial data (usually 10 years), management’s discussion and analysis (MD&A) of the company’s financial condition and results of operations, and audited financial statements.\n",
    "- Annual Report: The annual report is not a requirement of the SEC.\n",
    "- Proxy Statement/Form DEF-14A: information typically includes proposals that require a shareholder vote, details of security ownership by management and principal owners, biographical information on directors, and disclosure of executive compensation.\n",
    "- Forms 10-Q (quarterly for US companies) and 6-K (semiannually for many non-US companies): for interim periods \n",
    "\n",
    "##### Forms in the event of significant events or transactions \n",
    "- Form 8-K (6-K for non-US registrants): major events such as acquisitions or disposals of corporate assets, changes in securities and trading markets, matters related to accountants and financial statements, corporate governance and management changes, and Regulation FD disclosures.\n",
    "- Forms 3, 4, 5 and 144: Form 3 is the initial statement, Form 4 reports changes, and Form 5 is the annual report. Form 144 is notice of the proposed sale of restricted securities or securities held by an affiliate of the issuer. These forms can be used to examine purchases and sales of securities by officers, directors, and other affiliates of the company, who collectively are regarded as corporate insiders.\n",
    "- Form 11-K: annual report of employee stock purchase, savings, and similar plans.\n",
    "\n",
    "*(Note: A proxy is an authorization from the shareholder giving another party the right to cast its vote.)*\n",
    "\n",
    "Use cases: \n",
    "- It might be of interest to analysts for companies with significant employee benefit plans because it contains more information than that disclosed in the company’s financial statements.\n",
    "\n",
    "#### Capital Markets Regulation in Europe\n",
    "From 2005 consolidated accounts of EU listed companies would use International Financial Reporting Standards. \n",
    "\n",
    "Two bodies related to securities regulation established by the European Commission are **the European Securities Committee (ESC)** and **the European Securities and Market Authority (ESMA)**. The ESC consists of high-level representatives of member states and advises the European Commission on securities policy issues. ESMA is an EU cross-border supervisor established to co-ordinate supervision of the EU market. "
   ]
  },
  {
   "cell_type": "markdown",
   "metadata": {},
   "source": [
    "## IFRS and General Financial Statements Requirements\n",
    "### The International Financial Reporting Standards Framework\n",
    "IASB Conceptual Framework for Financial Reporting is designed to: assist standard setters in developing and reviewing standards; assist preparers of financial statements in applying standards and in dealing with issues not specifically covered by standard; assist auditors in forming an opinion on financial statements; and assist users in interpreting financial statement information. \n",
    "\n",
    "**Common information**<br>\n",
    "1. Financial position: its resources and its financial obligations.\n",
    "2. Financial performance: how and why the company’s financial position changed in the past \n",
    "3. Information about a company’s cash: How did the company obtain cash (by selling its products and services, borrowing, other)? How did the company use cash (by paying expenses, investing in new equipment, paying dividends, other)?\n",
    "\n",
    "#### Qualitative Characteristics of Financial Reports\n",
    "Qualitative characteristics that make financial information useful: <br>\n",
    "##### Fundamental\n",
    "- **Relevance** (including Materiality: Information is considered to be material if omission or misstatement of the information could influence users’ decisions. Materiality is a function of the nature and/or magnitude of the information.)\n",
    "- **Faithful representation**: completeness, neutrality, and freedom from error.<br>\n",
    "\n",
    "##### Enhancing Qualitative Characteristic\n",
    "- Comparability: information presented in a consistent manner over time and across entities\n",
    "- Verifiability\n",
    "- Timeliness\n",
    "- Understandability\n",
    "\n",
    "##### Constraints on Financial Reports\n",
    "- A balance between costs and benefits.<br>\n",
    "- Information that is not included."
   ]
  },
  {
   "cell_type": "markdown",
   "metadata": {},
   "source": [
    "### The Elements of Financial Statements\n",
    "#### Elements Directly Related to the Measurement of Financial Position\n",
    "- Assets (Assets are what a company owns (e.g., inventory and equipment)\n",
    "- Liabilities (Liabilities are what a company owes (e.g., bank borrowings)\n",
    "- Equity (Equity is the residual interest in the assets after subtracting the liabilities)\n",
    "\n",
    "#### Elements Directly Related Performance (Profit and Related Measures) \n",
    "- Income: Increases in assets, or decreases in liabilities, that result in increases in equity, other than those relating to contributions from holders of equity claims. Income includes both revenues and gains. Revenues represent income from the ordinary activities of the enterprise (e.g., the sale of products or provision of services). Gains may result from ordinary activities or other activities (the sale of surplus equipment). \n",
    "- Expenses: Decreases in assets, or increases in liabilities, that result in decreases in equity, other than those relating to distributions to holders of equity claims. Expenses include those related to operating activities such as cost of good sold and operating expenses including wages, rents and other items. Losses are also considered expenses and can result from the sale of assets at less than their carrying values, impairments of asset values and a variety of other items.\n",
    "\n",
    "#### Underlying Assumptions in Financial Statements\n",
    "The use of “**accrual accounting**” assumes that financial statements should reflect transactions in the period when they actually occur, not necessarily when cash movements occur. \n",
    "\n",
    "“**Going concern**” refers to the assumption that the company will continue in business for the foreseeable future. \n",
    "\n",
    "#### Recognition of Financial Statement Elements\n",
    "Recognition means that an item is included in the balance sheet or income statement. Recognition is appropriate if it results in both relevant information about assets, liabilities, equity, income and expenses and a faithful representation of those items.\n",
    "\n",
    "#### Measurement of Financial Statement Elements\n",
    "The following alternative bases of measurement are used to different degrees and in varying combinations to measure assets and liabilities:\n",
    "- Historical cost: it's simply the amount of cash or cash equivalents paid to purchase an asset, including any costs of acquisition and/or preparation. \n",
    "- Amortised cost: Historical cost adjusted for amortisation, depreciation, or depletion and/or impairment.\n",
    "- Current cost: \n",
    "    - In reference to assets, current cost is the amount of cash or cash equivalents that would have to be paid to buy the same or an equivalent asset today. \n",
    "    - In reference to liabilities, the current cost basis of measurement means the undiscounted amount of cash or cash equivalents that would be required to settle the obligation today.\n",
    "- Realizable (settlement) value: In reference to assets, realizable value is the amount of cash or cash equivalents that could currently be obtained by selling the asset in an orderly disposal. For liabilities, the equivalent to realizable value is called “settlement value”—that is, settlement value is the undiscounted amount of cash or cash equivalents expected to be paid to satisfy the liabilities in the normal course of business.\n",
    "- Present value (PV): For assets, present value is the present discounted value of the future net cash inflows that the asset is expected to generate in the normal course of business. For liabilities, present value is the present discounted value of the future net cash outflows that are expected to be required to settle the liabilities in the normal course of business.\n",
    "- Fair value: is defined as an exit price, the price that would be received to sell an asset or paid to transfer a liability in an orderly transaction between market participants at the measurement date."
   ]
  },
  {
   "cell_type": "markdown",
   "metadata": {},
   "source": [
    "### General Requirements for Financial Statements\n",
    "Under IAS No. 1, a complete set of financial statements includes a statement of financial position, a statement of comprehensive income, a statement of changes in equity, a statement of cash flows, and notes comprising a summary of significant accounting policies and other explanatory information.\n",
    "\n",
    "#### Structure and Content Requirement\n",
    "- **Classified** Statement of Financial Position (Balance Sheet): requires the balance sheet to distinguish between current and non-current assets, and between current and non-current liabilities unless a presentation based on liquidity provides more relevant and reliable information (e.g., in the case of a bank or similar financial institution).\n",
    "- Minimum Information on the Face of the Financial Statements\n",
    "- Minimum Information in the Notes (or on the face of financial statements)\n",
    "- Comparative Information"
   ]
  },
  {
   "cell_type": "markdown",
   "metadata": {},
   "source": [
    "## Comparison of IFRS with Alternative Reporting Systems\n",
    "[Key Differences](https://keydifferences.com/difference-between-gaap-and-ifrs.html)<br>\n",
    "\n",
    "For analyzing financial statements created under different standards, reconciliation schedules and disclosures regarding the significant differences between the reporting bases—historically available in some jurisdictions—were particularly helpful. "
   ]
  },
  {
   "cell_type": "markdown",
   "metadata": {},
   "source": [
    "## Monitoring Developments in Financial Reporting Standards\n",
    "Analysts can remain aware of developments in financial reporting standards by monitoring new products or transactions, actions of standard setters and other groups representing users of financial statements (such as CFA Institute), and company disclosures regarding critical accounting policies and estimates.\n",
    "\n",
    "#### New Products or Types of Transactions\n",
    "New products and new types of transactions can have unusual or unique elements to them such that no explicit guidance in the financial reporting standards exists.\n",
    "\n",
    "#### Evolving Standards and the Role of CFA Institute\n",
    "The [IASB](www.iasb.org) and [FASB](www.fasb.org) provide a great deal of information on their websites regarding new standards and proposals for future changes in standards. "
   ]
  },
  {
   "cell_type": "markdown",
   "metadata": {},
   "source": [
    "**RECAP**\n",
    "\n",
    "- What are the 2 fundamental, 4 enhancing qualitative characteristics, and 2 constraints according to the conceptual framework?\n",
    "- "
   ]
  }
 ],
 "metadata": {
  "kernelspec": {
   "display_name": "Python 3",
   "language": "python",
   "name": "python3"
  },
  "language_info": {
   "codemirror_mode": {
    "name": "ipython",
    "version": 3
   },
   "file_extension": ".py",
   "mimetype": "text/x-python",
   "name": "python",
   "nbconvert_exporter": "python",
   "pygments_lexer": "ipython3",
   "version": "3.7.3"
  }
 },
 "nbformat": 4,
 "nbformat_minor": 4
}
