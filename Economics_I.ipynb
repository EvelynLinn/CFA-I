{
 "cells": [
  {
   "cell_type": "markdown",
   "metadata": {},
   "source": [
    "# Topics in Demand and Supply Analysis"
   ]
  },
  {
   "cell_type": "code",
   "execution_count": 1,
   "metadata": {},
   "outputs": [],
   "source": [
    "import pandas as pd\n",
    "import numpy as np\n",
    "from matplotlib import pyplot as plt\n",
    "%matplotlib inline\n",
    "from IPython.display import Image"
   ]
  },
  {
   "cell_type": "markdown",
   "metadata": {},
   "source": [
    "## Demand Concepts"
   ]
  },
  {
   "cell_type": "markdown",
   "metadata": {},
   "source": [
    "### The Demand Function\n",
    "$$Q^d_x=f(P_x,I,P_y)$$\n",
    "<div style=\"text-align: right\"> Equation 1 </div>\n",
    "where\n",
    "\n",
    "$Q^d_x$\t=\tthe quantity demanded of some good X (such as per household demand for gasoline in liters per month)<br>\n",
    "$P_x$\t=\tthe price per unit of good X (such as € per liter)<br>\n",
    "$I$\t=\tconsumers’ income (as in €1,000s per household annually)<br>\n",
    "$P_y$\t=\tthe price of another good, Y. (There can be many other goods, not just one, and they can be complements or substitutes.)"
   ]
  },
  {
   "cell_type": "code",
   "execution_count": null,
   "metadata": {},
   "outputs": [],
   "source": []
  },
  {
   "cell_type": "markdown",
   "metadata": {},
   "source": [
    "a hypothetical example of our function for gasoline demand:\n",
    "$$Q^d_x = 84.5 – 6.39P_x + 0.25I – 2P_y$$\n",
    "<div style=\"text-align: right\"> Equation 2 </div>\n",
    "where the quantity of gasoline demanded ($Q^d_x$) is a function of the price of a liter of gasoline ($P_x$), consumers’ income in €1,000s ($I$), and the average price of an automobile in €1,000s ($P_y$)."
   ]
  },
  {
   "cell_type": "markdown",
   "metadata": {},
   "source": [
    "$$Q^d_x  = 84.5 – 6.39P_x + 0.25(50) – 2(20) = 57 – 6.39P_x$$\n",
    "<div style=\"text-align: right\"> Equation 3 </div>\n"
   ]
  },
  {
   "cell_type": "markdown",
   "metadata": {},
   "source": [
    "$$P_x=8.92−0.156Q^d_x$$\n",
    "<div style=\"text-align: right\"> Equation 4 </div>"
   ]
  },
  {
   "cell_type": "markdown",
   "metadata": {},
   "source": [
    "## Price Elasticity of Demand"
   ]
  },
  {
   "cell_type": "markdown",
   "metadata": {},
   "source": [
    "### Own-Price Elasticity of Demand \n",
    "A measure of the sensitivity of quantity demanded to a change in a product’s own price: $$E^d_{p_x} = \\frac{\\%∆Q^D_x}{\\%∆P_x}$$\n",
    "\n",
    "<div style=\"text-align: right\"> Equation 5 </div>"
   ]
  },
  {
   "cell_type": "markdown",
   "metadata": {},
   "source": [
    "Which can be rewritten as<br><br>\n",
    "$$E^d_{p_x}=\\frac{\\frac{∆Q^D_x}{Q^D_x}}{\\frac{∆P_x}{P_x}}=\\Big(\\frac{∆Q^D_x}{∆P_x}\\Big)\\Big(\\frac{P_x}{Q^D_x}\\Big)$$ \n",
    "<div style=\"text-align: right\"> Equation 6 </div>\n",
    "\n",
    "When the relationship between two variables is linear, $\\frac{∆Q^D_x}{∆P_x}$ is equal to the slope coefficient on $P_x$ in the demand function."
   ]
  },
  {
   "cell_type": "markdown",
   "metadata": {},
   "source": [
    "When that magnitude is greater than one, demand is said to be *elastic*. And when the elasticity coefficient is equal to negative one, demand is said to be *unit elastic*, or *unitary elastic*.<br>\n",
    "The first term, $\\frac{∆Q}{∆P}$, which is the inverse of the slope of the demand curve, remains constant along the entire demand curve. But the second term, $\\frac{P}{Q}$, changes depending on where we are on the demand curve. At very low prices, $\\frac{P}{Q}$ is very small, so demand is inelastic. But at very high prices, $Q$ is low and $P$ is high, so the ratio $\\frac{P}{Q}$ is very high and demand is elastic."
   ]
  },
  {
   "cell_type": "markdown",
   "metadata": {},
   "source": [
    "#### Extremes of Price Elasticity\n",
    "- perfectly inelastic\n",
    "- perfectly elastic"
   ]
  },
  {
   "cell_type": "code",
   "execution_count": null,
   "metadata": {},
   "outputs": [],
   "source": []
  },
  {
   "cell_type": "markdown",
   "metadata": {},
   "source": [
    "## Predicting Demand Elasticity, Price Elasticity and Total Expenditure"
   ]
  },
  {
   "cell_type": "markdown",
   "metadata": {},
   "source": [
    "#### Predicting Demand Elasticity\n",
    "- degree of substitutability\n",
    "- the portion of the typical budget that is spent on the good\n",
    "- the amount of time that is allowed to respond to the change in price (long-run demand is much more elastic than the short-run demand)\n",
    "- the extent to which the good is seen as necessary or optional"
   ]
  },
  {
   "cell_type": "markdown",
   "metadata": {},
   "source": [
    "#### Elasticity and Total Expenditure\n",
    "When demand is elastic, price and total expenditure move in opposite directions. When demand is inelastic, price and total expenditure move in the same direction. "
   ]
  },
  {
   "cell_type": "markdown",
   "metadata": {},
   "source": [
    "## Income Elasticity of Demand, Cross-Price Elasticity of Demand"
   ]
  },
  {
   "cell_type": "markdown",
   "metadata": {},
   "source": [
    "### Income Elasticity of Demand\n",
    "\n",
    "$$E^d_I=\\frac{\\%ΔQ^d_x}{\\%ΔI}=\\Big(\\frac{ΔQ^d_x}{ΔI}\\Big)\\Big(\\frac{I}{Q^d_x}\\Big)$$\n",
    "<div style=\"text-align: right\"> Equation 7, 11 </div>"
   ]
  },
  {
   "cell_type": "markdown",
   "metadata": {},
   "source": [
    "### Cross-Price Elasticity of Demand\n",
    "The percentage change in quantity demanded for a given percentage change in the price of another good; the responsiveness of the demand for Product A that is associated with the change in price of Product B.\n",
    "$$E^d_{p_y}=\\frac{\\%ΔQ^d_x}{\\%ΔP_y}=\\Big(\\frac{ΔQ^d_x}{ΔP_y}\\Big)\\Big(\\frac{P_y}{Q^d_x}\\Big)$$\n",
    "<div style=\"text-align: right\"> Equation 8, 12 </div>\n",
    "\n",
    "- substitutes: if the cross-price elasticity of two goods is positive\n",
    "- complements: two goods whose cross-price elasticity of demand is negative"
   ]
  },
  {
   "cell_type": "markdown",
   "metadata": {},
   "source": [
    "**Example: Calculating Elasticities from a Given Demand Function**<br>\n",
    "An individual consumer’s monthly demand for downloadable e-books is given by the equation $Q^d_{eb} = 2 – 0.4P_{eb} + 0.0005I + 0.15P_{hb}$, where $Q^d_{eb}$ equals the number of e-books demanded each month, I equals the household monthly income, $P_{eb}$ equals the price of e-books, and $P_{hb}$ equals the price of hardbound books. Assume that the price of e-books is €10.68, household income is €2,300, and the price of hardbound books is €21.40."
   ]
  },
  {
   "cell_type": "code",
   "execution_count": 2,
   "metadata": {},
   "outputs": [
    {
     "data": {
      "text/plain": [
       "-2.0459770114942537"
      ]
     },
     "execution_count": 2,
     "metadata": {},
     "output_type": "execute_result"
    }
   ],
   "source": [
    "# Determine the value of own-price elasticity of demand for e-books.\n",
    "p_eb = 10.68\n",
    "p_hb = 21.40\n",
    "income = 2300\n",
    "demand = 2 - 0.4*p_eb + 0.0005*income + 0.15*p_hb\n",
    "demand\n",
    "\n",
    "# Implement equation 6\n",
    "slope_p_eb = -0.4\n",
    "own_elasticity = slope_p_eb * p_eb / demand\n",
    "own_elasticity"
   ]
  },
  {
   "cell_type": "code",
   "execution_count": 3,
   "metadata": {},
   "outputs": [
    {
     "data": {
      "text/plain": [
       "0.5507662835249045"
      ]
     },
     "execution_count": 3,
     "metadata": {},
     "output_type": "execute_result"
    }
   ],
   "source": [
    "# Determine the income elasticity of demand for e-books.\n",
    "slope_i = 0.0005\n",
    "income_elasticity = slope_i * income / demand\n",
    "income_elasticity"
   ]
  },
  {
   "cell_type": "code",
   "execution_count": 4,
   "metadata": {},
   "outputs": [
    {
     "data": {
      "text/plain": [
       "1.5373563218390809"
      ]
     },
     "execution_count": 4,
     "metadata": {},
     "output_type": "execute_result"
    }
   ],
   "source": [
    "# Determine the cross-price elasticity of demand for e-books with respect to the price of hardbound books.\n",
    "slope_p_hb = 0.15\n",
    "cross_elasticity = slope_p_hb * p_hb / demand\n",
    "cross_elasticity"
   ]
  },
  {
   "cell_type": "markdown",
   "metadata": {},
   "source": [
    "## Substitution and Income Effects; Normal Goods, Inferior Goods and Special Cases"
   ]
  },
  {
   "cell_type": "markdown",
   "metadata": {},
   "source": [
    "#### Substitution Effect\n",
    "- A decrease in price tends to cause consumers to buy more of this good in place of other goods—the substitution effect.\n",
    "\n",
    "#### Income Effect\n",
    "- The increase in real income resulting from the decline in this good’s price causes people to buy even more of this good when its price falls—the income effect."
   ]
  },
  {
   "cell_type": "markdown",
   "metadata": {},
   "source": [
    "#### Normal and Inferior Goods\n",
    "- Normal Goods: goods that are consumed in greater quantities as income increases.\n",
    "- Inferior Goods: A good whose consumption decreases as income increases."
   ]
  },
  {
   "cell_type": "markdown",
   "metadata": {},
   "source": [
    "#### Exceptions to the Law of Demand \n",
    "- Giffen Goods: Goods that are consumed more as the price of the good rises because it is a very inferior good whose income effect overwhelms its substitution effect when price changes.\n"
   ]
  },
  {
   "cell_type": "markdown",
   "metadata": {},
   "source": [
    "## Supply Analysis: Cost, Marginal Return, and Productivity"
   ]
  },
  {
   "cell_type": "markdown",
   "metadata": {},
   "source": [
    "### Supply Analysis: The Firm\n",
    "Diminishing Marginal Returns: The observation that a variable factor’s marginal product must eventually fall as more of it is added to a fixed amount of the other factors.\n",
    "\n",
    "#### Marginal Returns and Productivity\n",
    "The total cost of production (TC) is the number of hours of labor multiplied by the wage rate plus the number of machine hours multiplied by the rental rate of machines:\n",
    "\n",
    "$$TC = (w)(L) + (r)(K)$$\n",
    "\n",
    "The cost function $$C = f(Q)$$where ($Q$) denotes the flow of output in units of production per time period, relates the production cost per time period to the number of units of output produced per time period."
   ]
  },
  {
   "cell_type": "markdown",
   "metadata": {},
   "source": [
    "- Total product\t\n",
    "- Average product  (Q/L)\t\n",
    "- Marginal product (∆Q/∆L)"
   ]
  },
  {
   "cell_type": "markdown",
   "metadata": {},
   "source": [
    "## Economic Profit Versus Accounting Profit"
   ]
  },
  {
   "cell_type": "markdown",
   "metadata": {},
   "source": [
    "#### Breakeven and Shutdown Analysis\n",
    "**Economic Profit:** Equal to accounting profit less the implicit opportunity costs not included in total accounting costs; the difference between total revenue (TR) and total cost (TC). Also called abnormal profit or supernormal profit.<br>\n",
    "**Economic Cost:** All the remuneration needed to keep a productive resource in its current employment or to acquire the resource for productive use; the sum of total accounting costs and implicit opportunity costs.<br>\n",
    "**Accounting Profit:** Income as reported on the income statement, in accordance with prevailing accounting standards, before the provisions for income tax expense. Also called income before taxes or pretax income.<br>\n",
    "**Accounting Cost:** Monetary value of economic resources used in performing an activity. These can be explicit, out-of-pocket, current payments, or an allocation of historical payments (depreciation) for resources. They do not include implicit opportunity costs."
   ]
  },
  {
   "cell_type": "markdown",
   "metadata": {},
   "source": [
    "**Note**<br>\n",
    "Economic depreciation. Because sunk costs cannot be altered, they cannot affect an optimal decision, which is forward looking. Sunk costs are therefore ignored, and the key management question is, Going forward, what are the opportunity costs and benefits of maintaining a given level of output?<br>\n",
    "The opportunity cost of any particular decision, such as to produce a given level of output, can be determined by measuring the benefit forgone by not implementing the next best alternative. "
   ]
  },
  {
   "cell_type": "markdown",
   "metadata": {},
   "source": [
    "## Marginal Revenue, Marginal Cost and Profit Maximization; Short-Run Cost Curves: Total, Variable, Fixed, and Marginal Costs"
   ]
  },
  {
   "cell_type": "markdown",
   "metadata": {},
   "source": [
    "#### Marginal Revenue\n",
    "Marginal revenue:\n",
    "$$MR = \\frac{ΔTR}{ΔQ}$$\n",
    "\n",
    "for sellers in a market with perfect competition:<br><br>\n",
    "$$MR = P$$\n",
    "\n",
    "for sellers in a market with imperfect competition (faces a negatively sloped demand curve and must lower its price to sell another unit):<br><br>\n",
    "$MR = ΔTR/ΔQ$<br>\n",
    "$TR = (P)(Q)$<br>\n",
    "$(ΔTR)=(P)(ΔQ) + (Q)(ΔP)$<br>\n",
    "$$MR=\\frac{(P)(ΔQ)}{ΔQ}+\\frac{(Q)(ΔP)}{ΔQ}=P+Q\\frac{(ΔP)}{ΔQ}$$\n",
    "$(ΔP/ΔQ)$ is the slope of the demand curve, thus, $MR$ is equal to price with an adjustment equal to *quantity* times *the slope of the demand curve*."
   ]
  },
  {
   "cell_type": "markdown",
   "metadata": {},
   "source": [
    "#### Marginal Cost, and Profit Maximization\n",
    "$$MC = \\frac{ΔTC}{ΔQ}$$\n",
    "- short-run marginal cost (SMC): quantity of capital cannot be changed \n",
    "$$SMC = \\frac{w}{MP_L}$$\n",
    "where $w$ is the wage and $MP_L$ is labor productivity\n",
    "- long-run marginal cost (LMC): all inputs are variable\n"
   ]
  },
  {
   "cell_type": "markdown",
   "metadata": {},
   "source": [
    "#### Understanding the Interaction between Total, Variable, Fixed, and Marginal Cost and Output\n",
    "The MC (marginal cost) curve intersects both the ATC (average total cost) and the AVC (average fixed cost) at their minimum points—points S and T. When MC is less than AVC, AVC will be decreasing. When MC is greater than AVC, AVC will be increasing.\n",
    "\n",
    "Initially, the MC curve declines because of increasing marginal returns to labor, but at some point, it begins to increase because of the law of diminishing marginal returns.\n",
    "\n",
    "TC increases as the firm expands output and decreases when production is cut. TC increases at a decreasing rate up to a certain output level. Thereafter, the rate of increase accelerates as the firm gets closer to full utilization of capacity. The rate of change in TC mirrors the rate of change in TVC.\n",
    "\n",
    "The lowest AVC quantity does not correspond to the least-cost quantity for ATC because AFC is still declining. "
   ]
  },
  {
   "cell_type": "code",
   "execution_count": 5,
   "metadata": {
    "scrolled": true
   },
   "outputs": [
    {
     "data": {
      "text/html": [
       "<div>\n",
       "<style scoped>\n",
       "    .dataframe tbody tr th:only-of-type {\n",
       "        vertical-align: middle;\n",
       "    }\n",
       "\n",
       "    .dataframe tbody tr th {\n",
       "        vertical-align: top;\n",
       "    }\n",
       "\n",
       "    .dataframe thead th {\n",
       "        text-align: right;\n",
       "    }\n",
       "</style>\n",
       "<table border=\"1\" class=\"dataframe\">\n",
       "  <thead>\n",
       "    <tr style=\"text-align: right;\">\n",
       "      <th></th>\n",
       "      <th>Q</th>\n",
       "      <th>TFC</th>\n",
       "      <th>TVC</th>\n",
       "    </tr>\n",
       "  </thead>\n",
       "  <tbody>\n",
       "    <tr>\n",
       "      <th>0</th>\n",
       "      <td>0</td>\n",
       "      <td>5000</td>\n",
       "      <td>0</td>\n",
       "    </tr>\n",
       "    <tr>\n",
       "      <th>1</th>\n",
       "      <td>1</td>\n",
       "      <td>5000</td>\n",
       "      <td>2000</td>\n",
       "    </tr>\n",
       "    <tr>\n",
       "      <th>2</th>\n",
       "      <td>2</td>\n",
       "      <td>5000</td>\n",
       "      <td>3800</td>\n",
       "    </tr>\n",
       "    <tr>\n",
       "      <th>3</th>\n",
       "      <td>3</td>\n",
       "      <td>5000</td>\n",
       "      <td>5400</td>\n",
       "    </tr>\n",
       "    <tr>\n",
       "      <th>4</th>\n",
       "      <td>4</td>\n",
       "      <td>5000</td>\n",
       "      <td>8000</td>\n",
       "    </tr>\n",
       "    <tr>\n",
       "      <th>5</th>\n",
       "      <td>5</td>\n",
       "      <td>5000</td>\n",
       "      <td>11000</td>\n",
       "    </tr>\n",
       "    <tr>\n",
       "      <th>6</th>\n",
       "      <td>6</td>\n",
       "      <td>5000</td>\n",
       "      <td>15000</td>\n",
       "    </tr>\n",
       "    <tr>\n",
       "      <th>7</th>\n",
       "      <td>7</td>\n",
       "      <td>5000</td>\n",
       "      <td>21000</td>\n",
       "    </tr>\n",
       "    <tr>\n",
       "      <th>8</th>\n",
       "      <td>8</td>\n",
       "      <td>5000</td>\n",
       "      <td>28800</td>\n",
       "    </tr>\n",
       "    <tr>\n",
       "      <th>9</th>\n",
       "      <td>9</td>\n",
       "      <td>5000</td>\n",
       "      <td>38700</td>\n",
       "    </tr>\n",
       "    <tr>\n",
       "      <th>10</th>\n",
       "      <td>10</td>\n",
       "      <td>5000</td>\n",
       "      <td>51000</td>\n",
       "    </tr>\n",
       "  </tbody>\n",
       "</table>\n",
       "</div>"
      ],
      "text/plain": [
       "     Q   TFC    TVC\n",
       "0    0  5000      0\n",
       "1    1  5000   2000\n",
       "2    2  5000   3800\n",
       "3    3  5000   5400\n",
       "4    4  5000   8000\n",
       "5    5  5000  11000\n",
       "6    6  5000  15000\n",
       "7    7  5000  21000\n",
       "8    8  5000  28800\n",
       "9    9  5000  38700\n",
       "10  10  5000  51000"
      ]
     },
     "execution_count": 5,
     "metadata": {},
     "output_type": "execute_result"
    }
   ],
   "source": [
    "data = {'Q':[0,1,2,3,4,5,6,7,8,9,10], \n",
    "       'TFC':[5000,5000,5000,5000,5000,5000,5000,5000,5000,5000,5000], \n",
    "       'TVC':[0,2000,3800, 5400, 8000, 11000, 15000, 21000, 28800, 38700,51000]}\n",
    "df = pd.DataFrame(data=data)\n",
    "df"
   ]
  },
  {
   "cell_type": "code",
   "execution_count": 6,
   "metadata": {},
   "outputs": [
    {
     "data": {
      "text/html": [
       "<div>\n",
       "<style scoped>\n",
       "    .dataframe tbody tr th:only-of-type {\n",
       "        vertical-align: middle;\n",
       "    }\n",
       "\n",
       "    .dataframe tbody tr th {\n",
       "        vertical-align: top;\n",
       "    }\n",
       "\n",
       "    .dataframe thead th {\n",
       "        text-align: right;\n",
       "    }\n",
       "</style>\n",
       "<table border=\"1\" class=\"dataframe\">\n",
       "  <thead>\n",
       "    <tr style=\"text-align: right;\">\n",
       "      <th></th>\n",
       "      <th>Q</th>\n",
       "      <th>TFC</th>\n",
       "      <th>TVC</th>\n",
       "      <th>AFC</th>\n",
       "      <th>AVC</th>\n",
       "      <th>TC</th>\n",
       "      <th>ATC</th>\n",
       "      <th>MC</th>\n",
       "    </tr>\n",
       "  </thead>\n",
       "  <tbody>\n",
       "    <tr>\n",
       "      <th>0</th>\n",
       "      <td>0</td>\n",
       "      <td>5000</td>\n",
       "      <td>0</td>\n",
       "      <td>inf</td>\n",
       "      <td>NaN</td>\n",
       "      <td>5000</td>\n",
       "      <td>inf</td>\n",
       "      <td>5000</td>\n",
       "    </tr>\n",
       "    <tr>\n",
       "      <th>1</th>\n",
       "      <td>1</td>\n",
       "      <td>5000</td>\n",
       "      <td>2000</td>\n",
       "      <td>5000.000000</td>\n",
       "      <td>2000.0</td>\n",
       "      <td>7000</td>\n",
       "      <td>7000.000000</td>\n",
       "      <td>2000</td>\n",
       "    </tr>\n",
       "    <tr>\n",
       "      <th>2</th>\n",
       "      <td>2</td>\n",
       "      <td>5000</td>\n",
       "      <td>3800</td>\n",
       "      <td>2500.000000</td>\n",
       "      <td>1900.0</td>\n",
       "      <td>8800</td>\n",
       "      <td>4400.000000</td>\n",
       "      <td>1800</td>\n",
       "    </tr>\n",
       "    <tr>\n",
       "      <th>3</th>\n",
       "      <td>3</td>\n",
       "      <td>5000</td>\n",
       "      <td>5400</td>\n",
       "      <td>1666.666667</td>\n",
       "      <td>1800.0</td>\n",
       "      <td>10400</td>\n",
       "      <td>3466.666667</td>\n",
       "      <td>1600</td>\n",
       "    </tr>\n",
       "    <tr>\n",
       "      <th>4</th>\n",
       "      <td>4</td>\n",
       "      <td>5000</td>\n",
       "      <td>8000</td>\n",
       "      <td>1250.000000</td>\n",
       "      <td>2000.0</td>\n",
       "      <td>13000</td>\n",
       "      <td>3250.000000</td>\n",
       "      <td>2600</td>\n",
       "    </tr>\n",
       "    <tr>\n",
       "      <th>5</th>\n",
       "      <td>5</td>\n",
       "      <td>5000</td>\n",
       "      <td>11000</td>\n",
       "      <td>1000.000000</td>\n",
       "      <td>2200.0</td>\n",
       "      <td>16000</td>\n",
       "      <td>3200.000000</td>\n",
       "      <td>3000</td>\n",
       "    </tr>\n",
       "    <tr>\n",
       "      <th>6</th>\n",
       "      <td>6</td>\n",
       "      <td>5000</td>\n",
       "      <td>15000</td>\n",
       "      <td>833.333333</td>\n",
       "      <td>2500.0</td>\n",
       "      <td>20000</td>\n",
       "      <td>3333.333333</td>\n",
       "      <td>4000</td>\n",
       "    </tr>\n",
       "    <tr>\n",
       "      <th>7</th>\n",
       "      <td>7</td>\n",
       "      <td>5000</td>\n",
       "      <td>21000</td>\n",
       "      <td>714.285714</td>\n",
       "      <td>3000.0</td>\n",
       "      <td>26000</td>\n",
       "      <td>3714.285714</td>\n",
       "      <td>6000</td>\n",
       "    </tr>\n",
       "    <tr>\n",
       "      <th>8</th>\n",
       "      <td>8</td>\n",
       "      <td>5000</td>\n",
       "      <td>28800</td>\n",
       "      <td>625.000000</td>\n",
       "      <td>3600.0</td>\n",
       "      <td>33800</td>\n",
       "      <td>4225.000000</td>\n",
       "      <td>7800</td>\n",
       "    </tr>\n",
       "    <tr>\n",
       "      <th>9</th>\n",
       "      <td>9</td>\n",
       "      <td>5000</td>\n",
       "      <td>38700</td>\n",
       "      <td>555.555556</td>\n",
       "      <td>4300.0</td>\n",
       "      <td>43700</td>\n",
       "      <td>4855.555556</td>\n",
       "      <td>9900</td>\n",
       "    </tr>\n",
       "    <tr>\n",
       "      <th>10</th>\n",
       "      <td>10</td>\n",
       "      <td>5000</td>\n",
       "      <td>51000</td>\n",
       "      <td>500.000000</td>\n",
       "      <td>5100.0</td>\n",
       "      <td>56000</td>\n",
       "      <td>5600.000000</td>\n",
       "      <td>12300</td>\n",
       "    </tr>\n",
       "  </tbody>\n",
       "</table>\n",
       "</div>"
      ],
      "text/plain": [
       "     Q   TFC    TVC          AFC     AVC     TC          ATC     MC\n",
       "0    0  5000      0          inf     NaN   5000          inf   5000\n",
       "1    1  5000   2000  5000.000000  2000.0   7000  7000.000000   2000\n",
       "2    2  5000   3800  2500.000000  1900.0   8800  4400.000000   1800\n",
       "3    3  5000   5400  1666.666667  1800.0  10400  3466.666667   1600\n",
       "4    4  5000   8000  1250.000000  2000.0  13000  3250.000000   2600\n",
       "5    5  5000  11000  1000.000000  2200.0  16000  3200.000000   3000\n",
       "6    6  5000  15000   833.333333  2500.0  20000  3333.333333   4000\n",
       "7    7  5000  21000   714.285714  3000.0  26000  3714.285714   6000\n",
       "8    8  5000  28800   625.000000  3600.0  33800  4225.000000   7800\n",
       "9    9  5000  38700   555.555556  4300.0  43700  4855.555556   9900\n",
       "10  10  5000  51000   500.000000  5100.0  56000  5600.000000  12300"
      ]
     },
     "execution_count": 6,
     "metadata": {},
     "output_type": "execute_result"
    }
   ],
   "source": [
    "df['AFC'] = df['TFC'] / df['Q']\n",
    "df['AVC'] = df['TVC'] / df['Q']\n",
    "df['TC'] = df['TFC'] + df['TVC']\n",
    "df['ATC'] = df['TC'] / df['Q']\n",
    "#df['MC'] = df['TC']\n",
    "mc_list = [df['TC'][0]]\n",
    "\n",
    "for i in range(len(df['TC'])-1):\n",
    "    mc = df['TC'][i+1] - df['TC'][i]\n",
    "    mc_list.append(mc)\n",
    "df['MC'] = mc_list\n",
    "df"
   ]
  },
  {
   "cell_type": "markdown",
   "metadata": {},
   "source": [
    "## Perfect and Imperfect Competition, Profit Maximization"
   ]
  },
  {
   "cell_type": "markdown",
   "metadata": {},
   "source": [
    "#### Revenue under Conditions of Perfect and Imperfect Competition\n"
   ]
  },
  {
   "cell_type": "markdown",
   "metadata": {},
   "source": [
    "#### Profit-Maximization, Breakeven, and Shutdown Points of Production\n"
   ]
  },
  {
   "cell_type": "markdown",
   "metadata": {},
   "source": [
    "## Breakeven Analysis and Shutdown Decision"
   ]
  },
  {
   "cell_type": "markdown",
   "metadata": {},
   "source": [
    "**Breakeven**: A firm is said to break even if its $TR = TC$.<br> Under conditions of perfect and imperfect competition, it can also be said that a firm breaks even if its $price\\ (AR) = MR = ATC$.<br>\n",
    "**Region of Profitability**:  A firm whose revenue is equal to its economic costs is covering the opportunity cost of all of its factors of production, including capital. Economists would say that such a firm is earning normal profit, but not positive economic profit. "
   ]
  },
  {
   "cell_type": "code",
   "execution_count": 7,
   "metadata": {
    "scrolled": true
   },
   "outputs": [
    {
     "data": {
      "image/png": "[encoded data removed]",
      "text/plain": [
       "<IPython.core.display.Image object>"
      ]
     },
     "execution_count": 7,
     "metadata": {
      "image/png": {
       "height": 100,
       "width": 450
      }
     },
     "output_type": "execute_result"
    }
   ],
   "source": [
    "Image(filename='CFA1714-R-EXH19.png', width = 450, height = 100) "
   ]
  },
  {
   "cell_type": "markdown",
   "metadata": {},
   "source": [
    "**Shutdown point** The point at which average revenue is equal to the firm’s average variable cost.\n",
    "- Shortrun: Sunk costs must be ignored. As long as the firm’s revenues cover at least its variable cost, the firm is better off continuing to operate. If $price > AVC$, the firm is not only covering all of its variable cost but also a portion of fixed cost."
   ]
  },
  {
   "cell_type": "code",
   "execution_count": 8,
   "metadata": {
    "scrolled": true
   },
   "outputs": [
    {
     "data": {
      "image/png": "[encoded data removed]",
      "text/plain": [
       "<IPython.core.display.Image object>"
      ]
     },
     "execution_count": 8,
     "metadata": {
      "image/png": {
       "height": 100,
       "width": 450
      }
     },
     "output_type": "execute_result"
    }
   ],
   "source": [
    "Image(filename='CFA1714-R-EXH20.png', width = 450, height = 100) "
   ]
  },
  {
   "cell_type": "code",
   "execution_count": 9,
   "metadata": {
    "scrolled": true
   },
   "outputs": [
    {
     "data": {
      "text/html": [
       "<div>\n",
       "<style scoped>\n",
       "    .dataframe tbody tr th:only-of-type {\n",
       "        vertical-align: middle;\n",
       "    }\n",
       "\n",
       "    .dataframe tbody tr th {\n",
       "        vertical-align: top;\n",
       "    }\n",
       "\n",
       "    .dataframe thead th {\n",
       "        text-align: right;\n",
       "    }\n",
       "</style>\n",
       "<table border=\"1\" class=\"dataframe\">\n",
       "  <thead>\n",
       "    <tr style=\"text-align: right;\">\n",
       "      <th></th>\n",
       "      <th>Quantity(Q) Price(P)</th>\n",
       "      <th>TotalRevenue(TR)</th>\n",
       "      <th>TotalCost(TC)</th>\n",
       "      <th>Profit</th>\n",
       "    </tr>\n",
       "  </thead>\n",
       "  <tbody>\n",
       "    <tr>\n",
       "      <th>0</th>\n",
       "      <td>10,000</td>\n",
       "      <td>0</td>\n",
       "      <td>100,000</td>\n",
       "      <td>–100,000</td>\n",
       "    </tr>\n",
       "    <tr>\n",
       "      <th>10</th>\n",
       "      <td>9,750</td>\n",
       "      <td>97,500</td>\n",
       "      <td>170,000</td>\n",
       "      <td>–72,500</td>\n",
       "    </tr>\n",
       "    <tr>\n",
       "      <th>20</th>\n",
       "      <td>9,500</td>\n",
       "      <td>190,000</td>\n",
       "      <td>240,000</td>\n",
       "      <td>–50,000</td>\n",
       "    </tr>\n",
       "    <tr>\n",
       "      <th>30</th>\n",
       "      <td>9,250</td>\n",
       "      <td>277,500</td>\n",
       "      <td>300,000</td>\n",
       "      <td>–22,500</td>\n",
       "    </tr>\n",
       "    <tr>\n",
       "      <th>40</th>\n",
       "      <td>9,000</td>\n",
       "      <td>360,000</td>\n",
       "      <td>360,000</td>\n",
       "      <td>0</td>\n",
       "    </tr>\n",
       "    <tr>\n",
       "      <th>50</th>\n",
       "      <td>8,750</td>\n",
       "      <td>437,500</td>\n",
       "      <td>420,000</td>\n",
       "      <td>17,500</td>\n",
       "    </tr>\n",
       "    <tr>\n",
       "      <th>60</th>\n",
       "      <td>8,500</td>\n",
       "      <td>510,000</td>\n",
       "      <td>480,000</td>\n",
       "      <td>30,000</td>\n",
       "    </tr>\n",
       "    <tr>\n",
       "      <th>70</th>\n",
       "      <td>8,250</td>\n",
       "      <td>577,500</td>\n",
       "      <td>550,000</td>\n",
       "      <td>27,500</td>\n",
       "    </tr>\n",
       "    <tr>\n",
       "      <th>80</th>\n",
       "      <td>8,000</td>\n",
       "      <td>640,000</td>\n",
       "      <td>640,000</td>\n",
       "      <td>0</td>\n",
       "    </tr>\n",
       "    <tr>\n",
       "      <th>90</th>\n",
       "      <td>7,750</td>\n",
       "      <td>697,500</td>\n",
       "      <td>710,000</td>\n",
       "      <td>–12,500</td>\n",
       "    </tr>\n",
       "    <tr>\n",
       "      <th>100</th>\n",
       "      <td>7,500</td>\n",
       "      <td>750,000</td>\n",
       "      <td>800,000</td>\n",
       "      <td>–50,000</td>\n",
       "    </tr>\n",
       "  </tbody>\n",
       "</table>\n",
       "</div>"
      ],
      "text/plain": [
       "    Quantity(Q) Price(P) TotalRevenue(TR) TotalCost(TC)    Profit\n",
       "0                 10,000                0       100,000  –100,000\n",
       "10                 9,750           97,500       170,000   –72,500\n",
       "20                 9,500          190,000       240,000   –50,000\n",
       "30                 9,250          277,500       300,000   –22,500\n",
       "40                 9,000          360,000       360,000         0\n",
       "50                 8,750          437,500       420,000    17,500\n",
       "60                 8,500          510,000       480,000    30,000\n",
       "70                 8,250          577,500       550,000    27,500\n",
       "80                 8,000          640,000       640,000         0\n",
       "90                 7,750          697,500       710,000   –12,500\n",
       "100                7,500          750,000       800,000   –50,000"
      ]
     },
     "execution_count": 9,
     "metadata": {},
     "output_type": "execute_result"
    }
   ],
   "source": [
    "# Breakeven Analysis and Profit Maximization When the Firm Faces a Negatively Sloped Demand Curve \n",
    "# under Imperfect Competition\n",
    "df = pd.read_csv('shutdown_point_data.csv', delimiter='\\t')\n",
    "df"
   ]
  },
  {
   "cell_type": "code",
   "execution_count": 10,
   "metadata": {
    "scrolled": true
   },
   "outputs": [],
   "source": [
    "# Reset index column \n",
    "df.reset_index(level=0, inplace=True)"
   ]
  },
  {
   "cell_type": "code",
   "execution_count": 11,
   "metadata": {
    "scrolled": true
   },
   "outputs": [],
   "source": [
    "# Rename price column \n",
    "df = df.rename(columns={\"Quantity(Q) Price(P)\": \"Price(P)\", \"index\":\"Quantity(Q)\"})"
   ]
  },
  {
   "cell_type": "code",
   "execution_count": 12,
   "metadata": {
    "scrolled": true
   },
   "outputs": [
    {
     "data": {
      "text/html": [
       "<div>\n",
       "<style scoped>\n",
       "    .dataframe tbody tr th:only-of-type {\n",
       "        vertical-align: middle;\n",
       "    }\n",
       "\n",
       "    .dataframe tbody tr th {\n",
       "        vertical-align: top;\n",
       "    }\n",
       "\n",
       "    .dataframe thead th {\n",
       "        text-align: right;\n",
       "    }\n",
       "</style>\n",
       "<table border=\"1\" class=\"dataframe\">\n",
       "  <thead>\n",
       "    <tr style=\"text-align: right;\">\n",
       "      <th></th>\n",
       "      <th>Quantity(Q)</th>\n",
       "      <th>Price(P)</th>\n",
       "      <th>TotalRevenue(TR)</th>\n",
       "      <th>TotalCost(TC)</th>\n",
       "      <th>Profit</th>\n",
       "    </tr>\n",
       "  </thead>\n",
       "  <tbody>\n",
       "    <tr>\n",
       "      <th>0</th>\n",
       "      <td>0</td>\n",
       "      <td>10,000</td>\n",
       "      <td>0</td>\n",
       "      <td>100,000</td>\n",
       "      <td>–100,000</td>\n",
       "    </tr>\n",
       "    <tr>\n",
       "      <th>1</th>\n",
       "      <td>10</td>\n",
       "      <td>9,750</td>\n",
       "      <td>97,500</td>\n",
       "      <td>170,000</td>\n",
       "      <td>–72,500</td>\n",
       "    </tr>\n",
       "    <tr>\n",
       "      <th>2</th>\n",
       "      <td>20</td>\n",
       "      <td>9,500</td>\n",
       "      <td>190,000</td>\n",
       "      <td>240,000</td>\n",
       "      <td>–50,000</td>\n",
       "    </tr>\n",
       "    <tr>\n",
       "      <th>3</th>\n",
       "      <td>30</td>\n",
       "      <td>9,250</td>\n",
       "      <td>277,500</td>\n",
       "      <td>300,000</td>\n",
       "      <td>–22,500</td>\n",
       "    </tr>\n",
       "    <tr>\n",
       "      <th>4</th>\n",
       "      <td>40</td>\n",
       "      <td>9,000</td>\n",
       "      <td>360,000</td>\n",
       "      <td>360,000</td>\n",
       "      <td>0</td>\n",
       "    </tr>\n",
       "    <tr>\n",
       "      <th>5</th>\n",
       "      <td>50</td>\n",
       "      <td>8,750</td>\n",
       "      <td>437,500</td>\n",
       "      <td>420,000</td>\n",
       "      <td>17,500</td>\n",
       "    </tr>\n",
       "    <tr>\n",
       "      <th>6</th>\n",
       "      <td>60</td>\n",
       "      <td>8,500</td>\n",
       "      <td>510,000</td>\n",
       "      <td>480,000</td>\n",
       "      <td>30,000</td>\n",
       "    </tr>\n",
       "    <tr>\n",
       "      <th>7</th>\n",
       "      <td>70</td>\n",
       "      <td>8,250</td>\n",
       "      <td>577,500</td>\n",
       "      <td>550,000</td>\n",
       "      <td>27,500</td>\n",
       "    </tr>\n",
       "    <tr>\n",
       "      <th>8</th>\n",
       "      <td>80</td>\n",
       "      <td>8,000</td>\n",
       "      <td>640,000</td>\n",
       "      <td>640,000</td>\n",
       "      <td>0</td>\n",
       "    </tr>\n",
       "    <tr>\n",
       "      <th>9</th>\n",
       "      <td>90</td>\n",
       "      <td>7,750</td>\n",
       "      <td>697,500</td>\n",
       "      <td>710,000</td>\n",
       "      <td>–12,500</td>\n",
       "    </tr>\n",
       "    <tr>\n",
       "      <th>10</th>\n",
       "      <td>100</td>\n",
       "      <td>7,500</td>\n",
       "      <td>750,000</td>\n",
       "      <td>800,000</td>\n",
       "      <td>–50,000</td>\n",
       "    </tr>\n",
       "  </tbody>\n",
       "</table>\n",
       "</div>"
      ],
      "text/plain": [
       "    Quantity(Q) Price(P) TotalRevenue(TR) TotalCost(TC)    Profit\n",
       "0             0   10,000                0       100,000  –100,000\n",
       "1            10    9,750           97,500       170,000   –72,500\n",
       "2            20    9,500          190,000       240,000   –50,000\n",
       "3            30    9,250          277,500       300,000   –22,500\n",
       "4            40    9,000          360,000       360,000         0\n",
       "5            50    8,750          437,500       420,000    17,500\n",
       "6            60    8,500          510,000       480,000    30,000\n",
       "7            70    8,250          577,500       550,000    27,500\n",
       "8            80    8,000          640,000       640,000         0\n",
       "9            90    7,750          697,500       710,000   –12,500\n",
       "10          100    7,500          750,000       800,000   –50,000"
      ]
     },
     "execution_count": 12,
     "metadata": {},
     "output_type": "execute_result"
    }
   ],
   "source": [
    "df"
   ]
  },
  {
   "cell_type": "code",
   "execution_count": 15,
   "metadata": {},
   "outputs": [
    {
     "data": {
      "text/html": [
       "<div>\n",
       "<style scoped>\n",
       "    .dataframe tbody tr th:only-of-type {\n",
       "        vertical-align: middle;\n",
       "    }\n",
       "\n",
       "    .dataframe tbody tr th {\n",
       "        vertical-align: top;\n",
       "    }\n",
       "\n",
       "    .dataframe thead th {\n",
       "        text-align: right;\n",
       "    }\n",
       "</style>\n",
       "<table border=\"1\" class=\"dataframe\">\n",
       "  <thead>\n",
       "    <tr style=\"text-align: right;\">\n",
       "      <th></th>\n",
       "      <th>Quantity(Q)</th>\n",
       "      <th>Price(P)</th>\n",
       "      <th>TotalRevenue(TR)</th>\n",
       "      <th>TotalCost(TC)</th>\n",
       "      <th>Profit</th>\n",
       "    </tr>\n",
       "  </thead>\n",
       "  <tbody>\n",
       "    <tr>\n",
       "      <th>0</th>\n",
       "      <td>0</td>\n",
       "      <td>10000</td>\n",
       "      <td>0</td>\n",
       "      <td>100000</td>\n",
       "      <td>-100000</td>\n",
       "    </tr>\n",
       "    <tr>\n",
       "      <th>1</th>\n",
       "      <td>10</td>\n",
       "      <td>9750</td>\n",
       "      <td>97500</td>\n",
       "      <td>170000</td>\n",
       "      <td>-72500</td>\n",
       "    </tr>\n",
       "    <tr>\n",
       "      <th>2</th>\n",
       "      <td>20</td>\n",
       "      <td>9500</td>\n",
       "      <td>190000</td>\n",
       "      <td>240000</td>\n",
       "      <td>-50000</td>\n",
       "    </tr>\n",
       "    <tr>\n",
       "      <th>3</th>\n",
       "      <td>30</td>\n",
       "      <td>9250</td>\n",
       "      <td>277500</td>\n",
       "      <td>300000</td>\n",
       "      <td>-22500</td>\n",
       "    </tr>\n",
       "    <tr>\n",
       "      <th>4</th>\n",
       "      <td>40</td>\n",
       "      <td>9000</td>\n",
       "      <td>360000</td>\n",
       "      <td>360000</td>\n",
       "      <td>0</td>\n",
       "    </tr>\n",
       "    <tr>\n",
       "      <th>5</th>\n",
       "      <td>50</td>\n",
       "      <td>8750</td>\n",
       "      <td>437500</td>\n",
       "      <td>420000</td>\n",
       "      <td>17500</td>\n",
       "    </tr>\n",
       "    <tr>\n",
       "      <th>6</th>\n",
       "      <td>60</td>\n",
       "      <td>8500</td>\n",
       "      <td>510000</td>\n",
       "      <td>480000</td>\n",
       "      <td>30000</td>\n",
       "    </tr>\n",
       "    <tr>\n",
       "      <th>7</th>\n",
       "      <td>70</td>\n",
       "      <td>8250</td>\n",
       "      <td>577500</td>\n",
       "      <td>550000</td>\n",
       "      <td>27500</td>\n",
       "    </tr>\n",
       "    <tr>\n",
       "      <th>8</th>\n",
       "      <td>80</td>\n",
       "      <td>8000</td>\n",
       "      <td>640000</td>\n",
       "      <td>640000</td>\n",
       "      <td>0</td>\n",
       "    </tr>\n",
       "    <tr>\n",
       "      <th>9</th>\n",
       "      <td>90</td>\n",
       "      <td>7750</td>\n",
       "      <td>697500</td>\n",
       "      <td>710000</td>\n",
       "      <td>-12500</td>\n",
       "    </tr>\n",
       "    <tr>\n",
       "      <th>10</th>\n",
       "      <td>100</td>\n",
       "      <td>7500</td>\n",
       "      <td>750000</td>\n",
       "      <td>800000</td>\n",
       "      <td>-50000</td>\n",
       "    </tr>\n",
       "  </tbody>\n",
       "</table>\n",
       "</div>"
      ],
      "text/plain": [
       "    Quantity(Q) Price(P) TotalRevenue(TR) TotalCost(TC)   Profit\n",
       "0             0    10000                0        100000  -100000\n",
       "1            10     9750            97500        170000   -72500\n",
       "2            20     9500           190000        240000   -50000\n",
       "3            30     9250           277500        300000   -22500\n",
       "4            40     9000           360000        360000        0\n",
       "5            50     8750           437500        420000    17500\n",
       "6            60     8500           510000        480000    30000\n",
       "7            70     8250           577500        550000    27500\n",
       "8            80     8000           640000        640000        0\n",
       "9            90     7750           697500        710000   -12500\n",
       "10          100     7500           750000        800000   -50000"
      ]
     },
     "execution_count": 15,
     "metadata": {},
     "output_type": "execute_result"
    }
   ],
   "source": [
    "# Getting rid of the ',' in data \n",
    "df['Price(P)'] = df['Price(P)'].str.replace(',', '')\n",
    "df['TotalRevenue(TR)'] = df['TotalRevenue(TR)'].str.replace(',', '')\n",
    "df['TotalCost(TC)'] = df['TotalCost(TC)'].str.replace(',', '')\n",
    "df['Profit'] = df['Profit'].str.replace(',', '')   \n",
    "df['Profit'] = df['Profit'].str.replace('–', '-')\n",
    "df"
   ]
  },
  {
   "cell_type": "code",
   "execution_count": 16,
   "metadata": {},
   "outputs": [
    {
     "name": "stdout",
     "output_type": "stream",
     "text": [
      "<class 'pandas.core.frame.DataFrame'>\n",
      "RangeIndex: 11 entries, 0 to 10\n",
      "Data columns (total 5 columns):\n",
      " #   Column            Non-Null Count  Dtype\n",
      "---  ------            --------------  -----\n",
      " 0   Quantity(Q)       11 non-null     int64\n",
      " 1   Price(P)          11 non-null     int64\n",
      " 2   TotalRevenue(TR)  11 non-null     int64\n",
      " 3   TotalCost(TC)     11 non-null     int64\n",
      " 4   Profit            11 non-null     int64\n",
      "dtypes: int64(5)\n",
      "memory usage: 568.0 bytes\n"
     ]
    }
   ],
   "source": [
    "# Converting all columns to integer data type\n",
    "df = df.astype(int)\n",
    "df.info() "
   ]
  },
  {
   "cell_type": "code",
   "execution_count": 28,
   "metadata": {},
   "outputs": [],
   "source": [
    "# Adding columns for ATC and AR \n",
    "df['ATC'] = df['TotalCost(TC)'] / df['Quantity(Q)']\n",
    "df['AR'] = df['TotalRevenue(TR)'] / df['Quantity(Q)']\n",
    "\n",
    "# Adding marginal cost and profit columns\n",
    "mc_list = [df['TotalCost(TC)'][0]]\n",
    "mp_list = [df['Profit'][0]]\n",
    "for i in range(len(df['TotalCost(TC)'])-1):\n",
    "    mc = df['TotalCost(TC)'][i+1] - df['TotalCost(TC)'][i]\n",
    "    mp = df['Profit'][i+1] - df['Profit'][i]\n",
    "    mc_list.append(mc)\n",
    "    mp_list.append(mp)\n",
    "df['MC'] = mc_list\n",
    "df['MP'] = mp_list"
   ]
  },
  {
   "cell_type": "code",
   "execution_count": 29,
   "metadata": {},
   "outputs": [
    {
     "data": {
      "text/html": [
       "<div>\n",
       "<style scoped>\n",
       "    .dataframe tbody tr th:only-of-type {\n",
       "        vertical-align: middle;\n",
       "    }\n",
       "\n",
       "    .dataframe tbody tr th {\n",
       "        vertical-align: top;\n",
       "    }\n",
       "\n",
       "    .dataframe thead th {\n",
       "        text-align: right;\n",
       "    }\n",
       "</style>\n",
       "<table border=\"1\" class=\"dataframe\">\n",
       "  <thead>\n",
       "    <tr style=\"text-align: right;\">\n",
       "      <th></th>\n",
       "      <th>Quantity(Q)</th>\n",
       "      <th>Price(P)</th>\n",
       "      <th>TotalRevenue(TR)</th>\n",
       "      <th>TotalCost(TC)</th>\n",
       "      <th>Profit</th>\n",
       "      <th>ATC</th>\n",
       "      <th>AR</th>\n",
       "      <th>MC</th>\n",
       "      <th>MP</th>\n",
       "    </tr>\n",
       "  </thead>\n",
       "  <tbody>\n",
       "    <tr>\n",
       "      <th>0</th>\n",
       "      <td>0</td>\n",
       "      <td>10000</td>\n",
       "      <td>0</td>\n",
       "      <td>100000</td>\n",
       "      <td>-100000</td>\n",
       "      <td>inf</td>\n",
       "      <td>NaN</td>\n",
       "      <td>100000</td>\n",
       "      <td>-100000</td>\n",
       "    </tr>\n",
       "    <tr>\n",
       "      <th>1</th>\n",
       "      <td>10</td>\n",
       "      <td>9750</td>\n",
       "      <td>97500</td>\n",
       "      <td>170000</td>\n",
       "      <td>-72500</td>\n",
       "      <td>1.700000e+04</td>\n",
       "      <td>9750.0</td>\n",
       "      <td>70000</td>\n",
       "      <td>27500</td>\n",
       "    </tr>\n",
       "    <tr>\n",
       "      <th>2</th>\n",
       "      <td>20</td>\n",
       "      <td>9500</td>\n",
       "      <td>190000</td>\n",
       "      <td>240000</td>\n",
       "      <td>-50000</td>\n",
       "      <td>1.200000e+04</td>\n",
       "      <td>9500.0</td>\n",
       "      <td>70000</td>\n",
       "      <td>22500</td>\n",
       "    </tr>\n",
       "    <tr>\n",
       "      <th>3</th>\n",
       "      <td>30</td>\n",
       "      <td>9250</td>\n",
       "      <td>277500</td>\n",
       "      <td>300000</td>\n",
       "      <td>-22500</td>\n",
       "      <td>1.000000e+04</td>\n",
       "      <td>9250.0</td>\n",
       "      <td>60000</td>\n",
       "      <td>27500</td>\n",
       "    </tr>\n",
       "    <tr>\n",
       "      <th>4</th>\n",
       "      <td>40</td>\n",
       "      <td>9000</td>\n",
       "      <td>360000</td>\n",
       "      <td>360000</td>\n",
       "      <td>0</td>\n",
       "      <td>9.000000e+03</td>\n",
       "      <td>9000.0</td>\n",
       "      <td>60000</td>\n",
       "      <td>22500</td>\n",
       "    </tr>\n",
       "    <tr>\n",
       "      <th>5</th>\n",
       "      <td>50</td>\n",
       "      <td>8750</td>\n",
       "      <td>437500</td>\n",
       "      <td>420000</td>\n",
       "      <td>17500</td>\n",
       "      <td>8.400000e+03</td>\n",
       "      <td>8750.0</td>\n",
       "      <td>60000</td>\n",
       "      <td>17500</td>\n",
       "    </tr>\n",
       "    <tr>\n",
       "      <th>6</th>\n",
       "      <td>60</td>\n",
       "      <td>8500</td>\n",
       "      <td>510000</td>\n",
       "      <td>480000</td>\n",
       "      <td>30000</td>\n",
       "      <td>8.000000e+03</td>\n",
       "      <td>8500.0</td>\n",
       "      <td>60000</td>\n",
       "      <td>12500</td>\n",
       "    </tr>\n",
       "    <tr>\n",
       "      <th>7</th>\n",
       "      <td>70</td>\n",
       "      <td>8250</td>\n",
       "      <td>577500</td>\n",
       "      <td>550000</td>\n",
       "      <td>27500</td>\n",
       "      <td>7.857143e+03</td>\n",
       "      <td>8250.0</td>\n",
       "      <td>70000</td>\n",
       "      <td>-2500</td>\n",
       "    </tr>\n",
       "    <tr>\n",
       "      <th>8</th>\n",
       "      <td>80</td>\n",
       "      <td>8000</td>\n",
       "      <td>640000</td>\n",
       "      <td>640000</td>\n",
       "      <td>0</td>\n",
       "      <td>8.000000e+03</td>\n",
       "      <td>8000.0</td>\n",
       "      <td>90000</td>\n",
       "      <td>-27500</td>\n",
       "    </tr>\n",
       "    <tr>\n",
       "      <th>9</th>\n",
       "      <td>90</td>\n",
       "      <td>7750</td>\n",
       "      <td>697500</td>\n",
       "      <td>710000</td>\n",
       "      <td>-12500</td>\n",
       "      <td>7.888889e+03</td>\n",
       "      <td>7750.0</td>\n",
       "      <td>70000</td>\n",
       "      <td>-12500</td>\n",
       "    </tr>\n",
       "    <tr>\n",
       "      <th>10</th>\n",
       "      <td>100</td>\n",
       "      <td>7500</td>\n",
       "      <td>750000</td>\n",
       "      <td>800000</td>\n",
       "      <td>-50000</td>\n",
       "      <td>8.000000e+03</td>\n",
       "      <td>7500.0</td>\n",
       "      <td>90000</td>\n",
       "      <td>-37500</td>\n",
       "    </tr>\n",
       "  </tbody>\n",
       "</table>\n",
       "</div>"
      ],
      "text/plain": [
       "    Quantity(Q)  Price(P)  TotalRevenue(TR)  TotalCost(TC)  Profit  \\\n",
       "0             0     10000                 0         100000 -100000   \n",
       "1            10      9750             97500         170000  -72500   \n",
       "2            20      9500            190000         240000  -50000   \n",
       "3            30      9250            277500         300000  -22500   \n",
       "4            40      9000            360000         360000       0   \n",
       "5            50      8750            437500         420000   17500   \n",
       "6            60      8500            510000         480000   30000   \n",
       "7            70      8250            577500         550000   27500   \n",
       "8            80      8000            640000         640000       0   \n",
       "9            90      7750            697500         710000  -12500   \n",
       "10          100      7500            750000         800000  -50000   \n",
       "\n",
       "             ATC      AR      MC      MP  \n",
       "0            inf     NaN  100000 -100000  \n",
       "1   1.700000e+04  9750.0   70000   27500  \n",
       "2   1.200000e+04  9500.0   70000   22500  \n",
       "3   1.000000e+04  9250.0   60000   27500  \n",
       "4   9.000000e+03  9000.0   60000   22500  \n",
       "5   8.400000e+03  8750.0   60000   17500  \n",
       "6   8.000000e+03  8500.0   60000   12500  \n",
       "7   7.857143e+03  8250.0   70000   -2500  \n",
       "8   8.000000e+03  8000.0   90000  -27500  \n",
       "9   7.888889e+03  7750.0   70000  -12500  \n",
       "10  8.000000e+03  7500.0   90000  -37500  "
      ]
     },
     "execution_count": 29,
     "metadata": {},
     "output_type": "execute_result"
    }
   ],
   "source": [
    "df"
   ]
  },
  {
   "cell_type": "code",
   "execution_count": 34,
   "metadata": {},
   "outputs": [
    {
     "data": {
      "image/png": "[encoded data removed]",
      "text/plain": [
       "<Figure size 432x288 with 1 Axes>"
      ]
     },
     "metadata": {
      "needs_background": "light"
     },
     "output_type": "display_data"
    }
   ],
   "source": [
    "fig, ax = plt.subplots()\n",
    "ax.plot(df['Quantity(Q)'], df['Price(P)'], 'k--', label='P');\n",
    "ax.plot(df['Quantity(Q)'], df['AR'], 'k:', label='AR');\n",
    "ax.plot(df['Quantity(Q)'], df['ATC'], color='black', label='ATC');\n",
    "#ax.plot(df['Quantity(Q)'], df['MP'], 'k', label='MP');\n",
    "# Slope of P and TR\n",
    "\n",
    "# Adding legend\n",
    "legend = ax.legend(loc='upper right');\n",
    "# Change y-tick labels \n",
    "plt.yticks([])\n",
    "plt.xlabel('Quantity')\n",
    "plt.ylabel('Price')\n",
    "plt.show()"
   ]
  },
  {
   "cell_type": "code",
   "execution_count": null,
   "metadata": {},
   "outputs": [],
   "source": [
    "# Where is the region of profitability?\n"
   ]
  },
  {
   "cell_type": "code",
   "execution_count": null,
   "metadata": {},
   "outputs": [],
   "source": [
    "# At what point will the firm maximize profit? At what points are there economic losses?\n"
   ]
  },
  {
   "cell_type": "markdown",
   "metadata": {},
   "source": [
    "When evaluating profitability, particularly of start-up firms and businesses using turnaround strategies, analysts should consider highlighting breakeven and shutdown points in their financial research. Identifying the unit sales levels at which the firm enters or leaves the production range for profitability and at which the firm can no longer function as a viable business entity provides invaluable insight for investment decisions."
   ]
  },
  {
   "cell_type": "markdown",
   "metadata": {},
   "source": [
    "## Economies and Diseconomies of Scale with Short-Run and Long-Run Cost Analysis"
   ]
  },
  {
   "cell_type": "markdown",
   "metadata": {},
   "source": [
    "The long-run total cost curve is derived from the lowest level of STC for each level of output because in the long run, the firm is free to choose which plant size it will operate. This curve is called an “envelope curve.”"
   ]
  },
  {
   "cell_type": "markdown",
   "metadata": {},
   "source": [
    "**Economies of scale** occur if, as the firm increases its output, cost per unit of production falls. **Diseconomies of scale** occur if cost per unit rises as output increases."
   ]
  },
  {
   "cell_type": "markdown",
   "metadata": {},
   "source": [
    "The minimum point on the LRAC curve is referred to as the **minimum efficient scale**."
   ]
  },
  {
   "cell_type": "markdown",
   "metadata": {},
   "source": [
    "# The Firm and Market Structures"
   ]
  },
  {
   "cell_type": "code",
   "execution_count": null,
   "metadata": {},
   "outputs": [],
   "source": []
  },
  {
   "cell_type": "markdown",
   "metadata": {},
   "source": [
    "<div style=\"text-align: right\"> Equation  </div>"
   ]
  },
  {
   "cell_type": "markdown",
   "metadata": {},
   "source": [
    "## Perfect Competition & Demand Analysis in Perfectly Competitive Markets"
   ]
  },
  {
   "cell_type": "code",
   "execution_count": null,
   "metadata": {},
   "outputs": [],
   "source": []
  },
  {
   "cell_type": "markdown",
   "metadata": {},
   "source": [
    "## Elasticity of Demand"
   ]
  },
  {
   "cell_type": "code",
   "execution_count": null,
   "metadata": {},
   "outputs": [],
   "source": []
  },
  {
   "cell_type": "markdown",
   "metadata": {},
   "source": [
    "## Other Factors Affecting Demand"
   ]
  },
  {
   "cell_type": "code",
   "execution_count": null,
   "metadata": {},
   "outputs": [],
   "source": []
  },
  {
   "cell_type": "markdown",
   "metadata": {},
   "source": [
    "## Consumer Surplus: Value Minus Expenditure"
   ]
  },
  {
   "cell_type": "code",
   "execution_count": null,
   "metadata": {},
   "outputs": [],
   "source": []
  },
  {
   "cell_type": "markdown",
   "metadata": {},
   "source": [
    "## Supply Analysis & Optimal Price and Optimal Output In Perfectly Competitive Markets"
   ]
  },
  {
   "cell_type": "code",
   "execution_count": null,
   "metadata": {},
   "outputs": [],
   "source": []
  },
  {
   "cell_type": "markdown",
   "metadata": {},
   "source": [
    "## Factors Affecting Long-Run Equilibrium in Perfectly Competitive Markets"
   ]
  },
  {
   "cell_type": "code",
   "execution_count": null,
   "metadata": {},
   "outputs": [],
   "source": []
  },
  {
   "cell_type": "markdown",
   "metadata": {},
   "source": [
    "## Supply, Demand, Optimal Pricing, and Optimal Ouput under Monopolistic Competition"
   ]
  },
  {
   "cell_type": "code",
   "execution_count": null,
   "metadata": {},
   "outputs": [],
   "source": []
  },
  {
   "cell_type": "markdown",
   "metadata": {},
   "source": [
    "## Long-Run Equilibrium for Monopolistically Competitive Firm"
   ]
  },
  {
   "cell_type": "code",
   "execution_count": null,
   "metadata": {},
   "outputs": [],
   "source": []
  },
  {
   "cell_type": "markdown",
   "metadata": {},
   "source": [
    "## Oligopoly & Demand Analysis and Pricing Strategies in Oligopoly Markets: Pricing Independence Portion"
   ]
  },
  {
   "cell_type": "code",
   "execution_count": null,
   "metadata": {},
   "outputs": [],
   "source": []
  },
  {
   "cell_type": "markdown",
   "metadata": {},
   "source": [
    "## Oligopoly & Demand Analysis and Pricing Strategies in Oligopoly Markets: The Cournot assumption part"
   ]
  },
  {
   "cell_type": "code",
   "execution_count": null,
   "metadata": {},
   "outputs": [],
   "source": []
  },
  {
   "cell_type": "markdown",
   "metadata": {},
   "source": [
    "## Oligopoly & Demand Analysis and Pricing Strategies in Oligopoly Markets: The Nash Equilibrium part"
   ]
  },
  {
   "cell_type": "code",
   "execution_count": null,
   "metadata": {},
   "outputs": [],
   "source": []
  },
  {
   "cell_type": "markdown",
   "metadata": {},
   "source": [
    "## Supply Analysis & Optimal Price and Output & Long-Run Equilibrium in Oligopoly Markets"
   ]
  },
  {
   "cell_type": "code",
   "execution_count": null,
   "metadata": {},
   "outputs": [],
   "source": []
  },
  {
   "cell_type": "markdown",
   "metadata": {},
   "source": [
    "## Monopoly & Demand & Supply & Optimal Price and Output in Monopoly Markets"
   ]
  },
  {
   "cell_type": "code",
   "execution_count": null,
   "metadata": {},
   "outputs": [],
   "source": []
  },
  {
   "cell_type": "markdown",
   "metadata": {},
   "source": [
    "## Price Discrimination and Consumer Surplus"
   ]
  },
  {
   "cell_type": "code",
   "execution_count": null,
   "metadata": {},
   "outputs": [],
   "source": []
  },
  {
   "cell_type": "markdown",
   "metadata": {},
   "source": [
    "## Factors Affecting Long-Run Equilibrium in Monopoly Markets"
   ]
  },
  {
   "cell_type": "code",
   "execution_count": null,
   "metadata": {},
   "outputs": [],
   "source": []
  },
  {
   "cell_type": "markdown",
   "metadata": {},
   "source": [
    "## Identification of Market Structure"
   ]
  },
  {
   "cell_type": "code",
   "execution_count": null,
   "metadata": {},
   "outputs": [],
   "source": []
  },
  {
   "cell_type": "markdown",
   "metadata": {},
   "source": [
    "# Aggregate Output, Prices, and Economic Growth"
   ]
  },
  {
   "cell_type": "code",
   "execution_count": null,
   "metadata": {},
   "outputs": [],
   "source": []
  },
  {
   "cell_type": "markdown",
   "metadata": {},
   "source": [
    "## Nominal and Real GDP"
   ]
  },
  {
   "cell_type": "code",
   "execution_count": null,
   "metadata": {},
   "outputs": [],
   "source": []
  },
  {
   "cell_type": "markdown",
   "metadata": {},
   "source": [
    "## The Components of GDP"
   ]
  },
  {
   "cell_type": "code",
   "execution_count": null,
   "metadata": {},
   "outputs": [],
   "source": []
  },
  {
   "cell_type": "markdown",
   "metadata": {},
   "source": [
    "## GDP, National Income, Personal Income, and Personal Disposable Income"
   ]
  },
  {
   "cell_type": "code",
   "execution_count": null,
   "metadata": {},
   "outputs": [],
   "source": []
  },
  {
   "cell_type": "markdown",
   "metadata": {},
   "source": [
    "## Equilibrium in the Goods Market: The IS Curve"
   ]
  },
  {
   "cell_type": "code",
   "execution_count": null,
   "metadata": {},
   "outputs": [],
   "source": []
  },
  {
   "cell_type": "markdown",
   "metadata": {},
   "source": [
    "## Equilibrium in the Money Market: The LM curve"
   ]
  },
  {
   "cell_type": "code",
   "execution_count": null,
   "metadata": {},
   "outputs": [],
   "source": []
  },
  {
   "cell_type": "markdown",
   "metadata": {},
   "source": [
    "## The Aggregate Demand Curve\n"
   ]
  },
  {
   "cell_type": "code",
   "execution_count": null,
   "metadata": {},
   "outputs": [],
   "source": []
  },
  {
   "cell_type": "markdown",
   "metadata": {},
   "source": [
    "## The Aggregate Supply Curve"
   ]
  },
  {
   "cell_type": "code",
   "execution_count": null,
   "metadata": {},
   "outputs": [],
   "source": []
  },
  {
   "cell_type": "markdown",
   "metadata": {},
   "source": [
    "## Shifts in the Aggregate Demand Curve"
   ]
  },
  {
   "cell_type": "code",
   "execution_count": null,
   "metadata": {},
   "outputs": [],
   "source": []
  },
  {
   "cell_type": "markdown",
   "metadata": {},
   "source": [
    "## Shifts in the Short-Run Aggregate Supply Curve"
   ]
  },
  {
   "cell_type": "code",
   "execution_count": null,
   "metadata": {},
   "outputs": [],
   "source": []
  },
  {
   "cell_type": "markdown",
   "metadata": {},
   "source": [
    "## Shifts in the Long-Run Aggregate Supply Curve"
   ]
  },
  {
   "cell_type": "code",
   "execution_count": null,
   "metadata": {},
   "outputs": [],
   "source": []
  },
  {
   "cell_type": "markdown",
   "metadata": {},
   "source": [
    "## Equilibrium GDP and Prices"
   ]
  },
  {
   "cell_type": "code",
   "execution_count": null,
   "metadata": {},
   "outputs": [],
   "source": []
  },
  {
   "cell_type": "markdown",
   "metadata": {},
   "source": [
    "## Economic Growth & The Production Function and Potential GDP\n"
   ]
  },
  {
   "cell_type": "code",
   "execution_count": null,
   "metadata": {},
   "outputs": [],
   "source": []
  },
  {
   "cell_type": "markdown",
   "metadata": {},
   "source": [
    "## Sources of Economic Growth"
   ]
  },
  {
   "cell_type": "code",
   "execution_count": null,
   "metadata": {},
   "outputs": [],
   "source": []
  },
  {
   "cell_type": "markdown",
   "metadata": {},
   "source": [
    "## Measures of Sustainable Growth"
   ]
  },
  {
   "cell_type": "code",
   "execution_count": null,
   "metadata": {},
   "outputs": [],
   "source": []
  },
  {
   "cell_type": "markdown",
   "metadata": {},
   "source": [
    "# Understanding Business Cycles"
   ]
  },
  {
   "cell_type": "code",
   "execution_count": null,
   "metadata": {},
   "outputs": [],
   "source": []
  },
  {
   "cell_type": "markdown",
   "metadata": {},
   "source": [
    "## Overview of the Business Cycle "
   ]
  },
  {
   "cell_type": "code",
   "execution_count": null,
   "metadata": {},
   "outputs": [],
   "source": []
  },
  {
   "cell_type": "markdown",
   "metadata": {},
   "source": [
    "## Fluctuations in Capital Spending"
   ]
  },
  {
   "cell_type": "code",
   "execution_count": null,
   "metadata": {},
   "outputs": [],
   "source": []
  },
  {
   "cell_type": "markdown",
   "metadata": {},
   "source": [
    "## Fluctuation in Inventory Levels"
   ]
  },
  {
   "cell_type": "code",
   "execution_count": null,
   "metadata": {},
   "outputs": [],
   "source": []
  },
  {
   "cell_type": "markdown",
   "metadata": {},
   "source": [
    "## Consumer Behavior"
   ]
  },
  {
   "cell_type": "code",
   "execution_count": null,
   "metadata": {},
   "outputs": [],
   "source": []
  },
  {
   "cell_type": "markdown",
   "metadata": {},
   "source": [
    "## Housing Sector Behavior"
   ]
  },
  {
   "cell_type": "code",
   "execution_count": null,
   "metadata": {},
   "outputs": [],
   "source": []
  },
  {
   "cell_type": "markdown",
   "metadata": {},
   "source": [
    "## External Trade Sector Behavior\n"
   ]
  },
  {
   "cell_type": "code",
   "execution_count": null,
   "metadata": {},
   "outputs": [],
   "source": []
  },
  {
   "cell_type": "markdown",
   "metadata": {},
   "source": [
    "## Neoclassical and Austrian Schools"
   ]
  },
  {
   "cell_type": "code",
   "execution_count": null,
   "metadata": {},
   "outputs": [],
   "source": []
  },
  {
   "cell_type": "markdown",
   "metadata": {},
   "source": [
    "## Keynesian and Monetarist Schools"
   ]
  },
  {
   "cell_type": "code",
   "execution_count": null,
   "metadata": {},
   "outputs": [],
   "source": []
  },
  {
   "cell_type": "markdown",
   "metadata": {},
   "source": [
    "## The New Classical School"
   ]
  },
  {
   "cell_type": "code",
   "execution_count": null,
   "metadata": {},
   "outputs": [],
   "source": []
  },
  {
   "cell_type": "markdown",
   "metadata": {},
   "source": [
    "## Unemployment"
   ]
  },
  {
   "cell_type": "code",
   "execution_count": null,
   "metadata": {},
   "outputs": [],
   "source": []
  },
  {
   "cell_type": "markdown",
   "metadata": {},
   "source": [
    "## Inflation"
   ]
  },
  {
   "cell_type": "code",
   "execution_count": null,
   "metadata": {},
   "outputs": [],
   "source": []
  },
  {
   "cell_type": "markdown",
   "metadata": {},
   "source": [
    "## Measuring Inflation: The Construction of Price Indexes"
   ]
  },
  {
   "cell_type": "code",
   "execution_count": null,
   "metadata": {},
   "outputs": [],
   "source": []
  },
  {
   "cell_type": "markdown",
   "metadata": {},
   "source": [
    "## Price Indexes and Their Usage"
   ]
  },
  {
   "cell_type": "code",
   "execution_count": null,
   "metadata": {},
   "outputs": [],
   "source": []
  },
  {
   "cell_type": "markdown",
   "metadata": {},
   "source": [
    "## Explaining Inflation"
   ]
  },
  {
   "cell_type": "code",
   "execution_count": null,
   "metadata": {},
   "outputs": [],
   "source": []
  },
  {
   "cell_type": "markdown",
   "metadata": {},
   "source": [
    "## Economic Indicators"
   ]
  },
  {
   "cell_type": "code",
   "execution_count": null,
   "metadata": {},
   "outputs": [],
   "source": []
  },
  {
   "cell_type": "code",
   "execution_count": null,
   "metadata": {},
   "outputs": [],
   "source": []
  },
  {
   "cell_type": "code",
   "execution_count": null,
   "metadata": {},
   "outputs": [],
   "source": []
  },
  {
   "cell_type": "code",
   "execution_count": null,
   "metadata": {},
   "outputs": [],
   "source": []
  }
 ],
 "metadata": {
  "kernelspec": {
   "display_name": "Python 3",
   "language": "python",
   "name": "python3"
  },
  "language_info": {
   "codemirror_mode": {
    "name": "ipython",
    "version": 3
   },
   "file_extension": ".py",
   "mimetype": "text/x-python",
   "name": "python",
   "nbconvert_exporter": "python",
   "pygments_lexer": "ipython3",
   "version": "3.7.3"
  }
 },
 "nbformat": 4,
 "nbformat_minor": 4
}
