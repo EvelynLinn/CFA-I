{
 "cells": [
  {
   "cell_type": "markdown",
   "metadata": {},
   "source": [
    "# Topics in Demand and Supply Analysis"
   ]
  },
  {
   "cell_type": "markdown",
   "metadata": {},
   "source": [
    "## Demand Concepts"
   ]
  },
  {
   "cell_type": "markdown",
   "metadata": {},
   "source": [
    "### The Demand Function\n",
    "$$Q^d_x=f(P_x,I,P_y)$$\n",
    "<div style=\"text-align: right\"> Equation 1 </div>\n",
    "where\n",
    "\n",
    "$Q^d_x$\t=\tthe quantity demanded of some good X (such as per household demand for gasoline in liters per month)<br>\n",
    "$P_x$\t=\tthe price per unit of good X (such as € per liter)<br>\n",
    "$I$\t=\tconsumers’ income (as in €1,000s per household annually)<br>\n",
    "$P_y$\t=\tthe price of another good, Y. (There can be many other goods, not just one, and they can be complements or substitutes.)"
   ]
  },
  {
   "cell_type": "code",
   "execution_count": null,
   "metadata": {},
   "outputs": [],
   "source": []
  },
  {
   "cell_type": "markdown",
   "metadata": {},
   "source": [
    "a hypothetical example of our function for gasoline demand:\n",
    "$$Q^d_x = 84.5 – 6.39P_x + 0.25I – 2P_y$$\n",
    "<div style=\"text-align: right\"> Equation 2 </div>\n",
    "where the quantity of gasoline demanded ($Q^d_x$) is a function of the price of a liter of gasoline ($P_x$), consumers’ income in €1,000s ($I$), and the average price of an automobile in €1,000s ($P_y$)."
   ]
  },
  {
   "cell_type": "markdown",
   "metadata": {},
   "source": [
    "$$Q^d_x  = 84.5 – 6.39P_x + 0.25(50) – 2(20) = 57 – 6.39P_x$$\n",
    "<div style=\"text-align: right\"> Equation 3 </div>\n"
   ]
  },
  {
   "cell_type": "markdown",
   "metadata": {},
   "source": [
    "$$P_x=8.92−0.156Q^d_x$$\n",
    "<div style=\"text-align: right\"> Equation 4 </div>"
   ]
  },
  {
   "cell_type": "markdown",
   "metadata": {},
   "source": [
    "## Price Elasticity of Demand"
   ]
  },
  {
   "cell_type": "markdown",
   "metadata": {},
   "source": [
    "### Own-Price Elasticity of Demand \n",
    "A measure of the sensitivity of quantity demanded to a change in a product’s own price: $$E^d_{p_x} = \\frac{\\%∆Q^D_x}{\\%∆P_x}$$\n",
    "\n",
    "<div style=\"text-align: right\"> Equation 5 </div>"
   ]
  },
  {
   "cell_type": "markdown",
   "metadata": {},
   "source": [
    "Which can be rewritten as<br><br>\n",
    "$$E^d_{p_x}=\\frac{\\frac{∆Q^D_x}{Q^D_x}}{\\frac{∆P_x}{P_x}}=\\Big(\\frac{∆Q^D_x}{∆P_x}\\Big)\\Big(\\frac{P_x}{Q^D_x}\\Big)$$ \n",
    "<div style=\"text-align: right\"> Equation 6 </div>\n",
    "\n",
    "When the relationship between two variables is linear, $\\frac{∆Q^D_x}{∆P_x}$ is equal to the slope coefficient on $P_x$ in the demand function."
   ]
  },
  {
   "cell_type": "markdown",
   "metadata": {},
   "source": [
    "When that magnitude is greater than one, demand is said to be *elastic*. And when the elasticity coefficient is equal to negative one, demand is said to be *unit elastic*, or *unitary elastic*.<br>\n",
    "The first term, $\\frac{∆Q}{∆P}$, which is the inverse of the slope of the demand curve, remains constant along the entire demand curve. But the second term, $\\frac{P}{Q}$, changes depending on where we are on the demand curve. At very low prices, $\\frac{P}{Q}$ is very small, so demand is inelastic. But at very high prices, $Q$ is low and $P$ is high, so the ratio $\\frac{P}{Q}$ is very high and demand is elastic."
   ]
  },
  {
   "cell_type": "markdown",
   "metadata": {},
   "source": [
    "#### Extremes of Price Elasticity\n",
    "- perfectly inelastic\n",
    "- perfectly elastic"
   ]
  },
  {
   "cell_type": "code",
   "execution_count": null,
   "metadata": {},
   "outputs": [],
   "source": []
  },
  {
   "cell_type": "markdown",
   "metadata": {},
   "source": [
    "## Predicting Demand Elasticity, Price Elasticity and Total Expenditure"
   ]
  },
  {
   "cell_type": "markdown",
   "metadata": {},
   "source": [
    "#### Predicting Demand Elasticity\n",
    "- degree of substitutability\n",
    "- the portion of the typical budget that is spent on the good\n",
    "- the amount of time that is allowed to respond to the change in price (long-run demand is much more elastic than the short-run demand)\n",
    "- the extent to which the good is seen as necessary or optional"
   ]
  },
  {
   "cell_type": "markdown",
   "metadata": {},
   "source": [
    "#### Elasticity and Total Expenditure\n",
    "When demand is elastic, price and total expenditure move in opposite directions. When demand is inelastic, price and total expenditure move in the same direction. "
   ]
  },
  {
   "cell_type": "markdown",
   "metadata": {},
   "source": [
    "## Income Elasticity of Demand, Cross-Price Elasticity of Demand"
   ]
  },
  {
   "cell_type": "markdown",
   "metadata": {},
   "source": [
    "### Income Elasticity of Demand\n",
    "\n",
    "$$E^d_I=\\frac{\\%ΔQ^d_x}{\\%ΔI}=\\Big(\\frac{ΔQ^d_x}{ΔI}\\Big)\\Big(\\frac{I}{Q^d_x}\\Big)$$\n",
    "<div style=\"text-align: right\"> Equation 7, 11 </div>"
   ]
  },
  {
   "cell_type": "markdown",
   "metadata": {},
   "source": [
    "### Cross-Price Elasticity of Demand\n",
    "The percentage change in quantity demanded for a given percentage change in the price of another good; the responsiveness of the demand for Product A that is associated with the change in price of Product B.\n",
    "$$E^d_{p_y}=\\frac{\\%ΔQ^d_x}{\\%ΔP_y}=\\Big(\\frac{ΔQ^d_x}{ΔP_y}\\Big)\\Big(\\frac{P_y}{Q^d_x}\\Big)$$\n",
    "<div style=\"text-align: right\"> Equation 8, 12 </div>\n",
    "\n",
    "- substitutes: if the cross-price elasticity of two goods is positive\n",
    "- complements: two goods whose cross-price elasticity of demand is negative"
   ]
  },
  {
   "cell_type": "markdown",
   "metadata": {},
   "source": [
    "**Example: Calculating Elasticities from a Given Demand Function**<br>\n",
    "An individual consumer’s monthly demand for downloadable e-books is given by the equation $Q^d_{eb} = 2 – 0.4P_{eb} + 0.0005I + 0.15P_{hb}$, where $Q^d_{eb}$ equals the number of e-books demanded each month, I equals the household monthly income, $P_{eb}$ equals the price of e-books, and $P_{hb}$ equals the price of hardbound books. Assume that the price of e-books is €10.68, household income is €2,300, and the price of hardbound books is €21.40."
   ]
  },
  {
   "cell_type": "code",
   "execution_count": 4,
   "metadata": {},
   "outputs": [
    {
     "data": {
      "text/plain": [
       "-2.0459770114942537"
      ]
     },
     "execution_count": 4,
     "metadata": {},
     "output_type": "execute_result"
    }
   ],
   "source": [
    "# Determine the value of own-price elasticity of demand for e-books.\n",
    "p_eb = 10.68\n",
    "p_hb = 21.40\n",
    "income = 2300\n",
    "demand = 2 - 0.4*p_eb + 0.0005*income + 0.15*p_hb\n",
    "demand\n",
    "\n",
    "# Implement equation 6\n",
    "slope_p_eb = -0.4\n",
    "own_elasticity = slope_p_eb * p_eb / demand\n",
    "own_elasticity"
   ]
  },
  {
   "cell_type": "code",
   "execution_count": 5,
   "metadata": {},
   "outputs": [
    {
     "data": {
      "text/plain": [
       "0.5507662835249045"
      ]
     },
     "execution_count": 5,
     "metadata": {},
     "output_type": "execute_result"
    }
   ],
   "source": [
    "# Determine the income elasticity of demand for e-books.\n",
    "slope_i = 0.0005\n",
    "income_elasticity = slope_i * income / demand\n",
    "income_elasticity"
   ]
  },
  {
   "cell_type": "code",
   "execution_count": 6,
   "metadata": {},
   "outputs": [
    {
     "data": {
      "text/plain": [
       "1.5373563218390809"
      ]
     },
     "execution_count": 6,
     "metadata": {},
     "output_type": "execute_result"
    }
   ],
   "source": [
    "# Determine the cross-price elasticity of demand for e-books with respect to the price of hardbound books.\n",
    "slope_p_hb = 0.15\n",
    "cross_elasticity = slope_p_hb * p_hb / demand\n",
    "cross_elasticity"
   ]
  },
  {
   "cell_type": "markdown",
   "metadata": {},
   "source": [
    "## Substitution and Income Effects; Normal Goods, Inferior Goods and Special Cases"
   ]
  },
  {
   "cell_type": "markdown",
   "metadata": {},
   "source": [
    "#### Substitution Effect\n",
    "- A decrease in price tends to cause consumers to buy more of this good in place of other goods—the substitution effect.\n",
    "\n",
    "#### Income Effect\n",
    "- The increase in real income resulting from the decline in this good’s price causes people to buy even more of this good when its price falls—the income effect."
   ]
  },
  {
   "cell_type": "markdown",
   "metadata": {},
   "source": [
    "#### Normal and Inferior Goods\n",
    "- Normal Goods: goods that are consumed in greater quantities as income increases.\n",
    "- Inferior Goods: A good whose consumption decreases as income increases."
   ]
  },
  {
   "cell_type": "markdown",
   "metadata": {},
   "source": [
    "#### Exceptions to the Law of Demand \n",
    "- Giffen Goods: Goods that are consumed more as the price of the good rises because it is a very inferior good whose income effect overwhelms its substitution effect when price changes.\n"
   ]
  },
  {
   "cell_type": "markdown",
   "metadata": {},
   "source": [
    "## Supply Analysis: Cost, Marginal Return, and Productivity"
   ]
  },
  {
   "cell_type": "markdown",
   "metadata": {},
   "source": [
    "### Supply Analysis: The Firm\n",
    "Diminishing Marginal Returns: The observation that a variable factor’s marginal product must eventually fall as more of it is added to a fixed amount of the other factors.\n",
    "\n",
    "#### Marginal Returns and Productivity\n",
    "The total cost of production (TC) is the number of hours of labor multiplied by the wage rate plus the number of machine hours multiplied by the rental rate of machines:\n",
    "\n",
    "$$TC = (w)(L) + (r)(K)$$\n",
    "\n",
    "The cost function $$C = f(Q)$$where ($Q$) denotes the flow of output in units of production per time period, relates the production cost per time period to the number of units of output produced per time period."
   ]
  },
  {
   "cell_type": "markdown",
   "metadata": {},
   "source": [
    "- Total product\t\n",
    "- Average product  (Q/L)\t\n",
    "- Marginal product (∆Q/∆L)"
   ]
  },
  {
   "cell_type": "markdown",
   "metadata": {},
   "source": [
    "## Economic Profit Versus Accounting Profit"
   ]
  },
  {
   "cell_type": "markdown",
   "metadata": {},
   "source": [
    "#### Breakeven and Shutdown Analysis\n",
    "**Economic Profit:** Equal to accounting profit less the implicit opportunity costs not included in total accounting costs; the difference between total revenue (TR) and total cost (TC). Also called abnormal profit or supernormal profit.<br>\n",
    "**Economic Cost:** All the remuneration needed to keep a productive resource in its current employment or to acquire the resource for productive use; the sum of total accounting costs and implicit opportunity costs.<br>\n",
    "**Accounting Profit:** Income as reported on the income statement, in accordance with prevailing accounting standards, before the provisions for income tax expense. Also called income before taxes or pretax income.<br>\n",
    "**Accounting Cost:** Monetary value of economic resources used in performing an activity. These can be explicit, out-of-pocket, current payments, or an allocation of historical payments (depreciation) for resources. They do not include implicit opportunity costs."
   ]
  },
  {
   "cell_type": "markdown",
   "metadata": {},
   "source": [
    "**Note**<br>\n",
    "Economic depreciation. Because sunk costs cannot be altered, they cannot affect an optimal decision, which is forward looking. Sunk costs are therefore ignored, and the key management question is, Going forward, what are the opportunity costs and benefits of maintaining a given level of output?<br>\n",
    "The opportunity cost of any particular decision, such as to produce a given level of output, can be determined by measuring the benefit forgone by not implementing the next best alternative. "
   ]
  },
  {
   "cell_type": "markdown",
   "metadata": {},
   "source": [
    "## Marginal Revenue, Marginal Cost and Profit Maximization; Short-Run Cost Curves: Total, Variable, Fixed, and Marginal Costs"
   ]
  },
  {
   "cell_type": "markdown",
   "metadata": {},
   "source": [
    "#### Marginal Revenue, Marginal Cost, and Profit Maximization\n"
   ]
  },
  {
   "cell_type": "markdown",
   "metadata": {},
   "source": [
    "#### Understanding the Interaction between Total, Variable, Fixed, and Marginal Cost and Output\n"
   ]
  },
  {
   "cell_type": "markdown",
   "metadata": {},
   "source": []
  },
  {
   "cell_type": "markdown",
   "metadata": {},
   "source": []
  },
  {
   "cell_type": "markdown",
   "metadata": {},
   "source": []
  },
  {
   "cell_type": "markdown",
   "metadata": {},
   "source": []
  },
  {
   "cell_type": "markdown",
   "metadata": {},
   "source": []
  },
  {
   "cell_type": "markdown",
   "metadata": {},
   "source": [
    "<div style=\"text-align: right\"> Equation  </div>"
   ]
  },
  {
   "cell_type": "markdown",
   "metadata": {},
   "source": [
    "## Perfect and Imperfect Competition, Profit Maximization"
   ]
  },
  {
   "cell_type": "code",
   "execution_count": null,
   "metadata": {},
   "outputs": [],
   "source": []
  },
  {
   "cell_type": "markdown",
   "metadata": {},
   "source": [
    "## Breakeven Analysis and Shutdown Decision"
   ]
  },
  {
   "cell_type": "code",
   "execution_count": null,
   "metadata": {},
   "outputs": [],
   "source": []
  },
  {
   "cell_type": "markdown",
   "metadata": {},
   "source": [
    "## Economies and Diseconomies of Scale with Short-Run and Long-Run Cost Analysis"
   ]
  },
  {
   "cell_type": "code",
   "execution_count": null,
   "metadata": {},
   "outputs": [],
   "source": []
  },
  {
   "cell_type": "markdown",
   "metadata": {},
   "source": [
    "# The Firm and Market Structures"
   ]
  },
  {
   "cell_type": "code",
   "execution_count": null,
   "metadata": {},
   "outputs": [],
   "source": []
  },
  {
   "cell_type": "markdown",
   "metadata": {},
   "source": [
    "## Perfect Competition & Demand Analysis in Perfectly Competitive Markets"
   ]
  },
  {
   "cell_type": "code",
   "execution_count": null,
   "metadata": {},
   "outputs": [],
   "source": []
  },
  {
   "cell_type": "markdown",
   "metadata": {},
   "source": [
    "## Elasticity of Demand"
   ]
  },
  {
   "cell_type": "code",
   "execution_count": null,
   "metadata": {},
   "outputs": [],
   "source": []
  },
  {
   "cell_type": "markdown",
   "metadata": {},
   "source": [
    "## Other Factors Affecting Demand"
   ]
  },
  {
   "cell_type": "code",
   "execution_count": null,
   "metadata": {},
   "outputs": [],
   "source": []
  },
  {
   "cell_type": "markdown",
   "metadata": {},
   "source": [
    "## Consumer Surplus: Value Minus Expenditure"
   ]
  },
  {
   "cell_type": "code",
   "execution_count": null,
   "metadata": {},
   "outputs": [],
   "source": []
  },
  {
   "cell_type": "markdown",
   "metadata": {},
   "source": [
    "## Supply Analysis & Optimal Price and Optimal Output In Perfectly Competitive Markets"
   ]
  },
  {
   "cell_type": "code",
   "execution_count": null,
   "metadata": {},
   "outputs": [],
   "source": []
  },
  {
   "cell_type": "markdown",
   "metadata": {},
   "source": [
    "## Factors Affecting Long-Run Equilibrium in Perfectly Competitive Markets"
   ]
  },
  {
   "cell_type": "code",
   "execution_count": null,
   "metadata": {},
   "outputs": [],
   "source": []
  },
  {
   "cell_type": "markdown",
   "metadata": {},
   "source": [
    "## Supply, Demand, Optimal Pricing, and Optimal Ouput under Monopolistic Competition"
   ]
  },
  {
   "cell_type": "code",
   "execution_count": null,
   "metadata": {},
   "outputs": [],
   "source": []
  },
  {
   "cell_type": "markdown",
   "metadata": {},
   "source": [
    "## Long-Run Equilibrium for Monopolistically Competitive Firm"
   ]
  },
  {
   "cell_type": "code",
   "execution_count": null,
   "metadata": {},
   "outputs": [],
   "source": []
  },
  {
   "cell_type": "markdown",
   "metadata": {},
   "source": [
    "## Oligopoly & Demand Analysis and Pricing Strategies in Oligopoly Markets: Pricing Independence Portion"
   ]
  },
  {
   "cell_type": "code",
   "execution_count": null,
   "metadata": {},
   "outputs": [],
   "source": []
  },
  {
   "cell_type": "markdown",
   "metadata": {},
   "source": [
    "## Oligopoly & Demand Analysis and Pricing Strategies in Oligopoly Markets: The Cournot assumption part"
   ]
  },
  {
   "cell_type": "code",
   "execution_count": null,
   "metadata": {},
   "outputs": [],
   "source": []
  },
  {
   "cell_type": "markdown",
   "metadata": {},
   "source": [
    "## Oligopoly & Demand Analysis and Pricing Strategies in Oligopoly Markets: The Nash Equilibrium part"
   ]
  },
  {
   "cell_type": "code",
   "execution_count": null,
   "metadata": {},
   "outputs": [],
   "source": []
  },
  {
   "cell_type": "markdown",
   "metadata": {},
   "source": [
    "## Supply Analysis & Optimal Price and Output & Long-Run Equilibrium in Oligopoly Markets"
   ]
  },
  {
   "cell_type": "code",
   "execution_count": null,
   "metadata": {},
   "outputs": [],
   "source": []
  },
  {
   "cell_type": "markdown",
   "metadata": {},
   "source": [
    "## Monopoly & Demand & Supply & Optimal Price and Output in Monopoly Markets"
   ]
  },
  {
   "cell_type": "code",
   "execution_count": null,
   "metadata": {},
   "outputs": [],
   "source": []
  },
  {
   "cell_type": "markdown",
   "metadata": {},
   "source": [
    "## Price Discrimination and Consumer Surplus"
   ]
  },
  {
   "cell_type": "code",
   "execution_count": null,
   "metadata": {},
   "outputs": [],
   "source": []
  },
  {
   "cell_type": "markdown",
   "metadata": {},
   "source": [
    "## Factors Affecting Long-Run Equilibrium in Monopoly Markets"
   ]
  },
  {
   "cell_type": "code",
   "execution_count": null,
   "metadata": {},
   "outputs": [],
   "source": []
  },
  {
   "cell_type": "markdown",
   "metadata": {},
   "source": [
    "## Identification of Market Structure"
   ]
  },
  {
   "cell_type": "code",
   "execution_count": null,
   "metadata": {},
   "outputs": [],
   "source": []
  },
  {
   "cell_type": "markdown",
   "metadata": {},
   "source": [
    "# Aggregate Output, Prices, and Economic Growth"
   ]
  },
  {
   "cell_type": "code",
   "execution_count": null,
   "metadata": {},
   "outputs": [],
   "source": []
  },
  {
   "cell_type": "markdown",
   "metadata": {},
   "source": [
    "## Nominal and Real GDP"
   ]
  },
  {
   "cell_type": "code",
   "execution_count": null,
   "metadata": {},
   "outputs": [],
   "source": []
  },
  {
   "cell_type": "markdown",
   "metadata": {},
   "source": [
    "## The Components of GDP"
   ]
  },
  {
   "cell_type": "code",
   "execution_count": null,
   "metadata": {},
   "outputs": [],
   "source": []
  },
  {
   "cell_type": "markdown",
   "metadata": {},
   "source": [
    "## GDP, National Income, Personal Income, and Personal Disposable Income"
   ]
  },
  {
   "cell_type": "code",
   "execution_count": null,
   "metadata": {},
   "outputs": [],
   "source": []
  },
  {
   "cell_type": "markdown",
   "metadata": {},
   "source": [
    "## Equilibrium in the Goods Market: The IS Curve"
   ]
  },
  {
   "cell_type": "code",
   "execution_count": null,
   "metadata": {},
   "outputs": [],
   "source": []
  },
  {
   "cell_type": "markdown",
   "metadata": {},
   "source": [
    "## Equilibrium in the Money Market: The LM curve"
   ]
  },
  {
   "cell_type": "code",
   "execution_count": null,
   "metadata": {},
   "outputs": [],
   "source": []
  },
  {
   "cell_type": "markdown",
   "metadata": {},
   "source": [
    "## The Aggregate Demand Curve\n"
   ]
  },
  {
   "cell_type": "code",
   "execution_count": null,
   "metadata": {},
   "outputs": [],
   "source": []
  },
  {
   "cell_type": "markdown",
   "metadata": {},
   "source": [
    "## The Aggregate Supply Curve"
   ]
  },
  {
   "cell_type": "code",
   "execution_count": null,
   "metadata": {},
   "outputs": [],
   "source": []
  },
  {
   "cell_type": "markdown",
   "metadata": {},
   "source": [
    "## Shifts in the Aggregate Demand Curve"
   ]
  },
  {
   "cell_type": "code",
   "execution_count": null,
   "metadata": {},
   "outputs": [],
   "source": []
  },
  {
   "cell_type": "markdown",
   "metadata": {},
   "source": [
    "## Shifts in the Short-Run Aggregate Supply Curve"
   ]
  },
  {
   "cell_type": "code",
   "execution_count": null,
   "metadata": {},
   "outputs": [],
   "source": []
  },
  {
   "cell_type": "markdown",
   "metadata": {},
   "source": [
    "## Shifts in the Long-Run Aggregate Supply Curve"
   ]
  },
  {
   "cell_type": "code",
   "execution_count": null,
   "metadata": {},
   "outputs": [],
   "source": []
  },
  {
   "cell_type": "markdown",
   "metadata": {},
   "source": [
    "## Equilibrium GDP and Prices"
   ]
  },
  {
   "cell_type": "code",
   "execution_count": null,
   "metadata": {},
   "outputs": [],
   "source": []
  },
  {
   "cell_type": "markdown",
   "metadata": {},
   "source": [
    "## Economic Growth & The Production Function and Potential GDP\n"
   ]
  },
  {
   "cell_type": "code",
   "execution_count": null,
   "metadata": {},
   "outputs": [],
   "source": []
  },
  {
   "cell_type": "markdown",
   "metadata": {},
   "source": [
    "## Sources of Economic Growth"
   ]
  },
  {
   "cell_type": "code",
   "execution_count": null,
   "metadata": {},
   "outputs": [],
   "source": []
  },
  {
   "cell_type": "markdown",
   "metadata": {},
   "source": [
    "## Measures of Sustainable Growth"
   ]
  },
  {
   "cell_type": "code",
   "execution_count": null,
   "metadata": {},
   "outputs": [],
   "source": []
  },
  {
   "cell_type": "markdown",
   "metadata": {},
   "source": [
    "# Understanding Business Cycles"
   ]
  },
  {
   "cell_type": "code",
   "execution_count": null,
   "metadata": {},
   "outputs": [],
   "source": []
  },
  {
   "cell_type": "markdown",
   "metadata": {},
   "source": [
    "## Overview of the Business Cycle "
   ]
  },
  {
   "cell_type": "code",
   "execution_count": null,
   "metadata": {},
   "outputs": [],
   "source": []
  },
  {
   "cell_type": "markdown",
   "metadata": {},
   "source": [
    "## Fluctuations in Capital Spending"
   ]
  },
  {
   "cell_type": "code",
   "execution_count": null,
   "metadata": {},
   "outputs": [],
   "source": []
  },
  {
   "cell_type": "markdown",
   "metadata": {},
   "source": [
    "## Fluctuation in Inventory Levels"
   ]
  },
  {
   "cell_type": "code",
   "execution_count": null,
   "metadata": {},
   "outputs": [],
   "source": []
  },
  {
   "cell_type": "markdown",
   "metadata": {},
   "source": [
    "## Consumer Behavior"
   ]
  },
  {
   "cell_type": "code",
   "execution_count": null,
   "metadata": {},
   "outputs": [],
   "source": []
  },
  {
   "cell_type": "markdown",
   "metadata": {},
   "source": [
    "## Housing Sector Behavior"
   ]
  },
  {
   "cell_type": "code",
   "execution_count": null,
   "metadata": {},
   "outputs": [],
   "source": []
  },
  {
   "cell_type": "markdown",
   "metadata": {},
   "source": [
    "## External Trade Sector Behavior\n"
   ]
  },
  {
   "cell_type": "code",
   "execution_count": null,
   "metadata": {},
   "outputs": [],
   "source": []
  },
  {
   "cell_type": "markdown",
   "metadata": {},
   "source": [
    "## Neoclassical and Austrian Schools"
   ]
  },
  {
   "cell_type": "code",
   "execution_count": null,
   "metadata": {},
   "outputs": [],
   "source": []
  },
  {
   "cell_type": "markdown",
   "metadata": {},
   "source": [
    "## Keynesian and Monetarist Schools"
   ]
  },
  {
   "cell_type": "code",
   "execution_count": null,
   "metadata": {},
   "outputs": [],
   "source": []
  },
  {
   "cell_type": "markdown",
   "metadata": {},
   "source": [
    "## The New Classical School"
   ]
  },
  {
   "cell_type": "code",
   "execution_count": null,
   "metadata": {},
   "outputs": [],
   "source": []
  },
  {
   "cell_type": "markdown",
   "metadata": {},
   "source": [
    "## Unemployment"
   ]
  },
  {
   "cell_type": "code",
   "execution_count": null,
   "metadata": {},
   "outputs": [],
   "source": []
  },
  {
   "cell_type": "markdown",
   "metadata": {},
   "source": [
    "## Inflation"
   ]
  },
  {
   "cell_type": "code",
   "execution_count": null,
   "metadata": {},
   "outputs": [],
   "source": []
  },
  {
   "cell_type": "markdown",
   "metadata": {},
   "source": [
    "## Measuring Inflation: The Construction of Price Indexes"
   ]
  },
  {
   "cell_type": "code",
   "execution_count": null,
   "metadata": {},
   "outputs": [],
   "source": []
  },
  {
   "cell_type": "markdown",
   "metadata": {},
   "source": [
    "## Price Indexes and Their Usage"
   ]
  },
  {
   "cell_type": "code",
   "execution_count": null,
   "metadata": {},
   "outputs": [],
   "source": []
  },
  {
   "cell_type": "markdown",
   "metadata": {},
   "source": [
    "## Explaining Inflation"
   ]
  },
  {
   "cell_type": "code",
   "execution_count": null,
   "metadata": {},
   "outputs": [],
   "source": []
  },
  {
   "cell_type": "markdown",
   "metadata": {},
   "source": [
    "## Economic Indicators"
   ]
  },
  {
   "cell_type": "code",
   "execution_count": null,
   "metadata": {},
   "outputs": [],
   "source": []
  },
  {
   "cell_type": "code",
   "execution_count": null,
   "metadata": {},
   "outputs": [],
   "source": []
  },
  {
   "cell_type": "code",
   "execution_count": null,
   "metadata": {},
   "outputs": [],
   "source": []
  },
  {
   "cell_type": "code",
   "execution_count": null,
   "metadata": {},
   "outputs": [],
   "source": []
  }
 ],
 "metadata": {
  "kernelspec": {
   "display_name": "Python 3",
   "language": "python",
   "name": "python3"
  },
  "language_info": {
   "codemirror_mode": {
    "name": "ipython",
    "version": 3
   },
   "file_extension": ".py",
   "mimetype": "text/x-python",
   "name": "python",
   "nbconvert_exporter": "python",
   "pygments_lexer": "ipython3",
   "version": "3.7.3"
  }
 },
 "nbformat": 4,
 "nbformat_minor": 4
}
