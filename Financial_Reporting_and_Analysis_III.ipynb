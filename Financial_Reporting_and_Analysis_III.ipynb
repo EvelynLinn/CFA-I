{
 "cells": [
  {
   "cell_type": "code",
   "execution_count": 1,
   "metadata": {},
   "outputs": [],
   "source": [
    "import pandas as pd"
   ]
  },
  {
   "cell_type": "markdown",
   "metadata": {},
   "source": [
    "# Inventories"
   ]
  },
  {
   "cell_type": "markdown",
   "metadata": {},
   "source": [
    "## Cost of Inventories\n",
    "Under IFRS, the costs to include in inventories are “all costs of purchase, costs of conversion, and other costs incurred in bringing the inventories to their present location and condition.”\n",
    "\n",
    "The costs of purchase include:\n",
    "- purchase price\n",
    "- import and tax-related duties\n",
    "- transport\n",
    "- insurance during transport\n",
    "- handling\n",
    "- other costs directly attributable to the acquisition of finished goods, materials, and services\n",
    "\n",
    "The costs of conversion include: \n",
    "- costs directly related to the units produced, such as direct labour\n",
    "- fixed and variable overhead costs. <br>\n",
    "\n",
    "### Differentiate Inventory on the Balance Sheet & Cost of Sales on the Income Statement\n",
    "1. **Costs in inventory** (i.e., as an asset, total inventory costs, i.e., cost of goods available for sale) means that they will not be recognised as an expense (i.e., as **cost of sales**) on the income statement until the inventory is sold.\n",
    "  - When items are sold, the carrying amount of the inventory is recognised as an **expense (cost of sales)** according to the cost formula (cost flow assumption) in use.\n",
    "2. Both IFRS and US GAAP exclude the following costs from inventory. These excluded costs are treated as **expenses and recognised on the income statement** in the period in which they are incurred. \n",
    "  - abnormal costs incurred as a result of waste of materials\n",
    "  - labour or other production conversion inputs (Q: how to differentiate this from the cost of conversion that should be included in inventory as an asset until the goods are sold?)\n",
    "  - any storage costs (unless required as part of the production process)and (for example, ?)\n",
    "  - all administrative overhead and selling costs<br>\n",
    "\n",
    "*If the choice of method results in more cost being allocated to cost of sales and less cost being allocated to inventory (than would be the case with other methods), the chosen method will cause the following items in the current year to be lower than if alternative methods had been used:* \n",
    "- reported gross profit\n",
    "- net income\n",
    "- inventory carrying amount (affecting total assets and current assets?)"
   ]
  },
  {
   "cell_type": "markdown",
   "metadata": {},
   "source": [
    "## Inventory Valuation Methods (Cost Formulas/Cost Flow Assumptions)\n",
    "Given relatively constant prices, the allocation of costs between cost of goods sold and ending inventory would be very similar under each of the four methods. \n",
    "#### Specific Identification\n",
    "- For inventory items that are:\n",
    "  - not ordinarily interchangeable and \n",
    "  - for goods that have been produced and segregated for specific projects\n",
    "  - commonly used for expensive goods that are uniquely identifiable, such as precious gemstones\n",
    "- Matches the actual historical costs of the specific inventory items to their physical flow.\n",
    "#### FIFO\n",
    "- Assumption: oldest goods purchased/manufactured are sold first. \n",
    "- How it works: \n",
    "  - cost of sales reflects the cost of goods in beginning inventory plus the cost of items purchased (or manufactured) earliest in the accounting period,\n",
    "  - and the value of ending inventory reflects the costs of goods purchased (or manufactured) more recently.\n",
    "  - In periods of rising prices, the costs assigned to the units in ending inventory are higher than the costs assigned to the units sold. \n",
    "#### Weighted Average Cost\n",
    "- the weighted average cost per unit = Total cost of goods available for sale/Total units available for sale\n",
    "- How it works: assigns the average cost of the goods available for sale (beginning inventory plus purchase, conversion, and other costs) during the accounting period to the units that are sold as well as to the units in ending inventory.\n",
    "### LIFO\n",
    "- Assumption: the newest goods purchased (or manufactured) are sold first\n",
    "- How it works: cost of sales reflects the cost of goods purchased (or manufactured) more recently, and the value of ending inventory reflects the cost of older goods. In periods of rising prices, the costs assigned to the units in ending inventory are lower than the costs assigned to the units sold. \n",
    "\n",
    "*(Note: A company must use the same inventory valuation method for all items that have a similar nature and use. For items with a different nature or use, a different inventory valuation method can be used.)*\n",
    "\n",
    "### Calculation of Cost of Sales, Gross Profit, and Ending Inventory\n",
    "In periods of changing prices, the allocation of total inventory costs (i.e., cost of goods available for sale) between cost of sales on the income statement and inventory on the balance sheet will vary depending on the inventory valuation method used by the company.\n",
    "### Periodic Versus Perpetual Inventory Systems\n",
    "Under either system, the allocation of goods available for sale to cost of sales and ending inventory is the same if the inventory valuation method used is either specific identification or FIFO.<br>\n",
    "Under a periodic inventory system, the amount of cost of goods available for sale allocated to cost of sales and ending inventory may be quite different using the FIFO method compared to the weighted average cost method. Under a perpetual inventory system, inventory values and cost of sales are continuously updated to reflect purchases and sales. As a result, the amount of cost of goods available for sale allocated to cost of sales and ending inventory is similar under the FIFO and weighted average cost methods. Because of lack of disclosure and the dominance of perpetual inventory systems, analysts typically do not make adjustments when comparing a company using the weighted average cost method with a company using the FIFO method.<br>\n",
    "When inventory costs are increasing and inventory unit levels are stable or increasing, using the LIFO method will result in higher cost of sales and lower inventory carrying amounts than using the FIFO method. The higher cost of sales under LIFO will result in lower gross profit, operating income, income before taxes, and net income. Income tax expense will be lower under LIFO, causing the company’s net operating cash flow to be higher. On the balance sheet, the lower inventory carrying amount will result in lower reported current assets, working capital, and total assets. Analysts must carefully assess the financial statement implications of the choice of inventory valuation method when comparing companies that use the LIFO method with companies that use the FIFO method.\n",
    "#### Periodic System\n",
    "Inventory values and costs of sales are determined at the end of an accounting period. <br>\n",
    "Purchases are recorded in a purchases account. The total of purchases and beginning inventory is the amount of goods available for sale during the period. The ending inventory amount is subtracted from the goods available for sale to arrive at the cost of sales. The quantity of goods in ending inventory is usually obtained or verified through a physical count of the units in inventory. \n",
    "#### Perpetual System\n",
    "Under a perpetual inventory system, inventory values and cost of sales are continuously updated to reflect purchases and sales.\n",
    "### Comparison of Inventory Valuation Methods\n",
    "In an environment of declining inventory unit costs and constant or increasing inventory quantities, FIFO (in comparison with weighted average cost or LIFO) will allocate a higher amount of the total cost of goods available for sale to cost of sales on the income statement and a lower amount to ending inventory on the balance sheet. Accordingly, because cost of sales will be higher under FIFO, a company’s gross profit, operating profit, and income before taxes will be lower.\n",
    "\n",
    "The carrying amount of inventories under FIFO will more closely reflect current replacement values.  \n",
    "\n",
    "\n",
    "Inventory turnover ratio = Cost of sales ÷ Ending inventory"
   ]
  },
  {
   "cell_type": "markdown",
   "metadata": {},
   "source": [
    "## The LIFO Method and LIFO Reserve\n",
    "The potential income tax savings are a benefit of using the LIFO method when inventory costs are increasing:\n",
    "- Income Statement:\n",
    "  - higher cost of sales (cost of sales will more closely reflect current replacement costs)\n",
    "  - lower gross profit, operating profit, income tax expense, and net income). \n",
    "- Balance sheet:\n",
    "  - lower ending inventory, working capital, total assets, retained earnings, and shareholders’ equity.\n",
    "\n",
    "The lower income tax paid will result in higher net cash flow from operating activities. Some of the financial ratio effects are a lower current ratio, higher debt-to-equity ratios, and lower profitability ratios.\n",
    "### LIFO Reserve\n",
    "It is the FIFO inventory value less the LIFO inventory value.<br>\n",
    "#### Inventory Carrying Amount\n",
    "To compare companies using LIFO with companies not using LIFO, inventory is adjusted by adding the disclosed LIFO reserve to the inventory balance that is reported on the balance sheet. \n",
    "#### Cost of Sales\n",
    "Cost of sales is adjusted by subtracting the increase in the LIFO reserve during the period from the cost of sales amount that is reported on the income statement. If the LIFO reserve has declined during the period, the decrease in the reserve is added to the cost of sales amount that is reported on the income statement. \n",
    "### LIFO Liquidations\n",
    "When the number of units sold exceeds the number of units purchased or manufactured, the number of units in ending inventory is lower than the number of units in beginning inventory and a company using LIFO will experience a LIFO liquidation (some of the older units held in inventory are assumed to have been sold). \n",
    "\n",
    "If inventory unit costs have been rising from period to period and LIFO liquidation occurs, this will produce an inventory-related increase in gross profits. The increase in gross profits occurs because of the lower inventory carrying amounts of the liquidated units. The lower inventory carrying amounts are used for cost of sales and the sales are at the current prices. The gross profit on these units is higher than the gross profit that would be recognised using more current costs. These inventory profits caused by a LIFO liquidation, however, are one-time events and are not sustainable.\n",
    "\n",
    "Analysts should be aware that management can potentially manipulate and inflate their company’s reported gross profits and net income at critical times by intentionally reducing inventory quantities and liquidating older layers of LIFO inventory (selling some units of beginning inventory). During economic downturns, LIFO liquidation may result in higher gross profit than would otherwise be realised. If LIFO layers of inventory are temporarily depleted and not replaced by fiscal year-end, LIFO liquidation will occur resulting in unsustainable higher gross profits. Therefore, it is imperative to review the LIFO reserve footnote disclosures to determine if LIFO liquidation has occurred. **A decline in the LIFO reserve from the prior period may be indicative of LIFO liquidation.**\n",
    "### Inventory Method Changes\n",
    "Under IFRS, if the change is justifiable, then it is applied retrospectively. Under US GAAP, if a company decides to change to the LIFO method, it must do so on a prospective basis and retrospective adjustments are not made to the financial statements. The carrying amount of inventory under the old method becomes the initial LIFO layer in the year of LIFO adoption."
   ]
  },
  {
   "cell_type": "markdown",
   "metadata": {},
   "source": [
    "## Inventory Adjustments\n",
    "#### Under IFRS\n",
    "IFRS state that inventories shall be measured (and carried on the balance sheet) at the lower of cost and net realisable value. In the event that the value of inventory declines below the carrying amount on the balance sheet, the inventory carrying amount must be written down to its net realisable value14 and the loss (reduction in value) recognised as an expense on the income statement. This expense may be included as part of cost of sales or reported separately.\n",
    "\n",
    "In each subsequent period, a new assessment of net realisable value is made. Reversal (limited to the amount of the original write-down) is required for a subsequent increase in value of inventory previously written down. The reversal of any write-down of inventories is recognised as a reduction in cost of sales (reduction in the amount of inventories recognised as an expense).\n",
    "#### Under US GAAP\n",
    "Inventories measured using other than LIFO and retail inventory methods are measured at the lower of cost or net realisable value. This is broadly consistent with IFRS with one major difference: **US GAAP prohibit the reversal of write-downs.**\n",
    "\n",
    "For inventories measured using LIFO (and retail inventory methods), market value is defined as current replacement cost subject to upper and lower limits. Market value cannot exceed net realisable value (selling price less reasonably estimated costs of completion and disposal). The lower limit of market value is net realisable value less a normal profit margin. Any write-down to market value or net realisable value reduces the value of the inventory, and the loss in value (expense) is generally reflected in the income statement in cost of goods sold.\n",
    "\n",
    "IAS 2 [Inventories] does not apply to the inventories of producers of agricultural and forest products and minerals and mineral products, nor to commodity broker–traders. These inventories may be measured at net realisable value (fair value less costs to sell and complete). Changes in the value of inventory (increase or decrease) are recognised in profit or loss in the period of the change. US GAAP is similar to IFRS.\n",
    "\n",
    "Mark-to-market inventory accounting is allowed for bullion.\n",
    "#### Impact on Some Financial Ratios\n",
    "An inventory write-down reduces both profit and the carrying amount of inventory on the balance sheet and thus has a negative effect on profitability, liquidity, and solvency ratios. However, activity ratios (for example, inventory turnover and total asset turnover) will be positively affected by a write-down because the asset base (denominator) is reduced. The negative impact on some key ratios, due to the decrease in profit, may result in the reluctance by some companies to record inventory write-downs unless there is strong evidence that the decline in the value of inventory is permanent. This is especially true under US GAAP where reversal of a write-down is prohibited.\n",
    "\n",
    "Net Realisable Value: Estimated selling price in the ordinary course of business less the estimated costs necessary to make the sale.\n",
    "### Evaluation of Inventory Management: Disclosures & Ratios\n",
    "#### Presentation and Disclosure\n",
    "Disclosures are useful when analyzing a company. IFRS require the following financial statement disclosures concerning inventory:\n",
    "- the accounting policies adopted in measuring inventories, including the cost formula (inventory valuation method) used;\n",
    "- the total carrying amount of inventories and the carrying amount in classifications (for example, merchandise, raw materials, production supplies, work in progress, and finished goods) appropriate to the entity;\n",
    "- the carrying amount of inventories carried at fair value less costs to sell;\n",
    "- the amount of inventories recognised as an expense during the period (cost of sales);\n",
    "- the amount of any write-down of inventories recognised as an expense in the period;\n",
    "- the amount of any reversal of any write-down that is recognised as a reduction in cost of sales in the period;\n",
    "- the circumstances or events that led to the reversal of a write-down of inventories; and\n",
    "- the carrying amount of inventories pledged as security for liabilities.\n",
    "\n",
    "Inventory-related disclosures under US GAAP are very similar to the disclosures above, except that requirements (f) and (g) are not relevant because US GAAP do not permit the reversal of prior-year inventory write-downs. US GAAP also require disclosure of significant estimates applicable to inventories and of any material amount of income resulting from the liquidation of LIFO inventory.\n",
    "#### Inventory Ratios\n",
    "##### inventory turnover \n",
    "##### days of inventory on hand\n",
    "##### gross profit margin\n",
    "\n",
    "Also:\n",
    "- current ratio\n",
    "- return-on-assets ratio\n",
    "- debt-to-equity ratio"
   ]
  },
  {
   "cell_type": "code",
   "execution_count": null,
   "metadata": {},
   "outputs": [],
   "source": [
    "# Example 8\n"
   ]
  },
  {
   "cell_type": "markdown",
   "metadata": {},
   "source": [
    "## Illustrations of Inventory Analysis\n",
    "IFRS and US GAAP require companies to disclose, either on the balance sheet or in the notes to the financial statements, the carrying amounts of inventories in classifications suitable to the company.\n",
    "\n",
    "Thoroughly investigate the underlying reasons for any significant changes in a company’s raw materials, work-in-progress, and finished goods inventories.\n",
    "\n",
    "Compare the growth rate of a company’s sales to the growth rate of its finished goods inventories, because this could also provide a signal about future sales and profits.\n",
    "### Adjusting LIFO to FIFO\n",
    "\n",
    "### Impacts of Writedowns\n"
   ]
  },
  {
   "cell_type": "code",
   "execution_count": null,
   "metadata": {},
   "outputs": [],
   "source": [
    "# Example 9\n",
    "\n",
    "# Example 10"
   ]
  },
  {
   "cell_type": "markdown",
   "metadata": {},
   "source": [
    "# Long-Lived Assets"
   ]
  },
  {
   "cell_type": "markdown",
   "metadata": {},
   "source": [
    "TBC"
   ]
  },
  {
   "cell_type": "markdown",
   "metadata": {},
   "source": [
    "# Income Taxes"
   ]
  },
  {
   "cell_type": "markdown",
   "metadata": {},
   "source": [
    "# Non-Current (Long-Term) Liabilities"
   ]
  }
 ],
 "metadata": {
  "kernelspec": {
   "display_name": "Python 3",
   "language": "python",
   "name": "python3"
  },
  "language_info": {
   "codemirror_mode": {
    "name": "ipython",
    "version": 3
   },
   "file_extension": ".py",
   "mimetype": "text/x-python",
   "name": "python",
   "nbconvert_exporter": "python",
   "pygments_lexer": "ipython3",
   "version": "3.7.3"
  }
 },
 "nbformat": 4,
 "nbformat_minor": 4
}
