{
 "cells": [
  {
   "cell_type": "code",
   "execution_count": 1,
   "metadata": {},
   "outputs": [],
   "source": [
    "import pandas as pd"
   ]
  },
  {
   "cell_type": "markdown",
   "metadata": {},
   "source": [
    "# Inventories"
   ]
  },
  {
   "cell_type": "markdown",
   "metadata": {},
   "source": [
    "## Cost of Inventories\n",
    "Under IFRS, the costs to include in inventories are “all costs of purchase, costs of conversion, and other costs incurred in bringing the inventories to their present location and condition.”\n",
    "\n",
    "The costs of purchase include:\n",
    "- purchase price\n",
    "- import and tax-related duties\n",
    "- transport\n",
    "- insurance during transport\n",
    "- handling\n",
    "- other costs directly attributable to the acquisition of finished goods, materials, and services\n",
    "\n",
    "The costs of conversion include: \n",
    "- costs directly related to the units produced, such as direct labour\n",
    "- fixed and variable overhead costs. \n",
    "*(Note: Including these product-related costs in inventory (i.e., as an asset) means that they will not be recognised as an expense (i.e., as cost of sales) on the income statement until the inventory is sold.)*\n",
    "\n",
    "Both IFRS and US GAAP exclude the following costs from inventory: abnormal costs incurred as a result of waste of materials, labour or other production conversion inputs, any storage costs (unless required as part of the production process), and all administrative overhead and selling costs. These excluded costs are treated as expenses and recognised on the income statement in the period in which they are incurred. "
   ]
  },
  {
   "cell_type": "markdown",
   "metadata": {},
   "source": [
    "## Inventory Valuation Methods (Cost Formulas/Cost Flow Assumptions)\n",
    "If the choice of method results in more cost being allocated to cost of sales and less cost being allocated to inventory than would be the case with other methods, the chosen method will cause, in the current year, reported gross profit, net income, and inventory carrying amount to be lower than if alternative methods had been used. (Accounting for inventory, and consequently the allocation of costs, thus has a direct impact on financial statements and their comparability.)\n",
    "\n",
    "- specific identification\n",
    "- first-in, first-out (FIFO) \n",
    "- weighted average cost\n",
    "- last-in, first-out (LIFO)\n",
    "(A company must use the same inventory valuation method for all items that have a similar nature and use. For items with a different nature or use, a different inventory valuation method can be used.)\n",
    "\n",
    "When items are sold, the carrying amount of the inventory is recognised as an **expense (cost of sales)** according to the cost formula (cost flow assumption) in use.\n",
    "\n",
    "Specific identification matches the actual historical costs of the specific inventory items to their physical flow; the costs remain in inventory until the actual identifiable inventory is sold. FIFO, weighted average cost, and LIFO are based on cost flow assumptions. Under these methods, companies must make certain assumptions about which goods are sold and which goods remain in ending inventory. As a result, the allocation of costs to the units sold and to the units in ending inventory can be different from the physical movement of the items.\n",
    "### Calculation of Cost of Sales, Gross Profit, and Ending Inventory\n",
    "### Periodic Versus Perpetual Inventory Systems\n",
    "### Comparison of Inventory Valuation Methods\n"
   ]
  },
  {
   "cell_type": "markdown",
   "metadata": {},
   "source": [
    "## The LIFO Method and LIFO Reserve\n",
    "### LIFO Liquidations\n",
    "### Inventory Method Changes\n",
    "## Inventory Adjustments\n",
    "### Evaluation of Inventory Management: Disclosures & Ratios\n",
    "## Illustrations of Inventory Analysis\n",
    "### Adjusting LIFO to FIFO\n",
    "### Illustrations of Inventory Analysis: Impacts of Writedowns"
   ]
  },
  {
   "cell_type": "markdown",
   "metadata": {},
   "source": []
  },
  {
   "cell_type": "markdown",
   "metadata": {},
   "source": [
    "# Long-Lived Assets"
   ]
  },
  {
   "cell_type": "markdown",
   "metadata": {},
   "source": [
    "TBC"
   ]
  },
  {
   "cell_type": "markdown",
   "metadata": {},
   "source": [
    "# Income Taxes"
   ]
  },
  {
   "cell_type": "markdown",
   "metadata": {},
   "source": [
    "# Non-Current (Long-Term) Liabilities"
   ]
  }
 ],
 "metadata": {
  "kernelspec": {
   "display_name": "Python 3",
   "language": "python",
   "name": "python3"
  },
  "language_info": {
   "codemirror_mode": {
    "name": "ipython",
    "version": 3
   },
   "file_extension": ".py",
   "mimetype": "text/x-python",
   "name": "python",
   "nbconvert_exporter": "python",
   "pygments_lexer": "ipython3",
   "version": "3.7.3"
  }
 },
 "nbformat": 4,
 "nbformat_minor": 4
}
