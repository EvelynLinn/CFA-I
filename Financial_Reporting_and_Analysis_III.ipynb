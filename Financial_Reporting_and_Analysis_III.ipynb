{
 "cells": [
  {
   "cell_type": "code",
   "execution_count": 1,
   "metadata": {},
   "outputs": [],
   "source": [
    "import pandas as pd"
   ]
  },
  {
   "cell_type": "markdown",
   "metadata": {},
   "source": [
    "# Inventories"
   ]
  },
  {
   "cell_type": "markdown",
   "metadata": {},
   "source": [
    "## Cost of Inventories\n",
    "Under IFRS, the costs to include in inventories are “all costs of purchase, costs of conversion, and other costs incurred in bringing the inventories to their present location and condition.”\n",
    "\n",
    "The costs of purchase include:\n",
    "- purchase price\n",
    "- import and tax-related duties\n",
    "- transport\n",
    "- insurance during transport\n",
    "- handling\n",
    "- other costs directly attributable to the acquisition of finished goods, materials, and services\n",
    "\n",
    "The costs of conversion include: \n",
    "- costs directly related to the units produced, such as direct labour\n",
    "- fixed and variable overhead costs. <br>\n",
    "\n",
    "### Differentiate Inventory on the Balance Sheet & Cost of Sales on the Income Statement\n",
    "1. **Costs in inventory** (i.e., as an asset, total inventory costs, i.e., cost of goods available for sale) means that they will not be recognised as an expense (i.e., as **cost of sales**) on the income statement until the inventory is sold.\n",
    "  - When items are sold, the carrying amount of the inventory is recognised as an **expense (cost of sales)** according to the cost formula (cost flow assumption) in use.\n",
    "2. Both IFRS and US GAAP exclude the following costs from inventory. These excluded costs are treated as **expenses and recognised on the income statement** in the period in which they are incurred. \n",
    "  - abnormal costs incurred as a result of waste of materials\n",
    "  - labour or other production conversion inputs (Q: how to differentiate this from the cost of conversion that should be included in inventory as an asset until the goods are sold?)\n",
    "  - any storage costs (unless required as part of the production process)and (for example, ?)\n",
    "  - all administrative overhead and selling costs<br>\n",
    "\n",
    "*If the choice of method results in more cost being allocated to cost of sales and less cost being allocated to inventory (than would be the case with other methods), the chosen method will cause the following items in the current year to be lower than if alternative methods had been used:* \n",
    "- reported gross profit\n",
    "- net income\n",
    "- inventory carrying amount (affecting total assets and current assets?)"
   ]
  },
  {
   "cell_type": "markdown",
   "metadata": {},
   "source": [
    "## Inventory Valuation Methods (Cost Formulas/Cost Flow Assumptions)\n",
    "Given relatively constant prices, the allocation of costs between cost of goods sold and ending inventory would be very similar under each of the four methods. \n",
    "#### Specific Identification\n",
    "- For inventory items that are:\n",
    "  - not ordinarily interchangeable and \n",
    "  - for goods that have been produced and segregated for specific projects\n",
    "  - commonly used for expensive goods that are uniquely identifiable, such as precious gemstones\n",
    "- Matches the actual historical costs of the specific inventory items to their physical flow.\n",
    "#### FIFO\n",
    "- Assumption: oldest goods purchased/manufactured are sold first. \n",
    "- How it works: \n",
    "  - cost of sales reflects the cost of goods in beginning inventory plus the cost of items purchased (or manufactured) earliest in the accounting period,\n",
    "  - and the value of ending inventory reflects the costs of goods purchased (or manufactured) more recently.\n",
    "  - In periods of rising prices, the costs assigned to the units in ending inventory are higher than the costs assigned to the units sold. \n",
    "#### Weighted Average Cost\n",
    "- the weighted average cost per unit = Total cost of goods available for sale/Total units available for sale\n",
    "- How it works: assigns the average cost of the goods available for sale (beginning inventory plus purchase, conversion, and other costs) during the accounting period to the units that are sold as well as to the units in ending inventory.\n",
    "### LIFO\n",
    "- Assumption: the newest goods purchased (or manufactured) are sold first\n",
    "- How it works: cost of sales reflects the cost of goods purchased (or manufactured) more recently, and the value of ending inventory reflects the cost of older goods. In periods of rising prices, the costs assigned to the units in ending inventory are lower than the costs assigned to the units sold. \n",
    "\n",
    "*(Note: A company must use the same inventory valuation method for all items that have a similar nature and use. For items with a different nature or use, a different inventory valuation method can be used.)*\n",
    "\n",
    "### Calculation of Cost of Sales, Gross Profit, and Ending Inventory\n",
    "In periods of changing prices, the allocation of total inventory costs (i.e., cost of goods available for sale) between cost of sales on the income statement and inventory on the balance sheet will vary depending on the inventory valuation method used by the company.\n",
    "### Periodic Versus Perpetual Inventory Systems\n",
    "Under either system, the allocation of goods available for sale to cost of sales and ending inventory is the same if the inventory valuation method used is either specific identification or FIFO.<br>\n",
    "Under a periodic inventory system, the amount of cost of goods available for sale allocated to cost of sales and ending inventory may be quite different using the FIFO method compared to the weighted average cost method. Under a perpetual inventory system, inventory values and cost of sales are continuously updated to reflect purchases and sales. As a result, the amount of cost of goods available for sale allocated to cost of sales and ending inventory is similar under the FIFO and weighted average cost methods. Because of lack of disclosure and the dominance of perpetual inventory systems, analysts typically do not make adjustments when comparing a company using the weighted average cost method with a company using the FIFO method.<br>\n",
    "When inventory costs are increasing and inventory unit levels are stable or increasing, using the LIFO method will result in higher cost of sales and lower inventory carrying amounts than using the FIFO method. The higher cost of sales under LIFO will result in lower gross profit, operating income, income before taxes, and net income. Income tax expense will be lower under LIFO, causing the company’s net operating cash flow to be higher. On the balance sheet, the lower inventory carrying amount will result in lower reported current assets, working capital, and total assets. Analysts must carefully assess the financial statement implications of the choice of inventory valuation method when comparing companies that use the LIFO method with companies that use the FIFO method.\n",
    "#### Periodic System\n",
    "Inventory values and costs of sales are determined at the end of an accounting period. <br>\n",
    "Purchases are recorded in a purchases account. The total of purchases and beginning inventory is the amount of goods available for sale during the period. The ending inventory amount is subtracted from the goods available for sale to arrive at the cost of sales. The quantity of goods in ending inventory is usually obtained or verified through a physical count of the units in inventory. \n",
    "#### Perpetual System\n",
    "Under a perpetual inventory system, inventory values and cost of sales are continuously updated to reflect purchases and sales.\n",
    "### Comparison of Inventory Valuation Methods\n",
    "In an environment of declining inventory unit costs and constant or increasing inventory quantities, FIFO (in comparison with weighted average cost or LIFO) will allocate a higher amount of the total cost of goods available for sale to cost of sales on the income statement and a lower amount to ending inventory on the balance sheet. Accordingly, because cost of sales will be higher under FIFO, a company’s gross profit, operating profit, and income before taxes will be lower.\n",
    "\n",
    "The carrying amount of inventories under FIFO will more closely reflect current replacement values.  \n",
    "\n",
    "\n",
    "Inventory turnover ratio = Cost of sales ÷ Ending inventory"
   ]
  },
  {
   "cell_type": "markdown",
   "metadata": {},
   "source": [
    "## The LIFO Method and LIFO Reserve\n",
    "The potential income tax savings are a benefit of using the LIFO method when inventory costs are increasing:\n",
    "- Income Statement:\n",
    "  - higher cost of sales (cost of sales will more closely reflect current replacement costs)\n",
    "  - lower gross profit, operating profit, income tax expense, and net income). \n",
    "- Balance sheet:\n",
    "  - lower ending inventory, working capital, total assets, retained earnings, and shareholders’ equity.\n",
    "\n",
    "The lower income tax paid will result in higher net cash flow from operating activities. Some of the financial ratio effects are a lower current ratio, higher debt-to-equity ratios, and lower profitability ratios.\n",
    "### LIFO Reserve\n",
    "It is the FIFO inventory value less the LIFO inventory value.<br>\n",
    "#### Inventory Carrying Amount\n",
    "To compare companies using LIFO with companies not using LIFO, inventory is adjusted by adding the disclosed LIFO reserve to the inventory balance that is reported on the balance sheet. \n",
    "#### Cost of Sales\n",
    "Cost of sales is adjusted by subtracting the increase in the LIFO reserve during the period from the cost of sales amount that is reported on the income statement. If the LIFO reserve has declined during the period, the decrease in the reserve is added to the cost of sales amount that is reported on the income statement. \n",
    "### LIFO Liquidations\n",
    "When the number of units sold exceeds the number of units purchased or manufactured, the number of units in ending inventory is lower than the number of units in beginning inventory and a company using LIFO will experience a LIFO liquidation (some of the older units held in inventory are assumed to have been sold). \n",
    "\n",
    "If inventory unit costs have been rising from period to period and LIFO liquidation occurs, this will produce an inventory-related increase in gross profits. The increase in gross profits occurs because of the lower inventory carrying amounts of the liquidated units. The lower inventory carrying amounts are used for cost of sales and the sales are at the current prices. The gross profit on these units is higher than the gross profit that would be recognised using more current costs. These inventory profits caused by a LIFO liquidation, however, are one-time events and are not sustainable.\n",
    "\n",
    "Analysts should be aware that management can potentially manipulate and inflate their company’s reported gross profits and net income at critical times by intentionally reducing inventory quantities and liquidating older layers of LIFO inventory (selling some units of beginning inventory). During economic downturns, LIFO liquidation may result in higher gross profit than would otherwise be realised. If LIFO layers of inventory are temporarily depleted and not replaced by fiscal year-end, LIFO liquidation will occur resulting in unsustainable higher gross profits. Therefore, it is imperative to review the LIFO reserve footnote disclosures to determine if LIFO liquidation has occurred. **A decline in the LIFO reserve from the prior period may be indicative of LIFO liquidation.**\n",
    "### Inventory Method Changes\n",
    "Under IFRS, if the change is justifiable, then it is applied retrospectively. Under US GAAP, if a company decides to change to the LIFO method, it must do so on a prospective basis and retrospective adjustments are not made to the financial statements. The carrying amount of inventory under the old method becomes the initial LIFO layer in the year of LIFO adoption."
   ]
  },
  {
   "cell_type": "markdown",
   "metadata": {},
   "source": [
    "## Inventory Adjustments\n",
    "#### Under IFRS\n",
    "IFRS state that inventories shall be measured (and carried on the balance sheet) at the lower of cost and net realisable value. In the event that the value of inventory declines below the carrying amount on the balance sheet, the inventory carrying amount must be written down to its net realisable value14 and the loss (reduction in value) recognised as an expense on the income statement. This expense may be included as part of cost of sales or reported separately.\n",
    "\n",
    "In each subsequent period, a new assessment of net realisable value is made. Reversal (limited to the amount of the original write-down) is required for a subsequent increase in value of inventory previously written down. The reversal of any write-down of inventories is recognised as a reduction in cost of sales (reduction in the amount of inventories recognised as an expense).\n",
    "#### Under US GAAP\n",
    "Inventories measured using other than LIFO and retail inventory methods are measured at the lower of cost or net realisable value. This is broadly consistent with IFRS with one major difference: **US GAAP prohibit the reversal of write-downs.**\n",
    "\n",
    "For inventories measured using LIFO (and retail inventory methods), market value is defined as current replacement cost subject to upper and lower limits. Market value cannot exceed net realisable value (selling price less reasonably estimated costs of completion and disposal). The lower limit of market value is net realisable value less a normal profit margin. Any write-down to market value or net realisable value reduces the value of the inventory, and the loss in value (expense) is generally reflected in the income statement in cost of goods sold.\n",
    "\n",
    "IAS 2 [Inventories] does not apply to the inventories of producers of agricultural and forest products and minerals and mineral products, nor to commodity broker–traders. These inventories may be measured at net realisable value (fair value less costs to sell and complete). Changes in the value of inventory (increase or decrease) are recognised in profit or loss in the period of the change. US GAAP is similar to IFRS.\n",
    "\n",
    "Mark-to-market inventory accounting is allowed for bullion.\n",
    "#### Impact on Some Financial Ratios\n",
    "An inventory write-down reduces both profit and the carrying amount of inventory on the balance sheet and thus has a negative effect on profitability, liquidity, and solvency ratios. However, activity ratios (for example, inventory turnover and total asset turnover) will be positively affected by a write-down because the asset base (denominator) is reduced. The negative impact on some key ratios, due to the decrease in profit, may result in the reluctance by some companies to record inventory write-downs unless there is strong evidence that the decline in the value of inventory is permanent. This is especially true under US GAAP where reversal of a write-down is prohibited.\n",
    "\n",
    "Net Realisable Value: Estimated selling price in the ordinary course of business less the estimated costs necessary to make the sale.\n",
    "### Evaluation of Inventory Management: Disclosures & Ratios\n",
    "#### Presentation and Disclosure\n",
    "Disclosures are useful when analyzing a company. IFRS require the following financial statement disclosures concerning inventory:\n",
    "- the accounting policies adopted in measuring inventories, including the cost formula (inventory valuation method) used;\n",
    "- the total carrying amount of inventories and the carrying amount in classifications (for example, merchandise, raw materials, production supplies, work in progress, and finished goods) appropriate to the entity;\n",
    "- the carrying amount of inventories carried at fair value less costs to sell;\n",
    "- the amount of inventories recognised as an expense during the period (cost of sales);\n",
    "- the amount of any write-down of inventories recognised as an expense in the period;\n",
    "- the amount of any reversal of any write-down that is recognised as a reduction in cost of sales in the period;\n",
    "- the circumstances or events that led to the reversal of a write-down of inventories; and\n",
    "- the carrying amount of inventories pledged as security for liabilities.\n",
    "\n",
    "Inventory-related disclosures under US GAAP are very similar to the disclosures above, except that requirements (f) and (g) are not relevant because US GAAP do not permit the reversal of prior-year inventory write-downs. US GAAP also require disclosure of significant estimates applicable to inventories and of any material amount of income resulting from the liquidation of LIFO inventory.\n",
    "#### Inventory Ratios\n",
    "##### inventory turnover \n",
    "##### days of inventory on hand\n",
    "##### gross profit margin\n",
    "\n",
    "Also:\n",
    "- current ratio\n",
    "- return-on-assets ratio\n",
    "- debt-to-equity ratio"
   ]
  },
  {
   "cell_type": "code",
   "execution_count": null,
   "metadata": {},
   "outputs": [],
   "source": [
    "# Example 8\n"
   ]
  },
  {
   "cell_type": "markdown",
   "metadata": {},
   "source": [
    "## Illustrations of Inventory Analysis\n",
    "IFRS and US GAAP require companies to disclose, either on the balance sheet or in the notes to the financial statements, the carrying amounts of inventories in classifications suitable to the company.\n",
    "\n",
    "Thoroughly investigate the underlying reasons for any significant changes in a company’s raw materials, work-in-progress, and finished goods inventories.\n",
    "\n",
    "Compare the growth rate of a company’s sales to the growth rate of its finished goods inventories, because this could also provide a signal about future sales and profits.\n",
    "### Adjusting LIFO to FIFO\n",
    "\n",
    "### Impacts of Writedowns\n"
   ]
  },
  {
   "cell_type": "code",
   "execution_count": null,
   "metadata": {},
   "outputs": [],
   "source": [
    "# Example 9\n",
    "\n",
    "# Example 10"
   ]
  },
  {
   "cell_type": "markdown",
   "metadata": {},
   "source": [
    "# Long-Lived Assets"
   ]
  },
  {
   "cell_type": "markdown",
   "metadata": {},
   "source": [
    "Also referred to as non-current assets or long-term assets, they are assets that are expected to provide economic benefits over a future period of time, typically greater than one year. (may be tangible, intangible, or financial assets). \n",
    "\n",
    "The costs of most long-lived assets are capitalised and then allocated as expenses in the profit or loss (income) statement over the period of time during which they are expected to provide economic benefits. The two main types of long-lived assets with costs that are typically not allocated over time are *land*, which is not depreciated, and those *intangible assets with indefinite useful lives*. \n",
    "\n",
    "**Key question is whether and when such expenditures are capitalised (i.e., included in the asset shown on the balance sheet) versus expensed (i.e., treated as an expense of the period on the income statement).**"
   ]
  },
  {
   "cell_type": "markdown",
   "metadata": {},
   "source": [
    "## Acquisition of Assets\n",
    "### Property, Plant and Equipment\n",
    "Tangible assets with an economic life of longer than one year and intended to be held for the company’s own use.\n",
    "#### Purchase\n",
    "***Expensed***<br>\n",
    "This will reduce the amount of income reported on the company’s income statement (and thus reduce retained earnings on the balance sheet) and the operating cash flow.\n",
    "- expenses that are not (absolutely) neccessary to get the asset ready for its intended use\n",
    "***Capitalised***<br>\n",
    "This will increase the carrying amount of the asset as shown on the balance sheet and will be included as investing cash outflows. \n",
    "*Upon acquisition*, property, plant, and equipment are recorded on the balance sheet at cost, which is typically the same as their fair value upon acquisition. \n",
    "- purchase price\n",
    "- all the expenditures necessary to get the asset ready for its intended use\n",
    "*Subsequent expenditures* related to long-lived assets are included as part of the recorded value of the assets on the balance sheet (i.e., capitalised) if they are expected to provide benefits beyond one year in the future and are expensed if they are not expected to provide benefits in future periods. **Expenditures that extend the original life of the asset are typically capitalised**.\n",
    "\n",
    "#### Exchange\n",
    "When an asset is exchanged for another asset, the asset acquired is recorded at fair value if reliable measures of fair value exist. If there is no reliable measure of fair value, the acquired asset is measured at the carrying amount of the asset given up. Typically, accounting for the exchange involves removing the carrying amount of the asset given up, adding a fair value for the asset acquired, and reporting any difference between the carrying amount and the fair value as a gain or loss.\n",
    "#### Construct: Borrowing Costs\n",
    "When a company constructs an asset (or acquires an asset that requires a long period of time to get ready for its intended use). <br>\n",
    "**Borrowing costs incurred directly related to the construction are generally capitalised.** To finance construction, any borrowing costs incurred prior to the asset being ready for its intended use are capitalised as part of the cost of the asset. <br>\n",
    "If a company takes out a loan specifically to construct a building, the **interest cost** on that loan during the time of construction would be capitalised as part of the building’s cost. <br>\n",
    "\n",
    "Under IFRS only: **income earned on temporarily investing the borrowed monies** decreases the amount of borrowing costs eligible for capitalisation.\n",
    "\n",
    "*Constructing an asset for the company’s own use:*<br>\n",
    "the capitalised interest (expenditure) appears on the balance sheet as a part of the relevant long-lived asset. The capitalised interest is expensed over time as the property is depreciated and is thus part of subsequent years’ depreciation expense rather than interest expense of the current period. <br>\n",
    "*Constructing an asset to sell:*<br> \n",
    "The capitalised interest appears on the company’s balance sheet as part of inventory. The capitalised interest is expensed as part of the cost of goods sold when the asset is sold. Interest payments made prior to completion of construction that are capitalised are classified as an investing cash outflow. <br>\n",
    "\n",
    "Under IFRS: Expensed interest may be classified as an operating or financing cash outflow<br>\n",
    "Under US GAAP: Expensed interest classified as an operating cash outflow"
   ]
  },
  {
   "cell_type": "markdown",
   "metadata": {},
   "source": [
    "**Example:**<br> BILDA S.A., a hypothetical company, borrows €1,000,000 at an interest rate of 10 percent per year on 1 January 2010 to finance the construction of a factory that will have a useful life of 40 years. Construction is completed after two years, during which time the company earns €20,000 by temporarily investing the loan proceeds.\n",
    "\n",
    "What is the amount of interest that will be capitalised under IFRS, and how would that amount differ from the amount that would be capitalised under US GAAP?"
   ]
  },
  {
   "cell_type": "code",
   "execution_count": 6,
   "metadata": {},
   "outputs": [
    {
     "name": "stdout",
     "output_type": "stream",
     "text": [
      "200000.0 180000.0\n"
     ]
    }
   ],
   "source": [
    "# Interest paid during construction = capitalised interest expenditure under US GAAP\n",
    "# Default assumption is that it is simple interest unless told otherwise (compound)\n",
    "r_cons = 1000000 * 0.1 * 2 \n",
    "# Capitalised interest cost under IFRS\n",
    "cap_ifrs = r_cons - 20000\n",
    "print(r_cons, cap_ifrs)"
   ]
  },
  {
   "cell_type": "markdown",
   "metadata": {},
   "source": [
    " In the years prior to completion of construction, the interest paid will appear on the statement of cash flows as an investment activity. Over time, as the property is depreciated, the capitalised interest component is part of subsequent years’ depreciation expense on the company’s income statement."
   ]
  },
  {
   "cell_type": "markdown",
   "metadata": {},
   "source": [
    "### Acquisition of Intangible Assets\n",
    "Accounting depends on how the asset is acquired. If several assets are acquired as part of a group, the purchase price is allocated to each asset on the basis of its fair value. An asset’s cost potentially includes expenditures additional to the purchase price.\n",
    "#### Purchased (in Situations Other Than a Business Combination)\n",
    "Treated at acquisition the same as long-lived tangible assets; they are recorded at their fair value when acquired, which is assumed to be equivalent to the purchase price. \n",
    "#### Internally Developed\n",
    "\n",
    "#### Acquired in a Business Combination"
   ]
  },
  {
   "cell_type": "markdown",
   "metadata": {},
   "source": [
    "### Capitalization versus Expensing: Impact on Financial Statements and Ratios\n",
    "#### Capitalisation of Interest Costs\n",
    "\n",
    "#### Capitalisation of Interest and Internal Development Costs\n"
   ]
  },
  {
   "cell_type": "markdown",
   "metadata": {},
   "source": [
    "#### Intangible Assets Purchased in Situations Other Than Business Combinations\n",
    "Treated at acquisition the same as long-lived tangible assets; they are recorded at their fair value when acquired, which is assumed to be equivalent to the purchase price. \n",
    "\n",
    "Understanding the types of assets a company acquires can offer insights into the company’s strategic direction and future operating potential.\n",
    "#### Intangible Assets Developed Internally\n",
    "In contrast with the treatment of construction costs of tangible assets, the costs to internally develop intangible assets are generally expensed when incurred. \n",
    "\n",
    "On the statement of cash flows, costs of internally developing intangible assets are classified as operating cash outflows whereas costs of acquiring intangible assets are classified as investing cash outflows. Differences in strategy (developing versus acquiring intangible assets) can thus impact financial ratios.\n",
    "##### IFRS\n",
    "IFRS require that expenditures on research (or during the research phase of an internal project) be expensed rather than capitalised as an intangible asset.<br>\n",
    "The “research phase of an internal project” refers to the period during which a company cannot demonstrate that an intangible asset is being created. IFRS allow companies to recognise an intangible asset arising from development expenditures (or the development phase of an internal project) if certain criteria are met, including a demonstration of the technical feasibility of completing the intangible asset and the intent to use or sell the asset. Development is defined as “the application of research findings or other knowledge to a plan or design for the production of new or substantially improved materials, devices, products, processes, systems or services before the start of commercial production or use.”\n",
    "##### US GAAP\n",
    "Both research and development costs be expensed as incurred but require capitalisation of certain costs related to software development. Costs incurred to develop a software product for sale are expensed until the product’s technological feasibility is established and are capitalised thereafter. Similarly, companies expense costs related to the development of software for internal use until it is probable that the project will be completed and that the software will be used as intended. Thereafter, development costs are capitalised. <br>\n",
    "EXAMPLE 3\n",
    "#### Intangible Assets Acquired in a Business Combination\n",
    "Under the acquisition method, the company identified as the acquirer allocates the purchase price to each asset acquired (and each liability assumed) on the basis of its fair value. If the purchase price exceeds the sum of the amounts that can be allocated to individual identifiable assets and liabilities, the excess is recorded as goodwill. Goodwill cannot be identified separately from the business as a whole.<br>\n",
    "Under IFRS, the acquired individual assets include identifiable intangible assets that meet the definitional and recognition criteria.10 Otherwise, if the item is acquired in a business combination and cannot be recognised as a tangible or identifiable intangible asset, it is recognised as goodwill. Under US GAAP, there are two criteria to judge whether an intangible asset acquired in a business combination should be recognised separately from goodwill: The asset must be either an item arising from contractual or legal rights or an item that can be separated from the acquired company. Examples of intangible assets treated separately from goodwill include the intangible assets previously mentioned that involve exclusive rights (patents, copyrights, franchises, licenses), as well as such items as internet domain names and video and audiovisual materials. <br>\n",
    "*(Note: Goodwill is no longer considered an intangible asset under IFRS and is considered to have an indefinite useful life.)*"
   ]
  },
  {
   "cell_type": "markdown",
   "metadata": {},
   "source": [
    "Q. Intangible assets with finite useful lives mostly differ from intangible assets with infinite useful lives with respect to accounting treatment of:\n",
    "\n",
    "revaluation.\n",
    "impairment.\n",
    "amortization.\n",
    "\n",
    "Solution\n",
    "C is correct. An intangible asset with a finite useful life is amortized, whereas an intangible asset with an indefinite useful life is not."
   ]
  },
  {
   "cell_type": "markdown",
   "metadata": {},
   "source": [
    "### Capitalization versus Expensing: Impact on Financial Statements and Ratios\n",
    "the effect on an individual company’s trend analysis and on comparability across companies.\n",
    "\n",
    "In the period of the expenditure, an expenditure that is capitalised increases the amount of assets on the balance sheet and appears as an investing cash outflow on the statement of cash flows. After initial recognition, a company allocates the capitalised amount over the asset’s useful life as depreciation or amortisation expense (except assets that are not depreciated, i.e., land, or amortised, e.g., intangible assets with indefinite lives). This expense reduces net income on the income statement and reduces the value of the asset on the balance sheet. Depreciation and amortisation are non-cash expenses and therefore, apart from their effect on taxable income and taxes payable, have no impact on the cash flow statement. In the section of the statement of cash flows that reconciles net income to operating cash flow, depreciation and amortisation expenses are added back to net income.\n",
    "\n",
    "Alternatively, an expenditure that is expensed reduces net income by the after-tax amount of the expenditure in the period it is made. No asset is recorded on the balance sheet and thus no depreciation or amortisation occurs in subsequent periods. The lower amount of net income is reflected in lower retained earnings on the balance sheet. An expenditure that is expensed appears as an operating cash outflow in the period it is made. There is no effect on the financial statements of subsequent periods."
   ]
  },
  {
   "cell_type": "code",
   "execution_count": null,
   "metadata": {},
   "outputs": [],
   "source": [
    "# EXAMPLE 4"
   ]
  },
  {
   "cell_type": "markdown",
   "metadata": {},
   "source": [
    "Because the sum of net income over the three-year period is identical whether the asset is capitalised or expensed, it illustrates that although capitalising results in higher profitability compared to expensing in the first year, it results in lower profitability in the subsequent years. Conversely, expensing results in lower profitability in the first year but higher profitability in later years, indicating a favorable trend.\n",
    "\n",
    "Similarly, shareholders’ equity for a company that capitalises the expenditure will be higher in the early years because the initially higher profits result in initially higher retained earnings. Example 4 assumes the companies purchase a single asset in one year and report identical amounts of total net income over the three-year period, so shareholders’ equity (and retained earnings) for the firm that expenses will be identical to shareholders’ equity (and retained earnings) for the capitalising firm at the end of the three-year period.\n",
    "\n",
    "In general, all else equal, accounting decisions that result in recognising expenses sooner will give the appearance of greater subsequent growth. \n",
    "\n",
    "**The profitability-enhancing effect of capitalising continues if the amount of the expenditures in a period continues to be more than the depreciation expense.**\n",
    "\n",
    "Compared to expensing an expenditure, capitalising the expenditure typically results in greater amounts reported as **cash from operations**. Capitalised expenditures are typically treated as an investment cash outflow whereas expenses reduce operating cash flows."
   ]
  },
  {
   "cell_type": "markdown",
   "metadata": {},
   "source": [
    "Q. All else equal, in the fiscal year when long-lived equipment is purchased:\n",
    "\n",
    "depreciation expense increases.\n",
    "cash from operations decreases.\n",
    "net income is reduced by the amount of the purchase.\n",
    "\n",
    "Solution\n",
    "A is correct. In the fiscal year when long-lived equipment is purchased, the assets on the balance sheet increase and depreciation expense on the income statement increases because of the new long-lived asset."
   ]
  },
  {
   "cell_type": "markdown",
   "metadata": {},
   "source": [
    "Ending shareholders’ equity = Beginning shareholders’ equity + Net income + Other comprehensive income – Dividends + Net capital contributions from shareholders."
   ]
  },
  {
   "cell_type": "markdown",
   "metadata": {},
   "source": [
    "### Capitalisation of Interest Costs\n"
   ]
  },
  {
   "cell_type": "markdown",
   "metadata": {},
   "source": [
    "### Capitalisation of Interest and Internal Development Costs\n"
   ]
  },
  {
   "cell_type": "markdown",
   "metadata": {},
   "source": [
    "## Depreciation and Amortisation of Long-Lived Assets\n",
    "### Depreciation (the Cost Model)\n",
    "Under the cost model, capitalized costs of long-lived tangible assets and intangible assets with finite useful lives are allocated to future reporting periods via depreciation (for tangible assets) or amortization (for intangible assets).\n",
    "\n",
    "$$Value\\ of\\ Long-Lived\\ Assets = Historical\\ Cost - Accumulated\\ Depreciation\\ since\\ Purchase$$\n",
    "\n",
    "IFRS further allows the use of the revaluation model, under which assets are reported at fair value. The revaluation model is not permitted under US GAAP.\n",
    "#### Straight-Line Method\n",
    "The same amount is depreciated each period of the asset’s useful life. The total depreciable amount is the cost less residual value.\n",
    "#### Accelerated Method\n",
    "Allocates more depreciation to earlier periods and less to later periods. **Residual value is not deducted** when calculating annual depreciation costs for accelerated schedules. E.g., a double-declining balance (The depreciation rate is twice the straight-line rate.)<br>\n",
    "The residual value is the floor of the carrying amount. Therefore, the depreciation expense at last year of depreciation must be the value that reduces the carrying value to its residual value. \n",
    "#### Units-of-Production Method\n",
    "The amount of depreciation in each period is proportional to the production during the period.\n",
    "\n",
    "Many countries require the same depreciation method to be used for both financial and tax reporting. In countries such as the United States where this is not required, companies tend to use accelerated methods for tax reporting, which reduces taxes in the early years of an asset's useful life. If the company uses straight-line deprecation for financial reporting purposes, there will be a difference between taxable income and reported pre-tax income.\n",
    "\n",
    "The component method calls for companies to separately depreciate significant components of an asset. The component method is required by IFRS and permitted by US GAAP, although few companies opt for it when given the choice."
   ]
  },
  {
   "cell_type": "markdown",
   "metadata": {},
   "source": [
    "### Amortisation\n",
    "Amortization applies to intangible assets, but it works like depreciation. It is only used for intangible assets with finite useful lives, such as customer lists or patents. As with physical assets, intangible assets may have a residual value that will affect amortization costs."
   ]
  },
  {
   "cell_type": "markdown",
   "metadata": {},
   "source": [
    "Assets which are amortized must have the following attributes:\n",
    "- Long-term\n",
    "- Intangible (unlike a tangible asset such as machinery, which would be depreciated)\n",
    "- Finite life (unlike an asset with indefinite lifetime, such as goodwill)"
   ]
  },
  {
   "cell_type": "markdown",
   "metadata": {},
   "source": [
    "#### The Revaluation Model\n",
    "The revaluation model is permitted under IFRS, but not U.S. GAAP.\n",
    "\n",
    "Under the revaluation model, assets are carried at fair value less any depreciation after the valuation date.\n",
    "The model's key feature is that the carrying values of long-lived assets may be adjusted **upward**. By contrast, the cost model only permits downward adjustments due to changes in fair value (write-downs).\n",
    "\n",
    "$$Value\\ of\\ Assets = Fair\\ Value\\ at\\ Date\\ of\\ Revaluation - Accumulated\\ Depreciation\\ since\\ Revaluation\\ Date$$\n",
    "(Carrying amount can end up being greater than historical cost)\n",
    "\n",
    "Impact on the company's financial statements:\n",
    "- If the value of an asset is written down, the amount of the write-down will be recorded as a `loss` on the `income statement`. Any subsequent **reversal**, up the amount of the write-down, is recognized as a `gain` on the `income statement`. Any further increase in value bypasses the income statement and is treated as `other comprehensive income (OCI)`. It appears in the `equity` section of the `balance sheet` as a `revaluation surplus`.\n",
    "- If an asset initially increases in value, the gain is treated as `OCI` and recognized in the `revaluation surplus` account on the `balance sheet`. Subsequent decreases in value reduce the amount of this revaluation surplus. Any decline in value beyond the amount of the original gain is recognized as a `loss` on the `income statement`.\n",
    "\n",
    "**(Under IFRS, an increase in value brought about by a revaluation can only be recognized as a profit to the extent that it reverses a revaluation decrease of the same asset previously recognized in the income statement.) ???\n",
    "Under the revaluation model, the increase in the asset's value will be recorded as other comprehensive income and accumulated as a revaluation surplus in the equity section of the balance sheet.**\n",
    "\n",
    "Potential impact on financial statements and ratios:\n",
    "- By recognizing increases in the fair value of fixed assets, companies will increase the book value of their `equity` and reduce their `financial leverage (Assets/Equity)`.\n",
    "- In isolation, upward revisions above initial cost actually reduce `net income` because the gains are treated as OCI (i.e., they bypass the income statement) and `depreciation expense` increases. Looking at the bigger picture, the increase in fair value is likely due to a more optimistic assessment of how much revenue the asset is expected to generate, which would presumably offset the higher depreciation cost.\n",
    "- A decrease in an asset's carrying amount can reduce current `net income`, but potentially increase net income in future years through reversals.\n",
    "\n",
    "Analysts should be aware of whether revaluations are conducted internally or by independent third parties. It is also important to note how often companies conduct these appraisals."
   ]
  },
  {
   "cell_type": "markdown",
   "metadata": {},
   "source": [
    "## Impairment of Assets\n",
    "In contrast with depreciation and amortisation charges, which serve to allocate the depreciable cost of a long-lived asset over its useful life, impairment charges reflect an unanticipated decline in the value of an asset. \n",
    "\n",
    "Impairment reversals for identifiable, long-lived assets are permitted under IFRS but typically not under US GAAP.\n",
    "\n",
    "An asset is considered to be impaired when its carrying amount exceeds its recoverable amount. In general, impairment losses are recognised when the asset’s carrying amount is not recoverable.\n",
    "\n",
    "#### impairment of PPE\n",
    "The amount of the impairment loss will reduce the carrying amount of the asset on the balance sheet and will reduce net income on the income statement. The impairment loss is a non-cash item and will not affect cash from operations.\n",
    "\n",
    "IFRS and US GAAP differ on how to determine if an impairment has occurred and how to measure the impairment loss.\n",
    "\n",
    "IFRS:<br>\n",
    "$$Impairment\\ loss=Carrying\\ amount−Recoverable\\ amount$$\n",
    "$Recoverable\\ amount=Max(Value\\ in\\ use,\\ or\\ Fair\\ value − Selling\\ costs)$\n",
    "Value in use is a discounted measure of expected future cash flows.\n",
    "\n",
    "US GAAP:<br>\n",
    "An asset's carrying amount is considered not recoverable if it exceeds the total value of undiscounted expected future cash flows. (There is no impairment if the `total value of undiscounted expected future cash flows` is greater than the carrying amount.)\n",
    "\n",
    "If it is determined that an asset's carrying value is unrecoverable, then an impairment loss is calculated as follows:\n",
    "$$Impairment\\ loss=Carrying\\ amount−Fair\\ value$$\n",
    "#### Impairment of Intangible Assets with a Finite Life\n",
    "Intangible assets with finite lives are treated in the same manner as tangible long-lived assets. An assessment for signs of impairment is performed at the end of each reporting period and testing is done if evidence of impairment is discovered.\n",
    "#### Impairment of Intangibles with Indefinite Lives\n",
    "Intangible assets with indefinite lives are tested at least annually for impairment.\n",
    "\n",
    "The carrying amount of the asset on the `balance sheet` is reduced by the amount of the impairment loss, and the impairment loss is reported on the `income statement`.\n",
    "#### Impairment of Long-Lived Assets Held for Sale\n",
    "When management intends to sell a long-lived asset, it gets reclassified as held for sale and is no longer used. At the time of reclassification, the asset is tested for impairment and it is no longer depreciated or amortized. If the asset is deemed to be impaired, its carrying value is written down to $fair\\ value-selling\\ cost$, and a loss is recognized on the `income statement`.\n",
    "#### Reversals of Impairments of Long-Lived Assets\n",
    "Under US GAAP, reversals of impairment losses are permitted for assets that have been reclassified as held for sale, but not for assets that are currently in use.\n",
    "\n",
    "Reversals of impairment losses are permitted under IFRS, regardless of whether the asset is in use or held for sale. However, the magnitude of any potential reversal is limited to the amount of the previously recognized impairment. In other words, the asset cannot be carried above its pre-impairment value."
   ]
  },
  {
   "cell_type": "markdown",
   "metadata": {},
   "source": [
    "## Derecognition\n",
    "A company derecognises an asset (i.e., removes it from the financial statements) when the asset is disposed of or is expected to provide no future benefits from either use or disposal. (by selling it, exchanging it, abandoning it, or distributing it to existing shareholders).\n",
    "\n",
    "Non-current assets that management intends to sell or to distribute to existing shareholders and which meet the accounting criteria (immediately available for sale in current condition and the sale is highly probable) are reclassified as non-current assets held for sale.\n",
    "### Sale of Long-Lived Assets\n",
    "The gain or loss on the sale of long-lived assets = sales proceeds = the carrying amount of the asset at the time of sale\n",
    "\n",
    "*(Note: An asset’s carrying amount is typically the net book value (i.e., the historical cost minus accumulated depreciation), unless the asset’s carrying amount has been changed to reflect impairment and/or revaluation.)*\n",
    "\n",
    "A gain or loss on the sale of an asset is disclosed on the income statement, either as a component of `other gains and losses` or in a `separate line item` when the amount is material. \n",
    "\n",
    "In addition, a statement of cash flows prepared using the indirect method adjusts net income to remove any gain or loss on the sale from operating cash flow and to include the amount of proceeds from the sale in cash from investing activities. Recall that the indirect method of the statement of cash flows begins with net income and makes all adjustments to arrive at cash from operations, including removal of gains or losses from non-operating activities.\n",
    "### Long-Lived Assets Disposed of Other Than by a Sale\n",
    "Long-lived assets to be disposed of other than by a sale (e.g., abandoned, exchanged for another asset, or distributed to owners in a spin-off) are classified as held for use until disposal or until they meet the criteria to be classified as held for sale or held for distribution. Thus, the long-lived assets continue to be depreciated and tested for impairment, unless their carrying amount is zero, as required for other long-lived assets owned by the company.\n",
    "\n",
    "When an asset is retired or abandoned, the accounting is similar to a sale, except that the company does not record cash proceeds. Assets are reduced by the carrying amount of the asset at the time of retirement or abandonment, and a loss equal to the asset’s carrying amount is recorded.\n",
    "\n",
    "When an asset is retired or abandoned, `balance sheet` assets are reduced by the asset's carrying value and a loss of equivalent value is recorded on the `income statement`."
   ]
  },
  {
   "cell_type": "markdown",
   "metadata": {},
   "source": [
    "### Presentation and Disclosure Requirements\n",
    "#### IFRS\n",
    "For each class of PP&E, a company must disclose \n",
    "- Measurement base\n",
    "- Depreciation method\n",
    "- Useful life\n",
    "- Gross carrying amount\n",
    "- Accumulated depreciation\n",
    "\n",
    "Companies must also disclose information about title restrictions for existing PP&E as well as any contracts to acquire new PP&E. Further disclosures are required from companies that use the revaluation model.\n",
    "\n",
    "For each class of `intangible assets`, a company must disclose whether the useful lives are indefinite or finite. \n",
    "- If finite, \n",
    "  - Useful lives (or, equivalently, the amortisation rate) used\n",
    "  - Amortisation methods\n",
    "  - Gross carrying amount\n",
    "  - Accumulated amortisation at the beginning and end of the period, where amortisation is included on the income statement, and \n",
    "  - A reconciliation of the carrying amount at the beginning and end of the period\n",
    "- If indefinite, \n",
    "  - Carrying amount of the asset and \n",
    "  - Why it is considered to have an indefinite life\n",
    "  - Similar to property, plant, and equipment, disclosures of restrictions on title and pledges as security of intangible assets and **contractual agreements** to acquire intangible assets are required. \n",
    "  - If the revaluation model is used:\n",
    "    - the date of revaluation\n",
    "    - details of how the fair value was obtained\n",
    "    - the carrying amount under the cost model, and \n",
    "    - the revaluation surplus must be disclosed\n",
    "\n",
    "#### US GAAP\n",
    "PP&E:\n",
    "- Total depreciation expense for the period\n",
    "- Balances of major classes of depreciable assets\n",
    "- Accumulated depreciation by major classes or in total\n",
    "- Ceneral description of the depreciation method(s) used in computing depreciation expense with respect to the major classes of depreciable assets\n",
    "\n",
    "Intangible:\n",
    "- gross carrying amounts and accumulated amortisation in total and by major class of intangible assets, the aggregate amortisation expense for the period, and the estimated amortisation expense for the next five fiscal years.\n",
    "\n",
    "Under US GAAP, disclosure requirements are limited to the balances and depreciation methods for each major asset class, total depreciation expense, and accumulated depreciation expense (either overall or for each major asset class).\n",
    "\n",
    "Disclosure requirements for intangible assets are similarly less extensive for US GAAP compared to IFRS.\n",
    "\n",
    "Both sets of accounting standards require the disclosure of information about impairment losses, although US GAAP requirements are less extensive and impairment reversals are not permitted.\n",
    "\n",
    "Disclosures about long-lived assets affect the balance sheet, income statement, cash flow statement, and notes. Analysts can use these disclosures to better understand a company’s tangible and intangible assets.\n",
    "\n",
    "If the cost model is used, an analyst can gather information about depreciation to estimate the total useful life, age of the asset, and remaining life. Assuming straight-line depreciation and no salvage value:\n",
    "\n",
    "$Estimated\\ total\\ useful\\ life=Estimated\\ age\\ of\\ equipment+Estimated\\ remaining\\ life$\n",
    "\n",
    "$$\\frac{Historical\\ cost}{Annual\\ depreciation\\ expense}=\\frac{Accumulated\\ depreciation}{Annual\\ depreciation\\ expense}+\\frac{Net\\ PPE}{Annual\\ depreciation\\ expense}$$\n",
    "\n",
    "*Impairment losses disclosure*<br>\n",
    "Under IFRS, a company must disclose for each class of assets the amounts of impairment losses and reversals of impairment losses recognised in the period and where those are recognised on the financial statements. The company must also disclose in aggregate the main classes of assets affected by impairment losses and reversals of impairment losses and the main events and circumstances leading to recognition of these impairment losses and reversals of impairment losses. <br>\n",
    "Under US GAAP, there is no reversal of impairment losses for assets held for use. The company must disclose a description of the impaired asset, what led to the impairment, the method of determining fair value, the amount of the impairment loss, and where the loss is recognised on the financial statements.\n",
    "\n",
    "##### Long-Lived Assets in Financial Reporting\n",
    "The `balance sheet` reports the carrying value of the asset. <br>\n",
    "For the `income statement`, depreciation expense may or may not appear as a separate line item. Under IFRS, whether the income statement discloses depreciation expense separately depends on whether the company is using a ‘nature of expense’ method or a ‘function of expense’ method. Under the nature of expense method, a company aggregates expenses “according to their nature (for example, depreciation, purchases of materials, transport costs, employee benefits and advertising costs), and does not reallocate them among functions within the entity.” Under the function of expense method, a company classifies expenses according to the function, for example as part of cost of sales or of SG&A (selling, general, and administrative expenses). At a minimum, a company using the function of expense method must disclose cost of sales, but the other line items vary.<br>\n",
    "The `statement of cash flows` reflects acquisitions and disposals of fixed assets in the investing section. In addition, when prepared using the indirect method, the statement of cash flows typically shows depreciation expense (or depreciation plus amortisation) as a line item in the adjustments of net income to cash flow from operations. The notes to the financial statements describe the company’s accounting method(s), the range of estimated useful lives, historical cost by main category of fixed asset, accumulated depreciation, and annual depreciation expense."
   ]
  },
  {
   "cell_type": "code",
   "execution_count": null,
   "metadata": {},
   "outputs": [],
   "source": [
    "# EXAMPLE 16"
   ]
  },
  {
   "cell_type": "markdown",
   "metadata": {},
   "source": [
    "### Using Disclosures in Analysis\n",
    "Ratios used in analyzing fixed assets include:\n",
    "- the fixed asset turnover ratio (total revenue divided by average net fixed assets) reflects the relationship between total revenues and investment in PPE\n",
    "- Asset age ratios, which generally rely on the relationship between historical cost and depreciation\n",
    "  - Asset age (the average age of a company’s asset base can be estimated as accumulated depreciation divided by depreciation expense)\n",
    "  - Remaining useful life (the average remaining life of a company’s asset base can be estimated as net PPE divided by depreciation expense)\n",
    "\n",
    "\n",
    "under straight-line depreciation:<br>\n",
    "(total historical cost - salvage value) / estimated useful life = annual depreciation expense\n",
    "\n",
    "Estimated total useful life\t=\tTime elapsed since purchase (Age)\t+\tEstimated remaining life\n",
    "Historical cost ÷ annual depreciation expense\t=\tEstimated total useful life\t \t \n",
    "Historical cost\t=\tAccumulated depreciation\t+\tNet PPE\n",
    "\n",
    "Estimated total useful life\t=\tEstimated age of equipment\t+\tEstimated remaining life\n",
    "Historical cost ÷\n",
    "annual depreciation expense\t=\tAccumulated depreciation ÷ annual depreciation expense\t+\tNet PPE ÷\n",
    "annual depreciation expense\n",
    "\n",
    "One further measure compares a company’s current reinvestment in productive capacity. Comparing annual capital expenditures to annual depreciation expense provides an indication of whether productive capacity is being maintained. It is a very general indicator of the rate at which a company is replacing its PPE relative to the rate at which PPE is being depreciated."
   ]
  },
  {
   "cell_type": "code",
   "execution_count": null,
   "metadata": {},
   "outputs": [],
   "source": [
    "# EXAMPLE 16 * 17"
   ]
  },
  {
   "cell_type": "markdown",
   "metadata": {},
   "source": [
    "### Investment Property\n",
    "According to IFRS, investment properties may be carried at either historical cost or fair value.\n",
    "\n",
    "Investment property is defined under IFRS as property that is owned (or, in some cases, leased under a finance lease) for the purpose of earning rentals or capital appreciation or both. Investment properties do not include long-lived tangible assets held for sale in the ordinary course of business. For example, the houses and property owned by a housing construction company are considered to be its inventory.\n",
    "\n",
    "Under IFRS, companies are allowed to value investment properties using either a cost model or a fair value model. The cost model is identical to the cost model used for property, plant, and equipment. If the cost model is used, the fair value of investment property must be disclosed.\n",
    "\n",
    "Under the revaluation model, whether an asset revaluation affects net income depends on whether the revaluation initially increases or decreases the carrying amount of the asset. In contrast, under the fair value model, all changes in the fair value of the asset affect net income. To use the fair value model, a company must be able to reliably determine the property’s fair value on a continuing basis.\n",
    "\n",
    "If a company’s chosen model is the fair value model, transfers from investment property to owner-occupied property or to inventory are made at fair value. In other words, the property’s fair value at the time of transfer is considered to be its cost for ongoing accounting for the property. If a company’s chosen model for investment property is the fair value model and it transfers a property from owner-occupied to investment property, the change in measurement of the property from depreciated cost to fair value is treated like a revaluation. If a company’s chosen model is the fair value model and it transfers a property from inventory to investment property, any difference between the inventory carrying amount and the property’s fair value at the time of transfer is recognised as profit or loss."
   ]
  },
  {
   "cell_type": "markdown",
   "metadata": {},
   "source": [
    "# Income Taxes"
   ]
  },
  {
   "cell_type": "markdown",
   "metadata": {},
   "source": [
    "## Differences Between Accounting Profit and Taxable Income\n",
    "Deferred tax assets represent taxes that have been recognized for tax reporting purposes but not on financial reporting statements. Deferred tax liabilities represent taxes that have been recognized for financial reporting purposes but not for tax reporting.\n",
    "\n",
    "`Accounting profit` is the pretax income based on prevailing accounting standards. It is the basis for the `income tax expense` (taxes that are associated with the accounting profit) (or recoverable) that appears on a company's *income statement*.\n",
    "\n",
    "`Taxable income` is profit based on the tax laws. Any tax obligations are recorded as an income tax payable liability (or an income tax recoverable asset) on the *balance sheet*.\n",
    "\n",
    "`Deferred tax assets` emerge when taxable income is greater than accounting profit. A `valuation allowance` is used to represent the likelihood future profits will be sufficient to realize the deferred tax asset.\n",
    "\n",
    "`Deferred tax liabilities` result from accounting profit being greater than taxable income.\n",
    "### Current Tax Assets and Liabilities\n",
    "The current tax asset or liability is based on taxable income. Differences between accounting profit and taxable income can arise from items such as:\n",
    "- Revenues and expenses recognized in different periods for accounting and tax purposes\n",
    "- Items recognized for accounting purposes but not tax purposes\n",
    "- Carrying amount and tax base of assets or liabilities may differ\n",
    "- Tax losses in prior years reducing taxable income in later years\n",
    "\n",
    "### Deferred Tax Assets and Liabilities\n",
    "Deferred tax assets represent taxes that have been paid but not yet recognized on the income statement. Deferred tax assets and liabilities result from timing differences. The differences are only temporary because they will self-correct.\n",
    "\n",
    "**If the liability is expected to reverse (and thus require a cash tax payment) the deferred tax represents a future liability.**\n",
    "\n",
    "Under IFRS<br>\n",
    "Deferred tax assets and liabilities must be classified as **noncurrent**. Deferred tax assets and liabilities are recalculated each year to ensure the difference will result in future economic benefits. These balance sheet accounts may be reversed if the criteria for economic benefits are not met. Reversals should not be necessary as long as a company continues to operate as a going concern.\n",
    "\n",
    "US GAAP <br>\n",
    "Requires the use of **valuation allowances** when necessary. Auditors may exercise some discretion in determining the extent to which temporary differences are likely to reverse in the future.\n",
    "\n",
    "$$Income\\ tax\\ expense\\ reported\\ on\\ the\\ income\\ statement = Income\\ tax\\ payable + Net\\ changes\\ in\\ the\\ deferred\\ tax\\ assets\\ and\\ deferred\\ tax\\ liabilities$$"
   ]
  },
  {
   "cell_type": "markdown",
   "metadata": {},
   "source": [
    "## Determining Tax Bases\n",
    "When the tax base for an asset or liability differs from its carrying amount, accounting profits will differ from taxable income.\n",
    "### Determining the Tax Base of an Asset\n",
    "The `tax base` is the value of an asset is the amount attributed to tax purposes (will be used to calculate capital gain/loss if the asset is sold), while the `carrying amount` is its value based on accounting standards. \n",
    "\n",
    "For example, if a company depreciates a machine on a straight-line basis for accounting purposes and uses accelerated depreciation for tax purposes, the machine's carrying value will be greater than its tax base after one year.\n",
    "### Determining the Tax Base of a Liability\n",
    "The tax base of a liability is the carrying amount less amounts that will be deductible in the future for tax purposes. Often payments received in advance are taxed immediately, which results in no tax base.\n",
    "\n",
    "$$Deferred\\ tax\\ liability=(Carrying\\ amount -tax\\ base) \\times Tax\\ rate$$\n",
    "For example, if a $1 million rent was received in advance would be carried on the balance sheet as a liability to be diminished as the revenue is earned. However, if the payment was taxed on a cash basis, its tax base would be zero.\n",
    "\n",
    "$$Change\\ in\\ deferred\\ tax\\ liability=(depreciation\\ expense\\ for\\ taxable\\ income -depreciation\\ expense\\ for\\ accounting\\ profit)\\times tax\\ rate$$"
   ]
  },
  {
   "cell_type": "markdown",
   "metadata": {},
   "source": [
    "## Changes in Income Tax Rates\n",
    "Deferred tax assets and liabilities must be adjusted when tax rates change. Both deferred tax assets and liabilities will increase as a result of higher tax rates (and vice versa). The impact of any such change will be observed in accounting profits for the period in which it is enacted."
   ]
  },
  {
   "cell_type": "markdown",
   "metadata": {},
   "source": [
    "## Temporary and Permanent Differences Between Taxable and Accounting Profit\n",
    "Differences between the tax base and carrying amount result in temporary differences. The difference will reverse in the future. IFRS and US GAAP use the balance sheet liability method. This method focuses on the recognition of a deferred tax asset or liability.\n",
    "\n",
    "Permanent differences will not be reversed in the future, so there is no deferred tax asset or liability is created. These may arise from income or expense items that are not allowed by tax legislation or tax credits for certain expenditures that directly reduce taxes.\n",
    "\n",
    "Permanent differences result in a discrepancy between the statutory tax rate and a company's effective tax rate.\n",
    "$$Reported\\ effective\\ tax\\ rate=\\frac{Income\\ tax expense}{Pretax\\ accounting\\ profit}$$\n",
    "### Taxable Temporary Differences (Deferred Tax Liability)\n",
    "Taxable temporary differences result in taxes in future periods, thus creating a deferred tax liability. It results when the carrying amount of an asset exceeds its tax base or the tax base of liability exceeds its carrying amount.\n",
    "### Deductible Temporary Differences (Deferred Tax Asset)\n",
    "Deductible temporary differences result in a deferred tax asset. This results in a reduction of taxable income in future periods. There must be a reasonable expectation of recovery in future periods (i.e., sufficient future profits).\n",
    "### Exceptions to the Usual Rules for Temporary Differences\n",
    "#### Temporary Differences at Initial Recognition of Assets and Liabilities\n",
    "Occasionally, the carrying amount and tax base will be different initially. For example, a company could reduce the carrying amount of an asset for a government grant. There is no deferred tax asset or liability if there is no impact on the accounting or tax profit. No deferred tax liability is created for goodwill.\n",
    "#### Business Combinations and Deferred Taxes\n",
    "Carrying amounts often get adjusted to fair value at acquisition dates. This will affect deferred taxes and goodwill.\n",
    "#### Investments in Subsidiaries, Branches, Associates and Interests in Joint Ventures\n",
    "These could lead to temporary differences in the consolidated versus the parent’s financial statements. The deferred tax liability will be recognized unless both the parent controls the timing of the reversal and the temporary difference will probably not reverse. A deferred tax asset will only be recognized if the temporary differences will reverse in the future and taxable profits exist to use the temporary difference."
   ]
  },
  {
   "cell_type": "markdown",
   "metadata": {},
   "source": [
    "## Unused Tax Losses and Tax Credits\n",
    "Unused tax losses and tax credits are only recognized if it is likely they can be used against future taxable income. If there are sufficient concerns about future profitability, a deferred tax asset may not be recognized until it is actually realized.\n",
    "\n",
    "US GAAP calls for deferred tax assets to be recognized subsequently reduced with a valuation allowance contra account if it is deemed more likely than not that the full amount will not be realized. A history of tax losses can be taken as evidence that deferred tax assets are unlikely to be realized."
   ]
  },
  {
   "cell_type": "markdown",
   "metadata": {},
   "source": [
    "## Recognition and Measurement of Current and Deferred Tax\n",
    "Deferred tax balance sheet accounts should be based on the expected tax rate when the asset or liability will be settled. Although these temporary differences will not be reversed until a future period, the amounts that are recorded on the current balance sheet are not discounted.\n",
    "\n",
    "At each balance sheet date, there should be an assessment of the carrying values of previously recognized deferred tax assets and liabilities, as well as any such items that have not yet been recognized.\n",
    "\n",
    "Even if there have been no changes in temporary differences during the accounting period, the carrying amounts of deferred tax assets and liabilities will need to be adjusted to reflect any of:\n",
    "- Changes in applicable tax rates\n",
    "- Reassessments of the likelihood of recovering deferred tax assets\n",
    "- Changes in expectations about the factors that influence deferred tax assets or liabilities\n",
    "\n",
    "### Recognition of a Valuation Allowance\n",
    "The carrying amount of deferred tax assets should be lowered to reflect any reduction in the expected recoverable amount. Under US GAAP, a valuation allowance is used as a contra account to reduce the value of a deferred tax asset and income in the period.\n",
    "### Recognition of Current and Deferred Tax Charged Directly to Equity\n",
    "Deferred taxes are normally recognized on the income statement, but certain circumstances require a direct equity charge.\n",
    "\n",
    "Items that bypass the income statement and get recorded directly to equity on the balance sheet include:\n",
    "- Changes in the fair value of certain investments\n",
    "- The impact of changes in accounting policies\n",
    "- The impact of exchange rate fluctuations\n",
    "- PP&E revaluations (IFRS only)\n",
    "\n",
    "If any such items result in deferred tax liability, the deferred tax should also be taken directly to equity. If it is determined a deferred tax liability will not be reversed, the liability should be reduced and the change should be recorded directly in the equity account.\n",
    "\n",
    "Deferred taxes that are attributable to business combinations are also charged directly to equity.\n",
    "\n",
    "Accounting choices that create or adjust deferred taxes are based on significant judgments and should be scrutinized by analysts."
   ]
  },
  {
   "cell_type": "markdown",
   "metadata": {},
   "source": [
    "## Presentation and Disclosure\n",
    "Disclosures illustrate how income tax provisions were determined. They also show the link between reported income and taxable income.\n",
    "\n",
    "### Income Statement\n",
    "\n",
    "### Balance Sheet\n",
    "Total deferred taxes\n",
    "\n",
    "### Supplementary Notes to the Financial Statements about Taxes"
   ]
  },
  {
   "cell_type": "markdown",
   "metadata": {},
   "source": [
    "## Comparison of IFRS and US GAAP\n",
    "IFRS: Deferred tax assets are recognised to the extent it is probable future taxable profit will be sufficient to use it. \n",
    "\n",
    "US GAAP: Deferred tax assets are recognized in full. Then they are reduced by a valuation allowance. If it is likely, some or all of the deferred tax assets will not be realised. "
   ]
  },
  {
   "cell_type": "markdown",
   "metadata": {},
   "source": [
    "# Non-Current (Long-Term) Liabilities"
   ]
  },
  {
   "cell_type": "markdown",
   "metadata": {},
   "source": [
    "TBC"
   ]
  }
 ],
 "metadata": {
  "kernelspec": {
   "display_name": "Python 3",
   "language": "python",
   "name": "python3"
  },
  "language_info": {
   "codemirror_mode": {
    "name": "ipython",
    "version": 3
   },
   "file_extension": ".py",
   "mimetype": "text/x-python",
   "name": "python",
   "nbconvert_exporter": "python",
   "pygments_lexer": "ipython3",
   "version": "3.7.3"
  }
 },
 "nbformat": 4,
 "nbformat_minor": 4
}
