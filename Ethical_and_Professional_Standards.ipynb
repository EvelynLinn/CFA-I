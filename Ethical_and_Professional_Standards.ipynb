{
 "cells": [
  {
   "cell_type": "markdown",
   "metadata": {},
   "source": [
    "# Ethics and Trust in the Investment Profession"
   ]
  },
  {
   "cell_type": "markdown",
   "metadata": {},
   "source": [
    "### Ethics\n",
    "Acting ethically involves more than simply complying with the law. \n",
    "\n",
    "**Ethics can be defined as the set of `moral principles` and `rules of conduct` that people and societies use as a guide for their actions.** Ethical principles may refer to beliefs regarding behavior that an individual expects of himself or herself, as well as shared beliefs regarding standards of behavior expected or required by a community or societal group.\n",
    "- Moral principles are our beliefs about what is right and what is wrong. Widely accepted moral principles include honesty, transparency, fairness or justice, diligence, and respect for the rights of others. \n",
    "- Ethical conduct is behavior that follows moral principles and balances self-interest with both the direct and the indirect consequences of the behavior on others. \n",
    "\n",
    "Laws and regulations\n",
    "- best interest of clients\n",
    "- suitability requirements\n",
    "\n",
    "A `code of ethics` is a formal written set of moral principles that organizations use to communicate their broad expectations for members' behavior. \n",
    "\n",
    "Some communities will also expand on their codes of ethics and adopt explicit rules or standards that identify specific behaviors required of community members. These `standards of conduct` serve as **benchmarks** for the minimally acceptable behavior of community members and can help clarify the code of ethics. "
   ]
  },
  {
   "cell_type": "markdown",
   "metadata": {},
   "source": [
    "### Ethics and Professionalism\n",
    "A profession is defined as an occupational community that has:\n",
    "- Specific education\n",
    "- Expert knowledge\n",
    "- An ethical framework of practice that underpins community trust and recognition\n",
    "\n",
    "Professions distinguish from craft guides and trade bodies. \n",
    "#### How Professions Establish Trust\n",
    "Professions seek to gain trust and recognition. Those that are most credible share the following 10 characteristics.\n",
    "1. **Professions normalize practitioner behavior** Professional bodies develop and enforce ethical standards for their members to uphold. This ethical framework is often complementary to legal requirements and supported by governments and regulators.\n",
    "2. **Professions provide a service to society** Professionals enjoy more commercial success if they see their mission as providing a service that benefits society rather than focusing on their narrow self-interest. Professional organizations are more likely to be granted autonomy if their members and mission are widely accepted in society.\n",
    "3. **Professions are client-focused** A profession's ethical standards should be designed to ensure that professionals place the interests of their clients above their own.\n",
    "4. **Professions have high entry standards** Professionals should be required to demonstrate command of a body of specialist knowledge that goes beyond academic credentials. Membership in a professional body should give employers and clients confidence that high standards have been met with respect to technical skills, knowledge, and ethics.\n",
    "5. **Professions possess a body of expert knowledge** Members should have access to a body of specialist knowledge that they can draw upon to better serve society.\n",
    "6. **Professions encourage and facilitate continuing education** After being admitted to a professional body, members should be required to maintain their competency by completing a minimum amount of continuing education each year. Members are also expected to keep up with the changing technology and business environment to better serve their clients.\n",
    "7. **Professions monitor professional conduct** In order to maintain their profession's standing in society, professional bodies must monitor their members' actions and hold them accountable for violations of ethical standards.\n",
    "8. **Professions are collegial** Relationships between professional colleagues, even competitors, should be based on dignity and respect.\n",
    "9. **Professions are recognized oversight bodies** Professional bodies exercise oversight by developing standards of conduct and disciplining their members for failing to uphold them.\n",
    "10. **Professions encourage the engagement of members** Professional bodies rely on the active participation of their members, who should be willing to share their knowledge with colleagues and advance the organization's mission.\n",
    "\n",
    "#### Professions Are Evolving\n",
    "Professions must evolve as new technologies emerge and society changes. In order to keep their policies and disciplinary processes current, professional organizations should consult regularly with non-members and seek a variety of viewpoints. Professional organizations may even adopt best practices from other unrelated professions, particularly with respect to ethics."
   ]
  },
  {
   "cell_type": "markdown",
   "metadata": {},
   "source": [
    "## Professionalism in Investment Management\n",
    "Compared to, for example, medicine and law, investment management is a relatively new profession that has yet to be as widely recognized by regulators and employers. Not all investment management practitioners have undertaken certified training or joined professional organizations that enforce ethical standards. This makes it more difficult for the investment management profession to gain the public's trust.\n",
    "\n",
    "Like many other fields, investment management does not have all of the characteristics of a profession. However, this is changing as practitioners are increasingly expected to demonstrate that their skills and knowledge have been independently certified. Additionally, globalization has put pressure on local professional organizations to work together toward the development of international standards.\n",
    "\n",
    "Investment professionals have a special responsibility because clients entrust them to protect the clients’ assets.\n",
    "### Trust in Investment Management\n",
    "Compliance with codes of ethics and professional standards is essential, and practice must be guided by **care, transparency, and integrity**.\n",
    "\n",
    "Like doctors and lawyers, investment professionals have access to a common body of knowledge, which they are expected to apply for the benefit of their clients and in accordance with relevant laws, regulations, and professional standards.\n",
    "\n",
    "Investment management firms have a role to play in creating their own policies for employees to follow. Professional organizations typically advise on how to manage conflicts between their standards and firm policies. **The investment management profession and investment firms must be interdependent to maintain trust. Employers and regulators have their own standards and practices, which may differ from regulations and standards set by professional bodies.**\n",
    "### CFA Institute as an Investment Management Professional Body\n",
    "CFA Institute (CFAI) is an example of a community with a code of ethics. Members and candidates commit to following CFAI's `Code of Ethics and Standards of Professional Conduct`."
   ]
  },
  {
   "cell_type": "markdown",
   "metadata": {},
   "source": [
    "## Ethical Conduct\n",
    "### Challenges to Ethical Conduct\n",
    "A professional may face situations that have no obvious or clear answer. That is where the study of ethics can be useful.\n",
    "#### Internal Traits\n",
    "Many people believe they are above average when it comes to ethical standards. Those that work in investment firms are no exception. Unfortunately, the public does not inherently trust investment professionals. This `overconfidence` in our own moral abilities can lead to poor decisions in unfamiliar situations. \n",
    "\n",
    "Also relevant is the natural instinct for self-preservation.\n",
    "#### Situational Influences\n",
    "`Situational influences` have a profound impact, either positive or negative, on our decisions and actions. These external factors include \n",
    "- What other people are doing around us (many strong people conform to social pressures in difficult situations). \n",
    "- Money and prestige are common situational influences in the investment industry (people understand the short-term effects of bonuses and promotions more than the long-term goal of contributing to the integrity of financial markets).\n",
    "- Loyalty to supervisors or organizations, fellow employees, and other colleagues can tempt individuals to make compromises and take actions that they would reject under different situational influences or judge harshly when taken by others.\n",
    "\n",
    "    Enron Corporation is an example of how situational influences can undermine a company. The focus on current revenues and the share price took precedence over the long-term sustainability of the company. Management wanted to maximize the value of their stock options. Accounting strategies were used to inflate revenues and hide debt. When this came to light, the stock price dropped from over US\\\\$90 to less than US$1 in just over a year.\n",
    "\n",
    "#### Compliance Policies/Programs \n",
    "Many firms develop strong compliance programs. However, just following rules may not be sufficient. The decision-maker must consider the larger picture in situations. (The focus should be on “What should I do?” rather than “What can I do?”)\n",
    "\n",
    "Consciously considering long-term consequences will help offset situational influences. We more easily recognize and consider short-term situational influences than longer-term considerations because longer-term considerations have fewer immediate consequences than situational influences do. When decision making is too narrowly focused on short-term factors, we tend to ignore longer-term risks and consequences, and the likelihood of poor ethical decision making increases. A strong compliance policy is a good first step toward developing an ethical culture; a focus on rules adherence may not be sufficient. Emphasis on compliance may not encourage decision makers to consider the larger picture and can **oversimplify decision making**. Taken to the extreme, a strong compliance culture can become another situational influence that blinds employees to other important considerations. An overconfidence bias can place too much importance on internal traits and intrinsic motivations, such as “I’m honest and would not lie,” even though studies have shown that internal traits are generally not the main determinant of whether or not someone will behave ethically in a given situation."
   ]
  },
  {
   "cell_type": "markdown",
   "metadata": {},
   "source": [
    "## Ethical vs. Legal Standards\n",
    "Stakeholders sometimes have different perspectives on what is ethical or beneficial. Laws and regulations codify ethical actions that benefit society or specific groups of stakeholders. Some actions are legal but not ethical, while others are ethical but not legal. For example,\n",
    "- Insider trading may be legal in some jurisdictions, but that does not make it ethical.\n",
    "- Whistleblowing may be illegal yet ethical.\n",
    "\n",
    "Increasing rules and regulations in the investment industry will not necessarily increase trust in the financial markets. Laws typically follow market practices and take much time to implement. Also, laws vary by jurisdiction and are subject to interpretation. Good ethics require good judgment.\n",
    "## Ethical Decision-Making Frameworks\n",
    "**Laws, regulations, professional standards, and codes of ethics** can all help practitioners make good decisions, but **individual judgment** is critical. To increase the ability and motivation of market participants to act ethically:\n",
    "- Adopting a code of ethics is a good first step. \n",
    "  - clearly lays out the ethical principles that guide the thought processes and conduct the firm expects from its employees\n",
    "- Building a culture of integrity and accountability in the workplace (development, maintenance, and demonstration of a strong culture of integrity within the firm by senior management may be the single most important factor in promoting ethical behavior among the firm’s employees).\n",
    "- Skills must be developed so investment professionals can make the right decisions on a daily basis. \n",
    "- Investment professionals need a set of principles to use while making decisions. This can help them avoid indecisiveness and unethical conduct. It can be used to avoid and manage conflicts of interest. \n",
    "- Situations must be seen from **multiple perspectives**. It is especially important to have a **long-term perspective**.\n",
    "\n",
    "An ethical decision-making framework is interactive among different steps but can be divided into four phases. \n",
    "1. Identify \n",
    "  - relevant facts available;\n",
    "  - information that you may not have but would like to have to give yourself a more complete understanding of the situation; \n",
    "  - distinguish between facts and personal opinion, judgements, and biases;\n",
    "  - stakeholders, ethical principles, and conflicts of interest;\n",
    "2. Consider \n",
    "  - situational influences and (personal) biases;\n",
    "  - additional guidance;\n",
    "  - get additional guidance (and/or fresh perspectives) from trusted sources such as colleagues, friends, mentors, families, compliance department, or legal counsel, CFA Institute Code and Standards, and firm policies, etc. \n",
    "3. Decide and act on it.\n",
    "4. Reflect on whether the outcome was as anticipated.\n",
    "  - improve and if neccessary, look for alternative actions\n",
    "\n",
    "Sometimes cases can be complicated and multiple iterations may reveal that no totally acceptable solution can be created. Applying an ethical decision-making framework can help you evaluate the situation so you can make the best possible decision."
   ]
  },
  {
   "cell_type": "markdown",
   "metadata": {},
   "source": [
    "# Code of Ethics and Standards of Professional Conduct"
   ]
  },
  {
   "cell_type": "markdown",
   "metadata": {},
   "source": [
    "### Evolution of the CFA Institute Code and Standards and the Standards of Practice Handbook\n",
    "### Summary of Changes in the Eleventh Edition\n",
    "### CFA Institute Professional Conduct Program and Adoption of the Code and Standards\n",
    "### Ethics and the Investment Industry\n",
    "### CFA Institute Code of Ethics and Standards of Professional Conduct"
   ]
  },
  {
   "cell_type": "markdown",
   "metadata": {},
   "source": [
    "**RECAP**\n",
    "\n"
   ]
  },
  {
   "cell_type": "markdown",
   "metadata": {},
   "source": [
    "# Guidance for Standards I–VII"
   ]
  },
  {
   "cell_type": "markdown",
   "metadata": {},
   "source": []
  },
  {
   "cell_type": "markdown",
   "metadata": {},
   "source": [
    "# Introduction to the Global Investment Performance Standards (GIPS)"
   ]
  },
  {
   "cell_type": "markdown",
   "metadata": {},
   "source": [
    "### Why Were the GIPS Created, Who Can Claim Compliance & Who Benefits from Compliance\n",
    "### Composites\n",
    "### Verification\n",
    "### The Structure of the GIPS Standards"
   ]
  },
  {
   "cell_type": "markdown",
   "metadata": {},
   "source": [
    "# Global Investment Performance Standards (GIPS)"
   ]
  },
  {
   "cell_type": "markdown",
   "metadata": {},
   "source": [
    "## Background \n",
    "## Key Features of GIPS\n",
    "## Provisions of Global Investment Performance Standards \n",
    "### Overview of the Sections\n",
    "### Sections 0, 1, 2\n",
    "### Sections 3, 4, 5\n",
    "#### Sample Compliant Presentations - Investment Firm, Asset Management Company\n",
    "### Section 6\n",
    "#### Sample Compliant Presentations - Real Estate\n",
    "### Section 7\n",
    "#### Sample Compliant Presentations - Private Equity\n",
    "### Section 8\n",
    "#### Sample Compliant Presentations - Large-Cap SMA\n",
    "### GIPS Valuation Principles\n",
    "### GIPS Advertising Principles\n",
    "### Sample Advertisements\n",
    "### Verification\n",
    "### GIPS Glossary\n",
    "### Sample List of Composite Descriptions"
   ]
  }
 ],
 "metadata": {
  "kernelspec": {
   "display_name": "Python 3",
   "language": "python",
   "name": "python3"
  },
  "language_info": {
   "codemirror_mode": {
    "name": "ipython",
    "version": 3
   },
   "file_extension": ".py",
   "mimetype": "text/x-python",
   "name": "python",
   "nbconvert_exporter": "python",
   "pygments_lexer": "ipython3",
   "version": "3.7.3"
  }
 },
 "nbformat": 4,
 "nbformat_minor": 4
}
