{
 "cells": [
  {
   "cell_type": "markdown",
   "metadata": {},
   "source": [
    "# Quantitative Methods"
   ]
  },
  {
   "cell_type": "code",
   "execution_count": 1,
   "metadata": {},
   "outputs": [],
   "source": [
    "import pandas as pd\n",
    "import numpy as np"
   ]
  },
  {
   "cell_type": "markdown",
   "metadata": {},
   "source": [
    "## Geometric Mean"
   ]
  },
  {
   "cell_type": "code",
   "execution_count": 2,
   "metadata": {},
   "outputs": [],
   "source": [
    "from scipy.stats.mstats import gmean "
   ]
  },
  {
   "cell_type": "code",
   "execution_count": 3,
   "metadata": {},
   "outputs": [
    {
     "data": {
      "text/html": [
       "<div>\n",
       "<style scoped>\n",
       "    .dataframe tbody tr th:only-of-type {\n",
       "        vertical-align: middle;\n",
       "    }\n",
       "\n",
       "    .dataframe tbody tr th {\n",
       "        vertical-align: top;\n",
       "    }\n",
       "\n",
       "    .dataframe thead th {\n",
       "        text-align: right;\n",
       "    }\n",
       "</style>\n",
       "<table border=\"1\" class=\"dataframe\">\n",
       "  <thead>\n",
       "    <tr style=\"text-align: right;\">\n",
       "      <th></th>\n",
       "      <th>Year</th>\n",
       "      <th>Selected American Shares (SLASX) %</th>\n",
       "      <th>T. Rowe Price Equity Income (PRFDX)%</th>\n",
       "    </tr>\n",
       "  </thead>\n",
       "  <tbody>\n",
       "    <tr>\n",
       "      <th>0</th>\n",
       "      <td>2013</td>\n",
       "      <td>34.90</td>\n",
       "      <td>31.69</td>\n",
       "    </tr>\n",
       "    <tr>\n",
       "      <th>1</th>\n",
       "      <td>2014</td>\n",
       "      <td>6.13</td>\n",
       "      <td>7.75</td>\n",
       "    </tr>\n",
       "    <tr>\n",
       "      <th>2</th>\n",
       "      <td>2015</td>\n",
       "      <td>2.69</td>\n",
       "      <td>-7.56</td>\n",
       "    </tr>\n",
       "    <tr>\n",
       "      <th>3</th>\n",
       "      <td>2016</td>\n",
       "      <td>11.66</td>\n",
       "      <td>18.25</td>\n",
       "    </tr>\n",
       "    <tr>\n",
       "      <th>4</th>\n",
       "      <td>2017</td>\n",
       "      <td>21.77</td>\n",
       "      <td>16.18</td>\n",
       "    </tr>\n",
       "  </tbody>\n",
       "</table>\n",
       "</div>"
      ],
      "text/plain": [
       "   Year  Selected American Shares (SLASX) %  \\\n",
       "0  2013                               34.90   \n",
       "1  2014                                6.13   \n",
       "2  2015                                2.69   \n",
       "3  2016                               11.66   \n",
       "4  2017                               21.77   \n",
       "\n",
       "   T. Rowe Price Equity Income (PRFDX)%  \n",
       "0                                 31.69  \n",
       "1                                  7.75  \n",
       "2                                 -7.56  \n",
       "3                                 18.25  \n",
       "4                                 16.18  "
      ]
     },
     "execution_count": 3,
     "metadata": {},
     "output_type": "execute_result"
    }
   ],
   "source": [
    "# The most recent five years of total returns for two US large-cap value equity mutual funds in 2018\n",
    "d = {'Year': [2013, 2014, 2015, 2016, 2017], \n",
    "     'Selected American Shares (SLASX) %': [34.90, 6.13, 2.69, 11.66, 21.77], \n",
    "     'T. Rowe Price Equity Income (PRFDX)%':[31.69, 7.75, -7.56, 18.25, 16.18]}\n",
    "df = pd.DataFrame(data=d)\n",
    "df"
   ]
  },
  {
   "cell_type": "code",
   "execution_count": 4,
   "metadata": {},
   "outputs": [],
   "source": [
    "# Calculate the geometric mean return of SLASX\n",
    "slasx = df['Selected American Shares (SLASX) %'].tolist()"
   ]
  },
  {
   "cell_type": "markdown",
   "metadata": {},
   "source": [
    "\\begin{equation*}\n",
    "R_{t} + 1 = \\sqrt[t]{(1+R_{1})(1+R_{2})...(1+R_{t})}\n",
    "\\end{equation*}\n"
   ]
  },
  {
   "cell_type": "code",
   "execution_count": 5,
   "metadata": {},
   "outputs": [],
   "source": [
    "# Redefine returns to make them positive by adding 1.0\n",
    "g_slasx = list(map(lambda i: i/100+1, slasx))"
   ]
  },
  {
   "cell_type": "code",
   "execution_count": 6,
   "metadata": {},
   "outputs": [
    {
     "data": {
      "text/plain": [
       "0.14858526227425917"
      ]
     },
     "execution_count": 6,
     "metadata": {},
     "output_type": "execute_result"
    }
   ],
   "source": [
    "gmean(g_slasx) -1"
   ]
  },
  {
   "cell_type": "markdown",
   "metadata": {},
   "source": [
    "\\begin{equation*}\n",
    "G = \\sqrt[n]{x_{1}x_{2}...x_{n}}\n",
    "\\end{equation*}with $X_{i}≥0$ for i=1,2,…,n.\n"
   ]
  },
  {
   "cell_type": "code",
   "execution_count": 7,
   "metadata": {},
   "outputs": [
    {
     "data": {
      "text/plain": [
       "15.429999999999998"
      ]
     },
     "execution_count": 7,
     "metadata": {},
     "output_type": "execute_result"
    }
   ],
   "source": [
    "# Calculate the arithmetic mean return of SLASX and contrast it to the fund’s geometric mean return\n",
    "df['Selected American Shares (SLASX) %'].mean()"
   ]
  },
  {
   "cell_type": "code",
   "execution_count": 8,
   "metadata": {},
   "outputs": [
    {
     "data": {
      "text/plain": [
       "0.1249999599109004"
      ]
     },
     "execution_count": 8,
     "metadata": {},
     "output_type": "execute_result"
    }
   ],
   "source": [
    "# Calculate the geometric mean return of PRFDX\n",
    "g_prfdx = list(map(lambda i: i/100+1, df['T. Rowe Price Equity Income (PRFDX)%'].tolist()))\n",
    "gmean(g_prfdx) - 1"
   ]
  },
  {
   "cell_type": "code",
   "execution_count": 9,
   "metadata": {},
   "outputs": [
    {
     "data": {
      "text/plain": [
       "13.262"
      ]
     },
     "execution_count": 9,
     "metadata": {},
     "output_type": "execute_result"
    }
   ],
   "source": [
    "# Calculate the arithmetic mean return of PRFDX and contrast it to the fund’s geometric mean return\n",
    "df['T. Rowe Price Equity Income (PRFDX)%'].mean()"
   ]
  },
  {
   "cell_type": "markdown",
   "metadata": {},
   "source": [
    "## Harmonic Mean and Weighted Mean\n",
    "<br>\n",
    "Use case 1: \"Cost averaging\" which requires periodic investment of a fixed amount of money. "
   ]
  },
  {
   "cell_type": "code",
   "execution_count": 10,
   "metadata": {},
   "outputs": [],
   "source": [
    "import statistics"
   ]
  },
  {
   "cell_type": "code",
   "execution_count": 11,
   "metadata": {},
   "outputs": [],
   "source": [
    "price_per_share = [12.1, 13.5, 17, 11.98, 15]"
   ]
  },
  {
   "cell_type": "code",
   "execution_count": 12,
   "metadata": {},
   "outputs": [
    {
     "name": "stdout",
     "output_type": "stream",
     "text": [
      "Harmonic Mean is 13.67310629317005 \n"
     ]
    }
   ],
   "source": [
    "print(\"Harmonic Mean is % s \" % (statistics.harmonic_mean(price_per_share))) "
   ]
  },
  {
   "cell_type": "markdown",
   "metadata": {},
   "source": [
    "## Quantiles"
   ]
  },
  {
   "cell_type": "markdown",
   "metadata": {},
   "source": [
    "**Real time data application**"
   ]
  },
  {
   "cell_type": "code",
   "execution_count": 13,
   "metadata": {},
   "outputs": [],
   "source": [
    "# Web scraping Euro Stoxx 50 data\n",
    "import csv\n",
    "from urllib.request import urlopen\n",
    "from bs4 import BeautifulSoup\n",
    "\n",
    "html = urlopen(\"https://www.dividendmax.com/market-index-constituents/euro-stoxx-50\")\n",
    "soup = BeautifulSoup(html, \"html.parser\")\n",
    "table = soup.findAll(\"table\")[0]\n",
    "rows = table.findAll(\"tr\")\n",
    "\n",
    "with open(\"editors.csv\", \"wt+\", newline=\"\") as f:\n",
    "    writer = csv.writer(f)\n",
    "    for row in rows:\n",
    "        csv_row = []\n",
    "        for cell in row.findAll([\"td\", \"th\"]):\n",
    "            csv_row.append(cell.get_text())\n",
    "        writer.writerow(csv_row)"
   ]
  },
  {
   "cell_type": "code",
   "execution_count": 14,
   "metadata": {},
   "outputs": [],
   "source": [
    "euro_stoxx = pd.read_csv('editors.csv')"
   ]
  },
  {
   "cell_type": "code",
   "execution_count": 25,
   "metadata": {},
   "outputs": [
    {
     "data": {
      "text/html": [
       "<div>\n",
       "<style scoped>\n",
       "    .dataframe tbody tr th:only-of-type {\n",
       "        vertical-align: middle;\n",
       "    }\n",
       "\n",
       "    .dataframe tbody tr th {\n",
       "        vertical-align: top;\n",
       "    }\n",
       "\n",
       "    .dataframe thead th {\n",
       "        text-align: right;\n",
       "    }\n",
       "</style>\n",
       "<table border=\"1\" class=\"dataframe\">\n",
       "  <thead>\n",
       "    <tr style=\"text-align: right;\">\n",
       "      <th></th>\n",
       "      <th>Company</th>\n",
       "      <th>Exchange</th>\n",
       "      <th>Price</th>\n",
       "      <th>Currency</th>\n",
       "      <th>\\nMarket Cap\\n\\n</th>\n",
       "    </tr>\n",
       "  </thead>\n",
       "  <tbody>\n",
       "    <tr>\n",
       "      <th>0</th>\n",
       "      <td>🇫🇷AIAir Liquide S.A</td>\n",
       "      <td>Euronext Paris (France)</td>\n",
       "      <td>135.55</td>\n",
       "      <td>EUR</td>\n",
       "      <td>€42.3bn</td>\n",
       "    </tr>\n",
       "    <tr>\n",
       "      <th>1</th>\n",
       "      <td>🇩🇪ALVAllianz SE</td>\n",
       "      <td>Frankfurt Stock Exchange (Germany)</td>\n",
       "      <td>164.38</td>\n",
       "      <td>EUR</td>\n",
       "      <td>€74.2bn</td>\n",
       "    </tr>\n",
       "    <tr>\n",
       "      <th>2</th>\n",
       "      <td>🇧🇪ABIAnheuser-Busch In Bev SA/NV</td>\n",
       "      <td>Euronext Brussels (Belgium)</td>\n",
       "      <td>44.78</td>\n",
       "      <td>EUR</td>\n",
       "      <td>€71.9bn</td>\n",
       "    </tr>\n",
       "    <tr>\n",
       "      <th>3</th>\n",
       "      <td>🇱🇺MTLArcelorMittal</td>\n",
       "      <td>Luxembourg Stock Exchange (Luxembourg)</td>\n",
       "      <td>12.94</td>\n",
       "      <td>EUR</td>\n",
       "      <td>€19.5bn</td>\n",
       "    </tr>\n",
       "    <tr>\n",
       "      <th>4</th>\n",
       "      <td>🇳🇱ASMLASML Holding NV</td>\n",
       "      <td>Euronext Amsterdam (Netherlands)</td>\n",
       "      <td>308.15</td>\n",
       "      <td>EUR</td>\n",
       "      <td>€129.4bn</td>\n",
       "    </tr>\n",
       "  </tbody>\n",
       "</table>\n",
       "</div>"
      ],
      "text/plain": [
       "                            Company                                Exchange  \\\n",
       "0               🇫🇷AIAir Liquide S.A                 Euronext Paris (France)   \n",
       "1                   🇩🇪ALVAllianz SE      Frankfurt Stock Exchange (Germany)   \n",
       "2  🇧🇪ABIAnheuser-Busch In Bev SA/NV             Euronext Brussels (Belgium)   \n",
       "3                🇱🇺MTLArcelorMittal  Luxembourg Stock Exchange (Luxembourg)   \n",
       "4             🇳🇱ASMLASML Holding NV        Euronext Amsterdam (Netherlands)   \n",
       "\n",
       "    Price Currency \\nMarket Cap\\n\\n  \n",
       "0  135.55      EUR          €42.3bn  \n",
       "1  164.38      EUR          €74.2bn  \n",
       "2   44.78      EUR          €71.9bn  \n",
       "3   12.94      EUR          €19.5bn  \n",
       "4  308.15      EUR         €129.4bn  "
      ]
     },
     "execution_count": 25,
     "metadata": {},
     "output_type": "execute_result"
    }
   ],
   "source": [
    "euro_stoxx.head()"
   ]
  },
  {
   "cell_type": "markdown",
   "metadata": {},
   "source": [
    "Quantiles in practice: determing or approximating the value of a percentile (when the location is not a whole number). "
   ]
  },
  {
   "cell_type": "markdown",
   "metadata": {},
   "source": [
    "\\begin{equation*}\n",
    "L_{y} = (n+1) * \\frac{y}{100}\n",
    "\\end{equation*}"
   ]
  },
  {
   "cell_type": "code",
   "execution_count": 124,
   "metadata": {},
   "outputs": [],
   "source": [
    "# Make a function for calculating Ly with a given column and desired percentile\n",
    "def loc_y(column, percentile):\n",
    "    n = len(column)\n",
    "    loc = (n+1)*percentile/100\n",
    "    return loc"
   ]
  },
  {
   "cell_type": "markdown",
   "metadata": {},
   "source": [
    "#### Situation I\n",
    "When the location, $L_{y}$, is a whole number, the location corresponds to an actual observation. \n",
    "<br>$X_{i}$ is defined as the value of the observation in the ith ($i = L_{60}$) position of the data sorted in ascending order (i.e., $P_{30} =8.16$)."
   ]
  },
  {
   "cell_type": "markdown",
   "metadata": {},
   "source": [
    "#### Situation II\n",
    "When $L_{y}$ is not a whole number or integer, $L_{y}$ lies between the two closest integer numbers (one above and one below), and we use **linear interpolation** between those two places to determine $P_{y}$."
   ]
  },
  {
   "cell_type": "markdown",
   "metadata": {},
   "source": [
    "Making a function to calculate $P_{y}$ given an array (observation) and the percentile of interest. "
   ]
  },
  {
   "cell_type": "markdown",
   "metadata": {},
   "source": [
    "**Practice based on CFA textbook example data:**"
   ]
  },
  {
   "cell_type": "code",
   "execution_count": 36,
   "metadata": {},
   "outputs": [],
   "source": [
    "his_euro_stoxx = pd.read_csv('euro_stoxx_2018_nov.csv', delimiter=';')"
   ]
  },
  {
   "cell_type": "code",
   "execution_count": 38,
   "metadata": {},
   "outputs": [
    {
     "data": {
      "text/html": [
       "<div>\n",
       "<style scoped>\n",
       "    .dataframe tbody tr th:only-of-type {\n",
       "        vertical-align: middle;\n",
       "    }\n",
       "\n",
       "    .dataframe tbody tr th {\n",
       "        vertical-align: top;\n",
       "    }\n",
       "\n",
       "    .dataframe thead th {\n",
       "        text-align: right;\n",
       "    }\n",
       "</style>\n",
       "<table border=\"1\" class=\"dataframe\">\n",
       "  <thead>\n",
       "    <tr style=\"text-align: right;\">\n",
       "      <th></th>\n",
       "      <th>No.</th>\n",
       "      <th>Company</th>\n",
       "      <th>Market Cap (Euro Billion)</th>\n",
       "    </tr>\n",
       "  </thead>\n",
       "  <tbody>\n",
       "    <tr>\n",
       "      <th>0</th>\n",
       "      <td>1</td>\n",
       "      <td>RWE</td>\n",
       "      <td>9.9</td>\n",
       "    </tr>\n",
       "    <tr>\n",
       "      <th>1</th>\n",
       "      <td>2</td>\n",
       "      <td>Carrefour</td>\n",
       "      <td>12.2</td>\n",
       "    </tr>\n",
       "    <tr>\n",
       "      <th>2</th>\n",
       "      <td>3</td>\n",
       "      <td>E.ON</td>\n",
       "      <td>15.5</td>\n",
       "    </tr>\n",
       "    <tr>\n",
       "      <th>3</th>\n",
       "      <td>4</td>\n",
       "      <td>Inditex</td>\n",
       "      <td>15.5</td>\n",
       "    </tr>\n",
       "    <tr>\n",
       "      <th>4</th>\n",
       "      <td>5</td>\n",
       "      <td>Unibail Rodamco</td>\n",
       "      <td>16.1</td>\n",
       "    </tr>\n",
       "  </tbody>\n",
       "</table>\n",
       "</div>"
      ],
      "text/plain": [
       "   No.          Company  Market Cap (Euro Billion)\n",
       "0    1              RWE                        9.9\n",
       "1    2        Carrefour                       12.2\n",
       "2    3             E.ON                       15.5\n",
       "3    4          Inditex                       15.5\n",
       "4    5  Unibail Rodamco                       16.1"
      ]
     },
     "execution_count": 38,
     "metadata": {},
     "output_type": "execute_result"
    }
   ],
   "source": [
    "his_euro_stoxx.head()"
   ]
  },
  {
   "cell_type": "code",
   "execution_count": 193,
   "metadata": {},
   "outputs": [],
   "source": [
    "# 1. Turn the column into a list and sort ascending\n",
    "# 2. Get location\n",
    "# 3. Calculate Py based on the location: if y is integer, direct indexing; if not an integer, use linear interpolation\n",
    "def p_given_percent(column, percentile):\n",
    "    list1 = column.tolist()\n",
    "    sorted_list = sorted(list1)\n",
    "    n = len(sorted_list)\n",
    "    loc = (n+1)*percentile/100\n",
    "    if loc.is_integer():\n",
    "        print('Ly is an integer,', percentile, '% of data lies at or below Py =', sorted_list[(int(loc)-1)])\n",
    "    else:\n",
    "        i = int(loc)\n",
    "        P_approx = float(sorted_list[i-1]) + (float(loc) - i) * (float(sorted_list[i]) - float(sorted_list[i-1]))\n",
    "        print('Ly is not an integer, Py is approximately', P_approx, sorted_list[i-1], 'and', sorted_list[i], 'bracket Py from below and above, respectively.')\n",
    "        \n",
    "# WIP        "
   ]
  },
  {
   "cell_type": "code",
   "execution_count": 147,
   "metadata": {},
   "outputs": [],
   "source": [
    "?isinstance"
   ]
  },
  {
   "cell_type": "code",
   "execution_count": 194,
   "metadata": {},
   "outputs": [
    {
     "name": "stdout",
     "output_type": "stream",
     "text": [
      "Ly is not an integer, Py is approximately 16.16 16.1 and 16.7 bracket Py from below and above, respectively.\n"
     ]
    }
   ],
   "source": [
    "# 10th percentile     \n",
    "p_given_percent(his_euro_stoxx['Market Cap (Euro Billion)'], 10)"
   ]
  },
  {
   "cell_type": "code",
   "execution_count": 195,
   "metadata": {},
   "outputs": [
    {
     "name": "stdout",
     "output_type": "stream",
     "text": [
      "Ly is not an integer, Py is approximately 104.7 104.7 and 104.7 bracket Py from below and above, respectively.\n"
     ]
    }
   ],
   "source": [
    "# 90th percentile     \n",
    "p_given_percent(his_euro_stoxx['Market Cap (Euro Billion)'], 90)"
   ]
  },
  {
   "cell_type": "code",
   "execution_count": 196,
   "metadata": {},
   "outputs": [
    {
     "name": "stdout",
     "output_type": "stream",
     "text": [
      "Ly is not an integer, Py is approximately 37.5 36.6 and 38.4 bracket Py from below and above, respectively.\n"
     ]
    }
   ],
   "source": [
    "# Second quartile\n",
    "p_given_percent(his_euro_stoxx['Market Cap (Euro Billion)'], 50)"
   ]
  },
  {
   "cell_type": "code",
   "execution_count": 197,
   "metadata": {},
   "outputs": [
    {
     "name": "stdout",
     "output_type": "stream",
     "text": [
      "Ly is not an integer, Py is approximately 20.52 20.1 and 22.2 bracket Py from below and above, respectively.\n"
     ]
    }
   ],
   "source": [
    "# First quintile \n",
    "p_given_percent(his_euro_stoxx['Market Cap (Euro Billion)'], 20)"
   ]
  },
  {
   "cell_type": "code",
   "execution_count": 199,
   "metadata": {},
   "outputs": [
    {
     "data": {
      "text/plain": [
       "37.5"
      ]
     },
     "execution_count": 199,
     "metadata": {},
     "output_type": "execute_result"
    }
   ],
   "source": [
    "# Value of the median\n",
    "np.median(his_euro_stoxx['Market Cap (Euro Billion)'])"
   ]
  },
  {
   "cell_type": "code",
   "execution_count": null,
   "metadata": {},
   "outputs": [],
   "source": [
    "# How many quintiles are there, and to what percentiles do the quintiles correspond? \n",
    "# Answer: 4, P20, P40, P60 and P80"
   ]
  },
  {
   "cell_type": "markdown",
   "metadata": {},
   "source": [
    "Real time Euro Stoxx data application. Example 1 with $L_{y}$ as a whole number. "
   ]
  },
  {
   "cell_type": "markdown",
   "metadata": {},
   "source": [
    "**Solution 1.** Step by step"
   ]
  },
  {
   "cell_type": "code",
   "execution_count": 172,
   "metadata": {},
   "outputs": [],
   "source": [
    "# Change Price data type as float, get rid of € symbol\n",
    "euro_stoxx['Price'] = euro_stoxx['Price'].str.replace('€', '')\n",
    "price = pd.to_numeric(euro_stoxx['Price']).tolist()\n",
    "price = sorted(price)"
   ]
  },
  {
   "cell_type": "code",
   "execution_count": 182,
   "metadata": {},
   "outputs": [
    {
     "data": {
      "text/plain": [
       "30.0"
      ]
     },
     "execution_count": 182,
     "metadata": {},
     "output_type": "execute_result"
    }
   ],
   "source": [
    "# Obtaining the location (i) at 60th percentile\n",
    "loc_y(euro_stoxx['Company'], 60)"
   ]
  },
  {
   "cell_type": "markdown",
   "metadata": {},
   "source": [
    "Since $L_{y}$ is a whole number, $P_{60}$ = $X_{30}$"
   ]
  },
  {
   "cell_type": "code",
   "execution_count": 167,
   "metadata": {},
   "outputs": [
    {
     "data": {
      "text/plain": [
       "44.49"
      ]
     },
     "execution_count": 167,
     "metadata": {},
     "output_type": "execute_result"
    }
   ],
   "source": [
    "# Get value of X30 (= P60)\n",
    "price[29]"
   ]
  },
  {
   "cell_type": "markdown",
   "metadata": {},
   "source": [
    "**Solution 2.** Using `p_given_stoxx()` funtion"
   ]
  },
  {
   "cell_type": "code",
   "execution_count": 198,
   "metadata": {
    "scrolled": true
   },
   "outputs": [
    {
     "name": "stdout",
     "output_type": "stream",
     "text": [
      "Ly is an integer, 60 % of data lies at or below Py = 35.08\n"
     ]
    }
   ],
   "source": [
    "# Using p_given_percent() funtion:\n",
    "p_given_percent(euro_stoxx['Price'], 60)"
   ]
  },
  {
   "cell_type": "markdown",
   "metadata": {},
   "source": [
    "60% of the values in this data set lies at or below €44.78 in price.  "
   ]
  },
  {
   "cell_type": "markdown",
   "metadata": {},
   "source": [
    "**Solution 3.** Using Numpy's `percentile` function"
   ]
  },
  {
   "cell_type": "markdown",
   "metadata": {},
   "source": [
    "To verify the above calculation for future efficiency, I proceed with using Numpy's `percentile` function to obtain the value. "
   ]
  },
  {
   "cell_type": "code",
   "execution_count": 169,
   "metadata": {},
   "outputs": [
    {
     "data": {
      "text/plain": [
       "43.27399999999999"
      ]
     },
     "execution_count": 169,
     "metadata": {},
     "output_type": "execute_result"
    }
   ],
   "source": [
    "# Obtain the value at 60th percentile\n",
    "np.percentile(price, 60)\n",
    "# But this is not in the observation, what went wrong?"
   ]
  },
  {
   "cell_type": "markdown",
   "metadata": {},
   "source": [
    "Example 2 with $L_{y}$ as a fraction.  "
   ]
  },
  {
   "cell_type": "markdown",
   "metadata": {},
   "source": [
    "**Solution 1.** Step by step"
   ]
  },
  {
   "cell_type": "code",
   "execution_count": 204,
   "metadata": {},
   "outputs": [
    {
     "name": "stdout",
     "output_type": "stream",
     "text": [
      "The location is at 37.5\n"
     ]
    }
   ],
   "source": [
    "# Obtaining the location (i) at 75th percentile\n",
    "print('The location is at', loc_y(euro_stoxx['Company'], 75))"
   ]
  },
  {
   "cell_type": "markdown",
   "metadata": {},
   "source": [
    "The value of $P_{y}$ need to be approximated between $X_{37}$ and $X_{38}$."
   ]
  },
  {
   "cell_type": "code",
   "execution_count": 207,
   "metadata": {},
   "outputs": [],
   "source": [
    "# Obtain values on both sides of Ly\n",
    "X37 = price[36]\n",
    "X38 = price[37]"
   ]
  },
  {
   "cell_type": "code",
   "execution_count": 208,
   "metadata": {},
   "outputs": [
    {
     "data": {
      "text/plain": [
       "79.1"
      ]
     },
     "execution_count": 208,
     "metadata": {},
     "output_type": "execute_result"
    }
   ],
   "source": [
    "# Linear interpolation\n",
    "P75_approx = X37 + (37.5 - 37) * (X38 - X37)\n",
    "P75_approx"
   ]
  },
  {
   "cell_type": "markdown",
   "metadata": {},
   "source": [
    "**Solution 2.** Using `p_given_percent()` function"
   ]
  },
  {
   "cell_type": "code",
   "execution_count": 176,
   "metadata": {},
   "outputs": [
    {
     "name": "stdout",
     "output_type": "stream",
     "text": [
      "Ly is not an integer, Py is 28.26\n"
     ]
    }
   ],
   "source": [
    "p_given_percent(euro_stoxx['Price'], 75)"
   ]
  },
  {
   "cell_type": "markdown",
   "metadata": {},
   "source": [
    "**Solution 3.** Verify with Numpy `percentile`"
   ]
  },
  {
   "cell_type": "code",
   "execution_count": 173,
   "metadata": {},
   "outputs": [
    {
     "data": {
      "text/plain": [
       "71.06"
      ]
     },
     "execution_count": 173,
     "metadata": {},
     "output_type": "execute_result"
    }
   ],
   "source": [
    "# Obtain the value at 75th percentile\n",
    "np.percentile(price, 75)"
   ]
  },
  {
   "cell_type": "markdown",
   "metadata": {},
   "source": [
    "## Quantiles in Investment Practice\n",
    "<br>\n",
    "Quantiles are used in portfolio performance evaluation as well as in investment strategy development and research."
   ]
  },
  {
   "cell_type": "markdown",
   "metadata": {},
   "source": [
    "**User case 1. Ranking performance—for example, the performance of portfolios.**<br>\n"
   ]
  },
  {
   "cell_type": "code",
   "execution_count": null,
   "metadata": {},
   "outputs": [],
   "source": []
  },
  {
   "cell_type": "markdown",
   "metadata": {},
   "source": [
    "**User case 2. Investment research<br>**\n",
    "Analysts refer to a group defined by a particular quantile as that quantile. For example, analysts often refer to the set of companies with returns falling below the 10th percentile cutoff point as the bottom return decile. Dividing data into quantiles based on some characteristic allows analysts to evaluate the impact of that characteristic on a quantity of interest. For instance, empirical finance studies commonly rank companies based on the market value of their equity and then sort them into deciles. The 1st decile contains the portfolio of those companies with the smallest market values, and the 10th decile contains those companies with the largest market value. Ranking companies by decile allows analysts to compare the performance of small companies with large ones."
   ]
  },
  {
   "cell_type": "code",
   "execution_count": null,
   "metadata": {},
   "outputs": [],
   "source": []
  },
  {
   "cell_type": "markdown",
   "metadata": {},
   "source": [
    "**Investment style based on liquidity**<br>\n",
    "Ibbotson et al. (2018): Investment style based on liquidity—buying stocks of less liquid stocks and selling stocks of more liquid stocks.<br>\n",
    "Computed:\n",
    "- yearly measures of liquidity as the annual share turnover (the sum of the 12 monthly volumes divided by each month’s shares outstanding);\n",
    "- size as the year-end market capitalization; \n",
    "- value as the trailing earnings-to-price ratio as of the year end;\n",
    "- momentum as the annual return. "
   ]
  },
  {
   "cell_type": "markdown",
   "metadata": {},
   "source": [
    "Step 1. assigned one-fourth of the total sample with the lowest liquidity in a year to Quartile 1 and the one-fourth with the highest liquidity in that year to Quartile 4."
   ]
  },
  {
   "cell_type": "markdown",
   "metadata": {},
   "source": [
    "Step 2. treating each quartile group as a portfolio composed of equally weighted stocks, they measured the returns on each liquidity quartile in the following year (so that the quartiles are constructed “before the fact”.) "
   ]
  },
  {
   "cell_type": "code",
   "execution_count": null,
   "metadata": {},
   "outputs": [],
   "source": []
  },
  {
   "cell_type": "markdown",
   "metadata": {},
   "source": [
    "## Measure of Dispersion\n",
    "The most common measures of *(absolute) dispersion*: range, mean absolute deviation, variance, and standard deviation."
   ]
  },
  {
   "cell_type": "markdown",
   "metadata": {},
   "source": [
    "#### Mean Absolute Deviation (MAD)"
   ]
  },
  {
   "cell_type": "code",
   "execution_count": null,
   "metadata": {},
   "outputs": [],
   "source": [
    "pd.to"
   ]
  },
  {
   "cell_type": "code",
   "execution_count": 218,
   "metadata": {},
   "outputs": [
    {
     "data": {
      "text/plain": [
       "nan"
      ]
     },
     "execution_count": 218,
     "metadata": {},
     "output_type": "execute_result"
    }
   ],
   "source": [
    "euro_stoxx['Price'].mad()"
   ]
  },
  {
   "cell_type": "code",
   "execution_count": 219,
   "metadata": {},
   "outputs": [
    {
     "data": {
      "text/plain": [
       "59.49108704706372"
      ]
     },
     "execution_count": 219,
     "metadata": {},
     "output_type": "execute_result"
    }
   ],
   "source": [
    "pd.Series(price).mad()"
   ]
  },
  {
   "cell_type": "code",
   "execution_count": null,
   "metadata": {},
   "outputs": [],
   "source": []
  }
 ],
 "metadata": {
  "kernelspec": {
   "display_name": "Python 3",
   "language": "python",
   "name": "python3"
  },
  "language_info": {
   "codemirror_mode": {
    "name": "ipython",
    "version": 3
   },
   "file_extension": ".py",
   "mimetype": "text/x-python",
   "name": "python",
   "nbconvert_exporter": "python",
   "pygments_lexer": "ipython3",
   "version": "3.7.3"
  }
 },
 "nbformat": 4,
 "nbformat_minor": 4
}
