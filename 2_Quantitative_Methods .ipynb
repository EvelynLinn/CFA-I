{
 "cells": [
  {
   "cell_type": "markdown",
   "metadata": {},
   "source": [
    "# Quantitative Methods Part I"
   ]
  },
  {
   "cell_type": "code",
   "execution_count": 73,
   "metadata": {},
   "outputs": [],
   "source": [
    "import pandas as pd\n",
    "import numpy as np"
   ]
  },
  {
   "cell_type": "markdown",
   "metadata": {},
   "source": [
    "## Geometric Mean"
   ]
  },
  {
   "cell_type": "code",
   "execution_count": 74,
   "metadata": {},
   "outputs": [],
   "source": [
    "from scipy.stats.mstats import gmean "
   ]
  },
  {
   "cell_type": "code",
   "execution_count": 75,
   "metadata": {},
   "outputs": [
    {
     "data": {
      "text/html": [
       "<div>\n",
       "<style scoped>\n",
       "    .dataframe tbody tr th:only-of-type {\n",
       "        vertical-align: middle;\n",
       "    }\n",
       "\n",
       "    .dataframe tbody tr th {\n",
       "        vertical-align: top;\n",
       "    }\n",
       "\n",
       "    .dataframe thead th {\n",
       "        text-align: right;\n",
       "    }\n",
       "</style>\n",
       "<table border=\"1\" class=\"dataframe\">\n",
       "  <thead>\n",
       "    <tr style=\"text-align: right;\">\n",
       "      <th></th>\n",
       "      <th>Year</th>\n",
       "      <th>Selected American Shares (SLASX) %</th>\n",
       "      <th>T. Rowe Price Equity Income (PRFDX)%</th>\n",
       "    </tr>\n",
       "  </thead>\n",
       "  <tbody>\n",
       "    <tr>\n",
       "      <th>0</th>\n",
       "      <td>2013</td>\n",
       "      <td>34.90</td>\n",
       "      <td>31.69</td>\n",
       "    </tr>\n",
       "    <tr>\n",
       "      <th>1</th>\n",
       "      <td>2014</td>\n",
       "      <td>6.13</td>\n",
       "      <td>7.75</td>\n",
       "    </tr>\n",
       "    <tr>\n",
       "      <th>2</th>\n",
       "      <td>2015</td>\n",
       "      <td>2.69</td>\n",
       "      <td>-7.56</td>\n",
       "    </tr>\n",
       "    <tr>\n",
       "      <th>3</th>\n",
       "      <td>2016</td>\n",
       "      <td>11.66</td>\n",
       "      <td>18.25</td>\n",
       "    </tr>\n",
       "    <tr>\n",
       "      <th>4</th>\n",
       "      <td>2017</td>\n",
       "      <td>21.77</td>\n",
       "      <td>16.18</td>\n",
       "    </tr>\n",
       "  </tbody>\n",
       "</table>\n",
       "</div>"
      ],
      "text/plain": [
       "   Year  Selected American Shares (SLASX) %  \\\n",
       "0  2013                               34.90   \n",
       "1  2014                                6.13   \n",
       "2  2015                                2.69   \n",
       "3  2016                               11.66   \n",
       "4  2017                               21.77   \n",
       "\n",
       "   T. Rowe Price Equity Income (PRFDX)%  \n",
       "0                                 31.69  \n",
       "1                                  7.75  \n",
       "2                                 -7.56  \n",
       "3                                 18.25  \n",
       "4                                 16.18  "
      ]
     },
     "execution_count": 75,
     "metadata": {},
     "output_type": "execute_result"
    }
   ],
   "source": [
    "# The most recent five years of total returns for two US large-cap value equity mutual funds in 2018\n",
    "d = {'Year': [2013, 2014, 2015, 2016, 2017], \n",
    "     'Selected American Shares (SLASX) %': [34.90, 6.13, 2.69, 11.66, 21.77], \n",
    "     'T. Rowe Price Equity Income (PRFDX)%':[31.69, 7.75, -7.56, 18.25, 16.18]}\n",
    "df = pd.DataFrame(data=d)\n",
    "df"
   ]
  },
  {
   "cell_type": "code",
   "execution_count": 76,
   "metadata": {},
   "outputs": [],
   "source": [
    "# Calculate the geometric mean return of SLASX\n",
    "slasx = df['Selected American Shares (SLASX) %'].tolist()"
   ]
  },
  {
   "cell_type": "markdown",
   "metadata": {},
   "source": [
    "\\begin{equation*}\n",
    "R_{t} + 1 = \\sqrt[t]{(1+R_{1})(1+R_{2})...(1+R_{t})}\n",
    "\\end{equation*}\n"
   ]
  },
  {
   "cell_type": "code",
   "execution_count": 77,
   "metadata": {},
   "outputs": [],
   "source": [
    "# Redefine returns to make them positive by adding 1.0\n",
    "g_slasx = list(map(lambda i: i/100+1, slasx))"
   ]
  },
  {
   "cell_type": "code",
   "execution_count": 78,
   "metadata": {},
   "outputs": [
    {
     "data": {
      "text/plain": [
       "0.14858526227425917"
      ]
     },
     "execution_count": 78,
     "metadata": {},
     "output_type": "execute_result"
    }
   ],
   "source": [
    "gmean(g_slasx) -1"
   ]
  },
  {
   "cell_type": "markdown",
   "metadata": {},
   "source": [
    "\\begin{equation*}\n",
    "G = \\sqrt[n]{x_{1}x_{2}...x_{n}}\n",
    "\\end{equation*}with $X_{i}≥0$ for i=1,2,…,n.\n"
   ]
  },
  {
   "cell_type": "code",
   "execution_count": 79,
   "metadata": {},
   "outputs": [
    {
     "data": {
      "text/plain": [
       "15.429999999999998"
      ]
     },
     "execution_count": 79,
     "metadata": {},
     "output_type": "execute_result"
    }
   ],
   "source": [
    "# Calculate the arithmetic mean return of SLASX and contrast it to the fund’s geometric mean return\n",
    "df['Selected American Shares (SLASX) %'].mean()"
   ]
  },
  {
   "cell_type": "code",
   "execution_count": 80,
   "metadata": {},
   "outputs": [
    {
     "data": {
      "text/plain": [
       "0.1249999599109004"
      ]
     },
     "execution_count": 80,
     "metadata": {},
     "output_type": "execute_result"
    }
   ],
   "source": [
    "# Calculate the geometric mean return of PRFDX\n",
    "g_prfdx = list(map(lambda i: i/100+1, df['T. Rowe Price Equity Income (PRFDX)%'].tolist()))\n",
    "gmean(g_prfdx) - 1"
   ]
  },
  {
   "cell_type": "code",
   "execution_count": 81,
   "metadata": {},
   "outputs": [
    {
     "data": {
      "text/plain": [
       "13.262"
      ]
     },
     "execution_count": 81,
     "metadata": {},
     "output_type": "execute_result"
    }
   ],
   "source": [
    "# Calculate the arithmetic mean return of PRFDX and contrast it to the fund’s geometric mean return\n",
    "df['T. Rowe Price Equity Income (PRFDX)%'].mean()"
   ]
  },
  {
   "cell_type": "markdown",
   "metadata": {},
   "source": [
    "#### Using Geometric and Arithmetic Mean\n",
    "Goal 1. Explain the choice of the said mean values in different context. "
   ]
  },
  {
   "cell_type": "markdown",
   "metadata": {},
   "source": [
    "*$R_{G}$ for historic performance with semilogarithmic scales* "
   ]
  },
  {
   "cell_type": "code",
   "execution_count": null,
   "metadata": {},
   "outputs": [],
   "source": []
  },
  {
   "cell_type": "code",
   "execution_count": 82,
   "metadata": {},
   "outputs": [],
   "source": [
    "# y-axis in log scale\n"
   ]
  },
  {
   "cell_type": "markdown",
   "metadata": {},
   "source": [
    "*$\\bar{X}$ for expected returns*"
   ]
  },
  {
   "cell_type": "code",
   "execution_count": null,
   "metadata": {},
   "outputs": [],
   "source": []
  },
  {
   "cell_type": "code",
   "execution_count": null,
   "metadata": {},
   "outputs": [],
   "source": []
  },
  {
   "cell_type": "markdown",
   "metadata": {},
   "source": [
    "## Harmonic Mean and Weighted Mean\n",
    "<br>\n",
    "Use case 1: \"Cost averaging\" which requires periodic investment of a fixed amount of money. "
   ]
  },
  {
   "cell_type": "code",
   "execution_count": 83,
   "metadata": {},
   "outputs": [],
   "source": [
    "import statistics"
   ]
  },
  {
   "cell_type": "code",
   "execution_count": 84,
   "metadata": {},
   "outputs": [],
   "source": [
    "price_per_share = [12.1, 13.5, 17, 11.98, 15]"
   ]
  },
  {
   "cell_type": "code",
   "execution_count": 85,
   "metadata": {},
   "outputs": [
    {
     "name": "stdout",
     "output_type": "stream",
     "text": [
      "Harmonic Mean is 13.67310629317005 \n"
     ]
    }
   ],
   "source": [
    "print(\"Harmonic Mean is % s \" % (statistics.harmonic_mean(price_per_share))) "
   ]
  },
  {
   "cell_type": "markdown",
   "metadata": {},
   "source": [
    "#### Weighted Mean<Br>\n",
    "A portfolio’s return is a weighted mean return computed from the returns on the individual assets, where the weight applied to each asset’s return is the fraction of the portfolio invested in that asset."
   ]
  },
  {
   "cell_type": "markdown",
   "metadata": {},
   "source": [
    "## Quantiles"
   ]
  },
  {
   "cell_type": "markdown",
   "metadata": {},
   "source": [
    "**Real time data application**"
   ]
  },
  {
   "cell_type": "code",
   "execution_count": 86,
   "metadata": {},
   "outputs": [],
   "source": [
    "# Web scraping Euro Stoxx 50 data\n",
    "import csv\n",
    "from urllib.request import urlopen\n",
    "from bs4 import BeautifulSoup\n",
    "\n",
    "html = urlopen(\"https://www.dividendmax.com/market-index-constituents/euro-stoxx-50\")\n",
    "soup = BeautifulSoup(html, \"html.parser\")\n",
    "table = soup.findAll(\"table\")[0]\n",
    "rows = table.findAll(\"tr\")\n",
    "\n",
    "with open(\"editors.csv\", \"wt+\", newline=\"\") as f:\n",
    "    writer = csv.writer(f)\n",
    "    for row in rows:\n",
    "        csv_row = []\n",
    "        for cell in row.findAll([\"td\", \"th\"]):\n",
    "            csv_row.append(cell.get_text())\n",
    "        writer.writerow(csv_row)"
   ]
  },
  {
   "cell_type": "code",
   "execution_count": 87,
   "metadata": {},
   "outputs": [],
   "source": [
    "euro_stoxx = pd.read_csv('editors.csv')"
   ]
  },
  {
   "cell_type": "code",
   "execution_count": 88,
   "metadata": {},
   "outputs": [
    {
     "data": {
      "text/html": [
       "<div>\n",
       "<style scoped>\n",
       "    .dataframe tbody tr th:only-of-type {\n",
       "        vertical-align: middle;\n",
       "    }\n",
       "\n",
       "    .dataframe tbody tr th {\n",
       "        vertical-align: top;\n",
       "    }\n",
       "\n",
       "    .dataframe thead th {\n",
       "        text-align: right;\n",
       "    }\n",
       "</style>\n",
       "<table border=\"1\" class=\"dataframe\">\n",
       "  <thead>\n",
       "    <tr style=\"text-align: right;\">\n",
       "      <th></th>\n",
       "      <th>Company</th>\n",
       "      <th>Exchange</th>\n",
       "      <th>Price</th>\n",
       "      <th>Currency</th>\n",
       "      <th>\\nMarket Cap\\n\\n</th>\n",
       "    </tr>\n",
       "  </thead>\n",
       "  <tbody>\n",
       "    <tr>\n",
       "      <th>0</th>\n",
       "      <td>🇫🇷AIAir Liquide S.A</td>\n",
       "      <td>Euronext Paris (France)</td>\n",
       "      <td>€135.15</td>\n",
       "      <td>EUR</td>\n",
       "      <td>€42.2bn</td>\n",
       "    </tr>\n",
       "    <tr>\n",
       "      <th>1</th>\n",
       "      <td>🇩🇪ALVAllianz SE</td>\n",
       "      <td>Frankfurt Stock Exchange (Germany)</td>\n",
       "      <td>€162.80</td>\n",
       "      <td>EUR</td>\n",
       "      <td>€73.5bn</td>\n",
       "    </tr>\n",
       "    <tr>\n",
       "      <th>2</th>\n",
       "      <td>🇧🇪ABIAnheuser-Busch In Bev SA/NV</td>\n",
       "      <td>Euronext Brussels (Belgium)</td>\n",
       "      <td>€45.81</td>\n",
       "      <td>EUR</td>\n",
       "      <td>€73.6bn</td>\n",
       "    </tr>\n",
       "    <tr>\n",
       "      <th>3</th>\n",
       "      <td>🇱🇺MTLArcelorMittal</td>\n",
       "      <td>Luxembourg Stock Exchange (Luxembourg)</td>\n",
       "      <td>€12.94</td>\n",
       "      <td>EUR</td>\n",
       "      <td>€19.5bn</td>\n",
       "    </tr>\n",
       "    <tr>\n",
       "      <th>4</th>\n",
       "      <td>🇳🇱ASMLASML Holding NV</td>\n",
       "      <td>Euronext Amsterdam (Netherlands)</td>\n",
       "      <td>€319.90</td>\n",
       "      <td>EUR</td>\n",
       "      <td>€134.3bn</td>\n",
       "    </tr>\n",
       "  </tbody>\n",
       "</table>\n",
       "</div>"
      ],
      "text/plain": [
       "                            Company                                Exchange  \\\n",
       "0               🇫🇷AIAir Liquide S.A                 Euronext Paris (France)   \n",
       "1                   🇩🇪ALVAllianz SE      Frankfurt Stock Exchange (Germany)   \n",
       "2  🇧🇪ABIAnheuser-Busch In Bev SA/NV             Euronext Brussels (Belgium)   \n",
       "3                🇱🇺MTLArcelorMittal  Luxembourg Stock Exchange (Luxembourg)   \n",
       "4             🇳🇱ASMLASML Holding NV        Euronext Amsterdam (Netherlands)   \n",
       "\n",
       "     Price Currency \\nMarket Cap\\n\\n  \n",
       "0  €135.15      EUR          €42.2bn  \n",
       "1  €162.80      EUR          €73.5bn  \n",
       "2   €45.81      EUR          €73.6bn  \n",
       "3   €12.94      EUR          €19.5bn  \n",
       "4  €319.90      EUR         €134.3bn  "
      ]
     },
     "execution_count": 88,
     "metadata": {},
     "output_type": "execute_result"
    }
   ],
   "source": [
    "euro_stoxx.head()"
   ]
  },
  {
   "cell_type": "markdown",
   "metadata": {},
   "source": [
    "Quantiles in practice: determing or approximating the value of a percentile (when the location is not a whole number). "
   ]
  },
  {
   "cell_type": "markdown",
   "metadata": {},
   "source": [
    "\\begin{equation*}\n",
    "L_{y} = (n+1) * \\frac{y}{100}\n",
    "\\end{equation*}"
   ]
  },
  {
   "cell_type": "code",
   "execution_count": 89,
   "metadata": {},
   "outputs": [],
   "source": [
    "# Make a function for calculating Ly with a given column and desired percentile\n",
    "def loc_y(column, percentile):\n",
    "    n = len(column)\n",
    "    loc = (n+1)*percentile/100\n",
    "    return loc"
   ]
  },
  {
   "cell_type": "markdown",
   "metadata": {},
   "source": [
    "#### Situation I\n",
    "When the location, $L_{y}$, is a whole number, the location corresponds to an actual observation. \n",
    "<br>$X_{i}$ is defined as the value of the observation in the ith ($i = L_{60}$) position of the data sorted in ascending order (i.e., $P_{30} =8.16$)."
   ]
  },
  {
   "cell_type": "markdown",
   "metadata": {},
   "source": [
    "#### Situation II\n",
    "When $L_{y}$ is not a whole number or integer, $L_{y}$ lies between the two closest integer numbers (one above and one below), and we use **linear interpolation** between those two places to determine $P_{y}$."
   ]
  },
  {
   "cell_type": "markdown",
   "metadata": {},
   "source": [
    "Making a function to calculate $P_{y}$ given an array (observation) and the percentile of interest. "
   ]
  },
  {
   "cell_type": "markdown",
   "metadata": {},
   "source": [
    "**Practice based on CFA textbook example data:**"
   ]
  },
  {
   "cell_type": "code",
   "execution_count": 90,
   "metadata": {},
   "outputs": [],
   "source": [
    "his_euro_stoxx = pd.read_csv('euro_stoxx_2018_nov.csv', delimiter=';')"
   ]
  },
  {
   "cell_type": "code",
   "execution_count": 91,
   "metadata": {},
   "outputs": [
    {
     "data": {
      "text/html": [
       "<div>\n",
       "<style scoped>\n",
       "    .dataframe tbody tr th:only-of-type {\n",
       "        vertical-align: middle;\n",
       "    }\n",
       "\n",
       "    .dataframe tbody tr th {\n",
       "        vertical-align: top;\n",
       "    }\n",
       "\n",
       "    .dataframe thead th {\n",
       "        text-align: right;\n",
       "    }\n",
       "</style>\n",
       "<table border=\"1\" class=\"dataframe\">\n",
       "  <thead>\n",
       "    <tr style=\"text-align: right;\">\n",
       "      <th></th>\n",
       "      <th>No.</th>\n",
       "      <th>Company</th>\n",
       "      <th>Market Cap (Euro Billion)</th>\n",
       "    </tr>\n",
       "  </thead>\n",
       "  <tbody>\n",
       "    <tr>\n",
       "      <th>0</th>\n",
       "      <td>1</td>\n",
       "      <td>RWE</td>\n",
       "      <td>9.9</td>\n",
       "    </tr>\n",
       "    <tr>\n",
       "      <th>1</th>\n",
       "      <td>2</td>\n",
       "      <td>Carrefour</td>\n",
       "      <td>12.2</td>\n",
       "    </tr>\n",
       "    <tr>\n",
       "      <th>2</th>\n",
       "      <td>3</td>\n",
       "      <td>E.ON</td>\n",
       "      <td>15.5</td>\n",
       "    </tr>\n",
       "    <tr>\n",
       "      <th>3</th>\n",
       "      <td>4</td>\n",
       "      <td>Inditex</td>\n",
       "      <td>15.5</td>\n",
       "    </tr>\n",
       "    <tr>\n",
       "      <th>4</th>\n",
       "      <td>5</td>\n",
       "      <td>Unibail Rodamco</td>\n",
       "      <td>16.1</td>\n",
       "    </tr>\n",
       "  </tbody>\n",
       "</table>\n",
       "</div>"
      ],
      "text/plain": [
       "   No.          Company  Market Cap (Euro Billion)\n",
       "0    1              RWE                        9.9\n",
       "1    2        Carrefour                       12.2\n",
       "2    3             E.ON                       15.5\n",
       "3    4          Inditex                       15.5\n",
       "4    5  Unibail Rodamco                       16.1"
      ]
     },
     "execution_count": 91,
     "metadata": {},
     "output_type": "execute_result"
    }
   ],
   "source": [
    "his_euro_stoxx.head()"
   ]
  },
  {
   "cell_type": "code",
   "execution_count": 92,
   "metadata": {},
   "outputs": [],
   "source": [
    "# 1. Turn the column into a list and sort ascending\n",
    "# 2. Get location\n",
    "# 3. Calculate Py based on the location: if y is integer, direct indexing; if not an integer, use linear interpolation\n",
    "def p_given_percent(column, percentile):\n",
    "    list1 = column.tolist()\n",
    "    sorted_list = sorted(list1)\n",
    "    n = len(sorted_list)\n",
    "    loc = (n+1)*percentile/100\n",
    "    if loc.is_integer():\n",
    "        print('Ly is an integer,', percentile, '% of data lies at or below Py =', sorted_list[(int(loc)-1)])\n",
    "    else:\n",
    "        i = int(loc)\n",
    "        P_approx = float(sorted_list[i-1]) + (float(loc) - i) * (float(sorted_list[i]) - float(sorted_list[i-1]))\n",
    "        print('Ly is not an integer, Py is approximately', P_approx, sorted_list[i-1], 'and', sorted_list[i], 'bracket Py from below and above, respectively.')\n",
    "        \n",
    "# WIP        "
   ]
  },
  {
   "cell_type": "code",
   "execution_count": 93,
   "metadata": {},
   "outputs": [],
   "source": [
    "#?isinstance"
   ]
  },
  {
   "cell_type": "code",
   "execution_count": 94,
   "metadata": {},
   "outputs": [
    {
     "name": "stdout",
     "output_type": "stream",
     "text": [
      "Ly is not an integer, Py is approximately 16.16 16.1 and 16.7 bracket Py from below and above, respectively.\n"
     ]
    }
   ],
   "source": [
    "# 10th percentile     \n",
    "p_given_percent(his_euro_stoxx['Market Cap (Euro Billion)'], 10)"
   ]
  },
  {
   "cell_type": "code",
   "execution_count": 95,
   "metadata": {},
   "outputs": [
    {
     "name": "stdout",
     "output_type": "stream",
     "text": [
      "Ly is not an integer, Py is approximately 104.7 104.7 and 104.7 bracket Py from below and above, respectively.\n"
     ]
    }
   ],
   "source": [
    "# 90th percentile     \n",
    "p_given_percent(his_euro_stoxx['Market Cap (Euro Billion)'], 90)"
   ]
  },
  {
   "cell_type": "code",
   "execution_count": 96,
   "metadata": {},
   "outputs": [
    {
     "name": "stdout",
     "output_type": "stream",
     "text": [
      "Ly is not an integer, Py is approximately 37.5 36.6 and 38.4 bracket Py from below and above, respectively.\n"
     ]
    }
   ],
   "source": [
    "# Second quartile\n",
    "p_given_percent(his_euro_stoxx['Market Cap (Euro Billion)'], 50)"
   ]
  },
  {
   "cell_type": "code",
   "execution_count": 97,
   "metadata": {},
   "outputs": [
    {
     "name": "stdout",
     "output_type": "stream",
     "text": [
      "Ly is not an integer, Py is approximately 20.52 20.1 and 22.2 bracket Py from below and above, respectively.\n"
     ]
    }
   ],
   "source": [
    "# First quintile \n",
    "p_given_percent(his_euro_stoxx['Market Cap (Euro Billion)'], 20)"
   ]
  },
  {
   "cell_type": "code",
   "execution_count": 98,
   "metadata": {},
   "outputs": [
    {
     "data": {
      "text/plain": [
       "37.5"
      ]
     },
     "execution_count": 98,
     "metadata": {},
     "output_type": "execute_result"
    }
   ],
   "source": [
    "# Value of the median\n",
    "np.median(his_euro_stoxx['Market Cap (Euro Billion)'])"
   ]
  },
  {
   "cell_type": "code",
   "execution_count": 99,
   "metadata": {},
   "outputs": [],
   "source": [
    "# How many quintiles are there, and to what percentiles do the quintiles correspond? \n",
    "# Answer: 4, P20, P40, P60 and P80"
   ]
  },
  {
   "cell_type": "markdown",
   "metadata": {},
   "source": [
    "Real time Euro Stoxx data application. Example 1 with $L_{y}$ as a whole number. "
   ]
  },
  {
   "cell_type": "markdown",
   "metadata": {},
   "source": [
    "**Solution 1.** Step by step"
   ]
  },
  {
   "cell_type": "code",
   "execution_count": 100,
   "metadata": {},
   "outputs": [],
   "source": [
    "# Change Price data type as float, get rid of € symbol\n",
    "euro_stoxx['Price'] = euro_stoxx['Price'].str.replace('€', '')\n",
    "price = pd.to_numeric(euro_stoxx['Price']).tolist()\n",
    "price = sorted(price)"
   ]
  },
  {
   "cell_type": "code",
   "execution_count": 101,
   "metadata": {},
   "outputs": [
    {
     "data": {
      "text/plain": [
       "30.0"
      ]
     },
     "execution_count": 101,
     "metadata": {},
     "output_type": "execute_result"
    }
   ],
   "source": [
    "# Obtaining the location (i) at 60th percentile\n",
    "loc_y(euro_stoxx['Company'], 60)"
   ]
  },
  {
   "cell_type": "markdown",
   "metadata": {},
   "source": [
    "Since $L_{y}$ is a whole number, $P_{60}$ = $X_{30}$"
   ]
  },
  {
   "cell_type": "code",
   "execution_count": 102,
   "metadata": {},
   "outputs": [
    {
     "data": {
      "text/plain": [
       "44.94"
      ]
     },
     "execution_count": 102,
     "metadata": {},
     "output_type": "execute_result"
    }
   ],
   "source": [
    "# Get value of X30 (= P60)\n",
    "price[29]"
   ]
  },
  {
   "cell_type": "markdown",
   "metadata": {},
   "source": [
    "**Solution 2.** Using `p_given_stoxx()` funtion"
   ]
  },
  {
   "cell_type": "code",
   "execution_count": 103,
   "metadata": {
    "scrolled": true
   },
   "outputs": [
    {
     "name": "stdout",
     "output_type": "stream",
     "text": [
      "Ly is an integer, 60 % of data lies at or below Py = 36.21\n"
     ]
    }
   ],
   "source": [
    "# Using p_given_percent() funtion:\n",
    "p_given_percent(euro_stoxx['Price'], 60)"
   ]
  },
  {
   "cell_type": "markdown",
   "metadata": {},
   "source": [
    "60% of the values in this data set lies at or below €44.78 in price.  "
   ]
  },
  {
   "cell_type": "markdown",
   "metadata": {},
   "source": [
    "**Solution 3.** Using Numpy's `percentile` function"
   ]
  },
  {
   "cell_type": "markdown",
   "metadata": {},
   "source": [
    "To verify the above calculation for future efficiency, I proceed with using Numpy's `percentile` function to obtain the value. "
   ]
  },
  {
   "cell_type": "code",
   "execution_count": 104,
   "metadata": {},
   "outputs": [
    {
     "data": {
      "text/plain": [
       "43.98399999999998"
      ]
     },
     "execution_count": 104,
     "metadata": {},
     "output_type": "execute_result"
    }
   ],
   "source": [
    "# Obtain the value at 60th percentile\n",
    "np.percentile(price, 60)\n",
    "# But this is not in the observation, what went wrong?"
   ]
  },
  {
   "cell_type": "markdown",
   "metadata": {},
   "source": [
    "Example 2 with $L_{y}$ as a fraction.  "
   ]
  },
  {
   "cell_type": "markdown",
   "metadata": {},
   "source": [
    "**Solution 1.** Step by step"
   ]
  },
  {
   "cell_type": "code",
   "execution_count": 105,
   "metadata": {},
   "outputs": [
    {
     "name": "stdout",
     "output_type": "stream",
     "text": [
      "The location is at 37.5\n"
     ]
    }
   ],
   "source": [
    "# Obtaining the location (i) at 75th percentile\n",
    "print('The location is at', loc_y(euro_stoxx['Company'], 75))"
   ]
  },
  {
   "cell_type": "markdown",
   "metadata": {},
   "source": [
    "The value of $P_{y}$ need to be approximated between $X_{37}$ and $X_{38}$."
   ]
  },
  {
   "cell_type": "code",
   "execution_count": 106,
   "metadata": {},
   "outputs": [],
   "source": [
    "# Obtain values on both sides of Ly\n",
    "X37 = price[36]\n",
    "X38 = price[37]"
   ]
  },
  {
   "cell_type": "code",
   "execution_count": 107,
   "metadata": {},
   "outputs": [
    {
     "data": {
      "text/plain": [
       "79.71000000000001"
      ]
     },
     "execution_count": 107,
     "metadata": {},
     "output_type": "execute_result"
    }
   ],
   "source": [
    "# Linear interpolation\n",
    "P75_approx = X37 + (37.5 - 37) * (X38 - X37)\n",
    "P75_approx"
   ]
  },
  {
   "cell_type": "markdown",
   "metadata": {},
   "source": [
    "**Solution 2.** Using `p_given_percent()` function"
   ]
  },
  {
   "cell_type": "code",
   "execution_count": 108,
   "metadata": {},
   "outputs": [
    {
     "name": "stdout",
     "output_type": "stream",
     "text": [
      "Ly is not an integer, Py is approximately 52.215 52.03 and 52.40 bracket Py from below and above, respectively.\n"
     ]
    }
   ],
   "source": [
    "p_given_percent(euro_stoxx['Price'], 75)"
   ]
  },
  {
   "cell_type": "markdown",
   "metadata": {},
   "source": [
    "**Solution 3.** Verify with Numpy `percentile`"
   ]
  },
  {
   "cell_type": "code",
   "execution_count": 109,
   "metadata": {},
   "outputs": [
    {
     "data": {
      "text/plain": [
       "73.34"
      ]
     },
     "execution_count": 109,
     "metadata": {},
     "output_type": "execute_result"
    }
   ],
   "source": [
    "# Obtain the value at 75th percentile\n",
    "np.percentile(price, 75)"
   ]
  },
  {
   "cell_type": "markdown",
   "metadata": {},
   "source": [
    "## Quantiles in Investment Practice\n",
    "<br>\n",
    "Quantiles are used in portfolio performance evaluation as well as in investment strategy development and research."
   ]
  },
  {
   "cell_type": "markdown",
   "metadata": {},
   "source": [
    "**User case 1. Ranking performance—for example, the performance of portfolios.**<br>\n"
   ]
  },
  {
   "cell_type": "markdown",
   "metadata": {},
   "source": [
    "**User case 2. Investment research<br>**\n",
    "Analysts refer to a group defined by a particular quantile as that quantile. For example, analysts often refer to the set of companies with returns falling below the 10th percentile cutoff point as the bottom return decile. Dividing data into quantiles based on some characteristic allows analysts to evaluate the impact of that characteristic on a quantity of interest. For instance, empirical finance studies commonly rank companies based on the market value of their equity and then sort them into deciles. The 1st decile contains the portfolio of those companies with the smallest market values, and the 10th decile contains those companies with the largest market value. Ranking companies by decile allows analysts to compare the performance of small companies with large ones."
   ]
  },
  {
   "cell_type": "markdown",
   "metadata": {},
   "source": [
    "**Investment style based on liquidity**<br>\n",
    "Ibbotson et al. (2018): Investment style based on liquidity—buying stocks of less liquid stocks and selling stocks of more liquid stocks.<br>\n",
    "Computed:\n",
    "- yearly measures of liquidity as the annual share turnover (the sum of the 12 monthly volumes divided by each month’s shares outstanding);\n",
    "- size as the year-end market capitalization; \n",
    "- value as the trailing earnings-to-price ratio as of the year end;\n",
    "- momentum as the annual return. "
   ]
  },
  {
   "cell_type": "markdown",
   "metadata": {},
   "source": [
    "Step 1. assigned one-fourth of the total sample with the lowest liquidity in a year to Quartile 1 and the one-fourth with the highest liquidity in that year to Quartile 4."
   ]
  },
  {
   "cell_type": "markdown",
   "metadata": {},
   "source": [
    "Step 2. treating each quartile group as a portfolio composed of equally weighted stocks, they measured the returns on each liquidity quartile in the following year (so that the quartiles are constructed “before the fact”.) "
   ]
  },
  {
   "cell_type": "markdown",
   "metadata": {},
   "source": [
    "## Measure of Dispersion\n",
    "The most common measures of *(absolute) dispersion*: range, mean absolute deviation, variance, and standard deviation."
   ]
  },
  {
   "cell_type": "markdown",
   "metadata": {},
   "source": [
    "#### Mean Absolute Deviation (MAD)"
   ]
  },
  {
   "cell_type": "code",
   "execution_count": 110,
   "metadata": {},
   "outputs": [],
   "source": [
    "# Changing Price column as numeric data type\n",
    "euro_stoxx['Price'] = pd.to_numeric(euro_stoxx['Price'])"
   ]
  },
  {
   "cell_type": "code",
   "execution_count": 111,
   "metadata": {},
   "outputs": [
    {
     "data": {
      "text/plain": [
       "60.22965431070388"
      ]
     },
     "execution_count": 111,
     "metadata": {},
     "output_type": "execute_result"
    }
   ],
   "source": [
    "# Obtaining the mean absolute deviation using Pandas mad function\n",
    "euro_stoxx['Price'].mad()"
   ]
  },
  {
   "cell_type": "markdown",
   "metadata": {},
   "source": [
    "#### Population Variance and Standard Deviation"
   ]
  },
  {
   "cell_type": "markdown",
   "metadata": {},
   "source": [
    "$\\sigma^2 = \\frac{\\sum_{i=1}^{N} (X_{i} - \\mu)^2}{N}$"
   ]
  },
  {
   "cell_type": "markdown",
   "metadata": {},
   "source": [
    "$\\sigma = \\sqrt{\\frac{\\sum_{i=1}^{N} (X_{i} - \\mu)^2}{N}}$"
   ]
  },
  {
   "cell_type": "markdown",
   "metadata": {},
   "source": [
    "In practice, only used for well-defined group that can be considered to represent the population."
   ]
  },
  {
   "cell_type": "code",
   "execution_count": 112,
   "metadata": {},
   "outputs": [
    {
     "data": {
      "text/plain": [
       "7407.195738692212"
      ]
     },
     "execution_count": 112,
     "metadata": {},
     "output_type": "execute_result"
    }
   ],
   "source": [
    "# Obtaining the variance\n",
    "euro_stoxx['Price'].var(ddof=0)"
   ]
  },
  {
   "cell_type": "code",
   "execution_count": 113,
   "metadata": {},
   "outputs": [
    {
     "data": {
      "text/plain": [
       "86.06506688948897"
      ]
     },
     "execution_count": 113,
     "metadata": {},
     "output_type": "execute_result"
    }
   ],
   "source": [
    "# Obtaining the standard deviation \n",
    "euro_stoxx['Price'].std(ddof=0)"
   ]
  },
  {
   "cell_type": "markdown",
   "metadata": {},
   "source": [
    "#### Mean Variance and Standard Deviation\n",
    "Present the arithmetic mean and standard deviation together when summarizing data. When dealing with data that represent a time series of percent changes, presenting the geometric mean—representing the compound rate of growth—is also very helpful."
   ]
  },
  {
   "cell_type": "markdown",
   "metadata": {},
   "source": [
    "$s^2 = \\displaystyle\\frac{\\sum_{i=1}^{n} (X_{i} - \\bar{X})^2}{n-1}$"
   ]
  },
  {
   "cell_type": "markdown",
   "metadata": {},
   "source": [
    "$s = \\displaystyle\\sqrt{\\frac{\\sum_{i=1}^{n} (X_{i} - \\bar{X})^2}{n-1}}$"
   ]
  },
  {
   "cell_type": "code",
   "execution_count": 114,
   "metadata": {},
   "outputs": [
    {
     "data": {
      "text/plain": [
       "7561.512316581633"
      ]
     },
     "execution_count": 114,
     "metadata": {},
     "output_type": "execute_result"
    }
   ],
   "source": [
    "# Obtaining the variance, with ddof = 1 (default value for Pandas std function)\n",
    "euro_stoxx['Price'].var(ddof=1)"
   ]
  },
  {
   "cell_type": "code",
   "execution_count": 115,
   "metadata": {},
   "outputs": [
    {
     "data": {
      "text/plain": [
       "86.95695668882182"
      ]
     },
     "execution_count": 115,
     "metadata": {},
     "output_type": "execute_result"
    }
   ],
   "source": [
    "# Obtaining the standard deviation, with ddof = 1 (default value for Pandas std function)\n",
    "euro_stoxx['Price'].std(ddof=1)"
   ]
  },
  {
   "cell_type": "markdown",
   "metadata": {},
   "source": [
    "#### Semivariance and Semideviation for Downside Risks\n",
    "Similar concept for *Target semivariance and target semideviation*"
   ]
  },
  {
   "cell_type": "markdown",
   "metadata": {},
   "source": [
    "$s_{semi}^2 = \\frac{\\displaystyle\\sum_{\\forall X_{i}\\leq\\bar{X}}^{n} (X_{i} - \\bar{X})^2}{n-1}$"
   ]
  },
  {
   "cell_type": "markdown",
   "metadata": {},
   "source": [
    "$s_{semi} = \\sqrt{\\frac{\\displaystyle\\sum_{\\forall X_{i}\\leq\\bar{X}}^{n} (X_{i} - \\bar{X})^2}{n-1}}$"
   ]
  },
  {
   "cell_type": "code",
   "execution_count": 116,
   "metadata": {},
   "outputs": [],
   "source": [
    "# Compute the calculation with stock data\n"
   ]
  },
  {
   "cell_type": "markdown",
   "metadata": {},
   "source": [
    "#### Chebyshev’s Inequality\n",
    "According to Chebyshev’s inequality, for any distribution with finite variance, the proportion of the observations within k standard deviations of the arithmetic mean is at least $1 − \\frac{1}{k^2}$ for all k > 1.<br>\n",
    "A two-standard-deviation interval around the mean must contain at least 75 percent of the observations, and a three-standard-deviation interval around the mean must contain at least 89 percent of the observations, no matter how the data are distributed."
   ]
  },
  {
   "cell_type": "code",
   "execution_count": 117,
   "metadata": {},
   "outputs": [
    {
     "data": {
      "text/plain": [
       "11.729999999999999"
      ]
     },
     "execution_count": 117,
     "metadata": {},
     "output_type": "execute_result"
    }
   ],
   "source": [
    "0.95 + 2 * 5.39"
   ]
  },
  {
   "cell_type": "code",
   "execution_count": 118,
   "metadata": {},
   "outputs": [
    {
     "data": {
      "text/plain": [
       "-9.83"
      ]
     },
     "execution_count": 118,
     "metadata": {},
     "output_type": "execute_result"
    }
   ],
   "source": [
    "0.95 - 2 * 5.39"
   ]
  },
  {
   "cell_type": "markdown",
   "metadata": {},
   "source": [
    "#### Coefficient of Variation (CV)\n",
    "A scale-free measure of relative dispersion, by expressing the magnitude of variation among observations relative to their average size, the CV permits direct comparisons of dispersion across different data sets."
   ]
  },
  {
   "cell_type": "markdown",
   "metadata": {},
   "source": [
    "$CV = \\frac{s}{\\bar{X}}$"
   ]
  },
  {
   "cell_type": "code",
   "execution_count": 119,
   "metadata": {},
   "outputs": [
    {
     "data": {
      "text/html": [
       "<div>\n",
       "<style scoped>\n",
       "    .dataframe tbody tr th:only-of-type {\n",
       "        vertical-align: middle;\n",
       "    }\n",
       "\n",
       "    .dataframe tbody tr th {\n",
       "        vertical-align: top;\n",
       "    }\n",
       "\n",
       "    .dataframe thead th {\n",
       "        text-align: right;\n",
       "    }\n",
       "</style>\n",
       "<table border=\"1\" class=\"dataframe\">\n",
       "  <thead>\n",
       "    <tr style=\"text-align: right;\">\n",
       "      <th></th>\n",
       "      <th>Market</th>\n",
       "      <th>Arithmetic Mean Return (%)</th>\n",
       "      <th>Standard Deviation of Return (%)</th>\n",
       "    </tr>\n",
       "  </thead>\n",
       "  <tbody>\n",
       "    <tr>\n",
       "      <th>0</th>\n",
       "      <td>Australia</td>\n",
       "      <td>5.3</td>\n",
       "      <td>11.9</td>\n",
       "    </tr>\n",
       "    <tr>\n",
       "      <th>1</th>\n",
       "      <td>Hong Kong SAR</td>\n",
       "      <td>5.6</td>\n",
       "      <td>15.8</td>\n",
       "    </tr>\n",
       "    <tr>\n",
       "      <th>2</th>\n",
       "      <td>Japan</td>\n",
       "      <td>15.7</td>\n",
       "      <td>16.3</td>\n",
       "    </tr>\n",
       "    <tr>\n",
       "      <th>3</th>\n",
       "      <td>South Korea</td>\n",
       "      <td>4.2</td>\n",
       "      <td>8.6</td>\n",
       "    </tr>\n",
       "  </tbody>\n",
       "</table>\n",
       "</div>"
      ],
      "text/plain": [
       "          Market  Arithmetic Mean Return (%)  Standard Deviation of Return (%)\n",
       "0      Australia                         5.3                              11.9\n",
       "1  Hong Kong SAR                         5.6                              15.8\n",
       "2          Japan                        15.7                              16.3\n",
       "3    South Korea                         4.2                               8.6"
      ]
     },
     "execution_count": 119,
     "metadata": {},
     "output_type": "execute_result"
    }
   ],
   "source": [
    "index_returns = {'Market': ['Australia', 'Hong Kong SAR', 'Japan', 'South Korea'], \n",
    "     'Arithmetic Mean Return (%)': [5.3, 5.6, 15.7, 4.2], \n",
    "     'Standard Deviation of Return (%)':[11.9, 15.8, 16.3, 8.6]}\n",
    "index = pd.DataFrame(data=index_returns)\n",
    "index"
   ]
  },
  {
   "cell_type": "code",
   "execution_count": 120,
   "metadata": {},
   "outputs": [],
   "source": [
    "# Obtaining the coefficent of variance for each index\n",
    "index['CV'] = index['Standard Deviation of Return (%)'] / index['Arithmetic Mean Return (%)']"
   ]
  },
  {
   "cell_type": "code",
   "execution_count": 121,
   "metadata": {},
   "outputs": [
    {
     "data": {
      "text/html": [
       "<div>\n",
       "<style scoped>\n",
       "    .dataframe tbody tr th:only-of-type {\n",
       "        vertical-align: middle;\n",
       "    }\n",
       "\n",
       "    .dataframe tbody tr th {\n",
       "        vertical-align: top;\n",
       "    }\n",
       "\n",
       "    .dataframe thead th {\n",
       "        text-align: right;\n",
       "    }\n",
       "</style>\n",
       "<table border=\"1\" class=\"dataframe\">\n",
       "  <thead>\n",
       "    <tr style=\"text-align: right;\">\n",
       "      <th></th>\n",
       "      <th>Market</th>\n",
       "      <th>Arithmetic Mean Return (%)</th>\n",
       "      <th>Standard Deviation of Return (%)</th>\n",
       "      <th>CV</th>\n",
       "    </tr>\n",
       "  </thead>\n",
       "  <tbody>\n",
       "    <tr>\n",
       "      <th>2</th>\n",
       "      <td>Japan</td>\n",
       "      <td>15.7</td>\n",
       "      <td>16.3</td>\n",
       "      <td>1.038217</td>\n",
       "    </tr>\n",
       "    <tr>\n",
       "      <th>3</th>\n",
       "      <td>South Korea</td>\n",
       "      <td>4.2</td>\n",
       "      <td>8.6</td>\n",
       "      <td>2.047619</td>\n",
       "    </tr>\n",
       "    <tr>\n",
       "      <th>0</th>\n",
       "      <td>Australia</td>\n",
       "      <td>5.3</td>\n",
       "      <td>11.9</td>\n",
       "      <td>2.245283</td>\n",
       "    </tr>\n",
       "    <tr>\n",
       "      <th>1</th>\n",
       "      <td>Hong Kong SAR</td>\n",
       "      <td>5.6</td>\n",
       "      <td>15.8</td>\n",
       "      <td>2.821429</td>\n",
       "    </tr>\n",
       "  </tbody>\n",
       "</table>\n",
       "</div>"
      ],
      "text/plain": [
       "          Market  Arithmetic Mean Return (%)  \\\n",
       "2          Japan                        15.7   \n",
       "3    South Korea                         4.2   \n",
       "0      Australia                         5.3   \n",
       "1  Hong Kong SAR                         5.6   \n",
       "\n",
       "   Standard Deviation of Return (%)        CV  \n",
       "2                              16.3  1.038217  \n",
       "3                               8.6  2.047619  \n",
       "0                              11.9  2.245283  \n",
       "1                              15.8  2.821429  "
      ]
     },
     "execution_count": 121,
     "metadata": {},
     "output_type": "execute_result"
    }
   ],
   "source": [
    "# Ranking CV by ascending order\n",
    "index.sort_values(by=['CV'])"
   ]
  },
  {
   "cell_type": "markdown",
   "metadata": {},
   "source": [
    "Determine whether there is more difference between the absolute or the relative riskiness of the Australia and South Korea markets."
   ]
  },
  {
   "cell_type": "code",
   "execution_count": 122,
   "metadata": {},
   "outputs": [
    {
     "data": {
      "text/plain": [
       "3.3000000000000007"
      ]
     },
     "execution_count": 122,
     "metadata": {},
     "output_type": "execute_result"
    }
   ],
   "source": [
    "# Std (consider using %)\n",
    "11.9-8.6"
   ]
  },
  {
   "cell_type": "code",
   "execution_count": 123,
   "metadata": {},
   "outputs": [
    {
     "data": {
      "text/plain": [
       "0.20000000000000018"
      ]
     },
     "execution_count": 123,
     "metadata": {},
     "output_type": "execute_result"
    }
   ],
   "source": [
    "# CV (consider using %)\n",
    "2.25-2.05"
   ]
  },
  {
   "cell_type": "markdown",
   "metadata": {},
   "source": [
    "## Skewness"
   ]
  },
  {
   "cell_type": "code",
   "execution_count": 124,
   "metadata": {},
   "outputs": [
    {
     "data": {
      "text/html": [
       "<div>\n",
       "<style scoped>\n",
       "    .dataframe tbody tr th:only-of-type {\n",
       "        vertical-align: middle;\n",
       "    }\n",
       "\n",
       "    .dataframe tbody tr th {\n",
       "        vertical-align: top;\n",
       "    }\n",
       "\n",
       "    .dataframe thead th {\n",
       "        text-align: right;\n",
       "    }\n",
       "</style>\n",
       "<table border=\"1\" class=\"dataframe\">\n",
       "  <thead>\n",
       "    <tr style=\"text-align: right;\">\n",
       "      <th></th>\n",
       "      <th>Year</th>\n",
       "      <th>Return (%)</th>\n",
       "    </tr>\n",
       "  </thead>\n",
       "  <tbody>\n",
       "    <tr>\n",
       "      <th>0</th>\n",
       "      <td>2008</td>\n",
       "      <td>-35.75</td>\n",
       "    </tr>\n",
       "    <tr>\n",
       "      <th>1</th>\n",
       "      <td>2009</td>\n",
       "      <td>25.62</td>\n",
       "    </tr>\n",
       "    <tr>\n",
       "      <th>2</th>\n",
       "      <td>2010</td>\n",
       "      <td>15.15</td>\n",
       "    </tr>\n",
       "    <tr>\n",
       "      <th>3</th>\n",
       "      <td>2011</td>\n",
       "      <td>-0.72</td>\n",
       "    </tr>\n",
       "    <tr>\n",
       "      <th>4</th>\n",
       "      <td>2012</td>\n",
       "      <td>17.25</td>\n",
       "    </tr>\n",
       "    <tr>\n",
       "      <th>5</th>\n",
       "      <td>2013</td>\n",
       "      <td>31.69</td>\n",
       "    </tr>\n",
       "    <tr>\n",
       "      <th>6</th>\n",
       "      <td>2014</td>\n",
       "      <td>7.75</td>\n",
       "    </tr>\n",
       "    <tr>\n",
       "      <th>7</th>\n",
       "      <td>2015</td>\n",
       "      <td>-7.76</td>\n",
       "    </tr>\n",
       "    <tr>\n",
       "      <th>8</th>\n",
       "      <td>2016</td>\n",
       "      <td>18.25</td>\n",
       "    </tr>\n",
       "    <tr>\n",
       "      <th>9</th>\n",
       "      <td>2017</td>\n",
       "      <td>16.18</td>\n",
       "    </tr>\n",
       "  </tbody>\n",
       "</table>\n",
       "</div>"
      ],
      "text/plain": [
       "   Year  Return (%)\n",
       "0  2008      -35.75\n",
       "1  2009       25.62\n",
       "2  2010       15.15\n",
       "3  2011       -0.72\n",
       "4  2012       17.25\n",
       "5  2013       31.69\n",
       "6  2014        7.75\n",
       "7  2015       -7.76\n",
       "8  2016       18.25\n",
       "9  2017       16.18"
      ]
     },
     "execution_count": 124,
     "metadata": {},
     "output_type": "execute_result"
    }
   ],
   "source": [
    "# Making a Pandas Dataframe of 10 years of annual returns on the T. Rowe Price Equity Income Fund (PRFDX).\n",
    "RoR = {'Year':[2008, 2009, 2010, 2011, 2012, 2013, 2014, 2015, 2016, 2017], \n",
    "     'Return (%)':[-35.75, 25.62, 15.15, -0.72, 17.25, 31.69, 7.75, -7.76, 18.25, 16.18]}\n",
    "rate_of_return = pd.DataFrame(data=RoR)\n",
    "rate_of_return"
   ]
  },
  {
   "cell_type": "code",
   "execution_count": 125,
   "metadata": {},
   "outputs": [],
   "source": [
    "from matplotlib import pyplot as plt\n",
    "%matplotlib inline"
   ]
  },
  {
   "cell_type": "code",
   "execution_count": 126,
   "metadata": {},
   "outputs": [
    {
     "data": {
      "image/png": "[encoded data removed]",
      "text/plain": [
       "<Figure size 432x288 with 1 Axes>"
      ]
     },
     "metadata": {
      "needs_background": "light"
     },
     "output_type": "display_data"
    }
   ],
   "source": [
    "# Plot the distribution\n",
    "plt.hist(rate_of_return['Return (%)']);"
   ]
  },
  {
   "cell_type": "code",
   "execution_count": 127,
   "metadata": {},
   "outputs": [
    {
     "data": {
      "text/plain": [
       "-1.4033657997639521"
      ]
     },
     "execution_count": 127,
     "metadata": {},
     "output_type": "execute_result"
    }
   ],
   "source": [
    "# Calculate the skewness Sk\n",
    "rate_of_return['Return (%)'].skew()"
   ]
  },
  {
   "cell_type": "markdown",
   "metadata": {},
   "source": [
    "## Kurtosis in Return Distribution\n",
    "If a return distribution has positive excess kurtosis (leptokurtosis) and we use statistical models that do not account for the fatter tails, we will underestimate the likelihood of very bad or very good outcomes."
   ]
  },
  {
   "cell_type": "markdown",
   "metadata": {},
   "source": [
    "Sample excess kurtosis formula"
   ]
  },
  {
   "cell_type": "code",
   "execution_count": 128,
   "metadata": {},
   "outputs": [],
   "source": [
    "import scipy\n",
    "import scipy.stats as stats\n",
    "from scipy.stats import norm, kurtosis, skew"
   ]
  },
  {
   "cell_type": "code",
   "execution_count": 129,
   "metadata": {
    "scrolled": true
   },
   "outputs": [
    {
     "data": {
      "image/png": "[encoded data removed]",
      "text/plain": [
       "<Figure size 432x288 with 1 Axes>"
      ]
     },
     "metadata": {
      "needs_background": "light"
     },
     "output_type": "display_data"
    }
   ],
   "source": [
    "# An example illustration from SciPy documentation\n",
    "x = np.linspace(-5, 5, 100)\n",
    "ax = plt.subplot()\n",
    "distnames = ['laplace', 'norm', 'uniform']\n",
    "\n",
    "for distname in distnames:\n",
    "    if distname == 'uniform':\n",
    "        dist = getattr(stats, distname)(loc=-2, scale=4)\n",
    "    else:\n",
    "        dist = getattr(stats, distname)\n",
    "    data = dist.rvs(size=1000)\n",
    "    kur = kurtosis(data, fisher=True)\n",
    "    y = dist.pdf(x)\n",
    "    ax.plot(x, y, label=\"{}, {}\".format(distname, round(kur, 3)))\n",
    "    ax.legend()"
   ]
  },
  {
   "cell_type": "markdown",
   "metadata": {},
   "source": [
    "Calculating kurtosis and sample excess kurtosis using SciPy's `kurtosis` function"
   ]
  },
  {
   "cell_type": "code",
   "execution_count": 130,
   "metadata": {},
   "outputs": [
    {
     "data": {
      "text/plain": [
       "0.7639701249639383"
      ]
     },
     "execution_count": 130,
     "metadata": {},
     "output_type": "execute_result"
    }
   ],
   "source": [
    "# Calculate the Kurtosis of T. Rowe Price Equity Income Fund (PRFDX) returns\n",
    "kurtosis(rate_of_return['Return (%)'])"
   ]
  },
  {
   "cell_type": "code",
   "execution_count": 131,
   "metadata": {},
   "outputs": [
    {
     "data": {
      "text/plain": [
       "3.7639701249639383"
      ]
     },
     "execution_count": 131,
     "metadata": {},
     "output_type": "execute_result"
    }
   ],
   "source": [
    "# Calculate the Sample Excess Kurtosis of T. Rowe Price Equity Income Fund (PRFDX) returns\n",
    "kurtosis(rate_of_return['Return (%)'], fisher=False) "
   ]
  },
  {
   "cell_type": "markdown",
   "metadata": {},
   "source": [
    "The above result is different from that from using $K_{E}$ formula, which is 2.32. "
   ]
  },
  {
   "cell_type": "markdown",
   "metadata": {},
   "source": [
    "## Probability"
   ]
  },
  {
   "cell_type": "markdown",
   "metadata": {},
   "source": [
    "#### Empirical probability\n",
    "Relationships must be stable through time for empirical probabilities to be accurate."
   ]
  },
  {
   "cell_type": "markdown",
   "metadata": {},
   "source": [
    "#### Priori probability \n",
    "*Pairs arbitrage trade*: a trade in two closely related stocks involving the short sale of one and the purchase of the other."
   ]
  },
  {
   "cell_type": "markdown",
   "metadata": {},
   "source": [
    "#### Subjective probability "
   ]
  },
  {
   "cell_type": "markdown",
   "metadata": {},
   "source": [
    "#### Conditional Probability: P(A | B) \n",
    "$P(A | B) = P(AB)/P(B), P(B) ≠ 0$ \n",
    "<div style=\"text-align: right\"> Equation 1 </div>"
   ]
  },
  {
   "cell_type": "markdown",
   "metadata": {},
   "source": [
    "#### Joint Probability: P(AB)"
   ]
  },
  {
   "cell_type": "markdown",
   "metadata": {},
   "source": [
    "*Multiplication Rule for Probability*<br>\n",
    "The joint probability of A and B can be expressed as $P(AB) = P(A | B)P(B)$  \n",
    "<div style=\"text-align: right\"> Equation 2 </div>"
   ]
  },
  {
   "cell_type": "markdown",
   "metadata": {},
   "source": [
    "*Addition Rule for Probabilities*<br>\n",
    "$P(A or B) = P(A) + P(B) – P(AB)$\n",
    "<div style=\"text-align: right\"> Equation 3 </div>"
   ]
  },
  {
   "cell_type": "markdown",
   "metadata": {},
   "source": [
    "*Independence and dependence*<br>\n",
    "An area of intense interest to investment managers and their clients is whether records of past performance are useful in identifying repeat winners and losers."
   ]
  },
  {
   "cell_type": "markdown",
   "metadata": {},
   "source": [
    "*Multiplication Rule for Independent Events*<br>\n",
    "$P(AB) = P(A)P(B)$  \n",
    "<div style=\"text-align: right\"> Equation 4</div>"
   ]
  },
  {
   "cell_type": "markdown",
   "metadata": {},
   "source": [
    "*The Total Probability Rule*<br>\n",
    "$P(A)=P(AS)+P(AS^C)=P(A|S)P(S)+P(A∣S^C)P(S^C)$\n",
    "<div style=\"text-align: right\"> Equation 5</div>"
   ]
  },
  {
   "cell_type": "markdown",
   "metadata": {},
   "source": [
    "$P(A)=P(AS_1)+P(AS_2)+…+P(AS_n)=P(A|S_1)P(S_1)+P(A|S_2)P(S_2)+…+P(A|S_n)P(S_n)$      (where $S_1, S_2, …, S_n$ are mutually exclusive and exhaustive scenarios or events.)\n",
    "<div style=\"text-align: right\"> Equation 6</div>"
   ]
  },
  {
   "cell_type": "markdown",
   "metadata": {},
   "source": [
    "## Expected Value (Mean), Variance, and Conditional Measures of Expected Value and Variance"
   ]
  },
  {
   "cell_type": "markdown",
   "metadata": {},
   "source": [
    "#### Expected Value (Mean)"
   ]
  },
  {
   "cell_type": "markdown",
   "metadata": {},
   "source": [
    "$E(X) = \\displaystyle\\sum_{i=1}^n{P(X_{i})X_{i}}$      (Where $X_{i}$ is one of n possible outcomes of X) \n",
    "<div style=\"text-align: right\"> Equation 7</div>"
   ]
  },
  {
   "cell_type": "code",
   "execution_count": 132,
   "metadata": {},
   "outputs": [
    {
     "data": {
      "text/html": [
       "<div>\n",
       "<style scoped>\n",
       "    .dataframe tbody tr th:only-of-type {\n",
       "        vertical-align: middle;\n",
       "    }\n",
       "\n",
       "    .dataframe tbody tr th {\n",
       "        vertical-align: top;\n",
       "    }\n",
       "\n",
       "    .dataframe thead th {\n",
       "        text-align: right;\n",
       "    }\n",
       "</style>\n",
       "<table border=\"1\" class=\"dataframe\">\n",
       "  <thead>\n",
       "    <tr style=\"text-align: right;\">\n",
       "      <th></th>\n",
       "      <th>Probability</th>\n",
       "      <th>EPS ($)</th>\n",
       "    </tr>\n",
       "  </thead>\n",
       "  <tbody>\n",
       "    <tr>\n",
       "      <th>0</th>\n",
       "      <td>0.15</td>\n",
       "      <td>2.60</td>\n",
       "    </tr>\n",
       "    <tr>\n",
       "      <th>1</th>\n",
       "      <td>0.45</td>\n",
       "      <td>2.45</td>\n",
       "    </tr>\n",
       "    <tr>\n",
       "      <th>2</th>\n",
       "      <td>0.24</td>\n",
       "      <td>2.20</td>\n",
       "    </tr>\n",
       "    <tr>\n",
       "      <th>3</th>\n",
       "      <td>0.16</td>\n",
       "      <td>2.00</td>\n",
       "    </tr>\n",
       "  </tbody>\n",
       "</table>\n",
       "</div>"
      ],
      "text/plain": [
       "   Probability  EPS ($)\n",
       "0         0.15     2.60\n",
       "1         0.45     2.45\n",
       "2         0.24     2.20\n",
       "3         0.16     2.00"
      ]
     },
     "execution_count": 132,
     "metadata": {},
     "output_type": "execute_result"
    }
   ],
   "source": [
    "# BankCorp’s Earnings per Share\n",
    "eps = {'Probability': [0.15, 0.45, 0.24, 0.16], \n",
    "     'EPS ($)': [2.60, 2.45, 2.20, 2.00]}\n",
    "eps_ev = pd.DataFrame(data=eps)\n",
    "eps_ev"
   ]
  },
  {
   "cell_type": "code",
   "execution_count": 133,
   "metadata": {},
   "outputs": [
    {
     "data": {
      "text/html": [
       "<div>\n",
       "<style scoped>\n",
       "    .dataframe tbody tr th:only-of-type {\n",
       "        vertical-align: middle;\n",
       "    }\n",
       "\n",
       "    .dataframe tbody tr th {\n",
       "        vertical-align: top;\n",
       "    }\n",
       "\n",
       "    .dataframe thead th {\n",
       "        text-align: right;\n",
       "    }\n",
       "</style>\n",
       "<table border=\"1\" class=\"dataframe\">\n",
       "  <thead>\n",
       "    <tr style=\"text-align: right;\">\n",
       "      <th></th>\n",
       "      <th>Probability</th>\n",
       "      <th>EPS ($)</th>\n",
       "      <th>probability_weighted_EPS</th>\n",
       "    </tr>\n",
       "  </thead>\n",
       "  <tbody>\n",
       "    <tr>\n",
       "      <th>0</th>\n",
       "      <td>0.15</td>\n",
       "      <td>2.60</td>\n",
       "      <td>0.3900</td>\n",
       "    </tr>\n",
       "    <tr>\n",
       "      <th>1</th>\n",
       "      <td>0.45</td>\n",
       "      <td>2.45</td>\n",
       "      <td>1.1025</td>\n",
       "    </tr>\n",
       "    <tr>\n",
       "      <th>2</th>\n",
       "      <td>0.24</td>\n",
       "      <td>2.20</td>\n",
       "      <td>0.5280</td>\n",
       "    </tr>\n",
       "    <tr>\n",
       "      <th>3</th>\n",
       "      <td>0.16</td>\n",
       "      <td>2.00</td>\n",
       "      <td>0.3200</td>\n",
       "    </tr>\n",
       "  </tbody>\n",
       "</table>\n",
       "</div>"
      ],
      "text/plain": [
       "   Probability  EPS ($)  probability_weighted_EPS\n",
       "0         0.15     2.60                    0.3900\n",
       "1         0.45     2.45                    1.1025\n",
       "2         0.24     2.20                    0.5280\n",
       "3         0.16     2.00                    0.3200"
      ]
     },
     "execution_count": 133,
     "metadata": {},
     "output_type": "execute_result"
    }
   ],
   "source": [
    "# Calculate the E(X) of BankCorp’s Earnings per Share: multiplying each prediction with its probability\n",
    "eps_ev['probability_weighted_EPS'] = eps_ev['Probability']*eps_ev['EPS ($)']\n",
    "eps_ev"
   ]
  },
  {
   "cell_type": "code",
   "execution_count": 134,
   "metadata": {},
   "outputs": [],
   "source": [
    "expected_eps = eps_ev['probability_weighted_EPS'].tolist()\n",
    "ev=sum(expected_eps)"
   ]
  },
  {
   "cell_type": "markdown",
   "metadata": {},
   "source": [
    "##### Properties of Expected Value\n",
    "Let $w_{i}$ be any constant and $R_{i}$ be a random variable.\n",
    "\n",
    "- The expected value of a constant times a random variable equals the constant times the expected value of the random variable.<Br><Br>\n",
    "$E(w_{i}R_{i}) = w_{i}E(R_{i})$<br><br>\n",
    "- The expected value of a weighted sum of random variables equals the weighted sum of the expected values, using the same weights.<br><br>\n",
    "$E(w_{1}R_{1}+w_{2}R_{2}+…+w_{n}R_{n})=w_{1}E(R_{1})+w_{2}E(R_{2})+…+w_{n}E(R_{n})$"
   ]
  },
  {
   "cell_type": "markdown",
   "metadata": {},
   "source": [
    "#### Variance and Standard Deviation (the risks associated with E(X))"
   ]
  },
  {
   "cell_type": "markdown",
   "metadata": {},
   "source": [
    "$Var(X)=\\sigma^2(X)=E\\{[X−E(X)]^2\\}$  \n",
    "\n",
    "<div style=\"text-align: right\"> Equation 8 </div><br>(Variance of X is a quantity in the squared units of X. For example, if the random variable is return in percent, variance of return is in units of percent squared.) "
   ]
  },
  {
   "cell_type": "markdown",
   "metadata": {},
   "source": [
    "Summarive the variance formula as:<br>\n",
    "$\\sigma^2(X)=P(X_{1})[X_{1}−E(X)]^2+P(X_{2})[X_{2}−E(X)]^2+…+P(X_{n})[X_{n}−E(X)]^2=\\sum_{i=1}^n{P(X_{i})[X_{i}−E(X)]^2} $  \n",
    "\n",
    "<div style=\"text-align: right\"> Equation 9</div><br>where $X_{i}$ is one of $n$ possible outcomes of the random variable $X$.\n"
   ]
  },
  {
   "cell_type": "code",
   "execution_count": 135,
   "metadata": {},
   "outputs": [
    {
     "name": "stdout",
     "output_type": "stream",
     "text": [
      "0.03878475000000002\n"
     ]
    }
   ],
   "source": [
    "# Calculating the variance \n",
    "list1=[]\n",
    "for i in range(len(eps_ev['EPS ($)'])):\n",
    "    diff = eps_ev['EPS ($)'][i] - ev\n",
    "    diff_sqr = diff**2\n",
    "    eps = diff_sqr*eps_ev['Probability'][i]\n",
    "    list1.append(eps)\n",
    "\n",
    "var_x=sum(list1)\n",
    "print(var_x)"
   ]
  },
  {
   "cell_type": "markdown",
   "metadata": {},
   "source": [
    "Standard deviation is easier to interpret than variance, as it is in the same units as the random variable. "
   ]
  },
  {
   "cell_type": "code",
   "execution_count": 136,
   "metadata": {},
   "outputs": [
    {
     "data": {
      "text/plain": [
       "0.19693844215896505"
      ]
     },
     "execution_count": 136,
     "metadata": {},
     "output_type": "execute_result"
    }
   ],
   "source": [
    "# Calculating the standard deviation \n",
    "var_x**0.5"
   ]
  },
  {
   "cell_type": "markdown",
   "metadata": {},
   "source": [
    "#### Conditional Expected Values"
   ]
  },
  {
   "cell_type": "markdown",
   "metadata": {},
   "source": [
    "$E(X|S) = P(X_{1}|S)X_{1} + P(X_{2}|S)X_{2} + … + P(X_{n}|S)X_{n}$\n",
    "<div style=\"text-align: right\"> Equation 10</div>"
   ]
  },
  {
   "cell_type": "markdown",
   "metadata": {},
   "source": [
    "#### The Total Probability Rule for Expected Values\n",
    "A principle for stating (unconditional) expected values in terms of conditional expected values."
   ]
  },
  {
   "cell_type": "markdown",
   "metadata": {},
   "source": [
    "$E(X) = E(X|S)P(S) + E(X|S^C)P(S^C)$  \n",
    "<div style=\"text-align: right\"> Equation 11</div>"
   ]
  },
  {
   "cell_type": "markdown",
   "metadata": {},
   "source": [
    "$E(X) = E(X|S_{1})P(S_{1}) + E(X|S_{2})P(S_{2}) + … + E(X|S_{n})P(S_{n}) $\n",
    "<div style=\"text-align: right\"> Equation 12</div><br>where S1, S2, …, Sn are mutually exclusive and exhaustive scenarios or events."
   ]
  },
  {
   "cell_type": "markdown",
   "metadata": {},
   "source": [
    "#### Conditional Variance \n",
    "1. Variance, like expected value, has a conditional counterpart to the unconditional concept.\n",
    "2. We can use conditional variance to assess risk given a particular scenario.\n",
    "<br><br>*The relationship between conditional variance and unconditional one to be continued in later sessions.*"
   ]
  },
  {
   "cell_type": "markdown",
   "metadata": {},
   "source": [
    "Calculate the variance of variable $X$ given each scenario:<Br>\n",
    "$\\sigma^2{(X|S)} $<Br>\n",
    "$\\sigma^2{(X|S^C)}$"
   ]
  },
  {
   "cell_type": "markdown",
   "metadata": {},
   "source": [
    "Use case: Calculating the default risk premium for a one-period debt instrument<br>"
   ]
  },
  {
   "cell_type": "markdown",
   "metadata": {},
   "source": [
    "## Covariance, Correlation, and Expected Value, Variance and Standard Deviation of Portfolio Returns"
   ]
  },
  {
   "cell_type": "markdown",
   "metadata": {},
   "source": [
    "Investment opportunities can be evaluated using expected return as a measure of **reward** and variance of return as a measure of **risk**."
   ]
  },
  {
   "cell_type": "markdown",
   "metadata": {},
   "source": [
    "#### Portfolio Expected Return<br>\n",
    "The expected return on a portfolio is a weighted average of the expected returns on the securities in the portfolio.<br><br>\n",
    "Let $w_{i}$ be any constant and $R_{i}$ be a random variable, recall the properties of expected returns. "
   ]
  },
  {
   "cell_type": "markdown",
   "metadata": {},
   "source": [
    "$E(R_{p})=E(w_{1}R_{1}+w_{2}R_{2}+…+w_{n}R_{n})=w_{1}E(R_{1})+w_{2}E(R_{2})+…+w_{n}E(R_{n})$    \n",
    "<div style=\"text-align: right\"> Equation 13</div>"
   ]
  },
  {
   "cell_type": "code",
   "execution_count": 137,
   "metadata": {},
   "outputs": [
    {
     "data": {
      "text/html": [
       "<div>\n",
       "<style scoped>\n",
       "    .dataframe tbody tr th:only-of-type {\n",
       "        vertical-align: middle;\n",
       "    }\n",
       "\n",
       "    .dataframe tbody tr th {\n",
       "        vertical-align: top;\n",
       "    }\n",
       "\n",
       "    .dataframe thead th {\n",
       "        text-align: right;\n",
       "    }\n",
       "</style>\n",
       "<table border=\"1\" class=\"dataframe\">\n",
       "  <thead>\n",
       "    <tr style=\"text-align: right;\">\n",
       "      <th></th>\n",
       "      <th>Asset Class</th>\n",
       "      <th>Weights</th>\n",
       "      <th>Expected Return (%)</th>\n",
       "    </tr>\n",
       "  </thead>\n",
       "  <tbody>\n",
       "    <tr>\n",
       "      <th>0</th>\n",
       "      <td>S&amp;P 500</td>\n",
       "      <td>0.50</td>\n",
       "      <td>0.13</td>\n",
       "    </tr>\n",
       "    <tr>\n",
       "      <th>1</th>\n",
       "      <td>US long-term corporate bonds</td>\n",
       "      <td>0.25</td>\n",
       "      <td>0.06</td>\n",
       "    </tr>\n",
       "    <tr>\n",
       "      <th>2</th>\n",
       "      <td>MSCI EAFE</td>\n",
       "      <td>0.25</td>\n",
       "      <td>0.15</td>\n",
       "    </tr>\n",
       "  </tbody>\n",
       "</table>\n",
       "</div>"
      ],
      "text/plain": [
       "                    Asset Class Weights  Expected Return (%)\n",
       "0                       S&P 500    0.50                 0.13\n",
       "1  US long-term corporate bonds    0.25                 0.06\n",
       "2                     MSCI EAFE    0.25                 0.15"
      ]
     },
     "execution_count": 137,
     "metadata": {},
     "output_type": "execute_result"
    }
   ],
   "source": [
    "portfolio = {'Asset Class': ['S&P 500', 'US long-term corporate bonds', 'MSCI EAFE'], \n",
    "     'Weights': ['0.50', '0.25', '0.25'],\n",
    "     'Expected Return (%)':[0.13, 0.06, 0.15]}\n",
    "portfolio = pd.DataFrame(data=portfolio)\n",
    "portfolio"
   ]
  },
  {
   "cell_type": "markdown",
   "metadata": {},
   "source": [
    "Use case: calculating portfolio expected return "
   ]
  },
  {
   "cell_type": "code",
   "execution_count": 138,
   "metadata": {},
   "outputs": [],
   "source": [
    "# Change data type to numeric\n",
    "portfolio['Expected Return (%)'] = pd.to_numeric(portfolio['Expected Return (%)'])\n",
    "portfolio['Weights'] = pd.to_numeric(portfolio['Weights'])"
   ]
  },
  {
   "cell_type": "code",
   "execution_count": 139,
   "metadata": {
    "scrolled": true
   },
   "outputs": [
    {
     "data": {
      "text/html": [
       "<div>\n",
       "<style scoped>\n",
       "    .dataframe tbody tr th:only-of-type {\n",
       "        vertical-align: middle;\n",
       "    }\n",
       "\n",
       "    .dataframe tbody tr th {\n",
       "        vertical-align: top;\n",
       "    }\n",
       "\n",
       "    .dataframe thead th {\n",
       "        text-align: right;\n",
       "    }\n",
       "</style>\n",
       "<table border=\"1\" class=\"dataframe\">\n",
       "  <thead>\n",
       "    <tr style=\"text-align: right;\">\n",
       "      <th></th>\n",
       "      <th>Asset Class</th>\n",
       "      <th>Weights</th>\n",
       "      <th>Expected Return (%)</th>\n",
       "      <th>Weighted E(R)</th>\n",
       "    </tr>\n",
       "  </thead>\n",
       "  <tbody>\n",
       "    <tr>\n",
       "      <th>0</th>\n",
       "      <td>S&amp;P 500</td>\n",
       "      <td>0.50</td>\n",
       "      <td>0.13</td>\n",
       "      <td>0.0650</td>\n",
       "    </tr>\n",
       "    <tr>\n",
       "      <th>1</th>\n",
       "      <td>US long-term corporate bonds</td>\n",
       "      <td>0.25</td>\n",
       "      <td>0.06</td>\n",
       "      <td>0.0150</td>\n",
       "    </tr>\n",
       "    <tr>\n",
       "      <th>2</th>\n",
       "      <td>MSCI EAFE</td>\n",
       "      <td>0.25</td>\n",
       "      <td>0.15</td>\n",
       "      <td>0.0375</td>\n",
       "    </tr>\n",
       "  </tbody>\n",
       "</table>\n",
       "</div>"
      ],
      "text/plain": [
       "                    Asset Class  Weights  Expected Return (%)  Weighted E(R)\n",
       "0                       S&P 500     0.50                 0.13         0.0650\n",
       "1  US long-term corporate bonds     0.25                 0.06         0.0150\n",
       "2                     MSCI EAFE     0.25                 0.15         0.0375"
      ]
     },
     "execution_count": 139,
     "metadata": {},
     "output_type": "execute_result"
    }
   ],
   "source": [
    "# Calculating each asset class's weighted expected return\n",
    "portfolio['Weighted E(R)'] = portfolio['Weights'] * portfolio['Expected Return (%)']\n",
    "portfolio"
   ]
  },
  {
   "cell_type": "code",
   "execution_count": 140,
   "metadata": {},
   "outputs": [
    {
     "data": {
      "text/plain": [
       "0.1175"
      ]
     },
     "execution_count": 140,
     "metadata": {},
     "output_type": "execute_result"
    }
   ],
   "source": [
    "# Summing up the weighted expected returns to obtain the portfolio expected return\n",
    "portfolio_er = sum(portfolio['Weighted E(R)'].tolist())\n",
    "portfolio_er "
   ]
  },
  {
   "cell_type": "markdown",
   "metadata": {},
   "source": [
    "Use case: calculating portfolio variance (impletement Equation 8), introducing the concept of covariance. (Considering variance in a forward-looking sense). "
   ]
  },
  {
   "cell_type": "markdown",
   "metadata": {},
   "source": [
    "#### Covariance \n",
    "Definition: the covariance between two random variables is the probability-weighted average of the cross-products of each random variable’s deviation from its own expected value.  <br>\n",
    "Forward-looking population covariance:<br>\n",
    "Given two random variables Ri and Rj, the covariance between $R_{i} and R_{j}$ is\n",
    "\n",
    "$Cov(R_{i},R_{j})=E[(R_{i}−ER_{i})(R_{j}−ER_{j})]$<br>\n",
    "<div style=\"text-align: right\"> Equation 14</div>\n",
    "(AKA $\\displaystyle\\sigma_{(R_{i}, R_{j})}$ or $\\displaystyle\\sigma{_{ij}}$)"
   ]
  },
  {
   "cell_type": "markdown",
   "metadata": {},
   "source": [
    "Covariance of a sample of historical data about the two variables:<br>\n",
    "The sample covariance is the average value of the product of the deviations of observations on two random variables from their sample means.\n",
    "<br>\n",
    "$Cov(R_{i},R_{j})=\\displaystyle\\frac{\\sum_{i=1}^{n} {(R_{i,t}-\\bar{R_{i}})(R_{j,t}-\\bar{R_{j})}}}{n−1}$<br><br>\n",
    "<div style=\"text-align: right\"> Equation 15</div>\n",
    "*If the random variables are returns, the units of both forward-looking covariance and historical variance would be returns squared ($\\%^2$).*"
   ]
  },
  {
   "cell_type": "code",
   "execution_count": null,
   "metadata": {},
   "outputs": [],
   "source": []
  },
  {
   "cell_type": "markdown",
   "metadata": {},
   "source": []
  },
  {
   "cell_type": "markdown",
   "metadata": {},
   "source": [
    "$\\sigma^2(R_{p})=w_{1}^2\\sigma^2(R_{1})+w_{1}w_{2}Cov(R_{1},R_{2})+w_{1}w_{3}Cov(R_{1},R_{3})+w_{1}w_{2}Cov(R_{1},R_{2})+w_{2}^2\\sigma^2(R_{2})+w_{2}w_{3}Cov(R_{2},R_{3})+w_{1}w_{3}Cov(R_{1},R_{3})+w_{2}w_{3}Cov(R_{2},R_{3})+w_{3}^2\\sigma^2(R_{3})\n",
    "=\\displaystyle\\sum_{i=1}^{3}\\sum_{j=1}^{3}{w_{i}w_{j}Cov(R_{i},R_{j})}$\n",
    "\n",
    "<div style=\"text-align: right\"> Equation 16</div>\n",
    "\n",
    "*The double summation signs say: “Set i = 1 and let j run from 1 to 3; then set i = 2 and let j run from 1 to 3; next set i = 3 and let j run from 1 to 3; finally, add the nine terms.”*"
   ]
  },
  {
   "cell_type": "markdown",
   "metadata": {},
   "source": [
    "The above generalises to:<br>\n",
    "$\\sigma^2(R_{p})=\\displaystyle\\sum_{i=1}^{n}\\sum_{j=1}^{n}{w_{i}w_{j}Cov(R_{i},R_{j})}$\n",
    "\n",
    "<div style=\"text-align: right\"> Equation 17</div>"
   ]
  },
  {
   "cell_type": "code",
   "execution_count": 141,
   "metadata": {},
   "outputs": [
    {
     "data": {
      "text/html": [
       "<div>\n",
       "<style scoped>\n",
       "    .dataframe tbody tr th:only-of-type {\n",
       "        vertical-align: middle;\n",
       "    }\n",
       "\n",
       "    .dataframe tbody tr th {\n",
       "        vertical-align: top;\n",
       "    }\n",
       "\n",
       "    .dataframe thead th {\n",
       "        text-align: right;\n",
       "    }\n",
       "</style>\n",
       "<table border=\"1\" class=\"dataframe\">\n",
       "  <thead>\n",
       "    <tr style=\"text-align: right;\">\n",
       "      <th></th>\n",
       "      <th>Asset Class</th>\n",
       "      <th>Weights</th>\n",
       "      <th>Expected Return (%)</th>\n",
       "      <th>Weighted E(R)</th>\n",
       "    </tr>\n",
       "  </thead>\n",
       "  <tbody>\n",
       "    <tr>\n",
       "      <th>0</th>\n",
       "      <td>S&amp;P 500</td>\n",
       "      <td>0.50</td>\n",
       "      <td>0.13</td>\n",
       "      <td>0.0650</td>\n",
       "    </tr>\n",
       "    <tr>\n",
       "      <th>1</th>\n",
       "      <td>US long-term corporate bonds</td>\n",
       "      <td>0.25</td>\n",
       "      <td>0.06</td>\n",
       "      <td>0.0150</td>\n",
       "    </tr>\n",
       "    <tr>\n",
       "      <th>2</th>\n",
       "      <td>MSCI EAFE</td>\n",
       "      <td>0.25</td>\n",
       "      <td>0.15</td>\n",
       "      <td>0.0375</td>\n",
       "    </tr>\n",
       "  </tbody>\n",
       "</table>\n",
       "</div>"
      ],
      "text/plain": [
       "                    Asset Class  Weights  Expected Return (%)  Weighted E(R)\n",
       "0                       S&P 500     0.50                 0.13         0.0650\n",
       "1  US long-term corporate bonds     0.25                 0.06         0.0150\n",
       "2                     MSCI EAFE     0.25                 0.15         0.0375"
      ]
     },
     "execution_count": 141,
     "metadata": {},
     "output_type": "execute_result"
    }
   ],
   "source": [
    "portfolio"
   ]
  },
  {
   "cell_type": "code",
   "execution_count": 184,
   "metadata": {},
   "outputs": [
    {
     "data": {
      "text/plain": [
       "array([0.5 , 0.25, 0.25])"
      ]
     },
     "execution_count": 184,
     "metadata": {},
     "output_type": "execute_result"
    }
   ],
   "source": [
    "# Arrange the weights in to a matrix\n",
    "weights = portfolio['Weights'].to_numpy()\n",
    "weights"
   ]
  },
  {
   "cell_type": "code",
   "execution_count": 142,
   "metadata": {},
   "outputs": [
    {
     "data": {
      "text/html": [
       "<div>\n",
       "<style scoped>\n",
       "    .dataframe tbody tr th:only-of-type {\n",
       "        vertical-align: middle;\n",
       "    }\n",
       "\n",
       "    .dataframe tbody tr th {\n",
       "        vertical-align: top;\n",
       "    }\n",
       "\n",
       "    .dataframe thead th {\n",
       "        text-align: right;\n",
       "    }\n",
       "</style>\n",
       "<table border=\"1\" class=\"dataframe\">\n",
       "  <thead>\n",
       "    <tr style=\"text-align: right;\">\n",
       "      <th></th>\n",
       "      <th>Unit: percent squared</th>\n",
       "      <th>S&amp;P 500</th>\n",
       "      <th>US long-term corporate bonds</th>\n",
       "      <th>MSCI EAFE</th>\n",
       "    </tr>\n",
       "  </thead>\n",
       "  <tbody>\n",
       "    <tr>\n",
       "      <th>0</th>\n",
       "      <td>S&amp;P 500</td>\n",
       "      <td>400</td>\n",
       "      <td>45</td>\n",
       "      <td>189</td>\n",
       "    </tr>\n",
       "    <tr>\n",
       "      <th>1</th>\n",
       "      <td>US long-term corporate bonds</td>\n",
       "      <td>45</td>\n",
       "      <td>81</td>\n",
       "      <td>38</td>\n",
       "    </tr>\n",
       "    <tr>\n",
       "      <th>2</th>\n",
       "      <td>MSCI EAFE</td>\n",
       "      <td>189</td>\n",
       "      <td>38</td>\n",
       "      <td>441</td>\n",
       "    </tr>\n",
       "  </tbody>\n",
       "</table>\n",
       "</div>"
      ],
      "text/plain": [
       "          Unit: percent squared  S&P 500  US long-term corporate bonds  \\\n",
       "0                       S&P 500      400                            45   \n",
       "1  US long-term corporate bonds       45                            81   \n",
       "2                     MSCI EAFE      189                            38   \n",
       "\n",
       "   MSCI EAFE  \n",
       "0        189  \n",
       "1         38  \n",
       "2        441  "
      ]
     },
     "execution_count": 142,
     "metadata": {},
     "output_type": "execute_result"
    }
   ],
   "source": [
    "# Covariance Matrix\n",
    "matrix = {'Unit: percent squared': ['S&P 500', 'US long-term corporate bonds', 'MSCI EAFE'], \n",
    "     'S&P 500': [400, 45, 189], 'US long-term corporate bonds':[45, 81, 38], 'MSCI EAFE':[189, 38, 441]}\n",
    "cov_matrix = pd.DataFrame(data=matrix)\n",
    "cov_matrix"
   ]
  },
  {
   "cell_type": "code",
   "execution_count": 210,
   "metadata": {},
   "outputs": [],
   "source": [
    "#for row in cov_matrix[['S&P 500', 'US long-term corporate bonds', 'MSCI EAFE']].to_numpy():\n",
    "#    print(row[0]*portfolio['Weights'][0])"
   ]
  },
  {
   "cell_type": "code",
   "execution_count": 211,
   "metadata": {},
   "outputs": [],
   "source": [
    "#row = cov_matrix.iloc[[0]][['S&P 500', 'US long-term corporate bonds', 'MSCI EAFE']].to_numpy()\n",
    "#row"
   ]
  },
  {
   "cell_type": "code",
   "execution_count": 205,
   "metadata": {},
   "outputs": [],
   "source": [
    "to_sum = []\n",
    "for i in range(len(portfolio)):\n",
    "    row = cov_matrix.iloc[[i]][['S&P 500', 'US long-term corporate bonds', 'MSCI EAFE']].to_numpy()\n",
    "    ind_var = weights[i]*row\n",
    "    # Arrange into a matrix\n",
    "    to_sum.append(ind_var.squeeze())\n",
    "matrix = np.row_stack(to_sum)"
   ]
  },
  {
   "cell_type": "code",
   "execution_count": 212,
   "metadata": {},
   "outputs": [
    {
     "data": {
      "text/plain": [
       "195.875"
      ]
     },
     "execution_count": 212,
     "metadata": {},
     "output_type": "execute_result"
    }
   ],
   "source": [
    "# Matrix operation\n",
    "# Calculate the variance of the portfolio return\n",
    "var = (matrix*weights).sum()\n",
    "var"
   ]
  },
  {
   "cell_type": "code",
   "execution_count": 214,
   "metadata": {},
   "outputs": [
    {
     "data": {
      "text/plain": [
       "13.995535002278405"
      ]
     },
     "execution_count": 214,
     "metadata": {},
     "output_type": "execute_result"
    }
   ],
   "source": [
    "# Calculate the standard deviation\n",
    "var**0.5"
   ]
  },
  {
   "cell_type": "markdown",
   "metadata": {},
   "source": [
    "Looking at the first three terms in the calculation above. Their sum, 100 + 5.0625 + 27.5625 = 132.625, is the contribution of the individual variances to portfolio variance. If the returns on the three assets were independent, covariances would be 0 and the standard deviation of portfolio return would be 132.6251/2 = 11.52 percent as compared to 14 percent before. The portfolio would have less risk. Suppose the covariance terms were negative. Then a negative number would be added to 132.625, so portfolio variance and risk would be even smaller. At the same time, we have not changed expected return. For the same expected portfolio return, the portfolio has less risk. This risk reduction is a diversification benefit, meaning a risk-reduction benefit from holding a portfolio of assets. <br>\n",
    "**The diversification benefit increases with decreasing covariance.**"
   ]
  },
  {
   "cell_type": "markdown",
   "metadata": {},
   "source": [
    "#### Correlation\n",
    "\n",
    "$\\rho(Ri,Rj) = Corr(R_{i},R_{j}) = \\displaystyle\\frac{Cov(R_{i},R_{j})}{[\\sigma(R_{i})\\sigma(R_{j})]}$\n",
    "\n",
    "\n",
    "$Cov(Ri,Rj) = \\rho(Ri,Rj)σ(Ri)σ(Rj)$\n",
    "<div style=\"text-align: right\"> Equation 18</div>\n",
    "\n",
    "<br>The above formula are forward-looking, we can similarly compute an historical or sample correlation by dividing historical or sample covariance between two variables by the product of sample standard deviations of the two variables.\n",
    "\n"
   ]
  },
  {
   "cell_type": "code",
   "execution_count": 147,
   "metadata": {},
   "outputs": [
    {
     "data": {
      "text/html": [
       "<div>\n",
       "<style scoped>\n",
       "    .dataframe tbody tr th:only-of-type {\n",
       "        vertical-align: middle;\n",
       "    }\n",
       "\n",
       "    .dataframe tbody tr th {\n",
       "        vertical-align: top;\n",
       "    }\n",
       "\n",
       "    .dataframe thead th {\n",
       "        text-align: right;\n",
       "    }\n",
       "</style>\n",
       "<table border=\"1\" class=\"dataframe\">\n",
       "  <thead>\n",
       "    <tr style=\"text-align: right;\">\n",
       "      <th></th>\n",
       "      <th>Unit: percent squared</th>\n",
       "      <th>S&amp;P 500</th>\n",
       "      <th>US long-term corporate bonds</th>\n",
       "      <th>MSCI EAFE</th>\n",
       "    </tr>\n",
       "  </thead>\n",
       "  <tbody>\n",
       "    <tr>\n",
       "      <th>0</th>\n",
       "      <td>S&amp;P 500</td>\n",
       "      <td>1.00</td>\n",
       "      <td>0.25</td>\n",
       "      <td>0.45</td>\n",
       "    </tr>\n",
       "    <tr>\n",
       "      <th>1</th>\n",
       "      <td>US long-term corporate bonds</td>\n",
       "      <td>0.25</td>\n",
       "      <td>1.00</td>\n",
       "      <td>0.25</td>\n",
       "    </tr>\n",
       "    <tr>\n",
       "      <th>2</th>\n",
       "      <td>MSCI EAFE</td>\n",
       "      <td>0.45</td>\n",
       "      <td>0.20</td>\n",
       "      <td>1.00</td>\n",
       "    </tr>\n",
       "  </tbody>\n",
       "</table>\n",
       "</div>"
      ],
      "text/plain": [
       "          Unit: percent squared  S&P 500  US long-term corporate bonds  \\\n",
       "0                       S&P 500     1.00                          0.25   \n",
       "1  US long-term corporate bonds     0.25                          1.00   \n",
       "2                     MSCI EAFE     0.45                          0.20   \n",
       "\n",
       "   MSCI EAFE  \n",
       "0       0.45  \n",
       "1       0.25  \n",
       "2       1.00  "
      ]
     },
     "execution_count": 147,
     "metadata": {},
     "output_type": "execute_result"
    }
   ],
   "source": [
    "# Correlation matrix of returns\n",
    "matrix2 = {'Unit: percent squared': ['S&P 500', 'US long-term corporate bonds', 'MSCI EAFE'], \n",
    "     'S&P 500': [1.0, 0.25, 0.45], 'US long-term corporate bonds':[0.25, 1.0, 0.20], 'MSCI EAFE':[0.45, 0.25, 1.0]}\n",
    "cov_matrix2 = pd.DataFrame(data=matrix2)\n",
    "cov_matrix2"
   ]
  },
  {
   "cell_type": "code",
   "execution_count": 148,
   "metadata": {},
   "outputs": [],
   "source": [
    "# Using for loop (another approach)\n"
   ]
  },
  {
   "cell_type": "markdown",
   "metadata": {},
   "source": [
    "Example: a portfolio of two mutual funds, with 75% in Fund A. $E(R_{A}) = 20\\%$, $E(R_{B}) = 12\\%$"
   ]
  },
  {
   "cell_type": "code",
   "execution_count": 217,
   "metadata": {},
   "outputs": [
    {
     "data": {
      "text/html": [
       "<div>\n",
       "<style scoped>\n",
       "    .dataframe tbody tr th:only-of-type {\n",
       "        vertical-align: middle;\n",
       "    }\n",
       "\n",
       "    .dataframe tbody tr th {\n",
       "        vertical-align: top;\n",
       "    }\n",
       "\n",
       "    .dataframe thead th {\n",
       "        text-align: right;\n",
       "    }\n",
       "</style>\n",
       "<table border=\"1\" class=\"dataframe\">\n",
       "  <thead>\n",
       "    <tr style=\"text-align: right;\">\n",
       "      <th></th>\n",
       "      <th>Fund</th>\n",
       "      <th>A</th>\n",
       "      <th>B</th>\n",
       "    </tr>\n",
       "  </thead>\n",
       "  <tbody>\n",
       "    <tr>\n",
       "      <th>0</th>\n",
       "      <td>A</td>\n",
       "      <td>625</td>\n",
       "      <td>120</td>\n",
       "    </tr>\n",
       "    <tr>\n",
       "      <th>1</th>\n",
       "      <td>B</td>\n",
       "      <td>120</td>\n",
       "      <td>196</td>\n",
       "    </tr>\n",
       "  </tbody>\n",
       "</table>\n",
       "</div>"
      ],
      "text/plain": [
       "  Fund    A    B\n",
       "0    A  625  120\n",
       "1    B  120  196"
      ]
     },
     "execution_count": 217,
     "metadata": {},
     "output_type": "execute_result"
    }
   ],
   "source": [
    "# Covariance Matrix\n",
    "funds = {'Fund':['A', 'B'], 'A':[625, 120], 'B':[120, 196]}\n",
    "cov_matrix3 = pd.DataFrame(data=funds)\n",
    "cov_matrix3"
   ]
  },
  {
   "cell_type": "code",
   "execution_count": 223,
   "metadata": {},
   "outputs": [
    {
     "data": {
      "text/plain": [
       "0.18000000000000002"
      ]
     },
     "execution_count": 223,
     "metadata": {},
     "output_type": "execute_result"
    }
   ],
   "source": [
    "# Calculate the expected return \n",
    "0.75 * 0.20 + 0.25 * 0.12"
   ]
  },
  {
   "cell_type": "code",
   "execution_count": 224,
   "metadata": {},
   "outputs": [
    {
     "data": {
      "text/plain": [
       "0.34285714285714286"
      ]
     },
     "execution_count": 224,
     "metadata": {},
     "output_type": "execute_result"
    }
   ],
   "source": [
    "# Calculate the correlation matrix \n",
    "std_A = 625**0.5\n",
    "std_B = 196**0.5\n",
    "corr = 120 / (std_A*std_B)\n",
    "corr"
   ]
  },
  {
   "cell_type": "code",
   "execution_count": 220,
   "metadata": {},
   "outputs": [
    {
     "data": {
      "text/plain": [
       "20.219050422806706"
      ]
     },
     "execution_count": 220,
     "metadata": {},
     "output_type": "execute_result"
    }
   ],
   "source": [
    "# Compute portfolio standard deviation of return\n",
    "std_port = 408.81**0.5\n",
    "# Check answers in the reading"
   ]
  },
  {
   "cell_type": "markdown",
   "metadata": {},
   "source": [
    "## Covariance Given a Joint Probability Function"
   ]
  },
  {
   "cell_type": "markdown",
   "metadata": {},
   "source": [
    "$Cov(R_{A},R_{B})=\\sum_i\\sum_j{P(R_{A,i},R_{B,j})(R_{A,i}−ER_{A})(R_{B,j}−ER_{B})}$\n",
    "<div style=\"text-align: right\"> Equation 19</div>"
   ]
  },
  {
   "cell_type": "markdown",
   "metadata": {},
   "source": [
    "Sum all possible deviation cross-products weighted by the appropriate joint probability."
   ]
  },
  {
   "cell_type": "markdown",
   "metadata": {},
   "source": [
    "## Bayes' Formula"
   ]
  },
  {
   "cell_type": "markdown",
   "metadata": {},
   "source": [
    "Bayes’ formula uses the occurrence of the event to infer the probability of the scenario generating it.<br>\n",
    "Use case: evaluation of mutual fund performance"
   ]
  },
  {
   "cell_type": "markdown",
   "metadata": {},
   "source": [
    "Given a set of prior probabilities for an event of interest, if you receive new information, the rule for updating your probability of the event is:<br>\n",
    "$P(Event | Information)= \\displaystyle\\frac{P(Information | Event)}{P(Information)}*P(Event)$"
   ]
  },
  {
   "cell_type": "code",
   "execution_count": null,
   "metadata": {},
   "outputs": [],
   "source": []
  },
  {
   "cell_type": "markdown",
   "metadata": {},
   "source": [
    "## Principles of Counting"
   ]
  },
  {
   "cell_type": "markdown",
   "metadata": {},
   "source": [
    "#### Multiplication Rule of Counting\n",
    "$n! = n(n – 1)(n – 2)(n – 3)…1$"
   ]
  },
  {
   "cell_type": "markdown",
   "metadata": {},
   "source": [
    "#### Multinomial Formula (General Formula for Labeling Problems)\n",
    "The number of ways that n objects can be labeled with k different labels, with n1 of the first type, n2 of the second type, and so on, with n1 + n2 + … + nk = n, is given by<br><br>\n",
    "$\\displaystyle\\frac{n_{!}}{n_{1}!n_{2}!…n_{k}!}$<br>\n",
    "\n",
    "A mutual fund guide ranked 18 bond mutual funds by total returns for the last year. The guide also assigned each fund one of five risk labels: high risk (four funds), above-average risk (four funds), average risk (three funds), below-average risk (four funds), and low risk (three funds); as 4 + 4 + 3 + 4 + 3 = 18, all the funds are accounted for. How many different ways can we take 18 mutual funds and label 4 of them high risk, 4 above-average risk, 3 average risk, 4 below-average risk, and 3 low risk, so that each fund is labeled?<br>\n",
    "\n"
   ]
  },
  {
   "cell_type": "markdown",
   "metadata": {},
   "source": [
    "#### Combination Formula (Binomial Formula)\n",
    "\n",
    "The number of ways that we can choose r objects from a total of n objects, when the order in which the r objects are listed does not matter, is<br><br>\n",
    "$\\displaystyle_{n}C_{r}=\\binom{n}r=\\frac{n!}{(n−r)!r!}$\n",
    "<br><br>\n",
    "Here $_{n}C_{r}$ and $\\binom{n}r$ are shorthand notations for $\\frac{n!}{(n − r)!r!}$ (read: n choose r, or n combination r)."
   ]
  },
  {
   "cell_type": "markdown",
   "metadata": {},
   "source": [
    "#### Permutation Formula\n",
    "The number of ways that we can choose r objects from a total of n objects, when the order in which the r objects are listed does matter, is<br><br>\n",
    "$\\displaystyle_{n}P_{r}=\\frac{n!}{(n−r)!}$"
   ]
  },
  {
   "cell_type": "markdown",
   "metadata": {},
   "source": [
    "#### The binomial option pricing model"
   ]
  },
  {
   "cell_type": "code",
   "execution_count": null,
   "metadata": {},
   "outputs": [],
   "source": []
  },
  {
   "cell_type": "markdown",
   "metadata": {},
   "source": [
    "# Quantitative Methods Part II"
   ]
  },
  {
   "cell_type": "code",
   "execution_count": null,
   "metadata": {},
   "outputs": [],
   "source": []
  },
  {
   "cell_type": "code",
   "execution_count": null,
   "metadata": {},
   "outputs": [],
   "source": []
  }
 ],
 "metadata": {
  "kernelspec": {
   "display_name": "Python 3",
   "language": "python",
   "name": "python3"
  },
  "language_info": {
   "codemirror_mode": {
    "name": "ipython",
    "version": 3
   },
   "file_extension": ".py",
   "mimetype": "text/x-python",
   "name": "python",
   "nbconvert_exporter": "python",
   "pygments_lexer": "ipython3",
   "version": "3.7.3"
  }
 },
 "nbformat": 4,
 "nbformat_minor": 4
}
