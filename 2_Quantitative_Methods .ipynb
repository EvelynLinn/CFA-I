{
 "cells": [
  {
   "cell_type": "markdown",
   "metadata": {},
   "source": [
    "# Quantitative Methods"
   ]
  },
  {
   "cell_type": "code",
   "execution_count": 1,
   "metadata": {},
   "outputs": [],
   "source": [
    "import pandas as pd\n",
    "import numpy as np"
   ]
  },
  {
   "cell_type": "markdown",
   "metadata": {},
   "source": [
    "## Geometric Mean"
   ]
  },
  {
   "cell_type": "code",
   "execution_count": 2,
   "metadata": {},
   "outputs": [],
   "source": [
    "from scipy.stats.mstats import gmean "
   ]
  },
  {
   "cell_type": "code",
   "execution_count": 3,
   "metadata": {},
   "outputs": [
    {
     "data": {
      "text/html": [
       "<div>\n",
       "<style scoped>\n",
       "    .dataframe tbody tr th:only-of-type {\n",
       "        vertical-align: middle;\n",
       "    }\n",
       "\n",
       "    .dataframe tbody tr th {\n",
       "        vertical-align: top;\n",
       "    }\n",
       "\n",
       "    .dataframe thead th {\n",
       "        text-align: right;\n",
       "    }\n",
       "</style>\n",
       "<table border=\"1\" class=\"dataframe\">\n",
       "  <thead>\n",
       "    <tr style=\"text-align: right;\">\n",
       "      <th></th>\n",
       "      <th>Year</th>\n",
       "      <th>Selected American Shares (SLASX) %</th>\n",
       "      <th>T. Rowe Price Equity Income (PRFDX)%</th>\n",
       "    </tr>\n",
       "  </thead>\n",
       "  <tbody>\n",
       "    <tr>\n",
       "      <th>0</th>\n",
       "      <td>2013</td>\n",
       "      <td>34.90</td>\n",
       "      <td>31.69</td>\n",
       "    </tr>\n",
       "    <tr>\n",
       "      <th>1</th>\n",
       "      <td>2014</td>\n",
       "      <td>6.13</td>\n",
       "      <td>7.75</td>\n",
       "    </tr>\n",
       "    <tr>\n",
       "      <th>2</th>\n",
       "      <td>2015</td>\n",
       "      <td>2.69</td>\n",
       "      <td>-7.56</td>\n",
       "    </tr>\n",
       "    <tr>\n",
       "      <th>3</th>\n",
       "      <td>2016</td>\n",
       "      <td>11.66</td>\n",
       "      <td>18.25</td>\n",
       "    </tr>\n",
       "    <tr>\n",
       "      <th>4</th>\n",
       "      <td>2017</td>\n",
       "      <td>21.77</td>\n",
       "      <td>16.18</td>\n",
       "    </tr>\n",
       "  </tbody>\n",
       "</table>\n",
       "</div>"
      ],
      "text/plain": [
       "   Year  Selected American Shares (SLASX) %  \\\n",
       "0  2013                               34.90   \n",
       "1  2014                                6.13   \n",
       "2  2015                                2.69   \n",
       "3  2016                               11.66   \n",
       "4  2017                               21.77   \n",
       "\n",
       "   T. Rowe Price Equity Income (PRFDX)%  \n",
       "0                                 31.69  \n",
       "1                                  7.75  \n",
       "2                                 -7.56  \n",
       "3                                 18.25  \n",
       "4                                 16.18  "
      ]
     },
     "execution_count": 3,
     "metadata": {},
     "output_type": "execute_result"
    }
   ],
   "source": [
    "# The most recent five years of total returns for two US large-cap value equity mutual funds in 2018\n",
    "d = {'Year': [2013, 2014, 2015, 2016, 2017], \n",
    "     'Selected American Shares (SLASX) %': [34.90, 6.13, 2.69, 11.66, 21.77], \n",
    "     'T. Rowe Price Equity Income (PRFDX)%':[31.69, 7.75, -7.56, 18.25, 16.18]}\n",
    "df = pd.DataFrame(data=d)\n",
    "df"
   ]
  },
  {
   "cell_type": "code",
   "execution_count": 4,
   "metadata": {},
   "outputs": [],
   "source": [
    "# Calculate the geometric mean return of SLASX\n",
    "slasx = df['Selected American Shares (SLASX) %'].tolist()"
   ]
  },
  {
   "cell_type": "markdown",
   "metadata": {},
   "source": [
    "\\begin{equation*}\n",
    "R_{t} + 1 = \\sqrt[t]{(1+R_{1})(1+R_{2})...(1+R_{t})}\n",
    "\\end{equation*}\n"
   ]
  },
  {
   "cell_type": "code",
   "execution_count": 5,
   "metadata": {},
   "outputs": [],
   "source": [
    "# Redefine returns to make them positive by adding 1.0\n",
    "g_slasx = list(map(lambda i: i/100+1, slasx))"
   ]
  },
  {
   "cell_type": "code",
   "execution_count": 6,
   "metadata": {},
   "outputs": [
    {
     "data": {
      "text/plain": [
       "0.14858526227425917"
      ]
     },
     "execution_count": 6,
     "metadata": {},
     "output_type": "execute_result"
    }
   ],
   "source": [
    "gmean(g_slasx) -1"
   ]
  },
  {
   "cell_type": "markdown",
   "metadata": {},
   "source": [
    "\\begin{equation*}\n",
    "G = \\sqrt[n]{x_{1}x_{2}...x_{n}}\n",
    "\\end{equation*}with $X_{i}≥0$ for i=1,2,…,n.\n"
   ]
  },
  {
   "cell_type": "code",
   "execution_count": 38,
   "metadata": {},
   "outputs": [
    {
     "data": {
      "text/plain": [
       "15.429999999999998"
      ]
     },
     "execution_count": 38,
     "metadata": {},
     "output_type": "execute_result"
    }
   ],
   "source": [
    "# Calculate the arithmetic mean return of SLASX and contrast it to the fund’s geometric mean return\n",
    "df['Selected American Shares (SLASX) %'].mean()"
   ]
  },
  {
   "cell_type": "code",
   "execution_count": 41,
   "metadata": {},
   "outputs": [
    {
     "data": {
      "text/plain": [
       "0.1249999599109004"
      ]
     },
     "execution_count": 41,
     "metadata": {},
     "output_type": "execute_result"
    }
   ],
   "source": [
    "# Calculate the geometric mean return of PRFDX\n",
    "g_prfdx = list(map(lambda i: i/100+1, df['T. Rowe Price Equity Income (PRFDX)%'].tolist()))\n",
    "gmean(g_prfdx) - 1"
   ]
  },
  {
   "cell_type": "code",
   "execution_count": 42,
   "metadata": {},
   "outputs": [
    {
     "data": {
      "text/plain": [
       "13.262"
      ]
     },
     "execution_count": 42,
     "metadata": {},
     "output_type": "execute_result"
    }
   ],
   "source": [
    "# Calculate the arithmetic mean return of PRFDX and contrast it to the fund’s geometric mean return\n",
    "df['T. Rowe Price Equity Income (PRFDX)%'].mean()"
   ]
  },
  {
   "cell_type": "markdown",
   "metadata": {},
   "source": [
    "## Harmonic Mean and Weighted Mean\n",
    "<br>\n",
    "Use case 1: \"Cost averaging\" which requires periodic investment of a fixed amount of money. "
   ]
  },
  {
   "cell_type": "code",
   "execution_count": 10,
   "metadata": {},
   "outputs": [],
   "source": [
    "import statistics"
   ]
  },
  {
   "cell_type": "code",
   "execution_count": 13,
   "metadata": {},
   "outputs": [],
   "source": [
    "price_per_share = [12.1, 13.5, 17, 11.98, 15]"
   ]
  },
  {
   "cell_type": "code",
   "execution_count": 14,
   "metadata": {},
   "outputs": [
    {
     "name": "stdout",
     "output_type": "stream",
     "text": [
      "Harmonic Mean is 13.67310629317005 \n"
     ]
    }
   ],
   "source": [
    "print(\"Harmonic Mean is % s \" % (statistics.harmonic_mean(price_per_share))) "
   ]
  },
  {
   "cell_type": "markdown",
   "metadata": {},
   "source": [
    "## Quantiles"
   ]
  },
  {
   "cell_type": "code",
   "execution_count": 7,
   "metadata": {},
   "outputs": [],
   "source": [
    "# Web scraping Euro Stoxx 50 data\n",
    "import csv\n",
    "from urllib.request import urlopen\n",
    "from bs4 import BeautifulSoup\n",
    "\n",
    "html = urlopen(\"https://www.dividendmax.com/market-index-constituents/euro-stoxx-50\")\n",
    "soup = BeautifulSoup(html, \"html.parser\")\n",
    "table = soup.findAll(\"table\")[0]\n",
    "rows = table.findAll(\"tr\")\n",
    "\n",
    "with open(\"editors.csv\", \"wt+\", newline=\"\") as f:\n",
    "    writer = csv.writer(f)\n",
    "    for row in rows:\n",
    "        csv_row = []\n",
    "        for cell in row.findAll([\"td\", \"th\"]):\n",
    "            csv_row.append(cell.get_text())\n",
    "        writer.writerow(csv_row)"
   ]
  },
  {
   "cell_type": "code",
   "execution_count": 8,
   "metadata": {},
   "outputs": [],
   "source": [
    "euro_stoxx = pd.read_csv('editors.csv')"
   ]
  },
  {
   "cell_type": "code",
   "execution_count": 9,
   "metadata": {},
   "outputs": [
    {
     "data": {
      "text/html": [
       "<div>\n",
       "<style scoped>\n",
       "    .dataframe tbody tr th:only-of-type {\n",
       "        vertical-align: middle;\n",
       "    }\n",
       "\n",
       "    .dataframe tbody tr th {\n",
       "        vertical-align: top;\n",
       "    }\n",
       "\n",
       "    .dataframe thead th {\n",
       "        text-align: right;\n",
       "    }\n",
       "</style>\n",
       "<table border=\"1\" class=\"dataframe\">\n",
       "  <thead>\n",
       "    <tr style=\"text-align: right;\">\n",
       "      <th></th>\n",
       "      <th>Company</th>\n",
       "      <th>Exchange</th>\n",
       "      <th>Price</th>\n",
       "      <th>Currency</th>\n",
       "      <th>\\nMarket Cap\\n\\n</th>\n",
       "    </tr>\n",
       "  </thead>\n",
       "  <tbody>\n",
       "    <tr>\n",
       "      <th>0</th>\n",
       "      <td>🇫🇷AIAir Liquide S.A</td>\n",
       "      <td>Euronext Paris (France)</td>\n",
       "      <td>€135.55</td>\n",
       "      <td>EUR</td>\n",
       "      <td>€42.3bn</td>\n",
       "    </tr>\n",
       "    <tr>\n",
       "      <th>1</th>\n",
       "      <td>🇩🇪ALVAllianz SE</td>\n",
       "      <td>Frankfurt Stock Exchange (Germany)</td>\n",
       "      <td>€164.38</td>\n",
       "      <td>EUR</td>\n",
       "      <td>€74.2bn</td>\n",
       "    </tr>\n",
       "    <tr>\n",
       "      <th>2</th>\n",
       "      <td>🇧🇪ABIAnheuser-Busch In Bev SA/NV</td>\n",
       "      <td>Euronext Brussels (Belgium)</td>\n",
       "      <td>€44.78</td>\n",
       "      <td>EUR</td>\n",
       "      <td>€71.9bn</td>\n",
       "    </tr>\n",
       "    <tr>\n",
       "      <th>3</th>\n",
       "      <td>🇱🇺MTLArcelorMittal</td>\n",
       "      <td>Luxembourg Stock Exchange (Luxembourg)</td>\n",
       "      <td>€12.94</td>\n",
       "      <td>EUR</td>\n",
       "      <td>€19.5bn</td>\n",
       "    </tr>\n",
       "    <tr>\n",
       "      <th>4</th>\n",
       "      <td>🇳🇱ASMLASML Holding NV</td>\n",
       "      <td>Euronext Amsterdam (Netherlands)</td>\n",
       "      <td>€308.15</td>\n",
       "      <td>EUR</td>\n",
       "      <td>€129.4bn</td>\n",
       "    </tr>\n",
       "    <tr>\n",
       "      <th>5</th>\n",
       "      <td>🇮🇹GAssicurazioni Generali SPA</td>\n",
       "      <td>Italian Stock Exchange (Italy)</td>\n",
       "      <td>€11.64</td>\n",
       "      <td>EUR</td>\n",
       "      <td>€18.1bn</td>\n",
       "    </tr>\n",
       "    <tr>\n",
       "      <th>6</th>\n",
       "      <td>🇫🇷CSAxa</td>\n",
       "      <td>Euronext Paris (France)</td>\n",
       "      <td>€15.78</td>\n",
       "      <td>EUR</td>\n",
       "      <td>€37.2bn</td>\n",
       "    </tr>\n",
       "    <tr>\n",
       "      <th>7</th>\n",
       "      <td>🇪🇸BBVABanco Bilbao Vizcaya Argentaria.</td>\n",
       "      <td>Madrid Stock Exchange (Spain)</td>\n",
       "      <td>€2.28</td>\n",
       "      <td>EUR</td>\n",
       "      <td>€10.4bn</td>\n",
       "    </tr>\n",
       "    <tr>\n",
       "      <th>8</th>\n",
       "      <td>🇪🇸SANBanco Santander S.A.</td>\n",
       "      <td>Madrid Stock Exchange (Spain)</td>\n",
       "      <td>€1.55</td>\n",
       "      <td>EUR</td>\n",
       "      <td>€13.0bn</td>\n",
       "    </tr>\n",
       "    <tr>\n",
       "      <th>9</th>\n",
       "      <td>🇩🇪BASBasf SE</td>\n",
       "      <td>Frankfurt Stock Exchange (Germany)</td>\n",
       "      <td>€49.99</td>\n",
       "      <td>EUR</td>\n",
       "      <td>€45.9bn</td>\n",
       "    </tr>\n",
       "  </tbody>\n",
       "</table>\n",
       "</div>"
      ],
      "text/plain": [
       "                                  Company  \\\n",
       "0                     🇫🇷AIAir Liquide S.A   \n",
       "1                         🇩🇪ALVAllianz SE   \n",
       "2        🇧🇪ABIAnheuser-Busch In Bev SA/NV   \n",
       "3                      🇱🇺MTLArcelorMittal   \n",
       "4                   🇳🇱ASMLASML Holding NV   \n",
       "5           🇮🇹GAssicurazioni Generali SPA   \n",
       "6                                 🇫🇷CSAxa   \n",
       "7  🇪🇸BBVABanco Bilbao Vizcaya Argentaria.   \n",
       "8               🇪🇸SANBanco Santander S.A.   \n",
       "9                            🇩🇪BASBasf SE   \n",
       "\n",
       "                                 Exchange    Price Currency \\nMarket Cap\\n\\n  \n",
       "0                 Euronext Paris (France)  €135.55      EUR          €42.3bn  \n",
       "1      Frankfurt Stock Exchange (Germany)  €164.38      EUR          €74.2bn  \n",
       "2             Euronext Brussels (Belgium)   €44.78      EUR          €71.9bn  \n",
       "3  Luxembourg Stock Exchange (Luxembourg)   €12.94      EUR          €19.5bn  \n",
       "4        Euronext Amsterdam (Netherlands)  €308.15      EUR         €129.4bn  \n",
       "5          Italian Stock Exchange (Italy)   €11.64      EUR          €18.1bn  \n",
       "6                 Euronext Paris (France)   €15.78      EUR          €37.2bn  \n",
       "7           Madrid Stock Exchange (Spain)    €2.28      EUR          €10.4bn  \n",
       "8           Madrid Stock Exchange (Spain)    €1.55      EUR          €13.0bn  \n",
       "9      Frankfurt Stock Exchange (Germany)   €49.99      EUR          €45.9bn  "
      ]
     },
     "execution_count": 9,
     "metadata": {},
     "output_type": "execute_result"
    }
   ],
   "source": [
    "euro_stoxx.head(10)"
   ]
  },
  {
   "cell_type": "code",
   "execution_count": null,
   "metadata": {},
   "outputs": [],
   "source": []
  }
 ],
 "metadata": {
  "kernelspec": {
   "display_name": "Python 3",
   "language": "python",
   "name": "python3"
  },
  "language_info": {
   "codemirror_mode": {
    "name": "ipython",
    "version": 3
   },
   "file_extension": ".py",
   "mimetype": "text/x-python",
   "name": "python",
   "nbconvert_exporter": "python",
   "pygments_lexer": "ipython3",
   "version": "3.7.3"
  }
 },
 "nbformat": 4,
 "nbformat_minor": 4
}
