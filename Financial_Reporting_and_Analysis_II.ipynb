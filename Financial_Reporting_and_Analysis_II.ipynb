{
 "cells": [
  {
   "cell_type": "markdown",
   "metadata": {},
   "source": [
    "# Understanding Income Statements"
   ]
  },
  {
   "cell_type": "markdown",
   "metadata": {},
   "source": [
    "## Components and Format of the Income Statement"
   ]
  },
  {
   "cell_type": "markdown",
   "metadata": {},
   "source": [
    "#### Revenue \n",
    "(a.k.a sales or turnover) generally refers to the amount charged for the delivery of goods or services in the ordinary activities of a business. Revenue is reported after adjustments (e.g., for cash or volume discounts, or for other reductions), and the term *net revenue* is sometimes used to specifically indicate that the revenue has been adjusted (e.g., for estimated returns).\n",
    "\n",
    "**Important**: Identify the appropriately comparable revenue amounts via referencing information disclosed elsewhere (notes to the financial statements and the Management Discussion and Analysis, MD&A)"
   ]
  },
  {
   "cell_type": "markdown",
   "metadata": {},
   "source": [
    "#### Expenses, Net Income and Income\n",
    "The definition of **income** encompasses both revenue and gains and the definition of **expenses** encompasses both expenses that arise in the ordinary activities of the business and losses.\n",
    "\n",
    "Expenses reflect outflows, depletions of assets, and incurrences of liabilities in the course of the activities of a business. Expenses may be grouped and reported in different formats, subject to some specific requirements.\n",
    "\n",
    "At the bottom of the income statement, companies report net income (companies may use other terms such as “net earnings” or “profit or loss”, a.k.a \"bottom line\"). Net income is often viewed as the single most relevant number to describe a company’s performance over a period of time.\n",
    "\n",
    "Net income (profit or loss) can be defined as: \n",
    "- a) income minus expenses, or equivalently \n",
    "- b) revenue plus other income plus gains minus expenses, or equivalently \n",
    "- c) revenue plus other income plus gains minus expenses in the ordinary activities of the business minus other expenses, and minus losses. \n",
    "\n",
    "The last definition can be rearranged as follows: \n",
    "net income =\n",
    "(i) revenue - expenses in the ordinary activities + (ii) other income - other expenses, + (iii) gains + losses\n",
    "\n",
    "Each company presents additional items below net income: information about how much of that net income is attributable to the company itself and how much of that income is attributable to noncontrolling interests, also known as minority interests. *(Noncontrolling interest represents the portion of income that “belongs” to the minority shareholders of the consolidated subsidiaries, as opposed to the parent company itself.)*"
   ]
  },
  {
   "cell_type": "markdown",
   "metadata": {},
   "source": [
    "#### Other Items in Income Statement\n",
    "Revenue, finance costs, and tax expense, are required to be presented separately on the face of the income statement.\n",
    "\n",
    "Line items, headings, and subtotals relevant to understanding the entity’s financial performance should be presented even if not specified. \n",
    "\n",
    "Expenses may be grouped together either by their *nature* (e.g. depreciation) or *function* (e.g. cost of goods sold may include labour and material costs, depreciation, salespeople’s salaries, and other direct sales related expenses)."
   ]
  },
  {
   "cell_type": "markdown",
   "metadata": {},
   "source": [
    "#### Subtotal: Gross Profit (optional)\n",
    "One subtotal often shown in an income statement is gross profit or gross margin (that is revenue less cost of sales). When an income statement shows a gross profit subtotal, it is said to use a multi-step format rather than a single-step format. Gross profit is the amount of revenue available after subtracting the costs of delivering goods or services. Other expenses related to running the business are subtracted after gross profit."
   ]
  },
  {
   "cell_type": "markdown",
   "metadata": {},
   "source": [
    "#### Subtotal: Operating Profit \n",
    "(a.k.a synonymously, operating income). It results from deducting *operating expenses* (such as selling, general, administrative, and research and development expenses) from *gross profit*. \n",
    "\n",
    "Operating profit reflects a company’s profits on its business activities before deducting taxes, and for non-financial companies, before deducting interest expense. \n",
    "\n",
    "Operating profit is sometimes referred to as EBIT (earnings before interest and taxes). However, operating profit and EBIT are not necessarily the same. "
   ]
  },
  {
   "cell_type": "markdown",
   "metadata": {},
   "source": [
    "Use cases:<br>\n",
    "For some companies composed of a number of separate business segments, operating profit can be useful in evaluating the performance of the individual business segments, because interest and tax expenses may be more relevant at the level of the overall company rather than an individual segment level. \n",
    "\n",
    "Although the extra week is likely immaterial in computing year-to-year growth rates, it may have a material impact on a quarter containing the extra week. In general, an analyst should be alert to the effect of an extra week when making historical comparisons and forecasting future performance."
   ]
  },
  {
   "cell_type": "markdown",
   "metadata": {},
   "source": [
    "## Revenue Recognition\n",
    "Basic Principles and Selected Applications Related to the Recognition of Revenue"
   ]
  },
  {
   "cell_type": "markdown",
   "metadata": {},
   "source": [
    "The *Conceptual Framework* defines income as follows:\n",
    "Income is increases in economic benefits during the accounting period in the form of inflows or enhancements of assets or decreases of liabilities that result in increases in equity, other than those relating to contributions from equity participants.\n",
    "\n",
    "In IFRS, the term “income” includes revenue and gains. Gains are similar to revenue, but they typically arise from secondary or peripheral activities rather than from a company’s primary business activities. Similarly, a loss typically arises from secondary activities. Gains and losses may be considered part of operating activities (e.g., a loss due to a decline in the value of inventory) or may be considered part of non-operating activities (e.g., the sale of non-trading investments).\n",
    "\n",
    "Net revenue is revenue for goods sold during the period less any returns and allowances."
   ]
  },
  {
   "cell_type": "markdown",
   "metadata": {},
   "source": [
    "#### General Principles\n",
    "If the delivery was on credit, a related asset, such as trade or accounts receivable, is created. Later, when cash changes hands, the company’s financial records simply reflect that cash has been received to settle an account receivable.\n",
    "\n",
    "There are situations when a company receives cash in advance and actually delivers the product or service later, perhaps over a period of time. In this case, the company would record a liability for unearned revenue when the cash is initially received, and revenue would be recognized as being earned over time as products and services are delivered. An example would be a subscription payment received for a publication that is to be delivered periodically over time."
   ]
  },
  {
   "cell_type": "markdown",
   "metadata": {},
   "source": [
    "#### Accounting Standards for Revenue Recognition\n",
    "The core principle of the converged standard is that revenue should be recognized to “depict the transfer of promised goods or services to customers in an amount that reflects the consideration to which the entity expects to be entitled in an exchange for those goods or services.”\n",
    "\n",
    "Five steps in recognizing revenue\n",
    "1. Identify the contract(s) with a customer\n",
    "2. Identify the separate or distinct performance obligations in the contract\n",
    "3. Determine the transaction price\n",
    "4. Allocate the transaction price to the performance obligations in the contract\n",
    "5. Recognize revenue when (or as) the entity satisfies a performance obligation (The performance obligations within a contract represent promises to transfer distinct good(s) or service(s))\n",
    "\n",
    "When revenue is recognized, a contract asset is presented on the balance sheet. It is only at the point when all performance obligations have been met except for payment that a receivable appears on the seller’s balance sheet. If consideration is received in advance of transferring good(s) or service(s), the seller presents a contract liability.\n",
    "\n",
    "In case revenues are reversed:\n",
    "The balance sheet will be required to reflect the entire refund obligation as a liability and will include an asset for the “right to returned goods” based on the carrying amount of inventory less costs of recovery."
   ]
  },
  {
   "cell_type": "markdown",
   "metadata": {},
   "source": [
    "Under the converged accounting standards, the incremental costs of obtaining a contract and certain costs incurred to fulfill a contract must be capitalized. If a company expensed these incremental costs in the years prior to adopting the converged standards, all else being equal, its profitability will appear higher under the converged standards.\n",
    "\n",
    "Some related costs require specific accounting treatment under the new standards. In particular, incremental costs of obtaining a contract and certain costs incurred to fulfill a contract must be capitalized under the new standards (i.e., reported as an asset on the balance sheet rather than as an expense on the income statement). If a company had previously expensed these incremental costs in the years prior to adopting the converged standard, all else equal, its profitability will initially appear higher under the converged standards."
   ]
  },
  {
   "cell_type": "markdown",
   "metadata": {},
   "source": [
    "## Expense Recognition: General Principles\n",
    "basic principles and selected applications related to the recognition of expenses。\n",
    "\n",
    "Under the IASB Conceptual Framework, expenses are “decreases in economic benefits during the accounting period in the form of outflows or depletions of assets or incurrences of liabilities that result in decreases in equity, other than those relating to distributions to equity participants.”\n",
    "\n",
    "They usually take the form of an outflow or depletion of assets such as cash and cash equivalents, inventory, property, plant and equipment.\n",
    "\n",
    "#### General Principles: Matching Principle\n",
    "a company recognizes some expenses (e.g., cost of goods sold) when associated revenues are recognized and thus, expenses and revenues are matched. Matching requires that a company recognizes cost of goods sold in the same period as revenues from the sale of the goods.\n",
    "\n",
    "Period costs, expenditures that less directly match revenues, are reflected in the period when a company makes the expenditure or incurs the liability to pay. Administrative expenses are an example of period costs. \n",
    "\n",
    "Other expenditures that also less directly match revenues relate more directly to future expected benefits; in this case, the expenditures are allocated systematically with the passage of time. An example is depreciation expense.\n",
    "\n",
    "#### FIFO and Weighted Average Cost Methods\n",
    "Specific identification method and inventory and cost of goods sold are based on their physical flow. It is generally not feasible to specifically identify which items were sold and which remain on hand, so accounting standards permit the assignment of inventory costs to costs of goods sold and to ending inventory using cost formulas (IFRS terminology) or cost flow assumptions (US GAAP).\n",
    "\n",
    "The cost formula or cost flow assumption determines which goods are assumed to be sold and which goods are assumed to remain in inventory. Both IFRS and US GAAP permit the use of the first in, first out (FIFO) method, and the weighted average cost method to assign costs.\n",
    "\n",
    "Under the FIFO method, the oldest goods purchased (or manufactured) are assumed to be sold first and the newest goods purchased (or manufactured) are assumed to remain in inventory. \n",
    "\n",
    "The weighted average cost method assigns the average cost of goods available for sale to the units sold and remaining in inventory. \n",
    "\n",
    "Another method is permitted under US GAAP but is not permitted under IFRS. This is the last in, first out (LIFO) method. Under the LIFO method, the newest goods purchased (or manufactured) are assumed to be sold first and the oldest goods purchased (or manufactured) are assumed to remain in inventory. "
   ]
  },
  {
   "cell_type": "markdown",
   "metadata": {},
   "source": [
    "### Issues in Expense Recognition \n",
    "#### Doubtful Accounts\n",
    "When a company sells its products or services on credit, it is likely that some customers will ultimately default on their obligations. \n",
    "\n",
    "direct write-off method\n",
    "\n",
    "Under the matching principle, at the time revenue is recognized on a sale, a company is required to record an estimate of how much of the revenue will ultimately be uncollectible. \n",
    "\n",
    "The company records its estimate of uncollectible amounts as an expense on the income statement, not as a direct reduction of revenues.\n",
    "\n",
    "#### Warranties\n",
    "If the product proves deficient in some respect that is covered under the terms of the warranty, the company will incur an expense to repair or replace the product. \n",
    "\n",
    "Under the matching principle, a company is required to estimate the amount of future expenses resulting from its warranties, to recognize an estimated warranty expense in the period of the sale, and to update the expense as indicated by experience over the life of the warranty.\n",
    "\n",
    "#### Depreciation \n",
    "Long-lived assets are assets expected to provide economic benefits over a future period of time greater than one year. Examples are land (property), plant, equipment, and intangible assets (assets lacking physical substance) such as trademarks. The costs of most long-lived assets are allocated over the period of time during which they provide economic benefits. \n",
    "\n",
    "The two main types of long-lived assets whose costs are not allocated over time are land and those intangible assets with indefinite useful lives.\n",
    "\n",
    "Depreciation is the process of systematically allocating costs of long-lived assets over the period during which the assets are expected to provide economic benefits.\n",
    "\n",
    "- The straight-line method allocates evenly the cost of long-lived assets less estimated residual value over the estimated useful life of an asset. \n",
    "- accelerated methods of depreciation: allocate a greater proportion of the cost to the early years of an asset’s useful life. (A commonly used accelerated method is the **diminishing balance method**, (a.k.a the declining balance method)) *(Note: Common acceleration factors are 150 percent and 200 percent)*\n",
    "\n",
    "Related Concepts:\n",
    "- Net book value: the remaining (undepreciated) balance of an asset’s purchase cost. For liabilities, the face value of a bond minus any unamortized discount, or plus any unamortized premium.\n",
    "- Straight-line rate\n",
    "- Acceleration factor: this rate is (then) applied to the remaining undepreciated balance of the asset each period (known as the net book value). (the 40 percent is applied to $11,000 rather than to $11,000 minus residual value. However, the company will stop taking depreciation when the salvage value is reached.)\n"
   ]
  },
  {
   "cell_type": "code",
   "execution_count": 1,
   "metadata": {},
   "outputs": [
    {
     "name": "stdout",
     "output_type": "stream",
     "text": [
      "1 33333.33333333333 16666.66666666667\n",
      "2 11111.111111111113 5555.555555555558\n",
      "3 555.5555555555584 5000.0\n"
     ]
    }
   ],
   "source": [
    "# Calculating straight-line rate and assigning known variables\n",
    "cost = 50000\n",
    "life = 3\n",
    "residual_val = 5000\n",
    "sl_rate = 1 / life\n",
    "net_book_val = cost # initial net book value\n",
    "depreciation = 0 # initial depreciation\n",
    "\n",
    "# Acceleration factor: assuming 200%\n",
    "diminish_rate = 2 * sl_rate\n",
    "\n",
    "# Depreciate net book values each year until salvage value is reached \n",
    "for year in range(1, life+1):\n",
    "    depreciation = net_book_val * diminish_rate \n",
    "    if net_book_val - depreciation >= residual_val: \n",
    "        net_book_val = net_book_val - depreciation\n",
    "        print(year, depreciation, net_book_val)\n",
    "    else:\n",
    "        depreciation = net_book_val - residual_val\n",
    "        net_book_val = net_book_val - depreciation\n",
    "        print(year, depreciation, net_book_val)"
   ]
  },
  {
   "cell_type": "markdown",
   "metadata": {},
   "source": [
    "#### Amortization\n",
    "Amortisation is the term commonly applied to this process for intangible long-lived assets with a finite useful life.\n",
    "Examples of intangible long-lived assets with a finite useful life include an acquired mailing list, an acquired patent with a set expiration date, and an acquired copyright with a set legal life. The term “amortisation” is also commonly applied to the systematic allocation of a premium or discount relative to the face value of a fixed-income security over the life of the security.\n",
    "\n",
    "IFRS allow two alternative models for valuing property, plant, and equipment: **the cost model** and **the revaluation model**.\n",
    "- Under the cost model, the depreciable amount of that asset (cost less residual value) is allocated on a systematic basis over the remaining useful life of the asset. \n",
    "- Under the cost model, the asset is reported at its cost less any accumulated depreciation. Under the revaluation model, the asset is reported at its fair value. The revaluation model is not permitted under US GAAP. \n",
    "\n",
    "two other differences between IFRS and US GAAP to note: IFRS require each component of an asset to be depreciated separately and US GAAP do not require component depreciation; and IFRS require an annual review of residual value and useful life, and US GAAP do not explicitly require such a review.\n",
    "\n",
    "Calculating depreciation and amortisation requires two significant estimates: the estimated useful life of an asset and the estimated residual value (also known as “salvage value”) of an asset.\n",
    "- Under IFRS, the residual value is the amount that the company expects to receive upon sale of the asset at the end of its useful life.\n",
    "\n",
    "In most cases under IFRS and US GAAP, amortisable intangible assets are amortised using the straight-line method with no residual value. Goodwill21 and intangible assets with indefinite life are not amortised. Instead, they are tested at least annually for impairment (i.e., if the current value of an intangible asset or goodwill is materially lower than its value in the company’s books, the value of the asset is considered to be impaired and its value in the company’s books must be decreased)."
   ]
  },
  {
   "cell_type": "markdown",
   "metadata": {},
   "source": [
    "### Implications for Financial Analysts: Expense Recognition\n",
    "A policy that results in recognition of expenses later rather than sooner is considered less conservative. \n",
    "\n",
    "When possible, the monetary effect of differences in expense recognition policies and estimates can facilitate more meaningful comparisons with a single company’s historical performance or across a number of companies. An analyst can use the monetary effect to adjust the reported expenses so that they are on a comparable basis.\n",
    "\n",
    "Even when the monetary effects of differences in policies and estimates cannot be calculated, it is generally possible to characterize the relative conservatism of the policies and estimates and, therefore, to qualitatively assess how such differences might affect reported expenses and thus financial ratios."
   ]
  },
  {
   "cell_type": "markdown",
   "metadata": {},
   "source": [
    "## Non-Recurring Items and Non-Operating Items"
   ]
  },
  {
   "cell_type": "markdown",
   "metadata": {},
   "source": [
    "### Non-Recurring Items\n",
    "To assess a company’s future earnings, it is helpful to separate those prior years’ items of income and expense that are likely to continue in the future from those items that are less likely to continue.\n",
    "\n",
    "#### Discontinued Operations\n",
    "When a company disposes of or establishes a plan to dispose of one of its component operations and will have no further involvement in the operation, the income statement reports separately the effect of this disposal as a “discontinued” operation under both IFRS and US GAAP.\n",
    "\n",
    "Because the discontinued operation will no longer provide earnings (or cash flow) to the company, an analyst may eliminate discontinued operations in formulating expectations about a company’s future financial performance.\n",
    "\n",
    "#### Unusual or Infrequent Items\n",
    "IFRS require that items of income or expense that are material and/or relevant to the understanding of the entity’s financial performance should be disclosed separately. Unusual or infrequent items are likely to meet these criteria.\n",
    "\n",
    "#### Changes in Accounting Policy\n",
    "Depending on the standard, companies may be permitted to adopt the standards prospectively (in the future) or retrospectively (restate financial statements as though the standard existed in the past).\n",
    "\n",
    "**Retrospective application** means that the financial statements for all fiscal years shown in a company’s financial report are presented as if the newly adopted accounting principle had been used throughout the entire period. Because changes in accounting principles are retrospectively applied, the financial statements that appear within a financial report are comparable.\n",
    "- “full retrospective method”: requires companies to restate prior periods’ results. \n",
    "- “modified retrospective” method: not required to revise previously reported financial statements. Instead, they adjusted opening balances of retained earnings (and other applicable accounts) for the cumulative impact of the new standard.\n",
    "\n",
    "#### Changes in Accounting Estimates\n",
    "In contrast to changes in accounting policies (such as whether to expense the cost of employee stock options), companies sometimes make changes in accounting estimates (such as the useful life of a depreciable asset). Changes in accounting estimates are handled **prospectively**, with the change affecting the financial statements for the period of change and future periods. \n",
    "\n",
    "No adjustments are made to prior statements, and the adjustment is not shown on the face of the income statement. \n",
    "\n",
    "#### Correction of an Error \n",
    "(e.g., in financial statements issued for an earlier year). This cannot be handled by simply adjusting the current period income statement. Correction of an error for a prior period is handled by restating the financial statements (including the balance sheet, statement of owners’ equity, and cash flow statement) for the prior periods presented in the current financial statements.26 Note disclosures are required regarding the error. These disclosures should be examined carefully because they may reveal weaknesses in the company’s accounting systems and financial controls."
   ]
  },
  {
   "cell_type": "markdown",
   "metadata": {},
   "source": [
    "### Non-Operating Items\n",
    "Under IFRS, there is no definition of operating activities, and companies that choose to report operating income or the results of operating activities should ensure that these represent activities that are normally regarded as operating. \n",
    "\n",
    "Under US GAAP, operating activities generally involve producing and delivering goods and providing services and include all transactions and other events that are not defined as investing or financing activities. **Under US GAAP, *restructuring charges* are operating items**.\n",
    "\n",
    "- any interest, dividends, or profits from sales of investments in equity or debt securities issued by another company (of non-financial firms)\n",
    "- interest expense on their debt securities"
   ]
  },
  {
   "cell_type": "markdown",
   "metadata": {},
   "source": [
    "## Capital Structure and Earnings Per Share \n",
    "IFRS require the presentation of EPS on the face of the income statement for net profit or loss (net income) and profit or loss (income) from continuing operations."
   ]
  },
  {
   "cell_type": "markdown",
   "metadata": {},
   "source": [
    "### Simple Capital Structure\n",
    "If a company’s capital structure does not include potentially convertible financial instruments, it is said to have a simple capital structure.\n",
    "\n",
    "A company’s capital is composed of its equity and debt. Some types of equity have preference over others, and some debt (and other instruments) may be converted into equity.\n",
    "$$Capital\\ =\\ Equity\\ +\\ Debt$$\n",
    "\n",
    "Under IFRS, the type of equity for which EPS is presented is referred to as ordinary. Under US GAAP, this equity is referred to as common stock or common shares.\n",
    "\n",
    "**Ordinary shares** are those equity shares that are subordinate to all other types of equity. The ordinary shareholders are basically the owners of the company—the equity holders who are paid last in a liquidation of the company and who benefit the most when the company does well. \n",
    "\n",
    "### Complex Capital Structure\n",
    "When a company has issued any financial instruments that are potentially convertible into common stock, it is said to have a complex capital structure. (Such as convertible bonds, convertible preferred stock, employee stock options, and warrants).\n",
    "\n",
    "Financial instruments that are potentially convertible into common stock could potentially dilute (i.e., decrease) EPS.\n",
    "\n",
    "### Basic EPS\n",
    "Basic EPS is calculated using the reported earnings available to common shareholders of the parent company and the weighted average number of shares outstanding.\n",
    "$$\\frac{Net\\ earnings\\ available\\ to\\ common\\ shareholders\\ (i.e.,\\ net\\ income\\ - preferred\\ dividends)}{weighted\\ average\\ number\\ of\\ common\\ shares\\ outstanding}$$\n",
    "<div style=\"text-align: right\"> Equation 1 </div>\n",
    "The weighted average number of shares outstanding is a time weighting of common shares outstanding. It is determined by the length of time each quantity of shares was outstanding\n",
    "\n",
    "*(NOTE: If the number of shares of common stock increases as a result of a stock dividend or a stock split, the EPS calculation reflects the change retroactively to the beginning of the period.)*"
   ]
  },
  {
   "cell_type": "markdown",
   "metadata": {},
   "source": [
    "Example:<br>For the year ended 31 December 2018, Angler Products had net income of USD2,500,000. The company declared and paid USD200,000 of dividends on preferred stock. The company also had the following common stock share information:\n",
    "<br>\n",
    "\n",
    "Shares outstanding on 1 January 2018:\t1,000,000<br>\n",
    "Shares issued on 1 April 2018:\t200,000<br>\n",
    "Shares repurchased (treasury shares) on 1 October 2018:\t(100,000)<br>\n",
    "Shares outstanding on 31 December 2018:\t1,100,000"
   ]
  },
  {
   "cell_type": "code",
   "execution_count": 2,
   "metadata": {},
   "outputs": [
    {
     "name": "stdout",
     "output_type": "stream",
     "text": [
      "2300000 1125000.0 2.0444444444444443\n"
     ]
    }
   ],
   "source": [
    "# Computing known variables\n",
    "net_income = 2500000\n",
    "dividend = 200000\n",
    "jan_shares = 1000000\n",
    "apr_shares = 200000\n",
    "oct_shares = 100000\n",
    "dec_shares = 1100000\n",
    "\n",
    "# Calculating net earnings available to common shareholders\n",
    "neacs = net_income - dividend\n",
    "\n",
    "# Calculating weighted average number of common shares outstanding \n",
    "wancso = jan_shares*(3/12) + (jan_shares + apr_shares)*(6/12) + (jan_shares + apr_shares - oct_shares)*(3/12) \n",
    "\n",
    "# Calculating EPS\n",
    "eps = neacs / wancso\n",
    "print(neacs, wancso, eps)"
   ]
  },
  {
   "cell_type": "markdown",
   "metadata": {},
   "source": [
    "Assume the same facts as the above Example, except that on 1 December 2018, a previously declared 2-for-1 stock split took effect. Each shareholder of record receives two shares in exchange for each current share that he or she owns. What is the company’s basic EPS?"
   ]
  },
  {
   "cell_type": "code",
   "execution_count": 3,
   "metadata": {},
   "outputs": [
    {
     "name": "stdout",
     "output_type": "stream",
     "text": [
      "2300000 2250000.0 1.0222222222222221\n"
     ]
    }
   ],
   "source": [
    "# For EPS calculation purposes, a stock split is treated as if it occurred at the beginning of the period. \n",
    "eps = neacs / (wancso*2)\n",
    "print(neacs, wancso*2, eps)"
   ]
  },
  {
   "cell_type": "markdown",
   "metadata": {},
   "source": [
    "### Diluted EPS: the If-Converted Method\n",
    "The EPS that would result if all dilutive financial instruments were converted is called diluted EPS. When a company has convertible preferred stock outstanding, diluted EPS is calculated using the if-converted method. The if-converted method is based on what EPS would have been if the convertible preferred securities had been converted at the beginning of the period. \n",
    "\n",
    "#### Convertible Preferred Stock Outstanding\n",
    "Effects of the \"if\" situation:\n",
    "- The weighted average number of shares outstanding would be higher than in the basic EPS calculation. \n",
    "- Second, if such a conversion had taken place, the company would not have paid *preferred dividends*. Thus, under the if-converted method, the net income available to common shareholders would be higher than in the basic EPS calculation.\n",
    "\n",
    "$$Diluted\\ EPS=\\frac{(Net\\ income)}{(Weighted\\ average\\ number\\ of\\ sharesoutstanding\\ +\\ New\\ common\\ shares\\ that\\ would\\ have\\ been\\ issued\\ at\\ conversion)}$$\n",
    "<div style=\"text-align: right\"> Equation 2 </div>\n",
    "\n",
    "#### Convertible Debt Outstanding\n",
    "If such a conversion had taken place, the company would not have paid interest on the convertible debt, so the net income available to common shareholders would increase by the after-tax amount of interest expense on the debt converted.\n",
    "\n",
    "The formula to calculate diluted EPS using the if-converted method for convertible debt is:\n",
    "$$Diluted\\ EPS\\ =\\ \\frac{(Net\\ income\\ +\\ After\\ tax\\ interest\\ on\\ convertible\\ debt−Preferred\\ dividends)}{(Weighted\\ average\\ number\\ of\\ shares\\ outstanding\\ +\\ Additional\\ common\\ shares\\ that\\ would\\ have\\ been\\ issued\\ at\\ conversion)}$$\n",
    "<div style=\"text-align: right\"> Equation 3</div>\n"
   ]
  },
  {
   "cell_type": "markdown",
   "metadata": {},
   "source": [
    "Example:<br>\n",
    "Oppnox Company (fictitious) reported net income of USD 750,000 for the year ended 31 December 2018. The company had a weighted average of 690,000 shares of common stock outstanding. In addition, the company has only one potentially dilutive security: USD 50,000 of 6 percent convertible bonds, convertible into a total of 10,000 shares. Assuming a tax rate of 30 percent, calculate Oppnox’s basic and diluted EPS."
   ]
  },
  {
   "cell_type": "code",
   "execution_count": 4,
   "metadata": {},
   "outputs": [
    {
     "data": {
      "text/plain": [
       "1.0744285714285715"
      ]
     },
     "execution_count": 4,
     "metadata": {},
     "output_type": "execute_result"
    }
   ],
   "source": [
    "# Diluted EPS\n",
    "common_shares = 690000\n",
    "converted_shares = 10000\n",
    "net_income = 750000\n",
    "security_val = 50000\n",
    "r = 0.06\n",
    "interest = security_val * r\n",
    "tax_rate = 0.3\n",
    "after_tax_interest = interest * (1 - tax_rate)\n",
    "\n",
    "(net_income + after_tax_interest) / (common_shares + converted_shares)"
   ]
  },
  {
   "cell_type": "code",
   "execution_count": 5,
   "metadata": {},
   "outputs": [
    {
     "data": {
      "text/plain": [
       "1.0869565217391304"
      ]
     },
     "execution_count": 5,
     "metadata": {},
     "output_type": "execute_result"
    }
   ],
   "source": [
    "# Basic EPS\n",
    "(net_income ) / (common_shares)"
   ]
  },
  {
   "cell_type": "markdown",
   "metadata": {},
   "source": [
    "#### Diluted EPS: the Treasury Stock Method (When Stock Options, Warrants, or Their Equivalents Outstanding)\n",
    "When a company has stock options, warrants, or their equivalents outstanding, diluted EPS is calculated as if the financial instruments had been exercised and the company had used the proceeds from exercise to repurchase as many shares of common stock as possible at the average market price of common stock during the period. \n",
    "\n",
    "For the calculation of diluted EPS using this method, the assumed exercise of these financial instruments would have the following effects:<br>\n",
    "- The company is assumed to receive cash upon exercise and, in exchange, to issue shares.\n",
    "- The company is assumed to use the cash proceeds to repurchase shares at the weighted average market price during the period.\n",
    "\n",
    "For calculating diluted EPS, the incremental number of shares is weighted based upon the length of time the financial instrument was outstanding in the year. \n",
    "$$Diluted\\ EPS\\ =\\ \\frac{(Net income−Preferred\\ dividends)}{[Weighted\\ average\\ number\\ of\\ shares\\ outstanding+(New\\ shares\\ that\\ would\\ have\\ been\\ issued\\ at\\ option\\ exercise−Shares\\ that\\ could\\ have\\ been\\ purchased\\ with\\ cash\\ received\\ upon\\ exercise)×(Proportion\\ of\\ year\\ during\\ which\\ the\\ financial\\ instruments\\ were\\ outstanding)]}$$\n",
    "<div style=\"text-align: right\"> Equation 4</div> \n",
    "\n",
    "**Under IFRS**<br>\n",
    "The company is required to consider that any assumed proceeds are received from the issuance of new shares at the average market price for the period. \n",
    "\n",
    "These new **“inferred” shares** would be disregarded in the computation of diluted EPS, but the excess of the new shares that would be issued under options contracts minus the new inferred shares would be added to the weighted average number of shares outstanding. \n",
    "\n",
    "$$\\frac{(Net income−Preferred\\ dividends)}{Weighted\\ average\\ number\\ of\\ shares\\ outstanding+(New\\ shares\\ that\\ would\\ have\\ been\\ issued\\ at\\ option\\ exercise - inferred\\_shares)}$$\n"
   ]
  },
  {
   "cell_type": "markdown",
   "metadata": {},
   "source": [
    "Example:<br>Hihotech Company (fictitious) reported net income of USD 2.3 million for the year ended 30 June 2018 and had a weighted average of 800,000 common shares outstanding. At the beginning of the fiscal year, the company has outstanding 30,000 options with an exercise price of USD 35. No other potentially dilutive financial instruments are outstanding. Over the fiscal year, the company’s market price has averaged USD 55 per share. Calculate the company’s basic and diluted EPS."
   ]
  },
  {
   "cell_type": "code",
   "execution_count": 11,
   "metadata": {},
   "outputs": [],
   "source": [
    "net_income = 2300000\n",
    "common_shares = 800000\n",
    "dividend = 0\n",
    "options = 30000\n",
    "exc_p = 35\n",
    "avg_stock_p = 55\n",
    "preferred_dividend = 0 "
   ]
  },
  {
   "cell_type": "code",
   "execution_count": 12,
   "metadata": {},
   "outputs": [
    {
     "data": {
      "text/plain": [
       "2.875"
      ]
     },
     "execution_count": 12,
     "metadata": {},
     "output_type": "execute_result"
    }
   ],
   "source": [
    "# Basic EPS\n",
    "(net_income-preferred_dividend) / (common_shares)"
   ]
  },
  {
   "cell_type": "code",
   "execution_count": 16,
   "metadata": {},
   "outputs": [
    {
     "data": {
      "text/plain": [
       "2.836322869955157"
      ]
     },
     "execution_count": 16,
     "metadata": {},
     "output_type": "execute_result"
    }
   ],
   "source": [
    "# Diluted EPS under GAAP\n",
    "new_shares = options\n",
    "purchased_shares = (options * exc_p) / avg_stock_p\n",
    "percent_yr = 12/12\n",
    "(net_income - dividend) / (common_shares + (new_shares - purchased_shares) *percent_yr)"
   ]
  },
  {
   "cell_type": "code",
   "execution_count": 17,
   "metadata": {
    "scrolled": true
   },
   "outputs": [
    {
     "data": {
      "text/plain": [
       "2.836322869955157"
      ]
     },
     "execution_count": 17,
     "metadata": {},
     "output_type": "execute_result"
    }
   ],
   "source": [
    "# Diluted EPS under IFRS\n",
    "proceeds = exc_p * options \n",
    "inferred_shares = proceeds / avg_stock_p\n",
    "excess = new_shares - inferred_shares\n",
    "(net_income - dividend) / (common_shares + excess)"
   ]
  },
  {
   "cell_type": "markdown",
   "metadata": {},
   "source": [
    "### Other Issues with Diluted EPS and Changes in EPS\n",
    "With reference to a transaction or a security, one that would increase earnings per share (EPS) or result in EPS higher than the company’s basic EPS—antidilutive securities are not included in the calculation of diluted EPS.\n",
    "\n",
    "Exceeds basic EPS; security is antidilutive and, therefore, not included. Reported diluted EPS = basic EPS."
   ]
  },
  {
   "cell_type": "markdown",
   "metadata": {},
   "source": [
    "## Introduction to Income Statement Analysis"
   ]
  },
  {
   "cell_type": "markdown",
   "metadata": {},
   "source": [
    "### Common-Size Analysis of the Income Statement\n",
    "It can be performed by stating each line item on the income statement as a percentage of revenue.\n",
    "\n",
    "Common-size statements facilitate comparison across time periods (time series analysis) and across companies (cross-sectional analysis) because the standardization of each line item removes the effect of size.\n",
    "\n",
    "The common-size income statement also highlights differences in companies’ strategies. \n",
    "\n",
    "Example:<br>\n",
    "Comparing the two larger companies, Company A reports significantly higher gross profit as a percentage of sales than does Company B (70 percent compared with 25 percent). Given that both companies operate in the same industry, why can Company A generate so much higher gross profit? One possible explanation is found by comparing the operating expenses of the two companies. Company A spends significantly more on research and development and on advertising than Company B. Expenditures on research and development likely result in products with superior technology. Expenditures on advertising likely result in greater brand awareness. So, based on these differences, it is likely that Company A is selling technologically superior products with a better brand image. Company B may be selling its products more cheaply (with a lower gross profit as a percentage of sales) but saving money by not investing in research and development or advertising. \n",
    "\n",
    "##### Tax\n",
    "For most expenses, comparison to the amount of sales is appropriate. However, in the case of taxes, it is more meaningful to compare the amount of taxes with the amount of **pretax income**. Using note disclosure, an analyst can then examine the causes for differences in effective tax rates. To project the companies’ future net income, an analyst would project the companies’ pretax income and apply an estimated effective tax rate determined in part by the historical tax rates.\n",
    "\n",
    "Vertical common-size analysis of the income statement is particularly useful in cross-sectional analysis."
   ]
  },
  {
   "cell_type": "markdown",
   "metadata": {},
   "source": [
    "### Income Statement Ratios (Profitability Ratios)\n",
    "#### Net Profit Margin \n",
    "Also known as profit margin and return on sales, which is calculated as net income divided by revenue (or sales).\n",
    "$$Net\\ profit\\ margin=\\frac{Net\\ income}{Revenue}$$\n",
    "\n",
    "#### Gross Profit Margin\n",
    "Gross profit (gross margin) is calculated as $revenue - cost\\ of\\ goods\\ sold$, and the gross profit margin is calculated as the gross profit divided by revenue. The gross profit margin measures the amount of gross profit that a company generated for each dollar of revenue.\n",
    "$$Gross\\ profit\\ margin=\\frac{Gross\\ profit}{Revenue}$$\n",
    "\n",
    "Differences in gross profit margins across companies reflect differences in companies’ strategies: In the initial stage of the strategy, the company would likely incur costs to create a differentiated product, such as advertising or research and development, which would not be reflected in the gross margin calculation.\n",
    "\n",
    "### Other Ratios\n",
    "- operating profit margin (profit from operations divided by revenue) \n",
    "- pretax margin (profit before tax divided by revenue)"
   ]
  },
  {
   "cell_type": "markdown",
   "metadata": {},
   "source": [
    "## Comprehensive Income and Its Reporting"
   ]
  },
  {
   "cell_type": "markdown",
   "metadata": {},
   "source": [
    "Other Comprehensive Income: Items of comprehensive income that are not reported on the income statement; comprehensive income minus net income. or: Comprehensive income includes both net income and other revenue and expense items that are excluded from the net income calculation (collectively referred to as Other Comprehensive Income). Other comprehensive income is income that increases stockholders’ equity but is not reflected as part of net income.\n",
    "\n",
    "While the wording differs, comprehensive income is conceptually the same under IFRS and US GAAP.<br>\n",
    "Under IFRS, other comprehensive income includes items of income and expense that are “not recognized in profit or loss as required or permitted by other IFRS.” Total comprehensive income is “the change in equity during a period resulting from transaction and other events, other than those changes resulting from transactions with owners in their capacity as owners.”\n",
    "\n",
    "Under US GAAP, comprehensive income is defined as “the change in equity \\[net assets\\] of a business enterprise during a period from transactions and other events and circumstances from non-owner sources. It includes all changes in equity during a period except those resulting from investments by owners and distributions to owners.” "
   ]
  },
  {
   "cell_type": "markdown",
   "metadata": {},
   "source": [
    "Assume, for example, a company’s beginning shareholders’ equity is €110 million, its net income for the year is €10 million, its cash dividends for the year are €2 million, and there was no issuance or repurchase of common stock. If the company’s actual ending shareholders’ equity is €123 million, then €5 million \\[€123 – (€110 + €10 – €2)\\] has bypassed the net income calculation by being classified as other comprehensive income. If the company had no other comprehensive income, its ending shareholders’ equity would have been €118 million \\[€110 + €10 – €2\\]."
   ]
  },
  {
   "cell_type": "markdown",
   "metadata": {},
   "source": [
    "Four types of items are treated as other comprehensive income under both IFRS and US GAAP:\n",
    "\n",
    "$$Other\\ comprehensive\\ income = Unrealized\\ gain\\ on\\ available-for-sale\\ securities – Unrealized\\ loss\\ on\\ derivatives\\ accounted\\ for\\ as\\ hedges + Foreign\\ currency\\ translation\\ gain\\ on\\ consolidation$$\n",
    "\n",
    "1. Foreign currency translation adjustments. In consolidating the financial statements of foreign subsidiaries, the effects of translating the subsidiaries’ balance sheet assets and liabilities at current exchange rates are included as other comprehensive income.\n",
    "2. Unrealized gains or losses on derivatives contracts accounted for as hedges. Changes in the fair value of derivatives are recorded each period, but certain changes in value are treated as other comprehensive income and thus bypass the income statement.\n",
    "3. Unrealized holding gains and losses on a certain category of investment securities, namely, available-for-sale debt securities under US GAAP and securities designated as “fair value through other comprehensive income” under IFRS. (Note: IFRS, but not US GAAP, also includes a category of equity investments designated at fair value through other comprehensive income.)\n",
    "4. Certain costs of a company’s defined benefit post-retirement plans that are not recognized in the current period.\n",
    "\n"
   ]
  },
  {
   "cell_type": "markdown",
   "metadata": {},
   "source": [
    "#### Gains/Losses Arised from Securities Held by the Firm\n",
    "**Even where unrealized holding gains and losses are excluded from a company’s net income (profit and loss), they are included in other comprehensive income and thus form a part of a company’s comprehensive income.**\n",
    "\n",
    "Held-to-maturity debt securities are reported at their amortized cost, so no unrealized gains or losses are reported. For other securities reported at fair value, the unrealized gains or losses are reflected either in the income statement or as other comprehensive income.\n",
    "\n",
    "Gains/losses from securities held for trading are recorded in net income. \n",
    "\n",
    "##### Under US GAAP\n",
    "Unrealized gains and losses are reflected in the income statement for: (a) debt securities designated as trading securities; and (b) all investments in equity securities (other than investments giving rise to ownership positions that confer significant influence over the investee). The trading securities category pertains to a debt security that is acquired with the intent of selling it rather than holding it to collect the interest and principal payments. \n",
    "\n",
    "Also, under US GAAP, unrealized gains and losses are reflected as other comprehensive income for debt securities designated as available-for-sale securities. Available-for-sale debt securities are those not designated as either held-to-maturity or trading.\n",
    "\n",
    "##### Under IFRS\n",
    "Unrealized gains and losses are reflected in the income statement for: (a) investments in equity investments, unless the company makes an irrevocable election otherwise; and (b) debt securities, if the securities do not fall into the other measurement categories or if the company makes an irrevocable election to show gains and losses on the income statement. \n",
    "\n",
    "These debt and equity investments are referred to as being measured at **fair value** through profit or loss. Also under IFRS, unrealized gains and losses are reflected as other comprehensive income for: (a) “debt securities held within a business model whose objective is achieved both by collecting contractual cash flows and selling financial assets”; and (b) equity investments for which the company makes an irrevocable election at initial recognition to show gains and losses as part of other comprehensive income. These debt and equity investments are referred to as being measured at fair value through other comprehensive income. Accounting for these securities is similar to accounting for US GAAP’s available-for-sale debt securities."
   ]
  },
  {
   "cell_type": "markdown",
   "metadata": {},
   "source": [
    "# Understanding Balance Sheets"
   ]
  },
  {
   "cell_type": "markdown",
   "metadata": {},
   "source": [
    "## Introduction and Components \n",
    "### Introduction\n",
    "The balance sheet (also called the *statement of financial position* or *statement of financial condition*) provides information on a company’s resources (assets) and its sources of capital (equity and liabilities/debt), related to a company’s ability to (1) pay for its near-term operating needs, (2) meet future debt obligations, and (3) make distributions to owners.\n",
    "\n",
    "- Assets (A) are what the company owns (or controls).\n",
    "- Liabilities (L) are what the company owes.\n",
    "- Equity (E) represents the owners’ residual interest in the company’s assets after deducting its liabilities. \n",
    "\n",
    "The equation $A = L + E$ is sometimes summarized as follows: The left side of the equation reflects the resources controlled by the company and the right side reflects how those resources were **financed**. \n",
    "\n",
    "The balance sheet amounts of equity should not be viewed as a measure of either the market or intrinsic value of a company’s equity:\n",
    "- Different types of assets and liabilities may be measured differently (e.g. at historical cost or at fair value).\n",
    "- Measured values can change after the balance sheet is prepared.\n",
    "- Balance sheet does not include important aspects that affect the company's future cash flows. (e.g. its reputation and management skills)"
   ]
  },
  {
   "cell_type": "markdown",
   "metadata": {},
   "source": [
    "### Components \n",
    "Balance sheet information is as of a specific point in time.\n",
    "\n",
    "A company’s ability to pay for its short term operating needs relates to the concept of **liquidity**. With respect to a company overall, liquidity refers to the availability of cash to meet those short-term needs. With respect to a particular asset or liability, liquidity refers to its “nearness to cash.”\n",
    "\n",
    "Both IFRS and US GAAP require that the balance sheet distinguish between current and non-current assets and between current and non-current liabilities and present these as separate classifications. An exception to this requirement, under IFRS, is that the current and non-current classifications are not required if a liquidity-based presentation provides reliable and more relevant information. "
   ]
  },
  {
   "cell_type": "markdown",
   "metadata": {},
   "source": [
    "## Current Assets and Current Liabilities\n",
    "A company’s **operating cycle** is the average amount of time that elapses between acquiring inventory and collecting the cash from sales to customers. *Note: (When the entity’s normal operating cycle is not clearly identifiable, its duration is assumed to be one year.) For a manufacturer, the operating cycle is the average amount of time between acquiring raw materials and converting these into cash from a sale.*\n",
    "\n",
    "### Current and Non-Current Classification\n",
    "A balance sheet with separately classified current and non-current assets and liabilities is referred to as a classified balance sheet.\n",
    "\n",
    "### Liquidity-Based Presentation\n",
    "With a liquidity-based presentation, all assets and liabilities are presented broadly in order of liquidity."
   ]
  },
  {
   "cell_type": "markdown",
   "metadata": {},
   "source": [
    "### Current Assets\n",
    "Current Assets: assets that are held primarily for the purpose of trading or that are expected to be sold, used up, or otherwise realized in cash within one year or one operating cycle of the business, whichever is greater, after the reporting period. Some examples are:\n",
    "- cash \n",
    "- trade receivables\n",
    "- office supplies, prepaid expenses\n",
    "- inventories\n",
    "\n",
    "**Current assets provide information about the operating activities and the operating capability of the entity. **\n",
    "\n",
    "Assets not expected to be sold or used up within one year or one operating cycle of the business, whichever is greater, are classified as non-current assets (long-term, long-lived assets).\n",
    "\n",
    "The excess of current assets over current liabilities is called **working capital**. The level of working capital provides analysts with information about the ability of an entity to meet liabilities as they fall due. Although adequate working capital is essential, excessive working capital should be so that funds that could be used more productively elsewhere are not inappropriately tied up.\n",
    "\n",
    "Among the current assets’ required **line items** are cash and cash equivalents, trade and other receivables, inventories, and financial assets (with short maturities). \n",
    "#### Financial Assets\n",
    "##### Cash and Cash Equivalents\n",
    "Cash and cash equivalents are financial assets. Financial assets, in general, are measured and reported at either amortised cost or fair value.\n",
    "\n",
    "(*Amortised cost* is the historical cost (initially recognised cost) of the asset adjusted for amortisation and impairment. Under IFRS and US GAAP, *fair value* is based on an exit price, the price received to sell an asset or paid to transfer a liability in an orderly transaction between two market participants at the measurement date.)\n",
    "\n",
    "Cash equivalents are highly liquid, short-term investments that are so close to maturity,6 the risk is minimal that their value will change significantly with changes in interest rates. \n",
    "\n",
    "Examples of cash equivalents are demand deposits with banks and highly liquid investments (such as US Treasury bills, commercial paper, and money market funds) with original maturities of three months or less. \n",
    "\n",
    "Cash and cash equivalents excludes amounts that are restricted in use for at least 12 months.\n",
    "\n",
    "##### Marketable Securities \n",
    "Marketable securities are also financial assets and include investments in debt or equity securities that are traded in a public market, and whose value can be determined from price information in a public market.\n",
    "- treasury bills\n",
    "- notes\n",
    "- bonds\n",
    "- equity securities such as common stocks and mutual fund shares\n",
    "\n",
    "##### Trade Receivables (Accounts Receivable)\n",
    "Amounts owed to a company by its customers for products and services already delivered. Reported at *net realizable value*, an approximation of fair value, based on estimates of collectability. \n",
    "- the overall level of accounts receivable relative to sales: a significant increase in accounts receivable relative to sales could signal that the company is having problems collecting cash from its customers.\n",
    "- the allowance for doubtful accounts (contra account): when specific receivables are deemed to be uncollectible, they are written off by reducing accounts receivable and the allowance for doubtful accounts.\n",
    "- the concentration of credit risk: e.g. diversified across various industries, company sizes, and countries.\n",
    "\n",
    "#### Inventories\n",
    "The cost of inventories comprises all costs of purchase, costs of conversion, and other costs incurred in bringing the inventories to their present location and condition.\n",
    "\n",
    "When inventory is sold, the cost of that inventory is reported as an expense, “cost of goods sold.” \n",
    "\n",
    "##### Under IFRS<br>\n",
    "Inventories are measured at the lower of cost and net realizable value (NRV). <br>\n",
    "NRV = estimated selling price - (estimated costs of completion + costs necessary to complete the sale)<br>\n",
    "NRV applicable for all inventories. <br>\n",
    "Inventory valuation methods are referred to as \"cost formulas\". <br>\n",
    "Allows only FIFO, weighted average cost, and specific identification methods. \n",
    "\n",
    "##### Under US GAAP<br>\n",
    "Inventories are measured at the lower of cost and NRV (unless they are measured using the last-in, first-out (LIFO) or retail inventory methods). <br>\n",
    "Inventory valuation methods are referred to as \"cost flow assumptions\".<br>\n",
    "Also allow LIFO as an additional inventory valuation method. \n",
    "\n",
    "*(Note: When using LIFO or the retail inventory methods, inventories are measured at the lower of cost or market value. US GAAP defines market value as current replacement cost but with upper and lower limits; the recorded value cannot exceed NRV and cannot be lower than NRV less a normal profit margin.)\n",
    "\n",
    "If the net realizable value or market value (under US GAAP, in certain cases) of a company’s inventory falls below its carrying amount, the company must write down the value of the inventory. The loss in value is reflected in the income statement. \n",
    "\n",
    "#### Other Current Assets\n",
    "The amounts shown in “other current assets” reflect items that are individually not material enough to require a separate line item on the balance sheet.\n",
    "\n",
    "Typical items include:<br>\n",
    "- prepaid expenses (normal operating expenses that have been paid in advance)\n",
    "- \n",
    "\n",
    "*(Note: Because expenses are recognized in the period in which they are incurred—and not necessarily the period in which the payment is made—the advance payment of a future expense creates an asset. The asset (prepaid expenses) will be recognized as an expense in future periods as it is used up.)*"
   ]
  },
  {
   "cell_type": "markdown",
   "metadata": {},
   "source": [
    "### Current Liabilities\n",
    "Current liabilities are those liabilities that are expected to be settled in the entity’s normal operating cycle, held primarily for trading, or due to be settled within 12 months after the balance sheet date.\n",
    "\n",
    "The specific criteria for classification of a liability as current:\n",
    "- It is expected to be settled in the entity’s normal operating cycle;\n",
    "- It is held primarily for the purpose of being traded;\n",
    "- It is due to be settled within one year after the balance sheet date; or\n",
    "- The entity does not have an unconditional right to defer settlement of the liability for at least one year after the balance sheet date.\n",
    "\n",
    "IFRS specify that some current liabilities, such as trade payables and some accruals for employee and other operating costs, are part of the working capital used in the entity’s normal operating cycle. Such operating items are classified as current liabilities even if they will be settled more than one year after the balance sheet date.\n",
    "\n",
    "Common Types of Current Liabilities:\n",
    "#### Trade Payables (Accounts Payables)\n",
    "Amounts that a company owes its vendors for purchases of goods and services.\n",
    "\n",
    "An issue relevant to analysts is the trend in overall levels of trade payables relative to purchases. Significant changes in accounts payable relative to purchases could signal potential changes in the company’s credit relationships with its suppliers. \n",
    "\n",
    "Related Concepts:<br>\n",
    "- trade credit: credit provided to a company by its vendors. (supplier financing)\n",
    "\n",
    "#### Financial Liabilities\n",
    "Include: <br>\n",
    "- borrowings such as\n",
    "    - bank loans\n",
    "    - notes payable\n",
    "    - commercial paper\n",
    "- any portions of long-term liabilities that are due within one year (i.e., the current portion of long-term liabilities) are also shown in the current liability section of the balance sheet. \n",
    "\n",
    "#### Accrued Expenses\n",
    "Are expenses that have been recognized on a company’s income statement but not yet been paid as of the balance sheet date. (also called accrued expenses payable, accrued liabilities, and other non-financial liabilities)\n",
    "- income taxes payable\n",
    "- accrued interest payable\n",
    "- accrued warranty costs\n",
    "- accrued employee compensation\n",
    "\n",
    "#### Deferred Income\n",
    "Arises when a company receives payment in advance of delivery of the goods and services associated with the payment. (also called deferred revenue or unearned revenue). The company has an obligation either to provide the goods or services or to return the cash received.\n",
    "\n",
    "- lease payments received at the beginning of a lease\n",
    "- fees for servicing office equipment received at the beginning of the service period\n",
    "- payments for magazine subscriptions received at the beginning of the subscription period\n",
    "\n",
    "Impacts on Other (Line) Items:\n",
    "1. *Deferred tax assets* increase because the company has paid taxes on revenue it has not yet recognized for accounting purposes. In effect, the company has prepaid taxes from an accounting perspective.\n",
    "2. Revenue is recognized (included in income) as it is earned, and the deferred revenue liability will decrease accordingly. The deferred income will be recognized as *revenue*, (sales, or a similar item) in income statements subsequent to the (recorded period) as the goods or services are provided or the obligation is reduced.\n",
    "3. The *costs of delivering the goods or services* will also be recognised."
   ]
  },
  {
   "cell_type": "markdown",
   "metadata": {},
   "source": [
    "Example:<br> In general, in the period a transaction occurs, how would a company’s balance sheet reflect \\\\$100 of deferred revenue resulting from a sale? (Assume, for simplicity, that the company receives cash for all sales, the company’s income tax payable is 30\\% based on cash receipts, and the company pays cash for all relevant income tax obligations as they arise. Ignore any associated deferred costs.)\n",
    "\n",
    "Answer: <br> \n",
    "In the period that deferred revenue arises, the company would record a \\\\$100 increase in the asset Cash and a \\\\$100 increase in the liability Deferred Revenues. \n",
    "\n",
    "In addition, because the company’s income tax payable is based on cash receipts and is paid in the current period, the company would record a \\\\$30 decrease in the asset Cash and a \\\\$30 increase in the asset Deferred Tax Assets. "
   ]
  },
  {
   "cell_type": "markdown",
   "metadata": {},
   "source": [
    "## Assets\n",
    "### Non-Current Assets\n",
    "#### Property, Plant and Equipment \n",
    "Property, plant, and equipment (PPE) are tangible assets that are used in company operations and expected to be used (provide economic benefits) over more than one fiscal period. Including land, buildings, equipment, machinery, furniture, and natural resources. \n",
    "\n",
    "IFRS permits companies to report PPE using either a cost model or a revaluation model. US GAAP permits only the cost model for reporting PPE. \n",
    "\n",
    "##### Cost Model\n",
    "PPE is carried at amortised cost (historical cost less any accumulated depreciation or accumulated depletion, and less any impairment losses). Historical cost generally consists of an asset’s purchase price, plus its delivery cost, and any other additional costs incurred to make the asset operable (such as costs to install a machine). \n",
    "\n",
    "Because PPE is presented on the balance sheet net of depreciation and depreciation expense is recognised in the income statement, the choice of depreciation method and the related estimates of useful life and salvage value impact both a company’s balance sheet and income statement.\n",
    "\n",
    "Impairment losses reflect an unanticipated decline in value. When an asset is considered impaired, the company recognizes the impairment loss in the income statement in the period the impairment is identified. Reversals of impairment losses are permitted under IFRS but not under US GAAP.\n",
    "\n",
    "#### Revaluation Model\n",
    "The reported and carrying value for PPE is the fair value at the date of revaluation less any subsequent accumulated depreciation. Changes in the value of PPE under the revaluation model affect equity directly or profit and loss depending upon the circumstances.\n",
    "\n",
    "#### Investment Property\n",
    "Some property is not used in the production of goods or services or for administrative purposes. Instead, it is used to earn rental income or capital appreciation (or both). \n",
    "\n",
    "IFRS provides companies with the choice to report investment property using either a cost model or a fair value model. Under the fair value model, investment property is carried at its fair value. When a company uses the fair value model to measure the value of its investment property, any gain or loss arising from a change in the fair value of the investment property is recognized in profit and loss, i.e., on the income statement, in the period in which it arises. \n",
    "\n",
    "#### (Identifiable) Intangible Assets\n",
    "Identifiable non-monetary assets without physical substance (either internally-created or acquired). E.g. patents, trademarks, copyrights, franchises, licenses, and other rights. \n",
    "\n",
    "For each intangible asset, a company assesses whether the useful life of the asset is finite or indefinite. Amortisation and impairment principles apply as follows:\n",
    "- with a finite useful life: amortised on a systematic basis over the best estimate of its useful life, with the amortisation method and useful life estimate reviewed at least annually.\n",
    "- Impairment principles for an intangible asset with a finite useful life are the same as for PPE.\n",
    "- An intangible asset with an indefinite useful life is not amortised. \n",
    "\n",
    "##### IFRS\n",
    "1. Identifiable intangible assets are recognised on the balance sheet if it is probable that future economic benefits will flow to the company and the cost of the asset can be measured reliably. \n",
    "2. Allows companies to report intangible assets using either a cost model or a revaluation model. *(Note:The revaluation model can only be selected when there is an active market for an intangible asset.)*\n",
    "3. For internally created intangible assets: the company must \n",
    "    - separately identify the research phase and the development phase. \n",
    "    - costs to internally generate intangible assets during the research phase must be expensed on the income statement\n",
    "    - Costs incurred in the development stage can be capitalized as intangible assets if certain criteria are met. Note: administrative costs are not capitalized. *(including technological feasibility, the ability to use or sell the resulting asset, and the ability to complete the project.)*\n",
    "\n",
    "##### GAAP\n",
    "US GAAP prohibits the capitalization as an asset of most costs of internally developed intangibles and research and development. All such costs usually must be expensed.\n",
    "\n",
    "##### Common Ground\n",
    "- Under IFRS and US GAAP, the general requirement is that internally created identifiable intangibles are expensed rather than reported on the balance sheet.\n",
    "- Generally, acquired intangible assets are reported as separately identifiable intangibles (as opposed to goodwill) if they arise from contractual rights (such as a licensing agreement), other legal rights (such as patents), or have the ability to be separated and sold (such as a customer list).\n",
    "- Costs related to the following categories are typically expensed under IFRS and US GAAP. They include:\n",
    "  - internally generated brands, mastheads, publishing titles, customer lists, etc.;\n",
    "  - start-up costs;\n",
    "  - training costs;\n",
    "  - administrative and other general overhead costs;\n",
    "  - advertising and promotion;\n",
    "  - relocation and reorganization expenses; and\n",
    "  - redundancy and other termination costs.\n",
    "\n",
    "Use cases (intangible assets): In assessing financial statements, analysts often exclude the book value assigned to intangibles, reducing net equity by an equal amount and increasing pretax income by any amortisation expense or impairment associated with the intangibles. An arbitrary assignment of zero value to intangibles is not advisable; instead, an analyst should examine each listed intangible and assess whether an adjustment should be made. Note disclosures about intangible assets may provide useful information to the analyst. These disclosures include information about useful lives, amortisation rates and methods, and impairment losses recognised or reversed.\n",
    "\n",
    "#### Goodwill\n",
    "When one company acquires another, the purchase price is allocated to all the identifiable assets (tangible and intangible) and liabilities acquired, based on fair value. If the purchase price is greater than the acquirer’s interest in the fair value of the identifiable assets and liabilities acquired, the excess amount is recognized as an asset, described as goodwill. \n",
    "\n",
    "##### Capitalization (Recognition)\n",
    "Under both IFRS and US GAAP, accounting goodwill arising from acquisitions is capitalized. Goodwill is not amortised but is tested for impairment annually. If goodwill is deemed to be impaired, an impairment loss is charged against income in the current period. An impairment loss reduces current earnings. An impairment loss also reduces total assets, so some performance measures, such as return on assets (net income divided by average total assets), may actually increase in future periods. An impairment loss is a non-cash item.\n",
    "\n",
    "Accounting standards’ requirements for recognizing goodwill can be summarized by the following steps:\n",
    "1. The total cost to purchase the target company (the acquiree) is determined.\n",
    "2.  The acquiree’s identifiable assets are measured at fair value. The acquiree’s liabilities and contingent liabilities are measured at fair value. The difference between the fair value of identifiable assets and the fair value of the liabilities and contingent liabilities equals the net identifiable assets acquired.\n",
    "3. Goodwill arising from the purchase is the excess of a) the cost to purchase the target company over b) the net identifiable assets acquired. Occasionally, a transaction will involve the purchase of net identifiable assets with a value greater than the cost to purchase. Such a transaction is called a “bargain purchase.” Any gain from a bargain purchase is recognized in profit and loss in the period in which it arises.\n",
    "\n",
    "Use cases: <br>\n",
    "- Analysts should distinguish between accounting goodwill and economic goodwill. Economic goodwill is based on the economic performance of the entity, whereas accounting goodwill is based on accounting standards and is reported only in the case of acquisitions. Economic goodwill is important to analysts and investors, and it is not necessarily reflected on the balance sheet. Instead, economic goodwill is reflected in the stock price (at least in theory). Some financial statement users believe that goodwill should not be listed on the balance sheet, because it cannot be sold separately from the entity. These financial statement users believe that only assets that can be separately identified and sold should be reflected on the balance sheet. Other financial statement users analyze goodwill and any subsequent impairment charges to assess management’s performance on prior acquisitions.\n",
    "- The recognition and impairment of goodwill can significantly affect the comparability of financial statements between companies. Therefore, analysts often adjust the companies’ financial statements by removing the impact of goodwill. Such adjustments include:\n",
    "    1. excluding goodwill from balance sheet data used to compute financial ratios, and\n",
    "    2. excluding goodwill impairment losses from income data used to examine operating trends.\n",
    "- Analysts can develop expectations about a company’s performance following an acquisition by taking into account the purchase price paid relative to the net assets and earnings prospects of the acquired company.\n",
    "\n",
    "#### Financial Assets\n",
    "IFRS define a financial instrument as a contract that gives rise to a financial asset of one entity, and a financial liability or equity instrument of another entity.\n",
    "\n",
    "Derivatives are financial instruments for which the value is derived based on some underlying factor (interest rate, exchange rate, commodity price, security price, or credit rating) and for which little or no initial investment is required.\n",
    "\n",
    "Recognition: \n",
    "Financial assets not measured at amortised cost subsequent to acquisition are measured at fair value as of the reporting date. For financial instruments measured at fair value, there are two basic alternatives in how net changes in fair value are recognized: as profit or loss on the income statement, or as other comprehensive income (loss) which bypasses the income statement.\n",
    "\n",
    "##### IFRS\n",
    "At fair value or amortised cost. Fair value is the price that would be received to sell an asset or paid to transfer a liability in an orderly market transaction. The amortised cost of a financial asset (or liability) is the amount at which it was initially recognized, minus any principal repayments, plus or minus any amortisation of discount or premium, and minus any reduction for impairment.\n",
    "\n",
    "Under IFRS, financial assets are subsequently measured at amortised cost if the asset’s cash flows occur on specified dates and consist solely of principal and interest, and if the business model is to hold the asset to maturity.\n",
    "\n",
    "Under IFRS, financial assets are subsequently measured at fair value through other comprehensive income (i.e., any unrealized holding gains or losses are recognized in other comprehensive income) if the business model’s objective involves both collecting contractual cash flows and selling the financial assets. This IFRS category applies specifically to debt investments, namely assets with cash flows occurring on specified dates and consisting solely of principal and interest. However, IFRS also permits equity investments to be measured at fair value through other comprehensive income if, at the time a company buys an equity investment, the company decides to make an irrevocable election to measure the asset in this manner.\n",
    "\n",
    "##### GAAP\n",
    "\"Held-to-maturity\": Debt (fixed-income) securities that a company intends to hold to maturity; these are presented at their original cost, updated for any amortisation of discounts or premiums.\n",
    "Other types of financial assets measured at historical cost are loans to other companies.\n",
    "\n",
    "The concept is similar to the US GAAP investment category available-for-sale in which assets are measured at fair value, with any unrealized holding gains or losses recognized in other comprehensive income. However, unlike IFRS, the US GAAP category available-for-sale applies only to debt securities and is not permitted for investments in equity securities.\n",
    "\n",
    "#### Deferred Tax Assets\n",
    "A balance sheet asset that arises when an excess amount is paid for income taxes relative to accounting profit. The taxable income is higher than accounting profit and income tax payable exceeds tax expense. The company expects to recover the difference during the course of future operations when tax expense exceeds income tax payable.\n",
    "\n",
    "(Income taxes incurred prior to the time that the income tax expense will be recognized on the income statement.)\n",
    "\n",
    "1. Actual income tax payable based on income that exceeds financial statement income<br>\n",
    "Deferred tax assets may result when the actual income tax payable based on income for tax purposes in a period exceeds the amount of income tax expense based on the reported financial statement income due to temporary timing differences. When the income is subsequently recognized on the income statement, the related tax expense is also recognized which will reduce the deferred tax asset.\n",
    "2. Financial statement income before taxes is less than taxable income<br>\n",
    "Also, a company may claim certain expenses for financial statement purposes that it is only allowed to claim in subsequent periods for tax purposes. In this case, as in the previous example, the financial statement income before taxes is less than taxable income. Thus, income taxes payable based on taxable income exceeds income tax expense based on accounting net income before taxes. The difference is expected to reverse in the future when the income reported on the financial statements exceeds the taxable income as a deduction for the expense becomes allowed for tax purposes. \n",
    "3. Carrying forward unused tax losses and credits <br>\n",
    "Deferred tax assets may also result from carrying forward unused tax losses and credits (these are not temporary timing differences). Deferred tax assets are only to be recognized if there is an expectation that there will be taxable income in the future, against which the temporary difference or carried forward tax losses or credits can be applied to reduce taxes payable."
   ]
  },
  {
   "cell_type": "markdown",
   "metadata": {},
   "source": [
    "## Liabilities\n",
    "### Non-Current Liabilities\n",
    "Non-current liabilities include financial liabilities that provide financing on a long-term basis.\n",
    "\n",
    "#### Long-Term Financial Liabilities\n",
    "include loans (i.e., borrowings from banks) and notes or bonds payable (i.e., fixed-income securities issued to investors). \n",
    "\n",
    "Liabilities such as loans payable and bonds payable are usually reported at amortised cost on the balance sheet. At maturity, the amortised cost of the bond (carrying amount) will be equal to the face value of the bond. Similarly, any bond premium would be amortised for bonds issued at a price in excess of face or par value.\n",
    "\n",
    "In certain cases, liabilities such as bonds issued by a company are reported at fair value. Those cases include financial liabilities held for trading, derivatives that are a liability to the company, and some non-derivative instruments such as those which are hedged by derivatives.\n",
    "\n",
    "#### Deferred Tax Liabilities\n",
    "Deferred tax liabilities result from temporary timing differences between a company’s income as reported for tax purposes (taxable income) and income as reported for financial statement purposes (reported income). Deferred tax liabilities result when **taxable income and the actual income tax payable in a period based on it is less than the reported financial statement income before taxes and the income tax expense based on it**. Deferred tax liabilities are defined as the amounts of income taxes payable in future periods in respect of taxable temporary differences.\n",
    "\n",
    "Deferred tax liabilities typically arise when items of expense are included in taxable income in earlier periods than for financial statement net income. This results in taxable income being less than income before taxes in the earlier periods. As a result, taxes payable based on taxable income are less than income tax expense based on accounting income before taxes. The difference between taxes payable and income tax expense results in a deferred tax liability—for example, when companies use accelerated depreciation methods for tax purposes and straight-line depreciation methods for financial statement purposes. Deferred tax liabilities also arise when items of income are included in taxable income in later periods—for example, when a company’s subsidiary has profits that have not yet been distributed and thus have not yet been taxed."
   ]
  },
  {
   "cell_type": "markdown",
   "metadata": {},
   "source": [
    "## Equity\n",
    "Equity includes funds directly invested in the company by the owners, as well as earnings that have been reinvested over time. Equity can also include items of gain or loss that are not recognized on the company’s income statement.\n",
    "### Components\n",
    "1. Capital contributed by owners (or common stock, or issued capital).<br>\n",
    "May have a par value (or stated value) or may be issued as no par shares;<br>\n",
    "The number of issued shares refers to those shares that have been sold to investors. The number of outstanding shares consists of the issued shares less treasury shares.\n",
    "2. Preferred shares (as equity or financial liabilities)<br>\n",
    "Perpetual, non-redeemable preferred shares are classified as equity. preferred shares with mandatory redemption at a fixed amount at a future date are classified as financial liabilities. <br>\n",
    "Rights incl. receipt of dividends and receipt of assets if the company is liquidated.\n",
    "3. Treasury shares (or treasury stock or own shares repurchased). <br>\n",
    "Shares in the company that have been repurchased by the company and are held as treasury shares, rather than being cancelled.<br>\n",
    "A company may repurchase its shares when management considers the shares undervalued, needs shares to fulfill employees’ stock options, or wants to limit the effects of dilution from various employee stock compensation plans. <br>\n",
    "A repurchase of previously issued shares reduces *shareholders’ equity* by the amount of the cost of repurchasing the shares and *reduces the number of total shares outstanding*.<br> \n",
    "If treasury shares are subsequently reissued, a company does not recognize any gain or loss from the reissuance on the income statement. <br>\n",
    "Treasury shares are *non-voting* and do not receive any dividends declared by the company.\n",
    "4. Retained earnings. <br>\n",
    "The cumulative amount of earnings recognized in the company’s income statements which have not been paid to the owners of the company as dividends.\n",
    "5. Accumulated other comprehensive income (or other reserves). <br>\n",
    "The cumulative amount of other comprehensive income or loss. \n",
    "6. Noncontrolling interest (or minority interest). <br>\n",
    "The equity interests of minority shareholders in the subsidiary companies that have been consolidated by the parent (controlling) company but that are not wholly owned by the parent company.\n",
    "\n",
    "**Share repurchases reduce the company’s cash (an asset). Shareholders’ equity is reduced because there are fewer shares outstanding and treasury stock is an offset to owners’ equity.**"
   ]
  },
  {
   "cell_type": "markdown",
   "metadata": {},
   "source": [
    "### Statement of Changes in (Shareholders') Equity\n",
    "The statement of changes in equity (or statement of shareholders’ equity) presents information about the increases or decreases in a company’s equity over a period. \n",
    "\n",
    "IFRS requires the following information in the statement of changes in equity:\n",
    "- total comprehensive income for the period;\n",
    "- the effects of any accounting changes that have been retrospectively applied to previous periods;\n",
    "- capital transactions with owners and distributions to owners; and\n",
    "- reconciliation of the carrying amounts of each component of equity at the beginning and end of the year.\n",
    "\n",
    "Under US GAAP, the requirement as specified by the SEC is for companies to provide an analysis of changes in each component of stockholders’ equity that is shown in the balance sheet.\n",
    "\n",
    "For companies that pay dividends, the amount of dividends are shown separately as a deduction from retained earnings. "
   ]
  },
  {
   "cell_type": "markdown",
   "metadata": {},
   "source": [
    "## Balance Sheet Analysis\n",
    "### Common Size Analysis of Balance Sheet\n",
    "\n"
   ]
  },
  {
   "cell_type": "markdown",
   "metadata": {},
   "source": [
    "### Balance Sheet Ratios\n",
    "Each of the line items on a vertical common-size balance sheet is a ratio in that it expresses a balance sheet amount in relation to total assets.\n",
    "\n",
    "#### Liquidity Ratios: Measuring the company’s ability to meet its short-term obligations\n",
    "- Current Ratio\n",
    "Current assets in relation to current liabilities as an indicator of a company’s liquidity.\n",
    "$\\frac{Current\\ assets}{Current\\ liabilities}$\n",
    "\n",
    "Limitations: only a rough measure of liquidity at a specific point in time. The ratio captures only the amount of current assets, but the components of current assets differ significantly in their nearness to cash (e.g., marketable securities versus inventory). Another limitation of the current ratio is its sensitivity to end-of-period financing and operating decisions that can potentially impact current asset and current liability amounts.\n",
    "- Quick (acid test)\n",
    "$\\frac{(Cash + Marketable\\ securities + Receivables)}{Current\\ liabilities}$\n",
    "\n",
    "- Cash\n",
    "$\\frac{(Cash + Marketable\\ securities)}{Current liabilities}$\n",
    "\n",
    "#### Solvency Ratios: Measuring the company’s ability to meet long-term and other obligations (Financial risk and financial leverage)\n",
    "- Long-term debt-to-equity\n",
    "$\\frac{Total\\ long-term\\ debt}{Total\\ equity}$\n",
    "- Debt-to-equity\n",
    "$\\frac{Total\\ debt}{Total\\ equity}$\n",
    "- Total debt\n",
    "$\\frac{Total\\ debt}{Total\\ assets}$\n",
    "- Financial leverage\n",
    "$\\frac{Total\\ assets}{Total\\ equity}$\n",
    "\n",
    "Use cases: An overall area requiring judgment is determining whether a ratio for a company is within a reasonable range for an industry. Yet another area requiring judgment is evaluating whether a ratio signifies a persistent condition or reflects only a temporary condition. "
   ]
  },
  {
   "cell_type": "markdown",
   "metadata": {},
   "source": [
    "# Understanding Cash Flow Statements"
   ]
  },
  {
   "cell_type": "markdown",
   "metadata": {},
   "source": [
    "[TBC]"
   ]
  },
  {
   "cell_type": "markdown",
   "metadata": {},
   "source": [
    "# Financial Analysis Techniques"
   ]
  },
  {
   "cell_type": "code",
   "execution_count": null,
   "metadata": {},
   "outputs": [],
   "source": []
  }
 ],
 "metadata": {
  "kernelspec": {
   "display_name": "Python 3",
   "language": "python",
   "name": "python3"
  },
  "language_info": {
   "codemirror_mode": {
    "name": "ipython",
    "version": 3
   },
   "file_extension": ".py",
   "mimetype": "text/x-python",
   "name": "python",
   "nbconvert_exporter": "python",
   "pygments_lexer": "ipython3",
   "version": "3.7.3"
  }
 },
 "nbformat": 4,
 "nbformat_minor": 4
}
