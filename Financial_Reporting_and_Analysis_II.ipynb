{
 "cells": [
  {
   "cell_type": "markdown",
   "metadata": {},
   "source": [
    "# Understanding Income Statements"
   ]
  },
  {
   "cell_type": "markdown",
   "metadata": {},
   "source": [
    "## Components and Format of the Income Statement"
   ]
  },
  {
   "cell_type": "markdown",
   "metadata": {},
   "source": [
    "#### Revenue \n",
    "(a.k.a sales or turnover) generally refers to the amount charged for the delivery of goods or services in the ordinary activities of a business. Revenue is reported after adjustments (e.g., for cash or volume discounts, or for other reductions), and the term *net revenue* is sometimes used to specifically indicate that the revenue has been adjusted (e.g., for estimated returns).\n",
    "\n",
    "**Important**: Identify the appropriately comparable revenue amounts via referencing information disclosed elsewhere (notes to the financial statements and the Management Discussion and Analysis, MD&A)"
   ]
  },
  {
   "cell_type": "markdown",
   "metadata": {},
   "source": [
    "#### Expenses, Net Income and Income\n",
    "The definition of **income** encompasses both revenue and gains and the definition of **expenses** encompasses both expenses that arise in the ordinary activities of the business and losses.\n",
    "\n",
    "Expenses reflect outflows, depletions of assets, and incurrences of liabilities in the course of the activities of a business. Expenses may be grouped and reported in different formats, subject to some specific requirements.\n",
    "\n",
    "At the bottom of the income statement, companies report net income (companies may use other terms such as “net earnings” or “profit or loss”, a.k.a \"bottom line\"). Net income is often viewed as the single most relevant number to describe a company’s performance over a period of time.\n",
    "\n",
    "Net income (profit or loss) can be defined as: \n",
    "- a) income minus expenses, or equivalently \n",
    "- b) revenue plus other income plus gains minus expenses, or equivalently \n",
    "- c) revenue plus other income plus gains minus expenses in the ordinary activities of the business minus other expenses, and minus losses. \n",
    "\n",
    "The last definition can be rearranged as follows: \n",
    "net income =\n",
    "(i) revenue - expenses in the ordinary activities + (ii) other income - other expenses, + (iii) gains + losses\n",
    "\n",
    "Each company presents additional items below net income: information about how much of that net income is attributable to the company itself and how much of that income is attributable to noncontrolling interests, also known as minority interests. *(Noncontrolling interest represents the portion of income that “belongs” to the minority shareholders of the consolidated subsidiaries, as opposed to the parent company itself.)*"
   ]
  },
  {
   "cell_type": "markdown",
   "metadata": {},
   "source": [
    "#### Other Items in Income Statement\n",
    "Revenue, finance costs, and tax expense, are required to be presented separately on the face of the income statement.\n",
    "\n",
    "Line items, headings, and subtotals relevant to understanding the entity’s financial performance should be presented even if not specified. \n",
    "\n",
    "Expenses may be grouped together either by their *nature* (e.g. depreciation) or *function* (e.g. cost of goods sold may include labour and material costs, depreciation, salespeople’s salaries, and other direct sales related expenses)."
   ]
  },
  {
   "cell_type": "markdown",
   "metadata": {},
   "source": [
    "#### Subtotal: Gross Profit (optional)\n",
    "One subtotal often shown in an income statement is gross profit or gross margin (that is revenue less cost of sales). When an income statement shows a gross profit subtotal, it is said to use a multi-step format rather than a single-step format. Gross profit is the amount of revenue available after subtracting the costs of delivering goods or services. Other expenses related to running the business are subtracted after gross profit."
   ]
  },
  {
   "cell_type": "markdown",
   "metadata": {},
   "source": [
    "#### Subtotal: Operating Profit \n",
    "(a.k.a synonymously, operating income). It results from deducting *operating expenses* (such as selling, general, administrative, and research and development expenses) from *gross profit*. \n",
    "\n",
    "Operating profit reflects a company’s profits on its business activities before deducting taxes, and for non-financial companies, before deducting interest expense. \n",
    "\n",
    "Operating profit is sometimes referred to as EBIT (earnings before interest and taxes). However, operating profit and EBIT are not necessarily the same. "
   ]
  },
  {
   "cell_type": "markdown",
   "metadata": {},
   "source": [
    "Use cases:<br>\n",
    "For some companies composed of a number of separate business segments, operating profit can be useful in evaluating the performance of the individual business segments, because interest and tax expenses may be more relevant at the level of the overall company rather than an individual segment level. \n",
    "\n",
    "Although the extra week is likely immaterial in computing year-to-year growth rates, it may have a material impact on a quarter containing the extra week. In general, an analyst should be alert to the effect of an extra week when making historical comparisons and forecasting future performance."
   ]
  },
  {
   "cell_type": "markdown",
   "metadata": {},
   "source": [
    "## Revenue Recognition\n",
    "Basic Principles and Selected Applications Related to the Recognition of Revenue"
   ]
  },
  {
   "cell_type": "markdown",
   "metadata": {},
   "source": [
    "The *Conceptual Framework* defines income as follows:\n",
    "Income is increases in economic benefits during the accounting period in the form of inflows or enhancements of assets or decreases of liabilities that result in increases in equity, other than those relating to contributions from equity participants.\n",
    "\n",
    "In IFRS, the term “income” includes revenue and gains. Gains are similar to revenue, but they typically arise from secondary or peripheral activities rather than from a company’s primary business activities. Similarly, a loss typically arises from secondary activities. Gains and losses may be considered part of operating activities (e.g., a loss due to a decline in the value of inventory) or may be considered part of non-operating activities (e.g., the sale of non-trading investments).\n",
    "\n",
    "Net revenue is revenue for goods sold during the period less any returns and allowances."
   ]
  },
  {
   "cell_type": "markdown",
   "metadata": {},
   "source": [
    "#### General Principles\n",
    "If the delivery was on credit, a related asset, such as trade or accounts receivable, is created. Later, when cash changes hands, the company’s financial records simply reflect that cash has been received to settle an account receivable.\n",
    "\n",
    "There are situations when a company receives cash in advance and actually delivers the product or service later, perhaps over a period of time. In this case, the company would record a liability for unearned revenue when the cash is initially received, and revenue would be recognized as being earned over time as products and services are delivered. An example would be a subscription payment received for a publication that is to be delivered periodically over time."
   ]
  },
  {
   "cell_type": "markdown",
   "metadata": {},
   "source": [
    "#### Accounting Standards for Revenue Recognition\n",
    "The core principle of the converged standard is that revenue should be recognized to “depict the transfer of promised goods or services to customers in an amount that reflects the consideration to which the entity expects to be entitled in an exchange for those goods or services.”\n",
    "\n",
    "Five steps in recognizing revenue\n",
    "1. Identify the contract(s) with a customer\n",
    "2. Identify the separate or distinct performance obligations in the contract\n",
    "3. Determine the transaction price\n",
    "4. Allocate the transaction price to the performance obligations in the contract\n",
    "5. Recognize revenue when (or as) the entity satisfies a performance obligation (The performance obligations within a contract represent promises to transfer distinct good(s) or service(s))\n",
    "\n",
    "When revenue is recognized, a contract asset is presented on the balance sheet. It is only at the point when all performance obligations have been met except for payment that a receivable appears on the seller’s balance sheet. If consideration is received in advance of transferring good(s) or service(s), the seller presents a contract liability.\n",
    "\n",
    "In case revenues are reversed:\n",
    "The balance sheet will be required to reflect the entire refund obligation as a liability and will include an asset for the “right to returned goods” based on the carrying amount of inventory less costs of recovery."
   ]
  },
  {
   "cell_type": "markdown",
   "metadata": {},
   "source": [
    "Under the converged accounting standards, the incremental costs of obtaining a contract and certain costs incurred to fulfill a contract must be capitalized. If a company expensed these incremental costs in the years prior to adopting the converged standards, all else being equal, its profitability will appear higher under the converged standards.\n",
    "\n",
    "Some related costs require specific accounting treatment under the new standards. In particular, incremental costs of obtaining a contract and certain costs incurred to fulfill a contract must be capitalized under the new standards (i.e., reported as an asset on the balance sheet rather than as an expense on the income statement). If a company had previously expensed these incremental costs in the years prior to adopting the converged standard, all else equal, its profitability will initially appear higher under the converged standards."
   ]
  },
  {
   "cell_type": "markdown",
   "metadata": {},
   "source": [
    "## Expense Recognition: General Principles\n",
    "basic principles and selected applications related to the recognition of expenses。\n",
    "\n",
    "Under the IASB Conceptual Framework, expenses are “decreases in economic benefits during the accounting period in the form of outflows or depletions of assets or incurrences of liabilities that result in decreases in equity, other than those relating to distributions to equity participants.”\n",
    "\n",
    "They usually take the form of an outflow or depletion of assets such as cash and cash equivalents, inventory, property, plant and equipment.\n",
    "\n",
    "#### General Principles: Matching Principle\n",
    "a company recognizes some expenses (e.g., cost of goods sold) when associated revenues are recognized and thus, expenses and revenues are matched. Matching requires that a company recognizes cost of goods sold in the same period as revenues from the sale of the goods.\n",
    "\n",
    "Period costs, expenditures that less directly match revenues, are reflected in the period when a company makes the expenditure or incurs the liability to pay. Administrative expenses are an example of period costs. \n",
    "\n",
    "Other expenditures that also less directly match revenues relate more directly to future expected benefits; in this case, the expenditures are allocated systematically with the passage of time. An example is depreciation expense.\n",
    "\n",
    "#### FIFO and Weighted Average Cost Methods\n",
    "Specific identification method and inventory and cost of goods sold are based on their physical flow. It is generally not feasible to specifically identify which items were sold and which remain on hand, so accounting standards permit the assignment of inventory costs to costs of goods sold and to ending inventory using cost formulas (IFRS terminology) or cost flow assumptions (US GAAP).\n",
    "\n",
    "The cost formula or cost flow assumption determines which goods are assumed to be sold and which goods are assumed to remain in inventory. Both IFRS and US GAAP permit the use of the first in, first out (FIFO) method, and the weighted average cost method to assign costs.\n",
    "\n",
    "Under the FIFO method, the oldest goods purchased (or manufactured) are assumed to be sold first and the newest goods purchased (or manufactured) are assumed to remain in inventory. \n",
    "\n",
    "The weighted average cost method assigns the average cost of goods available for sale to the units sold and remaining in inventory. \n",
    "\n",
    "Another method is permitted under US GAAP but is not permitted under IFRS. This is the last in, first out (LIFO) method. Under the LIFO method, the newest goods purchased (or manufactured) are assumed to be sold first and the oldest goods purchased (or manufactured) are assumed to remain in inventory. "
   ]
  },
  {
   "cell_type": "markdown",
   "metadata": {},
   "source": [
    "### Issues in Expense Recognition \n",
    "#### Doubtful Accounts\n",
    "When a company sells its products or services on credit, it is likely that some customers will ultimately default on their obligations. \n",
    "\n",
    "direct write-off method\n",
    "\n",
    "Under the matching principle, at the time revenue is recognized on a sale, a company is required to record an estimate of how much of the revenue will ultimately be uncollectible. \n",
    "\n",
    "The company records its estimate of uncollectible amounts as an expense on the income statement, not as a direct reduction of revenues.\n",
    "\n",
    "#### Warranties\n",
    "If the product proves deficient in some respect that is covered under the terms of the warranty, the company will incur an expense to repair or replace the product. \n",
    "\n",
    "Under the matching principle, a company is required to estimate the amount of future expenses resulting from its warranties, to recognize an estimated warranty expense in the period of the sale, and to update the expense as indicated by experience over the life of the warranty.\n",
    "\n",
    "#### Depreciation \n",
    "Long-lived assets are assets expected to provide economic benefits over a future period of time greater than one year. Examples are land (property), plant, equipment, and intangible assets (assets lacking physical substance) such as trademarks. The costs of most long-lived assets are allocated over the period of time during which they provide economic benefits. \n",
    "\n",
    "The two main types of long-lived assets whose costs are not allocated over time are land and those intangible assets with indefinite useful lives.\n",
    "\n",
    "Depreciation is the process of systematically allocating costs of long-lived assets over the period during which the assets are expected to provide economic benefits.\n",
    "\n",
    "- The straight-line method allocates evenly the cost of long-lived assets less estimated residual value over the estimated useful life of an asset. \n",
    "- accelerated methods of depreciation: allocate a greater proportion of the cost to the early years of an asset’s useful life. (A commonly used accelerated method is the **diminishing balance method**, (a.k.a the declining balance method)) *(Note: Common acceleration factors are 150 percent and 200 percent)*\n",
    "\n",
    "Related Concepts:\n",
    "- Net book value: the remaining (undepreciated) balance of an asset’s purchase cost. For liabilities, the face value of a bond minus any unamortized discount, or plus any unamortized premium.\n",
    "- Straight-line rate\n",
    "- Acceleration factor: this rate is (then) applied to the remaining undepreciated balance of the asset each period (known as the net book value). (the 40 percent is applied to $11,000 rather than to $11,000 minus residual value. However, the company will stop taking depreciation when the salvage value is reached.)\n"
   ]
  },
  {
   "cell_type": "code",
   "execution_count": 1,
   "metadata": {},
   "outputs": [
    {
     "name": "stdout",
     "output_type": "stream",
     "text": [
      "1 33333.33333333333 16666.66666666667\n",
      "2 11111.111111111113 5555.555555555558\n",
      "3 555.5555555555584 5000.0\n"
     ]
    }
   ],
   "source": [
    "# Calculating straight-line rate and assigning known variables\n",
    "cost = 50000\n",
    "life = 3\n",
    "residual_val = 5000\n",
    "sl_rate = 1 / life\n",
    "net_book_val = cost # initial net book value\n",
    "depreciation = 0 # initial depreciation\n",
    "\n",
    "# Acceleration factor: assuming 200%\n",
    "diminish_rate = 2 * sl_rate\n",
    "\n",
    "# Depreciate net book values each year until salvage value is reached \n",
    "for year in range(1, life+1):\n",
    "    depreciation = net_book_val * diminish_rate \n",
    "    if net_book_val - depreciation >= residual_val: \n",
    "        net_book_val = net_book_val - depreciation\n",
    "        print(year, depreciation, net_book_val)\n",
    "    else:\n",
    "        depreciation = net_book_val - residual_val\n",
    "        net_book_val = net_book_val - depreciation\n",
    "        print(year, depreciation, net_book_val)"
   ]
  },
  {
   "cell_type": "markdown",
   "metadata": {},
   "source": [
    "#### Amortization\n",
    "Amortisation is the term commonly applied to this process for intangible long-lived assets with a finite useful life.\n",
    "Examples of intangible long-lived assets with a finite useful life include an acquired mailing list, an acquired patent with a set expiration date, and an acquired copyright with a set legal life. The term “amortisation” is also commonly applied to the systematic allocation of a premium or discount relative to the face value of a fixed-income security over the life of the security.\n",
    "\n",
    "IFRS allow two alternative models for valuing property, plant, and equipment: **the cost model** and **the revaluation model**.\n",
    "- Under the cost model, the depreciable amount of that asset (cost less residual value) is allocated on a systematic basis over the remaining useful life of the asset. \n",
    "- Under the cost model, the asset is reported at its cost less any accumulated depreciation. Under the revaluation model, the asset is reported at its fair value. The revaluation model is not permitted under US GAAP. \n",
    "\n",
    "two other differences between IFRS and US GAAP to note: IFRS require each component of an asset to be depreciated separately and US GAAP do not require component depreciation; and IFRS require an annual review of residual value and useful life, and US GAAP do not explicitly require such a review.\n",
    "\n",
    "Calculating depreciation and amortisation requires two significant estimates: the estimated useful life of an asset and the estimated residual value (also known as “salvage value”) of an asset.\n",
    "- Under IFRS, the residual value is the amount that the company expects to receive upon sale of the asset at the end of its useful life.\n",
    "\n",
    "In most cases under IFRS and US GAAP, amortisable intangible assets are amortised using the straight-line method with no residual value. Goodwill21 and intangible assets with indefinite life are not amortised. Instead, they are tested at least annually for impairment (i.e., if the current value of an intangible asset or goodwill is materially lower than its value in the company’s books, the value of the asset is considered to be impaired and its value in the company’s books must be decreased)."
   ]
  },
  {
   "cell_type": "markdown",
   "metadata": {},
   "source": [
    "### Implications for Financial Analysts: Expense Recognition\n",
    "A policy that results in recognition of expenses later rather than sooner is considered less conservative. \n",
    "\n",
    "When possible, the monetary effect of differences in expense recognition policies and estimates can facilitate more meaningful comparisons with a single company’s historical performance or across a number of companies. An analyst can use the monetary effect to adjust the reported expenses so that they are on a comparable basis.\n",
    "\n",
    "Even when the monetary effects of differences in policies and estimates cannot be calculated, it is generally possible to characterize the relative conservatism of the policies and estimates and, therefore, to qualitatively assess how such differences might affect reported expenses and thus financial ratios."
   ]
  },
  {
   "cell_type": "markdown",
   "metadata": {},
   "source": [
    "## Non-Recurring Items and Non-Operating Items"
   ]
  },
  {
   "cell_type": "markdown",
   "metadata": {},
   "source": [
    "### Non-Recurring Items\n",
    "To assess a company’s future earnings, it is helpful to separate those prior years’ items of income and expense that are likely to continue in the future from those items that are less likely to continue.\n",
    "\n",
    "#### Discontinued Operations\n",
    "When a company disposes of or establishes a plan to dispose of one of its component operations and will have no further involvement in the operation, the income statement reports separately the effect of this disposal as a “discontinued” operation under both IFRS and US GAAP.\n",
    "\n",
    "Because the discontinued operation will no longer provide earnings (or cash flow) to the company, an analyst may eliminate discontinued operations in formulating expectations about a company’s future financial performance.\n",
    "\n",
    "#### Unusual or Infrequent Items\n",
    "IFRS require that items of income or expense that are material and/or relevant to the understanding of the entity’s financial performance should be disclosed separately. Unusual or infrequent items are likely to meet these criteria.\n",
    "\n",
    "#### Changes in Accounting Policy\n",
    "Depending on the standard, companies may be permitted to adopt the standards prospectively (in the future) or retrospectively (restate financial statements as though the standard existed in the past).\n",
    "\n",
    "**Retrospective application** means that the financial statements for all fiscal years shown in a company’s financial report are presented as if the newly adopted accounting principle had been used throughout the entire period. Because changes in accounting principles are retrospectively applied, the financial statements that appear within a financial report are comparable.\n",
    "- “full retrospective method”: requires companies to restate prior periods’ results. \n",
    "- “modified retrospective” method: not required to revise previously reported financial statements. Instead, they adjusted opening balances of retained earnings (and other applicable accounts) for the cumulative impact of the new standard.\n",
    "\n",
    "#### Changes in Accounting Estimates\n",
    "In contrast to changes in accounting policies (such as whether to expense the cost of employee stock options), companies sometimes make changes in accounting estimates (such as the useful life of a depreciable asset). Changes in accounting estimates are handled **prospectively**, with the change affecting the financial statements for the period of change and future periods. \n",
    "\n",
    "No adjustments are made to prior statements, and the adjustment is not shown on the face of the income statement. \n",
    "\n",
    "#### Correction of an Error \n",
    "(e.g., in financial statements issued for an earlier year). This cannot be handled by simply adjusting the current period income statement. Correction of an error for a prior period is handled by restating the financial statements (including the balance sheet, statement of owners’ equity, and cash flow statement) for the prior periods presented in the current financial statements.26 Note disclosures are required regarding the error. These disclosures should be examined carefully because they may reveal weaknesses in the company’s accounting systems and financial controls."
   ]
  },
  {
   "cell_type": "markdown",
   "metadata": {},
   "source": [
    "### Non-Operating Items\n",
    "Under IFRS, there is no definition of operating activities, and companies that choose to report operating income or the results of operating activities should ensure that these represent activities that are normally regarded as operating. \n",
    "\n",
    "Under US GAAP, operating activities generally involve producing and delivering goods and providing services and include all transactions and other events that are not defined as investing or financing activities. **Under US GAAP, *restructuring charges* are operating items**.\n",
    "\n",
    "- any interest, dividends, or profits from sales of investments in equity or debt securities issued by another company (of non-financial firms)\n",
    "- interest expense on their debt securities"
   ]
  },
  {
   "cell_type": "markdown",
   "metadata": {},
   "source": [
    "## Capital Structure and Earnings Per Share \n",
    "IFRS require the presentation of EPS on the face of the income statement for net profit or loss (net income) and profit or loss (income) from continuing operations."
   ]
  },
  {
   "cell_type": "markdown",
   "metadata": {},
   "source": [
    "### Simple Capital Structure\n",
    "If a company’s capital structure does not include potentially convertible financial instruments, it is said to have a simple capital structure.\n",
    "\n",
    "A company’s capital is composed of its equity and debt. Some types of equity have preference over others, and some debt (and other instruments) may be converted into equity.\n",
    "$$Capital\\ =\\ Equity\\ +\\ Debt$$\n",
    "\n",
    "Under IFRS, the type of equity for which EPS is presented is referred to as ordinary. Under US GAAP, this equity is referred to as common stock or common shares.\n",
    "\n",
    "**Ordinary shares** are those equity shares that are subordinate to all other types of equity. The ordinary shareholders are basically the owners of the company—the equity holders who are paid last in a liquidation of the company and who benefit the most when the company does well. \n",
    "\n",
    "### Complex Capital Structure\n",
    "When a company has issued any financial instruments that are potentially convertible into common stock, it is said to have a complex capital structure. (Such as convertible bonds, convertible preferred stock, employee stock options, and warrants).\n",
    "\n",
    "Financial instruments that are potentially convertible into common stock could potentially dilute (i.e., decrease) EPS.\n",
    "\n",
    "### Basic EPS\n",
    "Basic EPS is calculated using the reported earnings available to common shareholders of the parent company and the weighted average number of shares outstanding.\n",
    "$$\\frac{Net\\ earnings\\ available\\ to\\ common\\ shareholders\\ (i.e.,\\ net\\ income\\ - preferred\\ dividends)}{weighted\\ average\\ number\\ of\\ common\\ shares\\ outstanding}$$\n",
    "<div style=\"text-align: right\"> Equation 1 </div>\n",
    "The weighted average number of shares outstanding is a time weighting of common shares outstanding. It is determined by the length of time each quantity of shares was outstanding\n",
    "\n",
    "*(NOTE: If the number of shares of common stock increases as a result of a stock dividend or a stock split, the EPS calculation reflects the change retroactively to the beginning of the period.)*"
   ]
  },
  {
   "cell_type": "markdown",
   "metadata": {},
   "source": [
    "Example:<br>For the year ended 31 December 2018, Angler Products had net income of USD2,500,000. The company declared and paid USD200,000 of dividends on preferred stock. The company also had the following common stock share information:\n",
    "<br>\n",
    "\n",
    "Shares outstanding on 1 January 2018:\t1,000,000<br>\n",
    "Shares issued on 1 April 2018:\t200,000<br>\n",
    "Shares repurchased (treasury shares) on 1 October 2018:\t(100,000)<br>\n",
    "Shares outstanding on 31 December 2018:\t1,100,000"
   ]
  },
  {
   "cell_type": "code",
   "execution_count": 2,
   "metadata": {},
   "outputs": [
    {
     "name": "stdout",
     "output_type": "stream",
     "text": [
      "2300000 1125000.0 2.0444444444444443\n"
     ]
    }
   ],
   "source": [
    "# Computing known variables\n",
    "net_income = 2500000\n",
    "dividend = 200000\n",
    "jan_shares = 1000000\n",
    "apr_shares = 200000\n",
    "oct_shares = 100000\n",
    "dec_shares = 1100000\n",
    "\n",
    "# Calculating net earnings available to common shareholders\n",
    "neacs = net_income - dividend\n",
    "\n",
    "# Calculating weighted average number of common shares outstanding \n",
    "wancso = jan_shares*(3/12) + (jan_shares + apr_shares)*(6/12) + (jan_shares + apr_shares - oct_shares)*(3/12) \n",
    "\n",
    "# Calculating EPS\n",
    "eps = neacs / wancso\n",
    "print(neacs, wancso, eps)"
   ]
  },
  {
   "cell_type": "markdown",
   "metadata": {},
   "source": [
    "Assume the same facts as the above Example, except that on 1 December 2018, a previously declared 2-for-1 stock split took effect. Each shareholder of record receives two shares in exchange for each current share that he or she owns. What is the company’s basic EPS?"
   ]
  },
  {
   "cell_type": "code",
   "execution_count": 3,
   "metadata": {},
   "outputs": [
    {
     "name": "stdout",
     "output_type": "stream",
     "text": [
      "2300000 2250000.0 1.0222222222222221\n"
     ]
    }
   ],
   "source": [
    "# For EPS calculation purposes, a stock split is treated as if it occurred at the beginning of the period. \n",
    "eps = neacs / (wancso*2)\n",
    "print(neacs, wancso*2, eps)"
   ]
  },
  {
   "cell_type": "markdown",
   "metadata": {},
   "source": [
    "### Diluted EPS: the If-Converted Method\n",
    "The EPS that would result if all dilutive financial instruments were converted is called diluted EPS. When a company has convertible preferred stock outstanding, diluted EPS is calculated using the if-converted method. The if-converted method is based on what EPS would have been if the convertible preferred securities had been converted at the beginning of the period. \n",
    "\n",
    "#### Convertible Preferred Stock Outstanding\n",
    "Effects of the \"if\" situation:\n",
    "- The weighted average number of shares outstanding would be higher than in the basic EPS calculation. \n",
    "- Second, if such a conversion had taken place, the company would not have paid *preferred dividends*. Thus, under the if-converted method, the net income available to common shareholders would be higher than in the basic EPS calculation.\n",
    "\n",
    "$$Diluted\\ EPS=\\frac{(Net\\ income)}{(Weighted\\ average\\ number\\ of\\ sharesoutstanding\\ +\\ New\\ common\\ shares\\ that\\ would\\ have\\ been\\ issued\\ at\\ conversion)}$$\n",
    "<div style=\"text-align: right\"> Equation 2 </div>\n",
    "\n",
    "#### Convertible Debt Outstanding\n",
    "If such a conversion had taken place, the company would not have paid interest on the convertible debt, so the net income available to common shareholders would increase by the after-tax amount of interest expense on the debt converted.\n",
    "\n",
    "The formula to calculate diluted EPS using the if-converted method for convertible debt is:\n",
    "$$Diluted\\ EPS\\ =\\ \\frac{(Net\\ income\\ +\\ After\\ tax\\ interest\\ on\\ convertible\\ debt−Preferred\\ dividends)}{(Weighted\\ average\\ number\\ of\\ shares\\ outstanding\\ +\\ Additional\\ common\\ shares\\ that\\ would\\ have\\ been\\ issued\\ at\\ conversion)}$$\n",
    "<div style=\"text-align: right\"> Equation 3</div>\n"
   ]
  },
  {
   "cell_type": "markdown",
   "metadata": {},
   "source": [
    "Example:<br>\n",
    "Oppnox Company (fictitious) reported net income of USD 750,000 for the year ended 31 December 2018. The company had a weighted average of 690,000 shares of common stock outstanding. In addition, the company has only one potentially dilutive security: USD 50,000 of 6 percent convertible bonds, convertible into a total of 10,000 shares. Assuming a tax rate of 30 percent, calculate Oppnox’s basic and diluted EPS."
   ]
  },
  {
   "cell_type": "code",
   "execution_count": 4,
   "metadata": {},
   "outputs": [
    {
     "data": {
      "text/plain": [
       "1.0744285714285715"
      ]
     },
     "execution_count": 4,
     "metadata": {},
     "output_type": "execute_result"
    }
   ],
   "source": [
    "# Diluted EPS\n",
    "common_shares = 690000\n",
    "converted_shares = 10000\n",
    "net_income = 750000\n",
    "security_val = 50000\n",
    "r = 0.06\n",
    "interest = security_val * r\n",
    "tax_rate = 0.3\n",
    "after_tax_interest = interest * (1 - tax_rate)\n",
    "\n",
    "(net_income + after_tax_interest) / (common_shares + converted_shares)"
   ]
  },
  {
   "cell_type": "code",
   "execution_count": 5,
   "metadata": {},
   "outputs": [
    {
     "data": {
      "text/plain": [
       "1.0869565217391304"
      ]
     },
     "execution_count": 5,
     "metadata": {},
     "output_type": "execute_result"
    }
   ],
   "source": [
    "# Basic EPS\n",
    "(net_income ) / (common_shares)"
   ]
  },
  {
   "cell_type": "markdown",
   "metadata": {},
   "source": [
    "#### Diluted EPS: the Treasury Stock Method (When Stock Options, Warrants, or Their Equivalents Outstanding)\n",
    "When a company has stock options, warrants, or their equivalents outstanding, diluted EPS is calculated as if the financial instruments had been exercised and the company had used the proceeds from exercise to repurchase as many shares of common stock as possible at the average market price of common stock during the period. \n",
    "\n",
    "For the calculation of diluted EPS using this method, the assumed exercise of these financial instruments would have the following effects:<br>\n",
    "- The company is assumed to receive cash upon exercise and, in exchange, to issue shares.\n",
    "- The company is assumed to use the cash proceeds to repurchase shares at the weighted average market price during the period.\n",
    "\n",
    "For calculating diluted EPS, the incremental number of shares is weighted based upon the length of time the financial instrument was outstanding in the year. \n",
    "$$Diluted\\ EPS\\ =\\ \\frac{(Net income−Preferred\\ dividends)}{[Weighted\\ average\\ number\\ of\\ shares\\ outstanding+(New\\ shares\\ that\\ would\\ have\\ been\\ issued\\ at\\ option\\ exercise−Shares\\ that\\ could\\ have\\ been\\ purchased\\ with\\ cash\\ received\\ upon\\ exercise)×(Proportion\\ of\\ year\\ during\\ which\\ the\\ financial\\ instruments\\ were\\ outstanding)]}$$\n",
    "<div style=\"text-align: right\"> Equation 4</div> \n",
    "\n",
    "**Under IFRS**<br>\n",
    "The company is required to consider that any assumed proceeds are received from the issuance of new shares at the average market price for the period. \n",
    "\n",
    "These new **“inferred” shares** would be disregarded in the computation of diluted EPS, but the excess of the new shares that would be issued under options contracts minus the new inferred shares would be added to the weighted average number of shares outstanding. \n",
    "\n",
    "$$\\frac{(Net income−Preferred\\ dividends)}{Weighted\\ average\\ number\\ of\\ shares\\ outstanding+(New\\ shares\\ that\\ would\\ have\\ been\\ issued\\ at\\ option\\ exercise - inferred\\_shares)}$$\n"
   ]
  },
  {
   "cell_type": "markdown",
   "metadata": {},
   "source": [
    "Example:<br>Hihotech Company (fictitious) reported net income of USD 2.3 million for the year ended 30 June 2018 and had a weighted average of 800,000 common shares outstanding. At the beginning of the fiscal year, the company has outstanding 30,000 options with an exercise price of USD 35. No other potentially dilutive financial instruments are outstanding. Over the fiscal year, the company’s market price has averaged USD 55 per share. Calculate the company’s basic and diluted EPS."
   ]
  },
  {
   "cell_type": "code",
   "execution_count": 11,
   "metadata": {},
   "outputs": [],
   "source": [
    "net_income = 2300000\n",
    "common_shares = 800000\n",
    "dividend = 0\n",
    "options = 30000\n",
    "exc_p = 35\n",
    "avg_stock_p = 55\n",
    "preferred_dividend = 0 "
   ]
  },
  {
   "cell_type": "code",
   "execution_count": 12,
   "metadata": {},
   "outputs": [
    {
     "data": {
      "text/plain": [
       "2.875"
      ]
     },
     "execution_count": 12,
     "metadata": {},
     "output_type": "execute_result"
    }
   ],
   "source": [
    "# Basic EPS\n",
    "(net_income-preferred_dividend) / (common_shares)"
   ]
  },
  {
   "cell_type": "code",
   "execution_count": 16,
   "metadata": {},
   "outputs": [
    {
     "data": {
      "text/plain": [
       "2.836322869955157"
      ]
     },
     "execution_count": 16,
     "metadata": {},
     "output_type": "execute_result"
    }
   ],
   "source": [
    "# Diluted EPS under GAAP\n",
    "new_shares = options\n",
    "purchased_shares = (options * exc_p) / avg_stock_p\n",
    "percent_yr = 12/12\n",
    "(net_income - dividend) / (common_shares + (new_shares - purchased_shares) *percent_yr)"
   ]
  },
  {
   "cell_type": "code",
   "execution_count": 17,
   "metadata": {
    "scrolled": true
   },
   "outputs": [
    {
     "data": {
      "text/plain": [
       "2.836322869955157"
      ]
     },
     "execution_count": 17,
     "metadata": {},
     "output_type": "execute_result"
    }
   ],
   "source": [
    "# Diluted EPS under IFRS\n",
    "proceeds = exc_p * options \n",
    "inferred_shares = proceeds / avg_stock_p\n",
    "excess = new_shares - inferred_shares\n",
    "(net_income - dividend) / (common_shares + excess)"
   ]
  },
  {
   "cell_type": "markdown",
   "metadata": {},
   "source": [
    "### Other Issues with Diluted EPS and Changes in EPS\n",
    "With reference to a transaction or a security, one that would increase earnings per share (EPS) or result in EPS higher than the company’s basic EPS—antidilutive securities are not included in the calculation of diluted EPS.\n",
    "\n",
    "Exceeds basic EPS; security is antidilutive and, therefore, not included. Reported diluted EPS = basic EPS."
   ]
  },
  {
   "cell_type": "markdown",
   "metadata": {},
   "source": [
    "## Introduction to Income Statement Analysis"
   ]
  },
  {
   "cell_type": "markdown",
   "metadata": {},
   "source": [
    "### Common-Size Analysis of the Income Statement\n",
    "It can be performed by stating each line item on the income statement as a percentage of revenue.\n",
    "\n",
    "Common-size statements facilitate comparison across time periods (time series analysis) and across companies (cross-sectional analysis) because the standardization of each line item removes the effect of size.\n",
    "\n",
    "The common-size income statement also highlights differences in companies’ strategies. \n",
    "\n",
    "Example:<br>\n",
    "Comparing the two larger companies, Company A reports significantly higher gross profit as a percentage of sales than does Company B (70 percent compared with 25 percent). Given that both companies operate in the same industry, why can Company A generate so much higher gross profit? One possible explanation is found by comparing the operating expenses of the two companies. Company A spends significantly more on research and development and on advertising than Company B. Expenditures on research and development likely result in products with superior technology. Expenditures on advertising likely result in greater brand awareness. So, based on these differences, it is likely that Company A is selling technologically superior products with a better brand image. Company B may be selling its products more cheaply (with a lower gross profit as a percentage of sales) but saving money by not investing in research and development or advertising. \n",
    "\n",
    "##### Tax\n",
    "For most expenses, comparison to the amount of sales is appropriate. However, in the case of taxes, it is more meaningful to compare the amount of taxes with the amount of **pretax income**. Using note disclosure, an analyst can then examine the causes for differences in effective tax rates. To project the companies’ future net income, an analyst would project the companies’ pretax income and apply an estimated effective tax rate determined in part by the historical tax rates.\n",
    "\n",
    "Vertical common-size analysis of the income statement is particularly useful in cross-sectional analysis."
   ]
  },
  {
   "cell_type": "markdown",
   "metadata": {},
   "source": [
    "### Income Statement Ratios (Profitability Ratios)\n",
    "#### Net Profit Margin \n",
    "Also known as profit margin and return on sales, which is calculated as net income divided by revenue (or sales).\n",
    "$$Net\\ profit\\ margin=\\frac{Net\\ income}{Revenue}$$\n",
    "\n",
    "#### Gross Profit Margin\n",
    "Gross profit (gross margin) is calculated as $revenue - cost\\ of\\ goods\\ sold$, and the gross profit margin is calculated as the gross profit divided by revenue. The gross profit margin measures the amount of gross profit that a company generated for each dollar of revenue.\n",
    "$$Gross\\ profit\\ margin=\\frac{Gross\\ profit}{Revenue}$$\n",
    "\n",
    "Differences in gross profit margins across companies reflect differences in companies’ strategies: In the initial stage of the strategy, the company would likely incur costs to create a differentiated product, such as advertising or research and development, which would not be reflected in the gross margin calculation.\n",
    "\n",
    "### Other Ratios\n",
    "- operating profit margin (profit from operations divided by revenue) \n",
    "- pretax margin (profit before tax divided by revenue)"
   ]
  },
  {
   "cell_type": "markdown",
   "metadata": {},
   "source": [
    "## Comprehensive Income and Its Reporting"
   ]
  },
  {
   "cell_type": "markdown",
   "metadata": {},
   "source": [
    "Other Comprehensive Income: Items of comprehensive income that are not reported on the income statement; comprehensive income minus net income. or: Comprehensive income includes both net income and other revenue and expense items that are excluded from the net income calculation (collectively referred to as Other Comprehensive Income). Other comprehensive income is income that increases stockholders’ equity but is not reflected as part of net income.\n",
    "\n",
    "While the wording differs, comprehensive income is conceptually the same under IFRS and US GAAP.<br>\n",
    "Under IFRS, other comprehensive income includes items of income and expense that are “not recognized in profit or loss as required or permitted by other IFRS.” Total comprehensive income is “the change in equity during a period resulting from transaction and other events, other than those changes resulting from transactions with owners in their capacity as owners.”\n",
    "\n",
    "Under US GAAP, comprehensive income is defined as “the change in equity \\[net assets\\] of a business enterprise during a period from transactions and other events and circumstances from non-owner sources. It includes all changes in equity during a period except those resulting from investments by owners and distributions to owners.” "
   ]
  },
  {
   "cell_type": "markdown",
   "metadata": {},
   "source": [
    "Assume, for example, a company’s beginning shareholders’ equity is €110 million, its net income for the year is €10 million, its cash dividends for the year are €2 million, and there was no issuance or repurchase of common stock. If the company’s actual ending shareholders’ equity is €123 million, then €5 million \\[€123 – (€110 + €10 – €2)\\] has bypassed the net income calculation by being classified as other comprehensive income. If the company had no other comprehensive income, its ending shareholders’ equity would have been €118 million \\[€110 + €10 – €2\\]."
   ]
  },
  {
   "cell_type": "markdown",
   "metadata": {},
   "source": [
    "Four types of items are treated as other comprehensive income under both IFRS and US GAAP:\n",
    "\n",
    "$$Other\\ comprehensive\\ income = Unrealized\\ gain\\ on\\ available-for-sale\\ securities – Unrealized\\ loss\\ on\\ derivatives\\ accounted\\ for\\ as\\ hedges + Foreign\\ currency\\ translation\\ gain\\ on\\ consolidation$$\n",
    "\n",
    "1. Foreign currency translation adjustments. In consolidating the financial statements of foreign subsidiaries, the effects of translating the subsidiaries’ balance sheet assets and liabilities at current exchange rates are included as other comprehensive income.\n",
    "2. Unrealized gains or losses on derivatives contracts accounted for as hedges. Changes in the fair value of derivatives are recorded each period, but certain changes in value are treated as other comprehensive income and thus bypass the income statement.\n",
    "3. Unrealized holding gains and losses on a certain category of investment securities, namely, available-for-sale debt securities under US GAAP and securities designated as “fair value through other comprehensive income” under IFRS. (Note: IFRS, but not US GAAP, also includes a category of equity investments designated at fair value through other comprehensive income.)\n",
    "4. Certain costs of a company’s defined benefit post-retirement plans that are not recognized in the current period.\n",
    "\n"
   ]
  },
  {
   "cell_type": "markdown",
   "metadata": {},
   "source": [
    "#### Gains/Losses Arised from Securities Held by the Firm\n",
    "**Even where unrealized holding gains and losses are excluded from a company’s net income (profit and loss), they are included in other comprehensive income and thus form a part of a company’s comprehensive income.**\n",
    "\n",
    "Held-to-maturity debt securities are reported at their amortized cost, so no unrealized gains or losses are reported. For other securities reported at fair value, the unrealized gains or losses are reflected either in the income statement or as other comprehensive income.\n",
    "\n",
    "Gains/losses from securities held for trading are recorded in net income. \n",
    "\n",
    "##### Under US GAAP\n",
    "Unrealized gains and losses are reflected in the income statement for: (a) debt securities designated as trading securities; and (b) all investments in equity securities (other than investments giving rise to ownership positions that confer significant influence over the investee). The trading securities category pertains to a debt security that is acquired with the intent of selling it rather than holding it to collect the interest and principal payments. \n",
    "\n",
    "Also, under US GAAP, unrealized gains and losses are reflected as other comprehensive income for debt securities designated as available-for-sale securities. Available-for-sale debt securities are those not designated as either held-to-maturity or trading.\n",
    "\n",
    "##### Under IFRS\n",
    "Unrealized gains and losses are reflected in the income statement for: (a) investments in equity investments, unless the company makes an irrevocable election otherwise; and (b) debt securities, if the securities do not fall into the other measurement categories or if the company makes an irrevocable election to show gains and losses on the income statement. \n",
    "\n",
    "These debt and equity investments are referred to as being measured at **fair value** through profit or loss. Also under IFRS, unrealized gains and losses are reflected as other comprehensive income for: (a) “debt securities held within a business model whose objective is achieved both by collecting contractual cash flows and selling financial assets”; and (b) equity investments for which the company makes an irrevocable election at initial recognition to show gains and losses as part of other comprehensive income. These debt and equity investments are referred to as being measured at fair value through other comprehensive income. Accounting for these securities is similar to accounting for US GAAP’s available-for-sale debt securities."
   ]
  },
  {
   "cell_type": "markdown",
   "metadata": {},
   "source": [
    "# Understanding Balance Sheets"
   ]
  },
  {
   "cell_type": "markdown",
   "metadata": {},
   "source": [
    "[TBC]"
   ]
  },
  {
   "cell_type": "markdown",
   "metadata": {},
   "source": [
    "# Understanding Cash Flow Statements"
   ]
  },
  {
   "cell_type": "markdown",
   "metadata": {},
   "source": [
    "# Financial Analysis Techniques"
   ]
  },
  {
   "cell_type": "code",
   "execution_count": null,
   "metadata": {},
   "outputs": [],
   "source": []
  }
 ],
 "metadata": {
  "kernelspec": {
   "display_name": "Python 3",
   "language": "python",
   "name": "python3"
  },
  "language_info": {
   "codemirror_mode": {
    "name": "ipython",
    "version": 3
   },
   "file_extension": ".py",
   "mimetype": "text/x-python",
   "name": "python",
   "nbconvert_exporter": "python",
   "pygments_lexer": "ipython3",
   "version": "3.7.3"
  }
 },
 "nbformat": 4,
 "nbformat_minor": 4
}
