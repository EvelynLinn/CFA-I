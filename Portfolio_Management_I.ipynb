{
 "cells": [
  {
   "cell_type": "markdown",
   "metadata": {},
   "source": [
    "# Portfolio Management: An Overview"
   ]
  },
  {
   "cell_type": "markdown",
   "metadata": {},
   "source": [
    "## Introduction\n",
    "A portfolio approach focuses on each asset's contribution to a portfolio rather than in isolation."
   ]
  },
  {
   "cell_type": "markdown",
   "metadata": {},
   "source": [
    "## Portfolio Perspective\n",
    "### Portfolio Diversification: Avoiding Disaster\n",
    "Enron serves as a cautionary example of the failure to diversify. For many employees, the company's stock represented a substantial portion of their financial assets. When the company went bankrupt and the stock became worthless, these employees learned a difficult lesson about placing too many eggs in one basket. Investors can avoid such disastrous outcomes by diversifying their portfolios and not accumulating highly concentrated individual positions.\n",
    "### Portfolios: Reduce Risk\n",
    "The expected return for an equally weighted portfolio is the simple average of expected returns of each of its securities. However, the portfolio standard deviation is less than the average standard deviation for the individual securities. This is because individual asset returns are **not perfectly correlated** with each other.\n",
    "\n",
    "Because the mean return is the same, the `diversification ratio`, a simple measure of the value of diversification is calculated as the ratio of the standard deviation of the equally weighted portfolio to the standard deviation of the randomly selected security.\n",
    "\n",
    "    Consider the example of five individual stocks that each have a 20% standard deviation. A portfolio that includes these stocks in equal weights will have a standard deviation of less than 20% if individual stock returns are not perfectly correlated. If the portfolio standard deviation is only 14% rather than the 20% average, the portfolio's diversification ratio is 70% (14%/20%).\n",
    "\n",
    "Portfolios affect risk more than returns.\n",
    "### Portfolios: Composition Matters for the Risk-Return Trade-off\n",
    "Equally weighted portfolios do reduce risk. However, other compositions can reduce risk more. \n",
    "\n",
    "The optimal portfolio will maximize the return for a given amount of risk or minimize the risk for a given level of return. (improved trade-off between risk and return)\n",
    "### Portfolios: Not Necessarily Downside Protection\n",
    "Diversification benefits are possible when individual securities do not move up and down in sync. However, severe market turmoil often leads to many assets moving down in value together. This phenomenon, known as `contagion`, reduces the benefits of diversification that are achieved under normal market conditions.\n",
    "### Portfolios: The Modern Portfolio Theory\n",
    "Harry Markowitz popularized `modern portfolio theory (MPT)` in 1952. MPT emphasizes focus on the portfolio rather than individual securities in isolation. The implication is that investors should focus only on `systematic`, or `non-diversifiable, risk`. **There is no reward to be earned for accepting risk that can be eliminated by diversifying a portfolio's assets.** This perspective on risk is the basis for the `capital asset pricing model (CAPM)`."
   ]
  },
  {
   "cell_type": "markdown",
   "metadata": {},
   "source": [
    "## Steps in the Portfolio Management Process\n",
    "The portfolio management process has three steps. The actions involved in each step are summarized below:\n",
    "1.  Planning\n",
    "  - Understanding the client's needs\n",
    "  - Preparing the `Investment Policy Statement (IPS)`\n",
    "2. Execution\n",
    "  - Asset allocation\n",
    "  - `Security analysis`\n",
    "  - Portfolio construction\n",
    "3.  Feedback\n",
    "  - Monitoring and `rebalancing`\n",
    "  - Performance measurement and reporting\n",
    "\n",
    "### Step One: The Planning Step\n",
    "Portfolio managers must understand their clients' investment objectives and constraints. This understanding should be formally articulated in a written IPS, which should be reviewed and updated at regular intervals and after any significant changes in circumstances. The IPS may specify a `benchmark`, such as a market index, that can be used to measure and evaluate the manager's performance.\n",
    "### Step Two: The Execution Step\n",
    "The objective of this step is to create a portfolio that is consistent with the objectives and constraints in the IPS.\n",
    "#### Asset Allocation\n",
    "First, assess the risk and return characteristics of the available instruments. These expectations can be used to form an asset allocation, which is the distribution between equities, fixed-income, cash, and alternative assets. A top-down approach may be used to adjust asset class allocations based on an analysis of macroeconomic conditions.\n",
    "#### Security Analysis\n",
    "They will use their detailed knowledge of the companies and industries they cover to assess the **expected level and risk of the cash flows** that each security will produce. This knowledge allows the analysts to assign a valuation to the security and identify preferred investments.\n",
    "- Using a top-down approach, a manager can analyze macroeconomic conditions to identify sectors that are likely to outperform before moving on to select individual securities within these sectors. \n",
    "- By contrast, a bottom-up approach starts by analyzing **company-specific** factors and is less concerned with macroeconomic conditions.\n",
    "#### Portfolio Construction\n",
    "The portfolio that emerges from the execution step should reflect **target weights** for asset classes, any individual assets that were identified in the security analysis process, and the client's level of risk tolerance. Investment decisions should be made based on consideration of the entire portfolio rather than an isolated focus on individual assets. \n",
    "\n",
    "Managers may rely on the services of outside specialists, such as buy-side traders, to execute the necessary transactions.\n",
    "### Step Three: The Feedback Step\n",
    "#### Portfolio Monitoring and Rebalancing\n",
    "As security prices fluctuate and market conditions change, trading will be necessary to rebalance the weights of asset classes and individual securities within the portfolio. \n",
    "\n",
    "`Rebalancing` may also be required if there have been significant changes in a client's circumstances.\n",
    "#### Performance Measurement and Reporting\n",
    "Any analysis of a portfolio's performance should be done relative to a relevant benchmark that has been specified in the IPS. The performance analysis process may indicate the need for changes to a client's IPS, which links back to the first step in the portfolio management process."
   ]
  },
  {
   "cell_type": "markdown",
   "metadata": {},
   "source": [
    "## Types of Investors\n",
    "### Individual Investors\n",
    "Individuals save for such things as home purchases, post-secondary education, and retirement. Investors will tend to hold portfolios of assets that are consistent with their needs and circumstances. \n",
    "\n",
    "*(For example, younger investors typically prefer riskier assets that offer high growth potential, while investors who are closer to retirement shift their holdings toward less volatile assets that provide more stable returns.*)\n",
    "### Institutional Investors\n",
    "##### Defined Benefit Pension Plans\n",
    "Participants in `defined contribution (DC)` pension plans are entirely responsible for choosing their optimal asset allocation and accept all investment risk. \n",
    "\n",
    "By contrast, participants in `defined benefit (DB)` pension plans have no ability to determine the allocation of plan assets and accept no investment risk because their promised benefits are defined. *(Thus, compared to participants in defined contribution pension plans, employees who participate in a DB pension plan accept less investment risk.)*\n",
    "\n",
    "Investment horizons vary among DB pension plans, but even those with relatively older workforces must plan to make payments for the remainder of participants' expected lives. Often, DB pension plans hold long-term bonds to offset their liabilities and generate income (which is particularly important for more mature plans). **Long investment horizons and low liquidity needs** contribute to a relatively high level of risk tolerance.\n",
    "\n",
    "With DB plans, the investments need to be invested to provide cash flows that attempt to match the future liabilities, which are the future pension payments.\n",
    "\n",
    "The **time horizon** is effectively indefinite if new members are continually being admitted into the pension plan. Because a steady inflow of new participants is accompanied by a corresponding inflow of contributions, current income needs are low in these circumstances.\n",
    "\n",
    "If the plan was closed, the time horizon would still be relatively long but finite.\n",
    "##### Endowments and Foundations\n",
    "University endowments and charitable foundations provide ongoing financial support to their affiliated organizations. Usually, their investment objective is to earn sufficient returns to maintain the real (inflation-adjusted) value of their assets after meeting their annual spending commitments. As a general rule, endowments and foundations expect to operate indefinitely, which gives them very long investment horizons and high risk tolerance. Liquidity needs are usually relatively low as a share of assets.\n",
    "##### Banks\n",
    "Banks operate by accepting deposits and making loans. Any excess reserves can be invested in short-term, highly liquid, safe investments (e.g., `money market` instruments). Risk tolerance is low and liquidity needs are high because deposits can be redeemed on demand.\n",
    "##### Insurance Companies\n",
    "Insurance companies invest the premiums that they receive from policyholders in order to be able to make payments as claims are made. Life companies typically have longer horizons than non-life companies, but liquidity needs are still relatively high and risk tolerance is relatively low. Income needs are low compared to, for example, a mature-stage DB pension plan.\n",
    "\n",
    "Non-life (property and casualty) insurance companies need to be able to pay liabilities for claims on an ongoing basis. In order to be able to meet these obligations, their investments tend to be relatively short-term, liquid, and conservative.\n",
    "##### Investment Companies\n",
    "Investment companies that manage mutual funds are institutional investors. Each individual fund is managed in accordance with its specific mandate, so risk tolerance and income needs vary. However, liquidity needs are generally high in order to be able to meet redemption requests.\n",
    "##### Sovereign Wealth Funds\n",
    "`Sovereign wealth funds (SWFs)` are government-owned investment funds. Some SWFs, such as the Abu Dhabi Investment Authority, are very large. Norway's sovereign wealth fund has more than \\\\$1 trillion in assets. Risk tolerance, time horizons, income needs, and liquidity constraints vary by fund."
   ]
  },
  {
   "cell_type": "markdown",
   "metadata": {},
   "source": [
    "## The Asset Management Industry\n",
    "Globally, there are approximately 80 trillion USD in assets being managed on behalf of individual and institutional investors (supposedly in 2017). The industry is predominantly based in North America and Europe, but Asia and Latin America are the fastest-growing markets.\n",
    "\n",
    "Asset management companies are called `buy-side firms` to distinguish them from the `sell-side` broker or dealer firms that make investment recommendations and trade securities. \n",
    "\n",
    "*(Internet: Buy-Side – is the side of the financial market that buys and invests large portions of securities for the purpose of money or fund management. Sell-Side – is the other side of the financial market, which deals with the creation, promotion, and selling of traded securities to the public.)*\n",
    "\n",
    "Buy-side firms pursue various investment strategies and operate under different structures. \n",
    "- specialize in niche areas, a specific asset class (e.g., emerging market equities) or style (e.g., quantitative investing)\n",
    "- \"full service\" firms cater to all asset classes and styles\n",
    "- `multi-boutique`, a holding company owns several asset management firms that typically have specialized investment strategies. The multi-boutique structure allows individual asset management firms to retain their own unique investment cultures—and often equity ownership stakes—while also benefiting from the centralized, shared services of the holding company (e.g., technology, sales and marketing, operations, and legal services).\n",
    "\n",
    "### Active vs. Passive Management\n",
    "Active managers conduct extensive research to identify mispriced securities and take positions that are expected to generate returns in excess of a benchmark. By contrast, passive managers seek only to replicate the benchmark's performance.\n",
    "\n",
    "In recent years, investors have become increasingly willing to forego the opportunity to earn active returns and accept `passive management`. Cost is a major factor in driving this trend. Globally, passive strategies account for 20\\% of assets under management, but just 6\\% of fees paid.\n",
    "\n",
    "Buy-side firms are offering more `smart beta strategies`, which provide `passive exposure` to factors such as size, style, and momentum. Trading decisions for smart beta portfolios are `rules-based`, but costs are still higher compared to pure passive investing due to higher portfolio turnover.\n",
    "### Traditional vs. Alternative Asset Managers\n",
    "Traditional asset management strategies involve `long-only positions` in stocks and bonds. Alternative investment categories include hedge funds, private equity, venture capital, etc. They are distinguished by their willingness to take short positions. Because alternative investment vehicles use a `dual fee structure` (i.e., management fees and performance fees), alternative strategies generate a disproportionately large share of industry revenues.\n",
    "\n",
    "As alternative strategies have grown in popularity, traditional asset managers have started offering alternative products and alternative managers have created \"`liquid alternatives`\" that seek to make alternative strategies available to a wider pool of investors. \n",
    "\n",
    "Compared to standard alternative investment vehicles, liquid alternatives use less leverage and hold more liquid assets. They are regulated like mutual funds and do not charge performance fees.\n",
    "### Ownership Structure\n",
    "Asset management firms are commonly structured as privately owned `limited liability corporations (LLCs)` or `limited partnerships (LPs)`. Managers invest their own capital, which investors tend to appreciate because this creates a greater alignment of interests.\n",
    "\n",
    "A large share of global wealth is managed by publicly traded entities. These tend to be large, diversified firms that offer a range of other financial services in addition to asset management (e.g., banking, insurance).\n",
    "### Asset Management Industry Trends\n",
    "##### Growth of Passive Investing\n",
    "As noted above, passive investment strategies have been growing in popularity as investors question whether the returns to active management justify the higher fees. Passive investment vehicles tend to be most popular with equity investors.\n",
    "##### Big Data\n",
    "The term \"big data\" refers to the massive data sets that have been accumulated as a result of significant increases in computing power and storage capacity. One of the implications for asset managers has been the incorporation of non-traditional data in the investment analysis process. \n",
    "\n",
    "*(Examples include social media data, which can be used as indicators of `market sentiment`, or imagery data, which can provide a real-time indication of economic activity (e.g., cargo ship traffic).)*\n",
    "\n",
    "Asset managers have made substantial investments in human capital and information technology as they attempt to harness big data as a source of excess returns.\n",
    "##### Robo-Advisors\n",
    "Advances in technology have allowed for the emergence of `robo-advisors` that can make recommendations based on an investor's responses to a risk tolerance questionnaire and other relevant information. Some robo-advisory firms supplement their online platforms with access to human advisors.\n",
    "\n",
    "The rapid growth of robo-advisors can be attributed to several factors, including:\n",
    "- Underserviced customers: Younger investors and the \"mass affluent\" often do not require the customized advice offered by traditional asset management firms.\n",
    "- Lower fees: Robo-advisor platforms require significant upfront investments, but operating costs are relatively low. This scalability allows robo-advisors to charge significantly lower fees compared to traditional asset management firms. The emergence of low-fee ETFs has made robo-advisory services even more attractive to cost-conscious investors.\n",
    "- New entrants: Relatively low barriers to entry have allowed large, traditional investment firms and firms from outside the asset management industry (e.g., insurance companies) to enter the robo-advisor market. Technology firms may enter the market as they attempt to further monetize their user data."
   ]
  },
  {
   "cell_type": "markdown",
   "metadata": {},
   "source": [
    "## Pooled Interest \n",
    "### Mutual Funds\n",
    "Mutual funds are a commingled pool of assets. Investors have a `pro-rata claim` to these assets based on the amount of their investment. A survey found almost 50,000 mutual funds available in 23 countries.\n",
    "1. `Open-end funds` will accept new investments after they have been launched. Funds with this structure can easily accommodate growth by creating new shares. \n",
    "  - The number of new shares to be created is determined by dividing the amount of the new investment by the fund's `net asset value (NAV)` per share. \n",
    "  - Existing investors can also redeem their shares at NAV, so managers must hold a certain amount of cash. \n",
    "  - If redemptions exceed new investments, shares will be retired and NAV per share will be unaffected. \n",
    "  - All transactions are conducted with the fund itself, which retires shares and issues new ones as appropriate based on investor cash flows.\n",
    "2. `Closed-end funds` do not accept new money investments after they have been launched. \n",
    "  - No new shares are created and no existing shares are retired. \n",
    "  - However, closed-end fund shares can be sold to other investors. Because of this structure, closed-end fund shares can **trade at a premium or discount relative to NAV**.\n",
    "\n",
    "  The major advantage of closed-end funds is that managers can be fully invested because there is no need to hold cash in anticipation of redemptions. However, open-end funds are easier to grow because they are always accepting new capital.\n",
    "3. `No-load funds` do not have investing or redemption fees, but they do take a percentage of NAV as an annual fee. `Load funds` charge an annual fee based on NAV as well as fees on inflows (new investments) and outflows (redemptions). The number of load funds has steadily decreased.\n",
    "\n",
    "### Types of Mutual Funds\n",
    "##### Money Market Funds\n",
    "Money market funds are similar to bank savings accounts but they are not insured like bank deposits. \n",
    "- taxable money market funds hold high-quality, short-term corporate and sovereign debt\n",
    "- tax-free money market funds hold municipal debt. \n",
    "\n",
    "Most money market funds maintain a share price of 1 USD (or another unit of currency). This is called a `constant net asset value (CNAV) basis`. \n",
    "\n",
    "There are also `variable net asset value (VNAV)` money market funds with fluctuating share prices.\n",
    "##### Bond Mutual Funds\n",
    "Bond mutual funds invest in **individual bonds** and **preferred shares**. They allow retail investors to hold diversified bond portfolios as well as greater liquidity and a lower capital requirement. For less than the face value of many bonds, retail investors can access a diverse fixed-income portfolio through a bond mutual fund. This is also a relatively liquid investment compared to trading bonds in the cash market. However, there is no assurance that bond mutual funds allow investors to earn higher yields than could be achieved by holding individual bonds.\n",
    "\n",
    "Different funds allow investors to select their preferred exposures with respect to duration, sectors, credit risk, etc.\n",
    "##### Stock Mutual Funds\n",
    "Equities have historically been the largest category of mutual funds. They can be actively or passively managed. Actively managed funds have higher fees and more turnover. Because mutual funds are required to distribute all income and capital gains, returns on actively managed funds are negatively affected by taxes on realized capital gains.\n",
    "##### Hybrid/Balanced Funds\n",
    "Hybrid funds invest in both bonds and stocks. `Lifecycle funds` automatically adjust based on a target retirement date. For example, a 40-year-old investor who wants to retire in 25 years can make regular contributions to a lifecycle fund that will gradually increase its allocation to fixed-income and decrease its allocation to equities over time.\n",
    "### Separately Managed Accounts \n",
    "`Separately managed accounts (SMAs)` are managed **exclusively** for an individual or institution. SMAs tend to be used by investors with very large portfolios (e.g., large institutions) because there is a very high minimum investment requirement compared to other vehicles. \n",
    "\n",
    "**Unlike mutual funds, SMAs allow investors to own assets directly**. SMA managers can implement strategies that are customized to meet the client's specific investment needs (e.g., `socially responsible investing`). Investors who own shares in mutual funds have no such authority.\n",
    "### Exchange Traded Funds (ETFs)\n",
    "`Exchange-traded funds (ETFs)` are investment funds that trade on exchanges (similar to individual stocks) and are generally structured as `open-end funds`. ETFs represent one of the fastest-growing investment products in the asset management industry. \n",
    "\n",
    "ETFs are used by both retail and institutional investors to achieve diversified portfolios. They are structured like open-end mutual funds, but with some important differences.\n",
    "- Unlike mutual funds, which can only be traded at the end of each day, ETFs can be traded throughout the day like stocks (`intraday`).\n",
    "- Investors can sell ETF shares short and buy on margin, which is not possible with mutual fund shares.\n",
    "- Unlike closed-end mutual funds, ETF prices do not deviate significantly from NAV. (Mutual fund investors buy the fund shares directly from the fund, and all investments are settled at the net asset value. In practice, the market price of the ETF is likely to be close to the net asset value of the underlying investments.)\n",
    "- ETFs distribute dividends to investors, while mutual funds typically reinvest dividends. (`capital gain distribution`)\n",
    "- ETFs have lower minimum investment requirements.\n",
    "\n",
    "##### Hedge Funds\n",
    "The key features of hedge funds include:\n",
    "- Short selling: Many hedge funds implement short positions directly or synthetically using such derivatives as options, futures, and credit default swaps.\n",
    "- Absolute return seeking: Hedge funds often seek positive returns in all market environments.\n",
    "- Leverage: Many hedge funds use financial leverage (bank borrowing) or `implicit leverage` (using derivatives). The use and amount of leverage are dependent on the investment strategy being implemented.\n",
    "- Low correlation: Some hedge funds have historically exhibited low return correlations with traditional equity and/or fixed-income asset classes.\n",
    "- Fee structures: Hedge funds typically charge two distinct fees: a traditional asset-based management fee (AUM fee) and an incentive (or performance) fee in which the hedge fund earns a portion of the fund’s realized capital gains.\n",
    "\n",
    "The pool of hedge fund investors is relatively small due to high minimum investment levels, liquidity constraints, and long-term investment commitments.\n",
    "##### Private Equity and Venture Capital Funds\n",
    "Private equity managers play an active role in the management of the private companies in which they invest. Funds often have a lifespan of 7 - 10 years, which gives managers time to work with target companies and seek exit strategies that will allow investors to realize (harvest) their gains. Initial public offerings (IPOs) are a common exit strategy for venture capital funds.\n",
    "\n",
    "Private equity funds are almost always structured as limited partnerships with a manager acting as the general partner (GP) and investors as limited partners (LPs). The GP earns management fees based on a percentage of committed capital. GPs also earn carried interest, which is a percentage of capital gains. Typically, no carried interest is earned until LPs have recovered the amount of their original investment.\n",
    "\n",
    "Portfolio companies pay transaction fees to the fund in exchange for corporate and structuring services. Funds also receive investment income from the profits of portfolio companies."
   ]
  },
  {
   "cell_type": "markdown",
   "metadata": {},
   "source": [
    "# Portfolio Risk and Return: Part I"
   ]
  },
  {
   "cell_type": "markdown",
   "metadata": {},
   "source": []
  },
  {
   "cell_type": "markdown",
   "metadata": {},
   "source": []
  },
  {
   "cell_type": "markdown",
   "metadata": {},
   "source": []
  },
  {
   "cell_type": "markdown",
   "metadata": {},
   "source": []
  },
  {
   "cell_type": "markdown",
   "metadata": {},
   "source": [
    "# Portfolio Risk and Return: Part II"
   ]
  },
  {
   "cell_type": "markdown",
   "metadata": {},
   "source": [
    "**RECAP**\n",
    "\n",
    "- What's the optimal portfolio composition?\n",
    "- How to calculate diversification ratio?\n",
    "- Why DB pension funds require low liquidity?"
   ]
  }
 ],
 "metadata": {
  "kernelspec": {
   "display_name": "Python 3",
   "language": "python",
   "name": "python3"
  },
  "language_info": {
   "codemirror_mode": {
    "name": "ipython",
    "version": 3
   },
   "file_extension": ".py",
   "mimetype": "text/x-python",
   "name": "python",
   "nbconvert_exporter": "python",
   "pygments_lexer": "ipython3",
   "version": "3.7.3"
  }
 },
 "nbformat": 4,
 "nbformat_minor": 4
}
