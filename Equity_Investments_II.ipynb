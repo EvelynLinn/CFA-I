{
 "cells": [
  {
   "cell_type": "code",
   "execution_count": 1,
   "metadata": {},
   "outputs": [],
   "source": [
    "import pandas as pd"
   ]
  },
  {
   "cell_type": "markdown",
   "metadata": {},
   "source": [
    "# Overview of Equity Securities"
   ]
  },
  {
   "cell_type": "markdown",
   "metadata": {},
   "source": [
    "## Equity Securities in Global Financial Markets\n",
    "The ratio of global equity to global GDP can indicate if markets are over- or undervalued. For example, the US share of global equity markets is approximately twice as large as its share of global GDP. As emerging economies continue to grow, their equity markets can be expected to move toward their proportionate share of global GDP.\n",
    "\n",
    "In real terms (i.e., net of inflation), equities consistently generate higher returns than either government bonds or government bills. This pattern has been observed across developed economies over more than a century. Of course, equity returns are also more volatile, so investors are expecting higher compensation for the additional risks associated with equities. Equity returns and realized risk premiums have fluctuated over different periods during the 20th and 21st centuries.\n",
    "\n",
    "Equity ownership rates vary significantly among countries. In many countries, there has a notable decline in equity owners as a share of the total population, particularly in the aftermath of the 2007-09 financial crisis."
   ]
  },
  {
   "cell_type": "markdown",
   "metadata": {},
   "source": [
    "## Types and Characteristics of Equity Securities\n",
    "Companies can finance operations by issuing debt or equity. Debt is a liability for the firm, but equity is not. The company is not obligated to repay equity funds or make periodic payments. Equity holders have a `residual claim` on the company – they get whatever is left. Companies can issue common shares or preference shares.\n",
    "### Common Shares\n",
    "These securities represent ownership in the company. Common shareholders benefit from the operating performance, participate in the governance, and have a residual claim at liquidation. Companies often choose to pay dividends to common shareholders, but they are under no obligation to do so.\n",
    "\n",
    "Shareholders have the right to vote on major decisions. Many choose to vote by `proxy` for convenience, allowing a designated party (e.g., another shareholder, management) to cast their votes on their behalf.\n",
    "\n",
    "The `standard voting system`, known as `statutory voting`, grants one vote for each share owned. `Cumulative voting` allows shareholders to direct all of their votes to specific candidates in board elections. For example, in an election for 10 board seats, a shareholder who owns one share would be given 10 votes with no restrictions on how they may be allocated. The investor could give one vote to a list of 10 candidates, 10 votes to a single candidate, divide them evenly among 2 candidates, etc. The cumulative voting system gives better representation to shareholders who own a relatively small number of shares.\n",
    "\n",
    "Companies can issue multiple classes of shares that differ with respect to voting rights and the priority of their claims in the event of a liquidation.\n",
    "\n",
    "### Preference Shares (Preferred Stock)\n",
    "Preference shares rank above common stock in terms of dividends and liquidation rights. Unlike common shares, preference shares do not grant any voting rights and owners are generally unable to benefit from any improvement in the issuer's operating performance.\n",
    "\n",
    "Preference shares are bond-like in that the issuer is contractually obligated to make fixed payments at regular intervals. They may be perpetual or have a fixed maturity date. **Like common shares, they may be callable or putable.**\n",
    "\n",
    "*The put option feature facilitates raising capital because the shares are more appealing to investors. As such, it provides a benefit to the issuing company. It also helps investors limit their potential losses because they can sell the shares back to the issuing company if the market price falls below the pre-specified put price. Therefore, putable common shares are beneficial to both the issuing company and the investors.*\n",
    "\n",
    "Preference shares can be classified according to whether they are cumulative or non-cumulative, as well as participating or non-participating.\n",
    "\n",
    "**Cumulative preference shares** accrue dividends from missed payments that must be paid before common shares receive dividends.\n",
    "\n",
    "**Non-cumulative preference shares** permanently forfeit any dividend payments that are not made, but no common share dividends can be paid during a period when non-cumulative preferred dividends have gone unpaid\n",
    "\n",
    "**Participating preference shares** can receive an additional dividend if company profits exceed a specified amount. They may also get receive additional distributions (over face value) in the event of a liquidation. These securities tend to be issued by smaller, riskier companies.\n",
    "\n",
    "**Non-participating preference shares** do not offer any compensation beyond fixed dividend payments and a claim for their face value in the event of a liquidation.\n",
    "\n",
    "Preference shares may also carry an option that allows their owner to convert them into common shares. Convertible preference shares are often used by venture capital and private equity investors because they offer the following advantages:\n",
    "- They are less volatile than common shares while paying higher dividends\n",
    "- If the company is successful, they can be converted into common shares with unlimited upside potential"
   ]
  },
  {
   "cell_type": "markdown",
   "metadata": {},
   "source": [
    "## Private versus Public Equity Securities\n",
    "`Private equity securities` are issued via private placements, primarily to institutional investors. They are highly illiquid because they do not trade on public exchanges. Types of private equity investments include venture capital, leveraged buyouts, and private investments in public equity.\n",
    "- Venture capital (VC) firms provide start-up capital, early-stage financing, or mezzanine financing. VC investments typically require relatively long-term commitments (i.e., 3 to 10 years). Initial public offerings are often used as an exit strategy.\n",
    "- In a `leveraged buyout (LBO)`, investors raise large amounts of debt to purchase all of a public company's outstanding common stock. If the deal is overseen by managers, it is called a management buyout (MBO). Either way, the company is *taken private*, although investors typically seek to take it public again after it is restructured.\n",
    "- `Private investments in public equity (PIPE)` are used by companies that need to raise capital quickly. Private investors can purchase these equities at a significant discount.\n",
    "\n",
    "The global private equity market is small, but growing rapidly. Private equity holding periods have increased in recent years. As holding periods have increased, private equity investors have increased their reliance on `convertible preference` to provide higher total returns.\n",
    "\n",
    "Proponents of \"going private\" argue that the absence of short-term pressures allows them to focus on creating long-term value. Private companies also have lower regulatory and compliance costs compared to publicly-listed firms. However, private companies tend to perform worse in terms of corporate governance, perhaps because public companies are subject to more scrutiny from analysts and shareholders."
   ]
  },
  {
   "cell_type": "markdown",
   "metadata": {},
   "source": [
    "## Investing in Non-Domestic Equity Securities\n",
    "The increasingly integrated global economy has given companies more opportunities to raise capital and invest in other countries and allowed investors to diversify their portfolios. Many companies have chosen to have their shares listed in multiple countries. Lower restrictions on foreign investment provide long-term benefits for equity markets by reducing the cost of capital.\n",
    "\n",
    "However, countries still impose foreign investor restrictions for three reasons:\n",
    "\n",
    "To limit foreign control of domestic companies;\n",
    "To give domestic investors the opportunity to own shares of companies that are conducting business in their country; and\n",
    "To reduce the volatility of capital flows.\n",
    "### Direct Investing\n",
    "The most obvious way to invest in non-domestic stocks is to trade directly in a foreign equity market. All transactions are conducted in the local currency, so investors will experiences gains or losses as a result of exchange rate fluctuations.\n",
    "\n",
    "Investors must be familiar with local trading and settlement procedures or rely on the services of a local agent. Finally, many foreign jurisdictions have relatively low transparency and market liquidity.\n",
    "### Depository Receipts (DR)\n",
    "Depository receipts allow investors to overcome some of the challenges associated with investing directly in foreign markets. A `depository share` represents an economic interest in a foreign company, but it trades on an exchange in the investor's domestic market. A DR can represent any number of the company's shares.\n",
    "\n",
    "The foreign company's shares are deposited in a bank, which then issues receipts that represent the deposits. In its capacity as custodian and registrar, the depository bank handles dividend payments, stock splits, and other taxable events.\n",
    "- A `sponsored DR` is issued directly by the foreign company and investors receive the same dividends and voting rights as other common shareholders. Disclosure requirements are generally more stringent for sponsored DRs.\n",
    "- For an `unsponsored DR`, the foreign company has no involvement. The `depository bank` purchases the company's shares, issues DRs, and retains the voting rights. \n",
    "\n",
    "#### Global Depository Receipts\n",
    "GDRs are issued outside the company's home country and are generally exempt from any foreign ownership and capital flow restrictions that may be imposed by that country's government.\n",
    "\n",
    "Most GDRs are traded on exchanges in London and Luxembourg, but many are listed on other exchanges (e.g., Dubai, Singapore). GDRs may be denominated in any currency, but USD is most common.\n",
    "\n",
    "GDRs cannot be listed on US exchanges, but they can be sold to US investors through private placements.\n",
    "#### American Depository Receipts\n",
    "A GDR that can be listed on a US exchange is called an `American Depository Receipt (ADR)`. ADRs are USD-denominated securities that trade like US domestic stocks. The underlying securities, called American depository shares, are traded in the issuing company's domestic market.\n",
    "\n",
    "There are four types of ADRs with differing levels of corporate governance and filing requirements. \n",
    "1. Level I Sponsored ADRs trade in the over-the-counter (OTC) market and do not require full registration with the Securities and Exchange Commission (SEC). \n",
    "2. Level II and III ADRs trade on US exchanges (e.g., NYSE, NASDAQ). They allow companies to raise capital and make acquisitions using these securities. However, the issuing companies must fulfill all SEC requirements.\n",
    "3. The fourth type of ADR, called a Rule 144A depository receipt, is sold to qualified investors through privately placements. (Foreign companies are able to raise capital by privately placing these depository receipts with qualified institutional investors or to offshore non-US investors.) \n",
    "\n",
    "#### Global Registered Shares\n",
    "A global registered share (GRS) is traded on different stock exchanges around the world in different currencies, which eliminates the need for currency conversions. A GRS can be purchased on an exchange in one country for local currency units and sold on another exchange for units of that country's currency. Unlike a DR, a GRS represents an actual ownership interest in the company.\n",
    "#### Basket of Listed Depository Receipts\n",
    "A basket of listed depository receipts is an exchange-traded fund that represents a portfolio of depository receipts. Like other `ETFs` (exchange-traded fund), it trades throughout the day like a normal stock."
   ]
  },
  {
   "cell_type": "code",
   "execution_count": 2,
   "metadata": {},
   "outputs": [
    {
     "data": {
      "text/html": [
       "<div>\n",
       "<style scoped>\n",
       "    .dataframe tbody tr th:only-of-type {\n",
       "        vertical-align: middle;\n",
       "    }\n",
       "\n",
       "    .dataframe tbody tr th {\n",
       "        vertical-align: top;\n",
       "    }\n",
       "\n",
       "    .dataframe thead th {\n",
       "        text-align: right;\n",
       "    }\n",
       "</style>\n",
       "<table border=\"1\" class=\"dataframe\">\n",
       "  <thead>\n",
       "    <tr style=\"text-align: right;\">\n",
       "      <th></th>\n",
       "      <th>Level I\\n(Unlisted)</th>\n",
       "      <th>Level II\\n(Listed)</th>\n",
       "      <th>Level III\\n(Listed)</th>\n",
       "      <th>Rule 144A\\n(Unlisted)</th>\n",
       "    </tr>\n",
       "  </thead>\n",
       "  <tbody>\n",
       "    <tr>\n",
       "      <th>Objectives</th>\n",
       "      <td>Develop and broaden US investor base with exis...</td>\n",
       "      <td>Develop and broaden US investor base with exis...</td>\n",
       "      <td>Develop and broaden US investor base with exis...</td>\n",
       "      <td>Access qualified institutional buyers (QIBs)</td>\n",
       "    </tr>\n",
       "    <tr>\n",
       "      <th>Raising capital on US markets?</th>\n",
       "      <td>No</td>\n",
       "      <td>No</td>\n",
       "      <td>Yes, through public offerings</td>\n",
       "      <td>Yes, through private placements to QIBs</td>\n",
       "    </tr>\n",
       "    <tr>\n",
       "      <th>SEC registration</th>\n",
       "      <td>Form F-6</td>\n",
       "      <td>Form F-6</td>\n",
       "      <td>Forms F-1 and F-6</td>\n",
       "      <td>None</td>\n",
       "    </tr>\n",
       "    <tr>\n",
       "      <th>Trading</th>\n",
       "      <td>Over the counter (OTC)</td>\n",
       "      <td>NYSE, NASDAQ, or AMEX</td>\n",
       "      <td>NYSE, NASDAQ, or AMEX</td>\n",
       "      <td>Private offerings, resales, and trading throug...</td>\n",
       "    </tr>\n",
       "    <tr>\n",
       "      <th>Listing fees</th>\n",
       "      <td>Low</td>\n",
       "      <td>High</td>\n",
       "      <td>High</td>\n",
       "      <td>Low</td>\n",
       "    </tr>\n",
       "    <tr>\n",
       "      <th>Size and earnings requirements</th>\n",
       "      <td>None</td>\n",
       "      <td>Yes</td>\n",
       "      <td>Yes</td>\n",
       "      <td>NaN</td>\n",
       "    </tr>\n",
       "  </tbody>\n",
       "</table>\n",
       "</div>"
      ],
      "text/plain": [
       "                                                              Level I\\n(Unlisted)  \\\n",
       "Objectives                      Develop and broaden US investor base with exis...   \n",
       "Raising capital on US markets?                                                 No   \n",
       "SEC registration                                                         Form F-6   \n",
       "Trading                                                    Over the counter (OTC)   \n",
       "Listing fees                                                                  Low   \n",
       "Size and earnings requirements                                               None   \n",
       "\n",
       "                                                               Level II\\n(Listed)  \\\n",
       "Objectives                      Develop and broaden US investor base with exis...   \n",
       "Raising capital on US markets?                                                 No   \n",
       "SEC registration                                                         Form F-6   \n",
       "Trading                                                     NYSE, NASDAQ, or AMEX   \n",
       "Listing fees                                                                 High   \n",
       "Size and earnings requirements                                                Yes   \n",
       "\n",
       "                                                              Level III\\n(Listed)  \\\n",
       "Objectives                      Develop and broaden US investor base with exis...   \n",
       "Raising capital on US markets?                      Yes, through public offerings   \n",
       "SEC registration                                                Forms F-1 and F-6   \n",
       "Trading                                                     NYSE, NASDAQ, or AMEX   \n",
       "Listing fees                                                                 High   \n",
       "Size and earnings requirements                                                Yes   \n",
       "\n",
       "                                                            Rule 144A\\n(Unlisted)  \n",
       "Objectives                           Access qualified institutional buyers (QIBs)  \n",
       "Raising capital on US markets?            Yes, through private placements to QIBs  \n",
       "SEC registration                                                             None  \n",
       "Trading                         Private offerings, resales, and trading throug...  \n",
       "Listing fees                                                                  Low  \n",
       "Size and earnings requirements                                                NaN  "
      ]
     },
     "execution_count": 2,
     "metadata": {},
     "output_type": "execute_result"
    }
   ],
   "source": [
    "# Summary of the Main Features of American Depository Receipts\n",
    "df = pd.read_csv('american_dr.csv', delimiter='\\t')\n",
    "df"
   ]
  },
  {
   "cell_type": "markdown",
   "metadata": {},
   "source": [
    "## Risk and Return Characteristics of Equity Securities\n",
    "### Return Characteristics of Equity Securities\n",
    "There are three potential sources of equity returns:\n",
    "1. Price change\n",
    "2. Dividend income\n",
    "3. Foreign exchange gains or losses\n",
    "Relatively young companies typically do not pay dividends, so returns on these equities are entirely attributable to price appreciation.\n",
    "\n",
    "Investors who focus exclusively on price appreciation overlook the potential for significantly higher returns from reinvesting dividends.\n",
    "\n",
    "Foreign exchange gains are available to investors who either purchase depository receipts or invest directly in foreign equity markets. From their perspective, returns are enhanced if the foreign currency appreciates relative to their domestic currency\n",
    "\n",
    "The compound effect of reinvested dividends is very important over the long term.\n",
    "### Risk of Equity Securities\n",
    "Risk is often measured by the **standard deviation of the expected total return**. Historical data is frequently used as a proxy for expected volatility.\n",
    "\n",
    "Preference shares are less risky than common shares because dividends are fixed, preferred dividends must be paid before any common share dividends, and the liquidation value is known. As a result, investors require less compensation for holding preference shares.\n",
    "\n",
    "- `Putable shares` also have less downside risk because they have a floor value. \n",
    "- `Callable shares` typically pay higher dividends to compensate investors for the loss of upside if they are recalled by the issuer.\n",
    "\n",
    "*`Putable shares`, whether common or preference, give the investor the option to sell the shares back to the issuer at a pre-determined price. This pre-determined price creates a floor for the share’s price that reduces the uncertainty of future cash flows for the investor (i.e., lowers risk relative to the other two types of shares listed).*\n",
    "\n",
    "*`Callable` common or preference shares are riskier than their non-callable counterparts because the issuer has the option to redeem the shares at a pre-determined price. Because the call price limits investors’ potential future total return, callable shares generally pay a higher dividend to compensate investors for the risk that the shares could be called in the future.*"
   ]
  },
  {
   "cell_type": "markdown",
   "metadata": {},
   "source": [
    "## Equity and Company Value\n",
    "Role of equity securities in creating company value and the relationship between a company’s cost of equity, its return on equity, and investors’ required rate of return. (Compare a company’s cost of equity, its (accounting) return on equity, and investors’ required rates of return.)\n",
    "\n",
    "Companies issue equity to *raise capital and increase liquidity*. The funds can be used to buy long-lived assets, fund research and development, or acquire other companies. It could also be used to improve capital adequacy ratios or fund existing debt.\n",
    "\n",
    "Ultimately, managers seek to increase the `book value` of equity on the company's balance sheet and maximize the `market value` of equity for shareholders. Managerial decisions can have a direct impact on book value, but only an indirect impact on market value.\n",
    "\n",
    "The `book value` of a company’s equity—the difference between its `total assets` and `total liabilities`—increases when the company retains its net income. The more net income that is earned and retained, the greater the company’s book value of equity. Because management’s decisions directly influence a company’s net income, they also directly influence its book value of equity.\n",
    "### Accounting Return on Equity\n",
    "#### ROE\n",
    "Return on equity ($ROE$) is used to judge management's efficiency in using capital. It is the net income divided by the average book value of equity ($BVE$).\n",
    "\n",
    "$$ROE_t=\\frac{NI_t}{\\frac{(BVE_t+BVE_{t−1})}{2}}$$\n",
    "\n",
    "It may be accepted to use only the beginning book value of equity in the denominator if the company's book value has been relatively stable. An average is preferred if book values have been volatile.\n",
    "\n",
    "Analysts must recognize that net income and BVE can be affected by management's choices regarding accounting policies. Adjustments may be required for ROE comparisons among companies that have different accounting policies or even a time-series analysis of a company that has changed its policies.\n",
    "\n",
    "An increase in ROE is not necessarily a positive sign. A company with slowing sales can post higher ROE if net income decreases at a slower rate than BVE. Alternatively, issuing debt and using the proceeds to repurchase shares will increase ROE while increasing both a company's leverage and the riskiness of its equity.\n",
    "\n",
    "While the book value of equity reflects the `historical operating and financing decisions` of management, the market value reflects investors' `expectations of future cash flows`. The market value of equity is simply the market price per share times the number of shares outstanding.\n",
    "\n",
    "#### P/B Ratio\n",
    "The `price-to-book ratio` (or `market-to-book ratio`) reflects `investor sentiment`. A higher ratio indicates greater optimism about the company's future investment opportunities. However, P/B ratios should not be used to compare companies in different industries because this measure also reflects investors' opinions about a company's sector.\n",
    "\n",
    "$$Adjusted\\ book\\ value\\ per\\ share = \\frac{(Adjusted\\ value\\ of\\ Assets−Total\\ liabilities)}{Number\\ of\\ shares}$$\n",
    "\n",
    "Book value and ROE are less useful for analysts seeking to estimate a company's `intrinsic value`, which is **the present value of expected future cash flows**. Investors seek to profit from the difference between a company's market price and its intrinsic value.\n",
    "### Cost of Equity and Investors' Required Rates of Return\n",
    "The cost of equity is not easily determined. It is dependent on investors’ required rate of return on equity, which reflects the different risk levels of investors and their expectations about the company’s future cash flows.\n",
    "\n",
    "Shareholder value is maximized by minimizing the cost of capital. The weighted average cost of capital (WACC) considers both after-tax debt and equity costs. WACC is the minimum return that a company must earn on its long-term investments.\n",
    "\n",
    "The cost of debt (or interest rate) is easy to measure because borrowers are required to make periodic interest payments. By contrast, the minimum rate of return required by equity investors can only be estimated. Models to estimate the company's cost of equity (e.g., CAPM, DDM) are covered in other readings."
   ]
  },
  {
   "cell_type": "markdown",
   "metadata": {},
   "source": [
    "# Introduction to Industry and Company Analysis"
   ]
  },
  {
   "cell_type": "markdown",
   "metadata": {},
   "source": [
    "### Uses of Industry Analysis \n",
    "1. Understanding a company's business and environment<br>\n",
    "Industry analysis will help one understand growth opportunities and competitive issues, which is an important part of the stock selection process. It can also be used in credit analysis to help understand whether a company is using debt appropriately.\n",
    "2. Identifying active equity investment opportunities<br>\n",
    "Industry analysis can be used as part of a top-down approach to setting portfolio sector weights relative to their weight in a benchmark. A `industry/sector rotation strategy` is timing investments in industries in relation to an analysis of industry fundamentals and/or business-cycle conditions (technical analysis may also play a role in such strategies).\n",
    "3. Portfolio performance attribution<br>\n",
    "`Performance attribution` is used to determine the sources of a portfolio's return. Part of the attribution is for the industry or sector.\n",
    "### Approaches to Identification of Similar Companies\n",
    "#### Products and/or Services Supplied\n",
    "The most common approach to industry classification creates groups of companies that offer similar products and/or services. These classification schemes typically use multiple levels of aggregation with sectors and industries. For example, the financial services sector can include several different industries, such as banking, insurance, brokerage services, etc.\n",
    "\n",
    "Companies that have diverse operations are typically placed in groups based on their principal business activity, which is the source of the majority of their revenues or profits. For example, IKEA would be classified as a retailer, not a restaurant.\n",
    "#### Business-Cycle Sensitivities\n",
    "Cyclical companies have profits that are strongly correlated with overall economic activity. Demand ebbs and flows with disposable income because their products and services tend to be relatively expensive and customers can delay their purchases if necessary. Cyclical companies also tend to have high operating leverage. Cyclical industries include automobiles, housing, and technology.\n",
    "\n",
    "Non-cyclical companies enjoy relatively stable demand for their products and/or services throughout the business cycle (e.g., grocery stores, electric utilities). Alternatively, companies may be considered non-cyclical demand dynamics are such that they can be expected to grow in any economic environment, although growth may slow during a recession.\n",
    "\n",
    "A major limitation of classifications based on business-cycle sensitivities is that recessions tend to have a negative impact across all sectors, so \"cyclical\" and \"non-cyclical\" are relative terms. Additionally, there is no single global business cycle. The housing sector may be cyclical, but a US home builder will likely be facing different economic conditions than a similar company operating in the Chinese market.\n",
    "#### Statistical Similarities\n",
    "Under this approach, cluster analysis is used to group companies according to historical stock returns. The companies grouped together may appear to have little in common and it is possible that high correlations were due to chance. Additionally, the composition of groups may fluctuate because there is no guarantee that historical relationships will continue to hold in the future."
   ]
  },
  {
   "cell_type": "markdown",
   "metadata": {},
   "source": [
    "### Industry classification systems\n",
    "#### Commercial Industry Classification Systems\n",
    "**Global Industry Classification Standard (GICS)**\n",
    "The GICS was designed for global comparisons of industries. It classifies companies in both developed and developing economies according to their primary business activity (as measured by revenue). The four levels (from broadest to narrowest) are \n",
    "- sectors\n",
    "- industry groups\n",
    "- industries\n",
    "- sub-industries.\n",
    "\n",
    "**Russell Global Sectors (RGS)**\n",
    "The RGS system classifies companies globally based on their products and/or services. Three tiers are used: \n",
    "- sectors\n",
    "- subsectors\n",
    "- industries. \n",
    "\n",
    "This system has only nine sectors (vs. 10 for the GICS).\n",
    "\n",
    "**Industry Classification Benchmark (ICB)**\n",
    "The ICB classifies companies based on the source of the majority of their revenues. Importantly, the ICB uses different terminology than the GICS and RGS systems. In the ICB classification scheme, the broadest groupings are called \"Industries\", followed by \"Supersectors,\" \"Sectors,\" and \"Subsectors\" at the most granular level.\n",
    "\n",
    "**Description of Representative Sectors**\n",
    "Despite differences in classification criteria and terminology used by the three systems, the following list is a representative description of the broadest groupings in the GICS, RGS, and ICB:\n",
    "- Basic Materials and Processing\n",
    "- Consumer Discretionary\n",
    "- Consumer Staples\n",
    "- Energy\n",
    "- Financial Services\n",
    "- Health Care\n",
    "- Industrial/Producer Durables\n",
    "- Technology\n",
    "- Telecommunications\n",
    "- Utilities\n",
    "\n",
    "#### Governmental Industry Classification Systems\n",
    "**International Standard Industrial Classification of All Economic Activities (ISIC)**\n",
    "ISIC categories based on principal type of economic activity. Its five levels (from broadest to narrowest) are categories, sections, divisions, groups, and classes. It is used by major international bodies, such as the UN, IMF, and the World Bank.\n",
    "\n",
    "Most countries use either the ISIC system itself or a system that has been derived from it. The three regional systems discussed below all differ in certain ways from ISIC, but they are all relatively compatible with each other.\n",
    "\n",
    "**Statistical Classification of Economic Activities in the European Community (NACE)**\n",
    "NACE is referred to as the European version of ISIC. It is composed of four levels: sections, divisions, groups, and classes.\n",
    "\n",
    "**Australian and New Zealand Standard Industrial Classification (ANZSIC)**\n",
    "ANZSIC was designed to be consistent with ISIC. It five levels: divisions, subdivisions, groups, classes, and subclasses.\n",
    "\n",
    "**North American Industry Classification System (NAICS)**\n",
    "NAICS replaced the Standard Industrial Classification system. It categorizes into five levels based on primary business activity and distinguishes between establishments and enterprises. A single enterprise (company) can have multiple establishments, each with its own six-digit NAICS code.\n",
    "#### Strengths and Weaknesses of Current Systems\n",
    "Government classification systems have several limitations:\n",
    "- Most government systems do not disclose information about individual companies. For example, there is no public database that analysts can access to find a specific company's NAICS code.\n",
    "- The interval for reviewing and updating government systems is about five years. By contrast, commercial systems are updated more frequently.\n",
    "- Unlike commercial systems, government systems do not distinguish between large and small companies or non-profit and for-profit enterprises.\n",
    "- Under government systems, it cannot be assumed that a company has been classified in the same group as its industry peers.\n",
    "\n",
    "#### Constructing a peer group\n",
    "The process of constructing a peer group requires many subjective judgments. Some recommended guidelines for analysts include:\n",
    "\n",
    "Suggested steps in identifying peer companies\n",
    "- Examine the groupings used by commercial classification systems\n",
    "- Review annual reports for mentions of specific competitors\n",
    "- Review industry trade publications\n",
    "- Confirm the comparable companies have similar business activity revenues and demand environment\n",
    "- Make any necessary adjustments if, for example, one company has a financing subsidiary and others do not\n",
    "- Exercise judgment when grouping companies that have multiple, diverse lines of business"
   ]
  },
  {
   "cell_type": "markdown",
   "metadata": {},
   "source": [
    "## Describing and Analyzing an Industry\n",
    "Industry analysis should encompass both an industry's internal dynamics that shape the competitive environment in which a company operates as well as external factors that are influencing the industry's prospects.\n",
    "## Principles of Strategic Analysis\n",
    "A company's strategy should be analyzed in the context of its competitive environment (i.e., industry). There is significant variation among industries in terms of `return on invested capital (ROIC)` net of `capital costs (WACC)`. \n",
    "$$ROIC - WACC$$\n",
    "In industries where this spread is positive, companies can earn economic profits. Industries with negative spreads are described as `destroying value`.\n",
    "\n",
    "Michael Porter's framework for industry analysis includes the following five forces that determine the intensity of competition:\n",
    "- **Threat of entry**: Competition will be more intense if potential competitors can easily enter the industry.\n",
    "- **Power of suppliers**: Being in a weak bargaining position relative to its supplier will increase a company's costs.\n",
    "- **Power of buyers**: Companies that operate in industries with many competitors selling to relatively few customers will be limited in their ability to charge higher prices.\n",
    "- **Threat of substitutes**: A company's pricing power will also be limited to the extent that substitute products or services are available. Substitutes may not necessarily be similar. For example, customers may choose to use the public library rather than going to the movie theatre during an economic downturn.\n",
    "- **Rivalry among existing competitors**: Factors that increase the intensity of competition include increased fragmentation, higher fixed-costs, higher exit barriers, and less differentiation (i.e., commodity-like products and services).\n",
    "\n",
    "Each of the following sections covers a key question that analysts should answer as part of comprehensive industry analysis.\n",
    "### Barriers to Entry\n",
    "Key Question: How easily can new competitors enter the industry to challenge incumbents?\n",
    "\n",
    "Industries with low barriers (such as restaurants) have little pricing power because it is relatively easy for outside firms to enter and take a share of the market. By contrast, companies can feel comfortable charging higher prices (and earning economic profits) if they feel protected by high barriers to entry.\n",
    "\n",
    "**There is a notable distinction between barriers to entry and `barriers to success`**. Just because it is relatively easy to enter an industry does not ensure that new entrants will be successful. Furthermore, prices can still be competitive in industries with high barriers to entry due to the influence of other factors covered in this section.\n",
    "### Industry Concentration\n",
    "Key Question: Is market share concentrated among a small number of large firms or fragmented among many small firms?\n",
    "\n",
    "As a general rule, more concentrated industries have greater pricing power. The relatively small number of firms in a concentrated industry can be easily monitored, which increases the potential for tacit price collusion. Furthermore, larger companies are less likely to engage in price wars that could negatively impact the long-term economic health of the entire industry. By contrast, in fragmented industries, firms are more motivated to act individually as they fight for market share.\n",
    "\n",
    "exceptions to the \"concentration increases pricing power\" rule are:\n",
    "- Relative market shares can be more influential than absolute market shares. An industry that is evenly divided between two incumbents can have low pricing power if the equally-sized incumbents view their rivalry as a zero-sum game for each percentage of market share. This is especially likely if the firms offer commodity-like products or services.\n",
    "- Relative purchasing power can also produce exceptions to the \"fragmentation reduces pricing power\" rule. For example, a firm with a 10% market share can have high pricing power if its next largest rival has only 1% of the market.\n",
    "\n",
    "### Industry Capacity\n",
    "Key Question: Will capacity be managed in a manner that balances supply and demand?\n",
    "\n",
    "Pricing power is higher in industries that are experiencing capacity constraints. If capacity is insufficient to meet demand, companies can charge more for what they are able to deliver. By contrast, customers can expect to pay lower prices if producers are struggling to make use of their excess capacity.\n",
    "\n",
    "Such imbalances are temporary because, while capacity is fixed in the short term, it is variable in the long run. The high profits arising from capacity constraints will attract investments in new capacity.\n",
    "\n",
    "Constraints are not limited to physical capital. High profits in the reinsurance industry prompted an influx of financial capital as new companies entered the market. Generally human and financial capacity imbalances can be corrected more quickly than physical capacity imbalances.\n",
    "### Market Share Stability\n",
    "Key Question: Are market shares likely to change significantly?\n",
    "\n",
    "This is influenced by barriers to entry and new product introductions. Industries with specialized products and less innovation tend to have more market share stability.\n",
    "\n",
    " A slow pace of product innovation often means that customers prefer to stay with suppliers they know, implying stable market shares.\n",
    "### Industry Life Cycle\n",
    "Key Question: What does the industry's stage in the life-cycle model indicate about its growth prospects?\n",
    "\n",
    "Industries pass through the following stages as they evolve:\n",
    "- Embryonic: Nascent industries are characterized by slow growth and high prices. Significant investments are required and the risk of failure is high.\n",
    "- Growth: Demand increases rapidly and profitability improves as new customers enter the market. Prices fall as economies of scale are achieved. Competition remains relatively low.\n",
    "- Shakeout: Growth slows and profits decrease as competition intensifies in a saturated market. Companies cut prices to gain market share and earn loyalty for their brands. There is pressure to be increasingly cost-efficient.\n",
    "- Mature: Mature industries have little or no growth, industry consolidation, and high entry barriers. The market is completely saturated, so growth is from replacement demand. Surviving companies are efficient and have brand loyalty.\n",
    "- Decline: Excess capacity and high competition lead to negative growth. Demand may fall due to technological substitution or global competition.\n",
    "\n",
    "New industries are usually more competitive than mature ones. Companies need to \"`act their stage/age`\". For example, companies in the growth stage should focus on building customer *loyalty*, while mature-stage companies should focus on extending successful product lines. Usually, these companies have more cash flows than necessary to grow the business, so they should return money to their shareholders.\n",
    "\n",
    "*Companies in growth industries should be building customer loyalty as they introduce consumers to new products or services, building scale, and reinvesting heavily in their operations to capitalize on increasing demand. They are probably not focusing strongly on internal efficiency. These companies are rather like young adults, who are reinvesting their human and financial capital with the goal of becoming more successful in life. Growth companies typically reinvest their cash flows in new products and product platforms rather than returning cash flows to shareholders because these companies still have many opportunities to deploy their capital to make positive returns.*\n",
    "\n",
    "An industry’s experience curve declines with an increase in the utilization of capital equipment and spreading overhead over a larger number of units.\n",
    "### Price Competition\n",
    "Key Question: How much weight do customers give to price when making purchasing decisions?\n",
    "\n",
    "Competition should be more intense in industries where purchasing decisions are primarily based on price. Even if products/services are differentiated, the rivalry among incumbents should be greater if prices matter more to customers.\n",
    "### Industry Comparison\n",
    "### External influences on industry\n",
    "**Macroeconomic**\n",
    "Overall economic activity impacts the demand for products and services. Important economic variables include gross domestic product, interest rates, availability of credit, and inflation.\n",
    "\n",
    "**Technological**\n",
    "Technology can help create new products or change the way customers use existing products. For example, the microchip revolutionized the computer industry. Later, software development and the internet fundamentally changed the industry again. Also, digital cameras completely altered the photographic film industry.\n",
    "\n",
    "**Demographic**\n",
    "Changes in population size or composition (e.g. gender, age) can affect demand for goods and services. Consumers demand different goods and services as they move into different stages of their lives. Aging populations are having a significant impact on industries in certain countries (e.g., Japan).\n",
    "\n",
    "**Governmental**\n",
    "Governments influence industries through taxes, spending, and regulations. Sometimes the government will empower other organizations to govern an industry (e.g. professional associations, stock exchanges).\n",
    "\n",
    "**Social**\n",
    "Changes in society occur regarding how people work and spend their leisure time. For example, changes in society's views on smoking have had a significant impact on certain industries."
   ]
  },
  {
   "cell_type": "markdown",
   "metadata": {},
   "source": [
    "## Company analysis\n",
    "The first step in the company analysis process is to gain an understanding of a company's external environment. Several forces (macroeconomic, demographic, governmental, technological, and social) influence the competitive environment in which a company operates.\n",
    "\n",
    "Next, an analyst should study a company's financial position, products, and competitive strategy. This strategy may be defensive or offensive, but the analyst should assess the likelihood that it can be successfully implemented.\n",
    "\n",
    "Porter has identified two main competitive strategies:\n",
    "\n",
    "1. Low-cost: A company may pursue a low-cost strategy as a defensive measure to protect its market share in an industry with low rivalry among incumbents. Alternatively, a low-cost strategy could be part of an aggressive (or even predatory) campaign to gain market share if the rivalry is intense. In either case, successful execution requires tight cost controls, efficient operating and reporting systems, and appropriate managerial incentives.\n",
    "2. Product differentiation: A company that pursues a differentiation strategy is seeking to charge a premium for products or services that are unique with respect to quality, type, or means of delivery. For this type of strategy to be successful, the company must have relevant market research about its customers and highly creative managers who are motivated to meet their needs.\n",
    "\n",
    "### Elements That Should Be Covered in a Company Analysis\n",
    "A company analysis should include the following:\n",
    "- Corporate profile (e.g., business activities, corporate governance)\n",
    "- Explanation of relevant industry characteristics\n",
    "- Analysis of demand for products/services\n",
    "- Analysis of supply, including costs\n",
    "- Pricing environment\n",
    "- Ratio comparisons over time and relative to peers\n",
    "\n",
    "#### Corporate Profile\n",
    "Identity of company’s major products and services, current position in industry, and history ",
    "\n",
    "\n",
    "Composition of sales ",
    "\n",
    "\n",
    "Product life-cycle stages/experience curve effects\n",
    "\n",
    "Research & development activities ",
    "\n",
    "\n",
    "Past and planned capital expenditures ",
    "\n",
    "\n",
    "Board structure, composition, electoral system, anti-takeover provisions, and other corporate governance issues ",
    "\n",
    "Management strengths, weaknesses, compensation, turnover, and corporate culture ",
    "\n",
    "\n",
    "Benefits, retirement plans, and their influence on shareholder value ",
    "\n",
    "\n",
    "Labor relations ",
    "\n",
    "\n",
    "Insider ownership levels and changes ",
    "\n",
    "\n",
    "Legal actions and the company’s state of preparedness ",
    "\n",
    "\n",
    "Other special strengths or weaknesses ",
    "\n",
    "#### Industry Characteristics\n",
    "Stage in its life cycle ",
    "\n",
    "\n",
    "Business-cycle sensitivity or economic characteristics ",
    "\n",
    "\n",
    "Typical product life cycles in the industry (short and marked by technological obsolescence or long, such as pharmaceuticals protected by patents) ",
    "\n",
    "\n",
    "Brand loyalty, customer switching costs, and intensity of competition ",
    "\n",
    "\n",
    "Entry and exit barriers ",
    "\n",
    "\n",
    "Industry supplier considerations (concentration of sources, ability to switch suppliers or enter suppliers’ business) ",
    "\n",
    "\n",
    "Number of companies in the industry and whether it is, as determined by market shares, fragmented or concentrated ",
    "\n",
    "\n",
    "Opportunity to differentiate product/service and relative product/service price, cost, and quality advantages/disadvantages ",
    "\n",
    "\n",
    "Technologies used ",
    "\n",
    "\n",
    "Government regulation ",
    "\n",
    "\n",
    "State and history of labor relations ",
    "\n",
    "\n",
    "Other industry problems/opportunities ",
    "\n",
    "#### Analysis of Demand for Products/Services\n",
    "Sources of demand ",
    "\n",
    "\n",
    "Product differentiation ",
    "\n",
    "\n",
    "Past record, sensitivities, and correlations with social, demographic, economic, and other variables ",
    "\n",
    "\n",
    "Outlook—short, medium, and long term, including new product and business opportunities ",
    "\n",
    "#### Analysis of Supply of Products/Services\n",
    "Sources (concentration, competition, and substitutes) ",
    "\n",
    "\n",
    "Industry capacity outlook—short, medium, and long term ",
    "\n",
    "\n",
    "Company’s capacity and cost structure ",
    "\n",
    "\n",
    "Import/export considerations ",
    "\n",
    "\n",
    "Proprietary products or trademarks ",
    "\n",
    "#### Analysis of Pricing\n",
    "Past relationships among demand, supply, and prices ",
    "\n",
    "\n",
    "Significance of raw material and labor costs and the outlook for their cost and availability ",
    "\n",
    "\n",
    "Outlook for selling prices, demand, and profitability based on current and anticipated future trends ",
    "\n",
    "#### Financial Ratios and Measures\n",
    "(in multi-year spreadsheets with historical and forecast data)\n",
    " ##### Activity ratios, measuring how efficiently a company performs such functions as the collection of receivables and inventory management:\n",
    "Days of sales outstanding (DSO) ",
    "\n",
    "\n",
    "Days of inventory on hand (DOH) ",
    "\n",
    "\n",
    "Days of payables outstanding (DPO) ",
    "\n",
    " ##### Liquidity ratios, measuring a company’s ability to meet its short-term obligations:\n",
    "Current ratio ",
    "\n",
    "\n",
    "Quick ratio ",
    "\n",
    "\n",
    "Cash ratio ",
    "\n",
    "\n",
    "Cash conversion cycle (DOH + DSO – DPO) ",
    "\n",
    " ##### Solvency ratios, measuring a company’s ability to meet its debt obligations. (In the following, “net debt” is the amount of interest-bearing liabilities after subtracting cash and cash equivalents.)\n",
    "Net debt to EBITDA (earnings before interest, taxes, depreciation, and amortization) ",
    "\n",
    "\n",
    "Net debt to capital ",
    "\n",
    "\n",
    "Debt to assets ",
    "\n",
    "\n",
    "Debt to capital (at book and market values) ",
    "\n",
    "\n",
    "Financial leverage ratio (Average total assets/Average total equity) ",
    "\n",
    "\n",
    "Cash flow to debt ",
    "\n",
    "\n",
    "Interest coverage ratio ",
    "\n",
    "\n",
    "Off-balance-sheet liabilities and contingent liabilities ",
    "\n",
    "\n",
    "Non-arm’s-length financial dealings ",
    "\n",
    " ##### Profitability ratios, measuring a company’s ability to generate profitable sales from its resources (assets).\n",
    "Gross profit margin ",
    "\n",
    "\n",
    "Operating profit margin ",
    "\n",
    "\n",
    "Pretax profit margin ",
    "\n",
    "\n",
    "Net profit margin ",
    "\n",
    "\n",
    "Return on invested capital or ROIC (Net operating profits after tax/Average invested capital) ",
    "\n",
    "\n",
    "Return on assets or ROA (Net income/ Average total assets) ",
    "\n",
    "\n",
    "Return on equity or ROE (Net income/Average total equity) ",
    "\n",
    " ##### Financial Statistics and Related Considerations, quantities and facts about a company’s finances that an analyst should understand.\n",
    "Growth rate of net sales ",
    "\n",
    "\n",
    "Growth rate of gross profit ",
    "\n",
    "\n",
    "EBITDA ",
    "\n",
    "\n",
    "Net income ",
    "\n",
    "\n",
    "Operating cash flow ",
    "\n",
    "\n",
    "EPS ",
    "\n",
    "\n",
    "Operating cash flow per share ",
    "\n",
    "\n",
    "Operating cash flow in relation to maintenance and total capital expenditures ",
    "\n",
    "\n",
    "Expected rate of return on retained cash flow ",
    "\n",
    "\n",
    "Debt maturities and ability of company to refinance and/or repay debt ",
    "\n",
    "\n",
    "Dividend payout ratio (Common dividends/Net income available to common shareholders) ",
    "\n",
    "\n",
    "Off-balance-sheet liabilities and contingent liabilities ",
    "\n",
    "\n",
    "Non-arm’s-length financial dealings ",
    "\n",
    "### Spreadsheet Modeling\n",
    "Spreadsheets can be a valuable tool to develop income statement projections and cash flow forecasts. However, the complexity of these models can give a false impression of precision. Errors in the model's formulas and/or assumptions can lead to inaccurate forecasts.\n",
    "\n",
    "Analysts should perform a \"reality check\" on any spreadsheet model by identifying the factors that are likely to drive changes in a company's financial statements and quantifying their potential impact. To facilitate direct comparison, spreadsheet models should be prepared in the same format as a company's financial statements."
   ]
  },
  {
   "cell_type": "markdown",
   "metadata": {},
   "source": [
    "# Equity Valuation: Concepts and Basic Tools"
   ]
  },
  {
   "cell_type": "markdown",
   "metadata": {},
   "source": [
    "Technical analysis uses such information as stock price and trading volume as the basis for investment decisions. \n",
    "\n",
    "Fundamental analysis uses information about the economy, industry, and company as the basis for investment decisions. Examples of fundamentals are unemployment rates, gross domestic product (GDP) growth, industry growth, and quality of and growth in company earnings. \n",
    "\n",
    "Whereas technical analysts use information to predict price movements and base investment decisions on the direction of predicted change in prices, fundamental analysts use information to estimate the value of a security and to compare the estimated value to the market price and then base investment decisions on that comparison."
   ]
  },
  {
   "cell_type": "markdown",
   "metadata": {},
   "source": [
    "## Estimated Value and Market Price\n",
    "An analyst can research a security for the purpose of comparing its market value with its intrinsic value. Its market value can be determined from market quotes and transactions. Its Intrinsic value is the objective \"true\" value that investors would ascribe to it if they had all relevant quantitative and qualitative information.\n",
    "\n",
    "Unfortunately, intrinsic value cannot be observed, only estimated. Furthermore, a security's market value may not necessarily reflect its intrinsic value. If an analyst estimates a security's intrinsic value to be greater than its market value, the security is undervalued. On the other hand, if the security is trading above its intrinsic value, it is overvalued.\n",
    "\n",
    "Analysts use various models for security valuation. Typically, these models produce different estimates of value, so an estimate from one model should be compared to those from other models. If several different models produce similar results, the analyst can have a higher level of confidence in this estimate. An outlier estimate may indicate a flaw in the model's construction or assumptions. Often, an analyst may only be able to estimate a range within which intrinsic value is likely to fall.\n",
    "\n",
    "Assuming that a security is significantly undervalued, an investor can buy it at a relatively low price and profit when the security's market value later converges to its intrinsic value. Of course, investors cannot be certain how long mispricings will persist."
   ]
  },
  {
   "cell_type": "markdown",
   "metadata": {},
   "source": [
    "## Categories of Equity Valuation Models\n",
    "1. **Present Value Models (Discounted Cash Flow Models)**\n",
    "The intrinsic value is the present value of future benefits from the security. Benefits could be viewed as dividends or free cash flows.\n",
    "\n",
    "Free cash flow to equity. FCFE can be used in a form of present value, or discounted cash flow, model. \n",
    "2. **Multiplier Models (Market Multiple Models)**\n",
    "Usually, these are based on share price multiples or enterprise value multiples. \n",
    "  - Examples of share price multiples include `price to earnings` and `price to sales`. The fundamental variable can be on a forward or trailing basis. This is commonly used to compare relative values.\n",
    "\n",
    "The denominator could be \n",
    "- earnings before interest, taxes, depreciation, and amortization (EBITDA) or\n",
    "- total revenue\n",
    "$$\\frac{(Enterprise value)}{(Value of a fundamental variable)}$$\n",
    "Enterprise value (EV), the numerator, is a company’s $total\\ market\\ value - cash\\ and\\ short-term investments$ (because an acquirer could use those assets to pay for acquiring the company). An estimate of common share value can be calculated indirectly from the EV multiple; the value of liabilities and preferred shares can be subtracted from the EV to arrive at the value of common equity.\n",
    "\n",
    "Both EV and price to free cash flow are forms of multiplier models.\n",
    "3. **Asset-based Valuation Models**\n",
    "The intrinsic value is estimated as the market value of assets minus the estimated value of liabilities and preferred stock. The estimated market value of the assets is often determined by making adjustments to the `book value` (synonym: `carrying value`) of assets and liabilities. \n",
    "\n",
    "## Present Value Models: the Dividend Discount Model\n",
    "#### Background\n",
    "Equity returns come in the form of `cash dividends` and `price appreciation`. Companies are not legally required to pay dividends. They must be authorized (declared) by the board of directors and, in certain jurisdictions, shareholders as well.\n",
    "\n",
    "`Regular dividends` are paid at known intervals, which tend to vary by region (e.g., quarterly in North America, semiannually in Europe, annually in China). Directors may authorize an annual dividend that is paid in quarterly or semiannual installments. There are four important milestones in the standard chronology of dividend payments:\n",
    "1. **Declaration date**: This is the day that the dividend's authorization is announced. For example, XYZ Corp. may announce on 1 April that the board has voted to pay a \\\\$5 per share dividend on 31 May with an ex-dividend date of 16 April.\n",
    "2. **Ex-dividend date**: Starting this day, new owners will not be eligible to receive the previously-declared dividend. \n",
    "\n",
    "Because buyers of a company’s shares on the ex-dividend date are no longer eligible to receive the upcoming dividend, all else being equal, on that day the company’s share price immediately decreases by the amount of the foregone dividend.\n",
    "3. **Holder-of-record date**: On this day, the company records the list of owners who held shares at the close of trading on the day before the ex-dividend date. It is usually one or two days after the ex-dividend date to reflect the fact that trades are not settled immediately. In the XYZ Corp. example, an investor pays who paid $100 for XYZ shares just before the market closed on 15 April is entitled to receive the \\\\$5 dividend that was declared on 1 April. However, this trade may take 24 to 48 hours to settle, so XYZ Corp. will wait until after the market closes on 17 April to finalize its list of shareholders who will receive the dividend to be paid on 31 May.\n",
    "4. **Payment date**: This is when the dividend is actually paid, which would be 31 May in the XYZ Corp. example.\n",
    "\n",
    "`Extra (special) dividends` may be paid at any time outside the regular schedule. Often, companies in cyclical industries choose to supplement their regular dividends with a special dividend. A liquidating dividend is paid to return capital to shareholders when a company goes out of business.\n",
    "\n",
    "`Stock dividends` grant extra shares to investors rather than cash. Stock splits increase the number of shares outstanding, while reverse stock splits reduce the number of shares outstanding. These three types of transactions also have no effect on a company's valuation.\n",
    "\n",
    "`Share repurchases` is viewed as equivalent to the payment of cash dividends of equal value in terms of the effect on shareholders’ wealth, all other things being equal. Management can choose to repurchase shares if they believe that they are trading below their intrinsic value. Share repurchases also allow managers greater flexibility over the amount and timing of payments to shareholders and can be used to offset the diluting effect of stock options. Finally, shareholders may prefer share repurchases if capital gains are taxed at a lower rate than dividends. \n",
    "\n",
    "Shares that have been repurchased are not considered for dividends, voting, or computing earnings per share.\n",
    "#### Dividend Discount Model (DDM) \n",
    "The dividend discount model (DDM) estimates a stock's `fair value` based on forecasts of the dividends to be received and the `terminal value` ($P_n$), which is the `expected selling price` at the end of an n-year holding period. All future cash flows are discounted at the `required rate of return` on equity ($r$):\n",
    "$$V_0=\\sum_{t=1}^n{\\frac{D_t}{(1+r)^t}+\\frac{P_n}{(1+r)^n}}$$\n"
   ]
  },
  {
   "cell_type": "markdown",
   "metadata": {},
   "source": [
    "Assuming a 4% required rate of return, what is the intrinsic value per share of an outstanding issue of 5% perpetual preferred stock with a par value of £100 and no embedded options?"
   ]
  },
  {
   "cell_type": "code",
   "execution_count": null,
   "metadata": {},
   "outputs": [],
   "source": [
    "# "
   ]
  },
  {
   "cell_type": "markdown",
   "metadata": {},
   "source": [
    "### Free-Cash-Flow-to-Equity Model (FCFE)\n",
    "Some analysts prefer to use a free-cash-flow-to-equity (FCFE) valuation model. This model uses the `dividend-paying capacity` rather than expected dividends. This model can also be used for non-dividend-paying stocks. FCFE is a measure of the cash flow that is available for distribution to common shareholders. It is the cash flow from operations less cash needed for fixed capital investment plus net amount borrowed during the period:\n",
    "$$FCFE=CFO−FCInv+Net\\ Borrowing$$\n",
    "where $CFO$ is `cash flow from operations` = net income + non-cash expenses - investment in working capital\n",
    "\n",
    "$FCInv$ is `fixed capital investment`\n",
    "\n",
    "Net amounts borrowed (borrowings minus repayments) are considered to be available for distribution to common shareholders \n",
    "\n",
    "$$V_0=\\sum_{t=1}^∞{\\frac{FCFE_t}{(1+r)^t}}$$\n",
    "\n",
    "Many analysts use the `capital asset pricing model (CAPM)` to calculate the required rate of return. The expected return for security i is a function of the risk-free rate, market risk premium, and the stock's sensitivity to equity market returns (beta).\n",
    "$$E(R_i)=R_f+βi[E(R_M)−R_f]$$\n",
    "\n",
    "$$Required\\ rate\\ of\\ return\\ on\\ share\\ i=Current\\ expected\\ risk-free\\ rate\\ of\\ return + β_i[Market\\ (equity)\\ risk\\ premium]$$\n",
    "### Preferred Stock Valuation\n",
    "Unlike common stock, preferred stock shares pay fixed dividends, which makes these securities easier to value because there is far more certainty about future cash flows. Assuming that preferred stock has no maturity date, it can be valued like a `perpetuity`:\n",
    "\n",
    "$$V_0=\\frac{D_0}{r}$$\n",
    "Preferred stock with a specific maturity date ($n$) can be valued using the DDM methodology with the face value of preferred shares ($F$) as the terminal value:\n",
    "\n",
    "$$V_0=\\sum_{t=1}^n{\\frac{D_t}{(1+r)^t}+\\frac{F}{(1+r)^n}}$$\n",
    "\n",
    "These formulas assume that the preferred shares do not contain any embedded options. However, like common stock, preferred stock may be either callable or putable. In general, call options reduce the value of the preferred stock because the issuer can recall the shares if they are trading above the call price. Similarly, the retractable (putable) preferred stock tends to be more valuable since investors have the option to force issuers to repurchase their shares for more than their market value.\n",
    "\n",
    "### The Gordon Growth Model\n",
    "The Gordon constant growth model (GGM) estimates future dividend payments by assuming a constant dividend growth rate (g) and the required return on equity. Using this model, the intrinsic value is:\n",
    "\n",
    "$$V_0=\\sum_{t=1}^∞{\\frac{D_0(1+g)^t}{(1+r)^t}}⇒\\frac{D_0(1+g)}{r−g}=\\frac{D_1}{r−g}$$\n",
    "Note the following about the $GGM$:\n",
    "\n",
    "This is a forward-looking model because the stock's value is determined by the next dividend to be paid ($D_1$).\n",
    "\n",
    "The assumption of constant dividend growth is more appropriate for stable, mature companies, but this model is less appropriate for companies that are growing rapidly and/or are not currently paying a dividend.\n",
    "\n",
    "The dividend growth rate must be less than the required rate of return.\n",
    "\n",
    "The sustainable rate of dividend growth can be estimated as the product of accounting return on equity ($ROE$) and the earnings retention rate ($b$), which is 1 minus the dividend payout ratio ($g=b×ROE$)."
   ]
  },
  {
   "cell_type": "code",
   "execution_count": null,
   "metadata": {},
   "outputs": [],
   "source": [
    "# EXAMPLE 6 Case 2\n"
   ]
  },
  {
   "cell_type": "code",
   "execution_count": null,
   "metadata": {},
   "outputs": [],
   "source": [
    "# EXAMPLE 8\n"
   ]
  },
  {
   "cell_type": "markdown",
   "metadata": {},
   "source": [
    "Example\n",
    "\n",
    "A company has a return on equity of 15% and a dividend payout ratio of 40%. The required rate of return on the security is 12%. The most recent dividend is \\\\$2.35.\n",
    "\n",
    "Calculate the current intrinsic value of the security."
   ]
  },
  {
   "cell_type": "code",
   "execution_count": 31,
   "metadata": {
    "scrolled": true
   },
   "outputs": [
    {
     "name": "stdout",
     "output_type": "stream",
     "text": [
      "0.09\n"
     ]
    },
    {
     "data": {
      "text/plain": [
       "85.38333333333334"
      ]
     },
     "execution_count": 31,
     "metadata": {},
     "output_type": "execute_result"
    }
   ],
   "source": [
    "# know that \n",
    "roe = 0.15\n",
    "payout = 0.4\n",
    "r = 0.12\n",
    "d_0 = 2.35\n",
    "# earnings retention rate \n",
    "b = 1 - payout\n",
    "# sustainable growth rate \n",
    "g = b * roe\n",
    "print(g)\n",
    "# intrinsic value of the equity\n",
    "d_0 * (1 + g) / (r - g)"
   ]
  },
  {
   "cell_type": "markdown",
   "metadata": {},
   "source": [
    "## Multistage Dividend Discount Models\n",
    "As noted, the assumption of constant dividend growth is inappropriate for valuations of younger, rapidly growing companies. In such cases, analysts may use a multistage model that allows for two or more periods of different growth. Many companies experience temporarily high short-term growth before transitioning to a long-term sustainable growth rate.\n",
    "\n",
    "These models allow for two or more growth rates. A short-term period of high growth is assumed for a set number of years. Some assume growth falls into three stages: growth, transition, and maturity. This leads to a three-stage model for young companies. It is important to discount each expected future cash flow at the appropriate rate.\n",
    "\n",
    "Equation 11 will be used here as the starting point for a `two-stage valuation model`. Equation 11 values the dividends over the short-term period of high growth and the terminal value at the end of the period of high growth. The short-term growth rate, $g_S$, lasts for $n$ years. \n",
    "$$V_0=\\sum_{t=1}^n{\\frac{D_0(1+g_S)^t}{(1+r)^t}+\\frac{V_n}{(1+r)^n}}$$\n",
    "<div style=\"text-align: right\"> Equation 11</div>\n",
    "\n",
    "The `intrinsic value per share in year` $n$, $V_n$, represents the year $n$ value of the dividends received during the sustainable growth period or the terminal value at time $n$. $V_n$ can be estimated by using the Gordon growth model as shown in Equation 12, where $g_L$ is the long-term or sustainable growth rate. \n",
    "\n",
    "$$V_n=\\frac{D_{n+1}}{r−g_L}$$\n",
    "<div style=\"text-align: right\"> Equation 12</div>\n",
    "\n",
    "The dividend in year $n + 1$, $D_{n+1}$, can be determined by using Equation 13:\n",
    "\n",
    "$$D_{n+1}=D_0(1+g_S)^n(1+g_L)$$\n",
    "<div style=\"text-align: right\"> Equation 13</div>"
   ]
  },
  {
   "cell_type": "markdown",
   "metadata": {},
   "source": [
    "Example\n",
    "\n",
    "The current dividend, $D_0$, is \\\\$5.00. Growth is expected to be 10 percent a year for three years and then 5 percent thereafter. The required rate of return is 15 percent. Estimate the intrinsic value."
   ]
  },
  {
   "cell_type": "code",
   "execution_count": null,
   "metadata": {},
   "outputs": [],
   "source": []
  },
  {
   "cell_type": "markdown",
   "metadata": {},
   "source": [
    "Example\n",
    "\n",
    "An analyst gathers or estimates the following information about a stock:\n",
    "\n",
    "Current price per share\t€22.56<br>\n",
    "Current annual dividend per share\t€1.60<br>\n",
    "Annual dividend growth rate for Years 1–4\t9.00%<br>\n",
    "Annual dividend growth rate for Years 5+\t4.00%<br>\n",
    "Required rate of return\t12%"
   ]
  },
  {
   "cell_type": "code",
   "execution_count": 20,
   "metadata": {},
   "outputs": [
    {
     "name": "stdout",
     "output_type": "stream",
     "text": [
      "[1.7440000000000002, 1.9009600000000004, 2.0720464000000005, 2.258530576000001] [1.5571428571428572, 1.5154336734693878, 1.4748417000728862, 1.4353370116780768]\n",
      "7.975536976000002\n",
      "16.66016174269197\n",
      "24.63569871869197\n"
     ]
    }
   ],
   "source": [
    "# know that \n",
    "d_0 = 1.6\n",
    "g_s = 0.09\n",
    "g_l = 0.04\n",
    "r = 0.12\n",
    "\n",
    "# PV of dividends of first four years \n",
    "dividends = []\n",
    "pvs = []\n",
    "for i in range(4):\n",
    "    dividend = d_0 * (1+g_s)**(i+1) \n",
    "    dividends.append(dividend)\n",
    "    pv = dividend / (1+r)**(i+1)\n",
    "    pvs.append(pv)\n",
    "\n",
    "print(dividends, pvs)\n",
    "v = sum(dividends)\n",
    "print(v_0)\n",
    "\n",
    "# value of the perpetual dividends at year 4\n",
    "d_5 = d_0 * (1+g_s)**4 * (1+g_l) / (1+r)**5\n",
    "v_4 = d_5 / (r-g_l)\n",
    "print(v_4)\n",
    "\n",
    "# summing up\n",
    "v_0 = v + v_4\n",
    "print(intrinsic)"
   ]
  },
  {
   "cell_type": "markdown",
   "metadata": {},
   "source": [
    "The current earnings per share for a security is $2.50, with a dividend payout ratio of 70\\%. The dividend growth rate is expected to be 25\\% for the next two years and 5\\% thereafter. The estimate of the security's beta is 1.5, the current risk-free rate is 3\\%, and the equity risk premium is 6\\%.\n",
    "\n",
    "Calculate the current intrinsic value of the security using a two-stage dividend discount model."
   ]
  },
  {
   "cell_type": "code",
   "execution_count": 43,
   "metadata": {},
   "outputs": [
    {
     "name": "stdout",
     "output_type": "stream",
     "text": [
      "0.12\n",
      "1.75\n",
      "[2.1875, 2.734375]\n",
      "[1.9531249999999998, 2.179827008928571]\n",
      "2.87109375 41.01562500000001\n",
      "32.69740513392857\n"
     ]
    },
    {
     "data": {
      "text/plain": [
       "36.83035714285714"
      ]
     },
     "execution_count": 43,
     "metadata": {},
     "output_type": "execute_result"
    }
   ],
   "source": [
    "# know that \n",
    "eps = 2.5\n",
    "div_payout = 0.7\n",
    "g_s = 0.25\n",
    "g_l = 0.05\n",
    "beta = 1.5\n",
    "r_free = 0.03\n",
    "p_risk = 0.06\n",
    "\n",
    "# required rate of return \n",
    "r = r_free + beta * (p_risk) \n",
    "print(r)\n",
    "\n",
    "# first-stage value\n",
    "d_0 = eps * div_payout\n",
    "print(d_0)\n",
    "\n",
    "divs = []\n",
    "pvs = []\n",
    "for i in range(2):\n",
    "    div = d_0 * (1 + g_s) ** (1+i)\n",
    "    pv = div / (1 + r) ** (1+i)\n",
    "    divs.append(div)\n",
    "    pvs.append(pv)\n",
    "print(divs)\n",
    "print(pvs)\n",
    "\n",
    "# second-stage value\n",
    "d_3 = d_0 * (1 + g_s) ** 2 * (1 + g_l)\n",
    "v_2 = d_3 / (r - g_l)\n",
    "print(d_3, v_2)\n",
    "pv_v2 = v_2 / (1 + r) ** 2 # 2 instead of 3\n",
    "print(pv_v2)\n",
    "sum(pvs) + pv_v2"
   ]
  },
  {
   "cell_type": "markdown",
   "metadata": {},
   "source": [
    "## Multipler Models\n",
    "The term price multiple refers to a ratio that compares the share price with some sort of monetary flow or value. \n",
    "\n",
    "As a screening mechanism: if the ratio falls below a specified value, the shares are identified as candidates for purchase, and if the ratio exceeds a specified value, the shares are identified as candidates for sale.\n",
    "\n",
    "Commonly-used price multiple includes:\n",
    "- Price-to-earnings (P/E): stock price to EPS\n",
    "- Price-to-book (P/B): stock price to book value per share\n",
    "- Price-to-sales (P/S):  stock price to sales per share\n",
    "- Price-to-cash-flow (P/CF): stock price to cash flow include free cash flow (FCF) per-share or operating cash flow (OCF) per-share \n",
    "\n",
    "*Pay attention to more industry-specific or sector-specific ratios*\n",
    "\n",
    "`Retrospective` (e.g., price/last year's earnings) or `forward-looking` (e.g., price/next period's earnings forecast): Whether trailing or forward ratios are used, it is important for analysts to be consistent in order to ensure accurate comparisons.\n",
    "\n",
    "Time-series analysis considers changes in a company's ratios over time, while cross-sectional analysis compares ratios among companies within the same industry or peer group.\n",
    "### Relationship Among Price Multiples, Present Value Models, and Fundamentals\n",
    "One price multiple valuation approach, the method of comparables, does not involve cash flow forecasts or discounting to present value. A price multiple is often related to fundamentals through a discounted cash flow model, however, such as the Gordon growth model.\n",
    "\n",
    "Price multiples are often used independently of present value models, but these models are connected. For example, the price-to-earnings ratio can be calculated by extrapolating from the Gordon growth formula:\n",
    "\n",
    "$$P_0=\\frac{D_1}{r−g}⇒\\frac{P_0}{E_1}=\\frac{D_1/E_1}{r−g}=\\frac{p}{r−g}$$\n",
    "where $p$ is the ratio of dividends to earnings (i.e., `payout ratio`), $E_1$ is next year's earning forecast. \n",
    "\n",
    "P/E is inversely related to the required rate of return and positively related to the growth rate; that is, as the required rate of return increases, the P/E declines, and as the growth rate increases, the P/E increases. The P/E and the payout ratio appear to be positively related. This relationship may not be true, however, because a higher payout ratio may imply a slower growth rate as a result of the company retaining a lower proportion of earnings for reinvestment. This phenomenon is referred to as the dividend displacement of earnings.\n",
    "### Method of Comparables\n",
    "This popular method is based on the law of one price, which states that identical assets should sell for the same price. In theory, a company trading at 14 times earnings is attractively priced compared to a similar company with a P/E ratio of 20. Choices for the benchmark multiple include the multiple of a closely matched individual stock or the average or median value of the multiple for the stock’s industry. \n",
    "### Valuation Based on Price Multiples\n",
    "A stock may be relatively undervalued when compared with its benchmarks but overvalued when compared with an estimate of intrinsic value as determined by one of the discounted cash flow methodologies. Furthermore, differences in reporting rules among different markets and in chosen accounting methods can result in revenues, earnings, book values, and cash flows that are not easily comparable. These differences can, in turn, result in multiples that are not easily comparable. Finally, the multiples for cyclical companies may be highly influenced by current economic conditions.\n",
    "### Enterprise Value\n",
    "Enterprise value is the market capitalization plus market value of preferred stock plus the market value of debt minus cash and short-term investments.\n",
    "\n",
    "$EV$<br>\n",
    "$=Market\\ capitalization$<br>\n",
    "$+MV\\ of\\ preferred\\ stock$<br>\n",
    "$+MV\\ of\\ debt$<br>\n",
    "$−(Cash+Short\\ term\\ investments)$\n",
    "\n",
    "It represents the `cost of a takeover`, since the acquiring company assumes (repay) the target company's debt and receives its cash. Enterprise value is useful for comparing companies with different capital structures.\n",
    "\n",
    "EV/EBITDA is a commonly-used valuation metric, particularly in Europe. EBITDA can be used as a proxy for operating cash flows. An advantage EV/EBITDA over P/E is that EBITDA is typically positive even when earnings are negative.\n",
    "\n",
    "*Negative ratios are difficult to interpret, so other means are used to evaluate companies with negative ratios.*\n",
    "\n",
    "Operating income may be used in place of EBITDA when calculating the enterprise value multiple. EBITDA may be used when company earnings are negative because EBITDA is usually positive. The book value of debt cannot be used in place of market value of debt."
   ]
  },
  {
   "cell_type": "code",
   "execution_count": null,
   "metadata": {},
   "outputs": [],
   "source": [
    "# EXAMPLE 14"
   ]
  },
  {
   "cell_type": "markdown",
   "metadata": {},
   "source": [
    "## Asset-Based Valuation\n",
    "This method values a company's equity as the difference between the market values of its assets and liabilities. Of course, market values can differ significantly from reported book values. This method is often used in conjunction with other models to value private companies.\n",
    "\n",
    "Asset-based valuations may become more common for public companies as disclosure requirements move toward greater use of fair value reporting. Financial firms, natural resource producers, and companies that are being liquidated are among the best fits for this method.\n",
    "\n",
    "Some important considerations for analysts include:\n",
    "- Asset-based valuation is difficult for companies with large amounts of PP&E\n",
    "- This method is easier to use for companies that have a high proportion of current assets/liabilities\n",
    "- Estimates of value for intangible assets are highly subjective\n",
    "- Asset values are difficult to estimate in hyper-inflationary environments"
   ]
  }
 ],
 "metadata": {
  "kernelspec": {
   "display_name": "Python 3",
   "language": "python",
   "name": "python3"
  },
  "language_info": {
   "codemirror_mode": {
    "name": "ipython",
    "version": 3
   },
   "file_extension": ".py",
   "mimetype": "text/x-python",
   "name": "python",
   "nbconvert_exporter": "python",
   "pygments_lexer": "ipython3",
   "version": "3.7.3"
  }
 },
 "nbformat": 4,
 "nbformat_minor": 4
}
