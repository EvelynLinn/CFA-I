{
 "cells": [
  {
   "cell_type": "code",
   "execution_count": 1,
   "metadata": {},
   "outputs": [],
   "source": [
    "import pandas as pd"
   ]
  },
  {
   "cell_type": "markdown",
   "metadata": {},
   "source": [
    "# Fixed-Income Securities: Defining Elements\n",
    "Fixed-income securities (or `debt securities` or `bonds`) are the dominant means of raising capital. It is a way for corporations to borrow without relinquishing ownership. Investors use them to diversify equity risk and fund known payment streams.\n",
    "### Basic Feature of Bonds\n",
    "#### Issuer\n",
    "Entities that raise capital by issuing debt include \n",
    "- companies, \n",
    "- national (sovereign) governments, \n",
    "- sub-national (non-sovereign) governments: non-sovereign bonds are typically repaid from the issuer’s taxing authority or the cash flows of the project being financed\n",
    "- quasi-government agencies, and \n",
    "- supranational organizations (e.g., World Bank): The source of payment for bonds issued by supranational organizations is either the repayment of previous loans made by the organization or the paid-in capital of its member states. \n",
    "- Special purpose entities that are created to securitize assets (e.g., mortgage-backed securities) are typically treated as another type of issuer.\n",
    "\n",
    "#### Maturity\n",
    "The maturity date is the due date of the principal. The tenor is the time remaining until maturity. A 10-year bond issued 2 years ago has an 8-year tenor. Maturities range from overnight to 30+ years.\n",
    "\n",
    "Money market securities have maturities of less than one year, while longer-dated debt trades in the capital market. Perpetual bonds have no stated maturity. *The primary difference between a money market security and a capital market security is the maturity at issuance. Money market securities mature in one year or less, whereas capital market securities mature in more than one year.*\n",
    "#### Par Value\n",
    "The par value (or `principal amount` or `face value`) is the amount that must be repaid at maturity. Often the price of a bond is quoted as a percentage of the par value. Bonds selling below the par value are at a discount and bonds selling above the par value are at a premium.\n",
    "#### Coupon Rate and Frequency\n",
    "The issuer agrees to pay the coupon rate (`nominal rate`) each year. For example, a 5% coupon bond with a $1,000 par value pays $50 in coupons annually. If the frequency is annual, bondholders will receive a single $50 payment at the end of each year. If the frequency is semi-annual, the same bond would pay $25 coupons every six months until maturity. Mortgage-backed securities typically pay monthly coupons.\n",
    "- `Conventional bonds` pay a fixed interest rate, while \n",
    "- `Floating-rate notes` have coupon rates that change based on the performance of a reference rate (e.g., Libor). For example, a floating rate bond with a coupon rate of Libor + 1% will pay a 5% coupon if Libor is at 4%. If Libor falls to 2%, the bond's next coupon payment will be for 3% of par value. These spreads are often quoted in terms of `basis points`, which is 0.01%. Libor + 1% can be stated as Libor + 100 basis points.\n",
    "- A `zero-coupon bond` is called a pure discount bond because no coupons are paid. Instead, investors purchase these securities at a discount and receive their par value at maturity.\n",
    "\n",
    "#### Currency Denomination\n",
    "Bonds can be denominated in any currency, issuers are not required to use their domestic currency. Indeed, many foreign bond issues are denominated in USD or EUR to attract a wider pool of investors.\n",
    "- `Dual-currency issues` make coupon payments in one currency and principal payments in another. \n",
    "- `Currency option bonds` give bondholders the right to choose which of two currency denominations they prefer for coupons and principal repayments.\n",
    "\n",
    "### Yield Measures\n",
    "A bond's price is inversely related to its yield (i.e., a higher yield results in a lower price). Commonly-quoted yield measures include:\n",
    "#### Current Yield\n",
    "(a.k.a. `running yield`) is the annual coupon divided by the bond’s current price. The current yield is a measure of income that is analogous to the dividend yield for a common share.\n",
    "$$Current\\ Yield(as\\ \\%)=\\frac{Annual\\ Coupon}{Current\\ Price}$$\n",
    "$Annual\\ Coupon=Par\\ Value \\times Coupon\\ Rate$\n",
    "#### Yield to Maturity\n",
    "It is the internal rate of return (discount rate) that makes the present value of a bond's future cash flows equal to its current price. Also known as `redemption yield` or `yield to redemption`.\n",
    "\n",
    "The yield to maturity can be considered an estimate of the bond’s expected return; it reflects the annual return that an investor will earn on a bond if this investor purchases the bond today and holds it until maturity. \n",
    "\n",
    "#### Risks\n",
    "Bondholders are exposed to `credit risk`—that is, the risk of loss resulting from the issuer failing to make full and timely payments of *interest* and/or repayments of *principal*.\n",
    "\n",
    "Systemic risk is the risk of failure of the financial system. \n",
    "\n",
    "Interest rate risk is the risk that a change in market interest rate affects a bond’s value."
   ]
  },
  {
   "cell_type": "markdown",
   "metadata": {},
   "source": [
    "## Legal and Regulatory and Tax Considerations\n",
    "### Bond Indenture\n",
    "The `trust deed` (or `bond indenture`) describes the obligations of the bond issuer and the rights of the bondholders. It specifies the principal value, coupon rate, maturity date, covenants, contingency provisions, collateral, and credit enhancements.\n",
    "\n",
    "The indenture is held by a `trustee`, which is typically a financial institution. The trustee is appointed by the issuer but acts in a fiduciary capacity for bondholders. The trustee duties are mainly administrative (e.g., maintaining records) unless a default occurs.\n",
    "\n",
    "#### Legal Identity of the Bond Issuer and its Legal Form\n",
    "A bond's issuer has contractual obligations to its bondholders. The indenture specifies exactly which legal entity is bound by the terms of the contract. For example, a parent company is not responsible for bonds issued by its subsidiaries unless this has been specified in the indenture.\n",
    "\n",
    "Financial institutions often create legally-separate special purpose entities (SPEs) as vehicles for securitizing their assets. This entity is typically thinly capitalized with no independent managers, but it owns the underlying assets that have been transferred from sponsoring financial institution. SPEs are bankruptcy-remote, meaning that the sponsor's creditors have no claim to the securitized assets.\n",
    "#### Source of Repayment Proceeds\n",
    "The indenture describes how the issuer will make interest and principal payments. Sovereign bonds are backed by national governments that have the authority to tax their citizens and print money. Non-sovereign government issuers may be able to service their debt obligations issues through general taxes, project cash flows, or special taxes. Corporate bonds are repaid with operating cash flows, while securitizations rely on cash flows from a pool of underlying assets.\n",
    "#### Asset or Collateral Backing and Seniority Ranking\n",
    "Investors must understand how they rank relative to other creditors. Senior debt has a higher claim than subordinated debt in the event of a bankruptcy. Similarly secured bonds rank above unsecured bonds.\n",
    "\n",
    "1. **Secured bonds** are backed by collateral that lenders can claim if the issuer defaults on its obligations. Collateral may be specifically identified assets. For example, \n",
    "  - `collateral trust bonds` are secured by financial assets (*securities, such as common shares, other bonds*), and \n",
    "  - `equipment trust certificates` are secured by physical assets. Alternatively, collateral can be broadly defined as \"general plant and equipment.\"\n",
    "2. **Unsecured bonds** have no collateral; bondholders have only a general claim on the issuer’s assets and cash flows.\n",
    "3. **Debentures** typically refers to secured bonds in the UK and its former colonies and unsecured bonds in the rest of the world.\n",
    "4. **Covered bonds** are like asset-backed securities in that a financial institution creates a segregated pool of assets (e.g., loans). However, these assets remain on the financial institution's `balance sheet`. If one of the assets stops generating cash flows, the issuer must replace it with a performing asset. \n",
    "\n",
    "#### Credit Enhancements\n",
    "Internal and external credit enhancements can be used to reduce credit risk. Internal credit enhancements include \n",
    "- `subordination` (`credit tranching`) (through waterfall structure): the cash flows generated by the assets are allocated with different priority to tranches of different seniority. \n",
    "- `over-collateralization`: posting more collateral than is needed to obtain or secure financing. \n",
    "- `reserve accounts` or `reserve funds`: two types of this include \n",
    "  - cash reserve fund, is a deposit of cash that can be used to absorb losses.\n",
    "  - excess spread account(s) (`excess interest cash flow`), allocation into an account of any amounts left over after paying out the interest to bondholders. (related: turboing)\n",
    "\n",
    "External credit enhancements such as \n",
    "- `surety bonds`: Bank guarantees and surety bonds are very similar in nature because they both reimburse bondholders for any losses incurred if the issuer defaults. However, there is usually a maximum amount that is guaranteed, called the penal sum. The major difference between a bank guarantee and a surety bond is that the former is issued by a bank, whereas the latter is issued by a rated and regulated insurance company.\n",
    "- bank guarantees\n",
    "- letters of credit or guarantees from financial institutions: The financial institution provides the issuer with a credit line to reimburse any cash flow shortfalls from the assets backing the issue.\n",
    "\n",
    "Bank guarantees, surety bonds, and letters of credit expose the investor to third-party (or counterparty) risk—that is, the possibility that a guarantor cannot meet its obligations. A `cash collateral account` mitigates this concern because the issuer immediately borrows the `credit-enhancement amount` and then invests that amount, usually in highly rated short-term commercial paper. Because a cash collateral account is an actual deposit of cash rather than a pledge of cash, a downgrade of the cash collateral account provider will not necessarily result in a downgrade of the bond issue backed by that provider.\n",
    "#### Covenants\n",
    "Covenants are clauses that specify the rights of the bondholders and any actions that the issuer is obligated to perform or prohibited from performing. They include both `affirmative (positive)` and `negative covenants`. \n",
    "- Affirmative covenants are usually administrative in nature. \n",
    "- Negative covenants typically restrict the issuer in areas such as additional debt issuance, changing claims on assets, shareholder distributions, asset disposals, risky investments, and mergers and acquisitions."
   ]
  },
  {
   "cell_type": "markdown",
   "metadata": {},
   "source": [
    "### Legal and Regulatory Considerations\n",
    "The global bond markets consist of **national bond markets** and the **Eurobond market**. A national bond market includes all the bonds that are issued and traded in a specific country and denominated in the currency of that country. \n",
    "- Bonds issued by entities that are incorporated in that country are called domestic bonds, whereas \n",
    "- Bonds issued by entities that are incorporated in another country are called foreign bonds.\n",
    "\n",
    "Foreign bond nicknames:\n",
    "- “kangaroo bonds” in Australia\n",
    "- “maple bonds” in Canada\n",
    "- “panda bonds” in China\n",
    "- “Samurai bonds” in Japan\n",
    "- “kimchi bonds” in South Korea\n",
    "- “matrioshka bonds” in Russia\n",
    "- “matador bonds” in Spain\n",
    "- “bulldog bonds” in the United Kingdom\n",
    "- and “Yankee bonds” in the United States.\n",
    "\n",
    "Legal and regulatory requirements vary greatly by jurisdiction, so the location of issuance and trading matters. \n",
    "\n",
    "Eurobonds are traded on the Eurobond market and are typically less regulated. These bonds are named after the currency in which they are denominated in. *they are named after the currency in which they are denominated. For example, Eurodollar and Euroyen bonds are denominated in US dollars and Japanese yens, respectively. Bonds that are denominated in euros are called euro-denominated Eurobonds.*\n",
    "\n",
    "Eurobonds are usually unsecured bonds underwritten by a consortium of financial institutions known as a `syndicate`. \n",
    "- Most Eurobonds are `bearer bonds` – only the clearing system knows who owns the bonds. \n",
    "- Global bonds are simultaneously issued in the Eurobond market and at least one domestic market.\n",
    "\n",
    "### Tax Considerations\n",
    "The income portion of a bond investment is taxed at the `ordinary income tax rate`. However, some securities are `tax exempt`. \n",
    "- Capital gains and losses are treated differently than ordinary income. \n",
    "- Some countries differentiate between long-term and short-term gains. \n",
    "- `Original issue discounts` (for bonds issued at a discount) may include a portion of the accrued interest as interest income. \n",
    "$$original\\ issue\\ discount= par\\ value\\- original\\ issue\\ price$$\n",
    "\n",
    "(The purpose of an original issue discount tax provision is to tax investors in Company B’s bonds the same way as investors in Company A’s bonds.)"
   ]
  },
  {
   "cell_type": "markdown",
   "metadata": {},
   "source": [
    "## Structure of a Bond's Cash Flows\n",
    "### Principal Repayment Structures\n",
    "#### Bullet, Fully Amortized, and Partially Amortized Bonds\n",
    "1. `Bullet bonds` (a.k.a. `plain vanilla bond`, is the most common type) repay the entire principal at maturity. Periodic coupon payments for interest are made prior to maturity.\n",
    "2. A `fully amortized bond` are structured to provide equal annuity-like payments that are split between interest and principal. Over time, the interest portion decreases and the principal portion increases.\n",
    "3. A `partially amortized bond` amortizes some principal in each of its periodic payments and makes a final balloon payment that includes any principal that has not already been amortized.\n",
    "\n",
    "#### Sinking Fund Arrangements\n",
    "1. `Sinking funds` can also be used to periodically retire the bond principal. The schedule usually specifies a percentage of a bond issue that must be retired each year. The trustee could choose which bonds to redeem randomly.\n",
    "\n",
    "*Typically, the issuer will forward repayment proceeds to the bond’s trustee. The trustee will then either redeem bonds to this value or select by lottery the serial numbers of bonds to be paid off.*\n",
    "2. `Call provisions` can also be used that allow the issuer to retire some percentage of the bonds early. The actual bonds within the issue to be repurchased are selected at random.\n",
    "\n",
    "*The issuer can usually repurchase the bonds at the market price, at par, or at a specified sinking fund price, whichever is the lowest.*\n",
    "\n",
    "Sinking fund provisions reduce credit risk for investors by reducing the risk associated with a single balloon payment. However, reinvestment risk increased because the amortized principal that is received before maturity may be reinvested at low yields.\n",
    "### Coupon Payment Structures\n",
    "Coupons are the interest payments made to the bondholders. Most sovereign and corporate bonds pay coupons semi-annually (twice a year). Eurobonds typically pay coupons annually. While most bonds pay fixed-rate coupons, there are many variations.\n",
    "#### Floating-Rate Notes (FRNs)\n",
    "Bonds with coupon rates linked to an external index are called floating-rate notes. Government-sponsored enterprises often issue FRNs. Most FRNs pay **quarterly** coupons and pay a fixed spread over the reference rate (e.g., Libor + 1.5%).\n",
    "\n",
    "Some FRNs, called `variable-rate notes`, have variable spreads. FRNs have virtually no interest rate risk because the coupon payments will increase when rates rise. Many FRNs have caps and floors to limit interest rate payments. `Inverse floaters` have coupon rates that move inversely with the reference rate.\n",
    "#### Step-Up Coupon Bonds\n",
    "Step-up coupon bonds pay coupons that increase periodically based on a set schedule. They offer investors protection against rising interest rates and give issuers an incentive to repurchase (call) bonds if interest rates remain stable or fall.\n",
    "#### Credit-Linked Coupon Bonds\n",
    "Bonds that have coupon rates tied to credit ratings are called credit-linked coupon bonds. The coupon rate will increase if the issuer gets downgraded and decrease if the issuer gets upgraded.\n",
    "#### Payment-in-Kind (PIK) Coupon Bonds\n",
    "PIK coupon bonds allow the issuer to pay coupons with more bonds rather than cash. Lenders expect higher yields on the bonds because borrowers increase their credit risk by issuing more bonds as in-kind coupon payments.\n",
    "#### Deferred Coupon Bonds\n",
    "Deferred coupon bonds, also called `split coupon bonds`, pay no coupons in the early years and then higher coupons in later years. This structure allows issuers to defer cash payments while investors can potentially defer their tax liability. `Zero-coupon bonds` are an extreme example of the deferred coupon structure.\n",
    "#### Index-Linked Bonds\n",
    "Indexed-linked bonds have the coupons tied to a specific index. While any index can be used, inflation-type indices are common. Governments are the major issuers of inflation-linked bonds. The effect of inflation may be reflected in changes to the coupons or principal.\n",
    "- Zero-coupon indexed bonds and have their principal adjusted.\n",
    "- Interest-indexed bonds have their coupons adjusted.\n",
    "- Capital-indexed bonds pay a fixed coupon rate that is applied to a principal amount that is adjusted for inflation.\n",
    "- Indexed-annuity bonds are amortizing bonds with annuity payments that are adjusted for inflation."
   ]
  },
  {
   "cell_type": "markdown",
   "metadata": {},
   "source": [
    "## Bonds with Contingency Provisions\n",
    "A bond's indenture may contain contingency provisions that specify actions that may be taken under certain conditions. Provisions that may be embedded in bonds include call options, put options, and conversion options.\n",
    "### Callable Bonds\n",
    "Issuers want to borrow at the lowest possible rate. If a company issues a 10-year, 5% coupon bond, and investors subsequently only require a 4% yield, the company will be paying an above-market rate on its borrowed funds. If the bonds included a call option, the company could repurchase its outstanding debt and issue new debt at a lower interest rate. If the market yield rises above 5%, the company can simply choose not the exercise its call option.\n",
    "\n",
    "Of course, features that benefit borrowers generally do not benefit lenders. In the above scenario, the lenders would be forced to sell bonds that are paying 5% coupons at a time when the market has determined that a 4% yield is sufficient for that level of risk. To make matters worse, these investors would be forced to reinvest the funds from the called bonds in a low-yield environment. As compensation for this possibility, investors require issuers to pay higher coupon rates or charge a lower price on callable bonds compared to otherwise equivalent option-free bonds.\n",
    "\n",
    "When interest rates fall, the price of the embedded call option increases. *The price of a callable bond equals the price of an option-free bond minus the price of the embedded call option*. The price of the callable bond will not increase as much as an option-free bond because the price of the call option is increasing. **As interest rates fall, the bond is more likely to be called, limiting the upside price increase potential.** \\[?\\]\n",
    "\n",
    "Callable bonds often specify a `call protection period` during which the issuer is not permitted to exercise its call option. After the call protection period has expired, the issuer has the right to repurchase the bonds at a call price schedule that is outlined in the indenture.\n",
    "\n",
    "*For example, a 10-year callable bond may have a 5-year call protection period, at which point the issuer can repurchase it for a call price of 103 per 100 of par value. The call price may drop to 102 after 6 years, 101 after 7 years, and remain at 100 from the end of Year 8 until maturity.*\n",
    "\n",
    "Call options differ with respect to how much flexibility issuers have.\n",
    "- American-style call options can be exercised any time after the call protection period (if applicable) has expired. This structure is most valuable for issuers of callable bonds.\n",
    "- European-style call options can only be exercised on one specific call date. This structure is most restrictive for issuers.\n",
    "- Bermuda-style call options are more flexible than European-style options because they offer multiple call dates (e.g., every coupon payment date after the call protection period).\n",
    "\n",
    "Callable bonds may include a `make-whole provision` that compensates lenders with a lump-sum payment based on the present value of coupon payments that will not be received after if the call option is exercised. If borrowers offer such a provision, lenders will be willing to accept a lower call premium.\n",
    "### Putable Bonds\n",
    "Embedded put options give lenders the right to sell their bonds back to the issuer at a specified price (usually par) on set dates. Typically, put provisions are in effect for one- to five-year periods. A Bermuda-style put option gives investors multiple opportunities to sell their bonds back, while a European-style put option provides just one.\n",
    "\n",
    "Bondholders benefit from the opportunity to redeem their bonds if market rates rise or if the issuer's credit quality declines. In exchange for this protection, investors are willing to accept lower yields or pay a higher price on putable bonds compared to otherwise equivalent option-free bonds.\n",
    "### Convertible Bonds\n",
    "Convertible bonds grant lenders the right to convert their bonds into a specified number of the issuer's common shares. Bondholders will exercise this option when the issuer's stock does well.\n",
    "\n",
    "**A convertible bond is effectively an option-free bond plus an equity call option**. Investors are willing to accept lower yields because they enjoy both the `upside potential of equity` and the `downside protection of a fixed-income security`. For their part, issuers benefit from lower borrowing costs and the elimination of debt obligations when conversion options are exercised.\n",
    "\n",
    "Key features of convertible bonds include:\n",
    "- **Conversion price**: The share price at which bonds can be converted.\n",
    "- **Conversion ratio**: The number of common shares that will be received for each convertible bond. It is calculated as: $\\frac{Par\\ value}{Conversion\\ price}$\n",
    "- **Conversion value**: The value if converted immediately. It is calculated as: $Current\\ share\\ price\\times Conversion\\ ratio$\n",
    "- **Conversion premium**: $= convertible\\ bond’s\\ price - its\\ conversion$, `Conversion parity` exists if the conversion premium is zero. \n",
    "  1. If the convertible bond price is greater than the conversion value, there is a positive conversion premium and the conversion condition is described as `below parity`. \n",
    "  2. If the convertible bond price is less than the conversion value, the conversion premium is negative and the conversion condition is `above parity`.\n",
    "\n",
    "Most investors do not exercise their conversion option until maturity, even if the issuer's share price has risen above the conversion price. This is because the interest payments on convertible bonds are generally higher than any dividend payments that would be made to common shareholders. In order to avoid such a scenario, issuers may retain a call option that grants them the right to force a conversion if their stock price rises above a specified level.\n",
    "\n",
    "`Warrants` is like a conversion option in the sense that they allow the holder to purchase common shares at a specific price. However, they are often offered as \"sweeteners\" to reduce borrowing costs rather than being structured as embedded options. Warrants may be traded separately on public equity exchanges. (A warrant is a separate, tradable security that entitles the holder to buy the underlying common share of the issuing company. )\n",
    "\n",
    "`Contingent convertible bonds (CoCos)` have been issued by financial institutions. The bonds automatically convert to equity if a certain trigger is reached (e.g., the issuer's capitalization ratio falls below the regulatory minimum level). Lenders have no control over the timing of exercise and they are exposed to downside risk, so yields are relatively high compared to otherwise equivalent bonds."
   ]
  },
  {
   "cell_type": "markdown",
   "metadata": {},
   "source": [
    "Example\n",
    "\n",
    "Assume that a convertible bond issued in South Korea has a par value of ₩1,000,000 and is currently priced at ₩1,100,000. The underlying share price is ₩40,000 and the conversion ratio is 25:1. The conversion condition for this bond is:"
   ]
  },
  {
   "cell_type": "code",
   "execution_count": 4,
   "metadata": {},
   "outputs": [
    {
     "name": "stdout",
     "output_type": "stream",
     "text": [
      "Below parity\n"
     ]
    }
   ],
   "source": [
    "# know that \n",
    "par_val = 1000000\n",
    "price = 1100000\n",
    "share_p = 40000\n",
    "convert_r = 25\n",
    "# conversion price \n",
    "convert_p = share_p\n",
    "# conversion value\n",
    "convert_v = share_p * convert_r\n",
    "# premium or discount?\n",
    "if convert_v > price:\n",
    "    print('Above parity')\n",
    "elif convert_v == price:\n",
    "    print('At parity')\n",
    "else:\n",
    "    print('Below parity')"
   ]
  },
  {
   "cell_type": "markdown",
   "metadata": {},
   "source": [
    "# Fixed-Income Markets: Issuance, Trading, and Funding"
   ]
  },
  {
   "cell_type": "markdown",
   "metadata": {},
   "source": [
    "Classification of Fixed-Income Markets\n",
    "Primary Bond Markets\n",
    "Secondary Bond Markets\n",
    "Sovereign Bonds\n",
    "Non-Sovereign, Quasi-Government and Supranational Bonds\n",
    "Corporate Debt: Bank Loans, Syndicated Loans and Commercial Paper\n",
    "Corporate Debt: Notes and Bonds\n",
    "Structured Financial Instruments\n",
    "Short-Term Bank Funding Alternatives\n",
    "Repurchase and Reverse Repurchase Agreements"
   ]
  },
  {
   "cell_type": "markdown",
   "metadata": {},
   "source": [
    "# Introduction to Fixed-Income Valuation"
   ]
  },
  {
   "cell_type": "markdown",
   "metadata": {},
   "source": [
    "# Introduction to Asset-Backed Securities"
   ]
  }
 ],
 "metadata": {
  "kernelspec": {
   "display_name": "Python 3",
   "language": "python",
   "name": "python3"
  },
  "language_info": {
   "codemirror_mode": {
    "name": "ipython",
    "version": 3
   },
   "file_extension": ".py",
   "mimetype": "text/x-python",
   "name": "python",
   "nbconvert_exporter": "python",
   "pygments_lexer": "ipython3",
   "version": "3.7.3"
  }
 },
 "nbformat": 4,
 "nbformat_minor": 4
}
