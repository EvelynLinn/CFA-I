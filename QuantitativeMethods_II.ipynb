{
 "cells": [
  {
   "cell_type": "code",
   "execution_count": 1,
   "metadata": {},
   "outputs": [],
   "source": [
    "import pandas as pd\n",
    "import numpy as np\n",
    "from matplotlib import pyplot as plt\n",
    "%matplotlib inline \n",
    "import math\n",
    "from scipy.stats import norm\n",
    "import scipy\n",
    "from IPython.display import Image"
   ]
  },
  {
   "cell_type": "markdown",
   "metadata": {},
   "source": [
    "# Common Probability Distributions\n",
    "A probability distribution specifies the probabilities of the possible outcomes of a random variable. Examples of random variables:\n",
    "- return on a stock\n",
    "- earnings per share \n",
    "\n",
    "Use cases examples:\n",
    "- the Black–Scholes–Merton option pricing model\n",
    "- the binomial option pricing model (price up or price down)\n",
    "- the capital asset pricing model\n",
    "\n",
    "We can view a probability distribution in two ways:\n",
    "#### Probability Function\n",
    "$P(X = x)$ is the probability that a random variable $X$ takes on the value $x$. (Note that capital X represents the random variable and lowercase $x$ represents a specific value that the random variable may take.) \n",
    "- For a discrete random variable, the shorthand notation for the probability function is $p(x) = P(X = x)$. \n",
    "- For continuous random variables, the probability function is denoted $f(x)$ and called the probability density function (pdf), or just the density.\n",
    "\n",
    "#### Cumulative Distribution Function (cdf)\n",
    "It gives the probability that a random variable X is less than or equal to a particular value x, P(X ≤ x). For both discrete and continuous random variables, the shorthand notation is $F(x) = P(X ≤ x).$ \n",
    "\n",
    "\n",
    "The cdf has two other characteristic properties:\n",
    "- The cdf lies between 0 and 1 for any $x$: $0 ≤ F(x) ≤ 1$.\n",
    "- As we increase $x$, the cdf either increases or remains constant."
   ]
  },
  {
   "cell_type": "markdown",
   "metadata": {},
   "source": [
    "## Discrete Random Variables\n",
    "The mathematical operation that corresponds to finding the area under the curve of a pdf $f(x)$ from $a$ to $b$ is the integral of $f(x)$ from $a$ to $b$:\n",
    "\n",
    "$$P(a\\le X\\le b)=\\int^b_af(x)dx$$\n",
    "<div style=\"text-align: right\"> Equation 2 </div>\n",
    "\n",
    "*Note: For any continuous random variable $X$, $P(a ≤ X ≤ b) = P(a < X ≤ b) = P(a ≤ X < b) = P(a < X < b)$, because the probabilities at the endpoints $a$ and $b$ are $0$.*\n",
    "### The Uniform Distribution \n",
    "Probability distribution that describes equally likely outcomes. <br>\n",
    "#### Discrete Uniform Distribution\n",
    "The pdf for a uniform random variable is:\n",
    "\\begin{equation}\n",
    "  f(x) =\n",
    "   \\begin{cases}\n",
    "      \\frac{1}{b−a} & \\text{for a<x<b}\\\\\n",
    "      0 & \\text{otherwise}\n",
    "   \\end{cases}       \n",
    "\\end{equation}\n",
    "\n",
    "### The Binomial Distribution（二项分布）\n",
    "When we make probability statements about a record of successes and failures, or about anything with binary outcomes, we often use the binomial distribution.<br>\n",
    "\n",
    "\n",
    "$X$~$B(n,p)$ read as “X has a binomial distribution with parameters n and p.”<br>\n",
    "\n",
    "The building block of the binomial distribution is the **Bernoulli random variable**. A trial (an event that may repeat) that produces one of two outcomes. Such a trial is a `Bernoulli trial`. If we let $Y= 1$ when the outcome is success and $Y = 0$ when the outcome is failure, then the probability function of the `Bernoulli random variable` $Y$ is\n",
    "$$p(1) = P(Y = 1) = p$$\n",
    "$$p(0) = P(Y = 0) = 1 – p$$\n",
    "where $p$ is the probability that the trial is a success. \n",
    "\n",
    "For $X$ distributed $B(n, p)$, the probability of $x$ successes in $n$ trials is given by\n",
    "$$p(x)=P(X=x)=\\binom{n}xp^x(1−p)^{n−x}=\\frac{n!}{(n−x)!x!}p^x(1−p)^{n−x}$$\n",
    "<div style=\"text-align: right\"> Equation 1 </div>\n",
    "\n",
    "When modeling stock price movements, the time periods can be made extremely small. Then the number of periods, $n$, can be large. The probability of exactly $x$ up moves in $n$ trials is:\n",
    "\n",
    "$$p(x)=P(X=x)=\\binom{n}xp^x(1−p)^{n−x}=\\frac{n!}{(n−x)!x!}p^x(1−p)^{n−x}$$\n",
    "\n",
    "Given independent trials, any sequence with $x$ up moves must occur with probability $p^x(1 − p)^{n–x}$. The binomial distribution is only symmetric if $p=0.50$. The mean of a binomial distribution is $np$ and the variance is $np(1−p)$."
   ]
  },
  {
   "cell_type": "markdown",
   "metadata": {},
   "source": [
    "#### Mean and Variance of Binomial Random Variables\n",
    "Because a single Bernoulli random variable, Y ~ B(1, p), takes on the value 1 with probability p and the value 0 with probability 1 − p, its mean or weighted-average outcome is p. Its variance is p(1 − p).9 A general binomial random variable, B(n, p), is the sum of n Bernoulli random variables, and so the mean of a B(n, p) random variable is np. "
   ]
  },
  {
   "cell_type": "code",
   "execution_count": 20,
   "metadata": {
    "scrolled": true
   },
   "outputs": [
    {
     "data": {
      "text/html": [
       "<div>\n",
       "<style scoped>\n",
       "    .dataframe tbody tr th:only-of-type {\n",
       "        vertical-align: middle;\n",
       "    }\n",
       "\n",
       "    .dataframe tbody tr th {\n",
       "        vertical-align: top;\n",
       "    }\n",
       "\n",
       "    .dataframe thead th {\n",
       "        text-align: right;\n",
       "    }\n",
       "</style>\n",
       "<table border=\"1\" class=\"dataframe\">\n",
       "  <thead>\n",
       "    <tr style=\"text-align: right;\">\n",
       "      <th></th>\n",
       "      <th>X~B(n,p)</th>\n",
       "      <th>Mean</th>\n",
       "      <th>Variance</th>\n",
       "    </tr>\n",
       "  </thead>\n",
       "  <tbody>\n",
       "    <tr>\n",
       "      <th>0</th>\n",
       "      <td>Bernoulli, B(1, p)</td>\n",
       "      <td>p</td>\n",
       "      <td>p(1-p)</td>\n",
       "    </tr>\n",
       "    <tr>\n",
       "      <th>1</th>\n",
       "      <td>Binomial, B(n, p)</td>\n",
       "      <td>np</td>\n",
       "      <td>np(1-p)</td>\n",
       "    </tr>\n",
       "  </tbody>\n",
       "</table>\n",
       "</div>"
      ],
      "text/plain": [
       "             X~B(n,p) Mean Variance\n",
       "0  Bernoulli, B(1, p)    p   p(1-p)\n",
       "1   Binomial, B(n, p)   np  np(1-p)"
      ]
     },
     "execution_count": 20,
     "metadata": {},
     "output_type": "execute_result"
    }
   ],
   "source": [
    "des = {'X~B(n,p)': ['Bernoulli, B(1, p)', 'Binomial, B(n, p)'],\n",
    "      'Mean': ['p', 'np'], \n",
    "      'Variance': ['p(1-p)', 'np(1-p)']}\n",
    "df = pd.DataFrame(data=des)\n",
    "df"
   ]
  },
  {
   "cell_type": "markdown",
   "metadata": {},
   "source": [
    "#### Example \n",
    "Consider a random variable distributed B(n = 5, p = 0.50):"
   ]
  },
  {
   "cell_type": "code",
   "execution_count": 2,
   "metadata": {},
   "outputs": [
    {
     "data": {
      "text/html": [
       "<div>\n",
       "<style scoped>\n",
       "    .dataframe tbody tr th:only-of-type {\n",
       "        vertical-align: middle;\n",
       "    }\n",
       "\n",
       "    .dataframe tbody tr th {\n",
       "        vertical-align: top;\n",
       "    }\n",
       "\n",
       "    .dataframe thead th {\n",
       "        text-align: right;\n",
       "    }\n",
       "</style>\n",
       "<table border=\"1\" class=\"dataframe\">\n",
       "  <thead>\n",
       "    <tr style=\"text-align: right;\">\n",
       "      <th></th>\n",
       "      <th>Number of Up Moves, x</th>\n",
       "    </tr>\n",
       "  </thead>\n",
       "  <tbody>\n",
       "    <tr>\n",
       "      <th>0</th>\n",
       "      <td>0</td>\n",
       "    </tr>\n",
       "    <tr>\n",
       "      <th>1</th>\n",
       "      <td>1</td>\n",
       "    </tr>\n",
       "    <tr>\n",
       "      <th>2</th>\n",
       "      <td>2</td>\n",
       "    </tr>\n",
       "    <tr>\n",
       "      <th>3</th>\n",
       "      <td>3</td>\n",
       "    </tr>\n",
       "    <tr>\n",
       "      <th>4</th>\n",
       "      <td>4</td>\n",
       "    </tr>\n",
       "    <tr>\n",
       "      <th>5</th>\n",
       "      <td>5</td>\n",
       "    </tr>\n",
       "  </tbody>\n",
       "</table>\n",
       "</div>"
      ],
      "text/plain": [
       "   Number of Up Moves, x\n",
       "0                      0\n",
       "1                      1\n",
       "2                      2\n",
       "3                      3\n",
       "4                      4\n",
       "5                      5"
      ]
     },
     "execution_count": 2,
     "metadata": {},
     "output_type": "execute_result"
    }
   ],
   "source": [
    "data = {'Number of Up Moves, x':[0,1,2,3,4,5]}\n",
    "df = pd.DataFrame(data=data)\n",
    "df"
   ]
  },
  {
   "cell_type": "code",
   "execution_count": 3,
   "metadata": {},
   "outputs": [],
   "source": [
    "# For convenience of calculation, turning the column into a list\n",
    "x = pd.to_numeric(df['Number of Up Moves, x'].to_list())\n",
    "x\n",
    "p = 0.50\n",
    "n = 5"
   ]
  },
  {
   "cell_type": "code",
   "execution_count": 4,
   "metadata": {},
   "outputs": [
    {
     "name": "stdout",
     "output_type": "stream",
     "text": [
      "[1.0, 5.0, 10.0, 10.0, 5.0, 1.0]\n"
     ]
    }
   ],
   "source": [
    "# Counting number of ways to choose X from n\n",
    "results = []\n",
    "numerator = math.factorial(5) # why 5 instead of 6 (i.e., len(x))?\n",
    "\n",
    "for i in x:\n",
    "    denominator = math.factorial(5-i) * math.factorial(i)\n",
    "    result = numerator/denominator\n",
    "    results.append(result)\n",
    "print(results)\n",
    "\n",
    "# Append a column to represent the results\n",
    "df['Number of Possible Ways to Reach x Up Moves'] = results"
   ]
  },
  {
   "cell_type": "code",
   "execution_count": 5,
   "metadata": {},
   "outputs": [],
   "source": [
    "# Calculating P of each way\n",
    "results2 = []\n",
    "for i in x: \n",
    "    result = p**i * (1-p)**(n-i)\n",
    "    results2.append(result)\n",
    "\n",
    "# Append the list to a new column    \n",
    "df['Probability for Each Way'] = results2"
   ]
  },
  {
   "cell_type": "code",
   "execution_count": 6,
   "metadata": {},
   "outputs": [],
   "source": [
    "# Calculating the probability for each value of the number of up moves from the first column (using an alternative approach)\n",
    "df['Probability for x, p(x)'] = df['Number of Possible Ways to Reach x Up Moves'] * (1/sum(results))"
   ]
  },
  {
   "cell_type": "code",
   "execution_count": 7,
   "metadata": {},
   "outputs": [
    {
     "name": "stdout",
     "output_type": "stream",
     "text": [
      "[0.03125]\n",
      "[0.03125, 0.15625]\n",
      "[0.03125, 0.15625, 0.3125]\n",
      "[0.03125, 0.15625, 0.3125, 0.3125]\n",
      "[0.03125, 0.15625, 0.3125, 0.3125, 0.15625]\n",
      "[0.03125, 0.15625, 0.3125, 0.3125, 0.15625, 0.03125]\n"
     ]
    }
   ],
   "source": [
    "# Cumulating the entries in the fourth column, the cumulative distribution function\n",
    "cdf = []\n",
    "pdf = df['Probability for x, p(x)'].to_list()\n",
    "\n",
    "# Calculate the cdf\n",
    "for i in range(len(pdf)):\n",
    "    result3 = pdf[0:i+1]\n",
    "    print(result3)\n",
    "    cdf.append(sum(result3))\n",
    "    \n",
    "# Append the list to a new column\n",
    "df['F(x) = P(X ≤ x)'] = cdf"
   ]
  },
  {
   "cell_type": "code",
   "execution_count": 8,
   "metadata": {
    "scrolled": true
   },
   "outputs": [
    {
     "data": {
      "text/html": [
       "<div>\n",
       "<style scoped>\n",
       "    .dataframe tbody tr th:only-of-type {\n",
       "        vertical-align: middle;\n",
       "    }\n",
       "\n",
       "    .dataframe tbody tr th {\n",
       "        vertical-align: top;\n",
       "    }\n",
       "\n",
       "    .dataframe thead th {\n",
       "        text-align: right;\n",
       "    }\n",
       "</style>\n",
       "<table border=\"1\" class=\"dataframe\">\n",
       "  <thead>\n",
       "    <tr style=\"text-align: right;\">\n",
       "      <th></th>\n",
       "      <th>Number of Up Moves, x</th>\n",
       "      <th>Number of Possible Ways to Reach x Up Moves</th>\n",
       "      <th>Probability for Each Way</th>\n",
       "      <th>Probability for x, p(x)</th>\n",
       "      <th>F(x) = P(X ≤ x)</th>\n",
       "    </tr>\n",
       "  </thead>\n",
       "  <tbody>\n",
       "    <tr>\n",
       "      <th>0</th>\n",
       "      <td>0</td>\n",
       "      <td>1.0</td>\n",
       "      <td>0.03125</td>\n",
       "      <td>0.03125</td>\n",
       "      <td>0.03125</td>\n",
       "    </tr>\n",
       "    <tr>\n",
       "      <th>1</th>\n",
       "      <td>1</td>\n",
       "      <td>5.0</td>\n",
       "      <td>0.03125</td>\n",
       "      <td>0.15625</td>\n",
       "      <td>0.18750</td>\n",
       "    </tr>\n",
       "    <tr>\n",
       "      <th>2</th>\n",
       "      <td>2</td>\n",
       "      <td>10.0</td>\n",
       "      <td>0.03125</td>\n",
       "      <td>0.31250</td>\n",
       "      <td>0.50000</td>\n",
       "    </tr>\n",
       "    <tr>\n",
       "      <th>3</th>\n",
       "      <td>3</td>\n",
       "      <td>10.0</td>\n",
       "      <td>0.03125</td>\n",
       "      <td>0.31250</td>\n",
       "      <td>0.81250</td>\n",
       "    </tr>\n",
       "    <tr>\n",
       "      <th>4</th>\n",
       "      <td>4</td>\n",
       "      <td>5.0</td>\n",
       "      <td>0.03125</td>\n",
       "      <td>0.15625</td>\n",
       "      <td>0.96875</td>\n",
       "    </tr>\n",
       "    <tr>\n",
       "      <th>5</th>\n",
       "      <td>5</td>\n",
       "      <td>1.0</td>\n",
       "      <td>0.03125</td>\n",
       "      <td>0.03125</td>\n",
       "      <td>1.00000</td>\n",
       "    </tr>\n",
       "  </tbody>\n",
       "</table>\n",
       "</div>"
      ],
      "text/plain": [
       "   Number of Up Moves, x  Number of Possible Ways to Reach x Up Moves  \\\n",
       "0                      0                                          1.0   \n",
       "1                      1                                          5.0   \n",
       "2                      2                                         10.0   \n",
       "3                      3                                         10.0   \n",
       "4                      4                                          5.0   \n",
       "5                      5                                          1.0   \n",
       "\n",
       "   Probability for Each Way  Probability for x, p(x)  F(x) = P(X ≤ x)  \n",
       "0                   0.03125                  0.03125          0.03125  \n",
       "1                   0.03125                  0.15625          0.18750  \n",
       "2                   0.03125                  0.31250          0.50000  \n",
       "3                   0.03125                  0.31250          0.81250  \n",
       "4                   0.03125                  0.15625          0.96875  \n",
       "5                   0.03125                  0.03125          1.00000  "
      ]
     },
     "execution_count": 8,
     "metadata": {},
     "output_type": "execute_result"
    }
   ],
   "source": [
    "df"
   ]
  },
  {
   "cell_type": "code",
   "execution_count": 9,
   "metadata": {
    "scrolled": false
   },
   "outputs": [
    {
     "data": {
      "image/png": "[encoded data removed]",
      "text/plain": [
       "<Figure size 432x288 with 1 Axes>"
      ]
     },
     "metadata": {
      "needs_background": "light"
     },
     "output_type": "display_data"
    }
   ],
   "source": [
    "# Observe how the change of p(x) influence the skewness of the curve\n",
    "plt.plot(df['Probability for x, p(x)']);"
   ]
  },
  {
   "cell_type": "markdown",
   "metadata": {},
   "source": [
    "#### Example "
   ]
  },
  {
   "cell_type": "code",
   "execution_count": 10,
   "metadata": {
    "scrolled": true
   },
   "outputs": [
    {
     "data": {
      "text/html": [
       "<div>\n",
       "<style scoped>\n",
       "    .dataframe tbody tr th:only-of-type {\n",
       "        vertical-align: middle;\n",
       "    }\n",
       "\n",
       "    .dataframe tbody tr th {\n",
       "        vertical-align: top;\n",
       "    }\n",
       "\n",
       "    .dataframe thead th {\n",
       "        text-align: right;\n",
       "    }\n",
       "</style>\n",
       "<table border=\"1\" class=\"dataframe\">\n",
       "  <thead>\n",
       "    <tr style=\"text-align: right;\">\n",
       "      <th></th>\n",
       "      <th>Block Brokers</th>\n",
       "      <th>Profitable Trades</th>\n",
       "      <th>Losing Trades</th>\n",
       "    </tr>\n",
       "  </thead>\n",
       "  <tbody>\n",
       "    <tr>\n",
       "      <th>0</th>\n",
       "      <td>BB001</td>\n",
       "      <td>3</td>\n",
       "      <td>9</td>\n",
       "    </tr>\n",
       "    <tr>\n",
       "      <th>1</th>\n",
       "      <td>BB002</td>\n",
       "      <td>5</td>\n",
       "      <td>3</td>\n",
       "    </tr>\n",
       "  </tbody>\n",
       "</table>\n",
       "</div>"
      ],
      "text/plain": [
       "  Block Brokers  Profitable Trades  Losing Trades\n",
       "0         BB001                  3              9\n",
       "1         BB002                  5              3"
      ]
     },
     "execution_count": 10,
     "metadata": {},
     "output_type": "execute_result"
    }
   ],
   "source": [
    "data = {'Block Brokers': ['BB001', 'BB002'], \n",
    "       'Profitable Trades': [3, 5], \n",
    "       'Losing Trades': [9, 3]}\n",
    "df = pd.DataFrame(data=data)\n",
    "df"
   ]
  },
  {
   "cell_type": "markdown",
   "metadata": {},
   "source": [
    "If you are paying a fair price on average in your trades with a broker, what should be the probability of a profitable trade?"
   ]
  },
  {
   "cell_type": "code",
   "execution_count": 11,
   "metadata": {},
   "outputs": [],
   "source": [
    "# "
   ]
  },
  {
   "cell_type": "markdown",
   "metadata": {},
   "source": [
    "Under the assumption that the prices of trades were fair,\n",
    "1. calculate the probability of three or fewer profitable trades with broker BB001.\n",
    "2. calculate the probability of five or more profitable trades with broker BB002."
   ]
  },
  {
   "cell_type": "code",
   "execution_count": 12,
   "metadata": {},
   "outputs": [],
   "source": [
    "# "
   ]
  },
  {
   "cell_type": "markdown",
   "metadata": {},
   "source": [
    "#### Example: using binomial distribution to evaluate the performance of an investment manager<br>\n",
    "\n",
    "Expected to keep portfolio return within a band of 75 basis points (bps) of the benchmark’s return, on a quarterly basis, portfolio return is within the 75 bps band 90 percent of the time.\n",
    "\n",
    "Question: The manager meets the objective in six out of eight quarters. How does the manager’s record precisely relate to your expectation of a 90 percent success rate and the sample size, 8 observations?"
   ]
  },
  {
   "cell_type": "code",
   "execution_count": 13,
   "metadata": {},
   "outputs": [],
   "source": [
    "# List of known variables\n",
    "n = 8\n",
    "p = 0.90"
   ]
  },
  {
   "cell_type": "code",
   "execution_count": 14,
   "metadata": {
    "scrolled": true
   },
   "outputs": [
    {
     "data": {
      "text/html": [
       "<div>\n",
       "<style scoped>\n",
       "    .dataframe tbody tr th:only-of-type {\n",
       "        vertical-align: middle;\n",
       "    }\n",
       "\n",
       "    .dataframe tbody tr th {\n",
       "        vertical-align: top;\n",
       "    }\n",
       "\n",
       "    .dataframe thead th {\n",
       "        text-align: right;\n",
       "    }\n",
       "</style>\n",
       "<table border=\"1\" class=\"dataframe\">\n",
       "  <thead>\n",
       "    <tr style=\"text-align: right;\">\n",
       "      <th></th>\n",
       "      <th>Number of Success (&gt;=75 bps)</th>\n",
       "    </tr>\n",
       "  </thead>\n",
       "  <tbody>\n",
       "    <tr>\n",
       "      <th>0</th>\n",
       "      <td>0</td>\n",
       "    </tr>\n",
       "    <tr>\n",
       "      <th>1</th>\n",
       "      <td>1</td>\n",
       "    </tr>\n",
       "    <tr>\n",
       "      <th>2</th>\n",
       "      <td>2</td>\n",
       "    </tr>\n",
       "    <tr>\n",
       "      <th>3</th>\n",
       "      <td>3</td>\n",
       "    </tr>\n",
       "    <tr>\n",
       "      <th>4</th>\n",
       "      <td>4</td>\n",
       "    </tr>\n",
       "    <tr>\n",
       "      <th>5</th>\n",
       "      <td>5</td>\n",
       "    </tr>\n",
       "    <tr>\n",
       "      <th>6</th>\n",
       "      <td>6</td>\n",
       "    </tr>\n",
       "    <tr>\n",
       "      <th>7</th>\n",
       "      <td>7</td>\n",
       "    </tr>\n",
       "    <tr>\n",
       "      <th>8</th>\n",
       "      <td>8</td>\n",
       "    </tr>\n",
       "  </tbody>\n",
       "</table>\n",
       "</div>"
      ],
      "text/plain": [
       "   Number of Success (>=75 bps)\n",
       "0                             0\n",
       "1                             1\n",
       "2                             2\n",
       "3                             3\n",
       "4                             4\n",
       "5                             5\n",
       "6                             6\n",
       "7                             7\n",
       "8                             8"
      ]
     },
     "execution_count": 14,
     "metadata": {},
     "output_type": "execute_result"
    }
   ],
   "source": [
    "# find the probability that, given an assumed true or underlying success rate of 90 percent, performance could be as bad as or worse than that delivered.\n",
    "data = {'Number of Success (>=75 bps)':[0,1,2,3,4,5,6,7,8]}\n",
    "df = pd.DataFrame(data=data)\n",
    "df"
   ]
  },
  {
   "cell_type": "code",
   "execution_count": 15,
   "metadata": {},
   "outputs": [
    {
     "name": "stdout",
     "output_type": "stream",
     "text": [
      "[1.0, 8.0, 28.0, 56.0, 70.0, 56.0, 28.0, 8.0, 1.0]\n"
     ]
    }
   ],
   "source": [
    "results = []\n",
    "numerator = math.factorial(n) \n",
    "x = df['Number of Success (>=75 bps)'].to_list()\n",
    "# Counting the number of ways to reach the corresponding sucesses\n",
    "for i in x:\n",
    "    denominator = math.factorial(n-i) * math.factorial(i)\n",
    "    result = numerator/denominator\n",
    "    results.append(result)\n",
    "print(results)\n",
    "\n",
    "# Append a column to represent the results\n",
    "df['Number of Possible Ways to Reach x'] = results"
   ]
  },
  {
   "cell_type": "code",
   "execution_count": 16,
   "metadata": {},
   "outputs": [],
   "source": [
    "# Probability of each way \n",
    "results = []\n",
    "for i in x:\n",
    "    p_x = p**i\n",
    "    p_y = (1-p)**(n-i)\n",
    "    result = p_x * p_y\n",
    "    results.append(result)\n",
    "df['Probability for Each Way'] = results"
   ]
  },
  {
   "cell_type": "code",
   "execution_count": 17,
   "metadata": {},
   "outputs": [],
   "source": [
    "# \n",
    "df['Probability for x, p(x)'] = df['Number of Possible Ways to Reach x'] * df['Probability for Each Way']"
   ]
  },
  {
   "cell_type": "code",
   "execution_count": 18,
   "metadata": {
    "scrolled": true
   },
   "outputs": [
    {
     "data": {
      "text/html": [
       "<div>\n",
       "<style scoped>\n",
       "    .dataframe tbody tr th:only-of-type {\n",
       "        vertical-align: middle;\n",
       "    }\n",
       "\n",
       "    .dataframe tbody tr th {\n",
       "        vertical-align: top;\n",
       "    }\n",
       "\n",
       "    .dataframe thead th {\n",
       "        text-align: right;\n",
       "    }\n",
       "</style>\n",
       "<table border=\"1\" class=\"dataframe\">\n",
       "  <thead>\n",
       "    <tr style=\"text-align: right;\">\n",
       "      <th></th>\n",
       "      <th>Number of Success (&gt;=75 bps)</th>\n",
       "      <th>Number of Possible Ways to Reach x</th>\n",
       "      <th>Probability for Each Way</th>\n",
       "      <th>Probability for x, p(x)</th>\n",
       "    </tr>\n",
       "  </thead>\n",
       "  <tbody>\n",
       "    <tr>\n",
       "      <th>0</th>\n",
       "      <td>0</td>\n",
       "      <td>1.0</td>\n",
       "      <td>1.000000e-08</td>\n",
       "      <td>1.000000e-08</td>\n",
       "    </tr>\n",
       "    <tr>\n",
       "      <th>1</th>\n",
       "      <td>1</td>\n",
       "      <td>8.0</td>\n",
       "      <td>9.000000e-08</td>\n",
       "      <td>7.200000e-07</td>\n",
       "    </tr>\n",
       "    <tr>\n",
       "      <th>2</th>\n",
       "      <td>2</td>\n",
       "      <td>28.0</td>\n",
       "      <td>8.100000e-07</td>\n",
       "      <td>2.268000e-05</td>\n",
       "    </tr>\n",
       "    <tr>\n",
       "      <th>3</th>\n",
       "      <td>3</td>\n",
       "      <td>56.0</td>\n",
       "      <td>7.290000e-06</td>\n",
       "      <td>4.082400e-04</td>\n",
       "    </tr>\n",
       "    <tr>\n",
       "      <th>4</th>\n",
       "      <td>4</td>\n",
       "      <td>70.0</td>\n",
       "      <td>6.561000e-05</td>\n",
       "      <td>4.592700e-03</td>\n",
       "    </tr>\n",
       "    <tr>\n",
       "      <th>5</th>\n",
       "      <td>5</td>\n",
       "      <td>56.0</td>\n",
       "      <td>5.904900e-04</td>\n",
       "      <td>3.306744e-02</td>\n",
       "    </tr>\n",
       "    <tr>\n",
       "      <th>6</th>\n",
       "      <td>6</td>\n",
       "      <td>28.0</td>\n",
       "      <td>5.314410e-03</td>\n",
       "      <td>1.488035e-01</td>\n",
       "    </tr>\n",
       "    <tr>\n",
       "      <th>7</th>\n",
       "      <td>7</td>\n",
       "      <td>8.0</td>\n",
       "      <td>4.782969e-02</td>\n",
       "      <td>3.826375e-01</td>\n",
       "    </tr>\n",
       "    <tr>\n",
       "      <th>8</th>\n",
       "      <td>8</td>\n",
       "      <td>1.0</td>\n",
       "      <td>4.304672e-01</td>\n",
       "      <td>4.304672e-01</td>\n",
       "    </tr>\n",
       "  </tbody>\n",
       "</table>\n",
       "</div>"
      ],
      "text/plain": [
       "   Number of Success (>=75 bps)  Number of Possible Ways to Reach x  \\\n",
       "0                             0                                 1.0   \n",
       "1                             1                                 8.0   \n",
       "2                             2                                28.0   \n",
       "3                             3                                56.0   \n",
       "4                             4                                70.0   \n",
       "5                             5                                56.0   \n",
       "6                             6                                28.0   \n",
       "7                             7                                 8.0   \n",
       "8                             8                                 1.0   \n",
       "\n",
       "   Probability for Each Way  Probability for x, p(x)  \n",
       "0              1.000000e-08             1.000000e-08  \n",
       "1              9.000000e-08             7.200000e-07  \n",
       "2              8.100000e-07             2.268000e-05  \n",
       "3              7.290000e-06             4.082400e-04  \n",
       "4              6.561000e-05             4.592700e-03  \n",
       "5              5.904900e-04             3.306744e-02  \n",
       "6              5.314410e-03             1.488035e-01  \n",
       "7              4.782969e-02             3.826375e-01  \n",
       "8              4.304672e-01             4.304672e-01  "
      ]
     },
     "execution_count": 18,
     "metadata": {},
     "output_type": "execute_result"
    }
   ],
   "source": [
    "df"
   ]
  },
  {
   "cell_type": "code",
   "execution_count": 19,
   "metadata": {},
   "outputs": [
    {
     "name": "stdout",
     "output_type": "stream",
     "text": [
      "0.18689526999999992\n",
      "There is a moderate 18.7 percent probability that the manager would show the record he did (or a worse record) if he had the skill to meet your expectations 90 percent of the time.\n"
     ]
    }
   ],
   "source": [
    "# Solving for P(x>0.75), i.e. number of success of 6\n",
    "cdf = df['Probability for x, p(x)'].to_list()\n",
    "print(sum(cdf[0:7]))\n",
    "print('There is a moderate 18.7 percent probability that the manager would show the record he did (or a worse record) if he had the skill to meet your expectations 90 percent of the time.')"
   ]
  },
  {
   "cell_type": "markdown",
   "metadata": {},
   "source": [
    "*Note: You can use other evaluation concepts such as tracking error or tracking risk, defined as the standard deviation of return differences between a portfolio and its benchmark, to assess the manager’s performance.*"
   ]
  },
  {
   "cell_type": "markdown",
   "metadata": {},
   "source": [
    "## Continuous Random Variables\n",
    "Use cases: \n",
    "- modern portfolio theory \n",
    "- risk management technologies\n",
    "- an approximate model for returns\n",
    "\n",
    "### Continuous Uniform Distribution\n",
    "For a continuous uniform random variable between a and b,\n",
    "\\begin{equation}\n",
    "  f(x) =\n",
    "   \\begin{cases}\n",
    "      \\frac{1}{b−a} & \\text{for a<x<b}\\\\\n",
    "      0 & \\text{otherwise}\n",
    "   \\end{cases}       \n",
    "\\end{equation}\n",
    "\n",
    "and \n",
    "\n",
    "\\begin{equation}\n",
    "  f(x) =\n",
    "   \\begin{cases}\n",
    "      0 & \\text{for $x\\le a$}\\\\\n",
    "      \\frac{x-a}{b-a} & \\text{for a<x<b}\\\\\n",
    "      1 & \\text{for $x \\geqslant b$}\n",
    "   \\end{cases}       \n",
    "\\end{equation}\n",
    "\n",
    "For a continuous distribution, the probability of any fixed value is zero because there is an infinite number of outcomes.\n",
    "### The Normal Distribution \n",
    "The normal distribution is popular for quantitative work. This is partly because of the `central limit theorem` – the sum of a large number of independent random variables is approximately normally distributed.\n",
    "\n",
    "**Characteristics**: \n",
    "- The normal distribution can be completely described by two parameters – mean ($μ$) and variance ($σ^2$). Defined as $X∼N(μ,σ^2)$ *(read “X follows a normal distribution with mean $μ$ and variance $σ^2$”)*. \n",
    "- It is symmetric (skewness = 0) and has a **kurtosis of 3**. \n",
    "- The mean, median, and mode are all the same. \n",
    "- Also, a linear combination of two or more normal random variables is (also) normally distributed.\n",
    "\n",
    "#### Multivariate Distribution\n",
    "A multivariate normal distribution for the returns on $n$ stocks is completely defined by three lists of parameters:\n",
    "- the list of the mean returns on the individual securities (n means in total);\n",
    "- the list of the securities’ variances of return (n variances in total); and\n",
    "- the list of all the distinct pairwise return correlations: n(n − 1)/2 distinct correlations in total.\n",
    "\n",
    "**In order to specify the normal distribution for portfolio return, we need the means, variances, and the distinct pairwise correlations of the component securities.**\n",
    "\n",
    "$$f(x)=\\frac{1}{σ\\sqrt{2π}}exp\\big(\\frac{−(x−μ)^2}{2σ^2}\\big)\\ \\ \\  for−∞<x<+∞$$\n",
    "<div style=\"text-align: right\"> Equation 3 </div>\n",
    "\n",
    "The normal density with $μ = 0$ and $σ = 1$ is called the `standard normal distribution` (or `unit normal distribution`). \n",
    "##### Normal Distribution as an Approximate Model for Returns\n",
    "The normal distribution is used to model many security returns. However, the fit is not good for distributions with fat tails (i.e., high kurtosis) or asymmetry. \n",
    "- The normal distribution is a closer fit for quarterly and yearly holding period returns on a diversified equity portfolio than it is for daily or weekly returns.\n",
    "- Normal distribution tends to underestimate the probability of extreme returns. (Since actual return distribution is more fat-tailed).\n",
    "- Option returns are skewed. Cautious in using the normal distribution to model the returns on portfolios containing **significant positions in options**.\n",
    "- The normal distribution is not appropriate for asset prices with a `floor` of zero, even though it is a reasonable fit for asset returns.\n",
    "\n",
    "Having established that the normal distribution is the appropriate model for a variable of interest, we can use it to make the following probability statements:\n",
    "- Approx. 50\\% of all observations fall in the interval μ ± (2/3)σ.\n",
    "- Approx. 68% of all observations fall in the interval μ ± σ.\n",
    "- Approx. 95% of all observations fall in the interval μ ± 2σ.\n",
    "- Approx. 99% of all observations fall in the interval μ ± 3σ.\n",
    "\n",
    "In most cases, the population mean and standard deviation must be estimated from samples. This creates an unlimited number of normal distributions.\n",
    "#### Standardizing a Random Variable\n",
    "It is often useful to standardize the normal random variable $X$ by subtracting the mean and dividing by the standard deviation. This results in a `standard normal random variable` $Z$ that is normally distributed with a mean of 0 and a standard deviation of 1.\n",
    "\n",
    "If we have $X$ ~ $N(μ,σ^2)$ (read “$X$ follows the normal distribution with parameters $μ$ and $σ^2$”), we standardize it using the formula\n",
    "\n",
    "$$Z = \\frac{(X – μ)}{σ}$$\n",
    "<div style=\"text-align: right\"> Equation 4 </div>\n",
    "\n",
    "Tables can be used to determine `cumulative normal distribution` values for $Z$ (i.e., $P(Z≤x)=N(x)$) (`z-score`), N(x) is a conventional notation for the cdf of a standard normal variable (from the z-score table):\n",
    "\n",
    "$$N(−x)=P(Z≥x)=1−N(x)$$\n",
    "$$N(x)=P(Z≤x)=P(Z≥−x)$$\n",
    "\n",
    "Some of the most frequently used values are:\n",
    "- The 90th percentile point is 1.282\n",
    "- The 95th percentile point is 1.650\n",
    "- The 99th percentile point is 2.327\n",
    "\n",
    "The probability that we will observe a value as small as or smaller than 9.5 for $X ~ N(5,1.5)$ is exactly the same as the probability that we will observe a value as small as or smaller than 3 for $Z ~ N(0,1)$. We can answer all probability questions about X using standardized values and probability tables for Z.\n",
    "\n",
    "\\[Revisit Example 8\\]\n",
    "### Applications of the Normal Distribution\n",
    "`Mean–variance analysis` generally considers risk symmetrically in the sense that standard deviation captures variability both above and below the mean. An alternative approach evaluates only `downside risk`. \n",
    "#### Shortfall Risk and Selecting an Optimal Portfolio Using Roy’s Safety-first Criterion\n",
    "`Safety-first rules` focus on `shortfall risk`, the risk that portfolio value will fall below some minimum acceptable level (over some time horizon).\n",
    "\n",
    "$$SFRatio = \\frac{[E(R_P) – R_L]}{σ_P}$$\n",
    "\n",
    "The quantity $E(R_P) − R_L$ is the distance from the mean return to the shortfall level. Dividing this distance by $σ_P$ gives the distance in units of standard deviation.\n",
    "\n",
    "For a portfolio with a given safety-first ratio, the probability that its return will be less than $R_L$ is $N(−SFRatio)$, and the `safety-first optimal portfolio` has the lowest such probability:\n",
    "\n",
    "$$P(R_P<R_L)=N(−SFRatio)$$\n",
    "\n",
    "The SFRatio is just the `Sharpe ratio` with $R_L$ substituted for $R_F$.\n",
    "\n",
    "[Table of the Standard Normal Cumulative Distribution Function](https://courses.cs.washington.edu/courses/cse312/18sp/sections/08/phi_table.pdf)\n",
    "\n",
    "Risk at financial institutions is often measured with `stress testing` and `Value at Risk (VaR)`:\n",
    "- Stress testing uses very unfavorable events or scenarios (`scenario analysis`) to manage the risk. \n",
    "- VaR measures the `minimum` losses expected over a specified time period at a given probability.\n",
    "\n",
    "### Lognormal Distribution and Continuous Compounding\n",
    "The `lognormal distribution` is also widely used in financial modeling, including by the `Black-Scholes-Merton model`. If a random variable $Y$ follows a lognormal distribution, then $ln(Y)$ is normally distributed. The lognormal distribution is bounded below by $0$ and is skewed to the right. This makes it a good choice for asset prices.\n",
    "- Mean ($μ_L$) of a lognormal random variable = \n",
    "$$exp(μ + 0.50σ^2)=e^{μ+0.5σ^2}$$\n",
    "\n",
    "- Variance ($σ_L^2$) of a lognormal random variable = \n",
    "$$exp(2μ + σ^2) × [exp(σ^2) − 1]=e^{2μ+σ^2}\\Big(e^{σ^2}−1\\Big)$$\n",
    "\n",
    "where $μ$ and $σ^2$ are the mean and variance of the associated normal distribution.\n",
    "#### Relationship between the Distribution of Stock Return and Stock Price \n",
    "(theoretical foundation for using the lognormal distribution to model prices)\n",
    "- if a stock’s continuously compounded return is normally distributed, then the future stock price is necessarily lognormally distributed. \n",
    "- stock price may be well described by the lognormal distribution even when continuously compounded returns do not follow a normal distribution. \n",
    "\n",
    "#### Price Relative\n",
    "The `price relative`, is an ending price over a beginning price; it is equal to 1 plus the holding period return on the stock from $t = 0$ to $t = 1$:\n",
    "\n",
    "$$\\frac{S_1}{S_0} = 1 + R_{0,1}$$\n",
    "\n",
    "$$\\frac{S_{t+1}}{S_t} = 1 + R_{t,t+1}$$ \n",
    "\n",
    "where $R_{t,t+1}$ is the rate of return from $t$ to $t + 1$.\n",
    "#### Continuously Compounded Return\n",
    "The continuously compounded return associated with a holding period is the natural logarithm of 1 plus that holding period return, or equivalently, the natural logarithm of the ending price over the beginning price (the price relative).\n",
    "\n",
    "The `continuously compounded return` from $t$ to $t + 1$ is\n",
    "\n",
    "$$r_{t,t+1} = ln\\Big(\\frac{S_{t+1}}{S_t}\\Big) = ln(1 + R_{t,t+1})$$\n",
    "<div style=\"text-align: right\"> Equation 5 </div>\n",
    "\n",
    "The continuously compounded return is smaller than the associated `holding period return`. \n",
    "\n",
    "Continuously compounded return to time $T$ is the sum of the one-period continuously compounded returns:\n",
    "\n",
    "$$r_{0,T} = r_{T–1,T} + r_{T–2,T–1} + …r_{0,1}$$\n",
    "<div style=\"text-align: right\"> Equation 6 </div>\n",
    "\n",
    "Then, the continuously compounded return to the investment horizon $T$ is \n",
    "\n",
    "$$r_{0,T}=ln\\Big(\\frac{S_T}{S_0}\\Big)$$\n",
    "\n",
    "This implies \n",
    "\n",
    "$$S_T=S_0e^{r_{0,T}}$$\n",
    "\n",
    "#### Relation between the Mean and Variance of Continuously Compounded Returns Associated with Different Time Horizons\n",
    "A key assumption in many investment applications is that returns are **`independently and identically distributed (IID)`**. Independence captures the proposition that investors cannot predict future returns using past returns (i.e., weak-form market efficiency). Identical distribution captures the assumption of stationarity.\n",
    "\n",
    "Assume that the one-period continuously compounded returns (such as $r_{0,1}$) are IID random variables with mean $μ$ and variance $σ^2$ (but making no normality or other distributional assumption). Then\n",
    "\n",
    "(Assuming the period returns are independently and identically distributed yields the following:)\n",
    "\n",
    "$$E(r_{0,T}) = E(r_{T–1,T}) + E(r_{T–2,T–1}) + … + E(r_{0,1}) = μT$$\n",
    "<div style=\"text-align: right\"> Equation 7 </div>\n",
    "\n",
    "(we add up $μ$ for a total of $T$ times) and\n",
    "\n",
    "$$σ^2(r_{0,T}) = σ^2T$$  \n",
    "<div style=\"text-align: right\"> Equation 8 </div>\n",
    "\n",
    "This is true even if the individual time period returns are not normally distributed.\n",
    "\n",
    "we can model future stock price $S_{T}$ as a lognormal random variable because $r_{0,T}$ should be at least approximately normal. \n",
    "\n",
    "$$S_T = S_0exp(r_{0,T}) $$\n",
    "#### Volatility\n",
    "Volatility is the standard deviation of the continuously compounded returns on the underlying asset.\n",
    "\n",
    "In practice, we very often estimate volatility using a historical series of continuously compounded daily returns. We gather a set of daily holding period returns and then use Equation 5 to convert them into continuously compounded daily returns. We then compute the standard deviation of the continuously compounded daily returns and annualize that number using Equation 8."
   ]
  },
  {
   "cell_type": "markdown",
   "metadata": {},
   "source": [
    "**Example**\n",
    "Suppose an investor views any return below a level of $R_L$ as unacceptable. Roy’s safety-first criterion states that the optimal portfolio minimizes the probability that portfolio return, $R_P$, falls below the threshold level, $R_L$. In symbols, the investor’s objective is to choose a portfolio that minimizes $P(R_P < R_L)$.\n",
    "\n",
    "When portfolio returns are normally distributed, we can calculate $P(R_P < R_L)$ using the number of standard deviations that $R_L$ lies below the expected portfolio return, $E(R_P)$. The portfolio for which $E(R_P) − R_L$ is largest relative to standard deviation minimizes $P(R_P < R_L)$. Therefore, if returns are normally distributed, the safety-first optimal portfolio maximizes the safety-first ratio (SFRatio)."
   ]
  },
  {
   "cell_type": "markdown",
   "metadata": {},
   "source": [
    "**Example**"
   ]
  },
  {
   "cell_type": "code",
   "execution_count": 22,
   "metadata": {},
   "outputs": [
    {
     "data": {
      "text/html": [
       "<div>\n",
       "<style scoped>\n",
       "    .dataframe tbody tr th:only-of-type {\n",
       "        vertical-align: middle;\n",
       "    }\n",
       "\n",
       "    .dataframe tbody tr th {\n",
       "        vertical-align: top;\n",
       "    }\n",
       "\n",
       "    .dataframe thead th {\n",
       "        text-align: right;\n",
       "    }\n",
       "</style>\n",
       "<table border=\"1\" class=\"dataframe\">\n",
       "  <thead>\n",
       "    <tr style=\"text-align: right;\">\n",
       "      <th></th>\n",
       "      <th>Mean and Std (%)</th>\n",
       "      <th>A</th>\n",
       "      <th>B</th>\n",
       "      <th>C</th>\n",
       "    </tr>\n",
       "  </thead>\n",
       "  <tbody>\n",
       "    <tr>\n",
       "      <th>0</th>\n",
       "      <td>Expected annual return</td>\n",
       "      <td>25</td>\n",
       "      <td>11</td>\n",
       "      <td>14</td>\n",
       "    </tr>\n",
       "    <tr>\n",
       "      <th>1</th>\n",
       "      <td>Standard deviation of return</td>\n",
       "      <td>27</td>\n",
       "      <td>8</td>\n",
       "      <td>20</td>\n",
       "    </tr>\n",
       "  </tbody>\n",
       "</table>\n",
       "</div>"
      ],
      "text/plain": [
       "               Mean and Std (%)   A   B   C\n",
       "0        Expected annual return  25  11  14\n",
       "1  Standard deviation of return  27   8  20"
      ]
     },
     "execution_count": 22,
     "metadata": {},
     "output_type": "execute_result"
    }
   ],
   "source": [
    "data = {'Mean and Std (%)':['Expected annual return', 'Standard deviation of return'], \n",
    "       'A':[25, 27], \n",
    "       'B':[11, 8], \n",
    "       'C':[14, 20]}\n",
    "df = pd.DataFrame(data=data)\n",
    "df"
   ]
  },
  {
   "cell_type": "code",
   "execution_count": 23,
   "metadata": {},
   "outputs": [],
   "source": [
    "# Known variables\n",
    "principal = 800000 \n",
    "min_goal = 30000"
   ]
  },
  {
   "cell_type": "code",
   "execution_count": 24,
   "metadata": {
    "scrolled": true
   },
   "outputs": [
    {
     "data": {
      "text/plain": [
       "3.749995312505859"
      ]
     },
     "execution_count": 24,
     "metadata": {},
     "output_type": "execute_result"
    }
   ],
   "source": [
    "# Solving for the R_L shortfall level \n",
    "rl = 100* (min_goal / (principal + 1)) # min_goal = rl * (principal + 1)\n",
    "rl"
   ]
  },
  {
   "cell_type": "code",
   "execution_count": 25,
   "metadata": {},
   "outputs": [
    {
     "name": "stdout",
     "output_type": "stream",
     "text": [
      "0.7870372106479311 0.9062505859367675 0.512500234374707\n"
     ]
    }
   ],
   "source": [
    "# Comparing the SFRatio of the three allocations \n",
    "sf_a = (df['A'][0] - rl) / df['A'][1]\n",
    "sf_b = (df['B'][0] - rl) / df['B'][1]\n",
    "sf_c = (df['C'][0] - rl) / df['C'][1]\n",
    "print(sf_a, sf_b, sf_c)"
   ]
  },
  {
   "cell_type": "code",
   "execution_count": 26,
   "metadata": {},
   "outputs": [
    {
     "data": {
      "text/plain": [
       "0.1824016168069592"
      ]
     },
     "execution_count": 26,
     "metadata": {},
     "output_type": "execute_result"
    }
   ],
   "source": [
    "# Allocation B's probability of lower than R_L returns: N(−SFRatio)\n",
    "#N(−0.91) = 1 − N(0.91) = 1 − 0.8186 = 0.1814 \n",
    "1 - norm.cdf(0.9062505859367675)"
   ]
  },
  {
   "cell_type": "markdown",
   "metadata": {},
   "source": [
    "**Example: estimation of volatility**"
   ]
  },
  {
   "cell_type": "code",
   "execution_count": 28,
   "metadata": {},
   "outputs": [
    {
     "data": {
      "text/html": [
       "<div>\n",
       "<style scoped>\n",
       "    .dataframe tbody tr th:only-of-type {\n",
       "        vertical-align: middle;\n",
       "    }\n",
       "\n",
       "    .dataframe tbody tr th {\n",
       "        vertical-align: top;\n",
       "    }\n",
       "\n",
       "    .dataframe thead th {\n",
       "        text-align: right;\n",
       "    }\n",
       "</style>\n",
       "<table border=\"1\" class=\"dataframe\">\n",
       "  <thead>\n",
       "    <tr style=\"text-align: right;\">\n",
       "      <th></th>\n",
       "      <th>Day</th>\n",
       "      <th>Closing Price (IDR)</th>\n",
       "    </tr>\n",
       "  </thead>\n",
       "  <tbody>\n",
       "    <tr>\n",
       "      <th>0</th>\n",
       "      <td>Monday</td>\n",
       "      <td>6.95</td>\n",
       "    </tr>\n",
       "    <tr>\n",
       "      <th>1</th>\n",
       "      <td>Tuesday</td>\n",
       "      <td>7.00</td>\n",
       "    </tr>\n",
       "    <tr>\n",
       "      <th>2</th>\n",
       "      <td>Wednesday</td>\n",
       "      <td>6.85</td>\n",
       "    </tr>\n",
       "    <tr>\n",
       "      <th>3</th>\n",
       "      <td>Thursday</td>\n",
       "      <td>6.60</td>\n",
       "    </tr>\n",
       "    <tr>\n",
       "      <th>4</th>\n",
       "      <td>Friday</td>\n",
       "      <td>6.35</td>\n",
       "    </tr>\n",
       "  </tbody>\n",
       "</table>\n",
       "</div>"
      ],
      "text/plain": [
       "         Day  Closing Price (IDR)\n",
       "0     Monday                 6.95\n",
       "1    Tuesday                 7.00\n",
       "2  Wednesday                 6.85\n",
       "3   Thursday                 6.60\n",
       "4     Friday                 6.35"
      ]
     },
     "execution_count": 28,
     "metadata": {},
     "output_type": "execute_result"
    }
   ],
   "source": [
    "data = {'Day':['Monday', 'Tuesday', 'Wednesday', 'Thursday', 'Friday'], \n",
    "       'Closing Price (IDR)':[6.950, 7.000, 6.850, 6.600, 6.350]}\n",
    "df = pd.DataFrame(data=data)\n",
    "df"
   ]
  },
  {
   "cell_type": "code",
   "execution_count": 29,
   "metadata": {},
   "outputs": [],
   "source": [
    "# Estimate the volatility of Astra shares. (Annualize volatility based on 250 days in a year.)\n"
   ]
  },
  {
   "cell_type": "code",
   "execution_count": 30,
   "metadata": {},
   "outputs": [],
   "source": [
    "# Identify the probability distribution for Astra share prices if continuously compounded daily returns follow the normal distribution.\n"
   ]
  },
  {
   "cell_type": "markdown",
   "metadata": {},
   "source": [
    "## Monte Carlo Simulation\n",
    "Monte Carlo simulation uses computers to generate many random samples from a specified probability distribution. (An approach to estimating a probability distribution of outcomes to examine **what might happen if particular risks are faced**.) \n",
    "- it provides only statistical estimates, not exact results. \n",
    "- generates a large number of random samples from a specified probability distribution or distributions to represent the role of risk in the system.\n",
    "- requires the identification of risk factors associated with the problem and specify probability distributions for them. \n",
    "\n",
    "Steps of Monte Carlo simulation:\n",
    "1. Specify the quantities of interest in terms of underlying variables.\n",
    "2. Split the time horizon into subperiods.\n",
    "3. Specify the distributional assumptions for the underlying risk factors.\n",
    "4. Use a computer program to draw K random values of each risk factor.\n",
    "5. Calculate the underlying variables based on the random values drawn.\n",
    "6. Compute the quantities of interest.\n",
    "7. Repeat steps 4 to 6 for N trials. The Monte Carlo estimate is the mean quantity of interest over the N trials.\n",
    "\n",
    "### Application Examples\n",
    "- valuing complex securities (e.g. securities with embedded options)\n",
    "- planning\n",
    "- develop estimates of VaR\n",
    "\n",
    "### Comparison/Alternatives\n",
    "A drawback of this approach is that any risk not represented in the time period selected (for example, a stock market crash) will not be reflected in the simulation.\n",
    "\n",
    "`Historical simulation` (or `back simulation`) is an alternative to Monte Carlo simulation. It assumes the past applies to the future. However, unlike the Monte Carlo method, historical simulation does not let itself to \"what if\" analyses because it only reflects the tendencies that appear in the data.\n",
    "\n",
    "`Analytical methods`, such as the Black-Scholes-Merton model provide more `cause-and-effect analysis` than the Monte Carlo method, which provides probability-based estimates rather than exact results."
   ]
  },
  {
   "cell_type": "markdown",
   "metadata": {},
   "source": [
    "# Sampling and Estimation\n",
    "## Sampling\n",
    "    During the exam, you are expected to know the common values for a standard normal distribution (i.e., 85%, 90%, 95%, 97.5%, and 99%). However, if a question requires information from any other distribution table, the relevant portion of the table will be provided with the question.\n",
    "### Simple Random Sampling \n",
    "A sampling plan is needed to set the rules used to select a sample. In a simple random sample, each population element has an equal probability of being selected. It is also often called just a random sample.\n",
    "\n",
    "Simple random sampling requires randomness. This could be done by assigning each member of the population a random number and using a computer program or table of random digits to choose the members.\n",
    "\n",
    "Another approach is `systematic sampling`. This method chooses every $k_{th}$ member until the desired sample size is reached.\n",
    "\n",
    "- The `sampling error` is the difference between the `sample statistic` and the `population parameter` (e.g., the sample mean and the population mean). \n",
    "- The `sampling distribution` of a statistic is the distribution of all statistic values calculated from the same sample size from the same population.\n",
    "\n",
    "### Stratified Random Sampling\n",
    "In a `stratified random sampling`, the population is first divided into subgroups (strata) based on some criteria. Simple random samples are drawn from each subgroup in proportion to the subgroup's relative size to the entire population. This method results in less variance than estimates derived from simple random sampling.\n",
    "\n",
    "Stratified sampling is commonly used to create portfolios that are meant to track a `bond index`. \n",
    "1. First, the entire population of bonds in the index is divided into subgroups based on factors such as maturity, sector, credit quality, etc. \n",
    "2. The manager then selects a sampling of bonds from within each subgroup.\n",
    "\n",
    "### Time-Series and Cross-Sectional Data\n",
    "Assumptions: the sampled returns come from the same population. It is important that the data come from the same population. For time-series data, this means the time period should not be too long because fundamental changes could have occurred (e.g., economic recession). \n",
    "\n",
    "Cross-sectional data are data on certain characteristics of individuals or groups at a single point in time (e.g., year-end P/E ratios for all S&P 500 companies). Assumptions: we must be sure that all the data do come from the same underlying population. (for example, analysts often summarize company-level data by industry). \n",
    "### Distribution of the Sample Mean\n",
    "The `sample mean` is a random variable with a probability distribution called the statistic's sampling distribution.\n",
    "\n",
    "**The `Central Limit Theorem`**: Given a population described by any probability distribution having mean $μ$ and **finite** variance $σ^2$, the sampling distribution of the sample mean $\\bar{X}$ computed from samples of size $n$ from this population will be approximately normal with mean $μ$ (the population mean) and variance $\\frac{σ^2}{n}$ (the population variance divided by $n$) when the sample size $n$ is large (usually greater than 30).\n",
    "\n",
    "**The `Standard Error of the Sample Mean (SEM)`**: For sample mean $\\bar{X}$ calculated from a sample generated by a population with standard deviation $σ$, the standard error of the sample mean is given by one of two expressions:\n",
    "\n",
    "$$σ\\bar{X}=\\frac{σ}{\\sqrt{n}}$$\n",
    "<div style=\"text-align: right\"> Equation 1 </div>\n",
    "\n",
    "- when we know $σ$, the population standard deviation, or by\n",
    "\n",
    "$$s\\bar{X}=\\frac{s}{\\sqrt{n}}$$\n",
    "<div style=\"text-align: right\"> Equation 2 </div>\n",
    "\n",
    "- when we do not know the population standard deviation and need to use the sample standard deviation, $s$, to estimate it.\n",
    "\n",
    "In practice, we almost always need to use Equation 2. The estimate of $s$ is given by the square root of the sample variance, $s^2$, calculated as $s^2=\\frac{\\sum_{i=1}^n{(Xi−\\bar{X})^2}}{n−1}$\n",
    "<div style=\"text-align: right\"> Equation 3 </div>\n",
    "\n",
    "To summarize, according to the central limit theorem, when we sample from any distribution, the distribution of the sample mean will have the following properties as long as our sample size is large:\n",
    "- The distribution of the sample mean $\\bar{X}$ will be approximately normal.\n",
    "- The mean of the distribution of $\\bar{X}$ will be equal to the mean of the population $\\mu$ from which the samples are drawn.\n",
    "- The variance of the distribution of $\\bar{X}$ will be equal to the variance $\\sigma^2$ of the population divided by the sample size."
   ]
  },
  {
   "cell_type": "markdown",
   "metadata": {},
   "source": [
    "## Point and Interval Estimates of the Population Mean\n",
    "The two branches of `statistical inference` are `estimation` and `hypothesis testing`. \n",
    "- Estimation seeks to find the value of the parameter.\n",
    "- Hypothesis testing seeks to find if the value of a parameter equals some specific value. \n",
    "\n",
    "### Point Estimators\n",
    "Estimators are the formulas used to calculate the sample statistics. Estimates are the particular values derived from these estimators.\n",
    "- **Unbiased** estimators' expected value (the mean of its sampling distribution) equals the parameter it is intended to estimate.\n",
    "- **Efficient unbiased** estimators have the smallest sampling distribution variance for a given sample size. Repeated samples will generate results that are tightly grouped around the parameter.\n",
    "- **Consistent** estimators get closer to the population parameter's value as the sample size increases.\n",
    "\n",
    "### Confidence Intervals\n",
    "A point estimate is unlikely to exactly equal the population parameter due to sampling error. An `interval estimate` is often more appropriate.\n",
    "\n",
    "A `confidence interval` is a range for which one can assert with a given probability $1 − α$, (called the `degree of confidence`), where α is the `significance level`, that it will contain the parameter it is intended to estimate. This interval is often referred to as the `$100(1 − α)\\%$ confidence interval for the parameter`. \n",
    "\n",
    "    For example, using a 5% significance level creates a 95% confidence interval around the sample mean. We can be 95% confident that the population mean falls somewhere in this interval.\n",
    "#### Construction of Confidence Intervals\n",
    "A $100(1−α)\\%$ confidence interval is calculated by:\n",
    "\n",
    "$$Point\\ estimate ± Reliability\\ factor \\times Standard\\ error$$\n",
    "\n",
    "where\n",
    "\n",
    "`Point estimate` = a point estimate of the parameter (a value of a sample statistic)\n",
    "\n",
    "`Reliability factor` = a number based on the assumed distribution of the point estimate and the degree of confidence (1 − α) for the confidence interval\n",
    "\n",
    "`Standard error` = the standard error of the sample statistic providing the point estimate\n",
    "\n",
    "$z_α$ denotes the point of the standard normal distribution such that $α$ of the probability remains in the right tail.\n",
    "\n",
    "*Note: The reliability factor in this case is based on the standard normal distribution, which has a mean of 0 and a variance of 1*\n",
    "##### Confidence Interval with Known Population Variance\n",
    "A $100(1 − α)\\%$ confidence interval for population mean $μ$ when we are sampling from a normal distribution with known variance $σ^2$ is given by\n",
    "\n",
    "$$\\bar{X}±z_{\\frac{α}{2}}\\times \\frac{σ}{\\sqrt{n}}$$\n",
    "<div style=\"text-align: right\"> Equation 4</div>\n",
    "\n",
    "This produces a confidence interval with upper and lower bounds with a total of $α$ probability that the population mean is outside the confidence interval. $z_{\\frac{α}{2}}$ is used because $\\frac{α}{2}$ represents what percent would be in each tail.\n",
    "\n",
    "    For example, a 95% confidence interval uses the 1.96 reliability factor for z_{0.025} because there is a 2.5% probability that the population mean is greater than the upper bound and a 2.5% probability that it is less than the lower bound. Other commonly used reliability factors include z_{0.05}=1.65 for a 90% confidence interval and z_{0.005}=2.58 for a 99% confidence interval.\n",
    "##### Confidence Interval with Unknown Population Variance  (the z-Alternative)\n",
    "A $100(1 − α)\\%$ confidence interval for population mean $μ$ when sampling from any distribution with unknown variance and when sample size is large is given by\n",
    "\n",
    "$$\\bar{X}±z_{\\frac{α}{2}}\\times \\frac{s}{\\sqrt{n}}$$\n",
    "<div style=\"text-align: right\"> Equation 5</div>\n",
    "\n",
    "Reliability Factors for Confidence Intervals Based on the Standard Normal Distribution. We use the following reliability factors when we construct confidence intervals based on the standard normal distribution:\n",
    "- 90 percent confidence intervals: Use $z_{0.05}$ = 1.65\n",
    "- 95 percent confidence intervals: Use $z_{0.025}$ = 1.96\n",
    "- 99 percent confidence intervals: Use $z_{0.005}$ = 2.58\n",
    "\n",
    "##### Confidence Interval with the Population Mean (Population Variance Unknown) (the t-Distribution)\n",
    "It is more appropriate and conservative to use the `t-distribution` for confidence intervals when the population variance is unknown. This is valid even when the **sample size is small**. Since it is more conservative (i.e., the reliability factor is bigger), the confidence interval will be wider.\n",
    "\n",
    "The t-distribution is based on/defined by the `degrees of freedom (df)`. Degrees of freedom relates to the number of independent observations. Since the sample mean must be determined before calculating the sample variance, there are really only $n−1$ independent observations. **If you know $n−1$ observations and the sample mean, then the $n_{th}$ observation can be determined. That is why you must divide by $n−1$ rather than $n$ when calculating the sample variance.** \n",
    "\n",
    "**As the degrees of freedom increase, the t-distribution approaches the standard normal distribution.**\n",
    "\n",
    "If we are sampling from a population with unknown variance and either of the conditions below holds:\n",
    "- the sample is large, or\n",
    "- the sample is small, but the population is normally distributed, or approximately normally distributed,\n",
    "\n",
    "then a $100(1 − α)\\%$ confidence interval for the population mean $μ$ can be given by\n",
    "\n",
    "$$\\bar{X}±t_{\\frac{α}{2}}\\times \\frac{s}{\\sqrt{n}}$$\n",
    "<div style=\"text-align: right\"> Equation 6 </div>\n",
    "\n",
    "where the degrees of freedom for $t_{\\frac{α}{2}}$ is $n − 1$, $n$ is the sample size.\n",
    "### Selection of Sample Size\n",
    "The reliability factor depends on the chosen statistic ($t$ or $z$) and the chosen degree of confidence. The sample size also affects the width of the confidence interval. Larger sample sizes decrease the width because the sample standard deviation is divided by the square root of $n$.\n",
    "\n",
    "While increasing the sample size improves precision, it is not always recommended. First, it increases the chance of sampling from more than one population. Second, larger samples are more expensive."
   ]
  },
  {
   "cell_type": "code",
   "execution_count": 16,
   "metadata": {},
   "outputs": [
    {
     "data": {
      "text/html": [
       "<div>\n",
       "<style scoped>\n",
       "    .dataframe tbody tr th:only-of-type {\n",
       "        vertical-align: middle;\n",
       "    }\n",
       "\n",
       "    .dataframe tbody tr th {\n",
       "        vertical-align: top;\n",
       "    }\n",
       "\n",
       "    .dataframe thead th {\n",
       "        text-align: right;\n",
       "    }\n",
       "</style>\n",
       "<table border=\"1\" class=\"dataframe\">\n",
       "  <thead>\n",
       "    <tr style=\"text-align: right;\">\n",
       "      <th></th>\n",
       "      <th>Population</th>\n",
       "    </tr>\n",
       "  </thead>\n",
       "  <tbody>\n",
       "    <tr>\n",
       "      <th>0</th>\n",
       "      <td>Normally</td>\n",
       "    </tr>\n",
       "    <tr>\n",
       "      <th>1</th>\n",
       "      <td>Distributed?\\tPopulation</td>\n",
       "    </tr>\n",
       "    <tr>\n",
       "      <th>2</th>\n",
       "      <td>Known</td>\n",
       "    </tr>\n",
       "    <tr>\n",
       "      <th>3</th>\n",
       "      <td>Variance?\\tSmall Sample\\tLarge Sample</td>\n",
       "    </tr>\n",
       "    <tr>\n",
       "      <th>4</th>\n",
       "      <td>Yes\\tYes\\tz\\tz</td>\n",
       "    </tr>\n",
       "    <tr>\n",
       "      <th>5</th>\n",
       "      <td>Yes\\tNo\\tt\\tt or z</td>\n",
       "    </tr>\n",
       "    <tr>\n",
       "      <th>6</th>\n",
       "      <td>No\\tYes\\tNot Available\\tz</td>\n",
       "    </tr>\n",
       "    <tr>\n",
       "      <th>7</th>\n",
       "      <td>No\\tNo\\tNot Available\\tt or z</td>\n",
       "    </tr>\n",
       "  </tbody>\n",
       "</table>\n",
       "</div>"
      ],
      "text/plain": [
       "                              Population\n",
       "0                               Normally\n",
       "1               Distributed?\\tPopulation\n",
       "2                                  Known\n",
       "3  Variance?\\tSmall Sample\\tLarge Sample\n",
       "4                         Yes\\tYes\\tz\\tz\n",
       "5                     Yes\\tNo\\tt\\tt or z\n",
       "6              No\\tYes\\tNot Available\\tz\n",
       "7          No\\tNo\\tNot Available\\tt or z"
      ]
     },
     "execution_count": 16,
     "metadata": {},
     "output_type": "execute_result"
    }
   ],
   "source": [
    "# The following table summarizes which reliability factor to use for various scenarios.\n",
    "df = pd.read_csv('reliability_factors.csv', delimiter='\\t')\n",
    "df"
   ]
  },
  {
   "cell_type": "code",
   "execution_count": 31,
   "metadata": {
    "scrolled": true
   },
   "outputs": [
    {
     "name": "stdout",
     "output_type": "stream",
     "text": [
      "The interval 0.401 and 0.499 includes the population mean is with 90% confidence.\n"
     ]
    }
   ],
   "source": [
    "# Calculate and interpret the 90 percent confidence interval for the population mean of all US equity mutual funds\n",
    "sample_size = 100\n",
    "s = 0.30\n",
    "mean = 0.45 # avg. Sharpe ratio\n",
    "\n",
    "# Step 1. Finding the reliability factor for 90% confidence interval. (Note that Z0.05 = 1.65)\n",
    "z_005 = 1.65\n",
    "\n",
    "# Step 2. Implementing equation 5\n",
    "lower = mean - z_005 * (s / sample_size**0.5)\n",
    "higher = mean + z_005 * (s / sample_size**0.5)\n",
    "\n",
    "#print('The confidence that the population mean falls between interval', str(round(lower, 2)), 'and', str(round(higher, 2)), 'is 90%.')\n",
    "print('The interval',str(round(lower, 3)), 'and', str(round(higher, 3)), 'includes the population mean is with 90% confidence.')"
   ]
  },
  {
   "cell_type": "code",
   "execution_count": 32,
   "metadata": {},
   "outputs": [],
   "source": [
    "# Example 6\n"
   ]
  },
  {
   "cell_type": "markdown",
   "metadata": {},
   "source": [
    "## More on Sampling\n",
    "### Data-Mining Bias \n",
    "Ronald Coase, \"If you torture the data long enough, it will confess.\"\n",
    "\n",
    "Data mining relates to overuse of the same or related data.\n",
    "- **`Out-of-Sample Test`** is a test of a strategy or model using a sample outside the time period on which the strategy or model was developed. If a relationship is genuine, it should be found in other datasets. Ultimately, a model is only successful if it works in the future.\n",
    "- **Intergenerational data mining** involves using information developed by previous researchers using a dataset to guide current research using the same or a related dataset.\n",
    "\n",
    "### Sample Selection Bias\n",
    "When data availability leads to certain assets being excluded from the analysis. \n",
    "- `survivorship bias` sometimes appears when we use both stock price and accounting data. For example, many studies have shown the stocks of companies with low price-to-book ratios tend to outperform in future periods. This could be because companies that fail are excluded from the studies.\n",
    "- A sample can also be biased because of the removal (or `delisting`) of a company’s stock from an exchange.\n",
    "\n",
    "Newer asset classes such as hedge funds may present even greater problems of sample selection bias. \n",
    "### Look-Ahead Bias\n",
    "`Look-ahead bias` occurs if the information is used that would not have been available on the test data. For example, accounting information such as book value will not be available for some time after the end of the period.\n",
    "### Time-Period Bias\n",
    "A test design is subject to time-period bias if it is based on a time period that may make the results time-period specific.\n",
    "\n",
    "Ideally, an analyst should test market anomalies over several business cycles to ensure that results are not period specific. This bias can favor a proposed strategy if the time period chosen was favorable to the strategy."
   ]
  },
  {
   "cell_type": "markdown",
   "metadata": {},
   "source": [
    "# Hypothesis Testing\n",
    "    During the exam, you are expected to know the common values for a standard normal distribution (i.e., 85%, 90%, 95%, 97.5%, and 99%). However, if a question requires information from any other distribution table, the relevant portion of the table will be provided with the question.\n",
    "    \n",
    "Use cases: \n",
    "- Is the underlying mean return on this mutual fund different from the underlying mean return on its benchmark?\n",
    "- Did the volatility of returns on this stock change after the stock was added to a stock market index?\n",
    "- Are a security’s bid-ask spreads related to the number of dealers making a market in the security?\n",
    "- Do data from a national bond market support a prediction of an economic theory about the term structure of interest rates (the relationship between yield and maturity)?\n",
    "\n",
    "## Introduction\n",
    "Two hypotheses are always stated: \n",
    "- the `null hypothesis`, $H_0$\n",
    "- the `alternative hypothesis`, $H_a$\n",
    "\n",
    "- The null hypothesis is assumed true until tests prove otherwise. \n",
    "- The alternative hypothesis is only accepted if there is sufficient evidence to reject the null hypothesis.\n",
    "\n",
    "### Sequence of Hypothesis Testing\n",
    "1. State the hypothesis.\n",
    "- Identify the appropriate `test statistic` and its probability distribution.\n",
    "- Specify the significance level.\n",
    "- State the decision rule.\n",
    "- Collect data and calculate the test statistic.\n",
    "- Make a `statistical decision`.\n",
    "- Make an `economic decision`.\n",
    "\n",
    "### Stating the Hypotheses\n",
    "The choice of null and alternative hypotheses should be based on the `hoped-for condition`. For example, if an analyst is attempting to show that the mean annual return on European equities has exceeded 8%:\n",
    "- the null hypothesis ($H_0$) should be that the mean return is less than 8%. \n",
    "- the alternative hypothesis ($H_a$) should only be accepted if statistical tests provide sufficient evidence that the mean return is greater than 8%.\n",
    "\n",
    "#### Two-Sided/Two-Tailed Hypothesis Test (Equal/Not Equal to) \n",
    "The null hypothesis is that the population parameter is \"equal to\" a certain value. The alternative hypothesis is that it is \"not equal to\" this value.\n",
    "\n",
    "$$H_0: θ = θ_0 \\ versus\\ H_a: θ ≠ θ_0$$\n",
    "#### One-Sided/One-Tail Hypothesis Test (Greater/Smaller Than)\n",
    "$$H_0: θ ≤ θ_0 \\ versus \\ H_a: θ > θ_0$$\n",
    "\n",
    "$$H_0: θ ≥ θ_0 \\ versus \\ H_a: θ < θ_0$$\n",
    "### Test Statistic and Its Probability Distribution\n",
    "A `test statistic` is a quantity, calculated based on a sample, whose value is the basis for deciding whether or not to reject the null hypothesis.\n",
    "\n",
    "The distribution for the test statistic is assumed to be one of the following:\n",
    "- `t-distribution` (for a t-test)\n",
    "- Standard normal or `z-distribution` (for a z-test)\n",
    "- `Chi-square (χ2)` distribution\n",
    "- `F-distribution` (for an F-test)\n",
    "\n",
    "$$Test\\ statistic=\\frac{Sample\\ statistic−Value\\ of\\ the\\ population\\ parameter\\ under\\ H_0}{Standard\\ error\\ of\\ the\\ sample\\ statistic}$$\n",
    "<div style=\"text-align: right\"> Equation 1 </div>\n",
    "E.g. the test statistic will be calculated by:\n",
    "$\\frac{\\bar{X_{RP}}−\\mu_{0}}{s\\bar{X}}=\\frac{\\bar{X_{RP}}−0}{s/\\sqrt{n}} = \\frac{\\bar{X_{RP}}}{s\\bar{X}}$\n",
    "\n",
    "For a sample mean, $\\bar{X}$, calculated from a sample generated by a population with standard deviation $\\sigma$, the standard error is given by one of two expressions:\n",
    "\n",
    "$\\sigma\\bar{X}=\\frac{\\sigma}{\\sqrt{n}}$\n",
    "<div style=\"text-align: right\"> Equation 2 </div>\n",
    "\n",
    "(when we know $σ$ (the population standard deviation), or)\n",
    "\n",
    "$s\\bar{X}=\\frac{s}{\\sqrt{n}}$\n",
    "<div style=\"text-align: right\"> Equation 3 </div>\n",
    "\n",
    "(when we do not know the population standard deviation $\\mu$ and need to use the sample standard deviation $s$ to estimate it.)\n",
    "\n",
    "The null hypothesis can be rejected or not rejected after the test statistic has been calculated. The decision is based on a comparison that assumes a specific significance level, which establishes how much evidence is required to reject the null hypothesis. The table below summarizes the four possible outcomes.\n",
    "\n",
    "### Significance Level\n",
    "The `level of significance` reflects how much sample evidence we require to reject the null. It is the probability of incorrectly rejecting the null ($\\alpha$).\n",
    "\n",
    "The **`power of a test`** is the probability of correctly rejecting the null—that is, the probability of rejecting the null when it is false.\n",
    "\n",
    "$$power = 1- β$$.\n",
    "\n",
    "The probability of a Type I error in testing a hypothesis, denoted by $α$. Conventional significance levels to conduct hypothesis tests are: \n",
    "- 0.10 (we have some evidence that the null hypothesis is false)\n",
    "- 0.05 (we have strong evidence that the null hypothesis is false)\n",
    "- 0.01 (we have very strong statistical evidence that the null hypothesis is false) <br>\n",
    "\n",
    "The probability of a Type II error is $β$. Reducing the probability of a Type I error by decreasing α will increase the probability of a Type II error.\n",
    "### Stating the Decision Rule (Rejection Point)\n",
    "When we test the null hypothesis, if we find that the calculated value of the test statistic is more extreme than a given value or values determined by the specified level of significance, $α$, we reject the null hypothesis. We say the result is statistically significant. Otherwise, we do not reject the null hypothesis and we say the result is not statistically significant. \n",
    "\n",
    "A `rejection point` (`critical value`) for a test statistic is a value with which the computed test statistic is compared to decide whether to reject or not reject the null hypothesis. In a graph, notice the area in the rejection regions correspond to the significance level.\n",
    "\n",
    "1. one-tailed test\n",
    "rejection points are indicated using the symbol for the test statistic with a subscript indicating the specified probability of a Type I error, $α$; \n",
    "  - For the one-sided test $H_0:θ≤θ_0$, the critical value is $z_α$.\n",
    "  - For the one-sided test $H_0:θ≥θ_0$, the critical value is $−z_α$.\n",
    "2. two-tailed test<br>\n",
    "For a two-sided test $H_0:θ=θ_0$, two rejection points exist. If using the z-distribution, the values would correspond to $±z_{\\frac{α}{2}}$. \n",
    "\n",
    "#### Relationship between Confidence Interval and Hypothesis Testing\n",
    "A two-sided test at an $α$ significance level is the same as a $(1−α)$ confidence interval. If the test statistic falls outside the confidence interval, then reject the null hypothesis.\n",
    "- If the hypothesized population mean, $μ_0$, is less than the lower limit of the $95\\%$ confidence interval based on the sample mean, we must reject the null hypothesis at the $5\\%$ significance level (the test statistic falls in the rejection region to the right).\n",
    "- If the hypothesized population mean is larger than the upper limit of the 95% confidence interval, we reject the null hypothesis at the $5\\%$ level (the test statistic falls in the rejection region to the left). \n",
    "\n",
    "### P-Value (Alternative Approach to Hypothesis Testing)\n",
    "The `p-value` is the smallest level of significance at which the null hypothesis can be rejected. Analysts and researchers often report the p-value (also called the marginal significance level) associated with hypothesis tests.\n",
    "\n",
    "We can use p-values in the hypothesis testing framework presented above as an alternative to using rejection points. **The smaller the p-value, the stronger the evidence in rejecting the null hypothesis.**\n",
    "- If the p-value is less than our specified level of significance, we reject the null hypothesis. \n",
    "- Otherwise, we do not reject the null hypothesis. \n",
    "\n",
    "### Making the Economic or Investment Decision\n",
    "Statistical significance does not necessarily imply economic significance. For example, small differences in portfolio returns can be statistically significant, but transaction costs and other fees could prevent successful implementation.\n",
    "- statistical decision (from step six)\n",
    "- all pertinent economic issues\n",
    "- nonstatistical considerations: such as investors' risk tolerance and financial position"
   ]
  },
  {
   "cell_type": "markdown",
   "metadata": {},
   "source": [
    "**Step One Example**: risk premium hypothesis\n",
    "$H_0: \\mu_{RP} \\leq 0\\ \\ population\\ mean\\ risk\\ premium\\ for\\ US\\ equities (\\mu_{RP})\\ is\\ less\\ than\\ or\\ equal\\ to\\ zero$\n",
    "$H_a:\t\\mu_{RP} > 0\\ \\ The\\ population\\ mean\\ risk\\ premium\\ on\\ US\\ stocks\\ is\\ positive.$"
   ]
  },
  {
   "cell_type": "markdown",
   "metadata": {},
   "source": [
    "**Example** Assume we can conduct a z-test based on the central limit theorem because our US sample has many observations. We can conduct a z-test because we can plausibly assume that the test statistic follows a standard normal distribution. (TBC)"
   ]
  },
  {
   "cell_type": "code",
   "execution_count": 33,
   "metadata": {},
   "outputs": [],
   "source": [
    "# Example Step 3: specifying the significance level\n",
    "alpha = 0.05"
   ]
  },
  {
   "cell_type": "code",
   "execution_count": 34,
   "metadata": {
    "scrolled": true
   },
   "outputs": [
    {
     "data": {
      "image/png": "[encoded data removed]",
      "text/plain": [
       "<IPython.core.display.Image object>"
      ]
     },
     "execution_count": 34,
     "metadata": {
      "image/png": {
       "height": 100,
       "width": 450
      }
     },
     "output_type": "execute_result"
    }
   ],
   "source": [
    "Image(filename='CFA0129-R-EXH2.png', width = 450, height = 100) "
   ]
  },
  {
   "cell_type": "markdown",
   "metadata": {},
   "source": [
    "**Example** Since it's one-tailed, the rejection point will be indicated by $z_{0.05}$, as assumed the test statistic follows a standard normal z-distribution, it can be found that $z_{0.5}$ is 1.645. We reject the null hypothesis if $z > 1.645$. The value of the standard normal distribution such that 5 percent of the outcomes lie to the right is $z_{0.05} = 1.645$. (Let $z$ represent the calculated value of the test statistic.)"
   ]
  },
  {
   "cell_type": "code",
   "execution_count": 35,
   "metadata": {},
   "outputs": [],
   "source": [
    "# Step 4\n",
    "rej_point = 1.645"
   ]
  },
  {
   "cell_type": "markdown",
   "metadata": {},
   "source": [
    "**Example**<br>\n",
    "Note that the arithmetic mean equity risk premium for US stocks relative to bill returns, $\\bar{X}_{RP}$ was 7.5%, the sample standard deviation was 19.5%. In order to calculate the test statistic: <br>"
   ]
  },
  {
   "cell_type": "code",
   "execution_count": 36,
   "metadata": {},
   "outputs": [
    {
     "name": "stdout",
     "output_type": "stream",
     "text": [
      "0.017951205049017305 4.177992496615468\n"
     ]
    }
   ],
   "source": [
    "# Step 5. Know that\n",
    "mean = 0.075 \n",
    "std = 0.195\n",
    "n = 118\n",
    "# Calculate the standard error of the sample mean\n",
    "sesm = std / n**0.5\n",
    "# Calculate the test statistic \n",
    "t_stat = (mean - 0) / sesm\n",
    "print(sesm, t_stat)"
   ]
  },
  {
   "cell_type": "code",
   "execution_count": 37,
   "metadata": {},
   "outputs": [
    {
     "name": "stdout",
     "output_type": "stream",
     "text": [
      "We reject the null hypothesis in favor of the alternative hypothesis that the risk premium on US stocks is positive.\n"
     ]
    }
   ],
   "source": [
    "# Example step 6\n",
    "if t_stat > rej_point: \n",
    "    print('We reject the null hypothesis in favor of the alternative hypothesis that the risk premium on US stocks is positive.')\n",
    "else: \n",
    "    print('Fail to reject the null hypothesis')"
   ]
  },
  {
   "cell_type": "code",
   "execution_count": 38,
   "metadata": {},
   "outputs": [
    {
     "data": {
      "text/plain": [
       "1.4704667741120198e-05"
      ]
     },
     "execution_count": 38,
     "metadata": {},
     "output_type": "execute_result"
    }
   ],
   "source": [
    "# Using Scipy to obtain the p_value (TBC)\n",
    "p_value = scipy.stats.norm.sf(abs(t_stat)) # z-score\n",
    "p_value # Correct answer is 0.000015"
   ]
  },
  {
   "cell_type": "code",
   "execution_count": 39,
   "metadata": {},
   "outputs": [],
   "source": [
    "#scipy.stats.t.ppf(1-0.05, 117)"
   ]
  },
  {
   "cell_type": "markdown",
   "metadata": {},
   "source": [
    "**Example** In the sixth step, we found strong statistical evidence that the US risk premium is positive. The magnitude of the estimated risk premium, 7.5 percent a year, is economically very meaningful as well. Based on these considerations, an investor might decide to commit funds to US equities."
   ]
  },
  {
   "cell_type": "markdown",
   "metadata": {},
   "source": [
    "## Hypothesis Tests Concerning the Mean\n",
    "### Tests Concerning a Single Mean (T-Test, Z-Test)\n",
    "#### T-Test\n",
    "A `t-test` is a hypothesis test using a statistic (t-statistic) that follows a t-distribution. The t-distribution:\n",
    "- is a probability distribution defined by a **single parameter**, degrees of freedom (df). \n",
    "- is more spread out: It has a $\\sigma > 1$ and more probability for outcomes distant from the mean (it has fatter tails) than the standard normal distribution (z-test). \n",
    "- As the number of df increases with sample size, the spread decreases and the t-distribution approaches the standard normal distribution as a limit.\n",
    "\n",
    "For hypothesis tests concerning the population mean of a normally distributed population with **unknown variance $\\sigma^2$**, and if the population sampled has *unknown variance* and either of the conditions below holds:\n",
    "- the sample is large (>=30), or\n",
    "- the sample is small but the population sampled is normally distributed, or approximately normally distributed,\n",
    "then the test statistic for hypothesis tests concerning a single population mean, $μ$, is\n",
    "\n",
    "$$t_{n−1}=\\frac{\\bar{X}−μ_0}{s/\\sqrt{n}}$$\n",
    "<div style=\"text-align: right\"> Equation 4</div>\n",
    "\n",
    "where\n",
    "\n",
    "$t_{n−1}$ = t-statistic with $n − 1$ degrees of freedom ($n$ is the sample size)\n",
    "\n",
    "$\\bar{X}$ = the sample mean\n",
    "\n",
    "$μ_0$ = the hypothesized value of the population mean\n",
    "\n",
    "$s$ = the sample standard deviation\n",
    "\n",
    "The denominator of the t-statistic is an estimate of the sample mean standard error, $s\\bar{X}=\\frac{s}{\\sqrt{n}}$\n",
    "#### Z-Test\n",
    "Practically speaking, the two tests are similar since the t-distribution approaches the z-distribution as $n$ gets large. \n",
    "\n",
    "1. If the population sampled is normally distributed with **known variance $σ^2$**, then the test statistic for a hypothesis test concerning a single population mean, $\\mu$, is\n",
    "\n",
    "$$z=\\frac{\\bar{X}−μ_0}{\\sigma/\\sqrt{n}}$$\n",
    "<div style=\"text-align: right\"> Equation 5</div>\n",
    "\n",
    "2. If the population sampled has **unknown variance $s^2$** and the sample is large, in place of a t-test, an alternative test statistic (relying on the central limit theorem) is\n",
    "\n",
    "$$z=\\frac{\\bar{X}−μ_0}{s/\\sqrt{n}}$$\n",
    "<div style=\"text-align: right\"> Equation 6</div>\n",
    "\n",
    "where\n",
    "\n",
    "$\\sigma$ = the known population standard deviation\n",
    "\n",
    "$s$ = the sample standard deviation\n",
    "\n",
    "$μ_0$ = the hypothesized value of the population mean\n",
    "\n",
    "The following rejection points are commonly used for a z-test.\n",
    "- $z_{0.005}=2.575$\n",
    "- $z_{0.01}=2.33$\n",
    "- $z_{0.025}=1.96$\n",
    "- $z_{0.05}=1.645$\n",
    "- $z_{0.10}=1.28$\n",
    "\n",
    "### Differences Between Means (with Independent Samples)\n",
    "#### When Variances are Assumed Euqal\n",
    "When we can assume that the two populations are normally distributed and that the unknown population variances are equal, a `t-test` based on `independent random samples` is given by\n",
    "\n",
    "$$t=\\frac{(\\bar{X_1}−\\bar{X_2})−(μ_1−μ_2)}{\\displaystyle\\sqrt{(\\frac{s^2_p}{n_1}+\\frac{s^2_p}{n_2})}}$$\n",
    "<div style=\"text-align: right\"> Equation 7</div>\n",
    "\n",
    "where  \n",
    "- $s^2_p=\\frac{(n_1−1)s^2_1+(n_2−1)s^2_2}{n_1+n_2−2}$, (a pooled estimator of the common variance), \n",
    "- $df = n_1 + n_2 − 2$.\n",
    "\n",
    "#### When Variances are not Assumed Equal\n",
    "When we can assume that the two populations are normally distributed but do not know the population variances and cannot assume that they are equal, an `approximate t-test` based on independent random samples is given by\n",
    "\n",
    "$$t=\\frac{(\\bar{X_1}−\\bar{X_2})−(μ_1−μ_2)}{\\displaystyle\\sqrt{(\\frac{s^2_1}{n_1}+\\frac{s^2_2}{n_2})}}$$\n",
    "<div style=\"text-align: right\"> Equation 8</div>\n",
    "\n",
    "where we use tables of the t-distribution using `“modified” degrees of freedom` computed with the formula\n",
    "$$ df=\\frac{(\\frac{s^2_1}{n_1}+\\frac{s^2_2}{n_2})^2}{\\frac{(\\frac{s^2_1}{n_1})^2}{n_1}+\\frac{(\\frac{s^2_2}{n_2})^2}{n2}}$$\n",
    "<div style=\"text-align: right\"> Equation 9</div>\n",
    "\n",
    "### Differences Between Means (with Dependent Samples) (Paired Comparison T-Test)\n",
    "The prior tests were only valid if the samples were unrelated to each other (i.e., independent). Another method must be used if the independence assumption is not valid.\n",
    "\n",
    "`Paired Observations` refer to observations that are dependent on each other. *(For example, the monthly returns of two funds over the same time period are likely related due to common market factors. A paired comparison test is a statistical test for differences in dependent items.)*\n",
    "\n",
    "**By calculating a standard error based on differences, the t-test presented below takes account of correlation between the observations.**\n",
    "\n",
    "The difference between two random variables taken from dependent samples, denoted di, is calculated. Then, the list of differences is statistically analyzed.\n",
    "\n",
    "Assume $μ_d$ and $μ_{d0}$ represent the observed and hypothesized population mean difference, respectively. The hypotheses are normally formulated in the following manner:\n",
    "- $H_0:μ_d=μ_{d0}$ versus $H_a:μ_d≠μ_{d0}$\n",
    "- $H_0:μ_d≤μ_{d0}$ versus $H_a:μ_d>μ_{d0}$\n",
    "- $H_0:μ_d≥μ_{d0}$ versus $H_a:μ_d<μ_{d0}$\n",
    "\n",
    "For normally distributed populations with unknown population variances, the test statistic is:\n",
    "1. Step 1 Find the **sample mean difference**\n",
    "$$\\bar{d}=\\frac{1}{n}\\sum_{i=1}^n{d_i}$$\n",
    "<div style=\"text-align: right\"> Equation 10</div>\n",
    "where $n$ = number of pairs of observations. \n",
    "\n",
    "2. Step 2 The sample variance, denoted by $s^2_d$, is\n",
    "$$s^2_d=\\frac{\\sum_{i=1}^n{(d_i−\\bar{d})^2}}{n−1}$$\n",
    "<div style=\"text-align: right\"> Equation 11</div>\n",
    "\n",
    "3. Step 3 `Standard error of the mean difference` using the sample standard deviation, $sd$\n",
    "\n",
    "$$s_{\\bar{d}}=\\frac{s_d}{\\sqrt{n}}$$\n",
    "<div style=\"text-align: right\"> Equation 12</div>\n",
    "\n",
    "4. Step 5\n",
    "$$t=\\frac{\\bar{d}−μ_{d_0}}{s\\bar{d}}$$\n",
    "<div style=\"text-align: right\"> Equation 13</div>\n",
    "\n",
    "where $df =n − 1$, \n",
    "\n",
    "$n$ = number of paired observations,\n",
    "\n",
    "$\\bar{d}$ = sample mean difference (as given by Equation 10),\n",
    "\n",
    "$s_{\\bar{d}}$ = standard error of $\\bar{d}$ (as given by Equation 12).\n",
    "\n",
    "Use cases: \n",
    "- the dividend policy of companies before and after a change in the tax law affecting the taxation of dividends. We then have pairs of “before” and “after” observations for the same companies.\n",
    "- whether the mean returns earned by two investment strategies were equal over a study period. The observations here are dependent in the sense that there is one observation for each strategy in each month, and both observations depend on underlying market risk factors. Because the returns to both strategies are likely to be related to some common risk factors, such as the market return, the samples are dependent. "
   ]
  },
  {
   "cell_type": "markdown",
   "metadata": {},
   "source": [
    "**Example**\n",
    "If the level of confidence is 0.10 with 24 samples, in a two-tailed test, the test statistic will be:\n",
    "$t_{\\frac{\\alpha}{2}, 23}$"
   ]
  },
  {
   "cell_type": "code",
   "execution_count": 40,
   "metadata": {
    "scrolled": true
   },
   "outputs": [
    {
     "data": {
      "text/plain": [
       "1.6765508919142629"
      ]
     },
     "execution_count": 40,
     "metadata": {},
     "output_type": "execute_result"
    }
   ],
   "source": [
    "# Finding the t score at 0.05 level of confidence with 50-1 degree of freedom \n",
    "scipy.stats.t.ppf(1-0.05, 49)"
   ]
  },
  {
   "cell_type": "code",
   "execution_count": 41,
   "metadata": {},
   "outputs": [
    {
     "data": {
      "text/plain": [
       "2.4048917596601207"
      ]
     },
     "execution_count": 41,
     "metadata": {},
     "output_type": "execute_result"
    }
   ],
   "source": [
    "# Finding the t score at 0.01 level of confidence with 50-1 degree of freedom \n",
    "scipy.stats.t.ppf(1-0.01, 49)"
   ]
  },
  {
   "cell_type": "code",
   "execution_count": 42,
   "metadata": {},
   "outputs": [],
   "source": [
    "# Example 4, 5"
   ]
  },
  {
   "cell_type": "markdown",
   "metadata": {},
   "source": [
    "**Example**<br>\n",
    "Quarterly returns for a six-year period for two managed portfolios specializing in precious metals. we want to test the hypothesis that the mean quarterly return on Portfolio A equaled the mean quarterly return on Portfolio B during the six-year period. "
   ]
  },
  {
   "cell_type": "code",
   "execution_count": 43,
   "metadata": {},
   "outputs": [],
   "source": [
    "# Read in the data\n",
    "df = pd.read_csv('metal_prices.csv', delimiter='\\t')"
   ]
  },
  {
   "cell_type": "code",
   "execution_count": 45,
   "metadata": {
    "scrolled": true
   },
   "outputs": [],
   "source": [
    "# Change Quarter column into index\n",
    "df.set_index('Quarter', inplace=True)"
   ]
  },
  {
   "cell_type": "code",
   "execution_count": 46,
   "metadata": {},
   "outputs": [],
   "source": [
    "# Deleting first row as it's obsolete \n",
    "df = df.iloc[1:]"
   ]
  },
  {
   "cell_type": "code",
   "execution_count": 60,
   "metadata": {},
   "outputs": [],
   "source": [
    "# Data cleanning\n",
    "df['Portfolio A (%)'] = df['Portfolio A (%)'].str.replace('−', '-')\n",
    "df['Portfolio B (%)'] = df['Portfolio B (%)'].str.replace('−', '-')\n",
    "df['Difference'] = df['Difference'].str.replace('−', '-')\n",
    "df = df.astype(float)"
   ]
  },
  {
   "cell_type": "code",
   "execution_count": 64,
   "metadata": {},
   "outputs": [
    {
     "data": {
      "text/html": [
       "<div>\n",
       "<style scoped>\n",
       "    .dataframe tbody tr th:only-of-type {\n",
       "        vertical-align: middle;\n",
       "    }\n",
       "\n",
       "    .dataframe tbody tr th {\n",
       "        vertical-align: top;\n",
       "    }\n",
       "\n",
       "    .dataframe thead th {\n",
       "        text-align: right;\n",
       "    }\n",
       "</style>\n",
       "<table border=\"1\" class=\"dataframe\">\n",
       "  <thead>\n",
       "    <tr style=\"text-align: right;\">\n",
       "      <th></th>\n",
       "      <th>Portfolio A (%)</th>\n",
       "      <th>Portfolio B (%)</th>\n",
       "      <th>Difference</th>\n",
       "    </tr>\n",
       "    <tr>\n",
       "      <th>Quarter</th>\n",
       "      <th></th>\n",
       "      <th></th>\n",
       "      <th></th>\n",
       "    </tr>\n",
       "  </thead>\n",
       "  <tbody>\n",
       "    <tr>\n",
       "      <th>4Q:Year 6</th>\n",
       "      <td>11.40</td>\n",
       "      <td>14.64</td>\n",
       "      <td>-3.24</td>\n",
       "    </tr>\n",
       "    <tr>\n",
       "      <th>3Q:Year 6</th>\n",
       "      <td>-2.17</td>\n",
       "      <td>0.44</td>\n",
       "      <td>-2.61</td>\n",
       "    </tr>\n",
       "    <tr>\n",
       "      <th>2Q:Year 6</th>\n",
       "      <td>10.72</td>\n",
       "      <td>19.51</td>\n",
       "      <td>-8.79</td>\n",
       "    </tr>\n",
       "    <tr>\n",
       "      <th>1Q:Year 6</th>\n",
       "      <td>38.91</td>\n",
       "      <td>50.40</td>\n",
       "      <td>-11.49</td>\n",
       "    </tr>\n",
       "    <tr>\n",
       "      <th>4Q:Year 5</th>\n",
       "      <td>4.36</td>\n",
       "      <td>1.01</td>\n",
       "      <td>3.35</td>\n",
       "    </tr>\n",
       "  </tbody>\n",
       "</table>\n",
       "</div>"
      ],
      "text/plain": [
       "           Portfolio A (%)  Portfolio B (%)  Difference\n",
       "Quarter                                                \n",
       "4Q:Year 6            11.40            14.64       -3.24\n",
       "3Q:Year 6            -2.17             0.44       -2.61\n",
       "2Q:Year 6            10.72            19.51       -8.79\n",
       "1Q:Year 6            38.91            50.40      -11.49\n",
       "4Q:Year 5             4.36             1.01        3.35"
      ]
     },
     "execution_count": 64,
     "metadata": {},
     "output_type": "execute_result"
    }
   ],
   "source": [
    "df.head()"
   ]
  },
  {
   "cell_type": "markdown",
   "metadata": {},
   "source": [
    "**Solution**<br>\n",
    "Because the two portfolios shared essentially the same set of risk factors, their returns were not independent, so a paired comparisons test is appropriate. Let $μ_d$ stand for the population mean value of difference between the returns on the two portfolios during this period. We test $$H_0: μ_d = 0$$ versus $$H_a: μ_d ≠ 0$$ at a 0.05 and 0.10 significance level."
   ]
  },
  {
   "cell_type": "code",
   "execution_count": 82,
   "metadata": {},
   "outputs": [
    {
     "data": {
      "text/plain": [
       "-0.6488"
      ]
     },
     "execution_count": 82,
     "metadata": {},
     "output_type": "execute_result"
    }
   ],
   "source": [
    "# Calculate the sample mean difference\n",
    "diff = df['Difference'].sum()/len(df['Difference'])\n",
    "diff"
   ]
  },
  {
   "cell_type": "code",
   "execution_count": 75,
   "metadata": {},
   "outputs": [
    {
     "name": "stdout",
     "output_type": "stream",
     "text": [
      "1.3204691085620541\n"
     ]
    }
   ],
   "source": [
    "# Calculate the standard error of the mean difference\n",
    "numerator = 0 \n",
    "for i in range(len(df)):\n",
    "    sqr_diff = df['Difference'][i] **2 \n",
    "    numerator += sqr_diff\n",
    "\n",
    "denominator = len(df) - 1\n",
    "samp_var = (numerator / denominator)**0.5 \n",
    "std_error = samp_var / len(df)**0.5\n",
    "\n",
    "print(std_error) # slightly different with 6.71/(24**0.5) = 1.369673"
   ]
  },
  {
   "cell_type": "code",
   "execution_count": 85,
   "metadata": {},
   "outputs": [
    {
     "data": {
      "text/plain": [
       "-0.4913405363238835"
      ]
     },
     "execution_count": 85,
     "metadata": {},
     "output_type": "execute_result"
    }
   ],
   "source": [
    "# Calculate test statistics with n-1 = 23 degree of freedom \n",
    "t_stat = (diff - 0) / (std_error)\n",
    "t_stat"
   ]
  },
  {
   "cell_type": "code",
   "execution_count": 88,
   "metadata": {},
   "outputs": [
    {
     "name": "stdout",
     "output_type": "stream",
     "text": [
      "2.0686576104190406\n"
     ]
    }
   ],
   "source": [
    "# Calculate the rejection points at 0.05 significance level\n",
    "t_score = scipy.stats.t.ppf(1-0.025, 23)\n",
    "print(t_score)"
   ]
  },
  {
   "cell_type": "code",
   "execution_count": 86,
   "metadata": {},
   "outputs": [
    {
     "name": "stdout",
     "output_type": "stream",
     "text": [
      "Fail to reject null hypothesis.\n"
     ]
    }
   ],
   "source": [
    "# Making statistical decision\n",
    "if t_stat < -t_score: \n",
    "    print('Reject null hypothesis.')\n",
    "elif t_stat > t_score: \n",
    "    print('Reject null hypothesis.')\n",
    "else: \n",
    "    print('Fail to reject null hypothesis.')"
   ]
  },
  {
   "cell_type": "code",
   "execution_count": 90,
   "metadata": {},
   "outputs": [
    {
     "data": {
      "text/plain": [
       "1.7138715277470473"
      ]
     },
     "execution_count": 90,
     "metadata": {},
     "output_type": "execute_result"
    }
   ],
   "source": [
    "# Calculate the rejection points at 0.10 significance level\n",
    "scipy.stats.t.ppf(1-0.05, 23)"
   ]
  },
  {
   "cell_type": "markdown",
   "metadata": {},
   "source": [
    "## Hypothesis Tests Concerning Variance and Correlation\n",
    "### Tests Concerning a Single Variance\n",
    "The hypotheses are formulated similarly for means and variances:\n",
    "- $H_0:σ^2=σ^2_0$ versus $H_a:σ^2≠σ^2_0$\n",
    "- $H_0:σ^2≤σ^2_0$ versus $H_a:σ^2>σ^2_0$\n",
    "- $H_0:σ^2≥σ^2_0$ versus $H_a:σ^2<σ^2_0$\n",
    "\n",
    "The `chi-square`, `χ2`, test statistic is used. It is an `asymmetrical` family of distributions defined with degrees of freedom. It does not take on negative values. The following rejection points are used for the three hypotheses. \n",
    "- $H_a:σ^2≠σ^2_0$ . Reject $H_0$ if the test statistic is greater than $χ^2_{\\frac{α}{2}}$ or less than $χ^2_{1−\\frac{α}{2}}$\n",
    "- $H_a:σ^2>σ^2_0$. Reject $H_0$ if the test statistic is greater than $χ^2_α$\n",
    "- $H_a:σ^2<σ^2_0$. Reject $H_0$ if the test statistic is less than $χ^2_{1−α}$\n",
    "\n",
    "If we have $n$ independent observations from a normally distributed population, the appropriate test statistic is\n",
    "$$χ^2=\\frac{(n−1)s^2}{σ^2_0}$$\n",
    "<div style=\"text-align: right\"> Equation 14</div>\n",
    "where $df=n − 1$,  $s^2=\\frac{\\sum_{i=1}^n{(X_i−\\bar{X})^2}}{n−1}$\n",
    "<div style=\"text-align: right\"> Equation 15</div>\n",
    "\n",
    "    In contrast to the t-test, for example, the chi-square test is sensitive to violations of its assumptions. If the sample is not actually random or if it does not come from a normally distributed population, inferences based on a chi-square test are likely to be faulty.\n",
    "    \n",
    "### Differences Between Variance\n",
    "#### Rejection Points for Hypothesis Tests on the Population Variance\n",
    "- “≠” $H_a$: Reject $H_{0}$ if the test statistic is > the upper $\\frac{α}{2}$ point (denoted $χ^2_α/2$) or < the lower $\\frac{α}{2}$ point (denoted $χ^2_1−α/2$) of the chi-square distribution with $df = n − 1$.\n",
    "- “≥” $H_a$: Reject $H_{0}$ if the test statistic is greater than the upper $α$ point of the chi-square distribution with $df = n − 1$.\n",
    "- “≤” $H_a$: Reject $H_{0}$ if the test statistic is less than the lower $α$ point of the chi-square distribution with $df = n − 1$.\n",
    "\n",
    "### Equality (Inequality) of Two Variances (F-Test)\n",
    "Like the chi-square distribution, the `F-distribution` is a family of `asymmetrical distributions` bounded from below by $0$. **Each F-distribution is defined by two values of degrees of freedom**, called `the numerator and denominator degrees of freedom`. (The `F-test`, like the chi-square test, is not robust to violations of its assumptions.)\n",
    "\n",
    "The hypotheses are formulated similarly for a single variance and for two variances.\n",
    "- $H_0:σ^2_1=σ^2_2$ versus $H_a:σ^2_1≠σ^2_2$\n",
    "- $H_0:σ^2_1≤σ^2_2$ versus $H_a:σ^2_1>σ^2_2$\n",
    "- $H_0:σ^2_1≥σ^2_2$ versus $H_a:σ^2_1<σ^2_2$\n",
    "\n",
    "A test concerning differences between the variances of the two populations is based on the ratio of sample variances\n",
    "$$F=\\frac{s^2_1}{s^2_2}$$\n",
    "<div style=\"text-align: right\"> Equation 16</div>\n",
    "\n",
    "with \n",
    "- $df_1 = n_1 − 1$ `numerator degrees of freedom` and \n",
    "- $df_2 = n_2 − 1$ `denominator degrees of freedom`. \n",
    "\n",
    "Note that $df_1$ and $df_2$ are the divisors used in calculating $s^2_1$ and $s^2_2$, respectively.\n",
    "#### Rejection Points for Hypothesis Tests on the Relative Values of Two Population Variances\n",
    "- $H_a:σ^2_1≠σ^2_2$. Reject $H_0$ if the test statistic is greater than upper $\\frac{α}{2}$ point of the F-distribution\n",
    "- $H_a:σ^2_1>σ^2_2$. Reject $H_0$ if the test statistic is greater than upper $α$ point of the F-distribution\n",
    "- $H_a:σ^2_1<σ^2_2$. Reject $H_0$ if the test statistic is greater than upper $α$ point of the F-distribution\n",
    "\n",
    "### Tests Concerning Correlation\n",
    "A `significance test of a correlation coefficient` allows us to assess whether the relationship between two random variables is the result of chance.\n",
    "- $H_0$: the correlation in the population is 0 ($\\rho = 0$); \n",
    "- $H_a$: the correlation in the population is different from 0 ($ρ ≠ 0$). \n",
    "\n",
    "As long as the two variables are distributed normally, we can test to determine whether the null hypothesis should be rejected using the sample correlation, $r$. The formula for the t-test is\n",
    "\n",
    "$$t=\\frac{r\\sqrt{n−2}}{\\sqrt{1−r^2}}$$\n",
    "<div style=\"text-align: right\"> Equation 17</div>\n",
    "\n",
    "This test statistic has a t-distribution with $n − 2$ degrees of freedom if the null hypothesis is true.\n",
    "\n",
    "The magnitude of $r$ needed to reject the null hypothesis $H_0: ρ = 0$ decreases as sample size $n$ increases."
   ]
  },
  {
   "cell_type": "markdown",
   "metadata": {},
   "source": [
    "**RECAP**\n",
    "\n",
    "- data-mining bias\n",
    "- sample selection bias\n",
    "- look-ahead bias\n",
    "- time-period bias\n",
    "- Common values for a standard normal distribution (85%, 90%, 95%, 97.5% and 99%)\n",
    "- What's a level of significance?\n",
    "- What's the power of test?\n",
    "- When to use Chi-square test? Formula?\n",
    "- When to use F-test? Formula?\n",
    "- Test concerning a single variance?\n",
    "- Rejection rules for all tests. \n"
   ]
  },
  {
   "cell_type": "code",
   "execution_count": null,
   "metadata": {},
   "outputs": [],
   "source": [
    "# Example 8, 9"
   ]
  },
  {
   "cell_type": "code",
   "execution_count": 92,
   "metadata": {},
   "outputs": [
    {
     "data": {
      "text/plain": [
       "1.9893185569368186"
      ]
     },
     "execution_count": 92,
     "metadata": {},
     "output_type": "execute_result"
    }
   ],
   "source": [
    "# Example 10\n",
    "scipy.stats.t.ppf(1-0.025, 82)"
   ]
  },
  {
   "cell_type": "markdown",
   "metadata": {},
   "source": [
    "## Other Issues: Non-Parametric Inference\n",
    "A test that is not concerned with a parameter, or that makes minimal assumptions about the population from which a sample comes.\n",
    "\n",
    "#### Situations for Using Non-Parametric Testing \n",
    "- when the data we use do not meet distributional assumptions \n",
    "- when the data are given in ranks \n",
    "- when the hypothesis we are addressing does not concern a parameter\n",
    "\n",
    "#### Nonparametric Tests Concerning Correlation: The Spearman Rank Correlation Coefficient"
   ]
  }
 ],
 "metadata": {
  "kernelspec": {
   "display_name": "Python 3",
   "language": "python",
   "name": "python3"
  },
  "language_info": {
   "codemirror_mode": {
    "name": "ipython",
    "version": 3
   },
   "file_extension": ".py",
   "mimetype": "text/x-python",
   "name": "python",
   "nbconvert_exporter": "python",
   "pygments_lexer": "ipython3",
   "version": "3.7.3"
  }
 },
 "nbformat": 4,
 "nbformat_minor": 4
}
