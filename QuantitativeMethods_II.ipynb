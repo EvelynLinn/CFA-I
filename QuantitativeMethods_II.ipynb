{
 "cells": [
  {
   "cell_type": "markdown",
   "metadata": {},
   "source": [
    "# Quantitative Methods Part II"
   ]
  },
  {
   "cell_type": "code",
   "execution_count": 74,
   "metadata": {},
   "outputs": [],
   "source": [
    "import pandas as pd\n",
    "import numpy as np\n",
    "from matplotlib import pyplot as plt\n",
    "%matplotlib inline \n",
    "import math"
   ]
  },
  {
   "cell_type": "markdown",
   "metadata": {},
   "source": [
    "## Common Probability Distributions"
   ]
  },
  {
   "cell_type": "markdown",
   "metadata": {},
   "source": [
    "Use cases examples:\n",
    "- the Black–Scholes–Merton option pricing model\n",
    "- the binomial option pricing model (price up or price down)\n",
    "- the capital asset pricing model"
   ]
  },
  {
   "cell_type": "markdown",
   "metadata": {},
   "source": [
    "### Introduction to Common Probability Distributions\n",
    "A probability distribution specifies the probabilities of the possible outcomes of a random variable. Examples of random variables:\n",
    "- return on a stock\n",
    "- earnings per share "
   ]
  },
  {
   "cell_type": "markdown",
   "metadata": {},
   "source": [
    "### Discrete and Continous Random Variables\n",
    "<br>\n",
    "The mathematical operation that corresponds to finding the area under the curve of a pdf f(x) from a to b is the integral of f(x) from a to b:\n",
    "\n",
    "$$P(a\\le X\\le b)=\\int^b_af(x)dx$$\n",
    "<div style=\"text-align: right\"> Equation 2 </div>\n",
    "\n",
    "\n",
    "*Note: For any continuous random variable X, P(a ≤ X ≤ b) = P(a < X ≤ b) = P(a ≤ X < b) = P(a < X < b), because the probabilities at the endpoints a and b are 0.*"
   ]
  },
  {
   "cell_type": "markdown",
   "metadata": {},
   "source": [
    "We can view a probability distribution in two ways:\n",
    "#### Probability Function\n",
    "P(X = x) is the probability that a random variable X takes on the value x. (Note that capital X represents the random variable and lowercase x represents a specific value that the random variable may take.) \n",
    "- For a discrete random variable, the shorthand notation for the probability function is p(x) = P(X = x). \n",
    "- For continuous random variables, the probability function is denoted f(x) and called the probability density function (pdf), or just the density.\n",
    "\n",
    "#### Cumulative Distribution Function (cdf)\n",
    "It gives the probability that a random variable X is less than or equal to a particular value x, P(X ≤ x). For both discrete and continuous random variables, the shorthand notation is F(x) = P(X ≤ x). <br><br>\n",
    "The cdf has two other characteristic properties:\n",
    "- The cdf lies between 0 and 1 for any x: 0 ≤ F(x) ≤ 1.\n",
    "- As we increase x, the cdf either increases or remains constant."
   ]
  },
  {
   "cell_type": "markdown",
   "metadata": {},
   "source": [
    "### The Uniform Distribution \n",
    "Probability distribution that describes equally likely outcomes. <br>\n",
    "#### Discrete Uniform Distribution\n",
    "The pdf for a uniform random variable is:\n",
    "\\begin{equation}\n",
    "  f(x) =\n",
    "   \\begin{cases}\n",
    "      \\frac{1}{b−a} & \\text{for a<x<b}\\\\\n",
    "      0 & \\text{otherwise}\n",
    "   \\end{cases}       \n",
    "\\end{equation}\n",
    "\n",
    "#### Continuous Uniform Distribution\n",
    "\\begin{equation}\n",
    "  f(x) =\n",
    "   \\begin{cases}\n",
    "      0 & \\text{for $x\\le a$}\\\\\n",
    "      \\frac{x-a}{b-a} & \\text{for a<x<b}\\\\\n",
    "      1 & \\text{for $x \\geqslant b$}\n",
    "   \\end{cases}       \n",
    "\\end{equation}"
   ]
  },
  {
   "cell_type": "markdown",
   "metadata": {},
   "source": [
    "### The Binomial Distribution（二项分布）\n",
    "When we make probability statements about a record of successes and failures, or about anything with binary outcomes, we often use the binomial distribution.<br>\n",
    "\n",
    "\n",
    "$X$~$B(n,p)$ read as “X has a binomial distribution with parameters n and p.”<br>\n",
    "<br> \n",
    "The building block of the binomial distribution is the **Bernoulli random variable**. A trial (an event that may repeat) that produces one of two outcomes. Such a trial is a Bernoulli trial. If we let Y equal 1 when the outcome is success and Y equal 0 when the outcome is failure, then the probability function of the Bernoulli random variable Y is\n",
    "$$p(1) = P(Y = 1) = p$$\n",
    "$$p(0) = P(Y = 0) = 1 – p$$\n",
    "where p is the probability that the trial is a success. "
   ]
  },
  {
   "cell_type": "markdown",
   "metadata": {},
   "source": [
    "For X distributed B(n, p), the probability of x successes in n trials is given by<br>\n",
    "$$p(x)=P(X=x)=\\binom{n}xp^x(1−p)^{n−x}=\\frac{n!}{(n−x)!x!}p^x(1−p)^{n−x}$$\n",
    "<div style=\"text-align: right\"> Equation 1 </div>\n",
    "\n",
    "given independent trials, any sequence with x up moves must occur with probability $p^x(1 − p)^{n–x}$"
   ]
  },
  {
   "cell_type": "markdown",
   "metadata": {},
   "source": [
    "#### Example \n",
    "Consider a random variable distributed B(n = 5, p = 0.50):"
   ]
  },
  {
   "cell_type": "code",
   "execution_count": 2,
   "metadata": {},
   "outputs": [
    {
     "data": {
      "text/html": [
       "<div>\n",
       "<style scoped>\n",
       "    .dataframe tbody tr th:only-of-type {\n",
       "        vertical-align: middle;\n",
       "    }\n",
       "\n",
       "    .dataframe tbody tr th {\n",
       "        vertical-align: top;\n",
       "    }\n",
       "\n",
       "    .dataframe thead th {\n",
       "        text-align: right;\n",
       "    }\n",
       "</style>\n",
       "<table border=\"1\" class=\"dataframe\">\n",
       "  <thead>\n",
       "    <tr style=\"text-align: right;\">\n",
       "      <th></th>\n",
       "      <th>Number of Up Moves, x</th>\n",
       "    </tr>\n",
       "  </thead>\n",
       "  <tbody>\n",
       "    <tr>\n",
       "      <th>0</th>\n",
       "      <td>0</td>\n",
       "    </tr>\n",
       "    <tr>\n",
       "      <th>1</th>\n",
       "      <td>1</td>\n",
       "    </tr>\n",
       "    <tr>\n",
       "      <th>2</th>\n",
       "      <td>2</td>\n",
       "    </tr>\n",
       "    <tr>\n",
       "      <th>3</th>\n",
       "      <td>3</td>\n",
       "    </tr>\n",
       "    <tr>\n",
       "      <th>4</th>\n",
       "      <td>4</td>\n",
       "    </tr>\n",
       "    <tr>\n",
       "      <th>5</th>\n",
       "      <td>5</td>\n",
       "    </tr>\n",
       "  </tbody>\n",
       "</table>\n",
       "</div>"
      ],
      "text/plain": [
       "   Number of Up Moves, x\n",
       "0                      0\n",
       "1                      1\n",
       "2                      2\n",
       "3                      3\n",
       "4                      4\n",
       "5                      5"
      ]
     },
     "execution_count": 2,
     "metadata": {},
     "output_type": "execute_result"
    }
   ],
   "source": [
    "data = {'Number of Up Moves, x':[0,1,2,3,4,5]}\n",
    "df = pd.DataFrame(data=data)\n",
    "df"
   ]
  },
  {
   "cell_type": "code",
   "execution_count": 78,
   "metadata": {},
   "outputs": [],
   "source": [
    "# For convenience of calculation, turning the column into a list\n",
    "x = pd.to_numeric(df['Number of Up Moves, x'].to_list())\n",
    "x\n",
    "p = 0.50\n",
    "n = 5"
   ]
  },
  {
   "cell_type": "code",
   "execution_count": 79,
   "metadata": {},
   "outputs": [
    {
     "name": "stdout",
     "output_type": "stream",
     "text": [
      "[1.0, 5.0, 10.0, 10.0, 5.0, 1.0]\n"
     ]
    }
   ],
   "source": [
    "# Counting number of ways to choose X from n\n",
    "results = []\n",
    "numerator = math.factorial(5) # why 5 instead of 6 (i.e., len(x))?\n",
    "\n",
    "for i in x:\n",
    "    denominator = math.factorial(5-i) * math.factorial(i)\n",
    "    result = numerator/denominator\n",
    "    results.append(result)\n",
    "print(results)\n",
    "\n",
    "# Append a column to represent the results\n",
    "df['Number of Possible Ways to Reach x Up Moves'] = results"
   ]
  },
  {
   "cell_type": "code",
   "execution_count": 80,
   "metadata": {},
   "outputs": [],
   "source": [
    "# Calculating P of each way\n",
    "results2 = []\n",
    "for i in x: \n",
    "    result = p**i * (1-p)**(n-i)\n",
    "    results2.append(result)\n",
    "\n",
    "# Append the list to a new column    \n",
    "df['Probability for Each Way'] = results2"
   ]
  },
  {
   "cell_type": "code",
   "execution_count": 81,
   "metadata": {},
   "outputs": [],
   "source": [
    "# Calculating the probability for each value of the number of up moves from the first column (using an alternative approach)\n",
    "df['Probability for x, p(x)'] = df['Number of Possible Ways to Reach x Up Moves'] * (1/sum(results))"
   ]
  },
  {
   "cell_type": "code",
   "execution_count": 82,
   "metadata": {},
   "outputs": [
    {
     "name": "stdout",
     "output_type": "stream",
     "text": [
      "[0.03125]\n",
      "[0.03125, 0.15625]\n",
      "[0.03125, 0.15625, 0.3125]\n",
      "[0.03125, 0.15625, 0.3125, 0.3125]\n",
      "[0.03125, 0.15625, 0.3125, 0.3125, 0.15625]\n",
      "[0.03125, 0.15625, 0.3125, 0.3125, 0.15625, 0.03125]\n"
     ]
    }
   ],
   "source": [
    "# Cumulating the entries in the fourth column, the cumulative distribution function\n",
    "cdf = []\n",
    "pdf = df['Probability for x, p(x)'].to_list()\n",
    "\n",
    "# Calculate the cdf\n",
    "for i in range(len(pdf)):\n",
    "    result3 = pdf[0:i+1]\n",
    "    print(result3)\n",
    "    cdf.append(sum(result3))\n",
    "    \n",
    "# Append the list to a new column\n",
    "df['F(x) = P(X ≤ x)'] = cdf"
   ]
  },
  {
   "cell_type": "code",
   "execution_count": 83,
   "metadata": {},
   "outputs": [
    {
     "data": {
      "text/html": [
       "<div>\n",
       "<style scoped>\n",
       "    .dataframe tbody tr th:only-of-type {\n",
       "        vertical-align: middle;\n",
       "    }\n",
       "\n",
       "    .dataframe tbody tr th {\n",
       "        vertical-align: top;\n",
       "    }\n",
       "\n",
       "    .dataframe thead th {\n",
       "        text-align: right;\n",
       "    }\n",
       "</style>\n",
       "<table border=\"1\" class=\"dataframe\">\n",
       "  <thead>\n",
       "    <tr style=\"text-align: right;\">\n",
       "      <th></th>\n",
       "      <th>Number of Up Moves, x</th>\n",
       "      <th>Number of Possible Ways to Reach x Up Moves</th>\n",
       "      <th>Probability for Each Way</th>\n",
       "      <th>Probability for x, p(x)</th>\n",
       "      <th>F(x) = P(X ≤ x)</th>\n",
       "    </tr>\n",
       "  </thead>\n",
       "  <tbody>\n",
       "    <tr>\n",
       "      <th>0</th>\n",
       "      <td>0</td>\n",
       "      <td>1.0</td>\n",
       "      <td>0.59049</td>\n",
       "      <td>0.03125</td>\n",
       "      <td>0.03125</td>\n",
       "    </tr>\n",
       "    <tr>\n",
       "      <th>1</th>\n",
       "      <td>1</td>\n",
       "      <td>5.0</td>\n",
       "      <td>0.06561</td>\n",
       "      <td>0.15625</td>\n",
       "      <td>0.18750</td>\n",
       "    </tr>\n",
       "    <tr>\n",
       "      <th>2</th>\n",
       "      <td>2</td>\n",
       "      <td>10.0</td>\n",
       "      <td>0.00729</td>\n",
       "      <td>0.31250</td>\n",
       "      <td>0.50000</td>\n",
       "    </tr>\n",
       "    <tr>\n",
       "      <th>3</th>\n",
       "      <td>3</td>\n",
       "      <td>10.0</td>\n",
       "      <td>0.00081</td>\n",
       "      <td>0.31250</td>\n",
       "      <td>0.81250</td>\n",
       "    </tr>\n",
       "    <tr>\n",
       "      <th>4</th>\n",
       "      <td>4</td>\n",
       "      <td>5.0</td>\n",
       "      <td>0.00009</td>\n",
       "      <td>0.15625</td>\n",
       "      <td>0.96875</td>\n",
       "    </tr>\n",
       "    <tr>\n",
       "      <th>5</th>\n",
       "      <td>5</td>\n",
       "      <td>1.0</td>\n",
       "      <td>0.00001</td>\n",
       "      <td>0.03125</td>\n",
       "      <td>1.00000</td>\n",
       "    </tr>\n",
       "  </tbody>\n",
       "</table>\n",
       "</div>"
      ],
      "text/plain": [
       "   Number of Up Moves, x  Number of Possible Ways to Reach x Up Moves  \\\n",
       "0                      0                                          1.0   \n",
       "1                      1                                          5.0   \n",
       "2                      2                                         10.0   \n",
       "3                      3                                         10.0   \n",
       "4                      4                                          5.0   \n",
       "5                      5                                          1.0   \n",
       "\n",
       "   Probability for Each Way  Probability for x, p(x)  F(x) = P(X ≤ x)  \n",
       "0                   0.59049                  0.03125          0.03125  \n",
       "1                   0.06561                  0.15625          0.18750  \n",
       "2                   0.00729                  0.31250          0.50000  \n",
       "3                   0.00081                  0.31250          0.81250  \n",
       "4                   0.00009                  0.15625          0.96875  \n",
       "5                   0.00001                  0.03125          1.00000  "
      ]
     },
     "execution_count": 83,
     "metadata": {},
     "output_type": "execute_result"
    }
   ],
   "source": [
    "df"
   ]
  },
  {
   "cell_type": "code",
   "execution_count": 84,
   "metadata": {
    "scrolled": true
   },
   "outputs": [
    {
     "data": {
      "image/png": "[encoded data removed]",
      "text/plain": [
       "<Figure size 432x288 with 1 Axes>"
      ]
     },
     "metadata": {
      "needs_background": "light"
     },
     "output_type": "display_data"
    }
   ],
   "source": [
    "# Observe how the change of p(x) influence the skewness of the curve\n",
    "plt.plot(df['Probability for x, p(x)']);"
   ]
  },
  {
   "cell_type": "markdown",
   "metadata": {},
   "source": [
    "#### Example "
   ]
  },
  {
   "cell_type": "code",
   "execution_count": 85,
   "metadata": {},
   "outputs": [
    {
     "data": {
      "text/html": [
       "<div>\n",
       "<style scoped>\n",
       "    .dataframe tbody tr th:only-of-type {\n",
       "        vertical-align: middle;\n",
       "    }\n",
       "\n",
       "    .dataframe tbody tr th {\n",
       "        vertical-align: top;\n",
       "    }\n",
       "\n",
       "    .dataframe thead th {\n",
       "        text-align: right;\n",
       "    }\n",
       "</style>\n",
       "<table border=\"1\" class=\"dataframe\">\n",
       "  <thead>\n",
       "    <tr style=\"text-align: right;\">\n",
       "      <th></th>\n",
       "      <th>Block Brokers</th>\n",
       "      <th>Profitable Trades</th>\n",
       "      <th>Losing Trades</th>\n",
       "    </tr>\n",
       "  </thead>\n",
       "  <tbody>\n",
       "    <tr>\n",
       "      <th>0</th>\n",
       "      <td>BB001</td>\n",
       "      <td>3</td>\n",
       "      <td>9</td>\n",
       "    </tr>\n",
       "    <tr>\n",
       "      <th>1</th>\n",
       "      <td>BB002</td>\n",
       "      <td>5</td>\n",
       "      <td>3</td>\n",
       "    </tr>\n",
       "  </tbody>\n",
       "</table>\n",
       "</div>"
      ],
      "text/plain": [
       "  Block Brokers  Profitable Trades  Losing Trades\n",
       "0         BB001                  3              9\n",
       "1         BB002                  5              3"
      ]
     },
     "execution_count": 85,
     "metadata": {},
     "output_type": "execute_result"
    }
   ],
   "source": [
    "data = {'Block Brokers': ['BB001', 'BB002'], \n",
    "       'Profitable Trades': [3, 5], \n",
    "       'Losing Trades': [9, 3]}\n",
    "df = pd.DataFrame(data=data)\n",
    "df"
   ]
  },
  {
   "cell_type": "markdown",
   "metadata": {},
   "source": [
    "If you are paying a fair price on average in your trades with a broker, what should be the probability of a profitable trade?"
   ]
  },
  {
   "cell_type": "code",
   "execution_count": null,
   "metadata": {},
   "outputs": [],
   "source": [
    "# "
   ]
  },
  {
   "cell_type": "markdown",
   "metadata": {},
   "source": [
    "Under the assumption that the prices of trades were fair,\n",
    "1. calculate the probability of three or fewer profitable trades with broker BB001.\n",
    "2. calculate the probability of five or more profitable trades with broker BB002."
   ]
  },
  {
   "cell_type": "code",
   "execution_count": null,
   "metadata": {},
   "outputs": [],
   "source": [
    "# "
   ]
  },
  {
   "cell_type": "markdown",
   "metadata": {},
   "source": [
    "#### Example: using binomial distribution to evaluate the performance of an investment manager<br>\n",
    "\n",
    "Expected to keep portfolio return within a band of 75 basis points (bps) of the benchmark’s return, on a quarterly basis, portfolio return is within the 75 bps band 90 percent of the time.\n",
    "\n",
    "Question: The manager meets the objective in six out of eight quarters. How does the manager’s record precisely relate to your expectation of a 90 percent success rate and the sample size, 8 observations?"
   ]
  },
  {
   "cell_type": "code",
   "execution_count": 86,
   "metadata": {},
   "outputs": [],
   "source": [
    "# List of known variables\n",
    "n = 8\n",
    "p = 0.90"
   ]
  },
  {
   "cell_type": "code",
   "execution_count": 90,
   "metadata": {},
   "outputs": [
    {
     "data": {
      "text/html": [
       "<div>\n",
       "<style scoped>\n",
       "    .dataframe tbody tr th:only-of-type {\n",
       "        vertical-align: middle;\n",
       "    }\n",
       "\n",
       "    .dataframe tbody tr th {\n",
       "        vertical-align: top;\n",
       "    }\n",
       "\n",
       "    .dataframe thead th {\n",
       "        text-align: right;\n",
       "    }\n",
       "</style>\n",
       "<table border=\"1\" class=\"dataframe\">\n",
       "  <thead>\n",
       "    <tr style=\"text-align: right;\">\n",
       "      <th></th>\n",
       "      <th>Number of Success (&gt;=75 bps)</th>\n",
       "    </tr>\n",
       "  </thead>\n",
       "  <tbody>\n",
       "    <tr>\n",
       "      <th>0</th>\n",
       "      <td>0</td>\n",
       "    </tr>\n",
       "    <tr>\n",
       "      <th>1</th>\n",
       "      <td>1</td>\n",
       "    </tr>\n",
       "    <tr>\n",
       "      <th>2</th>\n",
       "      <td>2</td>\n",
       "    </tr>\n",
       "    <tr>\n",
       "      <th>3</th>\n",
       "      <td>3</td>\n",
       "    </tr>\n",
       "    <tr>\n",
       "      <th>4</th>\n",
       "      <td>4</td>\n",
       "    </tr>\n",
       "    <tr>\n",
       "      <th>5</th>\n",
       "      <td>5</td>\n",
       "    </tr>\n",
       "    <tr>\n",
       "      <th>6</th>\n",
       "      <td>6</td>\n",
       "    </tr>\n",
       "    <tr>\n",
       "      <th>7</th>\n",
       "      <td>7</td>\n",
       "    </tr>\n",
       "    <tr>\n",
       "      <th>8</th>\n",
       "      <td>8</td>\n",
       "    </tr>\n",
       "  </tbody>\n",
       "</table>\n",
       "</div>"
      ],
      "text/plain": [
       "   Number of Success (>=75 bps)\n",
       "0                             0\n",
       "1                             1\n",
       "2                             2\n",
       "3                             3\n",
       "4                             4\n",
       "5                             5\n",
       "6                             6\n",
       "7                             7\n",
       "8                             8"
      ]
     },
     "execution_count": 90,
     "metadata": {},
     "output_type": "execute_result"
    }
   ],
   "source": [
    "# find the probability that, given an assumed true or underlying success rate of 90 percent, performance could be as bad as or worse than that delivered.\n",
    "data = {'Number of Success (>=75 bps)':[0,1,2,3,4,5,6,7,8]}\n",
    "df = pd.DataFrame(data=data)\n",
    "df"
   ]
  },
  {
   "cell_type": "code",
   "execution_count": 91,
   "metadata": {},
   "outputs": [
    {
     "name": "stdout",
     "output_type": "stream",
     "text": [
      "[1.0, 8.0, 28.0, 56.0, 70.0, 56.0, 28.0, 8.0, 1.0]\n"
     ]
    }
   ],
   "source": [
    "results = []\n",
    "numerator = math.factorial(n) \n",
    "x = df['Number of Success (>=75 bps)'].to_list()\n",
    "# Counting the number of ways to reach the corresponding sucesses\n",
    "for i in x:\n",
    "    denominator = math.factorial(n-i) * math.factorial(i)\n",
    "    result = numerator/denominator\n",
    "    results.append(result)\n",
    "print(results)\n",
    "\n",
    "# Append a column to represent the results\n",
    "df['Number of Possible Ways to Reach x'] = results"
   ]
  },
  {
   "cell_type": "code",
   "execution_count": 94,
   "metadata": {},
   "outputs": [],
   "source": [
    "# Probability of each way \n",
    "results = []\n",
    "for i in x:\n",
    "    p_x = p**i\n",
    "    p_y = (1-p)**(n-i)\n",
    "    result = p_x * p_y\n",
    "    results.append(result)\n",
    "df['Probability for Each Way'] = results"
   ]
  },
  {
   "cell_type": "code",
   "execution_count": 96,
   "metadata": {},
   "outputs": [],
   "source": [
    "# \n",
    "df['Probability for x, p(x)'] = df['Number of Possible Ways to Reach x'] * df['Probability for Each Way']"
   ]
  },
  {
   "cell_type": "code",
   "execution_count": 97,
   "metadata": {
    "scrolled": true
   },
   "outputs": [
    {
     "data": {
      "text/html": [
       "<div>\n",
       "<style scoped>\n",
       "    .dataframe tbody tr th:only-of-type {\n",
       "        vertical-align: middle;\n",
       "    }\n",
       "\n",
       "    .dataframe tbody tr th {\n",
       "        vertical-align: top;\n",
       "    }\n",
       "\n",
       "    .dataframe thead th {\n",
       "        text-align: right;\n",
       "    }\n",
       "</style>\n",
       "<table border=\"1\" class=\"dataframe\">\n",
       "  <thead>\n",
       "    <tr style=\"text-align: right;\">\n",
       "      <th></th>\n",
       "      <th>Number of Success (&gt;=75 bps)</th>\n",
       "      <th>Number of Possible Ways to Reach x</th>\n",
       "      <th>Probability for Each Way</th>\n",
       "      <th>Probability for x, p(x)</th>\n",
       "    </tr>\n",
       "  </thead>\n",
       "  <tbody>\n",
       "    <tr>\n",
       "      <th>0</th>\n",
       "      <td>0</td>\n",
       "      <td>1.0</td>\n",
       "      <td>1.000000e-08</td>\n",
       "      <td>1.000000e-08</td>\n",
       "    </tr>\n",
       "    <tr>\n",
       "      <th>1</th>\n",
       "      <td>1</td>\n",
       "      <td>8.0</td>\n",
       "      <td>9.000000e-08</td>\n",
       "      <td>7.200000e-07</td>\n",
       "    </tr>\n",
       "    <tr>\n",
       "      <th>2</th>\n",
       "      <td>2</td>\n",
       "      <td>28.0</td>\n",
       "      <td>8.100000e-07</td>\n",
       "      <td>2.268000e-05</td>\n",
       "    </tr>\n",
       "    <tr>\n",
       "      <th>3</th>\n",
       "      <td>3</td>\n",
       "      <td>56.0</td>\n",
       "      <td>7.290000e-06</td>\n",
       "      <td>4.082400e-04</td>\n",
       "    </tr>\n",
       "    <tr>\n",
       "      <th>4</th>\n",
       "      <td>4</td>\n",
       "      <td>70.0</td>\n",
       "      <td>6.561000e-05</td>\n",
       "      <td>4.592700e-03</td>\n",
       "    </tr>\n",
       "    <tr>\n",
       "      <th>5</th>\n",
       "      <td>5</td>\n",
       "      <td>56.0</td>\n",
       "      <td>5.904900e-04</td>\n",
       "      <td>3.306744e-02</td>\n",
       "    </tr>\n",
       "    <tr>\n",
       "      <th>6</th>\n",
       "      <td>6</td>\n",
       "      <td>28.0</td>\n",
       "      <td>5.314410e-03</td>\n",
       "      <td>1.488035e-01</td>\n",
       "    </tr>\n",
       "    <tr>\n",
       "      <th>7</th>\n",
       "      <td>7</td>\n",
       "      <td>8.0</td>\n",
       "      <td>4.782969e-02</td>\n",
       "      <td>3.826375e-01</td>\n",
       "    </tr>\n",
       "    <tr>\n",
       "      <th>8</th>\n",
       "      <td>8</td>\n",
       "      <td>1.0</td>\n",
       "      <td>4.304672e-01</td>\n",
       "      <td>4.304672e-01</td>\n",
       "    </tr>\n",
       "  </tbody>\n",
       "</table>\n",
       "</div>"
      ],
      "text/plain": [
       "   Number of Success (>=75 bps)  Number of Possible Ways to Reach x  \\\n",
       "0                             0                                 1.0   \n",
       "1                             1                                 8.0   \n",
       "2                             2                                28.0   \n",
       "3                             3                                56.0   \n",
       "4                             4                                70.0   \n",
       "5                             5                                56.0   \n",
       "6                             6                                28.0   \n",
       "7                             7                                 8.0   \n",
       "8                             8                                 1.0   \n",
       "\n",
       "   Probability for Each Way  Probability for x, p(x)  \n",
       "0              1.000000e-08             1.000000e-08  \n",
       "1              9.000000e-08             7.200000e-07  \n",
       "2              8.100000e-07             2.268000e-05  \n",
       "3              7.290000e-06             4.082400e-04  \n",
       "4              6.561000e-05             4.592700e-03  \n",
       "5              5.904900e-04             3.306744e-02  \n",
       "6              5.314410e-03             1.488035e-01  \n",
       "7              4.782969e-02             3.826375e-01  \n",
       "8              4.304672e-01             4.304672e-01  "
      ]
     },
     "execution_count": 97,
     "metadata": {},
     "output_type": "execute_result"
    }
   ],
   "source": [
    "df"
   ]
  },
  {
   "cell_type": "code",
   "execution_count": 101,
   "metadata": {},
   "outputs": [
    {
     "name": "stdout",
     "output_type": "stream",
     "text": [
      "0.18689526999999992\n",
      "There is a moderate 18.7 percent probability that the manager would show the record he did (or a worse record) if he had the skill to meet your expectations 90 percent of the time.\n"
     ]
    }
   ],
   "source": [
    "# Solving for P(x>0.75), i.e. number of success of 6\n",
    "cdf = df['Probability for x, p(x)'].to_list()\n",
    "print(sum(cdf[0:7]))\n",
    "print('There is a moderate 18.7 percent probability that the manager would show the record he did (or a worse record) if he had the skill to meet your expectations 90 percent of the time.')"
   ]
  },
  {
   "cell_type": "markdown",
   "metadata": {},
   "source": [
    "*Note: You can use other evaluation concepts such as tracking error or tracking risk, defined as the standard deviation of return differences between a portfolio and its benchmark, to assess the manager’s performance.*"
   ]
  },
  {
   "cell_type": "markdown",
   "metadata": {},
   "source": [
    "#### Mean and Variance of Binomial Random Variables\n",
    "\\[Explain the following table\\]"
   ]
  },
  {
   "cell_type": "code",
   "execution_count": 104,
   "metadata": {},
   "outputs": [
    {
     "data": {
      "text/html": [
       "<div>\n",
       "<style scoped>\n",
       "    .dataframe tbody tr th:only-of-type {\n",
       "        vertical-align: middle;\n",
       "    }\n",
       "\n",
       "    .dataframe tbody tr th {\n",
       "        vertical-align: top;\n",
       "    }\n",
       "\n",
       "    .dataframe thead th {\n",
       "        text-align: right;\n",
       "    }\n",
       "</style>\n",
       "<table border=\"1\" class=\"dataframe\">\n",
       "  <thead>\n",
       "    <tr style=\"text-align: right;\">\n",
       "      <th></th>\n",
       "      <th>X~B(n,p)</th>\n",
       "      <th>Mean</th>\n",
       "      <th>Variance</th>\n",
       "    </tr>\n",
       "  </thead>\n",
       "  <tbody>\n",
       "    <tr>\n",
       "      <th>0</th>\n",
       "      <td>Bernoulli, B(1, p)</td>\n",
       "      <td>p</td>\n",
       "      <td>p(1-p)</td>\n",
       "    </tr>\n",
       "    <tr>\n",
       "      <th>1</th>\n",
       "      <td>Binomial, B(n, p)</td>\n",
       "      <td>np</td>\n",
       "      <td>np(1-p)</td>\n",
       "    </tr>\n",
       "  </tbody>\n",
       "</table>\n",
       "</div>"
      ],
      "text/plain": [
       "             X~B(n,p) Mean Variance\n",
       "0  Bernoulli, B(1, p)    p   p(1-p)\n",
       "1   Binomial, B(n, p)   np  np(1-p)"
      ]
     },
     "execution_count": 104,
     "metadata": {},
     "output_type": "execute_result"
    }
   ],
   "source": [
    "des = {'X~B(n,p)': ['Bernoulli, B(1, p)', 'Binomial, B(n, p)'],\n",
    "      'Mean': ['p', 'np'], \n",
    "      'Variance': ['p(1-p)', 'np(1-p)']}\n",
    "df = pd.DataFrame(data=des)\n",
    "df"
   ]
  },
  {
   "cell_type": "markdown",
   "metadata": {},
   "source": [
    "### The Normal Distribution (Continuous Random Variables)\n",
    "Use cases: \n",
    "- modern portfolio theory \n",
    "- risk management technologies\n",
    "- an approximate model for returns\n",
    "\n",
    "#### The Central Limit Theorem\n",
    "The sum (and mean) of a large number of independent random variables is approximately normally distributed."
   ]
  },
  {
   "cell_type": "markdown",
   "metadata": {},
   "source": [
    "#### Characteristics of Normal Distribution\n",
    "1. The normal distribution is completely described by two parameters—its mean, $μ$, and variance, $σ^2$. \n",
    "\n",
    "$X$ ~ $N(μ, σ^2)$\n",
    "(read “X follows a normal distribution with mean $μ$ and variance $σ^2$”)\n",
    "\n",
    "\n",
    "2. The normal distribution has a skewness of 0 (it is symmetric). (The normal distribution has a kurtosis of 3; its excess kurtosis (kurtosis − 3.0) equals 0).\n",
    "3. A linear combination of two or more normal random variables is also normally distributed."
   ]
  },
  {
   "cell_type": "markdown",
   "metadata": {},
   "source": [
    "A multivariate normal distribution for the returns on n stocks is completely defined by three lists of parameters:\n",
    "- the list of the mean returns on the individual securities (n means in total);\n",
    "\n",
    "- the list of the securities’ variances of return (n variances in total); and\n",
    "\n",
    "- the list of all the distinct pairwise return correlations: n(n − 1)/2 distinct correlations in total.\n",
    "\n",
    "**In order to specify the normal distribution for portfolio return, we need the means, variances, and the distinct pairwise correlations of the component securities.**\n",
    "\n",
    "$$f(x)=\\frac{1}{σ\\sqrt{2π}}exp\\big(\\frac{−(x−μ)^2}{2σ^2}\\big)\\ \\ \\  for−∞<x<+∞$$\n",
    "<div style=\"text-align: right\"> Equation 3 </div>"
   ]
  },
  {
   "cell_type": "markdown",
   "metadata": {},
   "source": [
    "The normal density with $μ = 0$ and $σ = 1$ is called the standard normal distribution (or unit normal distribution). \n",
    "\n",
    "##### Empirical example: normal distribution as an approximate model for returns\n",
    "- The normal distribution is a closer fit for quarterly and yearly holding period returns on a diversified equity portfolio than it is for daily or weekly returns.\n",
    "- When we approximate equity return distributions with the normal distribution, we should be aware that the normal distribution tends to underestimate the probability of extreme returns.\n",
    "- Option returns are skewed. Because the normal is a symmetrical distribution, we should be cautious in using the normal distribution to model the returns on portfolios containing significant positions in options.\n",
    "- Less suitable as a model for asset prices.\n",
    "\n",
    "Having established that the normal distribution is the appropriate model for a variable of interest, we can use it to make the following probability statements:\n",
    "- Approximately 50 percent of all observations fall in the interval μ ± (2/3)σ.\n",
    "\n",
    "- Approximately 68 percent of all observations fall in the interval μ ± σ.\n",
    "\n",
    "- Approximately 95 percent of all observations fall in the interval μ ± 2σ.\n",
    "\n",
    "- Approximately 99 percent of all observations fall in the interval μ ± 3σ."
   ]
  },
  {
   "cell_type": "markdown",
   "metadata": {},
   "source": [
    "#### Standardizing a Random Variable\n",
    "If we have $X$ ~ $N(μ,σ^2)$ (read “$X$ follows the normal distribution with parameters $μ$ and $σ^2$”), we standardize it using the formula\n",
    "\n",
    "$$Z = \\frac{(X – μ)}{σ}$$\n",
    "<div style=\"text-align: right\"> Equation 4 </div>\n",
    "\n",
    "The probability that we will observe a value as small as or smaller than 9.5 for X ~ N(5,1.5) is exactly the same as the probability that we will observe a value as small as or smaller than 3 for Z ~ N(0,1). We can answer all probability questions about X using standardized values and probability tables for Z.\n",
    "\n",
    "\\[Revisit Example 8\\]"
   ]
  },
  {
   "cell_type": "markdown",
   "metadata": {},
   "source": [
    "#### Applications of the Normal Distribution\n",
    "##### Shortfall Risk\n",
    "Safety-first rules focus on shortfall risk, the risk that portfolio value will fall below some minimum acceptable level over some time horizon.\n",
    "\n",
    "\n"
   ]
  },
  {
   "cell_type": "markdown",
   "metadata": {},
   "source": [
    "##### Safety-first Ratio\n",
    "$$SFRatio = \\frac{[E(R_P) – R_L]}{σ_P}$$\n",
    "<div style=\"text-align: right\"> Equation  </div>\n"
   ]
  },
  {
   "cell_type": "markdown",
   "metadata": {},
   "source": [
    "##### Select an Optimal Portfolio Using Roy’s Safety-first Criterion\n"
   ]
  },
  {
   "cell_type": "markdown",
   "metadata": {},
   "source": [
    "### Lognormal Distribution and Continuous Compounding\n",
    "\n",
    "\n",
    "<div style=\"text-align: right\"> Equation  </div>"
   ]
  },
  {
   "cell_type": "markdown",
   "metadata": {},
   "source": [
    "#### Monte Carlo Simulation\n"
   ]
  },
  {
   "cell_type": "markdown",
   "metadata": {},
   "source": [
    "## Sampling and Estimation"
   ]
  },
  {
   "cell_type": "code",
   "execution_count": null,
   "metadata": {},
   "outputs": [],
   "source": []
  },
  {
   "cell_type": "markdown",
   "metadata": {},
   "source": [
    "## R11: Hypothesis Testing"
   ]
  },
  {
   "cell_type": "code",
   "execution_count": null,
   "metadata": {},
   "outputs": [],
   "source": []
  },
  {
   "cell_type": "markdown",
   "metadata": {},
   "source": [
    "Monte Carlo simulation: need to identify risk factors associated with the problem and specify probability distributions for them. "
   ]
  }
 ],
 "metadata": {
  "kernelspec": {
   "display_name": "Python 3",
   "language": "python",
   "name": "python3"
  },
  "language_info": {
   "codemirror_mode": {
    "name": "ipython",
    "version": 3
   },
   "file_extension": ".py",
   "mimetype": "text/x-python",
   "name": "python",
   "nbconvert_exporter": "python",
   "pygments_lexer": "ipython3",
   "version": "3.7.3"
  }
 },
 "nbformat": 4,
 "nbformat_minor": 4
}
