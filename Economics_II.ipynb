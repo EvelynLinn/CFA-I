{
 "cells": [
  {
   "cell_type": "markdown",
   "metadata": {},
   "source": [
    "# Monetary and Fiscal Policy"
   ]
  },
  {
   "cell_type": "code",
   "execution_count": 1,
   "metadata": {},
   "outputs": [],
   "source": [
    "import pandas as pd\n",
    "import numpy as np\n",
    "from matplotlib import pyplot as plt\n",
    "%matplotlib inline\n",
    "from IPython.display import Image"
   ]
  },
  {
   "cell_type": "markdown",
   "metadata": {},
   "source": [
    "## Monetary Policy"
   ]
  },
  {
   "cell_type": "markdown",
   "metadata": {},
   "source": [
    "**Definition**\n",
    "Monetary policy refers to central bank activities that are directed toward influencing the quantity of money and credit in an economy."
   ]
  },
  {
   "cell_type": "markdown",
   "metadata": {},
   "source": [
    "### Money: Functions, Creation, and Definition\n",
    "For money to act as the medium of exchange, it must possess certain qualities. It must:\n",
    "- be readily acceptable,\n",
    "- have a known value,\n",
    "- be easily divisible,\n",
    "- have a high value relative to its weight, and\n",
    "- be difficult to counterfeit.\n",
    "\n",
    "\n",
    "Money fulfills three important functions, it:\n",
    "- acts as a medium of exchange;\n",
    "- provides individuals with a way of storing wealth; and\n",
    "- provides society with a convenient measure of value and unit of account.\n",
    "\n",
    "\n",
    "The total amount of money ‘created’ from a new deposit can be calculated as:\n",
    "\n",
    "$$\\frac{New\\ deposit}{Reserve\\ requirement}$$ \n",
    "<div style=\"text-align: right\"> Equation 1 </div>\n",
    "(It is the sum of all the deposits now in the banking system. the original deposit of €100, via the practice of reserve banking, was the catalyst for €1,000 worth of economic transactions.)\n"
   ]
  },
  {
   "cell_type": "markdown",
   "metadata": {},
   "source": [
    "**Important concepts:**\n",
    "- fractional reserve banking: the practice of lending customers’ money to others on the assumption that not all customers will want all of their money back at any one time.\n",
    "- money multiplier: describes how a change in reserves is expected to affect the money supply; in its simplest form, 1 divided by the reserve requirement."
   ]
  },
  {
   "cell_type": "markdown",
   "metadata": {},
   "source": [
    "#### Definition of Money\n",
    "Narrow money: The notes and coins in circulation in an economy, plus other very highly liquid deposits.<br>\n",
    "Broad money: Encompasses narrow money plus the entire range of liquid assets that can be used to make purchases.<br>\n",
    "*Note: Most central banks produce both a narrow and broad measure of money, plus some intermediate ones.*\n",
    "\n",
    "Money Measures in the Eurozone\n",
    "- M1 comprises notes and coins in circulation, plus all overnight deposits. \n",
    "- M2 is a broader definition of euro area money that includes M1, plus deposits redeemable with notice up to three months and deposits with maturity up to two years.\n",
    "- M3 includes M2, plus repurchase agreements, money market fund units, and debt securities with up to two years maturity."
   ]
  },
  {
   "cell_type": "markdown",
   "metadata": {},
   "source": [
    "### Money: Quantity Theory, Supply and Demand, Fisher Effect"
   ]
  },
  {
   "cell_type": "markdown",
   "metadata": {},
   "source": [
    "#### The Quantity Theory of Money\n",
    "Quantity theory of money: asserts that total spending (in money terms) is proportional to the quantity of money. "
   ]
  },
  {
   "cell_type": "markdown",
   "metadata": {},
   "source": [
    "The quantity equation of exchange:\n",
    "$$M × V = P × Y$$\n",
    "where $M$ is the quantity of money, $V$ is the velocity of circulation of money (the average number of times in a given period that a unit of currency changes hands), $P$ is the average price level, and $Y$ is real output. \n",
    "<div style=\"text-align: right\"> Equation 2 </div>\n",
    "\n",
    "Effectively, it says that over a given period, the amount of money used to purchase all goods and services in an economy, $M × V$, is equal to monetary value of this output, $P × Y$. "
   ]
  },
  {
   "cell_type": "markdown",
   "metadata": {},
   "source": [
    "##### Money Neutrality \n",
    "An increase in the money supply leads in the long-run to an increase in the price level, while leaving real variables like output and employment unaffected. If money neutrality holds, then an increase in the money supply, M, will not affect Y, real output, or the speed with which money changed hands, V, because if real output is unaffected, there would be no need for money to change hands more rapidly. However, it will cause the aggregate price level, P, to rise.\n",
    "\n",
    "##### Monetarists\n",
    "Economists who believe the price level, or at least the rate of inflation, could be controlled by manipulating the rate of growth of the money supply. <br>*(However, it is possible that causality runs the other way—that is, from real activity to the money supply. This means that the quantity of money in circulation is determined by the level of economic activity, rather than vice versa.)*"
   ]
  },
  {
   "cell_type": "markdown",
   "metadata": {},
   "source": [
    "#### The Supply and Demand for Money"
   ]
  },
  {
   "cell_type": "markdown",
   "metadata": {},
   "source": [
    "Basic motives for holding money:\n",
    "- transactions-related (money balances that are held to finance transactions)\n",
    "- precautionary\n",
    "- speculative (portfolio demand for money): the demand to hold speculative money balances based on the potential opportunities or risks that are inherent in other financial instruments (e.g., bonds)."
   ]
  },
  {
   "cell_type": "markdown",
   "metadata": {},
   "source": [
    "In money demand and supply market, the price of money is the nominal interest rate that could be earned by **lending it to others**.\n",
    "\n",
    "The below graph also reemphasises the relationship between the supply of money and the aggregate price level, which we first encountered when discussing the quantity theory of money. "
   ]
  },
  {
   "cell_type": "code",
   "execution_count": 3,
   "metadata": {},
   "outputs": [
    {
     "data": {
      "image/png": "[encoded data removed]",
      "text/plain": [
       "<IPython.core.display.Image object>"
      ]
     },
     "execution_count": 3,
     "metadata": {
      "image/png": {
       "height": 100,
       "width": 400
      }
     },
     "output_type": "execute_result"
    }
   ],
   "source": [
    "Image(filename='CFA0134-R-EXH4.png', width = 400, height = 100) "
   ]
  },
  {
   "cell_type": "markdown",
   "metadata": {},
   "source": [
    "Nominal interest rates are comprised of three components:\n",
    "1. a required real return\n",
    "2. a component compensating investors for expected inflation\n",
    "3. a risk premium to compensate them for uncertainty"
   ]
  },
  {
   "cell_type": "markdown",
   "metadata": {},
   "source": [
    "#### The Fisher Effect"
   ]
  },
  {
   "cell_type": "markdown",
   "metadata": {},
   "source": [
    "Fisher effect states that the real rate of interest in an economy is stable over time so that changes in nominal interest rates are the result of changes in expected inflation. Thus, the nominal interest rate ($R_{nom}$) in an economy is the sum of the required real rate of interest ($R_{real}$) and the expected rate of inflation ($π^e$) over any given time horizon:\n",
    "\n",
    "$$R_{nom} = R_{real} + π^e$$\n",
    "<div style=\"text-align: right\"> Equation 3 </div>\n",
    "According to money neutrality, over the long term the money supply and/or the growth rate in money should not affect Rreal but will affect inflation and inflation expectations."
   ]
  },
  {
   "cell_type": "markdown",
   "metadata": {},
   "source": [
    "### Roles of Central Banks & Objectives of Monetary Policy"
   ]
  },
  {
   "cell_type": "markdown",
   "metadata": {},
   "source": [
    "- the monopoly supplier of the currency\n",
    "- the banker to the government and the bankers’ bank\n",
    "- the lender of last resort\n",
    "- the regulator and supervisor of the payments system\n",
    "- the conductor of monetary policy\n",
    "- the supervisor of the banking system\n",
    "- managing their country’s foreign currency reserves and also its gold reserves"
   ]
  },
  {
   "cell_type": "markdown",
   "metadata": {},
   "source": [
    "Overarching role: price stability "
   ]
  },
  {
   "cell_type": "markdown",
   "metadata": {},
   "source": [
    "**Related Concepts**<br>\n",
    "- legal tender\n",
    "- fiat money"
   ]
  },
  {
   "cell_type": "markdown",
   "metadata": {},
   "source": [
    "### The Costs of Inflation"
   ]
  },
  {
   "cell_type": "markdown",
   "metadata": {},
   "source": [
    "#### Expected Inflation\n",
    "- menu costs\n",
    "- shoe leather costs"
   ]
  },
  {
   "cell_type": "markdown",
   "metadata": {},
   "source": [
    "#### Unexpected Inflation (in addition to menu and shoe leather costs)\n",
    "- lead to inequitable transfers of wealth between borrowers and lenders (including losses to savings)\n",
    "- give rise to risk premia in borrowing rates and the prices of other assets\n",
    "- reduce the information content of market prices"
   ]
  },
  {
   "cell_type": "markdown",
   "metadata": {},
   "source": [
    "When inflation turns out to be higher than is anticipated, then borrowers benefit at the expense of lenders because the real value of their borrowing declines. Conversely, when inflation is lower than is anticipated, lenders benefit at the expense of borrowers because the real value of the payment on debts rises. Furthermore, if inflation is very uncertain or very volatile, then lenders will ask for a premium to compensate them for this uncertainty. As a result, the costs of borrowing will be higher than would otherwise have been the case. Higher borrowing costs could in turn reduce economic activity, for example, by discouraging investment."
   ]
  },
  {
   "cell_type": "markdown",
   "metadata": {},
   "source": [
    "### Monetary Policy Tools"
   ]
  },
  {
   "cell_type": "markdown",
   "metadata": {},
   "source": [
    "#### Open Market Operations\n",
    "**Definition**: The purchase or sale of bonds by the national central bank to implement monetary policy. The bonds traded are usually sovereign bonds issued by the national government.\n",
    "*(For example, if banks then use these surplus reserves by increasing lending to corporations and households, then via the money multiplier process, broad money growth expands.)*"
   ]
  },
  {
   "cell_type": "markdown",
   "metadata": {},
   "source": [
    "#### The Central Bank’s Policy Rate (the refinancing rate)\n",
    "**Definition**: It is normally the rate at which it is willing to lend money to the commercial banks. This policy rate can be achieved by using short-term collateralized lending rates, known as **repo rates**. For example, if the central bank wishes to increase the supply of money, it might buy bonds (usually government bonds) from the banks, with an agreement to sell them back at some time in the future. This transaction is known as a repurchase agreement. Normally, the maturity of repo agreements ranges from overnight to two weeks. In effect, this represents a secured loan to the banks, and the lender (in this case the central bank) earns the repo rate.\n",
    "\n",
    "Suppose that a central bank announces an increase in its official interest rate. Commercial banks would normally increase their base rates at the same time.\n",
    "The repo rate would be such that the central bank earned the official refinancing rate on the transactions.\n",
    "\n",
    "**The higher the policy rate, the higher the potential penalty that banks will have to pay to the central bank if they run short of liquidity, the greater will be their willingness to reduce lending, and the more likely that broad money growth will shrink.**"
   ]
  },
  {
   "cell_type": "markdown",
   "metadata": {},
   "source": [
    "Related Conpepts:<br>\n",
    "- base rates: The reference rate on which a bank bases lending rates to all other customers.\n",
    "- two-week repo rate\n",
    "- federal funds rate"
   ]
  },
  {
   "cell_type": "markdown",
   "metadata": {},
   "source": [
    "#### Reserve Requirements\n",
    "**Definition**: The requirement for banks to hold reserves in proportion to the size of deposits."
   ]
  },
  {
   "cell_type": "markdown",
   "metadata": {},
   "source": [
    "#### The Transmission Mechanism\n",
    "**Definition**: The process whereby a central bank’s interest rate gets transmitted through the economy and ultimately affects the rate of increase of prices."
   ]
  },
  {
   "cell_type": "markdown",
   "metadata": {},
   "source": [
    "The central bank’s policy rate works through the economy via any one, and often all, of the following interconnected channels:\n",
    "1. Short-term interest rates\n",
    "2. Changes in the values of key asset prices\n",
    "3. The exchange rate\n",
    "4. The expectations of economic agents"
   ]
  },
  {
   "cell_type": "code",
   "execution_count": 6,
   "metadata": {},
   "outputs": [
    {
     "data": {
      "image/png": "[encoded data removed]",
      "text/plain": [
       "<IPython.core.display.Image object>"
      ]
     },
     "execution_count": 6,
     "metadata": {
      "image/png": {
       "height": 150,
       "width": 450
      }
     },
     "output_type": "execute_result"
    }
   ],
   "source": [
    "# A Stylized Representation of the Monetary Transmission Mechanism\n",
    "Image(filename='CFA0134-R-EXH7.png', width = 450, height = 150) "
   ]
  },
  {
   "cell_type": "markdown",
   "metadata": {},
   "source": [
    "### Inflation Targeting"
   ]
  },
  {
   "cell_type": "markdown",
   "metadata": {},
   "source": [
    "#### The Corner Stone of Successful Inflation-Targeting Framework\n",
    "##### Central Bank Independence (operationally and/or target independent)\n",
    "A bank’s ability to execute monetary policy and set interest rates in the way it thought would best meet the inflation target.\n",
    "\n",
    "##### Credibility\n",
    "Many governments have very large levels of debt, especially since the 2008–2009 global financial crisis. In such a situation, economic agents might expect a high level of inflation, regardless of the actual, stated target. The target might have little credibility if the organization’s likelihood of sticking to it is in doubt.\n",
    "\n",
    "If a respected central bank assumes the inflation-targeting role and if economic agents believe that the central bank will hit its target, the belief itself could become self-fulfilling. \n",
    "\n",
    "##### Transparency\n",
    "Inflation Reports:\n",
    "- Broad money aggregates and credit conditions\n",
    "- Conditions in financial markets\n",
    "- Developments in the real economy (e.g., the labour market)\n",
    "- Evolution of prices\n",
    "\n",
    "##### A decision-making framework that considers a wide range of economic and financial market indicators\n",
    "##### A clear, symmetric and forward-looking medium-term inflation target, sufficiently above 0 percent to avoid the risk of deflation but low enough to ensure a significant degree of price stability"
   ]
  },
  {
   "cell_type": "markdown",
   "metadata": {},
   "source": [
    "#### The Target\n",
    "Banks are normally allowed a range around the central target of +1 percent or –1 percent. "
   ]
  },
  {
   "cell_type": "markdown",
   "metadata": {},
   "source": [
    "the headline inflation rate that is announced in most economies every month, and which is the central bank’s target, is a measure of how much a basket of goods and services has risen over the previous twelve months. It is history. Furthermore, interest rate changes made today will take some time to have their full effect on the real economy as they make their way through the monetary transmission mechanism. It is for these two reasons that inflation targeters do not target current inflation but instead usually focus on inflation two years ahead.\n"
   ]
  },
  {
   "cell_type": "markdown",
   "metadata": {},
   "source": [
    "#### The Main Exceptions to the Inflation-Targeting Rule"
   ]
  },
  {
   "cell_type": "markdown",
   "metadata": {},
   "source": [
    "##### The Bank of Japan\n",
    "Suffers from persistent deflation.\n",
    "##### The US Federal Reserve System\n",
    "\"Inflation targeting might compromise the goal of “maximum employment.\"\n",
    "\n",
    "Use cases: <br>\n",
    "- In practice, however, the Fed has indicated that it sees core inflation measured by the personal consumption expenditure (PCE) deflator of about, or just below, 2 percent as being compatible with “stable prices.” Financial markets therefore watch this US inflation gauge very carefully in order to try and anticipate the rate actions of the Fed."
   ]
  },
  {
   "cell_type": "markdown",
   "metadata": {},
   "source": [
    "### Exchange Rate Targeting"
   ]
  },
  {
   "cell_type": "markdown",
   "metadata": {},
   "source": [
    "Involves setting a fixed level or band of values for the exchange rate against a major currency, with the central bank supporting the target by buying and selling the national currency in foreign exchange markets, (by tying a domestic economy’s currency to that of an economy with a good track record on inflation, the domestic economy would effectively “import” the inflation experience of the low inflation economy.)\n",
    "\n",
    "When the central bank or monetary authority chooses to target an exchange rate, interest rates and conditions in the domestic economy must adapt to accommodate this target and domestic interest rates and money supply can become more volatile."
   ]
  },
  {
   "cell_type": "markdown",
   "metadata": {},
   "source": [
    "Related Concepts:\n",
    "- freely floating exchange rate regime \n",
    "- fixed exchange rate regime\n",
    "- managed exchange rate policy: where they are allowed to fluctuate within a range that is maintained by a monetary authority via market intervention\n",
    "- dollarization: occurs when a country adopts the US dollar as their functional currency"
   ]
  },
  {
   "cell_type": "markdown",
   "metadata": {},
   "source": [
    "### Monetary Policies: Contractionary, Expansionary, Limitations"
   ]
  },
  {
   "cell_type": "markdown",
   "metadata": {},
   "source": [
    "#### Neutral Rate\n",
    "The rate of interest that neither spurs on nor slows down the underlying economy.\n",
    "\n",
    "The neutral policy rate for any economy comprises two components:\n",
    "1. Real trend rate of growth of the underlying economy, and\n",
    "2. Long-run expected inflation"
   ]
  },
  {
   "cell_type": "markdown",
   "metadata": {},
   "source": [
    "$$Neutral\\ rate = Trend\\ growth + Inflation\\ target$$\n",
    "<div style=\"text-align: right\"> Equation 4 </div>"
   ]
  },
  {
   "cell_type": "markdown",
   "metadata": {},
   "source": [
    "*What’s the Source of the Shock to the Inflation Rate?*\n",
    "    Demand shock: A typically unexpected disturbance to demand, such as an unexpected interruption in trade or transportation.\n",
    "    Supply shock: A typically unexpected disturbance to supply."
   ]
  },
  {
   "cell_type": "markdown",
   "metadata": {},
   "source": [
    "#### Limitations of Monetary Policy\n",
    "The limitations of monetary policy include problems in the transmission mechanism and the relative ineffectiveness of interest rate adjustment as a policy tool in deflationary environments.\n",
    "##### Problems in the Monetary Transmission Mechanism\n",
    "- liquidity trap (The economic conditions for a liquidity trap are associated with the phenomenon of deflation.)\n",
    "- bond market vigilantes\n",
    "\n",
    "#### Interest Rate Adjustment in a Deflationary Environment and Quantitative Easing as a Response\n",
    "Deflation raises the real value of debt, while the persistent fall in prices can encourage consumers to put off consumption today, leading to a fall in demand that leads to further deflationary pressure. Thus a deflationary “trap” can develop, which is characterized by weak consumption growth, falling prices, and increases in real debt levels."
   ]
  },
  {
   "cell_type": "markdown",
   "metadata": {},
   "source": [
    "## Fiscal Policy\n",
    "### Roles and Objectives\n",
    "**Definition**\n",
    "Fiscal policy refers to the government’s decisions about taxation and spending. These involve the use of government spending and changing tax revenue to affect a number of aspects of the economy:\n",
    "1. Overall level of aggregate demand in an economy and hence the level of economic activity.\n",
    "2. Distribution of income and wealth among different segments of the population.\n",
    "3. Allocation of resources between different sectors and economic agents.\n",
    "\n",
    "*Discussions focus on the impact of changes in the difference between government spending and revenue on the aggregate economy, rather than on the actual levels of spending and revenue themselves.*"
   ]
  },
  {
   "cell_type": "markdown",
   "metadata": {},
   "source": [
    "Related Conpects: <br>\n",
    "- automatic stabilizer"
   ]
  },
  {
   "cell_type": "markdown",
   "metadata": {},
   "source": [
    "### Deficits and the National Debt"
   ]
  },
  {
   "cell_type": "markdown",
   "metadata": {},
   "source": [
    "Ultimately, if the ratio of debt to GDP rises beyond a certain unknown point, then the solvency of the country comes into question. An additional indicator for potential insolvency is the ratio of interest rate payments to GDP.\n",
    "\n",
    "If an economy grows in real terms, so do the real tax revenues and hence the ability to service a growing real debt at constant tax rate levels. However, if the real growth in the economy is lower than the real interest rate on the debt, then the debt ratio will worsen even though the economy is growing because the debt burden (i.e., the real interest rate times the debt) grows faster than the economy. Hence, an important issue for governments and their creditors is whether their additional spending leads to sufficiently higher tax revenues to pay the interest on the debt used to finance the extra spending.\n",
    "\n",
    "However, within a national economy, the real value of the outstanding debt will fall if the overall price level rises (i.e., inflation, and hence a rise in nominal GDP even if real GDP is static) and thus the ratio of debt to GDP may not be rising. But if the general price level falls (i.e., deflation), then the ratio may stay elevated for longer. If net interest payments rise rapidly and investors lose confidence in a government’s ability to honour its debts, then financing costs may escalate even more quickly and make the situation unstable."
   ]
  },
  {
   "cell_type": "markdown",
   "metadata": {},
   "source": [
    "Related Concepts:<br>\n",
    "- Crowding out: The thesis that government borrowing may divert private sector investment from taking place.\n",
    "- Ricardian equivalence: the reduction in current taxation will have no impact on spending because individuals save more in anticipation of higher future taxes to repay the bond. "
   ]
  },
  {
   "cell_type": "markdown",
   "metadata": {},
   "source": [
    "### Fiscal Policy Tools"
   ]
  },
  {
   "cell_type": "markdown",
   "metadata": {},
   "source": [
    "Government spending can take a variety of forms:\n",
    "- Transfer payments\n",
    "- Current government spending\n",
    "- Capital expenditure "
   ]
  },
  {
   "cell_type": "markdown",
   "metadata": {},
   "source": [
    "Government revenues can take several forms:\n",
    "- Direct taxes (capital gains taxes, national insurance (or labour) taxes, and corporate taxes)\n",
    "- Indirect taxes (taxes on spending on a variety of goods and services in an economy—such as the excise duties on fuel, alcohol, and tobacco as well as sales (or value-added tax)—and often exclude health and education products on social grounds)"
   ]
  },
  {
   "cell_type": "markdown",
   "metadata": {},
   "source": [
    "#### The Advantages and Disadvantages of Using the Different Tools of Fiscal Policy\n",
    "**Indirect taxes** \n",
    "- can be adjusted almost immediately after they are announced \n",
    "- can influence spending behaviour instantly and generate revenue for the government at little or no cost to the government\n",
    "**Social policies** can be adjusted almost instantly by raising such taxes\n",
    "<br>\n",
    "**Direct taxes, welfare and other social transfers**\n",
    "- difficult to change without considerable notice\n",
    "**Capital spending plans** \n",
    "- take longer to formulate and implement"
   ]
  },
  {
   "cell_type": "markdown",
   "metadata": {},
   "source": [
    "#### Modeling the Impact of Taxes and Government Spending: The Fiscal Multiplier\n",
    "**Definition** The fiscal multiplier is the ratio of a change in national income to a change in government spending.\n",
    "<br>\n",
    "The net impact of the government sector on aggregate demand:\n",
    "$$G\\ – T + B = Budget\\ surplus\\ OR\\ deficit$$\n",
    "<div style=\"text-align: right\"> Equation 5 </div>\n",
    "where $G$ is government spending, $T$ is taxes, $B$ is the payment of transfer benefits, such as social security payments.\n"
   ]
  },
  {
   "cell_type": "markdown",
   "metadata": {},
   "source": [
    "Net taxes ($NT$; taxes less transfers) reduce disposable income ($YD$) available to individuals relative to national income or output ($Y$) at ($t$) net tax rate as follows:\n",
    "$$YD = Y – NT = (1 – t) Y$$\n",
    "<div style=\"text-align: right\"> Equation 6 </div>\n",
    "Net taxes are often assumed to be proportional to national income, $Y$, and hence total tax revenue from net taxes is $tY$. If $t = 20\\%$ or 0.2, then for every $1 rise in national income, net tax revenue will rise by 20 cents and household disposable income will rise by 80 cents."
   ]
  },
  {
   "cell_type": "markdown",
   "metadata": {},
   "source": [
    "##### marginal propensity to consume (MPC)\n",
    "The recipients of the increase in government spending will typically save a proportion $$1 – c$$ of each additional dollar of disposable income, where $c$ is the MPC.\n",
    "<br>\n",
    "Spending growing at a constant rate of $c$ as it passes from hand to hand through the economy. This is the familiar geometric progression with constant factor c, where 0 < c < 1. The sum of this geometric series is $$\\frac{1}{(1 – c)}$$(For every dollar of new (additional) spending, total incomes and spending rises by $\\$1/(1 – c)$)\n",
    "\n",
    "##### marginal propensity to save (MPS)\n",
    "It's the amount saved out of an additional dollar of disposable income. Because $c + s = 1$, hence $$s =1 – c$$"
   ]
  },
  {
   "cell_type": "markdown",
   "metadata": {},
   "source": [
    "##### Introducing tax changes to fisical multiplier\n",
    "Spending a proportion $c$ of disposable income: $cYD = c(Y – NT) = c(1 – t)Y$, thus MPC in the presence of tax will be $c(1 – t)$. \n",
    "\n",
    "Provided there are unused sources of capital and labour in the economy, this leads to a rise in aggregate demand and output; the recipients of this extra consumption spending will have $(1 – t)c(1 – t)G$ extra disposable income available and will spend $c$ of it. This cumulative extra spending and income will continue to spread through the economy at a decreasing rate as 0 < c(1 – t) < 1. The overall final impact on aggregate demand and output will effectively be the sum of this decreasing geometric series with common ratio $c(1 – t)$, and this sums (total incomes and spending) to $$1/[1 – c(1 – t)]$$ This is known as the **fiscal multiplier** and is very relevant to studies of fiscal policy as changes in $G$ or tax rates will affect output in an economy through the value of the multiplier.\n",
    "*If the government increases spending, say on road building, by an amount, $G$, then disposable income rises by $(1 – t)G$ and consumer spending by $c(1 – t)G$.*"
   ]
  },
  {
   "cell_type": "markdown",
   "metadata": {},
   "source": [
    "#### The Balanced Budget Multiplier\n",
    "If a government increases $G$ by the same amount as it raises taxes, the aggregate output actually rises. Why is this?\n",
    "\n",
    "It is because the marginal propensity to spend out of disposable income is less than 1, and hence for every dollar less in $YD$, spending only falls $\\$c$. Hence, aggregate spending falls less than the tax rise by a factor of $c$. A balanced budget leads to a rise in output, which in turn leads to further rises in output and incomes via the multiplier effect."
   ]
  },
  {
   "cell_type": "markdown",
   "metadata": {},
   "source": [
    "### Fiscal Policy Implementation"
   ]
  },
  {
   "cell_type": "markdown",
   "metadata": {},
   "source": [
    "#### Active and Discretionary Fiscal Policy\n",
    "In addition to automatic adjustments, governments also use **discretionary fiscal adjustments** to influence aggregate demand. These will involve tax changes and/or spending cuts or increases usually with the aim of stabilizing the economy. \n",
    "\n",
    "#### Macroeconomic Concerns\n",
    "- If the government is concerned with both unemployment and inflation in an economy, then raising aggregate demand toward the full employment level may also lead to a tightening labour market and rising wages and prices. The policymaker may be reluctant to further fine tune fiscal policy in an uncertain world because it might induce inflation.\n",
    "- If the budget deficit is already large relative to GDP and further fiscal stimulus is required, then the necessary increase in the deficit may be considered unacceptable by the financial markets when government funding is raised, leading to higher interest rates on government debt and political pressure to tackle the deficit.\n",
    "- Of course, all this presupposes that we know the level of full employment, which is difficult to measure accurately. Fiscal expansion raises demand, but what if we are already at full employment, which will be changing as productive capacity changes and workers’ willingness to work at various wage levels changes?\n",
    "- If unused resources reflect a low supply of labour or other factors rather than a shortage of demand, then discretionary fiscal policy will not add to demand and will be ineffective, raising the risk of inflationary pressures in the economy.\n",
    "- The issue of crowding out may occur: If the government borrows from a limited pool of savings, the competition for funds with the private sector may crowd out private firms with subsequent less investing and economic growth. In addition, the cost of borrowing may rise, leading to the cancellation of potentially profitable opportunities. This concept is the subject of continuing empirical debate and investigation."
   ]
  },
  {
   "cell_type": "markdown",
   "metadata": {},
   "source": [
    "- recognition lag\n",
    "- action lag\n",
    "- impact lag"
   ]
  },
  {
   "cell_type": "markdown",
   "metadata": {},
   "source": [
    "Related Concepts:<br>\n",
    "- structural (or cyclically adjusted) budget deficit: the deficit that would exist if the economy was at full employment (or full potential output)\n",
    "- automatic stabilizers"
   ]
  },
  {
   "cell_type": "markdown",
   "metadata": {},
   "source": [
    "## The Relationship between Monetary and Fiscal Policy"
   ]
  },
  {
   "cell_type": "markdown",
   "metadata": {},
   "source": [
    "- Easy fiscal policy/tight monetary policy\n",
    "- Tight fiscal policy/easy monetary policy\n",
    "- Easy monetary policy/easy fiscal policy\n",
    "- Tight monetary policy/tight fiscal policy"
   ]
  },
  {
   "cell_type": "markdown",
   "metadata": {},
   "source": [
    "##### No monetary accommodation: \n",
    "Government spending increases have a much bigger effect (six times bigger) on GDP than similar size social transfers because the latter are not considered permanent, although real interest rates rise as monetary authorities react to rises in aggregate demand and inflation. Targeted social transfers to the poorest citizens have double the effect of the non-targeted transfers, while labour tax reductions have a slightly bigger impact than the latter.\n",
    "\n",
    "##### Monetary accommodation: \n",
    "Except for the case of the cut in labour taxes, fiscal multipliers are now much larger than when there is no monetary accommodation. The cumulative multiplier (i.e., the cumulative effect on real GDP over the two years divided by the percentage of GDP, which is a fiscal stimulus) is now 3.9 for government expenditure compared to 1.6 with no monetary accommodation. The corresponding numbers for targeted social transfer payments are 0.5 without monetary accommodation and 1.7 with it. The larger multiplier effects with monetary accommodation result from rises in aggregate demand and inflation, leading to falls in real interest rates and additional private sector spending (e.g., on investment goods). Labour tax cuts are less positive."
   ]
  },
  {
   "cell_type": "markdown",
   "metadata": {},
   "source": []
  },
  {
   "cell_type": "markdown",
   "metadata": {},
   "source": []
  },
  {
   "cell_type": "markdown",
   "metadata": {},
   "source": []
  },
  {
   "cell_type": "markdown",
   "metadata": {},
   "source": []
  },
  {
   "cell_type": "markdown",
   "metadata": {},
   "source": [
    "# International Trade and Capital Flows"
   ]
  },
  {
   "cell_type": "markdown",
   "metadata": {},
   "source": [
    "# Currency Exchange Rates"
   ]
  }
 ],
 "metadata": {
  "kernelspec": {
   "display_name": "Python 3",
   "language": "python",
   "name": "python3"
  },
  "language_info": {
   "codemirror_mode": {
    "name": "ipython",
    "version": 3
   },
   "file_extension": ".py",
   "mimetype": "text/x-python",
   "name": "python",
   "nbconvert_exporter": "python",
   "pygments_lexer": "ipython3",
   "version": "3.7.3"
  }
 },
 "nbformat": 4,
 "nbformat_minor": 4
}
