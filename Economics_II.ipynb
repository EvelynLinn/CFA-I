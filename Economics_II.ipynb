{
 "cells": [
  {
   "cell_type": "code",
   "execution_count": 1,
   "metadata": {},
   "outputs": [],
   "source": [
    "import pandas as pd\n",
    "import numpy as np\n",
    "from matplotlib import pyplot as plt\n",
    "%matplotlib inline\n",
    "from IPython.display import Image"
   ]
  },
  {
   "cell_type": "markdown",
   "metadata": {},
   "source": [
    "# Monetary and Fiscal Policy"
   ]
  },
  {
   "cell_type": "markdown",
   "metadata": {},
   "source": [
    "## Monetary Policy"
   ]
  },
  {
   "cell_type": "markdown",
   "metadata": {},
   "source": [
    "**Definition**\n",
    "Monetary policy refers to central bank activities that are directed toward influencing the quantity of money and credit in an economy."
   ]
  },
  {
   "cell_type": "markdown",
   "metadata": {},
   "source": [
    "### Money: Functions, Creation, and Definition\n",
    "For money to act as the medium of exchange, it must possess certain qualities. It must:\n",
    "- be readily acceptable,\n",
    "- have a known value,\n",
    "- be easily divisible,\n",
    "- have a high value relative to its weight, and\n",
    "- be difficult to counterfeit.\n",
    "\n",
    "\n",
    "Money fulfills three important functions, it:\n",
    "- acts as a medium of exchange;\n",
    "- provides individuals with a way of storing wealth; and\n",
    "- provides society with a convenient measure of value and unit of account.\n",
    "\n",
    "\n",
    "The total amount of money ‘created’ from a new deposit can be calculated as:\n",
    "\n",
    "$$\\frac{New\\ deposit}{Reserve\\ requirement}$$ \n",
    "<div style=\"text-align: right\"> Equation 1 </div>\n",
    "(It is the sum of all the deposits now in the banking system. the original deposit of €100, via the practice of reserve banking, was the catalyst for €1,000 worth of economic transactions.)\n"
   ]
  },
  {
   "cell_type": "markdown",
   "metadata": {},
   "source": [
    "**Important concepts:**\n",
    "- fractional reserve banking: the practice of lending customers’ money to others on the assumption that not all customers will want all of their money back at any one time.\n",
    "- money multiplier: describes how a change in reserves is expected to affect the money supply; in its simplest form, 1 divided by the reserve requirement."
   ]
  },
  {
   "cell_type": "markdown",
   "metadata": {},
   "source": [
    "#### Definition of Money\n",
    "Narrow money: The notes and coins in circulation in an economy, plus other very highly liquid deposits.<br>\n",
    "Broad money: Encompasses narrow money plus the entire range of liquid assets that can be used to make purchases.<br>\n",
    "*Note: Most central banks produce both a narrow and broad measure of money, plus some intermediate ones.*\n",
    "\n",
    "Money Measures in the Eurozone\n",
    "- M1 comprises notes and coins in circulation, plus all overnight deposits. \n",
    "- M2 is a broader definition of euro area money that includes M1, plus deposits redeemable with notice up to three months and deposits with maturity up to two years.\n",
    "- M3 includes M2, plus repurchase agreements, money market fund units, and debt securities with up to two years maturity."
   ]
  },
  {
   "cell_type": "markdown",
   "metadata": {},
   "source": [
    "### Money: Quantity Theory, Supply and Demand, Fisher Effect"
   ]
  },
  {
   "cell_type": "markdown",
   "metadata": {},
   "source": [
    "#### The Quantity Theory of Money\n",
    "Quantity theory of money: asserts that total spending (in money terms) is proportional to the quantity of money. "
   ]
  },
  {
   "cell_type": "markdown",
   "metadata": {},
   "source": [
    "The quantity equation of exchange:\n",
    "$$M × V = P × Y$$\n",
    "where $M$ is the quantity of money, $V$ is the velocity of circulation of money (the average number of times in a given period that a unit of currency changes hands), $P$ is the average price level, and $Y$ is real output. \n",
    "<div style=\"text-align: right\"> Equation 2 </div>\n",
    "\n",
    "Effectively, it says that over a given period, the amount of money used to purchase all goods and services in an economy, $M × V$, is equal to monetary value of this output, $P × Y$. "
   ]
  },
  {
   "cell_type": "markdown",
   "metadata": {},
   "source": [
    "##### Money Neutrality \n",
    "An increase in the money supply leads in the long-run to an increase in the price level, while leaving real variables like output and employment unaffected. If money neutrality holds, then an increase in the money supply, M, will not affect Y, real output, or the speed with which money changed hands, V, because if real output is unaffected, there would be no need for money to change hands more rapidly. However, it will cause the aggregate price level, P, to rise.\n",
    "\n",
    "##### Monetarists\n",
    "Economists who believe the price level, or at least the rate of inflation, could be controlled by manipulating the rate of growth of the money supply. <br>*(However, it is possible that causality runs the other way—that is, from real activity to the money supply. This means that the quantity of money in circulation is determined by the level of economic activity, rather than vice versa.)*"
   ]
  },
  {
   "cell_type": "markdown",
   "metadata": {},
   "source": [
    "#### The Supply and Demand for Money"
   ]
  },
  {
   "cell_type": "markdown",
   "metadata": {},
   "source": [
    "Basic motives for holding money:\n",
    "- transactions-related (money balances that are held to finance transactions)\n",
    "- precautionary\n",
    "- speculative (portfolio demand for money): the demand to hold speculative money balances based on the potential opportunities or risks that are inherent in other financial instruments (e.g., bonds)."
   ]
  },
  {
   "cell_type": "markdown",
   "metadata": {},
   "source": [
    "In money demand and supply market, the price of money is the nominal interest rate that could be earned by **lending it to others**.\n",
    "\n",
    "The below graph also reemphasises the relationship between the supply of money and the aggregate price level, which we first encountered when discussing the quantity theory of money. "
   ]
  },
  {
   "cell_type": "code",
   "execution_count": 3,
   "metadata": {},
   "outputs": [
    {
     "data": {
      "image/png": "[encoded data removed]",
      "text/plain": [
       "<IPython.core.display.Image object>"
      ]
     },
     "execution_count": 3,
     "metadata": {
      "image/png": {
       "height": 100,
       "width": 400
      }
     },
     "output_type": "execute_result"
    }
   ],
   "source": [
    "Image(filename='CFA0134-R-EXH4.png', width = 400, height = 100) "
   ]
  },
  {
   "cell_type": "markdown",
   "metadata": {},
   "source": [
    "Nominal interest rates are comprised of three components:\n",
    "1. a required real return\n",
    "2. a component compensating investors for expected inflation\n",
    "3. a risk premium to compensate them for uncertainty"
   ]
  },
  {
   "cell_type": "markdown",
   "metadata": {},
   "source": [
    "#### The Fisher Effect"
   ]
  },
  {
   "cell_type": "markdown",
   "metadata": {},
   "source": [
    "Fisher effect states that the real rate of interest in an economy is stable over time so that changes in nominal interest rates are the result of changes in expected inflation. Thus, the nominal interest rate ($R_{nom}$) in an economy is the sum of the required real rate of interest ($R_{real}$) and the expected rate of inflation ($π^e$) over any given time horizon:\n",
    "\n",
    "$$R_{nom} = R_{real} + π^e$$\n",
    "<div style=\"text-align: right\"> Equation 3 </div>\n",
    "According to money neutrality, over the long term the money supply and/or the growth rate in money should not affect Rreal but will affect inflation and inflation expectations."
   ]
  },
  {
   "cell_type": "markdown",
   "metadata": {},
   "source": [
    "### Roles of Central Banks & Objectives of Monetary Policy"
   ]
  },
  {
   "cell_type": "markdown",
   "metadata": {},
   "source": [
    "- the monopoly supplier of the currency\n",
    "- the banker to the government and the bankers’ bank\n",
    "- the lender of last resort\n",
    "- the regulator and supervisor of the payments system\n",
    "- the conductor of monetary policy\n",
    "- the supervisor of the banking system\n",
    "- managing their country’s foreign currency reserves and also its gold reserves"
   ]
  },
  {
   "cell_type": "markdown",
   "metadata": {},
   "source": [
    "Overarching role: price stability "
   ]
  },
  {
   "cell_type": "markdown",
   "metadata": {},
   "source": [
    "**Related Concepts**<br>\n",
    "- legal tender\n",
    "- fiat money"
   ]
  },
  {
   "cell_type": "markdown",
   "metadata": {},
   "source": [
    "### The Costs of Inflation"
   ]
  },
  {
   "cell_type": "markdown",
   "metadata": {},
   "source": [
    "#### Expected Inflation\n",
    "- menu costs\n",
    "- shoe leather costs"
   ]
  },
  {
   "cell_type": "markdown",
   "metadata": {},
   "source": [
    "#### Unexpected Inflation (in addition to menu and shoe leather costs)\n",
    "- lead to inequitable transfers of wealth between borrowers and lenders (including losses to savings)\n",
    "- give rise to risk premia in borrowing rates and the prices of other assets\n",
    "- reduce the information content of market prices"
   ]
  },
  {
   "cell_type": "markdown",
   "metadata": {},
   "source": [
    "When inflation turns out to be higher than is anticipated, then borrowers benefit at the expense of lenders because the real value of their borrowing declines. Conversely, when inflation is lower than is anticipated, lenders benefit at the expense of borrowers because the real value of the payment on debts rises. Furthermore, if inflation is very uncertain or very volatile, then lenders will ask for a premium to compensate them for this uncertainty. As a result, the costs of borrowing will be higher than would otherwise have been the case. Higher borrowing costs could in turn reduce economic activity, for example, by discouraging investment."
   ]
  },
  {
   "cell_type": "markdown",
   "metadata": {},
   "source": [
    "### Monetary Policy Tools\n",
    "In implementing monetary policy, central banks have three primary tools available to them: \n",
    "1. open market operations, (purchase securities)\n",
    "- setting the official policy rate, and \n",
    "- reserve requirements. "
   ]
  },
  {
   "cell_type": "markdown",
   "metadata": {},
   "source": [
    "#### Open Market Operations\n",
    "The purchase or sale of bonds by the national central bank to implement monetary policy. The bonds traded are usually sovereign bonds issued by the national government.\n",
    "\n",
    "*(For example, if banks then use these surplus reserves by increasing lending to corporations and households, then via the money multiplier process, broad money growth expands.)*\n",
    "\n",
    "When the central bank purchases securities (open market operations), it increases the reserves held by private sector banks. These increased reserves lead to a reduction in interest rates on money market securities and, ultimately, to a reduction in other interest rates in the economy."
   ]
  },
  {
   "cell_type": "markdown",
   "metadata": {},
   "source": [
    "#### The Central Bank’s Policy Rate (the refinancing rate)\n",
    "It is normally the rate at which it is willing to lend money to the commercial banks. This policy rate can be achieved by using `short-term collateralized lending rates`, known as `repo rates`. For example, if the central bank wishes to increase the supply of money, it might buy bonds (usually government bonds) from the banks, with an agreement to sell them back at some time in the future. This transaction is known as a `repurchase agreement`. Normally, the maturity of repo agreements ranges from overnight to two weeks. In effect, this represents a secured loan to the banks, and the lender (in this case the central bank) earns the repo rate.\n",
    "\n",
    "Suppose that a central bank announces an increase in its official interest rate. Commercial banks would normally increase their base rates at the same time.\n",
    "\n",
    "The repo rate would be such that the central bank earned the official refinancing rate on the transactions.\n",
    "\n",
    "**The higher the policy rate, the higher the potential penalty that banks will have to pay to the central bank if they run short of liquidity, the greater will be their willingness to reduce lending, and the more likely that broad money growth will shrink.**"
   ]
  },
  {
   "cell_type": "markdown",
   "metadata": {},
   "source": [
    "Related Conpepts:<br>\n",
    "- base rates: The reference rate on which a bank bases lending rates to all other customers.\n",
    "- two-week repo rate\n",
    "- federal funds rate"
   ]
  },
  {
   "cell_type": "markdown",
   "metadata": {},
   "source": [
    "#### Reserve Requirements\n",
    "**Definition**: The requirement for banks to hold reserves in proportion to the size of deposits."
   ]
  },
  {
   "cell_type": "markdown",
   "metadata": {},
   "source": [
    "#### The Transmission Mechanism\n",
    "**Definition**: The process whereby a central bank’s interest rate gets transmitted through the economy and ultimately affects the rate of increase of prices."
   ]
  },
  {
   "cell_type": "markdown",
   "metadata": {},
   "source": [
    "The central bank’s policy rate works through the economy via any one, and often all, of the following interconnected channels:\n",
    "1. Short-term interest rates\n",
    "2. Changes in the values of key asset prices\n",
    "3. The exchange rate\n",
    "4. The expectations of economic agents"
   ]
  },
  {
   "cell_type": "code",
   "execution_count": 6,
   "metadata": {},
   "outputs": [
    {
     "data": {
      "image/png": "[encoded data removed]",
      "text/plain": [
       "<IPython.core.display.Image object>"
      ]
     },
     "execution_count": 6,
     "metadata": {
      "image/png": {
       "height": 150,
       "width": 450
      }
     },
     "output_type": "execute_result"
    }
   ],
   "source": [
    "# A Stylized Representation of the Monetary Transmission Mechanism\n",
    "Image(filename='CFA0134-R-EXH7.png', width = 450, height = 150) "
   ]
  },
  {
   "cell_type": "markdown",
   "metadata": {},
   "source": [
    "### Inflation Targeting"
   ]
  },
  {
   "cell_type": "markdown",
   "metadata": {},
   "source": [
    "#### The Corner Stone of Successful Inflation-Targeting Framework\n",
    "##### Central Bank Independence (operationally and/or target independent)\n",
    "A bank’s ability to execute monetary policy and set interest rates in the way it thought would best meet the inflation target.\n",
    "\n",
    "##### Credibility\n",
    "Many governments have very large levels of debt, especially since the 2008–2009 global financial crisis. In such a situation, economic agents might expect a high level of inflation, regardless of the actual, stated target. The target might have little credibility if the organization’s likelihood of sticking to it is in doubt.\n",
    "\n",
    "If a respected central bank assumes the inflation-targeting role and if economic agents believe that the central bank will hit its target, the belief itself could become self-fulfilling. \n",
    "\n",
    "##### Transparency\n",
    "Inflation Reports:\n",
    "- Broad money aggregates and credit conditions\n",
    "- Conditions in financial markets\n",
    "- Developments in the real economy (e.g., the labour market)\n",
    "- Evolution of prices\n",
    "\n",
    "##### A decision-making framework that considers a wide range of economic and financial market indicators\n",
    "##### A clear, symmetric and forward-looking medium-term inflation target, sufficiently above 0 percent to avoid the risk of deflation but low enough to ensure a significant degree of price stability"
   ]
  },
  {
   "cell_type": "markdown",
   "metadata": {},
   "source": [
    "#### The Target\n",
    "Banks are normally allowed a range around the central target of +1 percent or –1 percent. "
   ]
  },
  {
   "cell_type": "markdown",
   "metadata": {},
   "source": [
    "the headline inflation rate that is announced in most economies every month, and which is the central bank’s target, is a measure of how much a basket of goods and services has risen over the previous twelve months. It is history. Furthermore, interest rate changes made today will take some time to have their full effect on the real economy as they make their way through the monetary transmission mechanism. It is for these two reasons that inflation targeters do not target current inflation but instead usually focus on inflation two years ahead.\n"
   ]
  },
  {
   "cell_type": "markdown",
   "metadata": {},
   "source": [
    "#### The Main Exceptions to the Inflation-Targeting Rule"
   ]
  },
  {
   "cell_type": "markdown",
   "metadata": {},
   "source": [
    "##### The Bank of Japan\n",
    "Suffers from persistent deflation.\n",
    "##### The US Federal Reserve System\n",
    "\"Inflation targeting might compromise the goal of “maximum employment.\"\n",
    "\n",
    "Use cases: <br>\n",
    "- In practice, however, the Fed has indicated that it sees core inflation measured by the personal consumption expenditure (PCE) deflator of about, or just below, 2 percent as being compatible with “stable prices.” Financial markets therefore watch this US inflation gauge very carefully in order to try and anticipate the rate actions of the Fed."
   ]
  },
  {
   "cell_type": "markdown",
   "metadata": {},
   "source": [
    "### Exchange Rate Targeting"
   ]
  },
  {
   "cell_type": "markdown",
   "metadata": {},
   "source": [
    "Involves setting a fixed level or band of values for the exchange rate against a major currency, with the central bank supporting the target by buying and selling the national currency in foreign exchange markets, (by tying a domestic economy’s currency to that of an economy with a good track record on inflation, the domestic economy would effectively “import” the inflation experience of the low inflation economy.)\n",
    "\n",
    "When the central bank or monetary authority chooses to target an exchange rate, interest rates and conditions in the domestic economy must adapt to accommodate this target and domestic interest rates and money supply can become more volatile."
   ]
  },
  {
   "cell_type": "markdown",
   "metadata": {},
   "source": [
    "Related Concepts:\n",
    "- freely floating exchange rate regime \n",
    "- fixed exchange rate regime\n",
    "- managed exchange rate policy: where they are allowed to fluctuate within a range that is maintained by a monetary authority via market intervention\n",
    "- dollarization: occurs when a country adopts the US dollar as their functional currency"
   ]
  },
  {
   "cell_type": "markdown",
   "metadata": {},
   "source": [
    "### Monetary Policies: Contractionary, Expansionary, Limitations"
   ]
  },
  {
   "cell_type": "markdown",
   "metadata": {},
   "source": [
    "#### Neutral Rate\n",
    "The rate of interest that neither spurs on nor slows down the underlying economy.\n",
    "\n",
    "The neutral policy rate for any economy comprises two components:\n",
    "1. Real trend rate of growth of the underlying economy, and\n",
    "2. Long-run expected inflation"
   ]
  },
  {
   "cell_type": "markdown",
   "metadata": {},
   "source": [
    "$$Neutral\\ rate = Trend\\ growth + Inflation\\ target$$\n",
    "<div style=\"text-align: right\"> Equation 4 </div>"
   ]
  },
  {
   "cell_type": "markdown",
   "metadata": {},
   "source": [
    "*What’s the Source of the Shock to the Inflation Rate?*\n",
    "    Demand shock: A typically unexpected disturbance to demand, such as an unexpected interruption in trade or transportation.\n",
    "    Supply shock: A typically unexpected disturbance to supply."
   ]
  },
  {
   "cell_type": "markdown",
   "metadata": {},
   "source": [
    "#### Limitations of Monetary Policy\n",
    "The limitations of monetary policy include problems in the transmission mechanism and the relative ineffectiveness of interest rate adjustment as a policy tool in deflationary environments.\n",
    "##### Problems in the Monetary Transmission Mechanism\n",
    "- liquidity trap (The economic conditions for a liquidity trap are associated with the phenomenon of deflation.)\n",
    "- bond market vigilantes\n",
    "\n",
    "#### Interest Rate Adjustment in a Deflationary Environment and Quantitative Easing as a Response\n",
    "Deflation raises the real value of debt, while the persistent fall in prices can encourage consumers to put off consumption today, leading to a fall in demand that leads to further deflationary pressure. Thus a deflationary “trap” can develop, which is characterized by weak consumption growth, falling prices, and increases in real debt levels."
   ]
  },
  {
   "cell_type": "markdown",
   "metadata": {},
   "source": [
    "## Fiscal Policy\n",
    "### Roles and Objectives\n",
    "**Definition**\n",
    "Fiscal policy refers to the government’s decisions about taxation and spending. These involve the use of government spending and changing tax revenue to affect a number of aspects of the economy:\n",
    "1. Overall level of aggregate demand in an economy and hence the level of economic activity.\n",
    "2. Distribution of income and wealth among different segments of the population.\n",
    "3. Allocation of resources between different sectors and economic agents.\n",
    "\n",
    "*Discussions focus on the impact of changes in the difference between government spending and revenue on the aggregate economy, rather than on the actual levels of spending and revenue themselves.*"
   ]
  },
  {
   "cell_type": "markdown",
   "metadata": {},
   "source": [
    "Related Conpects: <br>\n",
    "- automatic stabilizer"
   ]
  },
  {
   "cell_type": "markdown",
   "metadata": {},
   "source": [
    "### Deficits and the National Debt"
   ]
  },
  {
   "cell_type": "markdown",
   "metadata": {},
   "source": [
    "Ultimately, if the ratio of debt to GDP rises beyond a certain unknown point, then the solvency of the country comes into question. An additional indicator for potential insolvency is the ratio of interest rate payments to GDP.\n",
    "\n",
    "If an economy grows in real terms, so do the real tax revenues and hence the ability to service a growing real debt at constant tax rate levels. However, if the real growth in the economy is lower than the real interest rate on the debt, then the debt ratio will worsen even though the economy is growing because the debt burden (i.e., the real interest rate times the debt) grows faster than the economy. Hence, an important issue for governments and their creditors is whether their additional spending leads to sufficiently higher tax revenues to pay the interest on the debt used to finance the extra spending.\n",
    "\n",
    "However, within a national economy, the real value of the outstanding debt will fall if the overall price level rises (i.e., inflation, and hence a rise in nominal GDP even if real GDP is static) and thus the ratio of debt to GDP may not be rising. But if the general price level falls (i.e., deflation), then the ratio may stay elevated for longer. If net interest payments rise rapidly and investors lose confidence in a government’s ability to honour its debts, then financing costs may escalate even more quickly and make the situation unstable."
   ]
  },
  {
   "cell_type": "markdown",
   "metadata": {},
   "source": [
    "Related Concepts:<br>\n",
    "- Crowding out: The thesis that government borrowing may divert private sector investment from taking place.\n",
    "- Ricardian equivalence: the reduction in current taxation will have no impact on spending because individuals save more in anticipation of higher future taxes to repay the bond. "
   ]
  },
  {
   "cell_type": "markdown",
   "metadata": {},
   "source": [
    "### Fiscal Policy Tools"
   ]
  },
  {
   "cell_type": "markdown",
   "metadata": {},
   "source": [
    "Government spending can take a variety of forms:\n",
    "- Transfer payments\n",
    "- Current government spending\n",
    "- Capital expenditure "
   ]
  },
  {
   "cell_type": "markdown",
   "metadata": {},
   "source": [
    "Government revenues can take several forms:\n",
    "- Direct taxes (capital gains taxes, national insurance (or labour) taxes, and corporate taxes)\n",
    "- Indirect taxes (taxes on spending on a variety of goods and services in an economy—such as the excise duties on fuel, alcohol, and tobacco as well as sales (or value-added tax)—and often exclude health and education products on social grounds)"
   ]
  },
  {
   "cell_type": "markdown",
   "metadata": {},
   "source": [
    "#### The Advantages and Disadvantages of Using the Different Tools of Fiscal Policy\n",
    "**Indirect taxes** \n",
    "- can be adjusted almost immediately after they are announced \n",
    "- can influence spending behaviour instantly and generate revenue for the government at little or no cost to the government\n",
    "**Social policies** can be adjusted almost instantly by raising such taxes\n",
    "<br>\n",
    "**Direct taxes, welfare and other social transfers**\n",
    "- difficult to change without considerable notice\n",
    "**Capital spending plans** \n",
    "- take longer to formulate and implement"
   ]
  },
  {
   "cell_type": "markdown",
   "metadata": {},
   "source": [
    "#### Modeling the Impact of Taxes and Government Spending: The Fiscal Multiplier\n",
    "**Definition** The fiscal multiplier is the ratio of a change in national income to a change in government spending.\n",
    "<br>\n",
    "The net impact of the government sector on aggregate demand:\n",
    "$$G\\ – T + B = Budget\\ surplus\\ OR\\ deficit$$\n",
    "<div style=\"text-align: right\"> Equation 5 </div>\n",
    "where $G$ is government spending, $T$ is taxes, $B$ is the payment of transfer benefits, such as social security payments.\n"
   ]
  },
  {
   "cell_type": "markdown",
   "metadata": {},
   "source": [
    "Net taxes ($NT$; taxes less transfers) reduce disposable income ($YD$) available to individuals relative to national income or output ($Y$) at ($t$) net tax rate as follows:\n",
    "$$YD = Y – NT = (1 – t) Y$$\n",
    "<div style=\"text-align: right\"> Equation 6 </div>\n",
    "Net taxes are often assumed to be proportional to national income, $Y$, and hence total tax revenue from net taxes is $tY$. If $t = 20\\%$ or 0.2, then for every $1 rise in national income, net tax revenue will rise by 20 cents and household disposable income will rise by 80 cents."
   ]
  },
  {
   "cell_type": "markdown",
   "metadata": {},
   "source": [
    "##### marginal propensity to consume (MPC)\n",
    "The recipients of the increase in government spending will typically save a proportion $$1 – c$$ of each additional dollar of disposable income, where $c$ is the MPC.\n",
    "<br>\n",
    "Spending growing at a constant rate of $c$ as it passes from hand to hand through the economy. This is the familiar geometric progression with constant factor c, where 0 < c < 1. The sum of this geometric series is $$\\frac{1}{(1 – c)}$$(For every dollar of new (additional) spending, total incomes and spending rises by $\\$1/(1 – c)$)\n",
    "\n",
    "##### marginal propensity to save (MPS)\n",
    "It's the amount saved out of an additional dollar of disposable income. Because $c + s = 1$, hence $$s =1 – c$$"
   ]
  },
  {
   "cell_type": "markdown",
   "metadata": {},
   "source": [
    "##### Introducing tax changes to fisical multiplier\n",
    "Spending a proportion $c$ of disposable income: $cYD = c(Y – NT) = c(1 – t)Y$, thus MPC in the presence of tax will be $c(1 – t)$. \n",
    "\n",
    "Provided there are unused sources of capital and labour in the economy, this leads to a rise in aggregate demand and output; the recipients of this extra consumption spending will have $(1 – t)c(1 – t)G$ extra disposable income available and will spend $c$ of it. This cumulative extra spending and income will continue to spread through the economy at a decreasing rate as 0 < c(1 – t) < 1. The overall final impact on aggregate demand and output will effectively be the sum of this decreasing geometric series with common ratio $c(1 – t)$, and this sums (total incomes and spending) to $$1/[1 – c(1 – t)]$$ This is known as the **fiscal multiplier** and is very relevant to studies of fiscal policy as changes in $G$ or tax rates will affect output in an economy through the value of the multiplier.\n",
    "*If the government increases spending, say on road building, by an amount, $G$, then disposable income rises by $(1 – t)G$ and consumer spending by $c(1 – t)G$.*"
   ]
  },
  {
   "cell_type": "markdown",
   "metadata": {},
   "source": [
    "#### The Balanced Budget Multiplier\n",
    "If a government increases $G$ by the same amount as it raises taxes, the aggregate output actually rises. Why is this?\n",
    "\n",
    "It is because the marginal propensity to spend out of disposable income is less than 1, and hence for every dollar less in $YD$, spending only falls $\\$c$. Hence, aggregate spending falls less than the tax rise by a factor of $c$. A balanced budget leads to a rise in output, which in turn leads to further rises in output and incomes via the multiplier effect."
   ]
  },
  {
   "cell_type": "markdown",
   "metadata": {},
   "source": [
    "### Fiscal Policy Implementation"
   ]
  },
  {
   "cell_type": "markdown",
   "metadata": {},
   "source": [
    "#### Active and Discretionary Fiscal Policy\n",
    "In addition to automatic adjustments, governments also use **discretionary fiscal adjustments** to influence aggregate demand. These will involve tax changes and/or spending cuts or increases usually with the aim of stabilizing the economy. \n",
    "\n",
    "#### Macroeconomic Concerns\n",
    "- If the government is concerned with both unemployment and inflation in an economy, then raising aggregate demand toward the full employment level may also lead to a tightening labour market and rising wages and prices. The policymaker may be reluctant to further fine tune fiscal policy in an uncertain world because it might induce inflation.\n",
    "- If the budget deficit is already large relative to GDP and further fiscal stimulus is required, then the necessary increase in the deficit may be considered unacceptable by the financial markets when government funding is raised, leading to higher interest rates on government debt and political pressure to tackle the deficit.\n",
    "- Of course, all this presupposes that we know the level of full employment, which is difficult to measure accurately. Fiscal expansion raises demand, but what if we are already at full employment, which will be changing as productive capacity changes and workers’ willingness to work at various wage levels changes?\n",
    "- If unused resources reflect a low supply of labour or other factors rather than a shortage of demand, then discretionary fiscal policy will not add to demand and will be ineffective, raising the risk of inflationary pressures in the economy.\n",
    "- The issue of crowding out may occur: If the government borrows from a limited pool of savings, the competition for funds with the private sector may crowd out private firms with subsequent less investing and economic growth. In addition, the cost of borrowing may rise, leading to the cancellation of potentially profitable opportunities. This concept is the subject of continuing empirical debate and investigation."
   ]
  },
  {
   "cell_type": "markdown",
   "metadata": {},
   "source": [
    "- recognition lag\n",
    "- action lag\n",
    "- impact lag"
   ]
  },
  {
   "cell_type": "markdown",
   "metadata": {},
   "source": [
    "Related Concepts:<br>\n",
    "- structural (or cyclically adjusted) budget deficit: the deficit that would exist if the economy was at full employment (or full potential output)\n",
    "- automatic stabilizers"
   ]
  },
  {
   "cell_type": "markdown",
   "metadata": {},
   "source": [
    "## The Relationship between Monetary and Fiscal Policy"
   ]
  },
  {
   "cell_type": "markdown",
   "metadata": {},
   "source": [
    "- Easy fiscal policy/tight monetary policy\n",
    "- Tight fiscal policy/easy monetary policy\n",
    "- Easy monetary policy/easy fiscal policy\n",
    "- Tight monetary policy/tight fiscal policy"
   ]
  },
  {
   "cell_type": "markdown",
   "metadata": {},
   "source": [
    "##### No monetary accommodation: \n",
    "Government spending increases have a much bigger effect (six times bigger) on GDP than similar size social transfers because the latter are not considered permanent, although real interest rates rise as monetary authorities react to rises in aggregate demand and inflation. Targeted social transfers to the poorest citizens have double the effect of the non-targeted transfers, while labour tax reductions have a slightly bigger impact than the latter.\n",
    "\n",
    "##### Monetary accommodation: \n",
    "Except for the case of the cut in labour taxes, fiscal multipliers are now much larger than when there is no monetary accommodation. The cumulative multiplier (i.e., the cumulative effect on real GDP over the two years divided by the percentage of GDP, which is a fiscal stimulus) is now 3.9 for government expenditure compared to 1.6 with no monetary accommodation. The corresponding numbers for targeted social transfer payments are 0.5 without monetary accommodation and 1.7 with it. The larger multiplier effects with monetary accommodation result from rises in aggregate demand and inflation, leading to falls in real interest rates and additional private sector spending (e.g., on investment goods). Labour tax cuts are less positive."
   ]
  },
  {
   "cell_type": "markdown",
   "metadata": {},
   "source": [
    "# International Trade and Capital Flows"
   ]
  },
  {
   "cell_type": "markdown",
   "metadata": {},
   "source": [
    "Related Concepts:<br>\n",
    "- The difference between a country’s GDP and its GNP is that GDP includes, and GNP excludes, the production of goods and services by foreigners within that country, whereas GNP includes, and GDP excludes, the production of goods and services by its citizens outside of the country.\n",
    "- The terms of trade are defined as the ratio of the price of exports to the price of imports, representing those prices by export and import price indexes, respectively. The terms of trade capture the relative cost of imports in terms of exports. \n",
    "- Autarky is a state in which a country does not trade with other countries. "
   ]
  },
  {
   "cell_type": "markdown",
   "metadata": {},
   "source": [
    "### Patterns and Trends in International Trade and Capital Flows\n",
    "- Foreign direct investment (FDI) refers to direct investment by a firm in one country (the source country) in productive assets in a foreign country (the host country). When a firm engages in FDI, it becomes a multinational corporation (MNC)\n",
    "- Foreign portfolio investment (FPI), which refers to shorter-term investment by individuals, firms, and institutional investors (e.g., pension funds) in such foreign financial instruments as foreign stocks and foreign government bonds."
   ]
  },
  {
   "cell_type": "markdown",
   "metadata": {},
   "source": [
    "### Benefits and Costs of International Trade\n",
    "1. gains from exchange and specialization based on relative cost advantage; \n",
    "2. gains from economies of scale as the companies add new markets for their products; \n",
    "3. greater variety of products available to households and firms; \n",
    "4. greater efficiency from increased competition; and more efficient allocation of resources."
   ]
  },
  {
   "cell_type": "markdown",
   "metadata": {},
   "source": [
    "### Comparative Advantage and the Gains from Trade: Absolute and Comparative Advantage\n",
    "**Absolute advantage** producing at a lower cost or use fewer resources<br> \n",
    "**Comparative advantage** producing at less opportunity cost\n",
    "\n",
    "##### Gains from trade based on comparative advantage:\n",
    "The further away the world price of a good or service is from its autarkic price in a given country, the more that country gains from trade.\n"
   ]
  },
  {
   "cell_type": "code",
   "execution_count": 9,
   "metadata": {},
   "outputs": [
    {
     "data": {
      "image/png": "[encoded data removed]",
      "text/plain": [
       "<IPython.core.display.Image object>"
      ]
     },
     "execution_count": 9,
     "metadata": {
      "image/png": {
       "height": 100,
       "width": 400
      }
     },
     "output_type": "execute_result"
    }
   ],
   "source": [
    "# Graphical Depiction of Gains from Trade with Increasing Costs\n",
    "Image(filename='CFA0135-R-EXH10a.png', width = 400, height = 100) "
   ]
  },
  {
   "cell_type": "code",
   "execution_count": 10,
   "metadata": {},
   "outputs": [
    {
     "data": {
      "image/png": "[encoded data removed]",
      "text/plain": [
       "<IPython.core.display.Image object>"
      ]
     },
     "execution_count": 10,
     "metadata": {
      "image/png": {
       "height": 100,
       "width": 400
      }
     },
     "output_type": "execute_result"
    }
   ],
   "source": [
    "Image(filename='CFA0135-R-EXH10b.png', width = 400, height = 100) "
   ]
  },
  {
   "cell_type": "markdown",
   "metadata": {},
   "source": [
    "#### Ricardian and Heckscher–Ohlin Models of Comparative Advantage\n",
    "In the Ricardian model: \n",
    "- labor is the only (variable) factor of production.\n",
    "\n",
    "In the Heckscher-Ohlin model:\n",
    "- a country has a comparative advantage in goods whose production is intensive in the factor with which it is relatively abundantly endowed, and would tend to specialize in and export that good.\n",
    "- allows for the possibility of income redistribution through trade."
   ]
  },
  {
   "cell_type": "markdown",
   "metadata": {},
   "source": [
    "Use cases:<br>\n",
    "- Changes in factor endowments can cause changes in the patterns of trade and can create profitable investment opportunities. "
   ]
  },
  {
   "cell_type": "markdown",
   "metadata": {},
   "source": [
    "### Restrictions & Agreements\n",
    "#### Tariffs\n",
    "***Welfare Effects on Importing Country***<br>\n",
    "1. Consumer surplus loss due to price increase: $– (A + B + C + D)$\n",
    "2. Producer surplus gain due to price increase: $+A$\n",
    "3. Tariff revenue or Quota rents gained by government: $+C$\t\n",
    "4. National welfare (net welfare effect is the sum of these three effects): $– B – D$"
   ]
  },
  {
   "cell_type": "code",
   "execution_count": 11,
   "metadata": {},
   "outputs": [
    {
     "data": {
      "image/png": "[encoded data removed]",
      "text/plain": [
       "<IPython.core.display.Image object>"
      ]
     },
     "execution_count": 11,
     "metadata": {
      "image/png": {
       "height": 100,
       "width": 400
      }
     },
     "output_type": "execute_result"
    }
   ],
   "source": [
    "# Welfare Effects of Tariff and Import Quota\n",
    "Image(filename='CFA0135-R-EXH11.png', width = 400, height = 100) "
   ]
  },
  {
   "cell_type": "markdown",
   "metadata": {},
   "source": [
    "#### Quotas \n",
    "A quota restricts the quantity of a good that can be imported into a country, generally for a specified period of time. An import license specifies the quantity that can be imported.\n",
    "\n",
    "With quotas, foreign producers can often raise the price of their goods and earn greater profits (**quota rents**) than they would without the quota. Area C, however, is now the quota rent or profits that are likely to be captured by the foreign producer rather than tariff revenue that is captured by the domestic government.\n",
    "\n",
    "\n",
    "***Welfare Effects***<br>\n",
    "- If the foreign producer or foreign government captures the quota rent, C, then the welfare loss to the importing country, represented by areas B + D + C in the above graph, under a quota is greater than under the equivalent tariff. \n",
    "- If the government of the country that imposes the quota can capture the quota rents by auctioning the import licenses for a fee, then the welfare loss under the quota is similar to that of a tariff, represented by areas B + D."
   ]
  },
  {
   "cell_type": "markdown",
   "metadata": {},
   "source": [
    "#### Export Subsidies\n",
    "***Welfare Effects***<br>\n",
    "- In the case of an export subsidy, the exporter has the incentive to shift sales from the domestic to the export market because it receives the international price plus the per-unit subsidy for each unit of the good exported. This scenario raises the price in the domestic market by the amount of the subsidy in the small country case (price before subsidy plus subsidy).\n",
    "- In the large country case, the world price declines as the large country increases exports. The net welfare effect is negative in both the large and small country cases, with a larger decline in the large country case. This result is because in the large country case, the decline in world prices implies that a part of the subsidy is transferred to the foreign country, unlike in the small country case.\n",
    "\n",
    "Export subsidies interfere with the functioning of the free market and result in a `deadweight loss` to society. \n",
    "- The deadweight loss arises on the producer side because the higher subsidized price causes inefficient producers to remain in the market. \n",
    "- On the consumer side, the higher price causes those that would have purchased at the lower price to be shut out of the market."
   ]
  },
  {
   "cell_type": "markdown",
   "metadata": {},
   "source": [
    "Related Concept:<br>\n",
    "- Domestic content provisions\n",
    "- Capital restrictions: controls placed on foreigners’ ability to own domestic assets and/or domestic residents’ ability to own foreign assets\n",
    "- `small country`: a country that is a price taker in the world market for a product and cannot influence the world market price. (A tariff imposed by a small country would not change the price in the exporting country.)\n",
    "- A voluntary export restraint (VER): exporting country agrees to limit its exports of the good to its trading partners to a specific number of units. It allows the quota rent to be captured by the exporter, (whereas in the case of an import quota there is ambiguity regarding who captures the quota rents).\n",
    "- Countervailing duties: duties that are levied by the importing country against subsidized exports entering the country. "
   ]
  },
  {
   "cell_type": "markdown",
   "metadata": {},
   "source": [
    "### Trading Blocs, Common Markets, and Economic Unions\n",
    "#### Free trade areas (FTA) \n",
    "All barriers to the flow of goods and services among members have been eliminated. However, each country maintains its own polices against non-members.\n",
    "#### Customs union\n",
    "Not only allowing free movement of goods and services among members but also creating a common trade policy against non-members.\n",
    "#### Common market\n",
    "Incorporates all aspects of the customs union and extends it by allowing free movement of factors of production among members. \n",
    "#### Economic union \n",
    "Incorporates all aspects of a common market and in addition requires common economic institutions and coordination of economic policies among members. \n",
    "#### Monetary union\n",
    "If the members of the economic union decide to adopt a common currency, then it is also a monetary union. "
   ]
  },
  {
   "cell_type": "markdown",
   "metadata": {},
   "source": [
    "#### Costs <br>\n",
    "- Workers displaced by regional integration may have to bear long-term losses if they are unable to find jobs with wages comparable with the jobs they lost or they remain unemployed for a long period. \n",
    "- Concerns regarding national sovereignty, especially where big and small nations may be part of the same bloc.\n",
    "- Differences in tastes, culture, and competitive conditions still exist among members of a trading bloc. These differences may limit the potential benefits from investments within the bloc."
   ]
  },
  {
   "cell_type": "markdown",
   "metadata": {},
   "source": [
    "Related Concepts:<br>\n",
    "- Trade diversion occurs when lower-cost imports from nonmember countries are replaced with higher-cost imports from members\n",
    "- Trade creation occurs when regional integration results in the replacement of higher-cost domestic production by lower-cost imports from other members.\n",
    "- RTA: regional trading agreements "
   ]
  },
  {
   "cell_type": "markdown",
   "metadata": {},
   "source": [
    "### Capital Restrictions\n",
    "Common objectives of capital restrictions:<br>\n",
    "1. In times of macroeconomic crisis, capital mobility can result in capital flight out of the country, especially if most of the inflow reflects short-term portfolio flows into stocks, bonds, and other liquid assets rather than foreign direct investment (FDI) in productive assets. \n",
    "2. Capital controls helped to maintain a low level of interest rates, reducing the government’s borrowing costs on its liabilities.\n",
    "3. Taxation of domestic wealth. \n"
   ]
  },
  {
   "cell_type": "markdown",
   "metadata": {},
   "source": [
    "## Balance of Payments\n",
    "### Accounts and Components\n",
    "The BOP is a double-entry system in which every transaction involves both a debit and credit. A debit represents an increase in a country’s assets (the purchase of foreign assets or the receipt of cash from foreigners) or a decrease in its liabilities (the amount owed to foreigners); a credit represents a decrease in assets (the sale of goods and services to foreigners or the payment of cash to foreigners) or an increase in liabilities (an amount owed to foreigners).\n",
    "**Debit entries** reflect purchases of imported goods and services, purchases of foreign financial assets, payments received for exports, and payments (interest and principal) received from debtors. \n",
    "<br>\n",
    "**Credit entries** reflect payments for imported goods and services, payments for purchased foreign financial assets, and payments to creditors"
   ]
  },
  {
   "cell_type": "markdown",
   "metadata": {},
   "source": [
    "#### Balance of Payment Components\n",
    "##### Current Account\n",
    "- Merchandise trade (all commodities and manufactured goods bought, sold, or given away)\n",
    "- Services (tourism, transportation, engineering, and business services, such as legal services, management consulting, and accounting. Fees from patents and copyrights on new technology, software, books, and movies are also recorded in the services category)\n",
    "- Income receipts (income derived from ownership of assets, such as dividends and interest payments; income on foreign investments is included in the current account because that income is compensation for services provided by foreign investments. When a German company builds a plant in China, for instance, the services the plant generates are viewed as a service export from Germany to China equal in value to the profits the plant yields for its German owner)\n",
    "- Unilateral transfers (one-way transfers of assets, such as worker remittances from abroad to their home country and foreign direct aid or gifts)"
   ]
  },
  {
   "cell_type": "markdown",
   "metadata": {},
   "source": [
    "##### Capital Account\n",
    "- Capital transfers include \n",
    "    1. debt forgiveness and migrants’ transfers (goods and financial assets belonging to migrants as they leave or enter the country). \n",
    "    2. the transfer of title to fixed assets and the transfer of funds linked to the sale or acquisition of fixed assets, gift and inheritance taxes, death duties, uninsured damage to fixed assets, and legacies.\n",
    "- Sales and purchases of non-produced, non-financial assets, such as the rights to natural resources, and the sale and purchase of intangible assets, such as patents, copyrights, trademarks, franchises, and leases."
   ]
  },
  {
   "cell_type": "markdown",
   "metadata": {},
   "source": [
    "##### Financial Account\n",
    "-  A country’s assets abroad (gold, foreign currencies, foreign securities, the government’s reserve position in the International Monetary Fund, direct foreign investment, and claims reported by resident banks)\n",
    "    1. official reserve assets\n",
    "    2. government assets\n",
    "    3. private assets\n",
    "- Foreign-owned assets in the reporting country (securities issued by the reporting country’s government and private sectors (e.g., bonds, equities, mortgage-backed securities), direct investment, and foreign liabilities reported by the reporting country’s banking sector)\n",
    "    1. official assets and \n",
    "    2. other foreign assets. "
   ]
  },
  {
   "cell_type": "code",
   "execution_count": 13,
   "metadata": {},
   "outputs": [],
   "source": [
    "# Calculating balance of payment accounts balance\n",
    "df = pd.read_csv('us_balance_of_payment.csv', delimiter='\\t')"
   ]
  },
  {
   "cell_type": "code",
   "execution_count": 14,
   "metadata": {},
   "outputs": [
    {
     "data": {
      "text/html": [
       "<div>\n",
       "<style scoped>\n",
       "    .dataframe tbody tr th:only-of-type {\n",
       "        vertical-align: middle;\n",
       "    }\n",
       "\n",
       "    .dataframe tbody tr th {\n",
       "        vertical-align: top;\n",
       "    }\n",
       "\n",
       "    .dataframe thead th {\n",
       "        text-align: right;\n",
       "    }\n",
       "</style>\n",
       "<table border=\"1\" class=\"dataframe\">\n",
       "  <thead>\n",
       "    <tr style=\"text-align: right;\">\n",
       "      <th></th>\n",
       "      <th>(Credits+, Debits−)</th>\n",
       "      <th>1970</th>\n",
       "      <th>1980</th>\n",
       "      <th>1990</th>\n",
       "      <th>2000</th>\n",
       "      <th>2009</th>\n",
       "      <th>2017</th>\n",
       "    </tr>\n",
       "  </thead>\n",
       "  <tbody>\n",
       "    <tr>\n",
       "      <th>0</th>\n",
       "      <td>Current Account</td>\n",
       "      <td>NaN</td>\n",
       "      <td>NaN</td>\n",
       "      <td>NaN</td>\n",
       "      <td>NaN</td>\n",
       "      <td>NaN</td>\n",
       "      <td>NaN</td>\n",
       "    </tr>\n",
       "    <tr>\n",
       "      <th>1</th>\n",
       "      <td>Exports of goods and services and income receipts</td>\n",
       "      <td>68,387</td>\n",
       "      <td>344,440</td>\n",
       "      <td>706,975</td>\n",
       "      <td>1,421,515</td>\n",
       "      <td>2,159,000</td>\n",
       "      <td>3,279,190</td>\n",
       "    </tr>\n",
       "    <tr>\n",
       "      <th>2</th>\n",
       "      <td>Exports of goods and services</td>\n",
       "      <td>56,640</td>\n",
       "      <td>271,834</td>\n",
       "      <td>535,233</td>\n",
       "      <td>1,070,597</td>\n",
       "      <td>1,570,797</td>\n",
       "      <td>2,351,072</td>\n",
       "    </tr>\n",
       "    <tr>\n",
       "      <th>3</th>\n",
       "      <td>Income receipts</td>\n",
       "      <td>11,748</td>\n",
       "      <td>72,606</td>\n",
       "      <td>171,742</td>\n",
       "      <td>350,918</td>\n",
       "      <td>588,203</td>\n",
       "      <td>928,118</td>\n",
       "    </tr>\n",
       "    <tr>\n",
       "      <th>4</th>\n",
       "      <td>Imports of goods and services and income payments</td>\n",
       "      <td>−59,901</td>\n",
       "      <td>−333,774</td>\n",
       "      <td>−759,290</td>\n",
       "      <td>−1,779,241</td>\n",
       "      <td>−2,412,489</td>\n",
       "      <td>−3,609,734</td>\n",
       "    </tr>\n",
       "    <tr>\n",
       "      <th>5</th>\n",
       "      <td>Imports of goods and services</td>\n",
       "      <td>−54,386</td>\n",
       "      <td>−291,241</td>\n",
       "      <td>−616,097</td>\n",
       "      <td>−1,449,377</td>\n",
       "      <td>−1,945,705</td>\n",
       "      <td>−2,903,349</td>\n",
       "    </tr>\n",
       "    <tr>\n",
       "      <th>6</th>\n",
       "      <td>Income payments</td>\n",
       "      <td>−5,515</td>\n",
       "      <td>−42,532</td>\n",
       "      <td>−143,192</td>\n",
       "      <td>−329,864</td>\n",
       "      <td>−466,783</td>\n",
       "      <td>−706,385</td>\n",
       "    </tr>\n",
       "    <tr>\n",
       "      <th>7</th>\n",
       "      <td>Unilateral current transfers, net</td>\n",
       "      <td>−6,156</td>\n",
       "      <td>−8,349</td>\n",
       "      <td>−26,654</td>\n",
       "      <td>−58,645</td>\n",
       "      <td>−124,943</td>\n",
       "      <td>−118,597</td>\n",
       "    </tr>\n",
       "    <tr>\n",
       "      <th>8</th>\n",
       "      <td>Capital Account</td>\n",
       "      <td>NaN</td>\n",
       "      <td>NaN</td>\n",
       "      <td>NaN</td>\n",
       "      <td>NaN</td>\n",
       "      <td>NaN</td>\n",
       "      <td>NaN</td>\n",
       "    </tr>\n",
       "    <tr>\n",
       "      <th>9</th>\n",
       "      <td>Capital account transactions, net</td>\n",
       "      <td>….</td>\n",
       "      <td>….</td>\n",
       "      <td>−7,220</td>\n",
       "      <td>−1</td>\n",
       "      <td>−140</td>\n",
       "      <td>−24,746</td>\n",
       "    </tr>\n",
       "    <tr>\n",
       "      <th>10</th>\n",
       "      <td>Financial Account</td>\n",
       "      <td>NaN</td>\n",
       "      <td>NaN</td>\n",
       "      <td>NaN</td>\n",
       "      <td>NaN</td>\n",
       "      <td>NaN</td>\n",
       "      <td>NaN</td>\n",
       "    </tr>\n",
       "    <tr>\n",
       "      <th>11</th>\n",
       "      <td>US-owned assets abroad, ex derivatives (increa...</td>\n",
       "      <td>−9,337</td>\n",
       "      <td>−86,967</td>\n",
       "      <td>−81,234</td>\n",
       "      <td>−560,523</td>\n",
       "      <td>−140,465</td>\n",
       "      <td>−1,182,749</td>\n",
       "    </tr>\n",
       "    <tr>\n",
       "      <th>12</th>\n",
       "      <td>Foreign-owned assets in the United States, ex ...</td>\n",
       "      <td>7,226</td>\n",
       "      <td>62,037</td>\n",
       "      <td>139,357</td>\n",
       "      <td>1,038,224</td>\n",
       "      <td>305,736</td>\n",
       "      <td>1,537,682</td>\n",
       "    </tr>\n",
       "    <tr>\n",
       "      <th>13</th>\n",
       "      <td>Financial derivatives, net</td>\n",
       "      <td>NaN</td>\n",
       "      <td>NaN</td>\n",
       "      <td>NaN</td>\n",
       "      <td>NaN</td>\n",
       "      <td>50,804</td>\n",
       "      <td>23,074</td>\n",
       "    </tr>\n",
       "    <tr>\n",
       "      <th>14</th>\n",
       "      <td>Statistical discrepancy (sum of above items wi...</td>\n",
       "      <td>−219</td>\n",
       "      <td>22,613</td>\n",
       "      <td>28,066</td>\n",
       "      <td>−61,329</td>\n",
       "      <td>162,497</td>\n",
       "      <td>−95,880</td>\n",
       "    </tr>\n",
       "  </tbody>\n",
       "</table>\n",
       "</div>"
      ],
      "text/plain": [
       "                                  (Credits+, Debits−)     1970      1980  \\\n",
       "0                                     Current Account      NaN       NaN   \n",
       "1   Exports of goods and services and income receipts   68,387   344,440   \n",
       "2                       Exports of goods and services   56,640   271,834   \n",
       "3                                     Income receipts   11,748    72,606   \n",
       "4   Imports of goods and services and income payments  −59,901  −333,774   \n",
       "5                       Imports of goods and services  −54,386  −291,241   \n",
       "6                                     Income payments   −5,515   −42,532   \n",
       "7                   Unilateral current transfers, net   −6,156    −8,349   \n",
       "8                                     Capital Account      NaN       NaN   \n",
       "9                   Capital account transactions, net       ….        ….   \n",
       "10                                  Financial Account      NaN       NaN   \n",
       "11  US-owned assets abroad, ex derivatives (increa...   −9,337   −86,967   \n",
       "12  Foreign-owned assets in the United States, ex ...    7,226    62,037   \n",
       "13                         Financial derivatives, net      NaN       NaN   \n",
       "14  Statistical discrepancy (sum of above items wi...     −219    22,613   \n",
       "\n",
       "        1990        2000        2009        2017  \n",
       "0        NaN         NaN         NaN         NaN  \n",
       "1    706,975   1,421,515   2,159,000   3,279,190  \n",
       "2    535,233   1,070,597   1,570,797   2,351,072  \n",
       "3    171,742     350,918     588,203     928,118  \n",
       "4   −759,290  −1,779,241  −2,412,489  −3,609,734  \n",
       "5   −616,097  −1,449,377  −1,945,705  −2,903,349  \n",
       "6   −143,192    −329,864    −466,783    −706,385  \n",
       "7    −26,654     −58,645    −124,943    −118,597  \n",
       "8        NaN         NaN         NaN         NaN  \n",
       "9     −7,220          −1        −140     −24,746  \n",
       "10       NaN         NaN         NaN         NaN  \n",
       "11   −81,234    −560,523    −140,465  −1,182,749  \n",
       "12   139,357   1,038,224     305,736   1,537,682  \n",
       "13       NaN         NaN      50,804      23,074  \n",
       "14    28,066     −61,329     162,497     −95,880  "
      ]
     },
     "execution_count": 14,
     "metadata": {},
     "output_type": "execute_result"
    }
   ],
   "source": [
    "df"
   ]
  },
  {
   "cell_type": "code",
   "execution_count": null,
   "metadata": {},
   "outputs": [],
   "source": [
    "# Multi-index\n"
   ]
  },
  {
   "cell_type": "markdown",
   "metadata": {},
   "source": [
    "### Paired Transactions in the BOP Bookkeeping System\n",
    "- Commercial Exports: Transactions (ia) and (ib)\n",
    "- Commercial Imports: Transaction (ii)\n",
    "- Loans to Borrowers Abroad: Transaction (iii)\n",
    "- Purchases of Home-Country Currency by Foreign Central Banks: Transaction (iv)\n",
    "- Receipts of Income from Foreign Investments: Transaction (v)\n",
    "- Purchase of Non-financial Assets: Transaction (vi)"
   ]
  },
  {
   "cell_type": "markdown",
   "metadata": {},
   "source": [
    "Use case: \n",
    "Practitioners often think of the current account as roughly synonymous with the trade balance (merchandise trade + services) and lump all the financing flows (financial account + capital account) into one category that is usually referred to simply as the “capital account.” They then think of the capital account as consisting of two types of flows—portfolio investment flows and foreign direct investment (FDI). The former are shorter-term investments in foreign assets (stocks, bonds, etc.), whereas the latter are long-term investments in production capacity abroad. Although not completely accurate, this way of thinking about the balance of payments focuses attention on the components—trade, portfolio flows, and FDI—that are most sensitive to, and most likely to affect, market conditions, prices of goods and services, asset prices, and exchange rates. In addition, this perspective fits well with the role that the balance of payments plays in the macroeconomy."
   ]
  },
  {
   "cell_type": "markdown",
   "metadata": {},
   "source": [
    "### National Economic Accounts and the Balance of Payments"
   ]
  },
  {
   "cell_type": "markdown",
   "metadata": {},
   "source": [
    "National income identity for a closed economy is given by:\n",
    "\n",
    "$$Y = C + I + G$$\n",
    "where $Y$ is GDP, $C$ is private consumption, $I$ is investment, and $G$ government purchases of goods and services.\n",
    "<div style=\"text-align: right\"> Equation 1 </div>"
   ]
  },
  {
   "cell_type": "markdown",
   "metadata": {},
   "source": [
    "National income identity for an open economy is \n",
    "$$Y = C + I + G + X – M$$\n",
    "where $X$ denotes exports and $M$ denotes imports.\n",
    "<div style=\"text-align: right\"> Equation 2 </div>\n",
    "A current account surplus ($X-M>0$) or deficit can affect GDP (and also employment). The balance of the current account is also important because it measures the size and direction of international borrowing."
   ]
  },
  {
   "cell_type": "markdown",
   "metadata": {},
   "source": [
    "In order for the balance of payments to balance, a deficit or surplus in the current account must be offset by an opposite balance in the sum of the capital and financial accounts. This requirement means that a country with a current account deficit has to increase its net foreign debts by the amount of the current account deficit.\n",
    "\n",
    "An economy with a current account surplus finances the current account deficit of its trading partners by lending to them—that is, granting bank loans and investing in financial and real assets. As a result, the foreign wealth of a surplus country rises because foreigners pay for imports by issuing liabilities that they will eventually have to redeem.\n",
    "\n",
    "Defining the current account balance from the perspective of the national income accounts as:\n",
    "$$CA = X – M = Y – (C + I + G)$$\n",
    "<div style=\"text-align: right\"> Equation 3 </div>\n",
    "Only by borrowing money from foreigners can a country have a current account deficit and consume more output than it produces. If it consumes less output than it produces, it has a current account surplus and can (indeed must) lend the surplus to foreigners. "
   ]
  },
  {
   "cell_type": "markdown",
   "metadata": {},
   "source": [
    "Disposable income Yd is equal to income plus transfers minus taxes:\n",
    "$$Y^d = Y + R – T$$\n",
    "<div style=\"text-align: right\"> Equation 4 </div>"
   ]
  },
  {
   "cell_type": "markdown",
   "metadata": {},
   "source": [
    "Disposable income, in turn, is allocated to consumption and saving so that we can write\n",
    "$$Y^d = C + S_p$$\n",
    "where $S_p$ denotes private sector saving. \n",
    "<div style=\"text-align: right\"> Equation 5 </div>"
   ]
  },
  {
   "cell_type": "markdown",
   "metadata": {},
   "source": [
    "Combining Equations 4 and 5 allows us to write consumption as income plus transfers minus taxes and saving.\n",
    "$$C = Y^d – S_p = Y + R – T – S_p$$\n",
    "<div style=\"text-align: right\"> Equation 6 </div>"
   ]
  },
  {
   "cell_type": "markdown",
   "metadata": {},
   "source": [
    "We can now use the right side of Equation 6 to substitute for $C$ in Equation 3. With some rearrangement we obtain\n",
    "$$CA = S_p – I + (T – G – R)$$\n",
    "<div style=\"text-align: right\"> Equation 7 </div>"
   ]
  },
  {
   "cell_type": "markdown",
   "metadata": {},
   "source": [
    "Because $(T – G – R)$ is taxes minus government spending and transfers, it is the government surplus, or put differently, government savings $S_g$. Equation 7 can therefore be restated as\n",
    "$$S_p + S_g = I + CA$$\n",
    "<div style=\"text-align: right\"> Equation 8 </div>\n",
    "An open economy can use its saving for domestic investment or for foreign investment (i.e., by exporting its savings and acquiring foreign assets), while in a closed economy savings can only be used for domestic investment. Put another way, an open economy with promising investment opportunities is not constrained by its domestic savings rate in order to exploit these opportunities. As Equation 8 shows, it can raise investment by increasing foreign borrowing (a reduction in CA) without increasing domestic savings."
   ]
  },
  {
   "cell_type": "markdown",
   "metadata": {},
   "source": [
    "Rearranging Equation 8, we can write\n",
    "$$S_p = I + CA – S_g$$\n",
    "<div style=\"text-align: right\"> Equation 9 </div>\n",
    "An economy’s private savings can be used in three ways: (1) investment in domestic capital ($I$), (2) purchases of assets from foreigners ($CA$), and (3) net purchases (or redemptions) of government debt ($–S_g$)."
   ]
  },
  {
   "cell_type": "markdown",
   "metadata": {},
   "source": [
    "Finally, we can rearrange Equation 8 again to illustrate the macroeconomic sources of a current account imbalance:\n",
    "$$CA = S_p + S_g – I$$\n",
    "<div style=\"text-align: right\"> Equation 10 </div>\n",
    "A current account deficit tends to result from low private savings, high private investment, a government deficit ($S_g < 0$), or a combination of the three. Alternatively, a current account surplus reflects high private savings, low private investment, or a government surplus.<br>\n",
    "\n",
    "**Trade deficits can result from a lack of private or government savings or booming investments. If trade deficits primarily reflect high private or government consumption (i.e., scarce savings = $S_p + S_g$), the deficit country’s capacity to repay its liabilities from future production remains unchanged. If a trade deficit primarily reflects strong investments ($I$), however, the deficit country can increase its productive resources and its ability to repay its liabilities.**"
   ]
  },
  {
   "cell_type": "markdown",
   "metadata": {},
   "source": [
    "##### Decisions by consumers, firms, and governments influence the balance of payments.\n",
    "\n",
    "Low private savings and/or high investment tend to produce a current account deficit that must be financed by net capital imports; high private savings and/or low investment, however, produce a current account surplus, balanced by net capital exports.\n",
    "\n",
    "All else the same, a government deficit produces a current account deficit and a government surplus leads to a current account surplus.\n",
    "\n",
    "All else the same, a sustained current account deficit contributes to a rise in the risk premium for financial assets of the deficit country. Current account surplus countries tend to enjoy lower risk premiums than current account deficit countries."
   ]
  },
  {
   "cell_type": "markdown",
   "metadata": {},
   "source": [
    "## Trade Organizations"
   ]
  },
  {
   "cell_type": "markdown",
   "metadata": {},
   "source": [
    "#### International Monetary Fund\n",
    "Ensure the stability of the international monetary system, the system of exchange rates and international payments that enables countries to buy goods and services from each other. The IMF helps to keep country-specific market risk and global systemic risk under control."
   ]
  },
  {
   "cell_type": "markdown",
   "metadata": {},
   "source": [
    "#### World Bank Group\n",
    "Create the basic economic infrastructure essential for creation and maintenance of domestic financial markets and a well-functioning financial industry in developing countries."
   ]
  },
  {
   "cell_type": "markdown",
   "metadata": {},
   "source": [
    "#### World Trade Organization\n",
    "Foster free trade by providing a major institutional and regulatory framework of global trade rules without which today’s global multinational corporations would be hard to conceive."
   ]
  },
  {
   "cell_type": "markdown",
   "metadata": {},
   "source": [
    "# Currency Exchange Rates\n",
    "nominal exchange rates: quoted rates<br>\n",
    "real exchange rates: indexes that assess changes in the relative purchasing power of one currency compared with another. "
   ]
  },
  {
   "cell_type": "markdown",
   "metadata": {},
   "source": [
    "##### Purchasing Power Parity (PPP)\n",
    "Describes the long-term equilibrium of nominal exchange rates. PPP asserts that nominal exchange rates adjust so that identical goods (or baskets of goods) will have the same price in different markets. Or, put differently, the purchasing power of different currencies is equalized for a standardized basket of goods.\n",
    "\n",
    "In practice, the conditions required to enforce PPP are not satisfied: Goods and services are not identical across countries; countries typically have different baskets of goods and services produced and consumed; many goods and services are not traded internationally; there are trade barriers and transaction costs (e.g., shipping costs and import taxes); and capital flows are at least as important as trade flows in determining nominal exchange rates. As a result, nominal exchange rates exhibit persistent deviations from PPP. "
   ]
  },
  {
   "cell_type": "markdown",
   "metadata": {},
   "source": [
    "##### Real Exchange Rates\n",
    "The foreign price level in terms of the domestic currency as:\n",
    "Foreign price level in domestic currency = $S_{d/f} × P_f$\n",
    "where $S_{d/f}$ is the nominal spot exchange rate (quoted in terms of the number of units of domestic currency per one unit of foreign currency) and $P_f$ is foreign price level quoted in terms of the foreign currency. We can define the domestic price level, in terms of the domestic currency, as $P_d$. Hence, the ratio between the foreign and domestic price levels is:\n",
    "\n",
    "$Real\\ exchange\\ rate_{(d/f)} = \\frac{(S_{d/f} × P_f)}{P_d} = S_{d/f} × (\\frac{P_f}{P_d})$"
   ]
  },
  {
   "cell_type": "markdown",
   "metadata": {},
   "source": [
    "The change in the real exchange rate is\n",
    "$\\big(1+\\frac{\\Delta{S_{d/f}}}{S_{d/f}}\\big)\\ ×\\ \\frac{\\big(1+\\frac{\\Delta{P_f}}{P_f} \\big)}{\\big(1+\\frac{\\Delta{P_d}}{P_d} \\big)}$"
   ]
  },
  {
   "cell_type": "markdown",
   "metadata": {},
   "source": [
    "Example:<br>\n",
    "Suppose that the AUD/HKD exchange rate increases by 5 percent, the price of goods and services in Hong Kong SAR goes up by 5 percent, and the price of Australian goods and services goes up by 2 percent. The change in the relative purchasing power of the client’s AUD-denominated income is closest to how much?<br>\n",
    "$R_{\\frac{AUD}{HKD}}=S_{\\frac{AUD}{HKD}}×\\frac{P_{HKD}}{P_{AUD}}$<br>\n",
    "The information in the adviser’s scenario can be expressed as:\n",
    "\n",
    "$\\%ΔR_{\\frac{AUD}{HKD}}≈\\%ΔS_{\\frac{AUD}{HKD}}+\\%ΔP_{HKD}−\\%ΔP_{AUD}$"
   ]
  },
  {
   "cell_type": "code",
   "execution_count": null,
   "metadata": {},
   "outputs": [],
   "source": [
    "# "
   ]
  },
  {
   "cell_type": "markdown",
   "metadata": {},
   "source": [
    "## Market Functions"
   ]
  },
  {
   "cell_type": "markdown",
   "metadata": {},
   "source": [
    "Ways to hedge FX exposures, or implement speculative FX positions:\n",
    "- Spot exchange rate: exchange of currencies for immediate delivery\n",
    "- Forward exchange rates: from outright forward contracts: agreements to deliver foreign exchange at a future date at an exchange rate agreed upon today.\n",
    "- FX swaps: the combination of a spot and a forward FX transaction.\n",
    "    1. an FX swap consists of a simultaneous spot and forward transaction; \n",
    "    2. these swap transactions can extend (roll) an existing forward position to a new future date; and \n",
    "    3. rolling the position forward leads to a cash flow on settlement day. This cash flow can be thought of as a mark-to-market on the forward position.\n",
    "- FX options: contracts that, for an upfront premium or fee, give the purchaser the right, but not the obligation, to make an FX transaction at some future date at an exchange rate agreed upon today (when the contract is agreed to)."
   ]
  },
  {
   "cell_type": "markdown",
   "metadata": {},
   "source": [
    "Related Concepts:<br>\n",
    "- over-the-counter (OTC) market\n",
    "- future contracts (differs from OTC forward contracts)\n",
    "- swap funding"
   ]
  },
  {
   "cell_type": "markdown",
   "metadata": {},
   "source": [
    "### Market Participants, Size and Composition\n",
    "- Corporate accounts\n",
    "- Real money accounts\n",
    "- Leveraged accounts\n",
    "- Retail accounts\n",
    "- Governments\n",
    "- Central banks\n",
    "- Sovereign wealth funds (SWFs)\n",
    "\n",
    "\n",
    "As of 2016, the most important foreign exchange market participants in terms of average daily turnover are found not among corporations engaged in international trade but among huge investment managers, both private (e.g., pension funds) and public (e.g., central bank reserve managers or sovereign wealth funds). A large and growing amount of daily turnover is also being generated by high-frequency traders who use computer algorithms to automatically execute extremely high numbers of speculative trades (although their individual ticket sizes are generally small, they add up to large aggregate flows). On the sell side, the largest money center banks (e.g., Deutsche Bank, Citigroup, HSBC, UBS) are increasingly dominating the amount of trading activity routed through dealers. Regional and local banks are increasingly being marginalized in terms of their share of average daily turnover in FX markets."
   ]
  },
  {
   "cell_type": "markdown",
   "metadata": {},
   "source": [
    "## Exchange Rate Quotations\n",
    "A **direct currency quote** takes the domestic country as the price currency and the foreign country as the base currency. An **indirect quote** has the domestic currency as the base currency."
   ]
  },
  {
   "cell_type": "markdown",
   "metadata": {},
   "source": [
    "The **two-sided price** quoted by the dealer is in terms of buying/selling the base currency. It shows the number of units of the price currency that the client will receive from the dealer for one unit of the base currency (the bid) and the number of units of the price currency that the client must sell to the dealer to obtain one unit of the base currency (the offer)."
   ]
  },
  {
   "cell_type": "markdown",
   "metadata": {},
   "source": [
    "Typically quoted to four decimal places. One exception among the major currencies involves the yen, for which spot exchange rates are usually quoted to two decimal places."
   ]
  },
  {
   "cell_type": "markdown",
   "metadata": {},
   "source": [
    "**Changes in an exchange rate** can be expressed as a percentage appreciation of one currency against the other."
   ]
  },
  {
   "cell_type": "markdown",
   "metadata": {},
   "source": [
    "### Currency Cross-Rate Calculations\n",
    "$\\big(\\frac{CAD}{USD})^{−1} × \\frac{JPY}{USD} = \\frac{USD}{CAD} × \\frac{JPY}{USD} = \\frac{USD}{CAD} × \\frac{JPY}{USD} = \\frac{JPY}{CAD}$"
   ]
  },
  {
   "cell_type": "code",
   "execution_count": 17,
   "metadata": {
    "scrolled": true
   },
   "outputs": [
    {
     "data": {
      "text/html": [
       "<div>\n",
       "<style scoped>\n",
       "    .dataframe tbody tr th:only-of-type {\n",
       "        vertical-align: middle;\n",
       "    }\n",
       "\n",
       "    .dataframe tbody tr th {\n",
       "        vertical-align: top;\n",
       "    }\n",
       "\n",
       "    .dataframe thead th {\n",
       "        text-align: right;\n",
       "    }\n",
       "</style>\n",
       "<table border=\"1\" class=\"dataframe\">\n",
       "  <thead>\n",
       "    <tr style=\"text-align: right;\">\n",
       "      <th></th>\n",
       "      <th>Currencies</th>\n",
       "      <th>Spot rate</th>\n",
       "      <th>Expected Spot Rate in One Year</th>\n",
       "    </tr>\n",
       "  </thead>\n",
       "  <tbody>\n",
       "    <tr>\n",
       "      <th>0</th>\n",
       "      <td>USD/EUR</td>\n",
       "      <td>1.1701</td>\n",
       "      <td>1.1619</td>\n",
       "    </tr>\n",
       "    <tr>\n",
       "      <th>1</th>\n",
       "      <td>CHF/USD</td>\n",
       "      <td>0.9900</td>\n",
       "      <td>0.9866</td>\n",
       "    </tr>\n",
       "    <tr>\n",
       "      <th>2</th>\n",
       "      <td>USD/GBP</td>\n",
       "      <td>1.3118</td>\n",
       "      <td>1.3066</td>\n",
       "    </tr>\n",
       "  </tbody>\n",
       "</table>\n",
       "</div>"
      ],
      "text/plain": [
       "  Currencies  Spot rate  Expected Spot Rate in One Year\n",
       "0    USD/EUR     1.1701                          1.1619\n",
       "1    CHF/USD     0.9900                          0.9866\n",
       "2    USD/GBP     1.3118                          1.3066"
      ]
     },
     "execution_count": 17,
     "metadata": {},
     "output_type": "execute_result"
    }
   ],
   "source": [
    "data = {'Currencies':['USD/EUR', 'CHF/USD', 'USD/GBP'],\n",
    "        'Spot rate':[1.1701, 0.9900, 1.3118],\n",
    "        'Expected Spot Rate in One Year':[1.1619, 0.9866, 1.3066]}\n",
    "df = pd.DataFrame(data=data)\n",
    "df"
   ]
  },
  {
   "cell_type": "code",
   "execution_count": null,
   "metadata": {},
   "outputs": [],
   "source": [
    "# the euro is expected to appreciate by how much against the US dollar over the next year?\n"
   ]
  },
  {
   "cell_type": "code",
   "execution_count": null,
   "metadata": {},
   "outputs": [],
   "source": [
    "# Based on the exhibit, the US dollar is expected to appreciate by how much against the British pound over the next year?\n"
   ]
  },
  {
   "cell_type": "code",
   "execution_count": null,
   "metadata": {},
   "outputs": [],
   "source": [
    "# Over the next year, the Swiss franc is expected to:\n"
   ]
  },
  {
   "cell_type": "code",
   "execution_count": null,
   "metadata": {},
   "outputs": [],
   "source": [
    "# Based on the exhibit, which of the following lists the three currencies from strongest to weakest over the next year?\n",
    "\n",
    "# Based on the exhibit, which of the following lists the three currencies in order of appreciating the most to appreciating the least (in percentage terms) against the USD over the next year?\n"
   ]
  },
  {
   "cell_type": "markdown",
   "metadata": {},
   "source": [
    "### Forward Calculations\n",
    "Forward exchange rates are typically quoted in terms of points (also sometimes referred to as “pips”).\n",
    "The points on a forward rate quote are simply the difference between the forward exchange rate quote and the spot exchange rate quote, with the points scaled so that they can be related to the last decimal in the spot quote.\n",
    "- forward premium\n",
    "- forward discount\n",
    "\n",
    "Quotes for forward rates are shown as the number of forward points at each maturity.5 These forward points are also called swap points because an FX swap consists of simultaneous spot and forward transactions. "
   ]
  },
  {
   "cell_type": "markdown",
   "metadata": {},
   "source": [
    "Example: if the one-year forward points were quoted as +364.7. This +364.7 comes from:\n",
    "\n",
    "1.19532 – 1.15885 = +0.03647"
   ]
  },
  {
   "cell_type": "markdown",
   "metadata": {},
   "source": [
    "#### Converting Forward Points to Forward Rates\n",
    "- Converting Forward Points (as absolute number of points) to Forward Rates<br>\n",
    "To convert any of these quoted forward points into a forward rate, one would divide the number of points by 10,000 (to scale down to the fourth decimal place, the last decimal place in the spot quote) and then add the result to the spot exchange rate quote.<br>\n",
    "\n",
    "$Forward\\ Rates \\ =\\ \\frac{Number\\ of\\ Points}{10000} + Spot\\ Rate$\n",
    "\n",
    "- Converting Forward Points (as %) to Forward Rates<br>\n",
    "To convert a spot quote into a forward quote when the points are shown as a percentage, one simply multiples the spot rate by one plus the percentage premium or discount. <br>\n",
    "\n",
    "$Forward\\ Rates \\ =\\ (1 + points\\ \\%)\\ ×\\ Spot\\ Rate\\ $\n",
    "<br>\n",
    "\n",
    "*(Note: Occasionally, forward rate or forward points are sometimes represented as a percentage of the spot rate rather than as an absolute number of points.)*"
   ]
  },
  {
   "cell_type": "markdown",
   "metadata": {},
   "source": [
    "#### Relationship between Spot Rates, Forward Rates, and Interest Rates\n",
    "Forward exchange rates are based on an arbitrage relationship that equates the investment return on two alternative but equivalent investments. \n",
    "Because these two investments are equal in risk characteristics, they must have the same return. Bearing in mind that the currency quoting convention is the number of foreign currency units per single domestic unit ($_{f/d}$), this relationship can be stated as:\n",
    "$$(1+i_d)=S_{\\frac{f}{d}}(1+i_f)(\\frac{1}F_{\\frac{f}{d}})$$\n",
    "where $i_d$ is the domestic risk-free rate, $i_f$ is foreign risk-free rate, $F_{f/d}$ is the forward rate, and $S_{f/d}$ is the spot rate. \n",
    "\n",
    "If they do not equate, a riskless arbitrage opportunity exists because an investor can sell short the investment with the lower return and invest the funds in the investment with the higher return; the difference between the two returns is pure profit."
   ]
  },
  {
   "cell_type": "markdown",
   "metadata": {},
   "source": [
    "To get the formula for the forward rate, the above equation can be restated as:\n",
    "$$F_{f/d}=S_{f/d}(\\frac{1+i_f}{1+i_d})$$\n",
    "Another way of looking at this is, given the spot exchange rate and the domestic and foreign risk-free interest rates, the forward rate is whatever value completes this equation and eliminates any arbitrage opportunity. \n"
   ]
  },
  {
   "cell_type": "markdown",
   "metadata": {},
   "source": [
    "The underlying arbitrage equation can also be re-arranged to show the forward rate as a percentage of the spot rate:\n",
    "$$\\frac{F_{f/d}}{S_{f/d}}=(\\frac{1+i_f}{1+i_d})$$\n",
    "This shows that, given an f/d quoting convention, the forward rate will be higher than (be at a premium to) the spot rate if foreign interest rates are higher than domestic interest rates. More generally, and regardless of the quoting convention, **the currency with the higher (lower) interest rate will always trade at a discount (premium) in the forward market**."
   ]
  },
  {
   "cell_type": "markdown",
   "metadata": {},
   "source": [
    "One context in which forward rates are quoted as a percentage of spot rates occurs when forward rates are interpreted as expected future spot rates, or:\n",
    "$F_t=\\hat{S}_{t+1}$Substituting this expression into the previous equation and doing some re-arranging leads to:\n",
    "\n",
    "$$\\frac{\\hat{S}_{t+1}}{S_{t}}-1=\\%Δ\\hat{S}_{t+1}=(\\frac{i_f−i_d}{1+i_d})$$\n",
    "This shows that if forward rates are interpreted as expected future spot rates, the expected percentage change in the spot rate is proportional to the interest rate differential ($i_f – i_d$).\n",
    "\n",
    "All else being equal, an increase in domestic interest rates (for example, the central bank tightens monetary policy) would typically be expected to lead to an increase in the value of the domestic currency. In contrast, the equation above indicates that, all else equal, a higher domestic interest rate implies slower expected appreciation (or greater expected depreciation) of the domestic currency (recall that this equation is based on an f/d quoting convention)."
   ]
  },
  {
   "cell_type": "markdown",
   "metadata": {},
   "source": [
    "#### Relationship between Maturity and Forward Points\n",
    "Suppose the investment horizon is a fraction, $τ$, of the period for which the interest rates are quoted. Then the interest earned in the domestic and foreign markets would be ($i_d τ$) and ($i_f τ$), respectively. Substituting this into our arbitrage relationship and solving for the difference between the forward and spot exchange rates (swap points) gives:\n",
    "$$F_{f/d} − S_{f/d} = S_{f/d}(\\frac{i_f−i_d}{1+i_dτ})τ$$\n",
    "in which the investment horizon is a fraction, $τ$, of the period for which the interest rates are quoted (for example, The day count convention for Libor deposits is $\\frac{Actual}{360}$.\n",
    "\n",
    "This equation shows that forward points (appropriately scaled) are proportional to the spot exchange rate and to the interest rate differential and approximately (but not exactly) proportional to the horizon of the forward contract. As should be clear from this expression, the absolute number of swap points will be closely related to the term of the forward contract (i.e., approximately proportional to $τ = Actual/360$)."
   ]
  },
  {
   "cell_type": "code",
   "execution_count": null,
   "metadata": {},
   "outputs": [],
   "source": [
    "# Example 6"
   ]
  },
  {
   "cell_type": "markdown",
   "metadata": {},
   "source": [
    "## Exchange Rate Regimes\n",
    "The policy framework that each central bank adopts is called an exchange rate regime.\n",
    "### Ideals and Historical Perspective\n",
    "The ideal currency regime would have three properties. \n",
    "- First, the exchange rate between any two currencies would be credibly fixed. This would eliminate currency-related uncertainty with respect to the prices of goods and services as well as real and financial assets. \n",
    "- Second, all currencies would be fully convertible (i.e., currencies could be freely exchanged for any purpose and in any amount). This condition ensures unrestricted flow of capital. \n",
    "- Third, each country would be able to undertake fully independent monetary policy in pursuit of domestic objectives, such as growth and inflation targets."
   ]
  },
  {
   "cell_type": "markdown",
   "metadata": {},
   "source": [
    "### A Taxonomy of Currency Regimes"
   ]
  },
  {
   "cell_type": "markdown",
   "metadata": {},
   "source": [
    "#### Currency Board System\n",
    "\n",
    "#### Currency Board System\n",
    "\n",
    "#### Fixed Parity\n",
    "\n",
    "#### Target Zone\n",
    "\n",
    "#### Active and Passive Crawling Pegs\n",
    "\n",
    "#### Fixed Parity with Crawling Bands\n",
    "\n",
    "#### Managed Float\n",
    "\n",
    "#### Independently Floating Rates\n"
   ]
  },
  {
   "cell_type": "markdown",
   "metadata": {},
   "source": []
  },
  {
   "cell_type": "markdown",
   "metadata": {},
   "source": [
    "## Exchange Rates and the Trade Balance\n",
    "### Introduction\n",
    "A trade deficit (surplus) must be exactly matched by an offsetting capital account surplus (deficit). The impact of exchange rates and other factors on the trade balance must be mirrored by their impact on capital flows.\n",
    "\n",
    "The relationship between the trade balance and expenditure/saving decisions can be expressed as:\n",
    "$$X – M = (S – I) + (T – G)$$\n",
    "where $X$ represents exports, $M$ is imports, $S$ is private savings, $I$ is investment in plant and equipment, $T$ is taxes net of transfers, and $G$ is government expenditure.\n",
    "\n",
    "Because a fiscal surplus can be viewed as government saving, we can summarize this relationship more simply by saying that a trade surplus means the country saves more than enough to fund its investment (I) in plant and equipment. The excess saving is used to accumulate financial claims on the rest of the world. Conversely, a trade deficit means the country does not save enough to fund its investment spending (I) and must reduce its net financial claims on the rest of the world.\n",
    "\n",
    "Asset prices and exchange rates adjust so that the potential flow of financial capital is mitigated and actual capital flows remain consistent with trade flows.\n",
    "\n",
    "Capital flows—potential and actual—are the primary determinant of exchange rate movements in the short-to-intermediate term. "
   ]
  },
  {
   "cell_type": "markdown",
   "metadata": {},
   "source": [
    "### The Elasticities Approach\n",
    "The condition that guarantees that devaluations improve the trade balance is called the **Marshall–Lerner condition**. The usual statement of this condition assumes that trade is initially balanced.\n",
    "\n",
    "Price elasticity of demand is given by:\n",
    "$$ε=−\\frac{\\%ΔQ}{\\%ΔP}$$\n",
    "\n",
    "Because expenditure ($R$) equals price multiplied by quantity ($P × Q$), by re-arranging the above expression to solve and substitute for $\\%ΔQ$, we can see that:\n",
    "\n",
    "$$\\%\\ change\\ in\\ expenditure=\\ \\%ΔR\\ =\\ \\%ΔP+\\%ΔQ\\ =\\ (1−ε)\\%ΔP$$\n",
    "\n",
    "From this we can see that an increase in price decreases expenditure if $ε > 1$, but it increases expenditure if $ε < 1$."
   ]
  },
  {
   "cell_type": "markdown",
   "metadata": {},
   "source": [
    "#### Marshall–Lerner Condition \n",
    "Demand for imports and exports must be sufficiently price-sensitive so that increasing the relative price of imports increases the difference between export receipts and import expenditures:\n",
    "$$ω_Xε_X + ω_M(ε_M – 1) > 0$$\n",
    "where $ω_X$ and $ω_M$ are the shares of exports and imports, and $ε_X$ and $ε_M$ are the price elasticities of foreign demand for domestic country exports and domestic country demand for imports.\n",
    "\n",
    "Note that $(ω_X + ω_M) = 1$ and that an initial trade deficit implies $ω_M > ω_X$. If this condition is satisfied, a *devaluation/depreciation of the domestic currency* will move the trade balance toward surplus."
   ]
  },
  {
   "cell_type": "markdown",
   "metadata": {},
   "source": [
    "##### $ω_Xε_X$\n",
    "= the change in export receipts assuming the domestic currency price of exports is unchanged (foreigners are billed in the domestic currency). It will be positive as long as export demand is not totally insensitive to price. \n",
    "\n",
    "**Depreciation of the domestic currency** makes exports cheaper in foreign currency and induces an increase in the quantity demanded by foreigners. This is reflected by the elasticity $ε_x$. There is no direct price impact on domestic currency export revenue because the domestic currency price is assumed to be unchanged. Hence, the percentage change in export revenue corresponding to a 1% depreciation of the currency is simply $ε_x$."
   ]
  },
  {
   "cell_type": "markdown",
   "metadata": {},
   "source": [
    "##### $ω_M(ε_M – 1)$ \n",
    "= **the impact on import expenditures**. Assuming that imports are billed in a foreign currency, the domestic currency price of imports rises as the domestic currency depreciates. The direct price effect increases import expenditures, while the induced reduction in the quantity of imports decreases import expenditures. The net effect depends on the elasticity of import demand, $ε_M$. Import expenditure declines only if import demand is elastic (i.e., $ε_M > 1$)."
   ]
  },
  {
   "cell_type": "markdown",
   "metadata": {},
   "source": [
    "Conclusion: **More elastic demand—for either imports or exports—makes it more likely that the trade balance will improve. Indeed, if the demand for imports is elastic, $ε_M > 1$, then the trade balance will definitely improve.**\n",
    "\n",
    "If the Marshall–Lerner condition is not satisfied, exchange rate movements do not move the trade balance in the expected direction \\[i.e., appreciation (depreciation) of the currency does not decrease (increase) the trade balance\\]. (In particular, the condition would be met for any value of $ω_X$ greater than 4/7 (≈ 0.571).)"
   ]
  },
  {
   "cell_type": "code",
   "execution_count": null,
   "metadata": {},
   "outputs": [],
   "source": [
    "# Marshall–Lerner Condition with a 10 Percent Depreciation of Domestic Currency (€)"
   ]
  },
  {
   "cell_type": "markdown",
   "metadata": {},
   "source": [
    "**J-curve effect**<br>\n",
    "A J-curve pattern may also arise if short-term price elasticities do not satisfy the Marshall–Lerner condition but long-term elasticities do satisfy it. "
   ]
  },
  {
   "cell_type": "code",
   "execution_count": 18,
   "metadata": {
    "scrolled": true
   },
   "outputs": [
    {
     "data": {
      "text/html": [
       "<div>\n",
       "<style scoped>\n",
       "    .dataframe tbody tr th:only-of-type {\n",
       "        vertical-align: middle;\n",
       "    }\n",
       "\n",
       "    .dataframe tbody tr th {\n",
       "        vertical-align: top;\n",
       "    }\n",
       "\n",
       "    .dataframe thead th {\n",
       "        text-align: right;\n",
       "    }\n",
       "</style>\n",
       "<table border=\"1\" class=\"dataframe\">\n",
       "  <thead>\n",
       "    <tr style=\"text-align: right;\">\n",
       "      <th></th>\n",
       "      <th>Item</th>\n",
       "      <th>Exports</th>\n",
       "      <th>Imports</th>\n",
       "    </tr>\n",
       "  </thead>\n",
       "  <tbody>\n",
       "    <tr>\n",
       "      <th>0</th>\n",
       "      <td>Initial Value (DCU)</td>\n",
       "      <td>4800.0</td>\n",
       "      <td>6500.00</td>\n",
       "    </tr>\n",
       "    <tr>\n",
       "      <th>1</th>\n",
       "      <td>Demand elasticity</td>\n",
       "      <td>0.7</td>\n",
       "      <td>0.55</td>\n",
       "    </tr>\n",
       "  </tbody>\n",
       "</table>\n",
       "</div>"
      ],
      "text/plain": [
       "                  Item  Exports  Imports\n",
       "0  Initial Value (DCU)   4800.0  6500.00\n",
       "1    Demand elasticity      0.7     0.55"
      ]
     },
     "execution_count": 18,
     "metadata": {},
     "output_type": "execute_result"
    }
   ],
   "source": [
    "#The following international trade information is available for a hypothetical economy:\n",
    "data = {'Item':['Initial Value (DCU)', 'Demand elasticity'], \n",
    "       'Exports':[4800, 0.70],\n",
    "       'Imports':[6500, 0.55]}\n",
    "# DCU: domestic currency units\n",
    "marshall = pd.DataFrame(data=data)\n",
    "marshall"
   ]
  },
  {
   "cell_type": "code",
   "execution_count": 26,
   "metadata": {},
   "outputs": [
    {
     "data": {
      "text/plain": [
       "0.038495575221238976"
      ]
     },
     "execution_count": 26,
     "metadata": {},
     "output_type": "execute_result"
    }
   ],
   "source": [
    "# Following a 12% depreciation in the DCU, the trade balance will be closest to:\n",
    "dep = 0.12 \n",
    "# a demand elasticity of 0.7 means that quantity demanded increases by 7 percent if price declines by 10 percent.\n",
    "total_trade = 4800+6500\n",
    "\n",
    "# Marshall − Lerner trade-weighted elasticity\n",
    "E_ml = 4800 / total_trade * 0.7 + 6500 / total_trade *(0.55-1)\n",
    "E_ml"
   ]
  },
  {
   "cell_type": "code",
   "execution_count": 30,
   "metadata": {},
   "outputs": [
    {
     "name": "stdout",
     "output_type": "stream",
     "text": [
      "52.200000000000045\n",
      "-1647.8\n"
     ]
    }
   ],
   "source": [
    "# Change in Trade Balance using Marshall–Lerner trade-weighted elasticity:\n",
    "#εML × Total Trade × Depreciation\n",
    "trade_balance_change = E_ml * total_trade * dep\n",
    "print(trade_balance_change)\n",
    "# New trade balance\n",
    "trade_balance_new = 4800 - 6500 + trade_balance_change\n",
    "print(trade_balance_new)\n",
    "# "
   ]
  },
  {
   "cell_type": "markdown",
   "metadata": {},
   "source": [
    "### The Absorption Approach"
   ]
  },
  {
   "cell_type": "markdown",
   "metadata": {},
   "source": [
    "Recall that:<br>\n",
    "the trade balance = the country’s saving (including the government fiscal balance) - its investment in new plants and equipment. <br> \n",
    "= income (GDP) - domestic expenditure (absorption) \n",
    "<br>\n",
    "Thus, in order to move the trade balance toward surplus, a devaluation/depreciation of the domestic currency must increase income relative to expenditure or, equivalently, increase national saving relative to investment in physical capital.\n",
    "\n",
    "X – M = (S – I) + (T – G) > 0"
   ]
  },
  {
   "cell_type": "markdown",
   "metadata": {},
   "source": [
    "- If there is excess capacity in the economy, then by switching demand toward domestically produced goods and services, depreciation of the currency can increase output/income.  \n",
    "- If the economy is at full employment, however, the trade balance cannot improve unless domestic expenditure declines. If expenditure does not decline, then the depreciation will put upward pressure on domestic prices until the stimulative effect of the exchange rate change is negated by the higher price level and the trade balance reverts to its original level."
   ]
  },
  {
   "cell_type": "markdown",
   "metadata": {},
   "source": []
  }
 ],
 "metadata": {
  "kernelspec": {
   "display_name": "Python 3",
   "language": "python",
   "name": "python3"
  },
  "language_info": {
   "codemirror_mode": {
    "name": "ipython",
    "version": 3
   },
   "file_extension": ".py",
   "mimetype": "text/x-python",
   "name": "python",
   "nbconvert_exporter": "python",
   "pygments_lexer": "ipython3",
   "version": "3.7.3"
  }
 },
 "nbformat": 4,
 "nbformat_minor": 4
}
