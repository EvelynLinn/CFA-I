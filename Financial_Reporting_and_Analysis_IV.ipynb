{
 "cells": [
  {
   "cell_type": "markdown",
   "metadata": {},
   "source": [
    "# Financial Reporting Quality"
   ]
  },
  {
   "cell_type": "code",
   "execution_count": 2,
   "metadata": {},
   "outputs": [],
   "source": [
    "import pandas as pd"
   ]
  },
  {
   "cell_type": "markdown",
   "metadata": {},
   "source": [
    "## Introduction & Conceptual Overview\n",
    "### GAAP, Decision Useful Financial Reporting\n",
    "These quality financial reports conform to generally accepted accounting principles (GAAP) or other applicable accounting standards. Information is useful if it is relevant and representative of economic reality. Other desirable characteristics include comparability, verifiability, timeliness, and understandability.\n",
    "\n",
    "Companies should present financial information in a manner that is easily understandable and avoid creating false impressions in the minds of investors. To this end, companies are not allowed to give more prominence to non-GAAP financial measures in SEC filings.\n",
    "\n",
    "Returns are considered \"adequate\" if they meet or exceed investors' expectations.\n",
    "### GAAP, Decision-Useful, but Sustainable?\n",
    "In this category, financial reporting is high-quality, but earnings are not considered sustainable. The return could be expected to decrease or be insufficient to sustain the company. For example, a windfall due to exchange rate fluctuations is clearly not a sustainable source of profit for a manufacturing company.\n",
    "### Biased Accounting Choices\n",
    "Biased financial reports hinder an investor’s ability to accurately assess the past and present condition of a company. Biased choices may be either too aggressive or too conservative.\n",
    "\n",
    "Aggressive choices increased current profits, which can intuitively be understood as misleading. By contrast, conservative accounting choices may seem desirable because managers are not overstating the company's performance. However, conservative accounting choices may be used to create \"hidden reserves\" that can be drawn upon during a downturn to smooth out earnings over the business cycle.\n",
    "\n",
    "Ultimately, both aggressive and conservative biases reduce the quality of financial reporting by creating an impression of a company's performance that fails to accurately reflect its economic reality.\n",
    "### Within GAAP, but \"Earnings Management\"\n",
    "Biased accounting choices cross the line into earnings management when there is a deliberate intent to affect reported earnings and their interpretation. In addition to purely accounting choices, managers may seek to manipulate earnings through \"real\" decisions, such as delaying spending on maintenance until the next reporting period. However, the distinction between biased choices and earning management is subtle because it is often very difficult to prove intent.\n",
    "### Departures from GAAP\n",
    "It is difficult, if not impossible, to assess the earnings quality of companies at this end of the spectrum because their financial reports are often based on fictitious transactions. Enron and WorldCom are two well-known examples of companies that have deceived investors by issuing fraudulent financial reports."
   ]
  },
  {
   "cell_type": "markdown",
   "metadata": {},
   "source": [
    "### Differentiate between Conservative and Aggressive Accounting\n",
    "Aggressive accounting choices may include recognizing revenue early or deferring the recognition of expenses. Managers are often motivated to make such choices in order to create the impression of better short-term performance.\n",
    "\n",
    "Conservative accounting choices reduce a company's profits in the current reporting period in order to increase future profits. Investors may prefer conservative choices they create the potential for positive earnings surprises, which are desirable.\n",
    "\n",
    "However, as noted earlier, there is \"good\" bias, the are only choices that accurately represent a company's underlying economics and those that do not. Ideally, financial reporting choices should be neither aggressive nor conservative, but unbiased.\n",
    "\n",
    "`Non-GAAP earnings/core earnings`\n",
    "\n",
    "#### Conservatism in Accounting Standards\n",
    "The conceptual frameworks behind IFRS and US GAAP support the ideal of neutrality. That is, the information presented in financial reports should be unaffected by any biases.\n",
    "\n",
    "However, many of the standards included in IFRS and US GAAP have a conservative bias. For example, US GAAP requires long-lived assets to be written down if they are deemed to be impaired, but prohibit upward adjustments if the asset's fair value subsequently increases.\n",
    "\n",
    "There may be valid reasons to \"err on the side of caution\" in financial reports. For example, companies that issue more conservative statements are less likely to be sue if future results are disappointing. However, analysts must be aware that conservative biases are still biases.\n",
    "\n",
    "Examples of Conservatism:<br>\n",
    "- Research costs. Because the future benefit of research costs is uncertain at the time the costs are incurred, both US GAAP and IFRS require immediate expensing instead of capitalization.\n",
    "- Litigation losses. When it becomes “probable” that a cost will be incurred, both US GAAP and IFRS require expense recognition, even though a legal liability may not be incurred until a future date.\n",
    "- Insurance recoverables. Generally, a company that receives payment on an insurance claim may not recognize a receivable until the insurance company acknowledges the validity of the claimed amount.\n",
    "\n",
    "#### Bias in the Application of Accounting Standards\n",
    "Judgment will always be required in the application of accounting standards and managers will often seek to use this to their advantage. Some companies have intentionally generated large current period losses to create a \"cookie jar\" of reserves that can be used to increase profits in later periods, a practice known as \"big bath accounting.\""
   ]
  },
  {
   "cell_type": "markdown",
   "metadata": {},
   "source": [
    "## Motivations\n",
    "Management may be motivated to issue low-quality reports to mask poor performance or avoid breaching debt covenants.\n",
    "\n",
    "Even if the company's underlying performance is positive, concealing this information can lead to positive earnings surprises that increase the value of stock-based compensation.\n",
    "\n",
    "Conditions Conducive to Issuing Low-Quality Financial Reports\n",
    "Three conditions usually accompany the issuance of low-quality financial reports:\n",
    "\n",
    "Opportunity created by internal or external factors (e.g., poor internal controls, insufficient regulatory oversight).\n",
    "Motivation rooted in performance expectations or personal circumstances.\n",
    "Rationalization of decisions that the individual knows, on some level, to be wrong.\n",
    "Mechanisms That Discipline Financial Reporting Quality\n",
    "The cost of capital is affected by the perception of risk. Therefore, companies have a market-based incentive to reduce their risk by issuing accurate financial statements. Other mechanisms that are used to increase the quality of financial reporting include regulation, auditors, and private contracts.\n",
    "\n",
    "#### Market Regulatory Authorities\n",
    "The International Organization of Securities Commissions (IOSCO) establishes principles and objectives that are used as guidance by its members, which include securities regulators (e.g., SEC) and other market participants (e.g., NYSE).\n",
    "\n",
    "The following features of regulation directly impact financial reporting quality:\n",
    "\n",
    "Registration requirements: Required documentation includes relevant information about the issuer's prospects and risk exposures.\n",
    "Disclosure requirements: Periodic reports are usually required. Standards are often set by self-regulatory bodies (e.g., IASB, FASB) and enforced by regulators.\n",
    "Auditing requirements: Opinions must state that financial statements conform to relevant standards. Some regulators also require opinions on internal controls.\n",
    "Management commentaries: May include a \"fair review\" of an issuer's business and a description of its risk exposures.\n",
    "Responsibility statements: Individuals who attest to the correctness of corporate statements may be held personally responsible for inaccuracies.\n",
    "Enforcement mechanisms: Regulators can enforce compliance through fines, suspensions, or even criminal prosecutions.\n",
    "#### Auditors\n",
    "Independent audit opinions give investors some assurance that a company's financial statements are fairly presented. An additional opinion may be given on the effectiveness of the company's internal controls.\n",
    "\n",
    "There are several limitations of audit opinions:\n",
    "\n",
    "Companies may make deliberate efforts to deceive their auditors.\n",
    "Audits are based on samples, not an exhaustive review of all relevant information.\n",
    "An audit is not intended to detect fraud, only to provide some assurance of fair presentation.\n",
    "Auditors are paid directly by the company being audited, which can create an incentive for leniency.\n",
    "#### Private Contracting\n",
    "Private contracts (e.g., loan agreements) can serve as a disciplining mechanism for financial reporting. Lenders have strong incentives to ensure that borrowers are providing high-quality information in their financial reports."
   ]
  },
  {
   "cell_type": "markdown",
   "metadata": {},
   "source": [
    "## Detection of Financial Reporting Quality Issues: Introduction & Presentation Choices\n",
    "Management can choose among many accounting standards and estimates, which allows them to meet analysts’ expectations. Choices exist for both presentation and calculations. The latter is very difficult to deduce from accounting statements. Managers can lean towards aggressive or conservative choices, which affect the performance reporting in the current and later periods.\n",
    "\n",
    "### Presentation Choices\n",
    "In the 1990s and early 2000s, many companies resorted to creative reporting schemes to justify high valuations. Poor operating results were often disguised as \"restructuring charges.\"\n",
    "\n",
    "Companies issued \"pro forma\" financial reports that included `non-GAAP measures`. Earnings before interest, taxes, depreciation, and amortization (EBITDA) became a widely-used metric. Many companies would add to the list of exclusions from net income.  To assist investors in evaluating operating performance, companies often report non-GAAP earnings by excluding asset impairment charges either for long-lived assets, goodwill, or other intangible assets.\n",
    "- Rental payments for operating leases, resulting in EBITDAR (earnings before interest, taxes, depreciation, amortization, and rentals);\n",
    "- Equity-based compensation, usually justified on the grounds that it is a non-cash expense;\n",
    "- Acquisition-related charges;\n",
    "- Impairment charges for goodwill or other intangible assets;\n",
    "- Impairment charges for long-lived assets;\n",
    "- Litigation costs; and\n",
    "- Loss/gain on debt extinguishments.\n",
    "\n",
    "**Under current rules, companies must explain the use of non-GAAP and non-IFRS financial measures.**\n",
    "### Accounting Choices and Estimates \n",
    "#### Impact on Earnings and Balance Sheets\n",
    "Relatively minor decisions by management, such as shipping terms, can have a significant impact on a company's income statement. Companies could time the revenue recognition by shipping items the day before or the day after the end of a quarter. Companies can manipulate their reported results by changing estimates of the non-collection rate on credit sales.\n",
    "\n",
    "A company's accounting choices with respect to inventory (e.g., FIFO vs. LIFO), depreciation (e.g., straight-line vs. accelerated), and capitalization (vs. expensing) will have a potentially significant impact on both the balance sheet and income statement.\n",
    "\n",
    "Deferred tax assets can be suspect if future profits are not expected to be sufficient to offset the losses carried forward. Allocating the purchase price in an acquisition also requires judgment, which allows for the possibility of biased reporting choices.\n",
    "#### Impact on Cash Flow Statement\n",
    "The cash flow statement is divided into three sections: operating, investing, and financing. Many investors focus on the operating section to validate reported earnings.\n",
    "\n",
    "Operating cash flows can be calculated using either the direct or indirect method. Most companies use the indirect method, which shows a reconciliation from net income to cash from operations.\n",
    "\n",
    "Analysts should study changes in the operating cash flow section to catch manipulation. Suspicion is aroused if *net income is consistently greater than cash flow*. Management knows that operating cash flow is scrutinized, so they sometimes try to classify outgoing cash flow to the investing and financing categories.\n",
    "\n",
    "Companies typically try to maximize cash from operations. This can be done through flexibility allowed in the classification of interest paid and interest and dividends received.\n",
    "- If the managers believe that cash generated from operations is a metric of focus for investors, they can impress them with artificially strong cash flow by simply stretching the accounts payable credit period.\n",
    "- changes in the working capital can reveal unusual patterns that may indicate manipulation of the cash provided by operations.\n",
    "- Cash generated by operations in excess of net income signifies better quality of earnings, whereas a chronic excess of net income over cash generated by operations should be a cause for concern; it may signal the use of accounting methods to simply raise net income instead of depicting financial reality.\n",
    "- compare cash generated by operations with debt service, capital expenditures, and dividends (if any). When there is a wide variance between the company’s cash generation performance and that of its benchmarks, investors should seek an explanation and carefully examine the changes in working capital accounts.\n",
    "- A company may misclassify operating uses of cash into either the investing or financing sections of the cash flow statement, which enhances the appearance of cash generated by operating activities.\n",
    "- Investors and analysts need to be aware that presentation choices permitted in IAS 7, “Statement of Cash Flows,” offer flexibility in classification of certain items in the cash flow statement. This flexibility can drastically change the results in the operating section of the cash flow statement. By allowing a choice of operating or financing for the placement of `interest and dividends received or paid`, IAS 7 gives a company’s managers the opportunities to select the presentation that gives the best-looking picture of operating performance. \n",
    "\n",
    "### Warning Signs\n",
    "#### Revenue\n",
    "Revenue recognition policies should be analyzed carefully. For example, companies that use bill-and-hold arrangements may recognize revenue before the associated goods have been shipped to customers. Details about rebate programs can also have a significant impact on the amount of reported revenue.\n",
    "\n",
    "A company's revenue growth rate should be compared in the context of its peer group. A notable increase in accounts receivable as a share of revenue may be an indication of deteriorating revenue quality. A decreasing asset turnover ratio suggests that assets are being used less productively.\n",
    "#### Inventory signals\n",
    "Rapid inventory growth and a lower inventory turnover ratio may be signs of obsolescence problems.\n",
    "#### Capitalization policies and deferred costs\n",
    "Improper capitalization leads to overstated earnings. A company's policies of a company should be compared to those of its peers.\n",
    "#### Relationship between cash flow and net income\n",
    "Companies need cash to continue operating and, over the long run, net income must be consistent with operating cash flows. Rising net income during a period of lower operating cash flows may be an indication of accounting irregularities.\n",
    "#### Other\n",
    "Other areas should be analyzed include:\n",
    "- Fourth-quarter surprises that cannot be attributed to seasonality\n",
    "- Related-party transactions\n",
    "- Treating one-time sales and non-operating items as revenue\n",
    "- Classifying expenses as non-recurring\n",
    "- Minimal management disclosures\n",
    "- Use of non-GAAP measures"
   ]
  },
  {
   "cell_type": "code",
   "execution_count": 7,
   "metadata": {},
   "outputs": [],
   "source": [
    "df = pd.read_csv('AreasWhereChoicesandEstimatesAffectFinancialReporting.csv', delimiter='\\t')"
   ]
  },
  {
   "cell_type": "markdown",
   "metadata": {},
   "source": [
    "# Applications of Financial Statement Analysis"
   ]
  },
  {
   "cell_type": "markdown",
   "metadata": {},
   "source": [
    "## Evaluating a Company’s Past Financial Performance\n",
    "The past performance of a company can be analyzed and compared to peers or across time. The analysis should include what happened and why it happened. Key questions include:\n",
    "\n",
    "1. How and why have measures of profitability, efficiency, liquidity, and solvency changed over time?\n",
    "2. How do the above measures compare to peers?\n",
    "3. What are the critical aspects of performance? How did the company do on those critical aspects?\n",
    "4. What is the company’s business model? How was it reflected in the performance?\n",
    "5. Data can be gathered from the company directly and through industry sources. The analyst should be aware of different accounting standards. Adjustments may be necessary to accurately compare companies.\n",
    "\n",
    "Non-US companies that use any acceptable body of accounting standards (other than IFRS or US GAAP) and file with the US SEC (because their shares or depositary receipts based on their shares trade in the United States) are required to reconcile their net income and shareholders’ equity accounts to US GAAP. "
   ]
  },
  {
   "cell_type": "markdown",
   "metadata": {},
   "source": [
    "## Projecting a Company’s Future Financial Performance\n",
    "Projections of financial performance are used in equity valuation and credit analysis. Data can come from financial statements, company projections, industry outlook, and macroeconomic forecasts. Past performance is more useful for mature companies than start-ups.\n",
    "### Projecting Performance: An Input to Market-Based Valuation\n",
    "Recent performance could be used for a market-based valuation. For example, recent EPS could be used along with a projected P/E to get a target price.\n",
    "\n",
    "Sales forecasts are typically arrived at using a top-down approach based on relationships between a company's sales and key macroeconomic or industry-level inputs.\n",
    "\n",
    "Various methods can be used to project income and cash flow from sales forecasts. Historical profit margins can be useful for this, especially for mature companies with stable performance records. Forecasts should exclude the impact of `non-recurring items`.\n",
    "### Projecting Multiple-Period Performance\n",
    "Multi-period projections are particularly important for discounted cash flow valuations and credit analysis. Past relationships can be used as the basis for forecasts of sales, gross margins, other expenses, and investments in fixed assets and working capital.\n",
    "\n",
    "Scenario analysis and Monte Carlo simulation can be used to better understand the range of possible results. It is important to ensure the outputs of quantitative forecasting methods are internally consistent.\n",
    "\n",
    "Depending on the use of the forecast, an analyst may choose to compute further, more specific cash flow metrics. For example, `free cash flow to equity`, which is used in discounted cash flow approaches to equity valuation, can be estimated as net income adjusted for noncash items, minus investment in net working capital and in net fixed assets, plus net borrowing.\n",
    "\n",
    "Expenses other than cost of goods sold may be broken down into more detailed line items, each of which may be forecasted on the basis of its relationship with sales (if variable) or on the basis of its historical levels. Working capital requirements may be estimated as a proportion of the amount of sales or the change in sales or as a compilation of specific forecasts for inventory, receivables, and payables. Most forecasts will involve some investment in fixed assets, in which case, depreciation amounts affect taxable income and net income but not cash flow.\n",
    "\n",
    "Quantifying the risk in forecasts requires an analysis of the economics of the company’s businesses and expense structure and the potential impact of events affecting the company, the industry, and the economy in general. When that investigation is completed, the analyst can use scenario analysis or Monte Carlo simulation to assess risk. Scenario analysis involves specifying assumptions that differ from those used as the base-case assumptions. A Monte Carlo simulation involves specifying probability distributions of values for variables and random sampling from those distributions. \n",
    "\n",
    "More detailed projections of income statement, balance sheet, and cash flow statement items. For example, an analyst may collect information on normal inventory and receivables turnover and use this information to forecast accounts receivable, inventory, and cash flows based on sales projections rather than use a composite working capital investment assumption"
   ]
  },
  {
   "cell_type": "code",
   "execution_count": null,
   "metadata": {},
   "outputs": [],
   "source": [
    "# EXAMPLE 4\n"
   ]
  },
  {
   "cell_type": "markdown",
   "metadata": {},
   "source": [
    "Example:<br>\n",
    "Consistency of Forecasts\n",
    "\n",
    "Brown Corporation, a hypothetical company, had an average days-of-sales-outstanding (DSO) period of 19 days in 2017. An analyst thinks that Brown’s DSO will decline in 2018 (because of expected improvements in the company’s collections department) to match the industry average of 15 days. Total sales (all on credit) in 2017 were \\\\$300 million, and Brown expects total sales (all on credit) to increase to $320 million in 2018. To achieve the lower DSO, the change in the average accounts receivable balance from 2017 to 2018 that must occur is closest to:"
   ]
  },
  {
   "cell_type": "code",
   "execution_count": null,
   "metadata": {},
   "outputs": [],
   "source": [
    "# "
   ]
  },
  {
   "cell_type": "markdown",
   "metadata": {},
   "source": [
    "## Assessing the Credit Quality of a Potential Debt Investment\n",
    "Credit analysis is the evaluation of `credit risk`, which is the possibility of losses due to a counterparty's failure to meet its payment obligations. Because debt obligations are almost always met with cash, credit analysts give particular attention to metrics based on operating cash flows.\n",
    "\n",
    "Factors that are considered as part of a quantitative credit analysis include:\n",
    "- Scale: Companies with a history of success and strong purchasing power relative to their suppliers are better positioned to respond to adverse events and market conditions. Larger companies also typically have better access to capital markets.\n",
    "- Business profile: Companies are more creditworthy if they have relatively stable and predictable profit margins and cash flows. A geographically diverse customer base is also beneficial.\n",
    "- Leverage tolerance: Companies with lower costs, especially lower fixed costs, are better positioned to meet their borrowing obligations.\n",
    "- Financial policy: Companies with more debt in the capital structure have a lower ability to tolerate financial risk.\n",
    "\n",
    "Credit analysts must use their judgment in deciding how much weight to give to each factor."
   ]
  },
  {
   "cell_type": "markdown",
   "metadata": {},
   "source": [
    "## Screening for Potential Equity Investments\n",
    "Screening is the application of certain criteria to identify stocks that offer attractive investment opportunities and filter out less attractive stocks. This technique can be incorporated into both the top-down and bottom-up approaches to security selection.\n",
    "\n",
    "Often, screening criteria are based on financial ratios. For example, an analyst may specify a minimum operating profit margin of 15% to filter out companies that do not meet this threshold. Alternatively, the analyst may establish a screen based on a maximum debt-to-equity ratio of 40% to exclude companies with relatively high financial leverage.\n",
    "\n",
    "Analysts typically use multiple criteria, which can serve as a check on each other. For example, using both of the above criteria together would filter out companies that have operating profit margins above 15% if their debt-to-equity ratio is greater than 40%.\n",
    "\n",
    "If the criteria are uncorrelated with each other, we can determine the number of stocks that will pass through the screening process by using the multiplication rule for independent events.\n",
    "\n",
    "Consider the example of a pool of 100 stocks in which 10% of companies have operating profit margins above 15% and 20% have debt-to-equity ratios less than 40%. If these two criteria are independent, we can expect two stocks (10%×20%=2%) to pass through both screens. If the screening process yields more than two stocks, we know that there is at least a partial positive correlation between high operating profitability and low financial leverage.\n",
    "\n",
    "Investors are likely to choose screening criteria that are consistent with their preferred investment style (e.g., value, growth, market-oriented). The stocks that make it through a multi-criteria screening process are often concentrated in a particular sector.\n",
    "\n",
    "Back-testing can be done to see how a particular screen would have performed in the past. However, the results can be suspect due to the possibility of certain biases:\n",
    "\n",
    "- Survivorship bias exists if the data includes only companies or funds that have survived to the end of the data period.\n",
    "- Look-ahead bias occurs if screens are based on data that would not have been available when the investment decision was made.\n",
    "- Data-snooping refers to using the same dataset as other researchers to test the same or similar screens.\n",
    "\n",
    "\n",
    "Metrics such as low P/E and low P/BV are aimed at selecting value companies."
   ]
  },
  {
   "cell_type": "markdown",
   "metadata": {},
   "source": [
    "## Common Types of Analyst Adjustments\n",
    "### A Framework for Analyst Adjustments\n",
    "The task of comparing companies' financial statements can be complicated by several factors:\n",
    "1. Companies adhere to different sets of accounting standards (e.g., IFRS, US GAAP).\n",
    "2. Companies may choose between different methods and models (e.g., historical cost, fair value)\n",
    "3. Companies have some discretion in making estimates (e.g., useful lives of PP&E)\n",
    "\n",
    "Analysts may find it necessary to make adjustments to a company's reported financial statements, particularly when such adjustments would have a material impact on the outcome of their work."
   ]
  },
  {
   "cell_type": "markdown",
   "metadata": {},
   "source": [
    "### Analyst Adjustments Related to Investments\n",
    "Under both IFRS and US GAAP, managers may exercise some discretion over whether to designate corporate investments as, for example, \"available-for-sale\" or \"fair value through profit or loss.\" Depending on how these securities are classified, changes in their fair value may be recognized directly on the income statement or bypass the income statement to be recorded as other comprehensive income.\n",
    "\n",
    "When securities are classified as “financial assets measured at fair value through profit or loss” (similar to “trading” securities in US GAAP), unrealized gains and losses are reported in the income statement. When securities are classified as “financial assets measured at fair value through other comprehensive income” (similar to “available-for-sale” securities in US GAAP), unrealized gains and losses are not reported in the income statement and, instead, are recognized in equity. \n",
    "### Analyst Adjustments Related to Inventory\n",
    "A company's choice of inventory valuation methods will impact its assets (inventory) and expenses (COGS). The income statement impact will extend to profits and income tax expense. Because the LIFO method is allowed by US GAAP and prohibited by IFRS, adjustments will be necessary when comparing companies that adhere to these different standards.\n",
    "\n",
    "If a company uses the LIFO method, an analyst can take the following steps to restate its financial statement in FIFO terms:\n",
    "- Increase the inventory balance by the amount of the LIFO reserve\n",
    "- Decrease COGS expense by the amount of the change in the LIFO reserve\n",
    "To recast inventory values for a company using LIFO reporting on a FIFO basis, the analyst adds the ending balance of the LIFO reserve to the ending value of inventory under LIFO accounting. To adjust cost of goods sold to a FIFO basis, the analyst subtracts the change in the LIFO reserve from the reported cost of goods sold under LIFO accounting."
   ]
  },
  {
   "cell_type": "markdown",
   "metadata": {},
   "source": []
  },
  {
   "cell_type": "code",
   "execution_count": null,
   "metadata": {},
   "outputs": [],
   "source": []
  },
  {
   "cell_type": "markdown",
   "metadata": {},
   "source": [
    "### Adjustments Related to Property, Plant, and Equipment (Calculations)\n",
    "Accounting standards allow managers to exercise considerable judgment over the factors that determine depreciation expense, such as estimates of useful life and residual value. Choices regarding methodology (e.g., straight-line, accelerated, usage-based) can have significant effects on a company's financial statements.\n",
    "\n",
    "Financial statement disclosures are often insufficient to allow for specific comparison, but analysts may use the following ratios as indicators of a company's use of its fixed assets:\n",
    "\n",
    "$\\frac{Accumulated\\ Depreciation}{Gross\\ PPE}$→ Share of useful life that has passed\n",
    "\n",
    "$\\frac{Accumulated\\ Depreciation}{Depreciation\\ Expense}$→ Average age of asset base\n",
    "\n",
    "$\\frac{Net\\ PPE}{Depreciation\\ Expense}$→ Years of useful life remaining\n",
    "\n",
    "$\\frac{Gross\\ PPE}{Depreciation\\ Expense}$→ Average life of assets at acquisition\n",
    "\n",
    "$\\frac{CapEx}{Gross\\ PPE + CapEx}$→ Share of asset based being renewed"
   ]
  },
  {
   "cell_type": "markdown",
   "metadata": {},
   "source": [
    "### Adjustments Related to Goodwill\n",
    "Goodwill results from corporate acquisitions when the purchase price exceeds the fair value of the acquired firm's net identifiable assets. Goodwill is reported as an asset of the acquirer's balance sheet and is tested annually for impairment. Companies that pursue a strategy of growing through acquisitions can effectively capitalize on certain expenses as goodwill.\n",
    "\n",
    "Adjustments for goodwill will be required when comparing companies using ratios based on assets and/or income (e.g., ROA). Analysts may choose to deduct the amount of goodwill from a company's assets and equity."
   ]
  }
 ],
 "metadata": {
  "kernelspec": {
   "display_name": "Python 3",
   "language": "python",
   "name": "python3"
  },
  "language_info": {
   "codemirror_mode": {
    "name": "ipython",
    "version": 3
   },
   "file_extension": ".py",
   "mimetype": "text/x-python",
   "name": "python",
   "nbconvert_exporter": "python",
   "pygments_lexer": "ipython3",
   "version": "3.7.3"
  }
 },
 "nbformat": 4,
 "nbformat_minor": 4
}
