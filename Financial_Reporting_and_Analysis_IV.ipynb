{
 "cells": [
  {
   "cell_type": "markdown",
   "metadata": {},
   "source": [
    "# Financial Reporting Quality"
   ]
  },
  {
   "cell_type": "code",
   "execution_count": 2,
   "metadata": {},
   "outputs": [],
   "source": [
    "import pandas as pd"
   ]
  },
  {
   "cell_type": "markdown",
   "metadata": {},
   "source": [
    "## Introduction & Conceptual Overview\n",
    "### GAAP, Decision Useful Financial Reporting\n",
    "These quality financial reports conform to generally accepted accounting principles (GAAP) or other applicable accounting standards. Information is useful if it is relevant and representative of economic reality. Other desirable characteristics include comparability, verifiability, timeliness, and understandability.\n",
    "\n",
    "Companies should present financial information in a manner that is easily understandable and avoid creating false impressions in the minds of investors. To this end, companies are not allowed to give more prominence to non-GAAP financial measures in SEC filings.\n",
    "\n",
    "Returns are considered \"adequate\" if they meet or exceed investors' expectations.\n",
    "### GAAP, Decision-Useful, but Sustainable?\n",
    "In this category, financial reporting is high-quality, but earnings are not considered sustainable. The return could be expected to decrease or be insufficient to sustain the company. For example, a windfall due to exchange rate fluctuations is clearly not a sustainable source of profit for a manufacturing company.\n",
    "### Biased Accounting Choices\n",
    "Biased financial reports hinder an investor’s ability to accurately assess the past and present condition of a company. Biased choices may be either too aggressive or too conservative.\n",
    "\n",
    "Aggressive choices increased current profits, which can intuitively be understood as misleading. By contrast, conservative accounting choices may seem desirable because managers are not overstating the company's performance. However, conservative accounting choices may be used to create \"hidden reserves\" that can be drawn upon during a downturn to smooth out earnings over the business cycle.\n",
    "\n",
    "Ultimately, both aggressive and conservative biases reduce the quality of financial reporting by creating an impression of a company's performance that fails to accurately reflect its economic reality.\n",
    "### Within GAAP, but \"Earnings Management\"\n",
    "Biased accounting choices cross the line into earnings management when there is a deliberate intent to affect reported earnings and their interpretation. In addition to purely accounting choices, managers may seek to manipulate earnings through \"real\" decisions, such as delaying spending on maintenance until the next reporting period. However, the distinction between biased choices and earning management is subtle because it is often very difficult to prove intent.\n",
    "### Departures from GAAP\n",
    "It is difficult, if not impossible, to assess the earnings quality of companies at this end of the spectrum because their financial reports are often based on fictitious transactions. Enron and WorldCom are two well-known examples of companies that have deceived investors by issuing fraudulent financial reports."
   ]
  },
  {
   "cell_type": "markdown",
   "metadata": {},
   "source": [
    "### Differentiate between Conservative and Aggressive Accounting\n",
    "Aggressive accounting choices may include recognizing revenue early or deferring the recognition of expenses. Managers are often motivated to make such choices in order to create the impression of better short-term performance.\n",
    "\n",
    "Conservative accounting choices reduce a company's profits in the current reporting period in order to increase future profits. Investors may prefer conservative choices they create the potential for positive earnings surprises, which are desirable.\n",
    "\n",
    "However, as noted earlier, there is \"good\" bias, the are only choices that accurately represent a company's underlying economics and those that do not. Ideally, financial reporting choices should be neither aggressive nor conservative, but unbiased.\n",
    "\n",
    "`Non-GAAP earnings/core earnings`\n",
    "\n",
    "#### Conservatism in Accounting Standards\n",
    "The conceptual frameworks behind IFRS and US GAAP support the ideal of neutrality. That is, the information presented in financial reports should be unaffected by any biases.\n",
    "\n",
    "However, many of the standards included in IFRS and US GAAP have a conservative bias. For example, US GAAP requires long-lived assets to be written down if they are deemed to be impaired, but prohibit upward adjustments if the asset's fair value subsequently increases.\n",
    "\n",
    "There may be valid reasons to \"err on the side of caution\" in financial reports. For example, companies that issue more conservative statements are less likely to be sue if future results are disappointing. However, analysts must be aware that conservative biases are still biases.\n",
    "\n",
    "Examples of Conservatism:<br>\n",
    "- Research costs. Because the future benefit of research costs is uncertain at the time the costs are incurred, both US GAAP and IFRS require immediate expensing instead of capitalization.\n",
    "- Litigation losses. When it becomes “probable” that a cost will be incurred, both US GAAP and IFRS require expense recognition, even though a legal liability may not be incurred until a future date.\n",
    "- Insurance recoverables. Generally, a company that receives payment on an insurance claim may not recognize a receivable until the insurance company acknowledges the validity of the claimed amount.\n",
    "\n",
    "#### Bias in the Application of Accounting Standards\n",
    "Judgment will always be required in the application of accounting standards and managers will often seek to use this to their advantage. Some companies have intentionally generated large current period losses to create a \"cookie jar\" of reserves that can be used to increase profits in later periods, a practice known as \"big bath accounting.\""
   ]
  },
  {
   "cell_type": "markdown",
   "metadata": {},
   "source": [
    "## Motivations\n",
    "Management may be motivated to issue low-quality reports to mask poor performance or avoid breaching debt covenants.\n",
    "\n",
    "Even if the company's underlying performance is positive, concealing this information can lead to positive earnings surprises that increase the value of stock-based compensation.\n",
    "\n",
    "Conditions Conducive to Issuing Low-Quality Financial Reports\n",
    "Three conditions usually accompany the issuance of low-quality financial reports:\n",
    "\n",
    "Opportunity created by internal or external factors (e.g., poor internal controls, insufficient regulatory oversight).\n",
    "Motivation rooted in performance expectations or personal circumstances.\n",
    "Rationalization of decisions that the individual knows, on some level, to be wrong.\n",
    "Mechanisms That Discipline Financial Reporting Quality\n",
    "The cost of capital is affected by the perception of risk. Therefore, companies have a market-based incentive to reduce their risk by issuing accurate financial statements. Other mechanisms that are used to increase the quality of financial reporting include regulation, auditors, and private contracts.\n",
    "\n",
    "#### Market Regulatory Authorities\n",
    "The International Organization of Securities Commissions (IOSCO) establishes principles and objectives that are used as guidance by its members, which include securities regulators (e.g., SEC) and other market participants (e.g., NYSE).\n",
    "\n",
    "The following features of regulation directly impact financial reporting quality:\n",
    "\n",
    "Registration requirements: Required documentation includes relevant information about the issuer's prospects and risk exposures.\n",
    "Disclosure requirements: Periodic reports are usually required. Standards are often set by self-regulatory bodies (e.g., IASB, FASB) and enforced by regulators.\n",
    "Auditing requirements: Opinions must state that financial statements conform to relevant standards. Some regulators also require opinions on internal controls.\n",
    "Management commentaries: May include a \"fair review\" of an issuer's business and a description of its risk exposures.\n",
    "Responsibility statements: Individuals who attest to the correctness of corporate statements may be held personally responsible for inaccuracies.\n",
    "Enforcement mechanisms: Regulators can enforce compliance through fines, suspensions, or even criminal prosecutions.\n",
    "#### Auditors\n",
    "Independent audit opinions give investors some assurance that a company's financial statements are fairly presented. An additional opinion may be given on the effectiveness of the company's internal controls.\n",
    "\n",
    "There are several limitations of audit opinions:\n",
    "\n",
    "Companies may make deliberate efforts to deceive their auditors.\n",
    "Audits are based on samples, not an exhaustive review of all relevant information.\n",
    "An audit is not intended to detect fraud, only to provide some assurance of fair presentation.\n",
    "Auditors are paid directly by the company being audited, which can create an incentive for leniency.\n",
    "#### Private Contracting\n",
    "Private contracts (e.g., loan agreements) can serve as a disciplining mechanism for financial reporting. Lenders have strong incentives to ensure that borrowers are providing high-quality information in their financial reports."
   ]
  },
  {
   "cell_type": "markdown",
   "metadata": {},
   "source": [
    "## Detection of Financial Reporting Quality Issues: Introduction & Presentation Choices\n",
    "Management can choose among many accounting standards and estimates, which allows them to meet analysts’ expectations. Choices exist for both presentation and calculations. The latter is very difficult to deduce from accounting statements. Managers can lean towards aggressive or conservative choices, which affect the performance reporting in the current and later periods.\n",
    "\n",
    "### Presentation Choices\n",
    "In the 1990s and early 2000s, many companies resorted to creative reporting schemes to justify high valuations. Poor operating results were often disguised as \"restructuring charges.\"\n",
    "\n",
    "Companies issued \"pro forma\" financial reports that included `non-GAAP measures`. Earnings before interest, taxes, depreciation, and amortization (EBITDA) became a widely-used metric. Many companies would add to the list of exclusions from net income.  To assist investors in evaluating operating performance, companies often report non-GAAP earnings by excluding asset impairment charges either for long-lived assets, goodwill, or other intangible assets.\n",
    "- Rental payments for operating leases, resulting in EBITDAR (earnings before interest, taxes, depreciation, amortization, and rentals);\n",
    "- Equity-based compensation, usually justified on the grounds that it is a non-cash expense;\n",
    "- Acquisition-related charges;\n",
    "- Impairment charges for goodwill or other intangible assets;\n",
    "- Impairment charges for long-lived assets;\n",
    "- Litigation costs; and\n",
    "- Loss/gain on debt extinguishments.\n",
    "\n",
    "**Under current rules, companies must explain the use of non-GAAP and non-IFRS financial measures.**\n",
    "### Accounting Choices and Estimates \n",
    "#### Impact on Earnings and Balance Sheets\n",
    "Relatively minor decisions by management, such as shipping terms, can have a significant impact on a company's income statement. Companies could time the revenue recognition by shipping items the day before or the day after the end of a quarter. Companies can manipulate their reported results by changing estimates of the non-collection rate on credit sales.\n",
    "\n",
    "A company's accounting choices with respect to inventory (e.g., FIFO vs. LIFO), depreciation (e.g., straight-line vs. accelerated), and capitalization (vs. expensing) will have a potentially significant impact on both the balance sheet and income statement.\n",
    "\n",
    "Deferred tax assets can be suspect if future profits are not expected to be sufficient to offset the losses carried forward. Allocating the purchase price in an acquisition also requires judgment, which allows for the possibility of biased reporting choices.\n",
    "#### Impact on Cash Flow Statement\n",
    "The cash flow statement is divided into three sections: operating, investing, and financing. Many investors focus on the operating section to validate reported earnings.\n",
    "\n",
    "Operating cash flows can be calculated using either the direct or indirect method. Most companies use the indirect method, which shows a reconciliation from net income to cash from operations.\n",
    "\n",
    "Analysts should study changes in the operating cash flow section to catch manipulation. Suspicion is aroused if *net income is consistently greater than cash flow*. Management knows that operating cash flow is scrutinized, so they sometimes try to classify outgoing cash flow to the investing and financing categories.\n",
    "\n",
    "Companies typically try to maximize cash from operations. This can be done through flexibility allowed in the classification of interest paid and interest and dividends received.\n",
    "- If the managers believe that cash generated from operations is a metric of focus for investors, they can impress them with artificially strong cash flow by simply stretching the accounts payable credit period.\n",
    "- changes in the working capital can reveal unusual patterns that may indicate manipulation of the cash provided by operations.\n",
    "- Cash generated by operations in excess of net income signifies better quality of earnings, whereas a chronic excess of net income over cash generated by operations should be a cause for concern; it may signal the use of accounting methods to simply raise net income instead of depicting financial reality.\n",
    "- compare cash generated by operations with debt service, capital expenditures, and dividends (if any). When there is a wide variance between the company’s cash generation performance and that of its benchmarks, investors should seek an explanation and carefully examine the changes in working capital accounts.\n",
    "- A company may misclassify operating uses of cash into either the investing or financing sections of the cash flow statement, which enhances the appearance of cash generated by operating activities.\n",
    "- Investors and analysts need to be aware that presentation choices permitted in IAS 7, “Statement of Cash Flows,” offer flexibility in classification of certain items in the cash flow statement. This flexibility can drastically change the results in the operating section of the cash flow statement. By allowing a choice of operating or financing for the placement of `interest and dividends received or paid`, IAS 7 gives a company’s managers the opportunities to select the presentation that gives the best-looking picture of operating performance. \n",
    "\n",
    "### Warning Signs\n",
    "#### Revenue\n",
    "Revenue recognition policies should be analyzed carefully. For example, companies that use bill-and-hold arrangements may recognize revenue before the associated goods have been shipped to customers. Details about rebate programs can also have a significant impact on the amount of reported revenue.\n",
    "\n",
    "A company's revenue growth rate should be compared in the context of its peer group. A notable increase in accounts receivable as a share of revenue may be an indication of deteriorating revenue quality. A decreasing asset turnover ratio suggests that assets are being used less productively.\n",
    "#### Inventory signals\n",
    "Rapid inventory growth and a lower inventory turnover ratio may be signs of obsolescence problems.\n",
    "#### Capitalization policies and deferred costs\n",
    "Improper capitalization leads to overstated earnings. A company's policies of a company should be compared to those of its peers.\n",
    "#### Relationship between cash flow and net income\n",
    "Companies need cash to continue operating and, over the long run, net income must be consistent with operating cash flows. Rising net income during a period of lower operating cash flows may be an indication of accounting irregularities.\n",
    "#### Other\n",
    "Other areas should be analyzed include:\n",
    "- Fourth-quarter surprises that cannot be attributed to seasonality\n",
    "- Related-party transactions\n",
    "- Treating one-time sales and non-operating items as revenue\n",
    "- Classifying expenses as non-recurring\n",
    "- Minimal management disclosures\n",
    "- Use of non-GAAP measures"
   ]
  },
  {
   "cell_type": "code",
   "execution_count": 7,
   "metadata": {},
   "outputs": [],
   "source": [
    "df = pd.read_csv('AreasWhereChoicesandEstimatesAffectFinancialReporting.csv', delimiter='\\t')"
   ]
  },
  {
   "cell_type": "markdown",
   "metadata": {},
   "source": [
    "# Applications of Financial Statement Analysis"
   ]
  },
  {
   "cell_type": "markdown",
   "metadata": {},
   "source": [
    "TBC"
   ]
  }
 ],
 "metadata": {
  "kernelspec": {
   "display_name": "Python 3",
   "language": "python",
   "name": "python3"
  },
  "language_info": {
   "codemirror_mode": {
    "name": "ipython",
    "version": 3
   },
   "file_extension": ".py",
   "mimetype": "text/x-python",
   "name": "python",
   "nbconvert_exporter": "python",
   "pygments_lexer": "ipython3",
   "version": "3.7.3"
  }
 },
 "nbformat": 4,
 "nbformat_minor": 4
}
